{
 "metadata": {
  "language_info": {
   "codemirror_mode": {
    "name": "ipython",
    "version": 3
   },
   "file_extension": ".py",
   "mimetype": "text/x-python",
   "name": "python",
   "nbconvert_exporter": "python",
   "pygments_lexer": "ipython3",
   "version": "3.8.5"
  },
  "orig_nbformat": 2,
  "kernelspec": {
   "name": "python3",
   "display_name": "Python 3.8.5 64-bit ('SNMF_EDXS--pNpjmq1': pipenv)"
  },
  "interpreter": {
   "hash": "ae2bec25d04a58403981d6892379486339cbb2cd6f315f3a399785dd0e4b6656"
  }
 },
 "nbformat": 4,
 "nbformat_minor": 2,
 "cells": [
  {
   "cell_type": "code",
   "execution_count": null,
   "metadata": {},
   "outputs": [],
   "source": [
    "%load_ext autoreload\n",
    "%autoreload 2\n",
    "%matplotlib inline"
   ]
  },
  {
   "cell_type": "code",
   "execution_count": null,
   "metadata": {},
   "outputs": [],
   "source": [
    "import numpy as np\n",
    "import multiprocessing\n",
    "from snmfem.updates import dichotomy_simplex\n",
    "import tqdm"
   ]
  },
  {
   "cell_type": "code",
   "execution_count": null,
   "metadata": {},
   "outputs": [],
   "source": [
    "k = 5\n",
    "p = 6400\n",
    "span = np.logspace(-8,8,num=17)\n",
    "iter = 100\n",
    "TIMEOUT = 5"
   ]
  },
  {
   "cell_type": "code",
   "execution_count": null,
   "metadata": {},
   "outputs": [],
   "source": [
    "for i in tqdm.tqdm(range(iter)) : \n",
    "    scale_num = np.random.choice(span,size=(k,p))\n",
    "    num = scale_num * np.random.rand(k,p)\n",
    "    scale_denum = np.random.choice(span,size=(k,p))\n",
    "    denum = scale_denum * np.random.rand(k,p)\n",
    "    dichotomy_simplex(num, denum)\n",
    "    # process = multiprocessing.Process(target=dichotomy_simplex, name=\"fonction de ses morts\", args=(num,denum))\n",
    "    # process.start()\n",
    "    # process.join(TIMEOUT)\n",
    "    # if process.is_alive() :\n",
    "    #     print('function terminated')\n",
    "    #     N, D = num, denum\n",
    "    #     process.terminate()\n",
    "    #     process.join()\n",
    "    #     break"
   ]
  },
  {
   "source": [
    "# Tentative de faire un plot interactif des SpIm"
   ],
   "cell_type": "markdown",
   "metadata": {}
  },
  {
   "cell_type": "code",
   "execution_count": null,
   "metadata": {},
   "outputs": [],
   "source": [
    "import hyperspy.api as hs \n",
    "import numpy as np\n",
    "import snmfem.conf as conf\n",
    "from pathlib import Path\n",
    "import json\n",
    "\n",
    "data_json = conf.SCRIPT_CONFIG_PATH / Path(\"dataset_EDXS_small.json\")\n",
    "with open(data_json,\"r\") as f :\n",
    "    data_dict = json.load(f)\n",
    "\n",
    "num_list = [0]\n",
    "data_folder = conf.DATASETS_PATH / Path(data_dict[\"data_folder\"])\n",
    "samples = [data_folder / Path(\"sample_{}.npz\".format(i)) for i in num_list ]\n",
    "\n",
    "def load_data(sample) : \n",
    "    data = np.load(sample)\n",
    "    X = data[\"X\"]\n",
    "    nx, ny, ns = X.shape\n",
    "    Xflat = X.transpose([2,0,1]).reshape(ns, nx*ny)\n",
    "    densities = data[\"densities\"]\n",
    "    phases = data[\"phases\"]\n",
    "    true_spectra_flat = np.expand_dims(densities, axis=1) * phases * data[\"N\"]\n",
    "    true_maps = data[\"weights\"]\n",
    "    k = true_maps.shape[2]\n",
    "    true_maps_flat = true_maps.transpose([2,0,1]).reshape(k,nx*ny)\n",
    "    G = data[\"G\"]\n",
    "    return Xflat, true_spectra_flat, true_maps_flat, G\n",
    "\n"
   ]
  },
  {
   "cell_type": "code",
   "execution_count": null,
   "metadata": {},
   "outputs": [],
   "source": [
    "nx,ny = data_dict[\"weights_parameters\"][\"shape_2D\"]\n",
    "e_size = data_dict[\"model_parameters\"][\"e_size\"]\n",
    "X = load_data(samples[0])[0].T.reshape(nx,ny,e_size)\n",
    "S = hs.signals.Signal1D(X)"
   ]
  },
  {
   "cell_type": "code",
   "execution_count": null,
   "metadata": {},
   "outputs": [],
   "source": [
    "roi=hs.roi.RectangularROI(3,3,18,20)\n",
    "S.plot(navigator=\"auto\")\n",
    "spim_ROI=roi.interactive(S)\n",
    "    \n",
    "sum_ROI=hs.interactive(spim_ROI.sum,\n",
    "               event=spim_ROI.axes_manager.events.any_axis_changed,\n",
    "               recompute_out_event=None)\n",
    "sum_ROI.plot()"
   ]
  },
  {
   "source": [
    "# Plot results"
   ],
   "cell_type": "markdown",
   "metadata": {}
  },
  {
   "cell_type": "code",
   "execution_count": null,
   "metadata": {},
   "outputs": [],
   "source": [
    "from snmfem.conf import RESULTS_PATH, DATASETS_PATH\n",
    "from snmfem.experiments import load_data\n",
    "from pathlib import Path\n",
    "import matplotlib.pyplot as plt\n",
    "file = \"best_lambda.npz\"\n",
    "dataset_path = DATASETS_PATH / Path(\"aspim037_N100_2ptcls_brstlg/sample_4.npz\")\n",
    "path = RESULTS_PATH / Path(file)\n",
    "data = np.load(path)\n",
    "X,true_spectra,true_maps,G,shape_2d = load_data(dataset_path)"
   ]
  },
  {
   "cell_type": "code",
   "execution_count": null,
   "metadata": {},
   "outputs": [],
   "source": [
    "GP = data[\"GP\"]\n",
    "A = data[\"A\"]\n",
    "metrics = data[\"metrics\"]\n",
    "losses = data[\"losses\"]"
   ]
  },
  {
   "cell_type": "code",
   "execution_count": null,
   "metadata": {},
   "outputs": [],
   "source": [
    "\n",
    "fig,axes = plt.subplots(3,3,figsize= (50,50))\n",
    "for i in range(3) : \n",
    "    axes[i,0].plot(true_spectra[i],'bo',label='truth',markersize = 5)\n",
    "    axes[i,0].plot(GP[:,i],'r-',label='reconstructed',linewidth = 2)\n",
    "    axes[i,1].imshow(A[i].reshape(shape_2d))\n",
    "    axes[i,2].imshow(true_maps[i].reshape(shape_2d))\n",
    "axes[0,0].legend(fontsize = 22)\n",
    "axes[0,0].set_title(\"True vs reconstructed spectra\",fontsize = 22)\n",
    "axes[0,1].set_title(\"Reconstructed maps\",fontsize = 22)\n",
    "axes[0,2].set_title(\"True maps\",fontsize = 22)\n",
    "    "
   ]
  },
  {
   "cell_type": "code",
   "execution_count": null,
   "metadata": {},
   "outputs": [],
   "source": [
    "fig, axes = plt.subplots(1,len(losses.dtype),figsize=(50,10))\n",
    "for i,key in enumerate(losses.dtype.names) : \n",
    "    axes[i].plot(losses[key])\n",
    "    axes[i].set_title(key,fontsize = 22)"
   ]
  },
  {
   "cell_type": "code",
   "execution_count": null,
   "metadata": {},
   "outputs": [],
   "source": [
    "import snmfem.measures as m\n",
    "import numpy as np \n",
    "import matplotlib.pyplot as plt \n",
    "\n",
    "a = 130*np.random.rand(3,256)\n",
    "c = 23*np.random.rand(3,256)\n",
    "ac = m.square_distance(a,c)\n",
    "b = m.square_distance(a,np.zeros_like(a))\n",
    "x = ac/b"
   ]
  },
  {
   "cell_type": "code",
   "execution_count": null,
   "metadata": {},
   "outputs": [],
   "source": [
    "plt.imshow(ac)\n",
    "plt.colorbar()"
   ]
  },
  {
   "cell_type": "code",
   "execution_count": null,
   "metadata": {},
   "outputs": [],
   "source": [
    "plt.imshow(b)\n",
    "plt.colorbar()"
   ]
  },
  {
   "cell_type": "code",
   "execution_count": null,
   "metadata": {},
   "outputs": [],
   "source": [
    "plt.imshow(x)\n",
    "plt.colorbar()"
   ]
  },
  {
   "cell_type": "code",
   "execution_count": null,
   "metadata": {},
   "outputs": [],
   "source": [
    "for i in range(b.shape[0])  : \n",
    "    b[i,i] = 1"
   ]
  },
  {
   "source": [
    "# Plots for PICO poster"
   ],
   "cell_type": "markdown",
   "metadata": {}
  },
  {
   "cell_type": "code",
   "execution_count": null,
   "metadata": {
    "tags": []
   },
   "outputs": [],
   "source": [
    "from snmfem.models import edxs\n",
    "import numpy as np\n",
    "from snmfem.models import EDXS_function as f\n",
    "import matplotlib.pyplot as plt \n",
    "import hyperspy.api as hs\n",
    "from scipy.optimize import curve_fit\n",
    "\n",
    "file = \"1135 EDS-HAADF.emd\"\n",
    "s1, haadf, spim = hs.load(file)\n",
    "offset = spim.axes_manager[2].offset\n",
    "size = spim.axes_manager[2].size\n",
    "scale = spim.axes_manager[2].scale\n",
    "max = offset + scale * size\n",
    "\n",
    "x = np.linspace(offset,max,num= size)\n",
    "spectrum = np.average(spim.data,axis= (0,1))\n",
    "db = \"default_xrays.json\"\n",
    "mod = edxs.EDXS(offset,size,scale,{},db_name = db)\n",
    "mod.generate_g_matr([79])"
   ]
  },
  {
   "cell_type": "code",
   "execution_count": null,
   "metadata": {},
   "outputs": [],
   "source": [
    "x1 = x[2230:2280]\n",
    "x2 = x[2920:3000]\n",
    "xdata = np.concatenate((x1,x2))\n",
    "y1 = spectrum[2230:2280]\n",
    "y2 = spectrum[2920:3000]\n",
    "ydata = np.concatenate((y1,y2))\n",
    "\n",
    "def droite (x,a,b) : \n",
    "    return a*x + b\n",
    "\n",
    "popt, pcov = curve_fit(droite, xdata, ydata)\n",
    "\n",
    "bkgdL = droite(x,*popt)"
   ]
  },
  {
   "cell_type": "code",
   "execution_count": null,
   "metadata": {},
   "outputs": [],
   "source": [
    "x1 = x[350:400]\n",
    "x2 = x[700:800]\n",
    "xdata = np.concatenate((x1,x2))\n",
    "y1 = spectrum[350:400]\n",
    "y2 = spectrum[700:800]\n",
    "ydata = np.concatenate((y1,y2))\n",
    "\n",
    "def droite (x,a,b) : \n",
    "    return a*x + b\n",
    "\n",
    "popt, pcov = curve_fit(droite, xdata, ydata)\n",
    "\n",
    "bkgdM = droite(x,*popt)"
   ]
  },
  {
   "cell_type": "code",
   "execution_count": null,
   "metadata": {
    "tags": []
   },
   "outputs": [],
   "source": [
    "markers = [\"o-\",\".-\",\"--\",\">-\",\"^-\",\"<-\",\"s-\",\"p-\",\"X-\"]\n",
    "for i, line in enumerate(mod.G.T) : \n",
    "    plt.plot(line,markers[i],markevery= 10,label=str(i))\n",
    "    plt.plot(spectrum)\n",
    "    plt.xlim(200,1000)\n",
    "    plt.ylim(0,0.02)\n",
    "\n",
    "plt.legend()"
   ]
  },
  {
   "cell_type": "code",
   "execution_count": null,
   "metadata": {},
   "outputs": [],
   "source": [
    "plt.plot(x,spectrum,label=\"exp\")\n",
    "plt.plot(x,bkgdM + mod.G.T[0]*3.3e19,label=\"theo\")\n",
    "plt.ylim(0,0.08)\n",
    "plt.xlim(0,5)\n",
    "plt.legend()\n",
    "plt.title(\"Gold M Lines\")"
   ]
  },
  {
   "cell_type": "code",
   "execution_count": null,
   "metadata": {},
   "outputs": [],
   "source": [
    "plt.plot(x,spectrum,label=\"exp\")\n",
    "plt.plot(x,bkgdL + mod.G.T[0]*3.3e19,label=\"theo\")\n",
    "plt.ylim(0,0.025)\n",
    "plt.xlim(9,15)\n",
    "plt.legend()\n",
    "plt.title(\"Gold L Lines\")"
   ]
  },
  {
   "cell_type": "code",
   "execution_count": null,
   "metadata": {},
   "outputs": [],
   "source": [
    "plt.plot(x,mod.G)"
   ]
  },
  {
   "cell_type": "code",
   "execution_count": null,
   "metadata": {},
   "outputs": [],
   "source": [
    "np.savetxt(\"G_Zn.txt\",mod.G.T)"
   ]
  },
  {
   "cell_type": "code",
   "execution_count": null,
   "metadata": {},
   "outputs": [],
   "source": [
    "dict = {\"c0\" : 4.8935e-05, \n",
    "                                          \"c1\" : 1464.19810,\n",
    "                                          \"c2\" : 0.04216872,\n",
    "                                          \"b0\" : 0.15910789,\n",
    "                                          \"b1\" : -0.00773158,\n",
    "                                          \"b2\" : 8.7417e-04,\n",
    "                                          \"k\" : 3}\n",
    "\n",
    "s = hs.load(\"/mnt/c/Users/teurtrie/Travail/SNMF_EDXS/snmfem/Data/average_spectrum_1537.hspy\")\n",
    "s2 = s.isig[0.5:10.0]"
   ]
  },
  {
   "cell_type": "code",
   "execution_count": null,
   "metadata": {},
   "outputs": [],
   "source": [
    "E = np.linspace(0.2,20.0,num = 2000)\n",
    "\n",
    "plt.plot(E,b)\n",
    "plt.plot(E,d)\n",
    "plt.plot(E,a)\n",
    "plt.plot(E,a*b*d)"
   ]
  },
  {
   "cell_type": "code",
   "execution_count": null,
   "metadata": {},
   "outputs": [],
   "source": [
    "db = \"default_xrays.json\"\n",
    "mod = edxs.EDXS(0.49765,1900,0.005,{},db_name = db)\n",
    "mod.generate_g_matr([30])\n",
    "\n",
    "x = np.linspace(0.49765,1900*0.005 + 0.49765,num = 1900)\n",
    "b = f.bremsstrahlung(x,0.0053,-3.74e-5,3.55e-12)\n",
    "abs = f.simple_abs_coeff(x)\n",
    "d = f.detector(abs,3867,0.019)\n",
    "a = f.self_abs(abs,0.0082)\n",
    "plt.plot(x,s2.data,\"ko-\",markersize = 3,markevery = 20,label = \"experimental\")\n",
    "plt.plot(x,a*b*d,\"r\",label = \"model\",linewidth = 2)\n",
    "plt.plot(x,0.0035*mod.G.T[0] + a*b*d)\n",
    "plt.ylim(-0.001,0.05)\n",
    "plt.xlim(8,10)\n",
    "plt.xlabel(\"Energy (keV)\")\n",
    "plt.yticks([])\n",
    "plt.legend()\n",
    "plt.ylabel(\"Intensity (arb. unit)\")"
   ]
  },
  {
   "cell_type": "code",
   "execution_count": null,
   "metadata": {},
   "outputs": [],
   "source": [
    "array = np.vstack([x,s2.data,b*a*d])"
   ]
  },
  {
   "cell_type": "code",
   "execution_count": null,
   "metadata": {},
   "outputs": [],
   "source": [
    "np.savetxt(\"brem.txt\",array)"
   ]
  },
  {
   "cell_type": "code",
   "execution_count": null,
   "metadata": {},
   "outputs": [],
   "source": [
    "s = hs.load(\"/mnt/c/Users/teurtrie/Travail/SNMF_EDXS/snmfem/Data/71GPa_subsolidus.hspy\")"
   ]
  },
  {
   "cell_type": "code",
   "execution_count": null,
   "metadata": {},
   "outputs": [],
   "source": [
    "s.data = s.data.astype(\"float64\")\n",
    "s.decomposition(True,output_dimension = 3, algorithm = \"NMF\",max_iter = 1000)"
   ]
  },
  {
   "cell_type": "code",
   "execution_count": null,
   "metadata": {},
   "outputs": [],
   "source": [
    "sc = s.get_decomposition_factors()"
   ]
  },
  {
   "cell_type": "code",
   "execution_count": null,
   "metadata": {},
   "outputs": [],
   "source": [
    "y = sc.inav[1].data\n",
    "x = np.linspace(s.axes_manager[2].offset,s.axes_manager[2].scale * s.axes_manager[2].size + s.axes_manager[2].offset, num = s.axes_manager[2].size)"
   ]
  },
  {
   "cell_type": "code",
   "execution_count": null,
   "metadata": {},
   "outputs": [],
   "source": [
    "h = np.vstack((x,y))\n",
    "np.savetxt(\"nmf_artefacts.txt\",h)"
   ]
  },
  {
   "cell_type": "code",
   "execution_count": null,
   "metadata": {},
   "outputs": [],
   "source": [
    "import numpy as np\n",
    "import matplotlib.pyplot as plt \n",
    "a = np.load(\"/mnt/c/Users/teurtrie/Travail/SNMF_EDXS/results/dump.npz\")\n",
    "m = a[\"A\"][0,:]"
   ]
  },
  {
   "cell_type": "code",
   "execution_count": null,
   "metadata": {},
   "outputs": [],
   "source": [
    "plt.imshow(m.reshape(80,80))"
   ]
  },
  {
   "cell_type": "code",
   "execution_count": null,
   "metadata": {},
   "outputs": [],
   "source": [
    "for key in a.keys() :\n",
    "    print(key)"
   ]
  },
  {
   "cell_type": "code",
   "execution_count": null,
   "metadata": {},
   "outputs": [],
   "source": [
    "import json\n",
    "table = {\"table\" : {\"K\" : 3,\"X\" : 4}}\n",
    "cs = {\"thres\" : 10}\n",
    "filename = \"dummy.json\"\n",
    "with open(filename, \"w\") as f:\n",
    "            json.dump(table, f, indent=4)\n",
    "            json.dump(cs,f,indent=4)\n"
   ]
  },
  {
   "source": [
    "# Test estimator"
   ],
   "cell_type": "markdown",
   "metadata": {}
  },
  {
   "cell_type": "code",
   "execution_count": 7,
   "metadata": {},
   "outputs": [],
   "source": [
    "from sklearn.utils.estimator_checks import check_estimator\n",
    "from snmfem.estimators import NMF, SmoothNMF\n",
    "import numpy as np\n",
    "from snmfem.datasets.generate_data import ArtificialSpim\n",
    "from snmfem.models import EDXS\n",
    "from snmfem.datasets.generate_weights import generate_weights\n",
    "from snmfem.measures import trace_xtLx, KL\n",
    "from snmfem.laplacian import create_laplacian_matrix\n",
    "from snmfem.experiments import run_experiment\n",
    "import matplotlib.pyplot as plt \n",
    "%matplotlib inline\n",
    "\n",
    "def generate_one_sample():\n",
    "    model_parameters  = {\"params_dict\" : {  \"b0\" : 0.15910789,\n",
    "                                            \"b1\" : -0.00773158,\n",
    "                                            \"b2\" : 8.7417e-04},\n",
    "                            \"db_name\" : \"default_xrays.json\",\n",
    "                            \"e_offset\" : 0.208,\n",
    "                            \"e_scale\" : 0.01,\n",
    "                            \"e_size\": 1980,\n",
    "                            \"width_slope\" : 0.01,\n",
    "                            \"width_intercept\" : 0.065,\n",
    "                            \"seed\" : 1}\n",
    "\n",
    "\n",
    "    g_parameters = {\"thickness\": 2e-05,\n",
    "            \"density\": 3.5,\n",
    "            \"toa\": 22,\n",
    "            \"elements_list\" : [8,13,14,12,26,29,31,72,71,62,60,92,20],\n",
    "            \"brstlg\" : 1}\n",
    "\n",
    "    phases_parameters =  [\n",
    "        {\"thickness\": 2e-05,\n",
    "            \"density\": 3.5,\n",
    "            \"toa\": 22,\n",
    "            \"atomic_fraction\": True,\n",
    "            \"elements_dict\":{\"8\": 1.0 , \"12\": 0.51  , \"14\": 0.61  , \"13\": 0.07  , \"20\": 0.04  , \"62\": 0.02  ,\n",
    "                            \"26\": 0.028  , \"60\": 0.002  , \"71\": 0.003  , \"72\": 0.003  , \"29\": 0.02  }, \n",
    "            \"scale\" : 0.01},\n",
    "        {\"thickness\": 2e-05,\n",
    "            \"density\": 3.5,\n",
    "            \"toa\": 22,\n",
    "            \"atomic_fraction\": True,\n",
    "            \"elements_dict\":{\"8\": 0.54  , \"26\": 0.15  , \"12\": 1.0  , \"29\": 0.038  ,\n",
    "                            \"92\": 0.0052  , \"60\": 0.004  , \"31\": 0.03  , \"71\": 0.003  },\n",
    "            \"scale\" : 0.01},   \n",
    "            {\"thickness\": 2e-05,\n",
    "            \"density\": 3.5,\n",
    "            \"toa\": 22,\n",
    "            \"atomic_fraction\": True,\n",
    "            \"elements_dict\":{\"8\": 1.0  , \"14\": 0.12  , \"13\": 0.18  , \"20\": 0.47  ,\n",
    "                            \"62\": 0.04  , \"26\": 0.004  , \"60\": 0.008  , \"72\": 0.004  , \"29\": 0.01  }, \n",
    "            \"scale\" : 0.01} \n",
    "        ]\n",
    "\n",
    "    # Generate the phases\n",
    "    model = EDXS(**model_parameters)\n",
    "    model.generate_g_matr(**g_parameters)\n",
    "    model.generate_phases(phases_parameters)\n",
    "    phases = model.phases\n",
    "    G = model.G\n",
    "\n",
    "    seed = 0\n",
    "    n_phases = 3\n",
    "    weights_parameters = {\"weight_type\": \"laplacian\",\n",
    "                            \"shape_2D\": [15, 15]}\n",
    "\n",
    "    weights = generate_weights(**weights_parameters, n_phases=n_phases, seed=seed)\n",
    "\n",
    "    # list of densities which will give different total number of events per spectra\n",
    "    densities = np.array([1.0, 1.33, 1.25])\n",
    "\n",
    "    spim = ArtificialSpim(phases, densities, weights, G=G)\n",
    "\n",
    "    N = 50\n",
    "    spim.generate_spim_stochastic(N)\n",
    "\n",
    "    D = spim.phases.T\n",
    "    A = spim.flatten_weights()\n",
    "    P = np.abs(np.linalg.lstsq(G, D, rcond=None)[0])\n",
    "    X = spim.flatten_gen_spim()\n",
    "\n",
    "    w = spim.densities\n",
    "    Xdot = spim.flatten_Xdot()\n",
    "    return G, P, A, D, w, X, Xdot/N\n",
    "\n",
    "\n",
    "def test_generate_one_sample():\n",
    "    G, P, A, D, w, X, Xdot = generate_one_sample()\n",
    "    np.testing.assert_allclose(G @ P , D, atol=1e-5)\n",
    "    np.testing.assert_allclose(D @ np.diag(w) @ A , Xdot)\n",
    "    np.testing.assert_allclose(G @ P @ np.diag(w) @ A , Xdot, atol=1e-5)\n",
    "\n",
    "G, P, A, D, w, X, Xdot = generate_one_sample()"
   ]
  },
  {
   "cell_type": "code",
   "execution_count": 8,
   "metadata": {},
   "outputs": [
    {
     "output_type": "execute_result",
     "data": {
      "text/plain": [
       "[<matplotlib.lines.Line2D at 0x7f9107679c10>]"
      ]
     },
     "metadata": {},
     "execution_count": 8
    },
    {
     "output_type": "display_data",
     "data": {
      "text/plain": "<Figure size 432x288 with 1 Axes>",
      "image/svg+xml": "<?xml version=\"1.0\" encoding=\"utf-8\" standalone=\"no\"?>\n<!DOCTYPE svg PUBLIC \"-//W3C//DTD SVG 1.1//EN\"\n  \"http://www.w3.org/Graphics/SVG/1.1/DTD/svg11.dtd\">\n<svg height=\"251.863858pt\" version=\"1.1\" viewBox=\"0 0 385.564674 251.863858\" width=\"385.564674pt\" xmlns=\"http://www.w3.org/2000/svg\" xmlns:xlink=\"http://www.w3.org/1999/xlink\">\n <metadata>\n  <rdf:RDF xmlns:cc=\"http://creativecommons.org/ns#\" xmlns:dc=\"http://purl.org/dc/elements/1.1/\" xmlns:rdf=\"http://www.w3.org/1999/02/22-rdf-syntax-ns#\">\n   <cc:Work>\n    <dc:type rdf:resource=\"http://purl.org/dc/dcmitype/StillImage\"/>\n    <dc:date>2021-06-23T11:12:52.372764</dc:date>\n    <dc:format>image/svg+xml</dc:format>\n    <dc:creator>\n     <cc:Agent>\n      <dc:title>Matplotlib v3.4.2, https://matplotlib.org/</dc:title>\n     </cc:Agent>\n    </dc:creator>\n   </cc:Work>\n  </rdf:RDF>\n </metadata>\n <defs>\n  <style type=\"text/css\">*{stroke-linecap:butt;stroke-linejoin:round;}</style>\n </defs>\n <g id=\"figure_1\">\n  <g id=\"patch_1\">\n   <path d=\"M 0 251.863858 \nL 385.564674 251.863858 \nL 385.564674 0 \nL 0 0 \nz\n\" style=\"fill:none;\"/>\n  </g>\n  <g id=\"axes_1\">\n   <g id=\"patch_2\">\n    <path d=\"M 42.828125 227.985733 \nL 377.628125 227.985733 \nL 377.628125 10.545733 \nL 42.828125 10.545733 \nz\n\" style=\"fill:#ffffff;\"/>\n   </g>\n   <g id=\"matplotlib.axis_1\">\n    <g id=\"xtick_1\">\n     <g id=\"line2d_1\">\n      <defs>\n       <path d=\"M 0 0 \nL 0 3.5 \n\" id=\"m38db01ecc8\" style=\"stroke:#000000;stroke-width:0.8;\"/>\n      </defs>\n      <g>\n       <use style=\"stroke:#000000;stroke-width:0.8;\" x=\"58.046307\" xlink:href=\"#m38db01ecc8\" y=\"227.985733\"/>\n      </g>\n     </g>\n     <g id=\"text_1\">\n      <!-- 0 -->\n      <g transform=\"translate(54.865057 242.58417)scale(0.1 -0.1)\">\n       <defs>\n        <path d=\"M 2034 4250 \nQ 1547 4250 1301 3770 \nQ 1056 3291 1056 2328 \nQ 1056 1369 1301 889 \nQ 1547 409 2034 409 \nQ 2525 409 2770 889 \nQ 3016 1369 3016 2328 \nQ 3016 3291 2770 3770 \nQ 2525 4250 2034 4250 \nz\nM 2034 4750 \nQ 2819 4750 3233 4129 \nQ 3647 3509 3647 2328 \nQ 3647 1150 3233 529 \nQ 2819 -91 2034 -91 \nQ 1250 -91 836 529 \nQ 422 1150 422 2328 \nQ 422 3509 836 4129 \nQ 1250 4750 2034 4750 \nz\n\" id=\"DejaVuSans-30\" transform=\"scale(0.015625)\"/>\n       </defs>\n       <use xlink:href=\"#DejaVuSans-30\"/>\n      </g>\n     </g>\n    </g>\n    <g id=\"xtick_2\">\n     <g id=\"line2d_2\">\n      <g>\n       <use style=\"stroke:#000000;stroke-width:0.8;\" x=\"96.495478\" xlink:href=\"#m38db01ecc8\" y=\"227.985733\"/>\n      </g>\n     </g>\n     <g id=\"text_2\">\n      <!-- 250 -->\n      <g transform=\"translate(86.951728 242.58417)scale(0.1 -0.1)\">\n       <defs>\n        <path d=\"M 1228 531 \nL 3431 531 \nL 3431 0 \nL 469 0 \nL 469 531 \nQ 828 903 1448 1529 \nQ 2069 2156 2228 2338 \nQ 2531 2678 2651 2914 \nQ 2772 3150 2772 3378 \nQ 2772 3750 2511 3984 \nQ 2250 4219 1831 4219 \nQ 1534 4219 1204 4116 \nQ 875 4013 500 3803 \nL 500 4441 \nQ 881 4594 1212 4672 \nQ 1544 4750 1819 4750 \nQ 2544 4750 2975 4387 \nQ 3406 4025 3406 3419 \nQ 3406 3131 3298 2873 \nQ 3191 2616 2906 2266 \nQ 2828 2175 2409 1742 \nQ 1991 1309 1228 531 \nz\n\" id=\"DejaVuSans-32\" transform=\"scale(0.015625)\"/>\n        <path d=\"M 691 4666 \nL 3169 4666 \nL 3169 4134 \nL 1269 4134 \nL 1269 2991 \nQ 1406 3038 1543 3061 \nQ 1681 3084 1819 3084 \nQ 2600 3084 3056 2656 \nQ 3513 2228 3513 1497 \nQ 3513 744 3044 326 \nQ 2575 -91 1722 -91 \nQ 1428 -91 1123 -41 \nQ 819 9 494 109 \nL 494 744 \nQ 775 591 1075 516 \nQ 1375 441 1709 441 \nQ 2250 441 2565 725 \nQ 2881 1009 2881 1497 \nQ 2881 1984 2565 2268 \nQ 2250 2553 1709 2553 \nQ 1456 2553 1204 2497 \nQ 953 2441 691 2322 \nL 691 4666 \nz\n\" id=\"DejaVuSans-35\" transform=\"scale(0.015625)\"/>\n       </defs>\n       <use xlink:href=\"#DejaVuSans-32\"/>\n       <use x=\"63.623047\" xlink:href=\"#DejaVuSans-35\"/>\n       <use x=\"127.246094\" xlink:href=\"#DejaVuSans-30\"/>\n      </g>\n     </g>\n    </g>\n    <g id=\"xtick_3\">\n     <g id=\"line2d_3\">\n      <g>\n       <use style=\"stroke:#000000;stroke-width:0.8;\" x=\"134.944648\" xlink:href=\"#m38db01ecc8\" y=\"227.985733\"/>\n      </g>\n     </g>\n     <g id=\"text_3\">\n      <!-- 500 -->\n      <g transform=\"translate(125.400898 242.58417)scale(0.1 -0.1)\">\n       <use xlink:href=\"#DejaVuSans-35\"/>\n       <use x=\"63.623047\" xlink:href=\"#DejaVuSans-30\"/>\n       <use x=\"127.246094\" xlink:href=\"#DejaVuSans-30\"/>\n      </g>\n     </g>\n    </g>\n    <g id=\"xtick_4\">\n     <g id=\"line2d_4\">\n      <g>\n       <use style=\"stroke:#000000;stroke-width:0.8;\" x=\"173.393819\" xlink:href=\"#m38db01ecc8\" y=\"227.985733\"/>\n      </g>\n     </g>\n     <g id=\"text_4\">\n      <!-- 750 -->\n      <g transform=\"translate(163.850069 242.58417)scale(0.1 -0.1)\">\n       <defs>\n        <path d=\"M 525 4666 \nL 3525 4666 \nL 3525 4397 \nL 1831 0 \nL 1172 0 \nL 2766 4134 \nL 525 4134 \nL 525 4666 \nz\n\" id=\"DejaVuSans-37\" transform=\"scale(0.015625)\"/>\n       </defs>\n       <use xlink:href=\"#DejaVuSans-37\"/>\n       <use x=\"63.623047\" xlink:href=\"#DejaVuSans-35\"/>\n       <use x=\"127.246094\" xlink:href=\"#DejaVuSans-30\"/>\n      </g>\n     </g>\n    </g>\n    <g id=\"xtick_5\">\n     <g id=\"line2d_5\">\n      <g>\n       <use style=\"stroke:#000000;stroke-width:0.8;\" x=\"211.84299\" xlink:href=\"#m38db01ecc8\" y=\"227.985733\"/>\n      </g>\n     </g>\n     <g id=\"text_5\">\n      <!-- 1000 -->\n      <g transform=\"translate(199.11799 242.58417)scale(0.1 -0.1)\">\n       <defs>\n        <path d=\"M 794 531 \nL 1825 531 \nL 1825 4091 \nL 703 3866 \nL 703 4441 \nL 1819 4666 \nL 2450 4666 \nL 2450 531 \nL 3481 531 \nL 3481 0 \nL 794 0 \nL 794 531 \nz\n\" id=\"DejaVuSans-31\" transform=\"scale(0.015625)\"/>\n       </defs>\n       <use xlink:href=\"#DejaVuSans-31\"/>\n       <use x=\"63.623047\" xlink:href=\"#DejaVuSans-30\"/>\n       <use x=\"127.246094\" xlink:href=\"#DejaVuSans-30\"/>\n       <use x=\"190.869141\" xlink:href=\"#DejaVuSans-30\"/>\n      </g>\n     </g>\n    </g>\n    <g id=\"xtick_6\">\n     <g id=\"line2d_6\">\n      <g>\n       <use style=\"stroke:#000000;stroke-width:0.8;\" x=\"250.292161\" xlink:href=\"#m38db01ecc8\" y=\"227.985733\"/>\n      </g>\n     </g>\n     <g id=\"text_6\">\n      <!-- 1250 -->\n      <g transform=\"translate(237.567161 242.58417)scale(0.1 -0.1)\">\n       <use xlink:href=\"#DejaVuSans-31\"/>\n       <use x=\"63.623047\" xlink:href=\"#DejaVuSans-32\"/>\n       <use x=\"127.246094\" xlink:href=\"#DejaVuSans-35\"/>\n       <use x=\"190.869141\" xlink:href=\"#DejaVuSans-30\"/>\n      </g>\n     </g>\n    </g>\n    <g id=\"xtick_7\">\n     <g id=\"line2d_7\">\n      <g>\n       <use style=\"stroke:#000000;stroke-width:0.8;\" x=\"288.741332\" xlink:href=\"#m38db01ecc8\" y=\"227.985733\"/>\n      </g>\n     </g>\n     <g id=\"text_7\">\n      <!-- 1500 -->\n      <g transform=\"translate(276.016332 242.58417)scale(0.1 -0.1)\">\n       <use xlink:href=\"#DejaVuSans-31\"/>\n       <use x=\"63.623047\" xlink:href=\"#DejaVuSans-35\"/>\n       <use x=\"127.246094\" xlink:href=\"#DejaVuSans-30\"/>\n       <use x=\"190.869141\" xlink:href=\"#DejaVuSans-30\"/>\n      </g>\n     </g>\n    </g>\n    <g id=\"xtick_8\">\n     <g id=\"line2d_8\">\n      <g>\n       <use style=\"stroke:#000000;stroke-width:0.8;\" x=\"327.190503\" xlink:href=\"#m38db01ecc8\" y=\"227.985733\"/>\n      </g>\n     </g>\n     <g id=\"text_8\">\n      <!-- 1750 -->\n      <g transform=\"translate(314.465503 242.58417)scale(0.1 -0.1)\">\n       <use xlink:href=\"#DejaVuSans-31\"/>\n       <use x=\"63.623047\" xlink:href=\"#DejaVuSans-37\"/>\n       <use x=\"127.246094\" xlink:href=\"#DejaVuSans-35\"/>\n       <use x=\"190.869141\" xlink:href=\"#DejaVuSans-30\"/>\n      </g>\n     </g>\n    </g>\n    <g id=\"xtick_9\">\n     <g id=\"line2d_9\">\n      <g>\n       <use style=\"stroke:#000000;stroke-width:0.8;\" x=\"365.639674\" xlink:href=\"#m38db01ecc8\" y=\"227.985733\"/>\n      </g>\n     </g>\n     <g id=\"text_9\">\n      <!-- 2000 -->\n      <g transform=\"translate(352.914674 242.58417)scale(0.1 -0.1)\">\n       <use xlink:href=\"#DejaVuSans-32\"/>\n       <use x=\"63.623047\" xlink:href=\"#DejaVuSans-30\"/>\n       <use x=\"127.246094\" xlink:href=\"#DejaVuSans-30\"/>\n       <use x=\"190.869141\" xlink:href=\"#DejaVuSans-30\"/>\n      </g>\n     </g>\n    </g>\n   </g>\n   <g id=\"matplotlib.axis_2\">\n    <g id=\"ytick_1\">\n     <g id=\"line2d_10\">\n      <defs>\n       <path d=\"M 0 0 \nL -3.5 0 \n\" id=\"mbce487a748\" style=\"stroke:#000000;stroke-width:0.8;\"/>\n      </defs>\n      <g>\n       <use style=\"stroke:#000000;stroke-width:0.8;\" x=\"42.828125\" xlink:href=\"#mbce487a748\" y=\"218.498449\"/>\n      </g>\n     </g>\n     <g id=\"text_10\">\n      <!-- 0.000 -->\n      <g transform=\"translate(7.2 222.297667)scale(0.1 -0.1)\">\n       <defs>\n        <path d=\"M 684 794 \nL 1344 794 \nL 1344 0 \nL 684 0 \nL 684 794 \nz\n\" id=\"DejaVuSans-2e\" transform=\"scale(0.015625)\"/>\n       </defs>\n       <use xlink:href=\"#DejaVuSans-30\"/>\n       <use x=\"63.623047\" xlink:href=\"#DejaVuSans-2e\"/>\n       <use x=\"95.410156\" xlink:href=\"#DejaVuSans-30\"/>\n       <use x=\"159.033203\" xlink:href=\"#DejaVuSans-30\"/>\n       <use x=\"222.65625\" xlink:href=\"#DejaVuSans-30\"/>\n      </g>\n     </g>\n    </g>\n    <g id=\"ytick_2\">\n     <g id=\"line2d_11\">\n      <g>\n       <use style=\"stroke:#000000;stroke-width:0.8;\" x=\"42.828125\" xlink:href=\"#mbce487a748\" y=\"176.998603\"/>\n      </g>\n     </g>\n     <g id=\"text_11\">\n      <!-- 0.005 -->\n      <g transform=\"translate(7.2 180.797821)scale(0.1 -0.1)\">\n       <use xlink:href=\"#DejaVuSans-30\"/>\n       <use x=\"63.623047\" xlink:href=\"#DejaVuSans-2e\"/>\n       <use x=\"95.410156\" xlink:href=\"#DejaVuSans-30\"/>\n       <use x=\"159.033203\" xlink:href=\"#DejaVuSans-30\"/>\n       <use x=\"222.65625\" xlink:href=\"#DejaVuSans-35\"/>\n      </g>\n     </g>\n    </g>\n    <g id=\"ytick_3\">\n     <g id=\"line2d_12\">\n      <g>\n       <use style=\"stroke:#000000;stroke-width:0.8;\" x=\"42.828125\" xlink:href=\"#mbce487a748\" y=\"135.498757\"/>\n      </g>\n     </g>\n     <g id=\"text_12\">\n      <!-- 0.010 -->\n      <g transform=\"translate(7.2 139.297975)scale(0.1 -0.1)\">\n       <use xlink:href=\"#DejaVuSans-30\"/>\n       <use x=\"63.623047\" xlink:href=\"#DejaVuSans-2e\"/>\n       <use x=\"95.410156\" xlink:href=\"#DejaVuSans-30\"/>\n       <use x=\"159.033203\" xlink:href=\"#DejaVuSans-31\"/>\n       <use x=\"222.65625\" xlink:href=\"#DejaVuSans-30\"/>\n      </g>\n     </g>\n    </g>\n    <g id=\"ytick_4\">\n     <g id=\"line2d_13\">\n      <g>\n       <use style=\"stroke:#000000;stroke-width:0.8;\" x=\"42.828125\" xlink:href=\"#mbce487a748\" y=\"93.998911\"/>\n      </g>\n     </g>\n     <g id=\"text_13\">\n      <!-- 0.015 -->\n      <g transform=\"translate(7.2 97.798129)scale(0.1 -0.1)\">\n       <use xlink:href=\"#DejaVuSans-30\"/>\n       <use x=\"63.623047\" xlink:href=\"#DejaVuSans-2e\"/>\n       <use x=\"95.410156\" xlink:href=\"#DejaVuSans-30\"/>\n       <use x=\"159.033203\" xlink:href=\"#DejaVuSans-31\"/>\n       <use x=\"222.65625\" xlink:href=\"#DejaVuSans-35\"/>\n      </g>\n     </g>\n    </g>\n    <g id=\"ytick_5\">\n     <g id=\"line2d_14\">\n      <g>\n       <use style=\"stroke:#000000;stroke-width:0.8;\" x=\"42.828125\" xlink:href=\"#mbce487a748\" y=\"52.499065\"/>\n      </g>\n     </g>\n     <g id=\"text_14\">\n      <!-- 0.020 -->\n      <g transform=\"translate(7.2 56.298283)scale(0.1 -0.1)\">\n       <use xlink:href=\"#DejaVuSans-30\"/>\n       <use x=\"63.623047\" xlink:href=\"#DejaVuSans-2e\"/>\n       <use x=\"95.410156\" xlink:href=\"#DejaVuSans-30\"/>\n       <use x=\"159.033203\" xlink:href=\"#DejaVuSans-32\"/>\n       <use x=\"222.65625\" xlink:href=\"#DejaVuSans-30\"/>\n      </g>\n     </g>\n    </g>\n    <g id=\"ytick_6\">\n     <g id=\"line2d_15\">\n      <g>\n       <use style=\"stroke:#000000;stroke-width:0.8;\" x=\"42.828125\" xlink:href=\"#mbce487a748\" y=\"10.999219\"/>\n      </g>\n     </g>\n     <g id=\"text_15\">\n      <!-- 0.025 -->\n      <g transform=\"translate(7.2 14.798437)scale(0.1 -0.1)\">\n       <use xlink:href=\"#DejaVuSans-30\"/>\n       <use x=\"63.623047\" xlink:href=\"#DejaVuSans-2e\"/>\n       <use x=\"95.410156\" xlink:href=\"#DejaVuSans-30\"/>\n       <use x=\"159.033203\" xlink:href=\"#DejaVuSans-32\"/>\n       <use x=\"222.65625\" xlink:href=\"#DejaVuSans-35\"/>\n      </g>\n     </g>\n    </g>\n   </g>\n   <g id=\"line2d_16\">\n    <path clip-path=\"url(#p9a1f110d44)\" d=\"M 58.046307 213.163375 \nL 58.81529 211.049545 \nL 59.430477 208.977323 \nL 59.73807 208.685634 \nL 60.045664 208.827897 \nL 60.353257 210.675271 \nL 60.814647 210.423253 \nL 61.12224 210.139638 \nL 61.276037 209.822626 \nL 61.429834 209.097334 \nL 61.583631 207.380416 \nL 61.737427 203.461148 \nL 61.891224 195.180208 \nL 62.198817 156.546391 \nL 62.814004 31.799322 \nL 62.967801 28.352218 \nL 63.121597 45.582894 \nL 63.890581 191.484833 \nL 64.198174 206.623307 \nL 64.505768 209.581552 \nL 64.659564 209.620077 \nL 64.813361 209.159327 \nL 65.120954 206.858612 \nL 65.582344 202.588886 \nL 65.736141 202.348763 \nL 66.043734 204.660506 \nL 66.505124 208.885588 \nL 66.658921 209.423947 \nL 66.812718 209.413873 \nL 66.966514 208.948607 \nL 67.581701 205.607414 \nL 67.735498 205.565028 \nL 68.196888 207.05551 \nL 68.350685 206.969341 \nL 68.658278 204.829901 \nL 69.119668 201.187178 \nL 69.427261 202.988872 \nL 70.042448 210.455721 \nL 70.503838 212.30303 \nL 70.657635 212.30566 \nL 71.119025 211.819409 \nL 71.272822 211.659047 \nL 71.426618 211.726986 \nL 71.580415 211.557976 \nL 71.888008 211.93206 \nL 72.041805 213.23074 \nL 72.349398 212.377309 \nL 72.503195 212.093902 \nL 72.656992 210.726451 \nL 72.810788 207.479946 \nL 72.964585 201.007789 \nL 73.272178 171.932106 \nL 74.041162 46.758456 \nL 74.194959 46.638904 \nL 74.348755 61.243905 \nL 75.271535 201.322132 \nL 75.579129 211.34139 \nL 75.886722 213.60291 \nL 76.040519 213.798687 \nL 76.194315 213.710343 \nL 76.348112 213.334502 \nL 76.501909 212.555202 \nL 76.809502 208.997889 \nL 77.732282 191.588666 \nL 77.886079 192.818659 \nL 78.347469 202.864565 \nL 78.655062 208.302175 \nL 78.962656 210.608879 \nL 79.270249 211.084238 \nL 79.577842 210.916315 \nL 79.731639 210.594245 \nL 79.885436 209.86158 \nL 80.039233 208.172402 \nL 80.193029 204.785611 \nL 80.500623 187.36816 \nL 80.808216 146.055023 \nL 81.423403 29.629539 \nL 81.577199 20.429369 \nL 81.730996 26.658794 \nL 82.038589 76.340653 \nL 82.499979 165.137258 \nL 82.807573 195.150646 \nL 83.115166 206.217394 \nL 83.42276 210.261346 \nL 83.88415 213.419718 \nL 84.191743 214.575227 \nL 84.499336 215.090336 \nL 84.960726 215.311135 \nL 86.1911 215.398287 \nL 88.651847 215.535236 \nL 94.496121 215.86266 \nL 102.801142 216.197304 \nL 104.185312 216.235975 \nL 105.723279 216.305276 \nL 107.568839 216.407163 \nL 109.414399 216.41333 \nL 109.721992 216.246499 \nL 110.029586 215.704337 \nL 110.337179 214.403728 \nL 110.644773 212.032057 \nL 111.413756 204.894922 \nL 111.567553 204.537678 \nL 111.721349 204.812872 \nL 112.028943 207.005149 \nL 112.797926 214.350369 \nL 113.105519 215.738614 \nL 113.413113 216.34386 \nL 113.720706 216.554228 \nL 114.335893 216.62831 \nL 114.95108 216.552681 \nL 115.41247 216.280503 \nL 116.489046 215.231332 \nL 116.79664 215.340055 \nL 117.411827 216.087163 \nL 117.873217 216.527243 \nL 118.334607 216.71 \nL 119.411183 216.78222 \nL 130.330748 216.955397 \nL 132.022512 216.851498 \nL 133.406682 216.998458 \nL 134.175665 216.806563 \nL 135.098445 216.459332 \nL 135.559835 216.520785 \nL 137.251599 217.097717 \nL 138.789566 217.115139 \nL 139.404752 216.93878 \nL 139.712346 216.648442 \nL 140.019939 216.101193 \nL 140.481329 214.709601 \nL 141.250313 212.276908 \nL 141.404109 212.12481 \nL 141.557906 212.148714 \nL 141.865499 212.689443 \nL 143.249669 216.543967 \nL 143.711059 216.929171 \nL 144.326246 217.105245 \nL 146.01801 217.218498 \nL 147.709773 217.163312 \nL 148.32496 216.994361 \nL 148.78635 216.663313 \nL 149.401537 215.821552 \nL 150.016723 215.020069 \nL 150.324317 214.931612 \nL 150.63191 215.084475 \nL 151.247097 215.505038 \nL 151.55469 215.347297 \nL 151.862284 214.739517 \nL 152.323674 213.057115 \nL 152.93886 210.821169 \nL 153.092657 210.588087 \nL 153.246454 210.557048 \nL 153.40025 210.734345 \nL 153.707844 211.637732 \nL 154.784421 215.87535 \nL 155.092014 216.351298 \nL 155.399607 216.511908 \nL 156.629981 216.638927 \nL 158.014151 217.245081 \nL 159.244524 217.336284 \nL 161.243881 217.283483 \nL 162.012865 217.066145 \nL 163.397035 216.50795 \nL 164.012222 216.644912 \nL 165.242595 217.017385 \nL 167.703342 217.418595 \nL 169.548902 217.309793 \nL 171.240666 217.103948 \nL 172.471039 216.75074 \nL 173.086226 216.879868 \nL 174.316599 217.257636 \nL 174.931786 217.167186 \nL 176.008363 216.688888 \nL 176.62355 216.235514 \nL 177.08494 215.589035 \nL 178.315313 213.398222 \nL 178.622907 213.446821 \nL 178.9305 213.870666 \nL 179.699483 215.732068 \nL 180.31467 216.875255 \nL 180.77606 217.285779 \nL 181.391247 217.472949 \nL 182.775417 217.519206 \nL 186.927927 217.438096 \nL 189.388674 217.268078 \nL 190.311455 217.211156 \nL 192.157015 216.892811 \nL 194.310168 217.220874 \nL 195.386745 217.314086 \nL 198.001289 217.284892 \nL 200.308239 217.561984 \nL 203.845563 217.600464 \nL 341.801188 218.054806 \nL 362.409943 218.102096 \nL 362.409943 218.102096 \n\" style=\"fill:none;stroke:#1f77b4;stroke-linecap:square;stroke-width:1.5;\"/>\n   </g>\n   <g id=\"line2d_17\">\n    <path clip-path=\"url(#p9a1f110d44)\" d=\"M 58.046307 214.817038 \nL 58.661494 213.226699 \nL 59.73807 209.856243 \nL 60.045664 209.824328 \nL 60.353257 210.386047 \nL 60.814647 209.942937 \nL 61.12224 209.534792 \nL 61.276037 209.170417 \nL 61.429834 208.403534 \nL 61.583631 206.611736 \nL 61.737427 202.570181 \nL 61.891224 194.224881 \nL 62.198817 155.589739 \nL 62.814004 30.829321 \nL 62.967801 27.617078 \nL 63.275394 77.261388 \nL 63.736784 174.759829 \nL 64.044377 202.057558 \nL 64.351971 209.245715 \nL 64.505768 210.01847 \nL 64.659564 210.037069 \nL 64.813361 209.533404 \nL 65.120954 207.109695 \nL 65.582344 202.720175 \nL 65.736141 202.436906 \nL 65.889938 203.141574 \nL 66.658921 209.246857 \nL 66.812718 209.261648 \nL 67.120311 207.93634 \nL 67.581701 205.478152 \nL 67.735498 205.414749 \nL 68.350685 206.8294 \nL 68.504481 206.147496 \nL 69.119668 201.434315 \nL 69.273465 201.821298 \nL 69.581058 204.748139 \nL 70.042448 209.820909 \nL 70.350041 211.297528 \nL 70.657635 211.58531 \nL 71.272822 211.524698 \nL 71.426618 211.768059 \nL 71.580415 211.796166 \nL 71.888008 212.283587 \nL 72.195602 212.492458 \nL 72.349398 212.330285 \nL 72.503195 211.733934 \nL 72.656992 210.209004 \nL 72.810788 206.870373 \nL 72.964585 200.370742 \nL 73.272178 171.424754 \nL 74.041162 47.000622 \nL 74.194959 46.889035 \nL 74.348755 61.427051 \nL 75.271535 201.059968 \nL 75.579129 210.824815 \nL 75.886722 213.111297 \nL 76.040519 213.370562 \nL 76.194315 213.35382 \nL 76.348112 213.040576 \nL 76.501909 212.304891 \nL 76.809502 208.83419 \nL 77.270892 198.19029 \nL 77.578486 192.301584 \nL 77.732282 191.660256 \nL 77.886079 192.872246 \nL 78.347469 202.820537 \nL 78.655062 208.262665 \nL 78.962656 210.584214 \nL 79.270249 211.067777 \nL 79.577842 210.921058 \nL 79.731639 210.603452 \nL 79.885436 209.852401 \nL 80.039233 208.166522 \nL 80.193029 204.725921 \nL 80.500623 187.264687 \nL 80.808216 145.94808 \nL 81.423403 29.72606 \nL 81.577199 20.551791 \nL 81.730996 26.764617 \nL 82.038589 76.323223 \nL 82.499979 164.898758 \nL 82.807573 194.842276 \nL 83.115166 205.915029 \nL 83.42276 210.240377 \nL 83.88415 213.242152 \nL 84.191743 214.378212 \nL 84.499336 214.934415 \nL 84.960726 215.229231 \nL 85.72971 215.32749 \nL 88.805643 215.447034 \nL 92.650561 215.684113 \nL 104.800499 216.270862 \nL 109.414399 216.380881 \nL 109.721992 216.205616 \nL 110.029586 215.657542 \nL 110.337179 214.351588 \nL 110.644773 211.969171 \nL 111.413756 204.794664 \nL 111.567553 204.435756 \nL 111.721349 204.712726 \nL 112.028943 206.917272 \nL 112.797926 214.294106 \nL 113.105519 215.691226 \nL 113.413113 216.300197 \nL 113.720706 216.512142 \nL 114.335893 216.587751 \nL 114.95108 216.512694 \nL 115.41247 216.239472 \nL 116.489046 215.185605 \nL 116.79664 215.296623 \nL 117.411827 216.04095 \nL 117.873217 216.484236 \nL 118.334607 216.668546 \nL 119.411183 216.743007 \nL 130.330748 216.931223 \nL 132.022512 216.833628 \nL 133.560478 216.974388 \nL 134.329462 216.786632 \nL 135.098445 216.569538 \nL 135.713632 216.668902 \nL 136.944005 217.051389 \nL 138.328176 217.109035 \nL 139.250956 217.002666 \nL 139.558549 216.811795 \nL 139.866142 216.418538 \nL 140.327532 215.288515 \nL 141.250313 212.432639 \nL 141.404109 212.289221 \nL 141.557906 212.316673 \nL 141.865499 212.850006 \nL 143.249669 216.596042 \nL 143.711059 216.95445 \nL 144.326246 217.109619 \nL 146.171806 217.208785 \nL 147.86357 217.139434 \nL 148.478757 216.925494 \nL 148.940147 216.518753 \nL 150.17052 215.009177 \nL 150.478114 215.045472 \nL 151.400894 215.491289 \nL 151.708487 215.099992 \nL 152.01608 214.241399 \nL 153.092657 210.506996 \nL 153.246454 210.4738 \nL 153.40025 210.651556 \nL 153.707844 211.563009 \nL 154.784421 215.85646 \nL 155.092014 216.345807 \nL 155.399607 216.517704 \nL 156.783778 216.731514 \nL 157.860354 217.207084 \nL 158.936931 217.314991 \nL 161.090085 217.293472 \nL 161.859068 217.116734 \nL 163.550832 216.497629 \nL 164.319815 216.750449 \nL 165.396392 217.043273 \nL 167.549545 217.401931 \nL 169.241309 217.322309 \nL 171.394462 217.085459 \nL 172.471039 216.828568 \nL 173.086226 216.94089 \nL 174.316599 217.265551 \nL 174.931786 217.17759 \nL 176.008363 216.729312 \nL 176.62355 216.29619 \nL 177.08494 215.6761 \nL 178.315313 213.57928 \nL 178.622907 213.625037 \nL 178.9305 214.028871 \nL 179.699483 215.80343 \nL 180.31467 216.893425 \nL 180.77606 217.284914 \nL 181.391247 217.463527 \nL 182.929214 217.508965 \nL 187.081724 217.426522 \nL 189.388674 217.291537 \nL 190.311455 217.228694 \nL 192.157015 216.922002 \nL 194.310168 217.254358 \nL 196.155728 217.489957 \nL 198.308882 217.472906 \nL 201.231019 217.576335 \nL 215.072721 217.596274 \nL 218.302451 217.624733 \nL 225.530895 217.669309 \nL 362.409943 218.099871 \nL 362.409943 218.099871 \n\" style=\"fill:none;stroke:#ff7f0e;stroke-linecap:square;stroke-width:1.5;\"/>\n   </g>\n   <g id=\"patch_3\">\n    <path d=\"M 42.828125 227.985733 \nL 42.828125 10.545733 \n\" style=\"fill:none;stroke:#000000;stroke-linecap:square;stroke-linejoin:miter;stroke-width:0.8;\"/>\n   </g>\n   <g id=\"patch_4\">\n    <path d=\"M 377.628125 227.985733 \nL 377.628125 10.545733 \n\" style=\"fill:none;stroke:#000000;stroke-linecap:square;stroke-linejoin:miter;stroke-width:0.8;\"/>\n   </g>\n   <g id=\"patch_5\">\n    <path d=\"M 42.828125 227.985733 \nL 377.628125 227.985733 \n\" style=\"fill:none;stroke:#000000;stroke-linecap:square;stroke-linejoin:miter;stroke-width:0.8;\"/>\n   </g>\n   <g id=\"patch_6\">\n    <path d=\"M 42.828125 10.545733 \nL 377.628125 10.545733 \n\" style=\"fill:none;stroke:#000000;stroke-linecap:square;stroke-linejoin:miter;stroke-width:0.8;\"/>\n   </g>\n  </g>\n </g>\n <defs>\n  <clipPath id=\"p9a1f110d44\">\n   <rect height=\"217.44\" width=\"334.8\" x=\"42.828125\" y=\"10.545733\"/>\n  </clipPath>\n </defs>\n</svg>\n",
      "image/png": "[encoded data removed]"
     },
     "metadata": {
      "needs_background": "light"
     }
    }
   ],
   "source": [
    "plt.plot((G@P).T[0])\n",
    "plt.plot(D.T[0])\n",
    "\n"
   ]
  },
  {
   "cell_type": "code",
   "execution_count": 5,
   "metadata": {},
   "outputs": [],
   "source": [
    "from snmfem.models.absorption_edxs import absorption_correction\n",
    "\n",
    "elts = {\"8\": 1.0 , \"12\": 0.51  , \"14\": 0.61  , \"13\": 0.07  , \"20\": 0.04  , \"62\": 0.02  ,\n",
    "                            \"26\": 0.028  , \"60\": 0.002  , \"71\": 0.003  , \"72\": 0.003  , \"29\": 0.02 }\n",
    "\n",
    "elts2 = {\"8\": 0.09 , \"12\": 0.09  , \"14\": 0.09  , \"13\": 0.09  , \"20\": 0.09  , \"62\": 0.09  ,\n",
    "                            \"26\": 0.09  , \"60\": 0.09  , \"71\": 0.09  , \"72\": 0.09  , \"29\": 0.09 }\n",
    "\n",
    "x = np.linspace(0.208, 1980*0.01+0.208, num = 1980)\n",
    "a = absorption_correction(x,thickness = 1e-5, toa = 22, density= 3.5,atomic_fraction=True, elements_dict = elts)\n",
    "a2 = absorption_correction(x,thickness = 1e-5, toa = 22, density= 3.5,atomic_fraction=True, elements_dict = elts2)"
   ]
  },
  {
   "cell_type": "code",
   "execution_count": 6,
   "metadata": {},
   "outputs": [
    {
     "output_type": "execute_result",
     "data": {
      "text/plain": [
       "[<matplotlib.lines.Line2D at 0x7f9106f3b9d0>]"
      ]
     },
     "metadata": {},
     "execution_count": 6
    },
    {
     "output_type": "display_data",
     "data": {
      "text/plain": "<Figure size 432x288 with 1 Axes>",
      "image/svg+xml": "<?xml version=\"1.0\" encoding=\"utf-8\" standalone=\"no\"?>\n<!DOCTYPE svg PUBLIC \"-//W3C//DTD SVG 1.1//EN\"\n  \"http://www.w3.org/Graphics/SVG/1.1/DTD/svg11.dtd\">\n<svg height=\"248.518125pt\" version=\"1.1\" viewBox=\"0 0 372.839674 248.518125\" width=\"372.839674pt\" xmlns=\"http://www.w3.org/2000/svg\" xmlns:xlink=\"http://www.w3.org/1999/xlink\">\n <metadata>\n  <rdf:RDF xmlns:cc=\"http://creativecommons.org/ns#\" xmlns:dc=\"http://purl.org/dc/elements/1.1/\" xmlns:rdf=\"http://www.w3.org/1999/02/22-rdf-syntax-ns#\">\n   <cc:Work>\n    <dc:type rdf:resource=\"http://purl.org/dc/dcmitype/StillImage\"/>\n    <dc:date>2021-06-23T11:12:32.695796</dc:date>\n    <dc:format>image/svg+xml</dc:format>\n    <dc:creator>\n     <cc:Agent>\n      <dc:title>Matplotlib v3.4.2, https://matplotlib.org/</dc:title>\n     </cc:Agent>\n    </dc:creator>\n   </cc:Work>\n  </rdf:RDF>\n </metadata>\n <defs>\n  <style type=\"text/css\">*{stroke-linecap:butt;stroke-linejoin:round;}</style>\n </defs>\n <g id=\"figure_1\">\n  <g id=\"patch_1\">\n   <path d=\"M 0 248.518125 \nL 372.839674 248.518125 \nL 372.839674 0 \nL 0 0 \nz\n\" style=\"fill:none;\"/>\n  </g>\n  <g id=\"axes_1\">\n   <g id=\"patch_2\">\n    <path d=\"M 30.103125 224.64 \nL 364.903125 224.64 \nL 364.903125 7.2 \nL 30.103125 7.2 \nz\n\" style=\"fill:#ffffff;\"/>\n   </g>\n   <g id=\"matplotlib.axis_1\">\n    <g id=\"xtick_1\">\n     <g id=\"line2d_1\">\n      <defs>\n       <path d=\"M 0 0 \nL 0 3.5 \n\" id=\"m3982c050c0\" style=\"stroke:#000000;stroke-width:0.8;\"/>\n      </defs>\n      <g>\n       <use style=\"stroke:#000000;stroke-width:0.8;\" x=\"45.321307\" xlink:href=\"#m3982c050c0\" y=\"224.64\"/>\n      </g>\n     </g>\n     <g id=\"text_1\">\n      <!-- 0 -->\n      <g transform=\"translate(42.140057 239.238438)scale(0.1 -0.1)\">\n       <defs>\n        <path d=\"M 2034 4250 \nQ 1547 4250 1301 3770 \nQ 1056 3291 1056 2328 \nQ 1056 1369 1301 889 \nQ 1547 409 2034 409 \nQ 2525 409 2770 889 \nQ 3016 1369 3016 2328 \nQ 3016 3291 2770 3770 \nQ 2525 4250 2034 4250 \nz\nM 2034 4750 \nQ 2819 4750 3233 4129 \nQ 3647 3509 3647 2328 \nQ 3647 1150 3233 529 \nQ 2819 -91 2034 -91 \nQ 1250 -91 836 529 \nQ 422 1150 422 2328 \nQ 422 3509 836 4129 \nQ 1250 4750 2034 4750 \nz\n\" id=\"DejaVuSans-30\" transform=\"scale(0.015625)\"/>\n       </defs>\n       <use xlink:href=\"#DejaVuSans-30\"/>\n      </g>\n     </g>\n    </g>\n    <g id=\"xtick_2\">\n     <g id=\"line2d_2\">\n      <g>\n       <use style=\"stroke:#000000;stroke-width:0.8;\" x=\"83.770478\" xlink:href=\"#m3982c050c0\" y=\"224.64\"/>\n      </g>\n     </g>\n     <g id=\"text_2\">\n      <!-- 250 -->\n      <g transform=\"translate(74.226728 239.238438)scale(0.1 -0.1)\">\n       <defs>\n        <path d=\"M 1228 531 \nL 3431 531 \nL 3431 0 \nL 469 0 \nL 469 531 \nQ 828 903 1448 1529 \nQ 2069 2156 2228 2338 \nQ 2531 2678 2651 2914 \nQ 2772 3150 2772 3378 \nQ 2772 3750 2511 3984 \nQ 2250 4219 1831 4219 \nQ 1534 4219 1204 4116 \nQ 875 4013 500 3803 \nL 500 4441 \nQ 881 4594 1212 4672 \nQ 1544 4750 1819 4750 \nQ 2544 4750 2975 4387 \nQ 3406 4025 3406 3419 \nQ 3406 3131 3298 2873 \nQ 3191 2616 2906 2266 \nQ 2828 2175 2409 1742 \nQ 1991 1309 1228 531 \nz\n\" id=\"DejaVuSans-32\" transform=\"scale(0.015625)\"/>\n        <path d=\"M 691 4666 \nL 3169 4666 \nL 3169 4134 \nL 1269 4134 \nL 1269 2991 \nQ 1406 3038 1543 3061 \nQ 1681 3084 1819 3084 \nQ 2600 3084 3056 2656 \nQ 3513 2228 3513 1497 \nQ 3513 744 3044 326 \nQ 2575 -91 1722 -91 \nQ 1428 -91 1123 -41 \nQ 819 9 494 109 \nL 494 744 \nQ 775 591 1075 516 \nQ 1375 441 1709 441 \nQ 2250 441 2565 725 \nQ 2881 1009 2881 1497 \nQ 2881 1984 2565 2268 \nQ 2250 2553 1709 2553 \nQ 1456 2553 1204 2497 \nQ 953 2441 691 2322 \nL 691 4666 \nz\n\" id=\"DejaVuSans-35\" transform=\"scale(0.015625)\"/>\n       </defs>\n       <use xlink:href=\"#DejaVuSans-32\"/>\n       <use x=\"63.623047\" xlink:href=\"#DejaVuSans-35\"/>\n       <use x=\"127.246094\" xlink:href=\"#DejaVuSans-30\"/>\n      </g>\n     </g>\n    </g>\n    <g id=\"xtick_3\">\n     <g id=\"line2d_3\">\n      <g>\n       <use style=\"stroke:#000000;stroke-width:0.8;\" x=\"122.219648\" xlink:href=\"#m3982c050c0\" y=\"224.64\"/>\n      </g>\n     </g>\n     <g id=\"text_3\">\n      <!-- 500 -->\n      <g transform=\"translate(112.675898 239.238438)scale(0.1 -0.1)\">\n       <use xlink:href=\"#DejaVuSans-35\"/>\n       <use x=\"63.623047\" xlink:href=\"#DejaVuSans-30\"/>\n       <use x=\"127.246094\" xlink:href=\"#DejaVuSans-30\"/>\n      </g>\n     </g>\n    </g>\n    <g id=\"xtick_4\">\n     <g id=\"line2d_4\">\n      <g>\n       <use style=\"stroke:#000000;stroke-width:0.8;\" x=\"160.668819\" xlink:href=\"#m3982c050c0\" y=\"224.64\"/>\n      </g>\n     </g>\n     <g id=\"text_4\">\n      <!-- 750 -->\n      <g transform=\"translate(151.125069 239.238438)scale(0.1 -0.1)\">\n       <defs>\n        <path d=\"M 525 4666 \nL 3525 4666 \nL 3525 4397 \nL 1831 0 \nL 1172 0 \nL 2766 4134 \nL 525 4134 \nL 525 4666 \nz\n\" id=\"DejaVuSans-37\" transform=\"scale(0.015625)\"/>\n       </defs>\n       <use xlink:href=\"#DejaVuSans-37\"/>\n       <use x=\"63.623047\" xlink:href=\"#DejaVuSans-35\"/>\n       <use x=\"127.246094\" xlink:href=\"#DejaVuSans-30\"/>\n      </g>\n     </g>\n    </g>\n    <g id=\"xtick_5\">\n     <g id=\"line2d_5\">\n      <g>\n       <use style=\"stroke:#000000;stroke-width:0.8;\" x=\"199.11799\" xlink:href=\"#m3982c050c0\" y=\"224.64\"/>\n      </g>\n     </g>\n     <g id=\"text_5\">\n      <!-- 1000 -->\n      <g transform=\"translate(186.39299 239.238438)scale(0.1 -0.1)\">\n       <defs>\n        <path d=\"M 794 531 \nL 1825 531 \nL 1825 4091 \nL 703 3866 \nL 703 4441 \nL 1819 4666 \nL 2450 4666 \nL 2450 531 \nL 3481 531 \nL 3481 0 \nL 794 0 \nL 794 531 \nz\n\" id=\"DejaVuSans-31\" transform=\"scale(0.015625)\"/>\n       </defs>\n       <use xlink:href=\"#DejaVuSans-31\"/>\n       <use x=\"63.623047\" xlink:href=\"#DejaVuSans-30\"/>\n       <use x=\"127.246094\" xlink:href=\"#DejaVuSans-30\"/>\n       <use x=\"190.869141\" xlink:href=\"#DejaVuSans-30\"/>\n      </g>\n     </g>\n    </g>\n    <g id=\"xtick_6\">\n     <g id=\"line2d_6\">\n      <g>\n       <use style=\"stroke:#000000;stroke-width:0.8;\" x=\"237.567161\" xlink:href=\"#m3982c050c0\" y=\"224.64\"/>\n      </g>\n     </g>\n     <g id=\"text_6\">\n      <!-- 1250 -->\n      <g transform=\"translate(224.842161 239.238438)scale(0.1 -0.1)\">\n       <use xlink:href=\"#DejaVuSans-31\"/>\n       <use x=\"63.623047\" xlink:href=\"#DejaVuSans-32\"/>\n       <use x=\"127.246094\" xlink:href=\"#DejaVuSans-35\"/>\n       <use x=\"190.869141\" xlink:href=\"#DejaVuSans-30\"/>\n      </g>\n     </g>\n    </g>\n    <g id=\"xtick_7\">\n     <g id=\"line2d_7\">\n      <g>\n       <use style=\"stroke:#000000;stroke-width:0.8;\" x=\"276.016332\" xlink:href=\"#m3982c050c0\" y=\"224.64\"/>\n      </g>\n     </g>\n     <g id=\"text_7\">\n      <!-- 1500 -->\n      <g transform=\"translate(263.291332 239.238438)scale(0.1 -0.1)\">\n       <use xlink:href=\"#DejaVuSans-31\"/>\n       <use x=\"63.623047\" xlink:href=\"#DejaVuSans-35\"/>\n       <use x=\"127.246094\" xlink:href=\"#DejaVuSans-30\"/>\n       <use x=\"190.869141\" xlink:href=\"#DejaVuSans-30\"/>\n      </g>\n     </g>\n    </g>\n    <g id=\"xtick_8\">\n     <g id=\"line2d_8\">\n      <g>\n       <use style=\"stroke:#000000;stroke-width:0.8;\" x=\"314.465503\" xlink:href=\"#m3982c050c0\" y=\"224.64\"/>\n      </g>\n     </g>\n     <g id=\"text_8\">\n      <!-- 1750 -->\n      <g transform=\"translate(301.740503 239.238438)scale(0.1 -0.1)\">\n       <use xlink:href=\"#DejaVuSans-31\"/>\n       <use x=\"63.623047\" xlink:href=\"#DejaVuSans-37\"/>\n       <use x=\"127.246094\" xlink:href=\"#DejaVuSans-35\"/>\n       <use x=\"190.869141\" xlink:href=\"#DejaVuSans-30\"/>\n      </g>\n     </g>\n    </g>\n    <g id=\"xtick_9\">\n     <g id=\"line2d_9\">\n      <g>\n       <use style=\"stroke:#000000;stroke-width:0.8;\" x=\"352.914674\" xlink:href=\"#m3982c050c0\" y=\"224.64\"/>\n      </g>\n     </g>\n     <g id=\"text_9\">\n      <!-- 2000 -->\n      <g transform=\"translate(340.189674 239.238438)scale(0.1 -0.1)\">\n       <use xlink:href=\"#DejaVuSans-32\"/>\n       <use x=\"63.623047\" xlink:href=\"#DejaVuSans-30\"/>\n       <use x=\"127.246094\" xlink:href=\"#DejaVuSans-30\"/>\n       <use x=\"190.869141\" xlink:href=\"#DejaVuSans-30\"/>\n      </g>\n     </g>\n    </g>\n   </g>\n   <g id=\"matplotlib.axis_2\">\n    <g id=\"ytick_1\">\n     <g id=\"line2d_10\">\n      <defs>\n       <path d=\"M 0 0 \nL -3.5 0 \n\" id=\"m1e83b23ef7\" style=\"stroke:#000000;stroke-width:0.8;\"/>\n      </defs>\n      <g>\n       <use style=\"stroke:#000000;stroke-width:0.8;\" x=\"30.103125\" xlink:href=\"#m1e83b23ef7\" y=\"214.058554\"/>\n      </g>\n     </g>\n     <g id=\"text_10\">\n      <!-- 0.3 -->\n      <g transform=\"translate(7.2 217.857773)scale(0.1 -0.1)\">\n       <defs>\n        <path d=\"M 684 794 \nL 1344 794 \nL 1344 0 \nL 684 0 \nL 684 794 \nz\n\" id=\"DejaVuSans-2e\" transform=\"scale(0.015625)\"/>\n        <path d=\"M 2597 2516 \nQ 3050 2419 3304 2112 \nQ 3559 1806 3559 1356 \nQ 3559 666 3084 287 \nQ 2609 -91 1734 -91 \nQ 1441 -91 1130 -33 \nQ 819 25 488 141 \nL 488 750 \nQ 750 597 1062 519 \nQ 1375 441 1716 441 \nQ 2309 441 2620 675 \nQ 2931 909 2931 1356 \nQ 2931 1769 2642 2001 \nQ 2353 2234 1838 2234 \nL 1294 2234 \nL 1294 2753 \nL 1863 2753 \nQ 2328 2753 2575 2939 \nQ 2822 3125 2822 3475 \nQ 2822 3834 2567 4026 \nQ 2313 4219 1838 4219 \nQ 1578 4219 1281 4162 \nQ 984 4106 628 3988 \nL 628 4550 \nQ 988 4650 1302 4700 \nQ 1616 4750 1894 4750 \nQ 2613 4750 3031 4423 \nQ 3450 4097 3450 3541 \nQ 3450 3153 3228 2886 \nQ 3006 2619 2597 2516 \nz\n\" id=\"DejaVuSans-33\" transform=\"scale(0.015625)\"/>\n       </defs>\n       <use xlink:href=\"#DejaVuSans-30\"/>\n       <use x=\"63.623047\" xlink:href=\"#DejaVuSans-2e\"/>\n       <use x=\"95.410156\" xlink:href=\"#DejaVuSans-33\"/>\n      </g>\n     </g>\n    </g>\n    <g id=\"ytick_2\">\n     <g id=\"line2d_11\">\n      <g>\n       <use style=\"stroke:#000000;stroke-width:0.8;\" x=\"30.103125\" xlink:href=\"#m1e83b23ef7\" y=\"185.906145\"/>\n      </g>\n     </g>\n     <g id=\"text_11\">\n      <!-- 0.4 -->\n      <g transform=\"translate(7.2 189.705364)scale(0.1 -0.1)\">\n       <defs>\n        <path d=\"M 2419 4116 \nL 825 1625 \nL 2419 1625 \nL 2419 4116 \nz\nM 2253 4666 \nL 3047 4666 \nL 3047 1625 \nL 3713 1625 \nL 3713 1100 \nL 3047 1100 \nL 3047 0 \nL 2419 0 \nL 2419 1100 \nL 313 1100 \nL 313 1709 \nL 2253 4666 \nz\n\" id=\"DejaVuSans-34\" transform=\"scale(0.015625)\"/>\n       </defs>\n       <use xlink:href=\"#DejaVuSans-30\"/>\n       <use x=\"63.623047\" xlink:href=\"#DejaVuSans-2e\"/>\n       <use x=\"95.410156\" xlink:href=\"#DejaVuSans-34\"/>\n      </g>\n     </g>\n    </g>\n    <g id=\"ytick_3\">\n     <g id=\"line2d_12\">\n      <g>\n       <use style=\"stroke:#000000;stroke-width:0.8;\" x=\"30.103125\" xlink:href=\"#m1e83b23ef7\" y=\"157.753737\"/>\n      </g>\n     </g>\n     <g id=\"text_12\">\n      <!-- 0.5 -->\n      <g transform=\"translate(7.2 161.552955)scale(0.1 -0.1)\">\n       <use xlink:href=\"#DejaVuSans-30\"/>\n       <use x=\"63.623047\" xlink:href=\"#DejaVuSans-2e\"/>\n       <use x=\"95.410156\" xlink:href=\"#DejaVuSans-35\"/>\n      </g>\n     </g>\n    </g>\n    <g id=\"ytick_4\">\n     <g id=\"line2d_13\">\n      <g>\n       <use style=\"stroke:#000000;stroke-width:0.8;\" x=\"30.103125\" xlink:href=\"#m1e83b23ef7\" y=\"129.601328\"/>\n      </g>\n     </g>\n     <g id=\"text_13\">\n      <!-- 0.6 -->\n      <g transform=\"translate(7.2 133.400547)scale(0.1 -0.1)\">\n       <defs>\n        <path d=\"M 2113 2584 \nQ 1688 2584 1439 2293 \nQ 1191 2003 1191 1497 \nQ 1191 994 1439 701 \nQ 1688 409 2113 409 \nQ 2538 409 2786 701 \nQ 3034 994 3034 1497 \nQ 3034 2003 2786 2293 \nQ 2538 2584 2113 2584 \nz\nM 3366 4563 \nL 3366 3988 \nQ 3128 4100 2886 4159 \nQ 2644 4219 2406 4219 \nQ 1781 4219 1451 3797 \nQ 1122 3375 1075 2522 \nQ 1259 2794 1537 2939 \nQ 1816 3084 2150 3084 \nQ 2853 3084 3261 2657 \nQ 3669 2231 3669 1497 \nQ 3669 778 3244 343 \nQ 2819 -91 2113 -91 \nQ 1303 -91 875 529 \nQ 447 1150 447 2328 \nQ 447 3434 972 4092 \nQ 1497 4750 2381 4750 \nQ 2619 4750 2861 4703 \nQ 3103 4656 3366 4563 \nz\n\" id=\"DejaVuSans-36\" transform=\"scale(0.015625)\"/>\n       </defs>\n       <use xlink:href=\"#DejaVuSans-30\"/>\n       <use x=\"63.623047\" xlink:href=\"#DejaVuSans-2e\"/>\n       <use x=\"95.410156\" xlink:href=\"#DejaVuSans-36\"/>\n      </g>\n     </g>\n    </g>\n    <g id=\"ytick_5\">\n     <g id=\"line2d_14\">\n      <g>\n       <use style=\"stroke:#000000;stroke-width:0.8;\" x=\"30.103125\" xlink:href=\"#m1e83b23ef7\" y=\"101.448919\"/>\n      </g>\n     </g>\n     <g id=\"text_14\">\n      <!-- 0.7 -->\n      <g transform=\"translate(7.2 105.248138)scale(0.1 -0.1)\">\n       <use xlink:href=\"#DejaVuSans-30\"/>\n       <use x=\"63.623047\" xlink:href=\"#DejaVuSans-2e\"/>\n       <use x=\"95.410156\" xlink:href=\"#DejaVuSans-37\"/>\n      </g>\n     </g>\n    </g>\n    <g id=\"ytick_6\">\n     <g id=\"line2d_15\">\n      <g>\n       <use style=\"stroke:#000000;stroke-width:0.8;\" x=\"30.103125\" xlink:href=\"#m1e83b23ef7\" y=\"73.296511\"/>\n      </g>\n     </g>\n     <g id=\"text_15\">\n      <!-- 0.8 -->\n      <g transform=\"translate(7.2 77.095729)scale(0.1 -0.1)\">\n       <defs>\n        <path d=\"M 2034 2216 \nQ 1584 2216 1326 1975 \nQ 1069 1734 1069 1313 \nQ 1069 891 1326 650 \nQ 1584 409 2034 409 \nQ 2484 409 2743 651 \nQ 3003 894 3003 1313 \nQ 3003 1734 2745 1975 \nQ 2488 2216 2034 2216 \nz\nM 1403 2484 \nQ 997 2584 770 2862 \nQ 544 3141 544 3541 \nQ 544 4100 942 4425 \nQ 1341 4750 2034 4750 \nQ 2731 4750 3128 4425 \nQ 3525 4100 3525 3541 \nQ 3525 3141 3298 2862 \nQ 3072 2584 2669 2484 \nQ 3125 2378 3379 2068 \nQ 3634 1759 3634 1313 \nQ 3634 634 3220 271 \nQ 2806 -91 2034 -91 \nQ 1263 -91 848 271 \nQ 434 634 434 1313 \nQ 434 1759 690 2068 \nQ 947 2378 1403 2484 \nz\nM 1172 3481 \nQ 1172 3119 1398 2916 \nQ 1625 2713 2034 2713 \nQ 2441 2713 2670 2916 \nQ 2900 3119 2900 3481 \nQ 2900 3844 2670 4047 \nQ 2441 4250 2034 4250 \nQ 1625 4250 1398 4047 \nQ 1172 3844 1172 3481 \nz\n\" id=\"DejaVuSans-38\" transform=\"scale(0.015625)\"/>\n       </defs>\n       <use xlink:href=\"#DejaVuSans-30\"/>\n       <use x=\"63.623047\" xlink:href=\"#DejaVuSans-2e\"/>\n       <use x=\"95.410156\" xlink:href=\"#DejaVuSans-38\"/>\n      </g>\n     </g>\n    </g>\n    <g id=\"ytick_7\">\n     <g id=\"line2d_16\">\n      <g>\n       <use style=\"stroke:#000000;stroke-width:0.8;\" x=\"30.103125\" xlink:href=\"#m1e83b23ef7\" y=\"45.144102\"/>\n      </g>\n     </g>\n     <g id=\"text_16\">\n      <!-- 0.9 -->\n      <g transform=\"translate(7.2 48.943321)scale(0.1 -0.1)\">\n       <defs>\n        <path d=\"M 703 97 \nL 703 672 \nQ 941 559 1184 500 \nQ 1428 441 1663 441 \nQ 2288 441 2617 861 \nQ 2947 1281 2994 2138 \nQ 2813 1869 2534 1725 \nQ 2256 1581 1919 1581 \nQ 1219 1581 811 2004 \nQ 403 2428 403 3163 \nQ 403 3881 828 4315 \nQ 1253 4750 1959 4750 \nQ 2769 4750 3195 4129 \nQ 3622 3509 3622 2328 \nQ 3622 1225 3098 567 \nQ 2575 -91 1691 -91 \nQ 1453 -91 1209 -44 \nQ 966 3 703 97 \nz\nM 1959 2075 \nQ 2384 2075 2632 2365 \nQ 2881 2656 2881 3163 \nQ 2881 3666 2632 3958 \nQ 2384 4250 1959 4250 \nQ 1534 4250 1286 3958 \nQ 1038 3666 1038 3163 \nQ 1038 2656 1286 2365 \nQ 1534 2075 1959 2075 \nz\n\" id=\"DejaVuSans-39\" transform=\"scale(0.015625)\"/>\n       </defs>\n       <use xlink:href=\"#DejaVuSans-30\"/>\n       <use x=\"63.623047\" xlink:href=\"#DejaVuSans-2e\"/>\n       <use x=\"95.410156\" xlink:href=\"#DejaVuSans-39\"/>\n      </g>\n     </g>\n    </g>\n    <g id=\"ytick_8\">\n     <g id=\"line2d_17\">\n      <g>\n       <use style=\"stroke:#000000;stroke-width:0.8;\" x=\"30.103125\" xlink:href=\"#m1e83b23ef7\" y=\"16.991693\"/>\n      </g>\n     </g>\n     <g id=\"text_17\">\n      <!-- 1.0 -->\n      <g transform=\"translate(7.2 20.790912)scale(0.1 -0.1)\">\n       <use xlink:href=\"#DejaVuSans-31\"/>\n       <use x=\"63.623047\" xlink:href=\"#DejaVuSans-2e\"/>\n       <use x=\"95.410156\" xlink:href=\"#DejaVuSans-30\"/>\n      </g>\n     </g>\n    </g>\n   </g>\n   <g id=\"line2d_18\">\n    <path clip-path=\"url(#pfdded2f70c)\" d=\"M 45.321307 214.756364 \nL 47.01307 141.600633 \nL 47.320664 130.74037 \nL 47.47446 130.962247 \nL 47.628257 128.947977 \nL 48.39724 107.411401 \nL 49.166224 91.15077 \nL 49.627614 83.955367 \nL 49.781411 82.36931 \nL 50.089004 74.288756 \nL 50.242801 76.410662 \nL 50.396597 130.821032 \nL 50.550394 114.09699 \nL 50.704191 118.064165 \nL 50.857987 115.117932 \nL 51.319377 97.82716 \nL 51.626971 94.511992 \nL 51.934564 91.742029 \nL 53.011141 77.464654 \nL 53.164938 78.129606 \nL 53.472531 76.40634 \nL 53.933921 71.265914 \nL 54.549108 65.629587 \nL 55.164295 61.537588 \nL 55.318091 60.738228 \nL 55.933278 55.206549 \nL 56.087075 54.69313 \nL 56.240871 55.029875 \nL 56.394668 52.673666 \nL 56.548465 54.381436 \nL 56.702261 53.28322 \nL 56.856058 53.671483 \nL 57.009855 52.54082 \nL 57.163651 52.516914 \nL 57.471245 49.997528 \nL 57.625041 49.976164 \nL 58.547822 45.439393 \nL 58.701618 47.865058 \nL 58.855415 44.548675 \nL 59.009212 47.69907 \nL 59.163008 46.616717 \nL 59.316805 47.181238 \nL 59.931992 45.165953 \nL 60.547178 43.200322 \nL 61.008569 40.712984 \nL 61.469959 38.289068 \nL 61.623755 38.210165 \nL 61.931349 39.633319 \nL 62.085145 38.03579 \nL 62.392739 55.009738 \nL 63.007925 40.958989 \nL 63.161722 41.755116 \nL 63.776909 48.277887 \nL 63.930706 48.514023 \nL 64.084502 48.977345 \nL 64.392096 47.598535 \nL 65.468672 40.645607 \nL 65.776266 39.982388 \nL 66.083859 39.663994 \nL 66.237656 41.063042 \nL 66.391452 41.299669 \nL 66.699046 40.513843 \nL 66.852842 40.41159 \nL 67.468029 39.21178 \nL 67.621826 38.651129 \nL 67.929419 38.423102 \nL 68.390809 37.272585 \nL 68.698403 37.169693 \nL 69.774979 35.197324 \nL 70.082573 34.598206 \nL 70.23637 34.55707 \nL 70.390166 35.327957 \nL 70.69776 49.143008 \nL 71.005353 42.906717 \nL 71.312946 38.948175 \nL 71.466743 38.653887 \nL 71.62054 39.115843 \nL 72.389523 43.299957 \nL 72.54332 43.490727 \nL 72.697116 43.467989 \nL 73.00471 42.904095 \nL 73.619897 40.494386 \nL 74.38888 37.36834 \nL 75.004067 36.118313 \nL 75.465457 35.631641 \nL 77.15722 34.313234 \nL 80.079357 30.878719 \nL 82.078714 29.290786 \nL 85.923631 26.717501 \nL 88.691972 25.294373 \nL 91.460312 24.104004 \nL 94.536245 23.025849 \nL 97.612179 22.176275 \nL 102.841266 21.016436 \nL 103.917843 20.826749 \nL 104.07164 20.780345 \nL 104.53303 21.071783 \nL 105.763403 20.870153 \nL 115.298798 19.625874 \nL 122.527242 19.020486 \nL 131.755043 18.492767 \nL 142.367014 18.10656 \nL 145.442948 18.069478 \nL 146.365728 18.289398 \nL 155.132139 18.161875 \nL 157.439089 18.138287 \nL 180.969982 17.768758 \nL 182.815542 17.741059 \nL 186.660459 17.669797 \nL 200.96355 17.551148 \nL 230.800107 17.357032 \nL 285.39793 17.170525 \nL 349.684943 17.083636 \nL 349.684943 17.083636 \n\" style=\"fill:none;stroke:#1f77b4;stroke-linecap:square;stroke-width:1.5;\"/>\n   </g>\n   <g id=\"line2d_19\">\n    <path clip-path=\"url(#pfdded2f70c)\" d=\"M 45.321307 165.015291 \nL 46.55168 131.753343 \nL 47.320664 116.48482 \nL 47.47446 122.748057 \nL 47.628257 124.42377 \nL 49.473817 98.466062 \nL 50.242801 89.915476 \nL 50.396597 92.333627 \nL 50.704191 88.584233 \nL 52.088361 75.137484 \nL 52.857344 69.097699 \nL 53.011141 68.814276 \nL 53.164938 73.031072 \nL 53.318734 74.181027 \nL 53.472531 74.307355 \nL 53.626328 73.606109 \nL 54.241514 67.286793 \nL 54.702905 64.938223 \nL 55.010498 63.983679 \nL 55.318091 63.662497 \nL 55.933278 56.0762 \nL 56.087075 56.673115 \nL 56.240871 59.79146 \nL 56.394668 54.620391 \nL 56.548465 61.730177 \nL 56.702261 60.266287 \nL 56.856058 63.093125 \nL 57.009855 59.962201 \nL 57.163651 90.446411 \nL 57.471245 57.811394 \nL 57.625041 74.59882 \nL 57.932635 70.851175 \nL 58.547822 66.255198 \nL 58.701618 73.76066 \nL 58.855415 65.612212 \nL 59.009212 74.986457 \nL 59.163008 72.855865 \nL 59.316805 75.033525 \nL 61.008569 64.62922 \nL 61.777552 60.699011 \nL 61.931349 60.439038 \nL 62.085145 60.918007 \nL 62.238942 60.936951 \nL 62.392739 61.46405 \nL 63.007925 57.274525 \nL 63.469315 56.002303 \nL 63.623112 55.730773 \nL 63.776909 56.093625 \nL 63.930706 55.286696 \nL 64.084502 56.476543 \nL 65.468672 50.940269 \nL 65.776266 50.099203 \nL 65.930062 50.187849 \nL 66.083859 49.716198 \nL 66.237656 50.832361 \nL 66.545249 55.544618 \nL 66.699046 53.041737 \nL 66.852842 55.268189 \nL 67.006639 54.66336 \nL 67.160436 55.661623 \nL 67.314233 53.516509 \nL 67.468029 56.400558 \nL 67.621826 52.678302 \nL 67.929419 61.976781 \nL 68.390809 57.804756 \nL 68.698403 62.328435 \nL 69.005996 60.874643 \nL 70.23637 56.798169 \nL 70.390166 56.417805 \nL 70.543963 56.928292 \nL 70.69776 56.841813 \nL 71.466743 53.748957 \nL 72.235726 52.217657 \nL 73.00471 50.691163 \nL 73.158507 49.378534 \nL 73.312303 50.718676 \nL 73.4661 50.521167 \nL 74.235083 48.454481 \nL 74.38888 48.13171 \nL 74.542677 48.589495 \nL 74.85027 48.241431 \nL 75.619253 46.612165 \nL 76.849627 44.316935 \nL 77.003424 44.517067 \nL 78.08 42.635864 \nL 78.387594 42.139984 \nL 78.54139 42.354663 \nL 79.00278 41.586104 \nL 80.386951 39.685077 \nL 80.540747 39.654941 \nL 82.078714 37.797838 \nL 82.232511 37.827006 \nL 83.616681 36.301659 \nL 85.616038 34.36921 \nL 87.922988 32.454197 \nL 91.460312 29.892709 \nL 94.074855 28.325898 \nL 96.689399 27.008781 \nL 100.226723 25.550272 \nL 102.533673 24.685225 \nL 103.917843 24.294409 \nL 104.07164 24.217956 \nL 104.53303 24.647597 \nL 105.45581 24.370533 \nL 108.839337 23.44793 \nL 112.069067 22.707863 \nL 117.759545 21.68006 \nL 123.296225 20.904114 \nL 130.063279 20.183508 \nL 137.44552 19.598741 \nL 137.753114 19.900266 \nL 138.214504 20.400159 \nL 138.522097 20.486678 \nL 138.983487 20.361437 \nL 140.060064 19.950572 \nL 141.136641 19.921981 \nL 142.520811 19.85241 \nL 144.058778 19.812162 \nL 144.827761 19.707381 \nL 145.135354 19.622911 \nL 145.442948 19.824095 \nL 146.211931 20.826805 \nL 146.519524 20.86802 \nL 146.980915 20.675062 \nL 147.749898 20.335907 \nL 149.134068 20.298308 \nL 151.748612 20.253368 \nL 152.363798 20.576351 \nL 152.978985 20.571282 \nL 154.516952 20.233091 \nL 155.439732 20.492275 \nL 157.439089 20.426003 \nL 180.508591 19.299141 \nL 181.585168 19.434483 \nL 182.815542 19.317451 \nL 184.199712 19.155045 \nL 185.737679 19.654794 \nL 186.814256 19.51035 \nL 188.659816 19.272168 \nL 189.121206 19.375067 \nL 190.043986 19.805563 \nL 193.427513 19.801075 \nL 196.503447 19.616159 \nL 201.271144 19.305222 \nL 203.116704 19.466725 \nL 207.115418 19.255685 \nL 209.729961 19.432968 \nL 211.883115 19.344509 \nL 216.035625 19.286569 \nL 217.727389 19.28085 \nL 223.571663 19.050359 \nL 273.863178 18.072991 \nL 311.850959 17.710696 \nL 349.684943 17.496781 \nL 349.684943 17.496781 \n\" style=\"fill:none;stroke:#ff7f0e;stroke-linecap:square;stroke-width:1.5;\"/>\n   </g>\n   <g id=\"patch_3\">\n    <path d=\"M 30.103125 224.64 \nL 30.103125 7.2 \n\" style=\"fill:none;stroke:#000000;stroke-linecap:square;stroke-linejoin:miter;stroke-width:0.8;\"/>\n   </g>\n   <g id=\"patch_4\">\n    <path d=\"M 364.903125 224.64 \nL 364.903125 7.2 \n\" style=\"fill:none;stroke:#000000;stroke-linecap:square;stroke-linejoin:miter;stroke-width:0.8;\"/>\n   </g>\n   <g id=\"patch_5\">\n    <path d=\"M 30.103125 224.64 \nL 364.903125 224.64 \n\" style=\"fill:none;stroke:#000000;stroke-linecap:square;stroke-linejoin:miter;stroke-width:0.8;\"/>\n   </g>\n   <g id=\"patch_6\">\n    <path d=\"M 30.103125 7.2 \nL 364.903125 7.2 \n\" style=\"fill:none;stroke:#000000;stroke-linecap:square;stroke-linejoin:miter;stroke-width:0.8;\"/>\n   </g>\n  </g>\n </g>\n <defs>\n  <clipPath id=\"pfdded2f70c\">\n   <rect height=\"217.44\" width=\"334.8\" x=\"30.103125\" y=\"7.2\"/>\n  </clipPath>\n </defs>\n</svg>\n",
      "image/png": "[encoded data removed]"
     },
     "metadata": {
      "needs_background": "light"
     }
    }
   ],
   "source": [
    "plt.plot(a)\n",
    "plt.plot(a2)"
   ]
  },
  {
   "cell_type": "code",
   "execution_count": null,
   "metadata": {},
   "outputs": [],
   "source": [
    "print(np.max((G@P).T[2] - D.T[2]))"
   ]
  },
  {
   "cell_type": "code",
   "execution_count": null,
   "metadata": {},
   "outputs": [],
   "source": []
  }
 ]
}