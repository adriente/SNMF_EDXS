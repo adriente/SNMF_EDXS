{
 "metadata": {
  "language_info": {
   "codemirror_mode": {
    "name": "ipython",
    "version": 3
   },
   "file_extension": ".py",
   "mimetype": "text/x-python",
   "name": "python",
   "nbconvert_exporter": "python",
   "pygments_lexer": "ipython3",
   "version": "3.8.5-final"
  },
  "orig_nbformat": 2,
  "kernelspec": {
   "name": "python3",
   "display_name": "Python 3.8.5 64-bit ('SNMF_EDXS--pNpjmq1')",
   "metadata": {
    "interpreter": {
     "hash": "508ccdc6fb5be5f7fd5f6d84709a2756aa123300835f386535c0d36e037b0594"
    }
   }
  }
 },
 "nbformat": 4,
 "nbformat_minor": 2,
 "cells": [
  {
   "cell_type": "code",
   "execution_count": null,
   "metadata": {},
   "outputs": [],
   "source": [
    "%load_ext autoreload\n",
    "%autoreload 2\n",
    "%matplotlib inline"
   ]
  },
  {
   "cell_type": "code",
   "execution_count": null,
   "metadata": {},
   "outputs": [],
   "source": [
    "import numpy as np\n",
    "import multiprocessing\n",
    "from snmfem.updates import dichotomy_simplex\n",
    "import tqdm"
   ]
  },
  {
   "cell_type": "code",
   "execution_count": null,
   "metadata": {},
   "outputs": [],
   "source": [
    "k = 5\n",
    "p = 6400\n",
    "span = np.logspace(-8,8,num=17)\n",
    "iter = 100\n",
    "TIMEOUT = 5"
   ]
  },
  {
   "cell_type": "code",
   "execution_count": null,
   "metadata": {},
   "outputs": [],
   "source": [
    "for i in tqdm.tqdm(range(iter)) : \n",
    "    scale_num = np.random.choice(span,size=(k,p))\n",
    "    num = scale_num * np.random.rand(k,p)\n",
    "    scale_denum = np.random.choice(span,size=(k,p))\n",
    "    denum = scale_denum * np.random.rand(k,p)\n",
    "    dichotomy_simplex(num, denum)\n",
    "    # process = multiprocessing.Process(target=dichotomy_simplex, name=\"fonction de ses morts\", args=(num,denum))\n",
    "    # process.start()\n",
    "    # process.join(TIMEOUT)\n",
    "    # if process.is_alive() :\n",
    "    #     print('function terminated')\n",
    "    #     N, D = num, denum\n",
    "    #     process.terminate()\n",
    "    #     process.join()\n",
    "    #     break"
   ]
  },
  {
   "cell_type": "code",
   "execution_count": null,
   "metadata": {},
   "outputs": [],
   "source": [
    "import hyperspy.api as hs \n",
    "import numpy as np\n",
    "import snmfem.conf as conf\n",
    "from pathlib import Path\n",
    "import json\n",
    "\n",
    "data_json = conf.SCRIPT_CONFIG_PATH / Path(\"dataset_EDXS_small.json\")\n",
    "with open(data_json,\"r\") as f :\n",
    "    data_dict = json.load(f)\n",
    "\n",
    "num_list = [0]\n",
    "data_folder = conf.DATASETS_PATH / Path(data_dict[\"data_folder\"])\n",
    "samples = [data_folder / Path(\"sample_{}.npz\".format(i)) for i in num_list ]\n",
    "\n",
    "def load_data(sample) : \n",
    "    data = np.load(sample)\n",
    "    X = data[\"X\"]\n",
    "    nx, ny, ns = X.shape\n",
    "    Xflat = X.transpose([2,0,1]).reshape(ns, nx*ny)\n",
    "    densities = data[\"densities\"]\n",
    "    phases = data[\"phases\"]\n",
    "    true_spectra_flat = np.expand_dims(densities, axis=1) * phases * data[\"N\"]\n",
    "    true_maps = data[\"weights\"]\n",
    "    k = true_maps.shape[2]\n",
    "    true_maps_flat = true_maps.transpose([2,0,1]).reshape(k,nx*ny)\n",
    "    G = data[\"G\"]\n",
    "    return Xflat, true_spectra_flat, true_maps_flat, G\n",
    "\n"
   ]
  },
  {
   "cell_type": "code",
   "execution_count": null,
   "metadata": {},
   "outputs": [],
   "source": [
    "nx,ny = data_dict[\"weights_parameters\"][\"shape_2D\"]\n",
    "e_size = data_dict[\"model_parameters\"][\"e_size\"]\n",
    "X = load_data(samples[0])[0].T.reshape(nx,ny,e_size)\n",
    "S = hs.signals.Signal1D(X)"
   ]
  },
  {
   "cell_type": "code",
   "execution_count": null,
   "metadata": {},
   "outputs": [],
   "source": [
    "roi=hs.roi.RectangularROI(3,3,18,20)\n",
    "S.plot(navigator=\"auto\")\n",
    "spim_ROI=roi.interactive(S)\n",
    "    \n",
    "sum_ROI=hs.interactive(spim_ROI.sum,\n",
    "               event=spim_ROI.axes_manager.events.any_axis_changed,\n",
    "               recompute_out_event=None)\n",
    "sum_ROI.plot()"
   ]
  },
  {
   "cell_type": "code",
   "execution_count": null,
   "metadata": {},
   "outputs": [],
   "source": []
  }
 ]
}