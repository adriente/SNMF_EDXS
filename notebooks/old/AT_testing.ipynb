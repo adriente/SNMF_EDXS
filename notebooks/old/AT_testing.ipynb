{
 "metadata": {
  "language_info": {
   "codemirror_mode": {
    "name": "ipython",
    "version": 3
   },
   "file_extension": ".py",
   "mimetype": "text/x-python",
   "name": "python",
   "nbconvert_exporter": "python",
   "pygments_lexer": "ipython3",
   "version": "3.8.5"
  },
  "orig_nbformat": 2,
  "kernelspec": {
   "name": "python3",
   "display_name": "Python 3.8.5 64-bit ('SNMF_EDXS--pNpjmq1': pipenv)"
  },
  "interpreter": {
   "hash": "ae2bec25d04a58403981d6892379486339cbb2cd6f315f3a399785dd0e4b6656"
  }
 },
 "nbformat": 4,
 "nbformat_minor": 2,
 "cells": [
  {
   "cell_type": "code",
   "execution_count": null,
   "source": [
    "%load_ext autoreload\n",
    "%autoreload 2\n",
    "%matplotlib inline"
   ],
   "outputs": [],
   "metadata": {}
  },
  {
   "cell_type": "code",
   "execution_count": null,
   "source": [
    "import numpy as np\n",
    "import multiprocessing\n",
    "from snmfem.updates import dichotomy_simplex\n",
    "import tqdm"
   ],
   "outputs": [],
   "metadata": {}
  },
  {
   "cell_type": "code",
   "execution_count": null,
   "source": [
    "k = 5\n",
    "p = 6400\n",
    "span = np.logspace(-8,8,num=17)\n",
    "iter = 100\n",
    "TIMEOUT = 5"
   ],
   "outputs": [],
   "metadata": {}
  },
  {
   "cell_type": "code",
   "execution_count": null,
   "source": [
    "for i in tqdm.tqdm(range(iter)) : \n",
    "    scale_num = np.random.choice(span,size=(k,p))\n",
    "    num = scale_num * np.random.rand(k,p)\n",
    "    scale_denum = np.random.choice(span,size=(k,p))\n",
    "    denum = scale_denum * np.random.rand(k,p)\n",
    "    dichotomy_simplex(num, denum)\n",
    "    # process = multiprocessing.Process(target=dichotomy_simplex, name=\"fonction de ses morts\", args=(num,denum))\n",
    "    # process.start()\n",
    "    # process.join(TIMEOUT)\n",
    "    # if process.is_alive() :\n",
    "    #     print('function terminated')\n",
    "    #     N, D = num, denum\n",
    "    #     process.terminate()\n",
    "    #     process.join()\n",
    "    #     break"
   ],
   "outputs": [],
   "metadata": {}
  },
  {
   "cell_type": "markdown",
   "source": [
    "# Tentative de faire un plot interactif des SpIm"
   ],
   "metadata": {}
  },
  {
   "cell_type": "code",
   "execution_count": null,
   "source": [
    "import hyperspy.api as hs \n",
    "import numpy as np\n",
    "import snmfem.conf as conf\n",
    "from pathlib import Path\n",
    "import json\n",
    "\n",
    "data_json = conf.SCRIPT_CONFIG_PATH / Path(\"dataset_EDXS_small.json\")\n",
    "with open(data_json,\"r\") as f :\n",
    "    data_dict = json.load(f)\n",
    "\n",
    "num_list = [0]\n",
    "data_folder = conf.DATASETS_PATH / Path(data_dict[\"data_folder\"])\n",
    "samples = [data_folder / Path(\"sample_{}.npz\".format(i)) for i in num_list ]\n",
    "\n",
    "def load_data(sample) : \n",
    "    data = np.load(sample)\n",
    "    X = data[\"X\"]\n",
    "    nx, ny, ns = X.shape\n",
    "    Xflat = X.transpose([2,0,1]).reshape(ns, nx*ny)\n",
    "    densities = data[\"densities\"]\n",
    "    phases = data[\"phases\"]\n",
    "    true_spectra_flat = np.expand_dims(densities, axis=1) * phases * data[\"N\"]\n",
    "    true_maps = data[\"weights\"]\n",
    "    k = true_maps.shape[2]\n",
    "    true_maps_flat = true_maps.transpose([2,0,1]).reshape(k,nx*ny)\n",
    "    G = data[\"G\"]\n",
    "    return Xflat, true_spectra_flat, true_maps_flat, G\n",
    "\n"
   ],
   "outputs": [],
   "metadata": {}
  },
  {
   "cell_type": "code",
   "execution_count": null,
   "source": [
    "nx,ny = data_dict[\"weights_parameters\"][\"shape_2D\"]\n",
    "e_size = data_dict[\"model_parameters\"][\"e_size\"]\n",
    "X = load_data(samples[0])[0].T.reshape(nx,ny,e_size)\n",
    "S = hs.signals.Signal1D(X)"
   ],
   "outputs": [],
   "metadata": {}
  },
  {
   "cell_type": "code",
   "execution_count": null,
   "source": [
    "roi=hs.roi.RectangularROI(3,3,18,20)\n",
    "S.plot(navigator=\"auto\")\n",
    "spim_ROI=roi.interactive(S)\n",
    "    \n",
    "sum_ROI=hs.interactive(spim_ROI.sum,\n",
    "               event=spim_ROI.axes_manager.events.any_axis_changed,\n",
    "               recompute_out_event=None)\n",
    "sum_ROI.plot()"
   ],
   "outputs": [],
   "metadata": {}
  },
  {
   "cell_type": "markdown",
   "source": [
    "# Plot results"
   ],
   "metadata": {}
  },
  {
   "cell_type": "code",
   "execution_count": null,
   "source": [
    "from snmfem.conf import RESULTS_PATH, DATASETS_PATH\n",
    "from snmfem.experiments import load_data\n",
    "from pathlib import Path\n",
    "import matplotlib.pyplot as plt\n",
    "file = \"best_lambda.npz\"\n",
    "dataset_path = DATASETS_PATH / Path(\"aspim037_N100_2ptcls_brstlg/sample_4.npz\")\n",
    "path = RESULTS_PATH / Path(file)\n",
    "data = np.load(path)\n",
    "X,true_spectra,true_maps,G,shape_2d = load_data(dataset_path)"
   ],
   "outputs": [],
   "metadata": {}
  },
  {
   "cell_type": "code",
   "execution_count": null,
   "source": [
    "GP = data[\"GP\"]\n",
    "A = data[\"A\"]\n",
    "metrics = data[\"metrics\"]\n",
    "losses = data[\"losses\"]"
   ],
   "outputs": [],
   "metadata": {}
  },
  {
   "cell_type": "code",
   "execution_count": null,
   "source": [
    "\n",
    "fig,axes = plt.subplots(3,3,figsize= (50,50))\n",
    "for i in range(3) : \n",
    "    axes[i,0].plot(true_spectra[i],'bo',label='truth',markersize = 5)\n",
    "    axes[i,0].plot(GP[:,i],'r-',label='reconstructed',linewidth = 2)\n",
    "    axes[i,1].imshow(A[i].reshape(shape_2d))\n",
    "    axes[i,2].imshow(true_maps[i].reshape(shape_2d))\n",
    "axes[0,0].legend(fontsize = 22)\n",
    "axes[0,0].set_title(\"True vs reconstructed spectra\",fontsize = 22)\n",
    "axes[0,1].set_title(\"Reconstructed maps\",fontsize = 22)\n",
    "axes[0,2].set_title(\"True maps\",fontsize = 22)\n",
    "    "
   ],
   "outputs": [],
   "metadata": {}
  },
  {
   "cell_type": "code",
   "execution_count": null,
   "source": [
    "fig, axes = plt.subplots(1,len(losses.dtype),figsize=(50,10))\n",
    "for i,key in enumerate(losses.dtype.names) : \n",
    "    axes[i].plot(losses[key])\n",
    "    axes[i].set_title(key,fontsize = 22)"
   ],
   "outputs": [],
   "metadata": {}
  },
  {
   "cell_type": "code",
   "execution_count": null,
   "source": [
    "import snmfem.measures as m\n",
    "import numpy as np \n",
    "import matplotlib.pyplot as plt \n",
    "\n",
    "a = 130*np.random.rand(3,256)\n",
    "c = 23*np.random.rand(3,256)\n",
    "ac = m.square_distance(a,c)\n",
    "b = m.square_distance(a,np.zeros_like(a))\n",
    "x = ac/b"
   ],
   "outputs": [],
   "metadata": {}
  },
  {
   "cell_type": "code",
   "execution_count": null,
   "source": [
    "plt.imshow(ac)\n",
    "plt.colorbar()"
   ],
   "outputs": [],
   "metadata": {}
  },
  {
   "cell_type": "code",
   "execution_count": null,
   "source": [
    "plt.imshow(b)\n",
    "plt.colorbar()"
   ],
   "outputs": [],
   "metadata": {}
  },
  {
   "cell_type": "code",
   "execution_count": null,
   "source": [
    "plt.imshow(x)\n",
    "plt.colorbar()"
   ],
   "outputs": [],
   "metadata": {}
  },
  {
   "cell_type": "code",
   "execution_count": null,
   "source": [
    "for i in range(b.shape[0])  : \n",
    "    b[i,i] = 1"
   ],
   "outputs": [],
   "metadata": {}
  },
  {
   "cell_type": "markdown",
   "source": [
    "# Plots for PICO poster"
   ],
   "metadata": {}
  },
  {
   "cell_type": "code",
   "execution_count": null,
   "source": [
    "from snmfem.models import edxs\n",
    "import numpy as np\n",
    "from snmfem.models import EDXS_function as f\n",
    "import matplotlib.pyplot as plt \n",
    "import hyperspy.api as hs\n",
    "from scipy.optimize import curve_fit\n",
    "\n",
    "file = \"1135 EDS-HAADF.emd\"\n",
    "s1, haadf, spim = hs.load(file)\n",
    "offset = spim.axes_manager[2].offset\n",
    "size = spim.axes_manager[2].size\n",
    "scale = spim.axes_manager[2].scale\n",
    "max = offset + scale * size\n",
    "\n",
    "x = np.linspace(offset,max,num= size)\n",
    "spectrum = np.average(spim.data,axis= (0,1))\n",
    "db = \"default_xrays.json\"\n",
    "mod = edxs.EDXS(offset,size,scale,{},db_name = db)\n",
    "mod.generate_g_matr([79])"
   ],
   "outputs": [],
   "metadata": {
    "tags": []
   }
  },
  {
   "cell_type": "code",
   "execution_count": null,
   "source": [
    "x1 = x[2230:2280]\n",
    "x2 = x[2920:3000]\n",
    "xdata = np.concatenate((x1,x2))\n",
    "y1 = spectrum[2230:2280]\n",
    "y2 = spectrum[2920:3000]\n",
    "ydata = np.concatenate((y1,y2))\n",
    "\n",
    "def droite (x,a,b) : \n",
    "    return a*x + b\n",
    "\n",
    "popt, pcov = curve_fit(droite, xdata, ydata)\n",
    "\n",
    "bkgdL = droite(x,*popt)"
   ],
   "outputs": [],
   "metadata": {}
  },
  {
   "cell_type": "code",
   "execution_count": null,
   "source": [
    "x1 = x[350:400]\n",
    "x2 = x[700:800]\n",
    "xdata = np.concatenate((x1,x2))\n",
    "y1 = spectrum[350:400]\n",
    "y2 = spectrum[700:800]\n",
    "ydata = np.concatenate((y1,y2))\n",
    "\n",
    "def droite (x,a,b) : \n",
    "    return a*x + b\n",
    "\n",
    "popt, pcov = curve_fit(droite, xdata, ydata)\n",
    "\n",
    "bkgdM = droite(x,*popt)"
   ],
   "outputs": [],
   "metadata": {}
  },
  {
   "cell_type": "code",
   "execution_count": null,
   "source": [
    "markers = [\"o-\",\".-\",\"--\",\">-\",\"^-\",\"<-\",\"s-\",\"p-\",\"X-\"]\n",
    "for i, line in enumerate(mod.G.T) : \n",
    "    plt.plot(line,markers[i],markevery= 10,label=str(i))\n",
    "    plt.plot(spectrum)\n",
    "    plt.xlim(200,1000)\n",
    "    plt.ylim(0,0.02)\n",
    "\n",
    "plt.legend()"
   ],
   "outputs": [],
   "metadata": {
    "tags": []
   }
  },
  {
   "cell_type": "code",
   "execution_count": null,
   "source": [
    "plt.plot(x,spectrum,label=\"exp\")\n",
    "plt.plot(x,bkgdM + mod.G.T[0]*3.3e19,label=\"theo\")\n",
    "plt.ylim(0,0.08)\n",
    "plt.xlim(0,5)\n",
    "plt.legend()\n",
    "plt.title(\"Gold M Lines\")"
   ],
   "outputs": [],
   "metadata": {}
  },
  {
   "cell_type": "code",
   "execution_count": null,
   "source": [
    "plt.plot(x,spectrum,label=\"exp\")\n",
    "plt.plot(x,bkgdL + mod.G.T[0]*3.3e19,label=\"theo\")\n",
    "plt.ylim(0,0.025)\n",
    "plt.xlim(9,15)\n",
    "plt.legend()\n",
    "plt.title(\"Gold L Lines\")"
   ],
   "outputs": [],
   "metadata": {}
  },
  {
   "cell_type": "code",
   "execution_count": null,
   "source": [
    "plt.plot(x,mod.G)"
   ],
   "outputs": [],
   "metadata": {}
  },
  {
   "cell_type": "code",
   "execution_count": null,
   "source": [
    "np.savetxt(\"G_Zn.txt\",mod.G.T)"
   ],
   "outputs": [],
   "metadata": {}
  },
  {
   "cell_type": "code",
   "execution_count": null,
   "source": [
    "dict = {\"c0\" : 4.8935e-05, \n",
    "                                          \"c1\" : 1464.19810,\n",
    "                                          \"c2\" : 0.04216872,\n",
    "                                          \"b0\" : 0.15910789,\n",
    "                                          \"b1\" : -0.00773158,\n",
    "                                          \"b2\" : 8.7417e-04,\n",
    "                                          \"k\" : 3}\n",
    "\n",
    "s = hs.load(\"/mnt/c/Users/teurtrie/Travail/SNMF_EDXS/snmfem/Data/average_spectrum_1537.hspy\")\n",
    "s2 = s.isig[0.5:10.0]"
   ],
   "outputs": [],
   "metadata": {}
  },
  {
   "cell_type": "code",
   "execution_count": null,
   "source": [
    "E = np.linspace(0.2,20.0,num = 2000)\n",
    "\n",
    "plt.plot(E,b)\n",
    "plt.plot(E,d)\n",
    "plt.plot(E,a)\n",
    "plt.plot(E,a*b*d)"
   ],
   "outputs": [],
   "metadata": {}
  },
  {
   "cell_type": "code",
   "execution_count": null,
   "source": [
    "db = \"default_xrays.json\"\n",
    "mod = edxs.EDXS(0.49765,1900,0.005,{},db_name = db)\n",
    "mod.generate_g_matr([30])\n",
    "\n",
    "x = np.linspace(0.49765,1900*0.005 + 0.49765,num = 1900)\n",
    "b = f.bremsstrahlung(x,0.0053,-3.74e-5,3.55e-12)\n",
    "abs = f.simple_abs_coeff(x)\n",
    "d = f.detector(abs,3867,0.019)\n",
    "a = f.self_abs(abs,0.0082)\n",
    "plt.plot(x,s2.data,\"ko-\",markersize = 3,markevery = 20,label = \"experimental\")\n",
    "plt.plot(x,a*b*d,\"r\",label = \"model\",linewidth = 2)\n",
    "plt.plot(x,0.0035*mod.G.T[0] + a*b*d)\n",
    "plt.ylim(-0.001,0.05)\n",
    "plt.xlim(8,10)\n",
    "plt.xlabel(\"Energy (keV)\")\n",
    "plt.yticks([])\n",
    "plt.legend()\n",
    "plt.ylabel(\"Intensity (arb. unit)\")"
   ],
   "outputs": [],
   "metadata": {}
  },
  {
   "cell_type": "code",
   "execution_count": null,
   "source": [
    "array = np.vstack([x,s2.data,b*a*d])"
   ],
   "outputs": [],
   "metadata": {}
  },
  {
   "cell_type": "code",
   "execution_count": null,
   "source": [
    "np.savetxt(\"brem.txt\",array)"
   ],
   "outputs": [],
   "metadata": {}
  },
  {
   "cell_type": "code",
   "execution_count": null,
   "source": [
    "s = hs.load(\"/mnt/c/Users/teurtrie/Travail/SNMF_EDXS/snmfem/Data/71GPa_subsolidus.hspy\")"
   ],
   "outputs": [],
   "metadata": {}
  },
  {
   "cell_type": "code",
   "execution_count": null,
   "source": [
    "s.data = s.data.astype(\"float64\")\n",
    "s.decomposition(True,output_dimension = 3, algorithm = \"NMF\",max_iter = 1000)"
   ],
   "outputs": [],
   "metadata": {}
  },
  {
   "cell_type": "code",
   "execution_count": null,
   "source": [
    "sc = s.get_decomposition_factors()"
   ],
   "outputs": [],
   "metadata": {}
  },
  {
   "cell_type": "code",
   "execution_count": null,
   "source": [
    "y = sc.inav[1].data\n",
    "x = np.linspace(s.axes_manager[2].offset,s.axes_manager[2].scale * s.axes_manager[2].size + s.axes_manager[2].offset, num = s.axes_manager[2].size)"
   ],
   "outputs": [],
   "metadata": {}
  },
  {
   "cell_type": "code",
   "execution_count": null,
   "source": [
    "h = np.vstack((x,y))\n",
    "np.savetxt(\"nmf_artefacts.txt\",h)"
   ],
   "outputs": [],
   "metadata": {}
  },
  {
   "cell_type": "code",
   "execution_count": null,
   "source": [
    "import numpy as np\n",
    "import matplotlib.pyplot as plt \n",
    "a = np.load(\"/mnt/c/Users/teurtrie/Travail/SNMF_EDXS/results/dump.npz\")\n",
    "m = a[\"A\"][0,:]"
   ],
   "outputs": [],
   "metadata": {}
  },
  {
   "cell_type": "code",
   "execution_count": null,
   "source": [
    "plt.imshow(m.reshape(80,80))"
   ],
   "outputs": [],
   "metadata": {}
  },
  {
   "cell_type": "code",
   "execution_count": null,
   "source": [
    "for key in a.keys() :\n",
    "    print(key)"
   ],
   "outputs": [],
   "metadata": {}
  },
  {
   "cell_type": "code",
   "execution_count": null,
   "source": [
    "import json\n",
    "table = {\"table\" : {\"K\" : 3,\"X\" : 4}}\n",
    "cs = {\"thres\" : 10}\n",
    "filename = \"dummy.json\"\n",
    "with open(filename, \"w\") as f:\n",
    "            json.dump(table, f, indent=4)\n",
    "            json.dump(cs,f,indent=4)\n"
   ],
   "outputs": [],
   "metadata": {}
  },
  {
   "cell_type": "markdown",
   "source": [
    "# Test estimator"
   ],
   "metadata": {}
  },
  {
   "cell_type": "code",
   "execution_count": null,
   "source": [
    "from sklearn.utils.estimator_checks import check_estimator\n",
    "from snmfem.estimators import NMF, SmoothNMF\n",
    "import numpy as np\n",
    "from snmfem.datasets.generate_data import ArtificialSpim\n",
    "from snmfem.models import EDXS\n",
    "from snmfem.datasets.generate_weights import generate_weights\n",
    "from snmfem.measures import trace_xtLx, KL\n",
    "from snmfem.laplacian import create_laplacian_matrix\n",
    "from snmfem.experiments import run_experiment\n",
    "import matplotlib.pyplot as plt \n",
    "%matplotlib inline\n",
    "\n",
    "def generate_one_sample():\n",
    "    model_parameters  = {\"params_dict\" : {  \"b0\" : 0.15910789,\n",
    "                                            \"b1\" : -0.00773158,\n",
    "                                            \"b2\" : 8.7417e-04},\n",
    "                            \"db_name\" : \"default_xrays.json\",\n",
    "                            \"e_offset\" : 0.208,\n",
    "                            \"e_scale\" : 0.01,\n",
    "                            \"e_size\": 1980,\n",
    "                            \"width_slope\" : 0.01,\n",
    "                            \"width_intercept\" : 0.065,\n",
    "                            \"seed\" : 1}\n",
    "\n",
    "\n",
    "    g_parameters = {\"thickness\": 2e-05,\n",
    "            \"density\": 3.5,\n",
    "            \"toa\": 22,\n",
    "            \"elements_list\" : [8,13,14,12,26,29,31,72,71,62,60,92,20],\n",
    "            \"brstlg\" : 1}\n",
    "\n",
    "    phases_parameters =  [\n",
    "        {\"thickness\": 2e-05,\n",
    "            \"density\": 3.5,\n",
    "            \"toa\": 22,\n",
    "            \"atomic_fraction\": True,\n",
    "            \"elements_dict\":{\"8\": 1.0 , \"12\": 0.51  , \"14\": 0.61  , \"13\": 0.07  , \"20\": 0.04  , \"62\": 0.02  ,\n",
    "                            \"26\": 0.028  , \"60\": 0.002  , \"71\": 0.003  , \"72\": 0.003  , \"29\": 0.02  }, \n",
    "            \"scale\" : 0.01},\n",
    "        {\"thickness\": 2e-05,\n",
    "            \"density\": 3.5,\n",
    "            \"toa\": 22,\n",
    "            \"atomic_fraction\": True,\n",
    "            \"elements_dict\":{\"8\": 0.54  , \"26\": 0.15  , \"12\": 1.0  , \"29\": 0.038  ,\n",
    "                            \"92\": 0.0052  , \"60\": 0.004  , \"31\": 0.03  , \"71\": 0.003  },\n",
    "            \"scale\" : 0.01},   \n",
    "            {\"thickness\": 2e-05,\n",
    "            \"density\": 3.5,\n",
    "            \"toa\": 22,\n",
    "            \"atomic_fraction\": True,\n",
    "            \"elements_dict\":{\"8\": 1.0  , \"14\": 0.12  , \"13\": 0.18  , \"20\": 0.47  ,\n",
    "                            \"62\": 0.04  , \"26\": 0.004  , \"60\": 0.008  , \"72\": 0.004  , \"29\": 0.01  }, \n",
    "            \"scale\" : 0.01} \n",
    "        ]\n",
    "\n",
    "    # Generate the phases\n",
    "    model = EDXS(**model_parameters)\n",
    "    model.generate_g_matr(**g_parameters)\n",
    "    model.generate_phases(phases_parameters)\n",
    "    phases = model.phases\n",
    "    G = model.G\n",
    "\n",
    "    seed = 0\n",
    "    n_phases = 3\n",
    "    weights_parameters = {\"weight_type\": \"laplacian\",\n",
    "                            \"shape_2D\": [15, 15]}\n",
    "\n",
    "    weights = generate_weights(**weights_parameters, n_phases=n_phases, seed=seed)\n",
    "\n",
    "    # list of densities which will give different total number of events per spectra\n",
    "    densities = np.array([1.0, 1.33, 1.25])\n",
    "\n",
    "    spim = ArtificialSpim(phases, densities, weights, G=G)\n",
    "\n",
    "    N = 50\n",
    "    spim.generate_spim_stochastic(N)\n",
    "\n",
    "    D = spim.phases.T\n",
    "    A = spim.flatten_weights()\n",
    "    P = np.abs(np.linalg.lstsq(G, D, rcond=None)[0])\n",
    "    X = spim.flatten_gen_spim()\n",
    "\n",
    "    w = spim.densities\n",
    "    Xdot = spim.flatten_Xdot()\n",
    "    return G, P, A, D, w, X, Xdot/N\n",
    "\n",
    "\n",
    "def test_generate_one_sample():\n",
    "    G, P, A, D, w, X, Xdot = generate_one_sample()\n",
    "    np.testing.assert_allclose(G @ P , D, atol=1e-5)\n",
    "    np.testing.assert_allclose(D @ np.diag(w) @ A , Xdot)\n",
    "    np.testing.assert_allclose(G @ P @ np.diag(w) @ A , Xdot, atol=1e-5)\n",
    "\n",
    "G, P, A, D, w, X, Xdot = generate_one_sample()"
   ],
   "outputs": [],
   "metadata": {}
  },
  {
   "cell_type": "code",
   "execution_count": null,
   "source": [
    "plt.plot((G@P).T[0])\n",
    "plt.plot(D.T[0])\n",
    "\n"
   ],
   "outputs": [],
   "metadata": {}
  },
  {
   "cell_type": "code",
   "execution_count": null,
   "source": [
    "from snmfem.models.absorption_edxs import absorption_correction\n",
    "\n",
    "elts = {\"8\": 1.0 , \"12\": 0.51  , \"14\": 0.61  , \"13\": 0.07  , \"20\": 0.04  , \"62\": 0.02  ,\n",
    "                            \"26\": 0.028  , \"60\": 0.002  , \"71\": 0.003  , \"72\": 0.003  , \"29\": 0.02 }\n",
    "\n",
    "elts2 = {\"8\": 0.09 , \"12\": 0.09  , \"14\": 0.09  , \"13\": 0.09  , \"20\": 0.09  , \"62\": 0.09  ,\n",
    "                            \"26\": 0.09  , \"60\": 0.09  , \"71\": 0.09  , \"72\": 0.09  , \"29\": 0.09 }\n",
    "\n",
    "x = np.linspace(0.208, 1980*0.01+0.208, num = 1980)\n",
    "a = absorption_correction(x,thickness = 1e-5, toa = 22, density= 3.5,atomic_fraction=True, elements_dict = elts)\n",
    "a2 = absorption_correction(x,thickness = 1e-5, toa = 22, density= 3.5,atomic_fraction=True, elements_dict = elts2)"
   ],
   "outputs": [],
   "metadata": {}
  },
  {
   "cell_type": "code",
   "execution_count": null,
   "source": [
    "plt.plot(a)\n",
    "plt.plot(a2)"
   ],
   "outputs": [],
   "metadata": {}
  },
  {
   "cell_type": "code",
   "execution_count": null,
   "source": [
    "print(np.max((G@P).T[2] - D.T[2]))"
   ],
   "outputs": [],
   "metadata": {}
  },
  {
   "cell_type": "markdown",
   "source": [
    "# Test G_func"
   ],
   "metadata": {}
  },
  {
   "cell_type": "code",
   "execution_count": 1,
   "source": [
    "import numpy as np\n",
    "import snmfem.conf as c\n",
    "from pathlib import Path\n",
    "import json\n",
    "from snmfem.estimators import NMF, SmoothNMF\n",
    "from snmfem.models.edxs import G_EDXS"
   ],
   "outputs": [],
   "metadata": {}
  },
  {
   "cell_type": "code",
   "execution_count": 2,
   "source": [
    "data = np.load(c.DATASETS_PATH / Path(\"aspim037_N100_2ptcls_brstlg/sample_3.npz\"))\n",
    "with open(c.SCRIPT_CONFIG_PATH / Path(\"dataset_random_phases.json\")) as f : \n",
    "    json_dict = json.load(f)\n",
    "X = (data[\"X\"].reshape(6400,1980)).T\n",
    "shape_2d = json_dict[\"weights_parameters\"][\"shape_2D\"]\n",
    "model_params = json_dict[\"model_parameters\"]\n",
    "g_params = json_dict[\"g_parameters\"]\n",
    "k = len(json_dict[\"phases_parameters\"])"
   ],
   "outputs": [],
   "metadata": {}
  },
  {
   "cell_type": "code",
   "execution_count": 5,
   "source": [
    "nmf = SmoothNMF(n_components=k, tol = 1e-4, max_iter=5, mu = 3, lambda_L = 3)\n",
    "nmf.fit_transform(X,G = G_EDXS,model_params = model_params,g_params = g_params)"
   ],
   "outputs": [
    {
     "output_type": "stream",
     "name": "stderr",
     "text": [
      "/home/teurtrie/.local/share/virtualenvs/SNMF_EDXS--pNpjmq1/lib/python3.8/site-packages/sklearn/decomposition/_nmf.py:312: FutureWarning: The 'init' value, when 'init=None' and n_components is less than n_samples and n_features, will be changed from 'nndsvd' to 'nndsvda' in 1.1 (renaming of 0.26).\n",
      "  warnings.warn((\"The 'init' value, when 'init=None' and \"\n"
     ]
    },
    {
     "output_type": "stream",
     "name": "stdout",
     "text": [
      "Dicotomy stopped for maximum number of iterations\n",
      "exits because max_iteration was reached\n",
      "Stopped after 5 iterations in 0.0 minutes and 18.0 seconds.\n"
     ]
    },
    {
     "output_type": "execute_result",
     "data": {
      "text/plain": [
       "array([[0.38144142, 0.3436625 , 0.37324869, 0.37633263],\n",
       "       [0.38088485, 0.34316118, 0.37270445, 0.37578361],\n",
       "       [0.37907726, 0.34153278, 0.37093621, 0.37400037],\n",
       "       ...,\n",
       "       [0.00245036, 0.00220901, 0.00239912, 0.0024182 ],\n",
       "       [0.00244608, 0.00220515, 0.00239492, 0.00241398],\n",
       "       [0.0024418 , 0.00220129, 0.00239073, 0.00240975]])"
      ]
     },
     "metadata": {},
     "execution_count": 5
    }
   ],
   "metadata": {}
  },
  {
   "cell_type": "code",
   "execution_count": null,
   "source": [],
   "outputs": [],
   "metadata": {}
  },
  {
   "cell_type": "code",
   "execution_count": null,
   "source": [
    " P = np.random.rand(22,3)\n",
    " P[:-2,:].shape"
   ],
   "outputs": [],
   "metadata": {}
  },
  {
   "cell_type": "code",
   "execution_count": null,
   "source": [],
   "outputs": [],
   "metadata": {}
  }
 ]
}