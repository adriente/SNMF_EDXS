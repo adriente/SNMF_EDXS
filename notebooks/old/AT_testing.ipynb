{
 "metadata": {
  "language_info": {
   "codemirror_mode": {
    "name": "ipython",
    "version": 3
   },
   "file_extension": ".py",
   "mimetype": "text/x-python",
   "name": "python",
   "nbconvert_exporter": "python",
   "pygments_lexer": "ipython3",
   "version": "3.8.5"
  },
  "orig_nbformat": 2,
  "kernelspec": {
   "name": "python385jvsc74a57bd0ae2bec25d04a58403981d6892379486339cbb2cd6f315f3a399785dd0e4b6656",
   "display_name": "Python 3.8.5 64-bit ('SNMF_EDXS': pipenv)"
  }
 },
 "nbformat": 4,
 "nbformat_minor": 2,
 "cells": [
  {
   "cell_type": "code",
   "execution_count": null,
   "metadata": {},
   "outputs": [],
   "source": [
    "%load_ext autoreload\n",
    "%autoreload 2\n",
    "%matplotlib inline"
   ]
  },
  {
   "cell_type": "code",
   "execution_count": null,
   "metadata": {},
   "outputs": [],
   "source": [
    "import numpy as np\n",
    "import multiprocessing\n",
    "from snmfem.updates import dichotomy_simplex\n",
    "import tqdm"
   ]
  },
  {
   "cell_type": "code",
   "execution_count": null,
   "metadata": {},
   "outputs": [],
   "source": [
    "k = 5\n",
    "p = 6400\n",
    "span = np.logspace(-8,8,num=17)\n",
    "iter = 100\n",
    "TIMEOUT = 5"
   ]
  },
  {
   "cell_type": "code",
   "execution_count": null,
   "metadata": {},
   "outputs": [],
   "source": [
    "for i in tqdm.tqdm(range(iter)) : \n",
    "    scale_num = np.random.choice(span,size=(k,p))\n",
    "    num = scale_num * np.random.rand(k,p)\n",
    "    scale_denum = np.random.choice(span,size=(k,p))\n",
    "    denum = scale_denum * np.random.rand(k,p)\n",
    "    dichotomy_simplex(num, denum)\n",
    "    # process = multiprocessing.Process(target=dichotomy_simplex, name=\"fonction de ses morts\", args=(num,denum))\n",
    "    # process.start()\n",
    "    # process.join(TIMEOUT)\n",
    "    # if process.is_alive() :\n",
    "    #     print('function terminated')\n",
    "    #     N, D = num, denum\n",
    "    #     process.terminate()\n",
    "    #     process.join()\n",
    "    #     break"
   ]
  },
  {
   "source": [
    "# Tentative de faire un plot interactif des SpIm"
   ],
   "cell_type": "markdown",
   "metadata": {}
  },
  {
   "cell_type": "code",
   "execution_count": null,
   "metadata": {},
   "outputs": [],
   "source": [
    "import hyperspy.api as hs \n",
    "import numpy as np\n",
    "import snmfem.conf as conf\n",
    "from pathlib import Path\n",
    "import json\n",
    "\n",
    "data_json = conf.SCRIPT_CONFIG_PATH / Path(\"dataset_EDXS_small.json\")\n",
    "with open(data_json,\"r\") as f :\n",
    "    data_dict = json.load(f)\n",
    "\n",
    "num_list = [0]\n",
    "data_folder = conf.DATASETS_PATH / Path(data_dict[\"data_folder\"])\n",
    "samples = [data_folder / Path(\"sample_{}.npz\".format(i)) for i in num_list ]\n",
    "\n",
    "def load_data(sample) : \n",
    "    data = np.load(sample)\n",
    "    X = data[\"X\"]\n",
    "    nx, ny, ns = X.shape\n",
    "    Xflat = X.transpose([2,0,1]).reshape(ns, nx*ny)\n",
    "    densities = data[\"densities\"]\n",
    "    phases = data[\"phases\"]\n",
    "    true_spectra_flat = np.expand_dims(densities, axis=1) * phases * data[\"N\"]\n",
    "    true_maps = data[\"weights\"]\n",
    "    k = true_maps.shape[2]\n",
    "    true_maps_flat = true_maps.transpose([2,0,1]).reshape(k,nx*ny)\n",
    "    G = data[\"G\"]\n",
    "    return Xflat, true_spectra_flat, true_maps_flat, G\n",
    "\n"
   ]
  },
  {
   "cell_type": "code",
   "execution_count": null,
   "metadata": {},
   "outputs": [],
   "source": [
    "nx,ny = data_dict[\"weights_parameters\"][\"shape_2D\"]\n",
    "e_size = data_dict[\"model_parameters\"][\"e_size\"]\n",
    "X = load_data(samples[0])[0].T.reshape(nx,ny,e_size)\n",
    "S = hs.signals.Signal1D(X)"
   ]
  },
  {
   "cell_type": "code",
   "execution_count": null,
   "metadata": {},
   "outputs": [],
   "source": [
    "roi=hs.roi.RectangularROI(3,3,18,20)\n",
    "S.plot(navigator=\"auto\")\n",
    "spim_ROI=roi.interactive(S)\n",
    "    \n",
    "sum_ROI=hs.interactive(spim_ROI.sum,\n",
    "               event=spim_ROI.axes_manager.events.any_axis_changed,\n",
    "               recompute_out_event=None)\n",
    "sum_ROI.plot()"
   ]
  },
  {
   "source": [
    "# Plot results"
   ],
   "cell_type": "markdown",
   "metadata": {}
  },
  {
   "cell_type": "code",
   "execution_count": null,
   "metadata": {},
   "outputs": [],
   "source": [
    "from snmfem.conf import RESULTS_PATH, DATASETS_PATH\n",
    "from snmfem.experiments import load_data\n",
    "from pathlib import Path\n",
    "import matplotlib.pyplot as plt\n",
    "file = \"best_lambda.npz\"\n",
    "dataset_path = DATASETS_PATH / Path(\"aspim037_N100_2ptcls_brstlg/sample_4.npz\")\n",
    "path = RESULTS_PATH / Path(file)\n",
    "data = np.load(path)\n",
    "X,true_spectra,true_maps,G,shape_2d = load_data(dataset_path)"
   ]
  },
  {
   "cell_type": "code",
   "execution_count": null,
   "metadata": {},
   "outputs": [],
   "source": [
    "GP = data[\"GP\"]\n",
    "A = data[\"A\"]\n",
    "metrics = data[\"metrics\"]\n",
    "losses = data[\"losses\"]"
   ]
  },
  {
   "cell_type": "code",
   "execution_count": null,
   "metadata": {},
   "outputs": [],
   "source": [
    "\n",
    "fig,axes = plt.subplots(3,3,figsize= (50,50))\n",
    "for i in range(3) : \n",
    "    axes[i,0].plot(true_spectra[i],'bo',label='truth',markersize = 5)\n",
    "    axes[i,0].plot(GP[:,i],'r-',label='reconstructed',linewidth = 2)\n",
    "    axes[i,1].imshow(A[i].reshape(shape_2d))\n",
    "    axes[i,2].imshow(true_maps[i].reshape(shape_2d))\n",
    "axes[0,0].legend(fontsize = 22)\n",
    "axes[0,0].set_title(\"True vs reconstructed spectra\",fontsize = 22)\n",
    "axes[0,1].set_title(\"Reconstructed maps\",fontsize = 22)\n",
    "axes[0,2].set_title(\"True maps\",fontsize = 22)\n",
    "    "
   ]
  },
  {
   "cell_type": "code",
   "execution_count": null,
   "metadata": {},
   "outputs": [],
   "source": [
    "fig, axes = plt.subplots(1,len(losses.dtype),figsize=(50,10))\n",
    "for i,key in enumerate(losses.dtype.names) : \n",
    "    axes[i].plot(losses[key])\n",
    "    axes[i].set_title(key,fontsize = 22)"
   ]
  },
  {
   "cell_type": "code",
   "execution_count": null,
   "metadata": {},
   "outputs": [],
   "source": [
    "import snmfem.measures as m\n",
    "import numpy as np \n",
    "import matplotlib.pyplot as plt \n",
    "\n",
    "a = 130*np.random.rand(3,256)\n",
    "c = 23*np.random.rand(3,256)\n",
    "ac = m.square_distance(a,c)\n",
    "b = m.square_distance(a,np.zeros_like(a))\n",
    "x = ac/b"
   ]
  },
  {
   "cell_type": "code",
   "execution_count": null,
   "metadata": {},
   "outputs": [],
   "source": [
    "plt.imshow(ac)\n",
    "plt.colorbar()"
   ]
  },
  {
   "cell_type": "code",
   "execution_count": null,
   "metadata": {},
   "outputs": [],
   "source": [
    "plt.imshow(b)\n",
    "plt.colorbar()"
   ]
  },
  {
   "cell_type": "code",
   "execution_count": null,
   "metadata": {},
   "outputs": [],
   "source": [
    "plt.imshow(x)\n",
    "plt.colorbar()"
   ]
  },
  {
   "cell_type": "code",
   "execution_count": null,
   "metadata": {},
   "outputs": [],
   "source": [
    "for i in range(b.shape[0])  : \n",
    "    b[i,i] = 1"
   ]
  },
  {
   "source": [
    "# Plots for PICO poster"
   ],
   "cell_type": "markdown",
   "metadata": {}
  },
  {
   "cell_type": "code",
   "execution_count": null,
   "metadata": {
    "tags": []
   },
   "outputs": [],
   "source": [
    "from snmfem.models import edxs\n",
    "import numpy as np\n",
    "from snmfem.models import EDXS_function as f\n",
    "import matplotlib.pyplot as plt \n",
    "import hyperspy.api as hs\n",
    "from scipy.optimize import curve_fit\n",
    "\n",
    "file = \"1135 EDS-HAADF.emd\"\n",
    "s1, haadf, spim = hs.load(file)\n",
    "offset = spim.axes_manager[2].offset\n",
    "size = spim.axes_manager[2].size\n",
    "scale = spim.axes_manager[2].scale\n",
    "max = offset + scale * size\n",
    "\n",
    "x = np.linspace(offset,max,num= size)\n",
    "spectrum = np.average(spim.data,axis= (0,1))\n",
    "db = \"default_xrays.json\"\n",
    "mod = edxs.EDXS(offset,size,scale,{},db_name = db)\n",
    "mod.generate_g_matr([79])"
   ]
  },
  {
   "cell_type": "code",
   "execution_count": null,
   "metadata": {},
   "outputs": [],
   "source": [
    "x1 = x[2230:2280]\n",
    "x2 = x[2920:3000]\n",
    "xdata = np.concatenate((x1,x2))\n",
    "y1 = spectrum[2230:2280]\n",
    "y2 = spectrum[2920:3000]\n",
    "ydata = np.concatenate((y1,y2))\n",
    "\n",
    "def droite (x,a,b) : \n",
    "    return a*x + b\n",
    "\n",
    "popt, pcov = curve_fit(droite, xdata, ydata)\n",
    "\n",
    "bkgdL = droite(x,*popt)"
   ]
  },
  {
   "cell_type": "code",
   "execution_count": null,
   "metadata": {},
   "outputs": [],
   "source": [
    "x1 = x[350:400]\n",
    "x2 = x[700:800]\n",
    "xdata = np.concatenate((x1,x2))\n",
    "y1 = spectrum[350:400]\n",
    "y2 = spectrum[700:800]\n",
    "ydata = np.concatenate((y1,y2))\n",
    "\n",
    "def droite (x,a,b) : \n",
    "    return a*x + b\n",
    "\n",
    "popt, pcov = curve_fit(droite, xdata, ydata)\n",
    "\n",
    "bkgdM = droite(x,*popt)"
   ]
  },
  {
   "cell_type": "code",
   "execution_count": null,
   "metadata": {
    "tags": []
   },
   "outputs": [],
   "source": [
    "markers = [\"o-\",\".-\",\"--\",\">-\",\"^-\",\"<-\",\"s-\",\"p-\",\"X-\"]\n",
    "for i, line in enumerate(mod.G.T) : \n",
    "    plt.plot(line,markers[i],markevery= 10,label=str(i))\n",
    "    plt.plot(spectrum)\n",
    "    plt.xlim(200,1000)\n",
    "    plt.ylim(0,0.02)\n",
    "\n",
    "plt.legend()"
   ]
  },
  {
   "cell_type": "code",
   "execution_count": null,
   "metadata": {},
   "outputs": [],
   "source": [
    "plt.plot(x,spectrum,label=\"exp\")\n",
    "plt.plot(x,bkgdM + mod.G.T[0]*3.3e19,label=\"theo\")\n",
    "plt.ylim(0,0.08)\n",
    "plt.xlim(0,5)\n",
    "plt.legend()\n",
    "plt.title(\"Gold M Lines\")"
   ]
  },
  {
   "cell_type": "code",
   "execution_count": null,
   "metadata": {},
   "outputs": [],
   "source": [
    "plt.plot(x,spectrum,label=\"exp\")\n",
    "plt.plot(x,bkgdL + mod.G.T[0]*3.3e19,label=\"theo\")\n",
    "plt.ylim(0,0.025)\n",
    "plt.xlim(9,15)\n",
    "plt.legend()\n",
    "plt.title(\"Gold L Lines\")"
   ]
  },
  {
   "cell_type": "code",
   "execution_count": null,
   "metadata": {},
   "outputs": [],
   "source": [
    "plt.plot(x,mod.G)"
   ]
  },
  {
   "cell_type": "code",
   "execution_count": null,
   "metadata": {},
   "outputs": [],
   "source": [
    "np.savetxt(\"G_Zn.txt\",mod.G.T)"
   ]
  },
  {
   "cell_type": "code",
   "execution_count": null,
   "metadata": {},
   "outputs": [],
   "source": [
    "dict = {\"c0\" : 4.8935e-05, \n",
    "                                          \"c1\" : 1464.19810,\n",
    "                                          \"c2\" : 0.04216872,\n",
    "                                          \"b0\" : 0.15910789,\n",
    "                                          \"b1\" : -0.00773158,\n",
    "                                          \"b2\" : 8.7417e-04,\n",
    "                                          \"k\" : 3}\n",
    "\n",
    "s = hs.load(\"/mnt/c/Users/teurtrie/Travail/SNMF_EDXS/snmfem/Data/average_spectrum_1537.hspy\")\n",
    "s2 = s.isig[0.5:10.0]"
   ]
  },
  {
   "cell_type": "code",
   "execution_count": null,
   "metadata": {},
   "outputs": [],
   "source": [
    "E = np.linspace(0.2,20.0,num = 2000)\n",
    "\n",
    "plt.plot(E,b)\n",
    "plt.plot(E,d)\n",
    "plt.plot(E,a)\n",
    "plt.plot(E,a*b*d)"
   ]
  },
  {
   "cell_type": "code",
   "execution_count": null,
   "metadata": {},
   "outputs": [],
   "source": [
    "db = \"default_xrays.json\"\n",
    "mod = edxs.EDXS(0.49765,1900,0.005,{},db_name = db)\n",
    "mod.generate_g_matr([30])\n",
    "\n",
    "x = np.linspace(0.49765,1900*0.005 + 0.49765,num = 1900)\n",
    "b = f.bremsstrahlung(x,0.0053,-3.74e-5,3.55e-12)\n",
    "abs = f.simple_abs_coeff(x)\n",
    "d = f.detector(abs,3867,0.019)\n",
    "a = f.self_abs(abs,0.0082)\n",
    "plt.plot(x,s2.data,\"ko-\",markersize = 3,markevery = 20,label = \"experimental\")\n",
    "plt.plot(x,a*b*d,\"r\",label = \"model\",linewidth = 2)\n",
    "plt.plot(x,0.0035*mod.G.T[0] + a*b*d)\n",
    "plt.ylim(-0.001,0.05)\n",
    "plt.xlim(8,10)\n",
    "plt.xlabel(\"Energy (keV)\")\n",
    "plt.yticks([])\n",
    "plt.legend()\n",
    "plt.ylabel(\"Intensity (arb. unit)\")"
   ]
  },
  {
   "cell_type": "code",
   "execution_count": null,
   "metadata": {},
   "outputs": [],
   "source": [
    "array = np.vstack([x,s2.data,b*a*d])"
   ]
  },
  {
   "cell_type": "code",
   "execution_count": null,
   "metadata": {},
   "outputs": [],
   "source": [
    "np.savetxt(\"brem.txt\",array)"
   ]
  },
  {
   "cell_type": "code",
   "execution_count": null,
   "metadata": {},
   "outputs": [],
   "source": [
    "s = hs.load(\"/mnt/c/Users/teurtrie/Travail/SNMF_EDXS/snmfem/Data/71GPa_subsolidus.hspy\")"
   ]
  },
  {
   "cell_type": "code",
   "execution_count": null,
   "metadata": {},
   "outputs": [],
   "source": [
    "s.data = s.data.astype(\"float64\")\n",
    "s.decomposition(True,output_dimension = 3, algorithm = \"NMF\",max_iter = 1000)"
   ]
  },
  {
   "cell_type": "code",
   "execution_count": null,
   "metadata": {},
   "outputs": [],
   "source": [
    "sc = s.get_decomposition_factors()"
   ]
  },
  {
   "cell_type": "code",
   "execution_count": null,
   "metadata": {},
   "outputs": [],
   "source": [
    "y = sc.inav[1].data\n",
    "x = np.linspace(s.axes_manager[2].offset,s.axes_manager[2].scale * s.axes_manager[2].size + s.axes_manager[2].offset, num = s.axes_manager[2].size)"
   ]
  },
  {
   "cell_type": "code",
   "execution_count": null,
   "metadata": {},
   "outputs": [],
   "source": [
    "h = np.vstack((x,y))\n",
    "np.savetxt(\"nmf_artefacts.txt\",h)"
   ]
  },
  {
   "cell_type": "code",
   "execution_count": null,
   "metadata": {},
   "outputs": [],
   "source": [
    "import numpy as np\n",
    "import matplotlib.pyplot as plt \n",
    "a = np.load(\"/mnt/c/Users/teurtrie/Travail/SNMF_EDXS/results/dump.npz\")\n",
    "m = a[\"A\"][0,:]"
   ]
  },
  {
   "cell_type": "code",
   "execution_count": null,
   "metadata": {},
   "outputs": [],
   "source": [
    "plt.imshow(m.reshape(80,80))"
   ]
  },
  {
   "cell_type": "code",
   "execution_count": null,
   "metadata": {},
   "outputs": [],
   "source": [
    "for key in a.keys() :\n",
    "    print(key)"
   ]
  },
  {
   "cell_type": "code",
   "execution_count": null,
   "metadata": {},
   "outputs": [],
   "source": [
    "import json\n",
    "table = {\"table\" : {\"K\" : 3,\"X\" : 4}}\n",
    "cs = {\"thres\" : 10}\n",
    "filename = \"dummy.json\"\n",
    "with open(filename, \"w\") as f:\n",
    "            json.dump(table, f, indent=4)\n",
    "            json.dump(cs,f,indent=4)\n"
   ]
  },
  {
   "cell_type": "code",
   "execution_count": null,
   "metadata": {},
   "outputs": [],
   "source": []
  }
 ]
}