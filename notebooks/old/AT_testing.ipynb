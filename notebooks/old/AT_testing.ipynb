{
 "metadata": {
  "language_info": {
   "codemirror_mode": {
    "name": "ipython",
    "version": 3
   },
   "file_extension": ".py",
   "mimetype": "text/x-python",
   "name": "python",
   "nbconvert_exporter": "python",
   "pygments_lexer": "ipython3",
   "version": "3.8.5"
  },
  "orig_nbformat": 2,
  "kernelspec": {
   "name": "python385jvsc74a57bd0508ccdc6fb5be5f7fd5f6d84709a2756aa123300835f386535c0d36e037b0594",
   "display_name": "Python 3.8.5 64-bit ('SNMF_EDXS--pNpjmq1': pipenv)"
  }
 },
 "nbformat": 4,
 "nbformat_minor": 2,
 "cells": [
  {
   "cell_type": "code",
   "execution_count": null,
   "metadata": {},
   "outputs": [],
   "source": [
    "%load_ext autoreload\n",
    "%autoreload 2\n",
    "%matplotlib inline"
   ]
  },
  {
   "cell_type": "code",
   "execution_count": null,
   "metadata": {},
   "outputs": [],
   "source": [
    "import numpy as np\n",
    "import multiprocessing\n",
    "from snmfem.updates import dichotomy_simplex\n",
    "import tqdm"
   ]
  },
  {
   "cell_type": "code",
   "execution_count": null,
   "metadata": {},
   "outputs": [],
   "source": [
    "k = 5\n",
    "p = 6400\n",
    "span = np.logspace(-8,8,num=17)\n",
    "iter = 100\n",
    "TIMEOUT = 5"
   ]
  },
  {
   "cell_type": "code",
   "execution_count": null,
   "metadata": {},
   "outputs": [],
   "source": [
    "for i in tqdm.tqdm(range(iter)) : \n",
    "    scale_num = np.random.choice(span,size=(k,p))\n",
    "    num = scale_num * np.random.rand(k,p)\n",
    "    scale_denum = np.random.choice(span,size=(k,p))\n",
    "    denum = scale_denum * np.random.rand(k,p)\n",
    "    dichotomy_simplex(num, denum)\n",
    "    # process = multiprocessing.Process(target=dichotomy_simplex, name=\"fonction de ses morts\", args=(num,denum))\n",
    "    # process.start()\n",
    "    # process.join(TIMEOUT)\n",
    "    # if process.is_alive() :\n",
    "    #     print('function terminated')\n",
    "    #     N, D = num, denum\n",
    "    #     process.terminate()\n",
    "    #     process.join()\n",
    "    #     break"
   ]
  },
  {
   "source": [
    "# Tentative de faire un plot interactif des SpIm"
   ],
   "cell_type": "markdown",
   "metadata": {}
  },
  {
   "cell_type": "code",
   "execution_count": null,
   "metadata": {},
   "outputs": [],
   "source": [
    "import hyperspy.api as hs \n",
    "import numpy as np\n",
    "import snmfem.conf as conf\n",
    "from pathlib import Path\n",
    "import json\n",
    "\n",
    "data_json = conf.SCRIPT_CONFIG_PATH / Path(\"dataset_EDXS_small.json\")\n",
    "with open(data_json,\"r\") as f :\n",
    "    data_dict = json.load(f)\n",
    "\n",
    "num_list = [0]\n",
    "data_folder = conf.DATASETS_PATH / Path(data_dict[\"data_folder\"])\n",
    "samples = [data_folder / Path(\"sample_{}.npz\".format(i)) for i in num_list ]\n",
    "\n",
    "def load_data(sample) : \n",
    "    data = np.load(sample)\n",
    "    X = data[\"X\"]\n",
    "    nx, ny, ns = X.shape\n",
    "    Xflat = X.transpose([2,0,1]).reshape(ns, nx*ny)\n",
    "    densities = data[\"densities\"]\n",
    "    phases = data[\"phases\"]\n",
    "    true_spectra_flat = np.expand_dims(densities, axis=1) * phases * data[\"N\"]\n",
    "    true_maps = data[\"weights\"]\n",
    "    k = true_maps.shape[2]\n",
    "    true_maps_flat = true_maps.transpose([2,0,1]).reshape(k,nx*ny)\n",
    "    G = data[\"G\"]\n",
    "    return Xflat, true_spectra_flat, true_maps_flat, G\n",
    "\n"
   ]
  },
  {
   "cell_type": "code",
   "execution_count": null,
   "metadata": {},
   "outputs": [],
   "source": [
    "nx,ny = data_dict[\"weights_parameters\"][\"shape_2D\"]\n",
    "e_size = data_dict[\"model_parameters\"][\"e_size\"]\n",
    "X = load_data(samples[0])[0].T.reshape(nx,ny,e_size)\n",
    "S = hs.signals.Signal1D(X)"
   ]
  },
  {
   "cell_type": "code",
   "execution_count": null,
   "metadata": {},
   "outputs": [],
   "source": [
    "roi=hs.roi.RectangularROI(3,3,18,20)\n",
    "S.plot(navigator=\"auto\")\n",
    "spim_ROI=roi.interactive(S)\n",
    "    \n",
    "sum_ROI=hs.interactive(spim_ROI.sum,\n",
    "               event=spim_ROI.axes_manager.events.any_axis_changed,\n",
    "               recompute_out_event=None)\n",
    "sum_ROI.plot()"
   ]
  },
  {
   "source": [
    "# Plot results"
   ],
   "cell_type": "markdown",
   "metadata": {}
  },
  {
   "cell_type": "code",
   "execution_count": null,
   "metadata": {},
   "outputs": [],
   "source": [
    "from snmfem.conf import RESULTS_PATH, DATASETS_PATH\n",
    "from snmfem.experiments import load_data\n",
    "from pathlib import Path\n",
    "import matplotlib.pyplot as plt\n",
    "file = \"best_lambda.npz\"\n",
    "dataset_path = DATASETS_PATH / Path(\"aspim037_N100_2ptcls_brstlg/sample_4.npz\")\n",
    "path = RESULTS_PATH / Path(file)\n",
    "data = np.load(path)\n",
    "X,true_spectra,true_maps,G,shape_2d = load_data(dataset_path)"
   ]
  },
  {
   "cell_type": "code",
   "execution_count": null,
   "metadata": {},
   "outputs": [],
   "source": [
    "GP = data[\"GP\"]\n",
    "A = data[\"A\"]\n",
    "metrics = data[\"metrics\"]\n",
    "losses = data[\"losses\"]"
   ]
  },
  {
   "cell_type": "code",
   "execution_count": null,
   "metadata": {},
   "outputs": [],
   "source": [
    "\n",
    "fig,axes = plt.subplots(3,3,figsize= (50,50))\n",
    "for i in range(3) : \n",
    "    axes[i,0].plot(true_spectra[i],'bo',label='truth',markersize = 5)\n",
    "    axes[i,0].plot(GP[:,i],'r-',label='reconstructed',linewidth = 2)\n",
    "    axes[i,1].imshow(A[i].reshape(shape_2d))\n",
    "    axes[i,2].imshow(true_maps[i].reshape(shape_2d))\n",
    "axes[0,0].legend(fontsize = 22)\n",
    "axes[0,0].set_title(\"True vs reconstructed spectra\",fontsize = 22)\n",
    "axes[0,1].set_title(\"Reconstructed maps\",fontsize = 22)\n",
    "axes[0,2].set_title(\"True maps\",fontsize = 22)\n",
    "    "
   ]
  },
  {
   "cell_type": "code",
   "execution_count": null,
   "metadata": {},
   "outputs": [],
   "source": [
    "fig, axes = plt.subplots(1,len(losses.dtype),figsize=(50,10))\n",
    "for i,key in enumerate(losses.dtype.names) : \n",
    "    axes[i].plot(losses[key])\n",
    "    axes[i].set_title(key,fontsize = 22)"
   ]
  },
  {
   "cell_type": "code",
   "execution_count": null,
   "metadata": {},
   "outputs": [],
   "source": [
    "import snmfem.measures as m\n",
    "import numpy as np \n",
    "import matplotlib.pyplot as plt \n",
    "\n",
    "a = 130*np.random.rand(3,256)\n",
    "c = 23*np.random.rand(3,256)\n",
    "ac = m.square_distance(a,c)\n",
    "b = m.square_distance(a,np.zeros_like(a))\n",
    "x = ac/b"
   ]
  },
  {
   "cell_type": "code",
   "execution_count": null,
   "metadata": {},
   "outputs": [],
   "source": [
    "plt.imshow(ac)\n",
    "plt.colorbar()"
   ]
  },
  {
   "cell_type": "code",
   "execution_count": null,
   "metadata": {},
   "outputs": [],
   "source": [
    "plt.imshow(b)\n",
    "plt.colorbar()"
   ]
  },
  {
   "cell_type": "code",
   "execution_count": null,
   "metadata": {},
   "outputs": [],
   "source": [
    "plt.imshow(x)\n",
    "plt.colorbar()"
   ]
  },
  {
   "cell_type": "code",
   "execution_count": null,
   "metadata": {},
   "outputs": [],
   "source": [
    "for i in range(b.shape[0])  : \n",
    "    b[i,i] = 1"
   ]
  },
  {
   "cell_type": "code",
   "execution_count": null,
   "metadata": {},
   "outputs": [],
   "source": []
  }
 ]
}