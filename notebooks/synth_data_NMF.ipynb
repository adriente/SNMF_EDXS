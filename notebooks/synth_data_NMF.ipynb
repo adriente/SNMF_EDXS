{
 "metadata": {
  "language_info": {
   "codemirror_mode": {
    "name": "ipython",
    "version": 3
   },
   "file_extension": ".py",
   "mimetype": "text/x-python",
   "name": "python",
   "nbconvert_exporter": "python",
   "pygments_lexer": "ipython3",
   "version": "3.8.5"
  },
  "orig_nbformat": 4,
  "kernelspec": {
   "name": "python3",
   "display_name": "Python 3.8.5 64-bit ('SNMF_EDXS--pNpjmq1': pipenv)"
  },
  "interpreter": {
   "hash": "ae2bec25d04a58403981d6892379486339cbb2cd6f315f3a399785dd0e4b6656"
  }
 },
 "nbformat": 4,
 "nbformat_minor": 2,
 "cells": [
  {
   "cell_type": "code",
   "execution_count": null,
   "metadata": {},
   "outputs": [],
   "source": [
    "%load_ext autoreload\n",
    "%autoreload 2\n",
    "%matplotlib inline\n",
    "import numpy as np\n",
    "import matplotlib.pyplot as plt\n",
    "from snmfem.experiments import perform_simulations, load_samples, print_results, load_data, run_experiment, build_exp, fill_exp_dict\n",
    "import json\n",
    "import re\n",
    "import warnings\n",
    "import snmfem.conf as c\n",
    "from pathlib import Path\n",
    "warnings.simplefilter(action='ignore', category=FutureWarning)"
   ]
  },
  {
   "source": [
    "# I. Designing an experiment with synthetic data\n",
    "## json of the input data"
   ],
   "cell_type": "markdown",
   "metadata": {}
  },
  {
   "cell_type": "code",
   "execution_count": null,
   "metadata": {},
   "outputs": [],
   "source": [
    "dataset = \"EDXS_data_rand_phases.json\"\n",
    "samples, k = load_samples(dataset)"
   ]
  },
  {
   "source": [
    "## parameters of the experiment"
   ],
   "cell_type": "markdown",
   "metadata": {}
  },
  {
   "cell_type": "code",
   "execution_count": null,
   "metadata": {},
   "outputs": [],
   "source": [
    "method = {\n",
    "    \"name\" : \"A_cool_name\",\n",
    "    \"method\" : \"SmoothNMF\"\n",
    "}\n",
    "params = {\n",
    "    \"lambda_L\" : 1.0,\n",
    "    \"tol\" : 1e-8,\n",
    "    \"max_iter\" : 5\n",
    "}\n",
    "\n",
    "exp = build_exp(k,method,fill_exp_dict(params),name = method[\"name\"])"
   ]
  },
  {
   "source": [
    "## Saving the parameters in a json file"
   ],
   "cell_type": "markdown",
   "metadata": {}
  },
  {
   "cell_type": "code",
   "execution_count": null,
   "metadata": {},
   "outputs": [],
   "source": [
    "output_file = c.SCRIPT_CONFIG_PATH / Path(method[\"name\"] + \"_experiment.json\")\n",
    "json_dict = {\"experiment\" : exp, \"dataset\" : dataset}\n",
    "with open(output_file,\"w\") as f : \n",
    "    json.dump(json_dict,f,indent = 4)\n",
    "\n",
    "\n"
   ]
  },
  {
   "source": [
    "# II. Perform experiment from json\n",
    "## Load the data"
   ],
   "cell_type": "markdown",
   "metadata": {}
  },
  {
   "cell_type": "code",
   "execution_count": null,
   "metadata": {},
   "outputs": [],
   "source": [
    "json_filename = c.SCRIPT_CONFIG_PATH / Path(\"A_cool_name_experiment.json\")\n",
    "with open(json_filename, \"r\") as f : \n",
    "    exp_dict = json.load(f)\n",
    "\n",
    "samples, k = load_samples(exp_dict[\"dataset\"])"
   ]
  },
  {
   "source": [
    "## Perform the experiment on all samples"
   ],
   "cell_type": "markdown",
   "metadata": {}
  },
  {
   "cell_type": "code",
   "execution_count": null,
   "metadata": {},
   "outputs": [],
   "source": [
    "metrics = perform_simulations(samples, [exp_dict[\"experiment\"]])"
   ]
  },
  {
   "cell_type": "code",
   "execution_count": null,
   "metadata": {},
   "outputs": [],
   "source": [
    "print(print_results([exp_dict[\"experiment\"]], metrics))"
   ]
  },
  {
   "source": [
    "## Perform the experiment on 1 sample"
   ],
   "cell_type": "markdown",
   "metadata": {}
  },
  {
   "cell_type": "code",
   "execution_count": null,
   "metadata": {},
   "outputs": [],
   "source": [
    "sample_num = 4\n",
    "s = samples[sample_num]\n",
    "Xflat, true_spectra, true_maps, G, shape_2d = load_data(s)\n",
    "\n",
    "m, (GP, A), loss  = run_experiment(Xflat, true_spectra, true_maps, G, exp_dict[\"experiment\"], shape_2d = shape_2d)\n",
    "metric = m[:-1]\n",
    "order = m[-1]"
   ]
  },
  {
   "source": [
    "### Plot parameters"
   ],
   "cell_type": "markdown",
   "metadata": {}
  },
  {
   "cell_type": "code",
   "execution_count": null,
   "metadata": {},
   "outputs": [],
   "source": [
    "# Ploting parameters\n",
    "fontsize = 15\n",
    "aspect_ratio = 3/4\n",
    "scale = 20\n",
    "marker_list = [\"-o\",\"-s\",\"->\",\"-<\",\"-^\",\"-v\",\"-d\"]\n",
    "mark_space = 20"
   ]
  },
  {
   "source": [
    "## Plot the resulting spectra"
   ],
   "cell_type": "markdown",
   "metadata": {}
  },
  {
   "cell_type": "code",
   "execution_count": null,
   "metadata": {},
   "outputs": [],
   "source": [
    "fig, axes = plt.subplots(1,k,figsize = (scale,scale/k * aspect_ratio))\n",
    "for j in range(k):\n",
    "    axes[j].plot(true_spectra[j],'bo',label='truth',linewidth=4)\n",
    "    axes[j].plot(GP[:,order[0][j]] ,'r-',label='reconstructed',markersize=3.5)\n",
    "    axes[j].set_title(\"{:.2f} deg\".format(metric[0][j]))\n",
    "\n",
    "cols = ['Phase {}'.format(col) for col in range(k)]\n",
    "row = exp_dict[\"experiment\"][\"name\"]\n",
    "\n",
    "for ax, col in zip(axes, cols):\n",
    "    ax.set_title(col, fontsize=fontsize)\n",
    "\n",
    "axes[0].set_ylabel(row, rotation=90, fontsize=fontsize)\n",
    "\n",
    "fig.tight_layout()\n",
    "\n",
    "plt.show()"
   ]
  },
  {
   "source": [
    "## Plot the resulting maps"
   ],
   "cell_type": "markdown",
   "metadata": {}
  },
  {
   "cell_type": "code",
   "execution_count": null,
   "metadata": {},
   "outputs": [],
   "source": [
    "fig, axes = plt.subplots(2,k,figsize = (scale,scale/k * 2 * aspect_ratio))\n",
    "vmin = 0\n",
    "vmax = np.max(true_maps)\n",
    "cmap = plt.cm.gist_heat_r\n",
    "for j in range(k):\n",
    "    axes[0,j].imshow(true_maps[j].reshape(*shape_2d), vmin=vmin, vmax=vmax, cmap=cmap)\n",
    "    axes[1,j].imshow(A[order[1][j],:].reshape(*shape_2d), vmin=vmin, vmax=vmax, cmap=cmap)\n",
    "    axes[1,j].set_title(\"Mse: {:.2f}\".format(metric[1][j]))\n",
    "    \n",
    "cols = ['MAP {}'.format(col) for col in range(k)]\n",
    "rows = [\"Ground truth\"] + [exp_dict[\"experiment\"][\"name\"]]\n",
    "\n",
    "for ax, col in zip(axes[0], cols):\n",
    "    ax.set_title(col, fontsize=fontsize)\n",
    "\n",
    "for ax, row in zip(axes[:,0], rows):\n",
    "    ax.set_ylabel(row, rotation=90, fontsize=fontsize)\n",
    "\n",
    "fig.tight_layout()"
   ]
  },
  {
   "source": [
    "## Plot the losses"
   ],
   "cell_type": "markdown",
   "metadata": {}
  },
  {
   "cell_type": "code",
   "execution_count": null,
   "metadata": {},
   "outputs": [],
   "source": [
    "fig, axes = plt.subplots(1, 4, figsize=(20, 4))\n",
    "\n",
    "names = list(loss.dtype.names)\n",
    "for j,name in enumerate(names) :\n",
    "    if re.match(r\".*(loss)\",name) : \n",
    "        axes[0].plot(loss[name],marker_list[j%len(marker_list)],markersize=3.5,label = name,markevery = mark_space,linewidth = 2)\n",
    "        axes[0].set_yscale(\"log\")\n",
    "        axes[0].legend()\n",
    "        axes[0].set_xlabel(\"number of iterations\")\n",
    "    elif re.match(r\"^(rel)\",name) : \n",
    "        axes[1].plot(loss[name],marker_list[j%len(marker_list)],markersize=3.5,label = name,markevery = mark_space,linewidth = 2)\n",
    "        axes[1].legend()\n",
    "        axes[1].set_xlabel(\"number of iterations\")\n",
    "    elif re.match(r\"^(ang)\",name) :\n",
    "        axes[2].plot(loss[name],marker_list[j%len(marker_list)],markersize=3.5,label = name,markevery = mark_space,linewidth = 2)\n",
    "        axes[2].legend()\n",
    "        axes[2].set_xlabel(\"number of iterations\")\n",
    "    elif re.match(r\"^(mse)\",name) :\n",
    "        axes[3].plot(loss[name],marker_list[j%len(marker_list)],markersize=3.5,label = name,markevery = mark_space,linewidth = 2)\n",
    "        axes[3].legend()\n",
    "        axes[3].set_xlabel(\"number of iterations\")\n",
    "\n",
    "cols = [\"Losses\", \"Evolution of A and P\",\"Angles\",\"MSE\"]\n",
    "row = exp_dict[\"experiment\"][\"name\"]\n",
    "\n",
    "for ax, col in zip(axes, cols):\n",
    "    ax.set_title(col, fontsize=fontsize)\n",
    "\n",
    "axes[0].set_ylabel(row, rotation=90, fontsize=fontsize)\n",
    "\n",
    "fig.tight_layout()"
   ]
  }
 ]
}