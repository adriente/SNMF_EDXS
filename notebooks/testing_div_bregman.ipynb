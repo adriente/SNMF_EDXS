{
 "cells": [
  {
   "cell_type": "code",
   "execution_count": 1,
   "source": [
    "%load_ext autoreload\n",
    "%autoreload 2\n",
    "%matplotlib inline"
   ],
   "outputs": [],
   "metadata": {}
  },
  {
   "cell_type": "markdown",
   "source": [
    "# Divergence de Bregman"
   ],
   "metadata": {}
  },
  {
   "cell_type": "code",
   "execution_count": null,
   "source": [
    "def f(x):\n",
    "    return 0.5*(x - 2)**2\n",
    "\n",
    "def nablaf(x):\n",
    "    return (x - 2)\n",
    "\n",
    "def f(x):\n",
    "    return np.abs(x - 2)\n",
    "\n",
    "def nablaf(x):\n",
    "    return np.sign(x - 2)\n",
    "\n",
    "def bregman_div(f, nablaf, xt, x):\n",
    "    fxt = f(xt)\n",
    "    fx = f(x)\n",
    "    nablafxt = nablaf(xt)\n",
    "    return fx - fxt - nablafxt * (x - xt)"
   ],
   "outputs": [],
   "metadata": {}
  },
  {
   "cell_type": "code",
   "execution_count": null,
   "source": [
    "x = np.arange(-10,10, 0.1)\n",
    "xt = -2\n",
    "fx = f(x)\n",
    "vmin = np.min(fx)\n",
    "vmax = np.max(fx)\n",
    "plt.plot(x, fx, label=\"f(x)\")\n",
    "plt.plot(x, bregman_div(f, nablaf, xt, x), label=\"Bregman divergence of f(x) at xt={}\".format(xt))\n",
    "plt.plot([xt, xt], [vmin, vmax], label=\"xt\")\n",
    "plt.ylim([vmin, vmax])\n",
    "plt.legend(loc=1)"
   ],
   "outputs": [],
   "metadata": {}
  }
 ],
 "metadata": {
  "interpreter": {
   "hash": "1c54570ff4268047c81dd2c61765206f7b22026564b587a11579858717e9a312"
  },
  "kernelspec": {
   "name": "python3",
   "display_name": "Python 3.8.6 64-bit ('SNMF_EDXS-FwWDtlwS': pipenv)"
  },
  "language_info": {
   "codemirror_mode": {
    "name": "ipython",
    "version": 3
   },
   "file_extension": ".py",
   "mimetype": "text/x-python",
   "name": "python",
   "nbconvert_exporter": "python",
   "pygments_lexer": "ipython3",
   "version": "3.8.6"
  }
 },
 "nbformat": 4,
 "nbformat_minor": 4
}