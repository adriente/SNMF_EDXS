{
 "cells": [
  {
   "cell_type": "code",
   "execution_count": 1,
   "metadata": {},
   "outputs": [],
   "source": [
    "%load_ext autoreload\n",
    "%autoreload 2\n",
    "%matplotlib qt"
   ]
  },
  {
   "cell_type": "code",
   "execution_count": 2,
   "metadata": {},
   "outputs": [
    {
     "name": "stderr",
     "output_type": "stream",
     "text": [
      "C:\\ProgramData\\Anaconda3\\lib\\site-packages\\pyUSID\\viz\\__init__.py:18: FutureWarning: Please use sidpy.viz.plot_utils instead of pyUSID.viz.plot_utils. pyUSID.plot_utils will be removed in a future release of pyUSID\n",
      "  FutureWarning)\n"
     ]
    }
   ],
   "source": [
    "from snmfem.conf import RESULTS_PATH, DATASETS_PATH\n",
    "from snmfem.experiments import load_data\n",
    "from snmfem.measures import find_min_angle, find_min_MSE, spectral_angle\n",
    "from pathlib import Path\n",
    "import matplotlib.pyplot as plt\n",
    "import re\n",
    "import numpy as np\n",
    "import hyperspy.api as hs\n"
   ]
  },
  {
   "cell_type": "code",
   "execution_count": 62,
   "metadata": {},
   "outputs": [],
   "source": [
    "f1 = hs.load(\"0.3wt%Nd-Sm-Hf-Lu-U-A-X15-71GPa_subsolidus grains_01_Brg spectrum.hdf5\")\n",
    "f2 = hs.load(\"0.3wt%Nd-Sm-Hf-Lu-U-A-X15-71GPa_subsolidus grains_01_CaPv spectrum.hdf5\")\n",
    "f3 = hs.load(\"0.3wt%Nd-Sm-Hf-Lu-U-A-X15-71GPa_subsolidus grains_01_Fp spectrum.hdf5\")\n",
    "scale = f1.axes_manager[0].scale\n",
    "offset = f1.axes_manager[0].offset\n",
    "size = f1.axes_manager[0].size\n",
    "x_true = np.linspace(offset,offset + size*scale, num = size)\n",
    "x_recons = np.linspace(0.81805,0.01*1918 + 0.81805,num = 1918)\n",
    "\n",
    "true_spectra = np.array([f1.data,f2.data,f3.data])#,f1.data])"
   ]
  },
  {
   "cell_type": "markdown",
   "metadata": {},
   "source": [
    "# Load data and ground truth"
   ]
  },
  {
   "cell_type": "code",
   "execution_count": 63,
   "metadata": {},
   "outputs": [],
   "source": [
    "file = \"71GPa_subsolidus_smooth1.npz\"\n",
    "path = RESULTS_PATH / Path(file)\n",
    "data = np.load(path)\n",
    "shape_2d = (201,201)\n",
    "k = 3\n",
    "GP = data[\"D\"]\n",
    "A = data[\"A\"]\n",
    "# losses = data[\"losses\"]\n",
    "tt = []\n",
    "tGP = []\n",
    "for i in range(k) : \n",
    "    temp_true = true_spectra[i]\n",
    "    temp_GP = GP.T[i]\n",
    "    new_true = temp_true[x_true > np.min(x_recons)]\n",
    "    new_GP = temp_GP[x_recons < np.max(x_true)]\n",
    "    tt.append(new_true)\n",
    "    tGP.append(new_GP)\n",
    "\n",
    "\n",
    "trunc_true = np.vstack(tt)\n",
    "trunc_GP = np.vstack(tGP)\n",
    "\n",
    "angles, true_ind_spec = find_min_angle(trunc_true,trunc_GP,unique = True, get_ind=True)"
   ]
  },
  {
   "cell_type": "code",
   "execution_count": 64,
   "metadata": {},
   "outputs": [],
   "source": [
    "new_x_true = x_true[x_true > np.min(x_recons)]"
   ]
  },
  {
   "cell_type": "markdown",
   "metadata": {},
   "source": [
    "## Plot params"
   ]
  },
  {
   "cell_type": "code",
   "execution_count": 65,
   "metadata": {},
   "outputs": [],
   "source": [
    "fontsize = 30\n",
    "scale = 15\n",
    "aspect_ratio = 1.4\n",
    "marker_list = [\"-o\",\"-s\",\"->\",\"-<\",\"-^\",\"-v\",\"-d\"]\n",
    "mark_space = 20\n"
   ]
  },
  {
   "cell_type": "code",
   "execution_count": 70,
   "metadata": {},
   "outputs": [],
   "source": [
    "true_ind_spec = [0,1,2]\n",
    "angles = []\n",
    "for i,j in enumerate(true_ind_spec) : \n",
    "    angles.append(spectral_angle(trunc_true[i],trunc_GP[j]))\n",
    "labels = [\"Bridgmanite\", \"Ca-perovskite\", \"Ferropericlase\",\"brg2\"]"
   ]
  },
  {
   "cell_type": "code",
   "execution_count": 56,
   "metadata": {},
   "outputs": [
    {
     "data": {
      "text/plain": [
       "array([0.01264547, 0.82923097, 0.08667439, 0.07144917])"
      ]
     },
     "execution_count": 56,
     "metadata": {},
     "output_type": "execute_result"
    }
   ],
   "source": [
    "np.average(A,axis=1)"
   ]
  },
  {
   "cell_type": "markdown",
   "metadata": {},
   "source": [
    "# Plot spectra and maps"
   ]
  },
  {
   "cell_type": "code",
   "execution_count": 71,
   "metadata": {},
   "outputs": [],
   "source": [
    "fig, axes = plt.subplots(2,k,figsize = (scale/k * 2 * aspect_ratio,scale))\n",
    "for i, spectre in enumerate(true_spectra): \n",
    "    axes[1,i].plot(new_x_true,trunc_true[i]/np.max(trunc_true[i]),'bo',label='truth',linewidth=4)\n",
    "    axes[1,i].plot(x_recons,GP.T[true_ind_spec[i]]/np.max(GP.T[true_ind_spec[i]]) ,'r-',label='reconstructed',markersize=3.5)\n",
    "    axes[1,i].set_title(\"{:.2f} deg\".format(angles[i]),fontsize = fontsize-2)\n",
    "    axes[1,i].set_xlim(0,10)\n",
    "    axes[1,i].set_xlabel(\"Energy (keV)\",fontsize = fontsize/2)\n",
    "\n",
    "    im = axes[0,i].imshow(A[true_ind_spec[i]].reshape(shape_2d))#,vmin = 0.0, vmax = 1.0 )\n",
    "    # axes[0,i].set_title(\"{:.2f} MSE\".format(mse[i]),fontsize = fontsize-2)\n",
    "    # axes[i,1].set_ylim(0.0,1.0)\n",
    "    axes[0,i].tick_params(axis = \"both\",labelleft = False, labelbottom = False,left = False, bottom = False)\n",
    "    axes[0,i].set_title(\"{}\".format(labels[i]),fontsize = fontsize-2)\n",
    "    axes[1,0].legend()\n",
    "\n",
    "rows = [\"Reconstructed maps\",\"Normalized Spectra\"]\n",
    "\n",
    "for ax, row in zip(axes[:,0], rows):\n",
    "    ax.set_ylabel(row, rotation=90, fontsize=fontsize)\n",
    "\n",
    "\n",
    "fig.subplots_adjust(right=0.84)\n",
    "# put colorbar at desire position\n",
    "cbar_ax = fig.add_axes([0.85, 0.55, 0.01, 0.32])\n",
    "fig.colorbar(im,cax=cbar_ax)\n",
    "\n",
    "# fig.tight_layout()\n",
    "\n",
    "plt.show()"
   ]
  },
  {
   "cell_type": "code",
   "execution_count": null,
   "metadata": {},
   "outputs": [],
   "source": [
    "np.savetxt(\"true_spectra.txt\",true_spectra)\n",
    "np.savetxt(\"GP.txt\",GP.T)"
   ]
  },
  {
   "cell_type": "code",
   "execution_count": 185,
   "metadata": {},
   "outputs": [
    {
     "ename": "NameError",
     "evalue": "name 'mse' is not defined",
     "output_type": "error",
     "traceback": [
      "\u001b[1;31m---------------------------------------------------------------------------\u001b[0m",
      "\u001b[1;31mNameError\u001b[0m                                 Traceback (most recent call last)",
      "\u001b[1;32m<ipython-input-185-560960d5b19c>\u001b[0m in \u001b[0;36m<module>\u001b[1;34m\u001b[0m\n\u001b[0;32m     11\u001b[0m \u001b[1;33m\u001b[0m\u001b[0m\n\u001b[0;32m     12\u001b[0m     \u001b[0maxes\u001b[0m\u001b[1;33m[\u001b[0m\u001b[1;36m1\u001b[0m\u001b[1;33m,\u001b[0m\u001b[0mi\u001b[0m\u001b[1;33m]\u001b[0m\u001b[1;33m.\u001b[0m\u001b[0mimshow\u001b[0m\u001b[1;33m(\u001b[0m\u001b[0mA\u001b[0m\u001b[1;33m[\u001b[0m\u001b[0mtrue_ind_spec\u001b[0m\u001b[1;33m[\u001b[0m\u001b[0mi\u001b[0m\u001b[1;33m]\u001b[0m\u001b[1;33m]\u001b[0m\u001b[1;33m.\u001b[0m\u001b[0mreshape\u001b[0m\u001b[1;33m(\u001b[0m\u001b[0mshape_2d\u001b[0m\u001b[1;33m)\u001b[0m\u001b[1;33m)\u001b[0m\u001b[1;31m#,vmin = 0.0, vmax = 1.0 )\u001b[0m\u001b[1;33m\u001b[0m\u001b[1;33m\u001b[0m\u001b[0m\n\u001b[1;32m---> 13\u001b[1;33m     \u001b[0maxes\u001b[0m\u001b[1;33m[\u001b[0m\u001b[1;36m1\u001b[0m\u001b[1;33m,\u001b[0m\u001b[0mi\u001b[0m\u001b[1;33m]\u001b[0m\u001b[1;33m.\u001b[0m\u001b[0mset_title\u001b[0m\u001b[1;33m(\u001b[0m\u001b[1;34m\"{:.2f} MSE\"\u001b[0m\u001b[1;33m.\u001b[0m\u001b[0mformat\u001b[0m\u001b[1;33m(\u001b[0m\u001b[0mmse\u001b[0m\u001b[1;33m[\u001b[0m\u001b[0mi\u001b[0m\u001b[1;33m]\u001b[0m\u001b[1;33m)\u001b[0m\u001b[1;33m,\u001b[0m\u001b[0mfontsize\u001b[0m \u001b[1;33m=\u001b[0m \u001b[0mfontsize\u001b[0m\u001b[1;33m-\u001b[0m\u001b[1;36m2\u001b[0m\u001b[1;33m)\u001b[0m\u001b[1;33m\u001b[0m\u001b[1;33m\u001b[0m\u001b[0m\n\u001b[0m\u001b[0;32m     14\u001b[0m     \u001b[0maxes\u001b[0m\u001b[1;33m[\u001b[0m\u001b[1;36m1\u001b[0m\u001b[1;33m,\u001b[0m\u001b[0mi\u001b[0m\u001b[1;33m]\u001b[0m\u001b[1;33m.\u001b[0m\u001b[0mtick_params\u001b[0m\u001b[1;33m(\u001b[0m\u001b[0maxis\u001b[0m\u001b[1;33m=\u001b[0m\u001b[1;34mu'both'\u001b[0m\u001b[1;33m,\u001b[0m \u001b[0mwhich\u001b[0m\u001b[1;33m=\u001b[0m\u001b[1;34mu'both'\u001b[0m\u001b[1;33m,\u001b[0m\u001b[0mlength\u001b[0m\u001b[1;33m=\u001b[0m\u001b[1;36m0\u001b[0m\u001b[1;33m)\u001b[0m\u001b[1;33m\u001b[0m\u001b[1;33m\u001b[0m\u001b[0m\n\u001b[0;32m     15\u001b[0m     \u001b[0maxes\u001b[0m\u001b[1;33m[\u001b[0m\u001b[1;36m1\u001b[0m\u001b[1;33m,\u001b[0m\u001b[0mi\u001b[0m\u001b[1;33m]\u001b[0m\u001b[1;33m.\u001b[0m\u001b[0mset_xticklabels\u001b[0m\u001b[1;33m(\u001b[0m\u001b[1;33m[\u001b[0m\u001b[1;33m]\u001b[0m\u001b[1;33m)\u001b[0m\u001b[1;33m\u001b[0m\u001b[1;33m\u001b[0m\u001b[0m\n",
      "\u001b[1;31mNameError\u001b[0m: name 'mse' is not defined"
     ]
    }
   ],
   "source": [
    "fig, axes = plt.subplots(2,k,figsize = (scale/k * 3 * aspect_ratio,scale))\n",
    "fig.subplots_adjust(wspace=0.01,hspace=0.01)\n",
    "\n",
    "\n",
    "\n",
    "for i, spectre in enumerate(true_spectra): \n",
    "    # axes[1,i].plot(true_spectra[i],'bo',label='truth',linewidth=4)\n",
    "    # axes[1,i].plot(GP.T[true_ind_spec[i]] ,'r-',label='reconstructed',markersize=3.5)\n",
    "    # axes[1,i].set_title(\"{:.2f} deg\".format(angles[i]),fontsize = fontsize-2)\n",
    "    # axes[1,i].set_xlim(0,1000)\n",
    "\n",
    "    axes[1,i].imshow(A[true_ind_spec[i]].reshape(shape_2d),vmin = 0.0, vmax = 1.0 )\n",
    "    axes[1,i].set_title(\"{:.2f} MSE\".format(mse[i]),fontsize = fontsize-2)\n",
    "    axes[1,i].tick_params(axis=u'both', which=u'both',length=0)\n",
    "    axes[1,i].set_xticklabels([])\n",
    "    axes[1,i].set_yticklabels([])\n",
    "    # axes[i,1].set_ylim(0.0,1.0)\n",
    "\n",
    "    im = axes[0,i].imshow(true_maps[i].reshape(shape_2d),vmin = 0.0, vmax = 1.0)\n",
    "    axes[0,i].set_title(\"Phase {}\".format(i),fontsize = fontsize)\n",
    "    axes[0,i].tick_params(axis=u'both', which=u'both',length=0)\n",
    "    axes[0,i].set_xticklabels([])\n",
    "    axes[0,i].set_yticklabels([])\n",
    "\n",
    "    # axes[2,0].legend()\n",
    "\n",
    "rows = [\"Truth\",\"Reconstructed\",\"Spectra\"]\n",
    "\n",
    "for ax, row in zip(axes[:,0], rows):\n",
    "    ax.set_ylabel(row, rotation=90, fontsize=fontsize)\n",
    "\n",
    "\n",
    "fig.subplots_adjust(right=0.84)\n",
    "# put colorbar at desire position\n",
    "cbar_ax = fig.add_axes([0.85, 0.4, 0.02, 0.3])\n",
    "fig.colorbar(im,cax=cbar_ax)\n",
    "cbar_ax.tick_params(labelsize=fontsize)\n",
    "\n",
    "# fig.tight_layout()\n",
    "\n",
    "plt.show()"
   ]
  },
  {
   "cell_type": "markdown",
   "metadata": {},
   "source": [
    "# Plot losses"
   ]
  },
  {
   "cell_type": "code",
   "execution_count": null,
   "metadata": {},
   "outputs": [],
   "source": [
    "fig, axes = plt.subplots(1, 4, figsize=(4*scale,scale))\n",
    "\n",
    "names = list(losses.dtype.names)\n",
    "for j,name in enumerate(names) :\n",
    "    if re.match(r\".*(loss)\",name) : \n",
    "        axes[0].plot(losses[name],marker_list[j%len(marker_list)],markersize=3.5,label = name,markevery = mark_space,linewidth = 2)\n",
    "        axes[0].set_yscale(\"log\")\n",
    "        axes[0].set_xscale(\"log\")\n",
    "        axes[0].tick_params(axis='both', which='major', labelsize=fontsize-5)\n",
    "        axes[0].set_xscale(\"log\")\n",
    "        axes[0].legend(fontsize = fontsize -2)\n",
    "        axes[0].set_xlabel(\"number of iterations\",fontsize = fontsize -5)\n",
    "    elif re.match(r\"^(rel)\",name) : \n",
    "        axes[1].plot(losses[name],marker_list[j%len(marker_list)],markersize=3.5,label = name,markevery = mark_space,linewidth = 2)\n",
    "        axes[1].legend(fontsize = fontsize -2)\n",
    "        axes[1].set_yscale(\"log\")\n",
    "        axes[1].set_xscale(\"log\")\n",
    "        axes[1].tick_params(axis='both', which='major', labelsize=fontsize-5)\n",
    "        axes[1].set_xlabel(\"number of iterations\",fontsize = fontsize -5)\n",
    "    elif re.match(r\"^(ang)\",name) :\n",
    "        axes[2].plot(losses[name],marker_list[j%len(marker_list)],markersize=3.5,label = name,markevery = mark_space,linewidth = 2)\n",
    "        axes[2].legend(fontsize = fontsize -2)\n",
    "        axes[2].set_xscale(\"log\")\n",
    "        axes[2].tick_params(axis='both', which='major', labelsize=fontsize-5)\n",
    "        axes[2].set_xlabel(\"number of iterations\",fontsize = fontsize -5)\n",
    "    elif re.match(r\"^(mse)\",name) :\n",
    "        axes[3].plot(losses[name],marker_list[j%len(marker_list)],markersize=3.5,label = name,markevery = mark_space,linewidth = 2)\n",
    "        axes[3].legend(fontsize = fontsize -2)\n",
    "        axes[3].set_xscale(\"log\")\n",
    "        axes[3].tick_params(axis='both', which='major', labelsize=fontsize-5)\n",
    "        axes[3].set_xlabel(\"number of iterations\",fontsize = fontsize -5)"
   ]
  },
  {
   "cell_type": "markdown",
   "metadata": {},
   "source": [
    "# Without ground truth"
   ]
  },
  {
   "cell_type": "code",
   "execution_count": 48,
   "metadata": {},
   "outputs": [],
   "source": [
    "file = \"71GPa_subsolidus_smooth1_k4.npz\"\n",
    "path = RESULTS_PATH / Path(file)\n",
    "data = np.load(path)\n",
    "shape_2d = (256,256)\n",
    "k = 4\n",
    "GP = data[\"D\"]\n",
    "A = data[\"A\"]\n",
    "# x = np.linspace(0.59765,0.59765 + 3880*0.005, num = 3880)\n",
    "x = np.linspace(0.81805,0.81805 + 1918*0.005, num = 1918)\n",
    "# x = np.linspace(0.6996000000000001 ,0.6996000000000001  + 800*0.01, num = 800)\n",
    "fontsize = 30\n",
    "scale = 15\n",
    "aspect_ratio = 1.4\n",
    "marker_list = [\"-o\",\"-s\",\"->\",\"-<\",\"-^\",\"-v\",\"-d\"]\n",
    "mark_space = 20"
   ]
  },
  {
   "cell_type": "code",
   "execution_count": 49,
   "metadata": {},
   "outputs": [],
   "source": [
    "fig, axes = plt.subplots(2,k,figsize = (scale/k * 2 * aspect_ratio,scale))\n",
    "fig.suptitle(file, fontsize=32)\n",
    "for i in range(k): \n",
    "    # axes[1,i].plot(new_x_true,trunc_true[i]/np.max(trunc_true[i]),'bo',label='truth',linewidth=4)\n",
    "    axes[1,i].plot(x,GP.T[i] ,'ro-',label='reconstructed',markersize=3.5,markevery = mark_space)\n",
    "    # axes[1,i].set_title(\"{:.2f} deg\".format(angles[i]),fontsize = fontsize-2)\n",
    "#     axes[1,i].set_xlim(0,10)\n",
    "    axes[1,i].set_xlabel(\"Energy (keV)\",fontsize = fontsize/2)\n",
    "\n",
    "    im = axes[0,i].imshow(A[i].reshape(shape_2d))#,vmin = 0.0, vmax = 1.0 )\n",
    "    # axes[0,i].set_title(\"{:.2f} MSE\".format(mse[i]),fontsize = fontsize-2)\n",
    "    # axes[i,1].set_ylim(0.0,1.0)\n",
    "    axes[0,i].tick_params(axis = \"both\",labelleft = False, labelbottom = False,left = False, bottom = False)\n",
    "#     axes[0,i].set_title(\"{}\".format(labels[i]),fontsize = fontsize-2)\n",
    "    axes[1,0].legend()\n",
    "\n",
    "rows = [\"Reconstructed maps\",\"Normalized Spectra\"]\n",
    "\n",
    "for ax, row in zip(axes[:,0], rows):\n",
    "    ax.set_ylabel(row, rotation=90, fontsize=fontsize)\n",
    "\n",
    "\n",
    "fig.subplots_adjust(right=0.84)\n",
    "# put colorbar at desire position\n",
    "cbar_ax = fig.add_axes([0.85, 0.55, 0.01, 0.32])\n",
    "fig.colorbar(im,cax=cbar_ax)\n",
    "\n",
    "# fig.tight_layout()\n",
    "\n",
    "plt.show()"
   ]
  },
  {
   "cell_type": "code",
   "execution_count": 37,
   "metadata": {},
   "outputs": [],
   "source": [
    "Xl = GP@A\n",
    "Xl_sum = np.sum(Xl,axis = 1)\n",
    "a_sum = np.sum(a.data,axis=(0,1))"
   ]
  },
  {
   "cell_type": "code",
   "execution_count": 47,
   "metadata": {},
   "outputs": [
    {
     "data": {
      "text/plain": [
       "[<matplotlib.lines.Line2D at 0x19b05cd4f88>]"
      ]
     },
     "execution_count": 47,
     "metadata": {},
     "output_type": "execute_result"
    }
   ],
   "source": [
    "plt.plot(Xl_sum)\n",
    "plt.plot(a_sum)\n",
    "plt.plot(a_sum - Xl_sum)"
   ]
  },
  {
   "cell_type": "code",
   "execution_count": 50,
   "metadata": {},
   "outputs": [
    {
     "data": {
      "text/html": [
       "<style>\n",
       "table, th, td {\n",
       "\tborder: 1px solid black;\n",
       "\tborder-collapse: collapse;\n",
       "}\n",
       "th, td {\n",
       "\tpadding: 5px;\n",
       "}\n",
       "</style>\n",
       "<p><b>< Axes manager, axes: (201, 201|1918) ></b></p>\n",
       "<table style='width:100%'>\n",
       "\n",
       "<tr> \n",
       "<th>Navigation axis name</th> \n",
       "<th>size</th> \n",
       "<th>index</th> \n",
       "<th>offset</th> \n",
       "<th>scale</th> \n",
       "<th>units</th> </tr>\n",
       "<tr> \n",
       "<td>width</td> \n",
       "<td>201</td> \n",
       "<td>0</td> \n",
       "<td>0.0</td> \n",
       "<td>0.00171653641628399</td> \n",
       "<td>µm</td> </tr>\n",
       "<tr> \n",
       "<td>height</td> \n",
       "<td>201</td> \n",
       "<td>0</td> \n",
       "<td>0.0</td> \n",
       "<td>0.00171653641628399</td> \n",
       "<td>µm</td> </tr></table>\n",
       "<table style='width:100%'>\n",
       "\n",
       "<tr> \n",
       "<th>Signal axis name</th> \n",
       "<th>size</th> \n",
       "<th>offset</th> \n",
       "<th>scale</th> \n",
       "<th>units</th> </tr>\n",
       "<tr> \n",
       "<td>Energy</td> \n",
       "<td>1918</td> \n",
       "<td>0.81805</td> \n",
       "<td>0.01</td> \n",
       "<td>keV</td> </tr></table>\n"
      ],
      "text/plain": [
       "<Axes manager, axes: (201, 201|1918)>\n",
       "            Name |   size |  index |  offset |   scale |  units \n",
       "================ | ====== | ====== | ======= | ======= | ====== \n",
       "           width |    201 |      0 |       0 |  0.0017 |     µm \n",
       "          height |    201 |      0 |       0 |  0.0017 |     µm \n",
       "---------------- | ------ | ------ | ------- | ------- | ------ \n",
       "          Energy |   1918 |        |    0.82 |    0.01 |    keV "
      ]
     },
     "execution_count": 50,
     "metadata": {},
     "output_type": "execute_result"
    }
   ],
   "source": [
    "a = hs.load(\"71GPa_subsolidus.hspy\")\n",
    "a.axes_manager"
   ]
  },
  {
   "cell_type": "code",
   "execution_count": 45,
   "metadata": {},
   "outputs": [
    {
     "name": "stdout",
     "output_type": "stream",
     "text": [
      "Decomposition info:\n",
      "  normalize_poissonian_noise=True\n",
      "  algorithm=NMF\n",
      "  output_dimension=3\n",
      "  centre=None\n",
      "scikit-learn estimator:\n",
      "NMF(alpha=0.0, beta_loss='frobenius', init=None, l1_ratio=0.0, max_iter=1000,\n",
      "    n_components=3, random_state=None, shuffle=False, solver='mu', tol=0.0001,\n",
      "    verbose=0)\n"
     ]
    }
   ],
   "source": [
    "a = hs.load(\"1537_Robin_cropped.hspy\")\n",
    "a.change_dtype(\"float64\")\n",
    "a.decomposition(True,algorithm = \"NMF\",output_dimension = 3,solver = \"mu\",tol = 1e-4, max_iter = 1000)\n",
    "k=3"
   ]
  },
  {
   "cell_type": "code",
   "execution_count": 46,
   "metadata": {},
   "outputs": [],
   "source": [
    "l = a.get_decomposition_loadings()\n",
    "f = a.get_decomposition_factors()"
   ]
  },
  {
   "cell_type": "code",
   "execution_count": 47,
   "metadata": {},
   "outputs": [],
   "source": [
    "fig, axes = plt.subplots(2,k,figsize = (scale/k * 2 * aspect_ratio,scale))\n",
    "fig.suptitle(\"HSPY NMF\", fontsize=32)\n",
    "for i in range(k): \n",
    "    # axes[1,i].plot(new_x_true,trunc_true[i]/np.max(trunc_true[i]),'bo',label='truth',linewidth=4)\n",
    "    axes[1,i].plot(x,f.inav[i].data ,'ro-',label='reconstructed',markersize=3.5,markevery = mark_space)\n",
    "    # axes[1,i].set_title(\"{:.2f} deg\".format(angles[i]),fontsize = fontsize-2)\n",
    "#     axes[1,i].set_xlim(0,10)\n",
    "    axes[1,i].set_xlabel(\"Energy (keV)\",fontsize = fontsize/2)\n",
    "\n",
    "    im = axes[0,i].imshow(l.inav[i].data)#,vmin = 0.0, vmax = 1.0 )\n",
    "    # axes[0,i].set_title(\"{:.2f} MSE\".format(mse[i]),fontsize = fontsize-2)\n",
    "    # axes[i,1].set_ylim(0.0,1.0)\n",
    "    axes[0,i].tick_params(axis = \"both\",labelleft = False, labelbottom = False,left = False, bottom = False)\n",
    "#     axes[0,i].set_title(\"{}\".format(labels[i]),fontsize = fontsize-2)\n",
    "    axes[1,0].legend()\n",
    "\n",
    "rows = [\"Reconstructed maps\",\"Normalized Spectra\"]\n",
    "\n",
    "for ax, row in zip(axes[:,0], rows):\n",
    "    ax.set_ylabel(row, rotation=90, fontsize=fontsize)\n",
    "\n",
    "\n",
    "fig.subplots_adjust(right=0.84)\n",
    "# put colorbar at desire position\n",
    "cbar_ax = fig.add_axes([0.85, 0.55, 0.01, 0.32])\n",
    "fig.colorbar(im,cax=cbar_ax)\n",
    "\n",
    "# fig.tight_layout()\n",
    "\n",
    "plt.show()"
   ]
  },
  {
   "cell_type": "code",
   "execution_count": null,
   "metadata": {},
   "outputs": [],
   "source": []
  }
 ],
 "metadata": {
  "interpreter": {
   "hash": "508ccdc6fb5be5f7fd5f6d84709a2756aa123300835f386535c0d36e037b0594"
  },
  "kernelspec": {
   "display_name": "Python 3",
   "language": "python",
   "name": "python3"
  },
  "language_info": {
   "codemirror_mode": {
    "name": "ipython",
    "version": 3
   },
   "file_extension": ".py",
   "mimetype": "text/x-python",
   "name": "python",
   "nbconvert_exporter": "python",
   "pygments_lexer": "ipython3",
   "version": "3.7.6"
  }
 },
 "nbformat": 4,
 "nbformat_minor": 4
}
