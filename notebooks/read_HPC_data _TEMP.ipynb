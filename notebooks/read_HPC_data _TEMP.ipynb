{
 "cells": [
  {
   "cell_type": "code",
   "execution_count": null,
   "source": [
    "%load_ext autoreload\n",
    "%autoreload 2\n",
    "%matplotlib qt"
   ],
   "outputs": [],
   "metadata": {}
  },
  {
   "cell_type": "code",
   "execution_count": null,
   "source": [
    "from snmfem.conf import RESULTS_PATH, DATASETS_PATH\n",
    "from snmfem.experiments import load_data\n",
    "from snmfem.measures import find_min_angle, find_min_MSE, spectral_angle\n",
    "from pathlib import Path\n",
    "import matplotlib.pyplot as plt\n",
    "import re\n",
    "import numpy as np\n",
    "import hyperspy.api as hs\n",
    "from snmfem.measures import KLdiv_loss\n",
    "from snmfem.models.edxs import G_EDXS\n",
    "import snmfem.data_analysis as da"
   ],
   "outputs": [],
   "metadata": {}
  },
  {
   "cell_type": "code",
   "execution_count": null,
   "source": [
    "spim = hs.load(\"71GPa_test2_binned.hspy\")\n",
    "X = spim.data.reshape(spim.axes_manager[0].size*spim.axes_manager[1].size, spim.axes_manager[2].size).T"
   ],
   "outputs": [],
   "metadata": {}
  },
  {
   "cell_type": "code",
   "execution_count": null,
   "source": [
    "spim.change_dtype(\"float64\")\n",
    "spim.decomposition(True,algorithm = \"NMF\", output_dimension = 3, tol = 1e-9, max_iter = 1000)\n",
    "l = spim.get_decomposition_loadings()\n",
    "f = spim.get_decomposition_factors()"
   ],
   "outputs": [],
   "metadata": {}
  },
  {
   "cell_type": "code",
   "execution_count": null,
   "source": [
    "f1 = hs.load(\"0.3wt%Nd-Sm-Hf-Lu-U-A-X15-71GPa_subsolidus grains_01_Brg spectrum.hdf5\")\n",
    "f2 = hs.load(\"0.3wt%Nd-Sm-Hf-Lu-U-A-X15-71GPa_subsolidus grains_01_CaPv spectrum.hdf5\")\n",
    "f3 = hs.load(\"0.3wt%Nd-Sm-Hf-Lu-U-A-X15-71GPa_subsolidus grains_01_Fp spectrum.hdf5\")\n",
    "scale = f1.axes_manager[0].scale\n",
    "offset = f1.axes_manager[0].offset\n",
    "size = f1.axes_manager[0].size\n",
    "x_true = np.linspace(offset,offset + size*scale, num = size)\n",
    "x_recons = np.linspace(0.99805,0.01*1890 + 0.99805,num = 1890)\n",
    "\n",
    "true_spectra = np.array([f1.data,f2.data,f3.data])#,f1.data])"
   ],
   "outputs": [],
   "metadata": {}
  },
  {
   "cell_type": "markdown",
   "source": [
    "# Load data and ground truth"
   ],
   "metadata": {}
  },
  {
   "cell_type": "code",
   "execution_count": null,
   "source": [
    "file = \"71GPa_test2_fixA_smoothnmf_l0_mu5.npz\"\n",
    "path = RESULTS_PATH / Path(file)\n",
    "data = np.load(path)\n",
    "shape_2d = (256,256)\n",
    "k = 3\n",
    "GP = data[\"D\"]\n",
    "A = data[\"A\"]\n",
    "# losses = data[\"losses\"]\n",
    "tt = []\n",
    "tGP = []\n",
    "for i in range(k) : \n",
    "    temp_true = true_spectra[i]\n",
    "    temp_GP = GP.T[i]\n",
    "    new_true = temp_true[x_true > np.min(x_recons)]\n",
    "    new_GP = temp_GP[x_recons < np.max(x_true)]\n",
    "    tt.append(new_true)\n",
    "    tGP.append(new_GP)\n",
    "\n",
    "\n",
    "trunc_true = np.vstack(tt)\n",
    "trunc_GP = np.vstack(tGP)\n",
    "\n",
    "angles, true_ind_spec = find_min_angle(trunc_true,trunc_GP,unique = True, get_ind=True)"
   ],
   "outputs": [],
   "metadata": {}
  },
  {
   "cell_type": "code",
   "execution_count": null,
   "source": [
    "new_x_true = x_true[x_true > np.min(x_recons)]"
   ],
   "outputs": [],
   "metadata": {}
  },
  {
   "cell_type": "markdown",
   "source": [
    "## Plot params"
   ],
   "metadata": {}
  },
  {
   "cell_type": "code",
   "execution_count": null,
   "source": [
    "fontsize = 30\n",
    "scale = 15\n",
    "aspect_ratio = 1.4\n",
    "marker_list = [\"-o\",\"-s\",\"->\",\"-<\",\"-^\",\"-v\",\"-d\"]\n",
    "mark_space = 20\n"
   ],
   "outputs": [],
   "metadata": {}
  },
  {
   "cell_type": "code",
   "execution_count": null,
   "source": [
    "true_ind_spec = [0,2,1]\n",
    "angles = []\n",
    "for i,j in enumerate(true_ind_spec) : \n",
    "    angles.append(spectral_angle(trunc_true[i],trunc_GP[j]))\n",
    "labels = [\"Bridgmanite\", \"Ca-perovskite\", \"Ferropericlase\",\"brg2\"]"
   ],
   "outputs": [],
   "metadata": {}
  },
  {
   "cell_type": "markdown",
   "source": [
    "# Plot spectra and maps"
   ],
   "metadata": {}
  },
  {
   "cell_type": "code",
   "execution_count": null,
   "source": [
    "fig, axes = plt.subplots(2,k,figsize = (scale/k * 2 * aspect_ratio,scale))\n",
    "fig.suptitle(\"{} : {}\".format(file,KLdiv_loss(X,GP,A)), fontsize=32)\n",
    "for i, spectre in enumerate(true_spectra): \n",
    "    axes[1,i].plot(new_x_true,trunc_true[i]/np.max(trunc_true[i]),'bo',label='truth',linewidth=4)\n",
    "    axes[1,i].plot(x_recons,GP.T[true_ind_spec[i]]/np.max(GP.T[true_ind_spec[i]]) ,'r-',label='reconstructed',markersize=3.5)\n",
    "    axes[1,i].set_title(\"{:.2f} deg\".format(angles[i]),fontsize = fontsize-2)\n",
    "    axes[1,i].set_xlim(0,10)\n",
    "    axes[1,i].set_xlabel(\"Energy (keV)\",fontsize = fontsize/2)\n",
    "\n",
    "    im = axes[0,i].imshow(A[true_ind_spec[i]].reshape(shape_2d))#,vmin = 0.0, vmax = 1.0 )\n",
    "    # axes[0,i].set_title(\"{:.2f} MSE\".format(mse[i]),fontsize = fontsize-2)\n",
    "    # axes[i,1].set_ylim(0.0,1.0)\n",
    "    axes[0,i].tick_params(axis = \"both\",labelleft = False, labelbottom = False,left = False, bottom = False)\n",
    "    axes[0,i].set_title(\"{}\".format(labels[i]),fontsize = fontsize-2)\n",
    "    axes[1,0].legend()\n",
    "\n",
    "rows = [\"Reconstructed maps\",\"Normalized Spectra\"]\n",
    "\n",
    "for ax, row in zip(axes[:,0], rows):\n",
    "    ax.set_ylabel(row, rotation=90, fontsize=fontsize)\n",
    "\n",
    "\n",
    "fig.subplots_adjust(right=0.84)\n",
    "# put colorbar at desire position\n",
    "cbar_ax = fig.add_axes([0.85, 0.55, 0.01, 0.32])\n",
    "fig.colorbar(im,cax=cbar_ax)\n",
    "\n",
    "# fig.tight_layout()\n",
    "\n",
    "plt.show()"
   ],
   "outputs": [],
   "metadata": {}
  },
  {
   "cell_type": "code",
   "execution_count": null,
   "source": [
    "np.savetxt(\"true_spectra.txt\",true_spectra)\n",
    "np.savetxt(\"GP.txt\",GP.T)"
   ],
   "outputs": [],
   "metadata": {}
  },
  {
   "cell_type": "code",
   "execution_count": null,
   "source": [
    "fig, axes = plt.subplots(2,k,figsize = (scale/k * 3 * aspect_ratio,scale))\n",
    "fig.subplots_adjust(wspace=0.01,hspace=0.01)\n",
    "\n",
    "\n",
    "\n",
    "for i, spectre in enumerate(true_spectra): \n",
    "    # axes[1,i].plot(true_spectra[i],'bo',label='truth',linewidth=4)\n",
    "    # axes[1,i].plot(GP.T[true_ind_spec[i]] ,'r-',label='reconstructed',markersize=3.5)\n",
    "    # axes[1,i].set_title(\"{:.2f} deg\".format(angles[i]),fontsize = fontsize-2)\n",
    "    # axes[1,i].set_xlim(0,1000)\n",
    "\n",
    "    axes[1,i].imshow(A[true_ind_spec[i]].reshape(shape_2d),vmin = 0.0, vmax = 1.0 )\n",
    "    axes[1,i].set_title(\"{:.2f} MSE\".format(mse[i]),fontsize = fontsize-2)\n",
    "    axes[1,i].tick_params(axis=u'both', which=u'both',length=0)\n",
    "    axes[1,i].set_xticklabels([])\n",
    "    axes[1,i].set_yticklabels([])\n",
    "    # axes[i,1].set_ylim(0.0,1.0)\n",
    "\n",
    "    im = axes[0,i].imshow(true_maps[i].reshape(shape_2d),vmin = 0.0, vmax = 1.0)\n",
    "    axes[0,i].set_title(\"Phase {}\".format(i),fontsize = fontsize)\n",
    "    axes[0,i].tick_params(axis=u'both', which=u'both',length=0)\n",
    "    axes[0,i].set_xticklabels([])\n",
    "    axes[0,i].set_yticklabels([])\n",
    "\n",
    "    # axes[2,0].legend()\n",
    "\n",
    "rows = [\"Truth\",\"Reconstructed\",\"Spectra\"]\n",
    "\n",
    "for ax, row in zip(axes[:,0], rows):\n",
    "    ax.set_ylabel(row, rotation=90, fontsize=fontsize)\n",
    "\n",
    "\n",
    "fig.subplots_adjust(right=0.84)\n",
    "# put colorbar at desire position\n",
    "cbar_ax = fig.add_axes([0.85, 0.4, 0.02, 0.3])\n",
    "fig.colorbar(im,cax=cbar_ax)\n",
    "cbar_ax.tick_params(labelsize=fontsize)\n",
    "\n",
    "# fig.tight_layout()\n",
    "\n",
    "plt.show()"
   ],
   "outputs": [],
   "metadata": {}
  },
  {
   "cell_type": "markdown",
   "source": [
    "# Plot losses"
   ],
   "metadata": {}
  },
  {
   "cell_type": "code",
   "execution_count": null,
   "source": [
    "fig, axes = plt.subplots(1, 4, figsize=(4*scale,scale))\n",
    "\n",
    "names = list(losses.dtype.names)\n",
    "for j,name in enumerate(names) :\n",
    "    if re.match(r\".*(loss)\",name) : \n",
    "        axes[0].plot(losses[name],marker_list[j%len(marker_list)],markersize=3.5,label = name,markevery = mark_space,linewidth = 2)\n",
    "        axes[0].set_yscale(\"log\")\n",
    "        axes[0].set_xscale(\"log\")\n",
    "        axes[0].tick_params(axis='both', which='major', labelsize=fontsize-5)\n",
    "        axes[0].set_xscale(\"log\")\n",
    "        axes[0].legend(fontsize = fontsize -2)\n",
    "        axes[0].set_xlabel(\"number of iterations\",fontsize = fontsize -5)\n",
    "    elif re.match(r\"^(rel)\",name) : \n",
    "        axes[1].plot(losses[name],marker_list[j%len(marker_list)],markersize=3.5,label = name,markevery = mark_space,linewidth = 2)\n",
    "        axes[1].legend(fontsize = fontsize -2)\n",
    "        axes[1].set_yscale(\"log\")\n",
    "        axes[1].set_xscale(\"log\")\n",
    "        axes[1].tick_params(axis='both', which='major', labelsize=fontsize-5)\n",
    "        axes[1].set_xlabel(\"number of iterations\",fontsize = fontsize -5)\n",
    "    elif re.match(r\"^(ang)\",name) :\n",
    "        axes[2].plot(losses[name],marker_list[j%len(marker_list)],markersize=3.5,label = name,markevery = mark_space,linewidth = 2)\n",
    "        axes[2].legend(fontsize = fontsize -2)\n",
    "        axes[2].set_xscale(\"log\")\n",
    "        axes[2].tick_params(axis='both', which='major', labelsize=fontsize-5)\n",
    "        axes[2].set_xlabel(\"number of iterations\",fontsize = fontsize -5)\n",
    "    elif re.match(r\"^(mse)\",name) :\n",
    "        axes[3].plot(losses[name],marker_list[j%len(marker_list)],markersize=3.5,label = name,markevery = mark_space,linewidth = 2)\n",
    "        axes[3].legend(fontsize = fontsize -2)\n",
    "        axes[3].set_xscale(\"log\")\n",
    "        axes[3].tick_params(axis='both', which='major', labelsize=fontsize-5)\n",
    "        axes[3].set_xlabel(\"number of iterations\",fontsize = fontsize -5)"
   ],
   "outputs": [],
   "metadata": {}
  },
  {
   "cell_type": "markdown",
   "source": [
    "# Without ground truth"
   ],
   "metadata": {}
  },
  {
   "cell_type": "code",
   "execution_count": null,
   "source": [
    "s = hs.load(\"B5IC1_binned.hspy\")\n",
    "s.axes_manager"
   ],
   "outputs": [],
   "metadata": {}
  },
  {
   "cell_type": "code",
   "execution_count": null,
   "source": [
    "file = \"B5IC1_nmf_noS.npz\"\n",
    "path = RESULTS_PATH / Path(file)\n",
    "data = np.load(path)\n",
    "shape_2d = (300,300)\n",
    "k = 10\n",
    "GP = data[\"D\"]\n",
    "A = data[\"A\"]\n",
    "# x = np.linspace(0.59765,0.59765 + 3880*0.005, num = 3880)\n",
    "# x = np.linspace(0.81805,0.81805 + 1918*0.005, num = 1918)\n",
    "# x = np.linspace(0.6996000000000001 ,0.6996000000000001  + 800*0.01, num = 800)\n",
    "x = np.linspace(1.85058504, 1.85058504 + 0.010001*1805, num = 1805)\n",
    "fontsize = 30\n",
    "scale = 15\n",
    "aspect_ratio = 1.4\n",
    "marker_list = [\"-o\",\"-s\",\"->\",\"-<\",\"-^\",\"-v\",\"-d\"]\n",
    "mark_space = 20"
   ],
   "outputs": [],
   "metadata": {}
  },
  {
   "cell_type": "code",
   "execution_count": null,
   "source": [
    "plt.imshow(A[8].reshape(shape_2d),vmin = 0.0, vmax = 1.0, cmap = \"Greys_r\" )\n",
    "plt.tick_params(axis = \"both\",labelleft = False, labelbottom = False,left = False, bottom = False)\n",
    "plt.tight_layout()"
   ],
   "outputs": [],
   "metadata": {}
  },
  {
   "cell_type": "code",
   "execution_count": null,
   "source": [
    "fig, axes = plt.subplots(2,k,figsize = (scale/k * 2 * aspect_ratio,scale))\n",
    "fig.suptitle(file, fontsize=32)\n",
    "for i in range(k): \n",
    "    # axes[1,i].plot(new_x_true,trunc_true[i]/np.max(trunc_true[i]),'bo',label='truth',linewidth=4)\n",
    "    axes[1,i].plot(x,GP.T[i] ,'ro-',label='reconstructed',markersize=3.5,markevery = mark_space)\n",
    "    # axes[1,i].set_title(\"{:.2f} deg\".format(angles[i]),fontsize = fontsize-2)\n",
    "#     axes[1,i].set_xlim(0,10)\n",
    "    axes[1,i].set_xlabel(\"Energy (keV)\",fontsize = fontsize/2)\n",
    "\n",
    "    im = axes[0,i].imshow(A[i].reshape(shape_2d),vmin = 0.0, vmax = 1.0 )\n",
    "    # axes[0,i].set_title(\"{:.2f} MSE\".format(mse[i]),fontsize = fontsize-2)\n",
    "    # axes[i,1].set_ylim(0.0,1.0)\n",
    "    axes[0,i].tick_params(axis = \"both\",labelleft = False, labelbottom = False,left = False, bottom = False)\n",
    "#     axes[0,i].set_title(\"{}\".format(labels[i]),fontsize = fontsize-2)\n",
    "    axes[1,0].legend()\n",
    "\n",
    "rows = [\"Reconstructed maps\",\"Normalized Spectra\"]\n",
    "\n",
    "for ax, row in zip(axes[:,0], rows):\n",
    "    ax.set_ylabel(row, rotation=90, fontsize=fontsize)\n",
    "\n",
    "\n",
    "fig.subplots_adjust(right=0.84)\n",
    "# put colorbar at desire position\n",
    "cbar_ax = fig.add_axes([0.85, 0.55, 0.01, 0.32])\n",
    "fig.colorbar(im,cax=cbar_ax)\n",
    "\n",
    "# fig.tight_layout()\n",
    "\n",
    "plt.show()"
   ],
   "outputs": [],
   "metadata": {}
  },
  {
   "cell_type": "code",
   "execution_count": null,
   "source": [
    "Xl = GP@A\n",
    "Xl_sum = np.sum(Xl,axis = 1)\n",
    "a_sum = np.sum(a.data,axis=(0,1))"
   ],
   "outputs": [],
   "metadata": {}
  },
  {
   "cell_type": "code",
   "execution_count": null,
   "source": [
    "plt.plot(Xl_sum)\n",
    "plt.plot(a_sum)\n",
    "plt.plot(a_sum - Xl_sum)"
   ],
   "outputs": [],
   "metadata": {}
  },
  {
   "cell_type": "code",
   "execution_count": null,
   "source": [
    "a = hs.load(\"71GPa_subsolidus.hspy\")\n",
    "a.axes_manager"
   ],
   "outputs": [],
   "metadata": {}
  },
  {
   "cell_type": "code",
   "execution_count": null,
   "source": [
    "a = hs.load(\"1537_Robin_cropped.hspy\")\n",
    "a.change_dtype(\"float64\")\n",
    "a.decomposition(True,algorithm = \"NMF\",output_dimension = 3,solver = \"mu\",tol = 1e-4, max_iter = 1000)\n",
    "k=3"
   ],
   "outputs": [],
   "metadata": {}
  },
  {
   "cell_type": "code",
   "execution_count": null,
   "source": [
    "l = a.get_decomposition_loadings()\n",
    "f = a.get_decomposition_factors()"
   ],
   "outputs": [],
   "metadata": {}
  },
  {
   "cell_type": "code",
   "execution_count": null,
   "source": [
    "fig, axes = plt.subplots(2,k,figsize = (scale/k * 2 * aspect_ratio,scale))\n",
    "fig.suptitle(\"HSPY NMF\", fontsize=32)\n",
    "for i in range(k): \n",
    "    # axes[1,i].plot(new_x_true,trunc_true[i]/np.max(trunc_true[i]),'bo',label='truth',linewidth=4)\n",
    "    axes[1,i].plot(x,f.inav[i].data ,'ro-',label='reconstructed',markersize=3.5,markevery = mark_space)\n",
    "    # axes[1,i].set_title(\"{:.2f} deg\".format(angles[i]),fontsize = fontsize-2)\n",
    "#     axes[1,i].set_xlim(0,10)\n",
    "    axes[1,i].set_xlabel(\"Energy (keV)\",fontsize = fontsize/2)\n",
    "\n",
    "    im = axes[0,i].imshow(l.inav[i].data)#,vmin = 0.0, vmax = 1.0 )\n",
    "    # axes[0,i].set_title(\"{:.2f} MSE\".format(mse[i]),fontsize = fontsize-2)\n",
    "    # axes[i,1].set_ylim(0.0,1.0)\n",
    "    axes[0,i].tick_params(axis = \"both\",labelleft = False, labelbottom = False,left = False, bottom = False)\n",
    "#     axes[0,i].set_title(\"{}\".format(labels[i]),fontsize = fontsize-2)\n",
    "    axes[1,0].legend()\n",
    "\n",
    "rows = [\"Reconstructed maps\",\"Normalized Spectra\"]\n",
    "\n",
    "for ax, row in zip(axes[:,0], rows):\n",
    "    ax.set_ylabel(row, rotation=90, fontsize=fontsize)\n",
    "\n",
    "\n",
    "fig.subplots_adjust(right=0.84)\n",
    "# put colorbar at desire position\n",
    "cbar_ax = fig.add_axes([0.85, 0.55, 0.01, 0.32])\n",
    "fig.colorbar(im,cax=cbar_ax)\n",
    "\n",
    "# fig.tight_layout()\n",
    "\n",
    "plt.show()"
   ],
   "outputs": [],
   "metadata": {}
  },
  {
   "cell_type": "code",
   "execution_count": null,
   "source": [],
   "outputs": [],
   "metadata": {}
  }
 ],
 "metadata": {
  "interpreter": {
   "hash": "508ccdc6fb5be5f7fd5f6d84709a2756aa123300835f386535c0d36e037b0594"
  },
  "kernelspec": {
   "display_name": "Python 3",
   "language": "python",
   "name": "python3"
  },
  "language_info": {
   "codemirror_mode": {
    "name": "ipython",
    "version": 3
   },
   "file_extension": ".py",
   "mimetype": "text/x-python",
   "name": "python",
   "nbconvert_exporter": "python",
   "pygments_lexer": "ipython3",
   "version": "3.7.6"
  }
 },
 "nbformat": 4,
 "nbformat_minor": 4
}