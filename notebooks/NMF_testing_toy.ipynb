{
 "cells": [
  {
   "cell_type": "code",
   "execution_count": null,
   "source": [
    "%load_ext autoreload\n",
    "%autoreload 2\n",
    "%matplotlib inline\n"
   ],
   "outputs": [],
   "metadata": {}
  },
  {
   "cell_type": "code",
   "execution_count": null,
   "source": [
    "import numpy as np\n",
    "import matplotlib.pyplot as plt\n",
    "from snmfem.experiments import perform_simulations, load_samples, print_results, load_data, run_experiment, build_exp, fill_exp_dict\n",
    "import re"
   ],
   "outputs": [],
   "metadata": {}
  },
  {
   "cell_type": "code",
   "execution_count": null,
   "source": [
    "import warnings\n",
    "warnings.simplefilter(action='ignore', category=FutureWarning)"
   ],
   "outputs": [],
   "metadata": {}
  },
  {
   "cell_type": "markdown",
   "source": [
    "# Running NMF"
   ],
   "metadata": {}
  },
  {
   "cell_type": "markdown",
   "source": [
    "## Inputs"
   ],
   "metadata": {}
  },
  {
   "cell_type": "code",
   "execution_count": null,
   "source": [
    "dataset = \"dataset_3rdn_phases.json\"\n",
    "samples, k, g, mod = load_samples(dataset)\n",
    "n_samples = 0\n",
    "samples = samples[n_samples:]\n",
    "\n",
    "\n",
    "\n"
   ],
   "outputs": [],
   "metadata": {}
  },
  {
   "cell_type": "code",
   "execution_count": null,
   "source": [
    "params_evalution = {\n",
    "    \"u\" : True,\n",
    "}\n",
    "\n",
    "# All parameters are contained here\n",
    "exp_list_input = [ \n",
    "#     ({\"name\": \"scikit L2\", \"method\": \"SKNMF\"},{\"max_iter\" : 20}),\n",
    "    ({\"name\": \"smooth3\", \"method\": \"SmoothNMF\"}, {\"max_iter\" : 100000, \"tol\" : 1e-9,\"lambda_L\" : 2}),\n",
    "    # ({\"name\": \"smooth05\", \"method\": \"NMF\"}, {\"max_iter\" : 100000, \"tol\" : 1e-9,\"lambda_L\" : 0.5}),\n",
    "    ({\"name\": \"smooth1\", \"method\": \"SmoothNMF\"}, {\"max_iter\" : 100000, \"tol\" : 1e-9,\"lambda_L\" : 1}),\n",
    "    # ({\"name\": \"smooth01\", \"method\": \"NMF\"}, {\"max_iter\" : 100000, \"tol\" : 1e-9,\"lambda_L\" : 0.01}),\n",
    "    ({\"name\": \"smooth1mu1\", \"method\": \"SmoothNMF\"}, {\"max_iter\" : 100000, \"tol\" : 1e-9,\"lambda_L\" : 1, \"mu\" : 1})\n",
    "    # ({\"name\": \"scikit KL\", \"method\": \"SKNMF\"},{\"beta_loss\" : \"kullback-leibler\",\"max_iter\" : 10000, \"tol\" : 1e-9})\n",
    "#     ({\"name\": \"snmfem_noG_noS\", \"method\": \"NMF\"},{\"skip_G\" : True, \"force_simplex\" : False,\"max_iter\" : 20}),\n",
    "#     ({\"name\": \"snmfem no G\", \"method\": \"NMF\"}, {\"skip_G\" : True,\"max_iter\" : 20}),\n",
    "#     ({\"name\": \"snmfem L2\", \"method\": \"NMF\"}, {\"l2\": True,\"max_iter\" : 20}),\n",
    "#     ({\"name\": \"snmfem smooth 3\", \"method\": \"SmoothNMF\"},{\"lambda_L\" : 3.0,\"max_iter\" : 20}),\n",
    "#     ({\"name\": \"snmfem smooth 30\", \"method\": \"SmoothNMF\"},{\"lambda_L\" : 30.0,\"max_iter\" : 20}),\n",
    "#     ({\"name\": \"snmfem smooth 300\", \"method\": \"SmoothNMF\"},{\"lambda_L\" : 300.0,\"max_iter\" : 20}),\n",
    "#     ({\"name\": \"snmfem L2 smooth 30\", \"method\": \"SmoothNMF\"},{\"l2\": True, \"lambda_L\" : 30.0,\"max_iter\" : 20}),\n",
    "]\n",
    "\n",
    "exp_list = []\n",
    "for elt in exp_list_input : \n",
    "    est_dict = fill_exp_dict(elt[1])\n",
    "    exp_list.append(build_exp(k,elt[0],est_dict,name = elt[0][\"name\"]))"
   ],
   "outputs": [],
   "metadata": {}
  },
  {
   "cell_type": "code",
   "execution_count": null,
   "source": [
    "metrics_all = perform_simulations(samples, exp_list, params_evalution, G_func = True, g_pars = g, mod_pars = mod)"
   ],
   "outputs": [],
   "metadata": {}
  },
  {
   "cell_type": "code",
   "execution_count": null,
   "source": [
    "print(print_results(exp_list, metrics_all))"
   ],
   "outputs": [],
   "metadata": {
    "tags": []
   }
  },
  {
   "cell_type": "markdown",
   "source": [
    "# Run a single experiment and plotting results"
   ],
   "metadata": {}
  },
  {
   "cell_type": "code",
   "execution_count": null,
   "source": [
    "sample_num = 0\n",
    "\n",
    "s = samples[sample_num]\n",
    "Xflat, true_spectra, true_maps, G, shape_2d = load_data(s,G_func = True)\n",
    "\n",
    "Gs = []\n",
    "Ps = []\n",
    "metrics = []\n",
    "As = []\n",
    "orders = []\n",
    "losses = []\n",
    "\n",
    "for exp in exp_list :\n",
    "    print(exp[\"name\"]) \n",
    "    m, (G, P, A), loss  = run_experiment(Xflat, true_spectra, true_maps, G, exp, params_evalution,shape_2d, g_pars = g, mod_pars = mod)\n",
    "    metric = m[:-1]\n",
    "    order = m[-1]\n",
    "    Gs.append(G)\n",
    "    Ps.append(P)\n",
    "    As.append(A)\n",
    "    metrics.append(metric)\n",
    "    orders.append(order)\n",
    "    losses.append(loss)\n",
    "metrics = np.array(metrics)\n",
    "orders = np.array(orders)"
   ],
   "outputs": [],
   "metadata": {}
  },
  {
   "cell_type": "code",
   "execution_count": null,
   "source": [
    "# Ploting parameters\n",
    "fontsize = 30\n",
    "aspect_ratio = 3/4\n",
    "scale = 20\n",
    "marker_list = [\"-o\",\"-s\",\"->\",\"-<\",\"-^\",\"-v\",\"-d\"]\n",
    "mark_space = 20\n",
    "\n"
   ],
   "outputs": [],
   "metadata": {}
  },
  {
   "cell_type": "code",
   "execution_count": null,
   "source": [
    "n_exp = len(exp_list)\n",
    "fig, axes = plt.subplots(n_exp,k,figsize = (scale,scale/k * n_exp * aspect_ratio))\n",
    "for i, exp in enumerate(exp_list): \n",
    "    for j in range(k):\n",
    "        ind = np.arange(k)[orders[i,0,j]]\n",
    "        axes[i,j].plot(true_spectra[j],'bo',label='truth',linewidth=4)\n",
    "        axes[i,j].plot((Gs[i]@Ps[i])[:,ind] ,'r-',label='reconstructed',markersize=3.5)\n",
    "        axes[i,j].set_title(\"{:.2f} deg\".format(metrics[i,0,j]))\n",
    "\n",
    "cols = ['Phase {}'.format(col) for col in range(k)]\n",
    "rows = ['{}'.format(exp[\"name\"]) for exp in exp_list]\n",
    "\n",
    "for ax, col in zip(axes[0], cols):\n",
    "    ax.set_title(col, fontsize=fontsize)\n",
    "\n",
    "for ax, row in zip(axes[:,0], rows):\n",
    "    ax.set_ylabel(row, rotation=90, fontsize=fontsize)\n",
    "\n",
    "fig.tight_layout()\n",
    "\n",
    "plt.show()\n"
   ],
   "outputs": [],
   "metadata": {}
  },
  {
   "cell_type": "code",
   "execution_count": null,
   "source": [
    "n_exp = len(exp_list)\n",
    "fig, axes = plt.subplots(n_exp+1,k,figsize = (scale,scale/k * (n_exp+1) * aspect_ratio))\n",
    "vmin = 0\n",
    "vmax = np.max(true_maps)\n",
    "cmap = plt.cm.gist_heat_r\n",
    "for j in range(k):\n",
    "    axes[0,j].imshow(true_maps[j].reshape(*shape_2d), vmin=vmin, vmax=vmax, cmap=cmap)\n",
    "    for i, exp in enumerate(exp_list): \n",
    "        ind = np.arange(k)[orders[i,1,j]]\n",
    "        axes[i+1,j].imshow(As[i][ind].reshape(*shape_2d), vmin=vmin, vmax=vmax, cmap=cmap)\n",
    "        axes[i+1,j].set_title(\"Mse: {:.2f}\".format(metrics[i,1,j]))\n",
    "    \n",
    "cols = ['MAP {}'.format(col) for col in range(k)]\n",
    "rows = [\"Ground truth\"] + ['{}'.format(exp[\"name\"]) for exp in exp_list]\n",
    "\n",
    "for ax, col in zip(axes[0], cols):\n",
    "    ax.set_title(col, fontsize=fontsize)\n",
    "\n",
    "for ax, row in zip(axes[:,0], rows):\n",
    "    ax.set_ylabel(row, rotation=90, fontsize=fontsize)\n",
    "\n",
    "fig.tight_layout()"
   ],
   "outputs": [],
   "metadata": {}
  },
  {
   "cell_type": "markdown",
   "source": [
    "# Nice way to look at the Loss"
   ],
   "metadata": {}
  },
  {
   "cell_type": "code",
   "execution_count": null,
   "source": [
    "indexes = np.array([i for i, l in enumerate(losses) if l is not None])\n",
    "n_plot = len(indexes)\n",
    "\n",
    "\n",
    "\n",
    "fig, axes = plt.subplots(n_plot, 4, figsize=(20, 4*n_plot))\n",
    "\n",
    "for it, i in enumerate(indexes): \n",
    "\n",
    "    # plt.title(exp_list[i][\"name\"])\n",
    "    names = list(losses[i].dtype.names)\n",
    "    for j,name in enumerate(names) :\n",
    "        if re.match(r\".*(loss)\",name) : \n",
    "            axes[it, 0].plot(losses[i][name],marker_list[j%len(marker_list)],markersize=3.5,label = name,markevery = mark_space,linewidth = 2)\n",
    "            axes[it, 0].set_yscale(\"log\")\n",
    "            axes[it,0].legend()\n",
    "            axes[it, 0].set_xlabel(\"number of iterations\")\n",
    "        elif re.match(r\"^(rel)\",name) : \n",
    "            axes[it, 1].plot(losses[i][name],marker_list[j%len(marker_list)],markersize=3.5,label = name,markevery = mark_space,linewidth = 2)\n",
    "            axes[it,1].legend()\n",
    "            axes[it, 1].set_xlabel(\"number of iterations\")\n",
    "        elif re.match(r\"^(ang)\",name) :\n",
    "            axes[it, 2].plot(losses[i][name],marker_list[j%len(marker_list)],markersize=3.5,label = name,markevery = mark_space,linewidth = 2)\n",
    "            axes[it,2].legend()\n",
    "            axes[it, 2].set_xlabel(\"number of iterations\")\n",
    "        elif re.match(r\"^(mse)\",name) :\n",
    "            axes[it, 3].plot(losses[i][name],marker_list[j%len(marker_list)],markersize=3.5,label = name,markevery = mark_space,linewidth = 2)\n",
    "            axes[it,3].legend()\n",
    "            axes[it, 3].set_xlabel(\"number of iterations\")\n",
    "\n",
    "cols = [\"Losses\", \"Evolution of A and P\",\"Angles\",\"MSE\"]\n",
    "rows = ['{}'.format(exp_list[i][\"name\"]) for i in indexes]\n",
    "\n",
    "for ax, col in zip(axes[0], cols):\n",
    "    ax.set_title(col, fontsize=fontsize)\n",
    "\n",
    "for ax, row in zip(axes[:,0], rows):\n",
    "    ax.set_ylabel(row, rotation=90, fontsize=fontsize)\n",
    "\n",
    "fig.tight_layout()"
   ],
   "outputs": [],
   "metadata": {}
  }
 ],
 "metadata": {
  "interpreter": {
   "hash": "508ccdc6fb5be5f7fd5f6d84709a2756aa123300835f386535c0d36e037b0594"
  },
  "kernelspec": {
   "name": "python3",
   "display_name": "Python 3.8.5 64-bit ('SNMF_EDXS--pNpjmq1': pipenv)"
  },
  "language_info": {
   "codemirror_mode": {
    "name": "ipython",
    "version": 3
   },
   "file_extension": ".py",
   "mimetype": "text/x-python",
   "name": "python",
   "nbconvert_exporter": "python",
   "pygments_lexer": "ipython3",
   "version": "3.8.5"
  }
 },
 "nbformat": 4,
 "nbformat_minor": 4
}