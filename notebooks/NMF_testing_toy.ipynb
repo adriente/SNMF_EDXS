{
 "metadata": {
  "language_info": {
   "codemirror_mode": {
    "name": "ipython",
    "version": 3
   },
   "file_extension": ".py",
   "mimetype": "text/x-python",
   "name": "python",
   "nbconvert_exporter": "python",
   "pygments_lexer": "ipython3",
   "version": "3.8.5-final"
  },
  "orig_nbformat": 2,
  "kernelspec": {
   "name": "python3",
   "display_name": "Python 3.8.5 64-bit ('SNMF_EDXS': pipenv)",
   "metadata": {
    "interpreter": {
     "hash": "ae2bec25d04a58403981d6892379486339cbb2cd6f315f3a399785dd0e4b6656"
    }
   }
  }
 },
 "nbformat": 4,
 "nbformat_minor": 2,
 "cells": [
  {
   "cell_type": "code",
   "execution_count": null,
   "metadata": {},
   "outputs": [],
   "source": [
    "import snmfem.conf as conf\n",
    "import json\n",
    "import numpy as np\n",
    "from pathlib import Path\n",
    "import re\n",
    "import snmfem.estimators as estimators\n",
    "import snmfem.measures as measures\n",
    "from sklearn.decomposition import NMF as sk_NMF\n",
    "import warnings\n",
    "import matplotlib.pyplot as plt"
   ]
  },
  {
   "source": [
    "# Inputs"
   ],
   "cell_type": "markdown",
   "metadata": {}
  },
  {
   "cell_type": "code",
   "execution_count": null,
   "metadata": {},
   "outputs": [],
   "source": [
    "data_json = conf.SCRIPT_CONFIG_PATH / Path(\"dataset_EDXS.json\")\n",
    "with open(data_json,\"r\") as f :\n",
    "    data_dict = json.load(f)\n",
    "\n",
    "num_list = [1,2,3]\n",
    "data_folder = conf.DATASETS_PATH / Path(data_dict[\"data_folder\"])\n",
    "samples = [data_folder / Path(\"sample_{}.npz\".format(i)) for i in num_list ]\n"
   ]
  },
  {
   "source": [
    "# Default"
   ],
   "cell_type": "markdown",
   "metadata": {}
  },
  {
   "cell_type": "code",
   "execution_count": null,
   "metadata": {},
   "outputs": [],
   "source": [
    "default_params = {\n",
    "    \"n_components\" : data_dict[\"model_parameters\"][\"params_dict\"][\"k\"],\n",
    "    \"tol\" : 1e-4,\n",
    "    \"max_iter\" : 200,\n",
    "    \"init\" : \"nndsvda\",\n",
    "    \"random_state\" : 1,\n",
    "    \"verbose\" : True\n",
    "}"
   ]
  },
  {
   "source": [
    "# NMF function"
   ],
   "cell_type": "markdown",
   "metadata": {}
  },
  {
   "cell_type": "code",
   "execution_count": null,
   "metadata": {},
   "outputs": [],
   "source": [
    "def run_snmfem_NMF(Xflat,true_spectra, true_maps,G, dict,skip_G = False,force_simplex = True, mu =0, epsilon_reg = 1.0, get_ind = False) : \n",
    "    # Load estimator\n",
    "    Estimator = getattr(estimators, \"NMF\") \n",
    "\n",
    "    estimator = Estimator(**dict,force_simplex=force_simplex,mu=mu,epsilon_reg=epsilon_reg)\n",
    "    if skip_G : \n",
    "        estimator.fit(Xflat)\n",
    "    else : \n",
    "        estimator.fit(Xflat,G=G)\n",
    "\n",
    "    G = estimator.G_\n",
    "    P = estimator.P_\n",
    "    A = estimator.A_\n",
    "    angle = measures.find_min_angle(true_spectra,(G@P).T, get_ind)\n",
    "    mse = measures.find_min_MSE(true_maps,A, get_ind)\n",
    "    return angle, mse, (G@P), A\n",
    "\n",
    "def run_scikit_NMF(Xflat,true_spectra, true_maps, G,dict,loss = \"frobenius\",alpha = 0.0, l1_ratio = 1.0, regularization = \"components\", get_ind = False) :\n",
    "    G = None\n",
    "    estimator = sk_NMF(**dict,beta_loss=loss, alpha = alpha, l1_ratio = l1_ratio, regularization = regularization,solver=\"mu\")\n",
    "\n",
    "    W = estimator.fit_transform(Xflat)\n",
    "    H = estimator.components_\n",
    "    W, H = rescaled_DA(W,H)\n",
    "    angle = measures.find_min_angle(true_spectra,W.T, get_ind)\n",
    "    mse = measures.find_min_MSE(true_maps,H, get_ind)\n",
    "    return angle, mse, W, H\n",
    "\n",
    "def load_data(sample) : \n",
    "    data = np.load(sample)\n",
    "    X = data[\"X\"]\n",
    "    nx, ny, ns = X.shape\n",
    "    Xflat = X.transpose([2,0,1]).reshape(ns, nx*ny)\n",
    "    densities = data[\"densities\"]\n",
    "    phases = data[\"phases\"]\n",
    "    true_spectra_flat = np.expand_dims(densities, axis=1) * phases * data[\"N\"]\n",
    "    true_maps = data[\"weights\"]\n",
    "    k = true_maps.shape[2]\n",
    "    true_maps_flat = true_maps.transpose([2,0,1]).reshape(k,nx*ny)\n",
    "    G = data[\"G\"]\n",
    "    return Xflat, true_spectra_flat, true_maps_flat, G\n",
    "\n",
    "def rescaled_DA(D,A) : \n",
    "    k, p = A.shape\n",
    "    o = np.ones((p,))\n",
    "    s = np.linalg.lstsq(A.T, o)[0]\n",
    "    D_rescale = D@np.diag(1/s)\n",
    "    A_rescale = np.diag(s)@A\n",
    "    return D_rescale, A_rescale\n"
   ]
  },
  {
   "source": [
    "# Running NMF"
   ],
   "cell_type": "markdown",
   "metadata": {}
  },
  {
   "cell_type": "code",
   "execution_count": null,
   "metadata": {
    "tags": []
   },
   "outputs": [],
   "source": [
    "warnings.simplefilter(action='ignore', category=FutureWarning)\n",
    "\n",
    "force_simplex = False\n",
    "skip_G = False\n",
    "alpha = 1.0\n",
    "result_angles = np.zeros((4,data_dict[\"model_parameters\"][\"params_dict\"][\"k\"]))\n",
    "result_mse = np.zeros((4,data_dict[\"model_parameters\"][\"params_dict\"][\"k\"]))\n",
    "for s in samples : \n",
    "    Xflat, true_spectra, true_maps, G = load_data(s)\n",
    "    snmfem = run_snmfem_NMF(Xflat, true_spectra, true_maps, G,default_params,force_simplex=force_simplex,skip_G = skip_G)\n",
    "    scikit_KL = run_scikit_NMF(Xflat, true_spectra, true_maps, G,default_params,loss= \"kullback-leibler\")\n",
    "    scikit_Fro = run_scikit_NMF(Xflat, true_spectra, true_maps, G,default_params, loss = \"frobenius\")\n",
    "    scikit_alpha = run_scikit_NMF(Xflat, true_spectra, true_maps, G,default_params,loss=\"kullback-leibler\",alpha = alpha)\n",
    "    result_angles[0,:] += np.array(snmfem[0])\n",
    "    result_angles[1,:] += np.array(scikit_KL[0])\n",
    "    result_angles[2,:] += np.array(scikit_Fro[0])\n",
    "    result_angles[3,:] += np.array(scikit_alpha[0])\n",
    "    result_mse[0,:] += np.array(snmfem[1])\n",
    "    result_mse[1,:] += np.array(scikit_KL[1])\n",
    "    result_mse[2,:] += np.array(scikit_Fro[1])\n",
    "    result_mse[3,:] += np.array(scikit_alpha[1])\n",
    "\n",
    "result_angles /= len(samples)\n",
    "result_mse /= len(samples)\n"
   ]
  },
  {
   "source": [
    "## Printing statistics"
   ],
   "cell_type": "markdown",
   "metadata": {}
  },
  {
   "cell_type": "code",
   "execution_count": null,
   "metadata": {},
   "outputs": [],
   "source": [
    "print(\"average angles of {} samples with params [force simplex : {}, skip_G : {}, alpha : {}]\".format(len(samples),force_simplex,skip_G,alpha),flush=True)\n",
    "print(\"snmfem             : \",result_angles[0,:])\n",
    "print(\"scikit KL          : \",result_angles[1,:])\n",
    "print(\"scikit frobenius   : \",result_angles[2,:])\n",
    "print(\"scikit KL alpha*l1 : \",result_angles[3,:])\n"
   ]
  },
  {
   "cell_type": "code",
   "execution_count": null,
   "metadata": {},
   "outputs": [],
   "source": [
    "print(\"average MSE of {} samples with params [force simplex : {}, skip_G : {}, alpha : {}]\".format(len(samples),force_simplex,skip_G,alpha),flush=True)\n",
    "print(\"snmfem             : \",result_mse[0,:])\n",
    "print(\"scikit KL          : \",result_mse[1,:])\n",
    "print(\"scikit frobenius   : \",result_mse[2,:])\n",
    "print(\"scikit KL alpha*l1 : \",result_mse[3,:])"
   ]
  },
  {
   "source": [
    "# Plotting results"
   ],
   "cell_type": "markdown",
   "metadata": {}
  },
  {
   "source": [
    "# NMF for one sample"
   ],
   "cell_type": "markdown",
   "metadata": {}
  },
  {
   "cell_type": "code",
   "execution_count": null,
   "metadata": {},
   "outputs": [],
   "source": [
    "warnings.simplefilter(action='ignore', category=FutureWarning)\n",
    "\n",
    "force_simplex = True\n",
    "skip_G = False\n",
    "alpha = 1.0\n",
    "index = 2\n",
    "nx,ny = data_dict[\"weights_parameters\"][\"shape_2D\"]\n",
    "k = default_params[\"n_components\"]\n",
    "Xflat, true_spectra, true_maps, G = load_data(samples[index])\n",
    "snmfem = run_snmfem_NMF(Xflat, true_spectra, true_maps, G,default_params,force_simplex=force_simplex,skip_G = skip_G,get_ind=True)\n",
    "scikit_KL = run_scikit_NMF(Xflat, true_spectra, true_maps, G,default_params,loss= \"kullback-leibler\",get_ind = True)\n",
    "scikit_Fro = run_scikit_NMF(Xflat, true_spectra, true_maps, G,default_params, loss = \"frobenius\", get_ind = True)\n",
    "scikit_alpha = run_scikit_NMF(Xflat, true_spectra, true_maps, G,default_params,loss=\"kullback-leibler\",alpha = alpha,get_ind= True)"
   ]
  },
  {
   "source": [
    "## Spectra visualisation"
   ],
   "cell_type": "markdown",
   "metadata": {}
  },
  {
   "cell_type": "code",
   "execution_count": null,
   "metadata": {},
   "outputs": [],
   "source": [
    "true_ind = 0\n",
    "plt.rcParams.update({'font.size': 22})\n",
    "fig1 = plt.figure(figsize=(50, 12))\n",
    "plt.subplot(141)\n",
    "plt.title(\"SNMFEM\")\n",
    "plt.plot(true_spectra[true_ind],'bo',label='truth',linewidth=4)\n",
    "plt.plot( snmfem[2][:,snmfem[0][true_ind]],'r-',label='reconstructed',markersize=3.5)\n",
    "# plt.legend(loc='best')\n",
    "plt.xlabel(\"Energy\")\n",
    "plt.ylabel(\"Intensity\")\n",
    "\n",
    "plt.subplot(142)\n",
    "plt.title(\"Scikit_KL\")\n",
    "plt.plot(true_spectra[true_ind],'bo',label='truth',linewidth=4)\n",
    "plt.plot( scikit_KL[2][:,scikit_KL[0][true_ind]],'r-',label='reconstructed',markersize=3.5)\n",
    "# plt.legend(loc='best')\n",
    "plt.xlabel(\"Energy\")\n",
    "# plt.ylabel(\"Intensity\")\n",
    "\n",
    "plt.subplot(143)\n",
    "plt.title(\"Scikit_Fro\")\n",
    "plt.plot(true_spectra[true_ind],'bo',label='truth',linewidth=4)\n",
    "plt.plot( scikit_Fro[2][:,scikit_Fro[0][true_ind]],'r-',label='reconstructed',markersize=3.5)\n",
    "plt.legend(loc='best')\n",
    "plt.xlabel(\"Energy\")\n",
    "# plt.ylabel(\"Intensity\")\n",
    "\n",
    "plt.subplot(144)\n",
    "plt.title(\"Scikit_alpha\")\n",
    "plt.plot(true_spectra[true_ind],'bo',label='truth',linewidth=4)\n",
    "plt.plot( scikit_alpha[2][:,scikit_alpha[0][true_ind]],'r-',label='reconstructed',markersize=3.5)\n",
    "# plt.legend(loc='best')\n",
    "plt.xlabel(\"Energy\")\n",
    "# plt.ylabel(\"Intensity\")\n",
    "\n",
    "\n",
    "fig1.tight_layout()"
   ]
  },
  {
   "source": [
    "## Maps visualisation"
   ],
   "cell_type": "markdown",
   "metadata": {}
  },
  {
   "cell_type": "code",
   "execution_count": null,
   "metadata": {},
   "outputs": [],
   "source": [
    "true_ind = 0\n",
    "plt.rcParams.update({'font.size': 22})\n",
    "fig1 = plt.figure(figsize=(50, 12))\n",
    "plt.subplot(151)\n",
    "\n",
    "plt.imshow(snmfem[3][snmfem[0][true_ind]].reshape(nx,ny), cmap=\"viridis\")\n",
    "plt.grid(b=30)\n",
    "plt.title(\"SNMFEM\")\n",
    "plt.colorbar()\n",
    "\n",
    "plt.subplot(152)\n",
    "\n",
    "plt.imshow(scikit_KL[3][scikit_KL[0][true_ind]].reshape(nx,ny), cmap=\"viridis\")\n",
    "plt.grid(b=30)\n",
    "plt.title(\"Scikit_KL\")\n",
    "plt.colorbar()\n",
    "\n",
    "plt.subplot(153)\n",
    "\n",
    "plt.imshow(scikit_Fro[3][scikit_Fro[0][true_ind]].reshape(nx,ny), cmap=\"viridis\")\n",
    "plt.grid(b=30)\n",
    "plt.title(\"Scikit_Fro\")\n",
    "plt.colorbar()\n",
    "\n",
    "plt.subplot(154)\n",
    "\n",
    "plt.imshow(scikit_alpha[3][scikit_alpha[0][true_ind]].reshape(nx,ny), cmap=\"viridis\")\n",
    "plt.grid(b=30)\n",
    "plt.title(\"Scikit_alpha\")\n",
    "plt.colorbar()\n",
    "#plt.clim(0, 1)\n",
    "\n",
    "plt.subplot(155)\n",
    "\n",
    "plt.imshow(true_maps[true_ind].reshape(nx,ny), cmap=\"viridis\")\n",
    "plt.grid(b=30)\n",
    "plt.title(\"Truth\")\n",
    "plt.colorbar()"
   ]
  },
  {
   "cell_type": "code",
   "execution_count": null,
   "metadata": {},
   "outputs": [],
   "source": [
    "true_maps.shape"
   ]
  },
  {
   "cell_type": "code",
   "execution_count": null,
   "metadata": {},
   "outputs": [],
   "source": []
  }
 ]
}