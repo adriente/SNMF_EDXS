{
 "metadata": {
  "language_info": {
   "codemirror_mode": {
    "name": "ipython",
    "version": 3
   },
   "file_extension": ".py",
   "mimetype": "text/x-python",
   "name": "python",
   "nbconvert_exporter": "python",
   "pygments_lexer": "ipython3",
   "version": "3.8.5-final"
  },
  "orig_nbformat": 2,
  "kernelspec": {
   "name": "python3",
   "display_name": "Python 3.8.5 64-bit ('SNMF_EDXS': pipenv)",
   "metadata": {
    "interpreter": {
     "hash": "ae2bec25d04a58403981d6892379486339cbb2cd6f315f3a399785dd0e4b6656"
    }
   }
  }
 },
 "nbformat": 4,
 "nbformat_minor": 2,
 "cells": [
  {
   "cell_type": "code",
   "execution_count": null,
   "metadata": {},
   "outputs": [],
   "source": [
    "%load_ext autoreload\n",
    "%autoreload 2"
   ]
  },
  {
   "cell_type": "code",
   "execution_count": null,
   "metadata": {},
   "outputs": [],
   "source": [
    "import snmfem.conf as conf\n",
    "import json\n",
    "import numpy as np\n",
    "from pathlib import Path\n",
    "import re\n",
    "import snmfem.estimators as estimators\n",
    "import snmfem.measures as measures\n",
    "from sklearn.decomposition import NMF as sk_NMF\n",
    "import warnings\n",
    "import matplotlib.pyplot as plt"
   ]
  },
  {
   "source": [
    "# NMF function"
   ],
   "cell_type": "markdown",
   "metadata": {}
  },
  {
   "cell_type": "code",
   "execution_count": null,
   "metadata": {},
   "outputs": [],
   "source": [
    "def run_snmfem_NMF(Xflat,true_spectra, true_maps,G, dict,skip_G = False,force_simplex = True, mu =0, epsilon_reg = 1.0, get_ind = False, u = False,**kwargs) : \n",
    "    # Load estimator\n",
    "    Estimator = getattr(estimators, \"NMF\") \n",
    "\n",
    "    estimator = Estimator(**dict,force_simplex=force_simplex,mu=mu,epsilon_reg=epsilon_reg)\n",
    "    if skip_G : \n",
    "        estimator.fit(Xflat)\n",
    "    else : \n",
    "        estimator.fit(Xflat,G=G)\n",
    "\n",
    "    G = estimator.G_\n",
    "    P = estimator.P_\n",
    "    A = estimator.A_\n",
    "    angle = measures.find_min_angle(true_spectra,(G@P).T, get_ind, unique=u)\n",
    "    mse = measures.find_min_MSE(true_maps,A, get_ind, unique=u)\n",
    "    return angle, mse, (G@P), A\n",
    "\n",
    "def run_snmfem_SmoothNMF(Xflat,true_spectra, true_maps,G, dict, shape_2D,skip_G = False,force_simplex = True, mu =0, epsilon_reg = 1.0, get_ind = False,lambda_L=0.0, u = False,**kwargs) : \n",
    "    # Load estimator\n",
    "    Estimator = getattr(estimators, \"SmoothNMF\") \n",
    "\n",
    "    estimator = Estimator(**dict,shape_2d=shape_2D,lambda_L=lambda_L,force_simplex=force_simplex,mu=mu,epsilon_reg=epsilon_reg)\n",
    "    if skip_G : \n",
    "        estimator.fit(Xflat)\n",
    "    else : \n",
    "        estimator.fit(Xflat,G=G)\n",
    "\n",
    "    G = estimator.G_\n",
    "    P = estimator.P_\n",
    "    A = estimator.A_\n",
    "    angle = measures.find_min_angle(true_spectra,(G@P).T, get_ind, unique = u)\n",
    "    mse = measures.find_min_MSE(true_maps,A, get_ind, unique=u)\n",
    "    return angle, mse, (G@P), A\n",
    "\n",
    "def run_scikit_NMF(Xflat,true_spectra, true_maps, G,dict,loss = \"frobenius\",alpha = 0.0, l1_ratio = 1.0, regularization = \"components\", get_ind = False, u = False,**kwargs) :\n",
    "    G = None\n",
    "    estimator = sk_NMF(**dict,beta_loss=loss, alpha = alpha, l1_ratio = l1_ratio, regularization = regularization,solver=\"mu\")\n",
    "\n",
    "    W = estimator.fit_transform(Xflat)\n",
    "    H = estimator.components_\n",
    "    W, H = rescaled_DA(W,H)\n",
    "    angle = measures.find_min_angle(true_spectra,W.T, get_ind, unique = u)\n",
    "    mse = measures.find_min_MSE(true_maps,H, get_ind, unique=u)\n",
    "    return angle, mse, W, H\n",
    "\n",
    "def load_data(sample) : \n",
    "    data = np.load(sample)\n",
    "    X = data[\"X\"]\n",
    "    nx, ny, ns = X.shape\n",
    "    Xflat = X.transpose([2,0,1]).reshape(ns, nx*ny)\n",
    "    densities = data[\"densities\"]\n",
    "    phases = data[\"phases\"]\n",
    "    true_spectra_flat = np.expand_dims(densities, axis=1) * phases * data[\"N\"]\n",
    "    true_maps = data[\"weights\"]\n",
    "    k = true_maps.shape[2]\n",
    "    true_maps_flat = true_maps.transpose([2,0,1]).reshape(k,nx*ny)\n",
    "    G = data[\"G\"]\n",
    "    return Xflat, true_spectra_flat, true_maps_flat, G\n",
    "\n",
    "def rescaled_DA(D,A) : \n",
    "    k, p = A.shape\n",
    "    o = np.ones((p,))\n",
    "    s = np.linalg.lstsq(A.T, o)[0]\n",
    "    D_rescale = D@np.diag(1/s)\n",
    "    A_rescale = np.diag(s)@A\n",
    "    return D_rescale, A_rescale"
   ]
  },
  {
   "source": [
    "# Running NMF"
   ],
   "cell_type": "markdown",
   "metadata": {}
  },
  {
   "source": [
    "## Inputs"
   ],
   "cell_type": "markdown",
   "metadata": {}
  },
  {
   "cell_type": "code",
   "execution_count": null,
   "metadata": {},
   "outputs": [],
   "source": [
    "data_json = conf.SCRIPT_CONFIG_PATH / Path(\"dataset_EDXS_small.json\")\n",
    "with open(data_json,\"r\") as f :\n",
    "    data_dict = json.load(f)\n",
    "\n",
    "num_list = [1,2,3]\n",
    "data_folder = conf.DATASETS_PATH / Path(data_dict[\"data_folder\"])\n",
    "samples = [data_folder / Path(\"sample_{}.npz\".format(i)) for i in num_list ]\n"
   ]
  },
  {
   "cell_type": "code",
   "execution_count": null,
   "metadata": {},
   "outputs": [],
   "source": [
    "default_params = {\n",
    "    \"n_components\" : data_dict[\"model_parameters\"][\"params_dict\"][\"k\"],\n",
    "    \"tol\" : 1e-4,\n",
    "    \"max_iter\" : 10000,\n",
    "    \"init\" : \"nndsvda\",\n",
    "    \"random_state\" : 1,\n",
    "    \"verbose\" : 0\n",
    "}\n",
    "params_dict = {\n",
    "    \"force_simplex\" : True,\n",
    "    \"skip_G\" : False,\n",
    "    \"lambda_L\" : 10.0,\n",
    "    \"u\" : True,\n",
    "    \"shape_2D\" : data_dict[\"weights_parameters\"][\"shape_2D\"]\n",
    "}\n",
    "Func_map = {\n",
    "    \"snmfem\" : (run_snmfem_NMF,None),\n",
    "    \"smooth_snmfem 1\" : (run_snmfem_SmoothNMF,{\"lambda_L\" : 1.0}), \n",
    "    \"smooth_snmfem 10\" : (run_snmfem_SmoothNMF,{\"lambda_L\" : 10.0}), \n",
    "    \"scikit_KL\" : (run_scikit_NMF,{\"loss\" : \"kullback-leibler\"})\n",
    "    }"
   ]
  },
  {
   "cell_type": "code",
   "execution_count": null,
   "metadata": {
    "tags": []
   },
   "outputs": [],
   "source": [
    "warnings.simplefilter(action='ignore', category=FutureWarning)\n",
    "sentences = []\n",
    "titles = []\n",
    "chosen_one = 0\n",
    "k = data_dict[\"model_parameters\"][\"params_dict\"][\"k\"]\n",
    "fig, axes = plt.subplots(len(Func_map.keys()),k,figsize = (100,100))\n",
    "\n",
    "for j,s in enumerate(samples) : \n",
    "    Xflat, true_spectra, true_maps, G = load_data(s)\n",
    "    result_angles = np.zeros((len(Func_map.keys()),k))\n",
    "    result_mse = np.zeros((len(Func_map.keys()),k))\n",
    "    \n",
    "    if j == chosen_one : \n",
    "        for i, key in enumerate(Func_map.keys()) : \n",
    "            params_dict.update({\"get_ind\" : True,\"u\" : False})\n",
    "            if not(Func_map[key][1] is None) :           \n",
    "                params_dict.update(Func_map[key][1])\n",
    "                titles.append(\"{} with {}\".format(key,Func_map[key][1]).ljust(50))\n",
    "            else : \n",
    "                titles.append(\"{}\".format(key).ljust(50))\n",
    "            estim = Func_map[key][0](Xflat,true_spectra,true_maps,G,default_params,**params_dict) \n",
    "            for p in range(k) : \n",
    "                axes[i,p].plot(true_spectra[p],'bo',label='truth',linewidth=4)\n",
    "                axes[i,p].plot(estim[2][:,estim[0][p]],'r-',label='reconstructed',markersize=3.5)\n",
    "            axes[i,0].set_title(key,fontsize = 22)\n",
    "            axes[i,0].legend(fonsize = 22)\n",
    "    else : \n",
    "        for i, key in enumerate(Func_map.keys()) : \n",
    "            if not(Func_map[key][1] is None) :           \n",
    "                params_dict.update(Func_map[key][1])\n",
    "                sentences.append(\"{} with {}\".format(key,Func_map[key][1]).ljust(50))\n",
    "            else : \n",
    "                sentences.append(\"{}\".format(key).ljust(50))\n",
    "            estim = Func_map[key][0](Xflat,true_spectra,true_maps,G,default_params,**params_dict) \n",
    "            result_angles[i,:] += np.array(estim[0])\n",
    "            result_mse[i,:] += np.array(estim[1])\n",
    "\n",
    "result_angles /= len(samples)\n",
    "result_mse /= len(samples)\n"
   ]
  },
  {
   "source": [
    "## Printing statistics"
   ],
   "cell_type": "markdown",
   "metadata": {}
  },
  {
   "cell_type": "code",
   "execution_count": null,
   "metadata": {},
   "outputs": [],
   "source": [
    "print(\"AVERAGE ANGLES\")\n",
    "print(50*\"-\")\n",
    "for i, line in enumerate(result_angles) : \n",
    "    print(\"{} : {}\".format(sentences[i],line))\n",
    "\n",
    "print(150*\"=\")\n",
    "print(\"AVERAGE MSE\")\n",
    "print(50*\"-\")\n",
    "for i, line in enumerate(result_mse) : \n",
    "    print(\"{} : {}\".format(sentences[i],line))\n"
   ]
  },
  {
   "source": [
    "# Plotting results"
   ],
   "cell_type": "markdown",
   "metadata": {}
  },
  {
   "source": [
    "# NMF for one sample"
   ],
   "cell_type": "markdown",
   "metadata": {}
  },
  {
   "cell_type": "code",
   "execution_count": null,
   "metadata": {},
   "outputs": [],
   "source": [
    "warnings.simplefilter(action='ignore', category=FutureWarning)\n",
    "\n",
    "force_simplex = True\n",
    "skip_G = False\n",
    "alpha = 1.0\n",
    "index = 2\n",
    "lambda_L = 10.0\n",
    "nx,ny = data_dict[\"weights_parameters\"][\"shape_2D\"]\n",
    "shape_2D = nx,ny\n",
    "k = default_params[\"n_components\"]\n",
    "Xflat, true_spectra, true_maps, G = load_data(samples[index])\n",
    "snmfem = run_snmfem_NMF(Xflat, true_spectra, true_maps, G,default_params,force_simplex=force_simplex,skip_G = skip_G,get_ind=True)\n",
    "smooth_snmfem = run_snmfem_SmoothNMF(Xflat, true_spectra, true_maps, G,default_params,force_simplex=force_simplex,skip_G = skip_G,get_ind=True,lambda_L=lambda_L,shape_2D = shape_2D)\n",
    "scikit_KL = run_scikit_NMF(Xflat, true_spectra, true_maps, G,default_params,loss= \"kullback-leibler\",get_ind = True)\n",
    "scikit_Fro = run_scikit_NMF(Xflat, true_spectra, true_maps, G,default_params, loss = \"frobenius\", get_ind = True)\n",
    "scikit_alpha = run_scikit_NMF(Xflat, true_spectra, true_maps, G,default_params,loss=\"kullback-leibler\",alpha = alpha,get_ind= True)"
   ]
  },
  {
   "cell_type": "code",
   "execution_count": null,
   "metadata": {},
   "outputs": [],
   "source": []
  },
  {
   "source": [
    "## Spectra visualisation"
   ],
   "cell_type": "markdown",
   "metadata": {}
  },
  {
   "cell_type": "code",
   "execution_count": null,
   "metadata": {},
   "outputs": [],
   "source": [
    "for true_ind in range(5) : \n",
    "    plt.rcParams.update({'font.size': 22})\n",
    "    plt.figure(figsize=(50, 12))\n",
    "    plt.subplot(151)\n",
    "    plt.title(\"SNMFEM\")\n",
    "    plt.plot(true_spectra[true_ind],'bo',label='truth',linewidth=4)\n",
    "    plt.plot( snmfem[2][:,snmfem[0][true_ind]],'r-',label='reconstructed',markersize=3.5)\n",
    "    # plt.legend(loc='best')\n",
    "    plt.xlabel(\"Energy\")\n",
    "    plt.ylabel(\"Intensity\")\n",
    "\n",
    "    plt.subplot(152)\n",
    "    plt.title(\"Scikit_KL\")\n",
    "    plt.plot(true_spectra[true_ind],'bo',label='truth',linewidth=4)\n",
    "    plt.plot( scikit_KL[2][:,scikit_KL[0][true_ind]],'r-',label='reconstructed',markersize=3.5)\n",
    "    # plt.legend(loc='best')\n",
    "    plt.xlabel(\"Energy\")\n",
    "    # plt.ylabel(\"Intensity\")\n",
    "\n",
    "    plt.subplot(153)\n",
    "    plt.title(\"SNMFEM SMOOTH\")\n",
    "    plt.plot(true_spectra[true_ind],'bo',label='truth',linewidth=4)\n",
    "    plt.plot( smooth_snmfem[2][:,smooth_snmfem[0][true_ind]],'r-',label='reconstructed',markersize=3.5)\n",
    "    # plt.legend(loc='best')\n",
    "    plt.xlabel(\"Energy\")\n",
    "    # plt.ylabel(\"Intensity\")\n",
    "\n",
    "    plt.subplot(154)\n",
    "    plt.title(\"Scikit_Fro\")\n",
    "    plt.plot(true_spectra[true_ind],'bo',label='truth',linewidth=4)\n",
    "    plt.plot( scikit_Fro[2][:,scikit_Fro[0][true_ind]],'r-',label='reconstructed',markersize=3.5)\n",
    "    plt.legend(loc='best')\n",
    "    plt.xlabel(\"Energy\")\n",
    "    # plt.ylabel(\"Intensity\")\n",
    "\n",
    "    plt.subplot(155)\n",
    "    plt.title(\"Scikit_alpha\")\n",
    "    plt.plot(true_spectra[true_ind],'bo',label='truth',linewidth=4)\n",
    "    plt.plot( scikit_alpha[2][:,scikit_alpha[0][true_ind]],'r-',label='reconstructed',markersize=3.5)\n",
    "    # plt.legend(loc='best')\n",
    "    plt.xlabel(\"Energy\")\n",
    "    # plt.ylabel(\"Intensity\")\n",
    "\n",
    "\n",
    "    # fig1.tight_layout()"
   ]
  },
  {
   "source": [
    "## Maps visualisation"
   ],
   "cell_type": "markdown",
   "metadata": {}
  },
  {
   "cell_type": "code",
   "execution_count": null,
   "metadata": {},
   "outputs": [],
   "source": [
    "for true_ind in range(5) :\n",
    "    plt.rcParams.update({'font.size': 22})\n",
    "    fig1 = plt.figure(figsize=(50, 12))\n",
    "    plt.subplot(161)\n",
    "\n",
    "    plt.imshow(snmfem[3][snmfem[0][true_ind]].reshape(nx,ny), cmap=\"viridis\")\n",
    "    plt.grid(b=30)\n",
    "    plt.title(\"SNMFEM\")\n",
    "    plt.colorbar()\n",
    "\n",
    "    plt.subplot(162)\n",
    "\n",
    "    plt.imshow(scikit_KL[3][scikit_KL[0][true_ind]].reshape(nx,ny), cmap=\"viridis\")\n",
    "    plt.grid(b=30)\n",
    "    plt.title(\"Scikit_KL\")\n",
    "    plt.colorbar()\n",
    "\n",
    "    plt.subplot(163)\n",
    "\n",
    "    plt.imshow(smooth_snmfem[3][smooth_snmfem[0][true_ind]].reshape(nx,ny), cmap=\"viridis\")\n",
    "    plt.grid(b=30)\n",
    "    plt.title(\"SMOOTH SNMFEM\")\n",
    "    plt.colorbar()\n",
    "\n",
    "    plt.subplot(164)\n",
    "\n",
    "    plt.imshow(scikit_Fro[3][scikit_Fro[0][true_ind]].reshape(nx,ny), cmap=\"viridis\")\n",
    "    plt.grid(b=30)\n",
    "    plt.title(\"Scikit_Fro\")\n",
    "    plt.colorbar()\n",
    "\n",
    "    plt.subplot(165)\n",
    "\n",
    "    plt.imshow(scikit_alpha[3][scikit_alpha[0][true_ind]].reshape(nx,ny), cmap=\"viridis\")\n",
    "    plt.grid(b=30)\n",
    "    plt.title(\"Scikit_alpha\")\n",
    "    plt.colorbar()\n",
    "    #plt.clim(0, 1)\n",
    "\n",
    "    plt.subplot(166)\n",
    "\n",
    "    plt.imshow(true_maps[true_ind].reshape(nx,ny), cmap=\"viridis\")\n",
    "    plt.grid(b=30)\n",
    "    plt.title(\"Truth\")\n",
    "    plt.colorbar()"
   ]
  },
  {
   "cell_type": "code",
   "execution_count": null,
   "metadata": {},
   "outputs": [],
   "source": [
    "true_maps.shape"
   ]
  },
  {
   "cell_type": "code",
   "execution_count": null,
   "metadata": {},
   "outputs": [],
   "source": []
  }
 ]
}