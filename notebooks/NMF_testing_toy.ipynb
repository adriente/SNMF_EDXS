{
 "metadata": {
  "language_info": {
   "codemirror_mode": {
    "name": "ipython",
    "version": 3
   },
   "file_extension": ".py",
   "mimetype": "text/x-python",
   "name": "python",
   "nbconvert_exporter": "python",
   "pygments_lexer": "ipython3",
   "version": "3.8.5-final"
  },
  "orig_nbformat": 2,
  "kernelspec": {
   "name": "python3",
   "display_name": "Python 3",
   "language": "python"
  }
 },
 "nbformat": 4,
 "nbformat_minor": 2,
 "cells": [
  {
   "cell_type": "code",
   "execution_count": null,
   "metadata": {},
   "outputs": [],
   "source": [
    "%load_ext autoreload\n",
    "%autoreload 2\n",
    "%matplotlib inline\n"
   ]
  },
  {
   "cell_type": "code",
   "execution_count": null,
   "metadata": {},
   "outputs": [],
   "source": [
    "import numpy as np\n",
    "import matplotlib.pyplot as plt\n",
    "from snmfem.experiments import perform_simulations, load_samples, print_results, load_data, run_experiment\n",
    "import re\n",
    "\n",
    "\n"
   ]
  },
  {
   "cell_type": "code",
   "execution_count": null,
   "metadata": {},
   "outputs": [],
   "source": [
    "import warnings\n",
    "warnings.simplefilter(action='ignore', category=FutureWarning)\n"
   ]
  },
  {
   "source": [
    "# Running NMF"
   ],
   "cell_type": "markdown",
   "metadata": {}
  },
  {
   "source": [
    "## Inputs"
   ],
   "cell_type": "markdown",
   "metadata": {}
  },
  {
   "cell_type": "code",
   "execution_count": null,
   "metadata": {},
   "outputs": [],
   "source": [
    "dataset = \"dataset_EDXS_small.json\"\n",
    "samples, k, shape_2d = load_samples(dataset)\n",
    "n_samples = 3\n",
    "samples = samples[:n_samples]\n",
    "\n"
   ]
  },
  {
   "cell_type": "code",
   "execution_count": null,
   "metadata": {},
   "outputs": [],
   "source": [
    "default_params = {\n",
    "    \"n_components\" : k,\n",
    "    \"tol\" : 1e-5,\n",
    "    \"max_iter\" : 1000,\n",
    "    \"init\" : \"nndsvda\",\n",
    "    \"random_state\" : 1,\n",
    "    \"verbose\" : 0\n",
    "    }\n",
    "\n",
    "params_snmf = {\n",
    "    \"force_simplex\" : True,\n",
    "    \"skip_G\" : False,\n",
    "}\n",
    "\n",
    "params_evalution = {\n",
    "    \"u\" : True,\n",
    "}\n",
    "\n",
    "# All parameters are contained here\n",
    "exp_list = [ \n",
    "    {\"name\": \"snmfem\", \"method\": \"NMF\", \"params\": {**default_params, **params_snmf}},\n",
    "    {\"name\": \"snmfem smooth 1\", \"method\": \"SmoothNMF\", \"params\": {**default_params, **params_snmf, \"lambda_L\" : 1.0, \"shape_2d\" : shape_2d}},\n",
    "    {\"name\": \"snmfem smooth 10\", \"method\": \"SmoothNMF\", \"params\": {**default_params, **params_snmf, \"lambda_L\" : 10.0, \"shape_2d\" : shape_2d}},\n",
    "    {\"name\": \"snmfem smooth 100\", \"method\": \"SmoothNMF\", \"params\": {**default_params, **params_snmf, \"lambda_L\" : 100.0, \"shape_2d\" : shape_2d}},\n",
    "    {\"name\": \"scikit KL\", \"method\": \"SKNMF\", \"params\": {**default_params, \"beta_loss\" : \"kullback-leibler\", \"solver\":\"mu\"}},\n",
    "    {\"name\": \"scikit L2\", \"method\": \"SKNMF\", \"params\": {**default_params, }},\n",
    "]"
   ]
  },
  {
   "cell_type": "code",
   "execution_count": null,
   "metadata": {},
   "outputs": [],
   "source": [
    "metrics = perform_simulations(samples, exp_list, params_evalution)"
   ]
  },
  {
   "cell_type": "code",
   "execution_count": null,
   "metadata": {},
   "outputs": [],
   "source": [
    "metrics.shape"
   ]
  },
  {
   "cell_type": "code",
   "execution_count": null,
   "metadata": {
    "tags": []
   },
   "outputs": [],
   "source": [
    "\n",
    "print_results(exp_list, metrics)"
   ]
  },
  {
   "source": [
    "# Run a single experiment and plotting results"
   ],
   "cell_type": "markdown",
   "metadata": {}
  },
  {
   "cell_type": "code",
   "execution_count": null,
   "metadata": {},
   "outputs": [],
   "source": [
    "sample_num = 0\n",
    "\n",
    "s = samples[sample_num]\n",
    "Xflat, true_spectra, true_maps, G = load_data(s)\n",
    "\n",
    "GPs = []\n",
    "metrics = []\n",
    "As = []\n",
    "\n",
    "for exp in exp_list : \n",
    "    metric, (GP, A), _  = run_experiment(Xflat, true_spectra, true_maps, G, exp, params_evalution)\n",
    "    GPs.append(GP)\n",
    "    As.append(A)\n",
    "    metrics.append(metric)\n",
    "metrics = np.array(metrics)"
   ]
  },
  {
   "cell_type": "code",
   "execution_count": null,
   "metadata": {},
   "outputs": [],
   "source": [
    "metrics.shape"
   ]
  },
  {
   "cell_type": "code",
   "execution_count": null,
   "metadata": {},
   "outputs": [],
   "source": [
    "# Ploting parameters\n",
    "fontsize = 15\n",
    "aspect_ratio = 3/4\n",
    "scale = 20\n",
    "\n"
   ]
  },
  {
   "cell_type": "code",
   "execution_count": null,
   "metadata": {},
   "outputs": [],
   "source": [
    "n_exp = len(exp_list)\n",
    "fig, axes = plt.subplots(n_exp,k,figsize = (scale,scale/k * n_exp * aspect_ratio))\n",
    "for i, exp in enumerate(exp_list): \n",
    "    for j in range(k):\n",
    "        axes[i,j].plot(true_spectra[j],'bo',label='truth',linewidth=4)\n",
    "        axes[i,j].plot(GPs[i][:,j] ,'r-',label='reconstructed',markersize=3.5)\n",
    "        axes[i,j].set_title(\"{:.2f} deg\".format(metrics[i,0,j]))\n",
    "\n",
    "cols = ['Phase {}'.format(col) for col in range(k)]\n",
    "rows = ['{}'.format(exp[\"name\"]) for exp in exp_list]\n",
    "\n",
    "for ax, col in zip(axes[0], cols):\n",
    "    ax.set_title(col, fontsize=fontsize)\n",
    "\n",
    "for ax, row in zip(axes[:,0], rows):\n",
    "    ax.set_ylabel(row, rotation=90, fontsize=fontsize)\n",
    "\n",
    "fig.tight_layout()\n"
   ]
  },
  {
   "cell_type": "code",
   "execution_count": null,
   "metadata": {},
   "outputs": [],
   "source": [
    "n_exp = len(exp_list)\n",
    "fig, axes = plt.subplots(n_exp+1,k,figsize = (scale,scale/k * (n_exp+1) * aspect_ratio))\n",
    "for j in range(k):\n",
    "    axes[0,j].imshow(true_maps[j].reshape(*shape_2d))\n",
    "    for i, exp in enumerate(exp_list): \n",
    "        axes[i+1,j].imshow(As[i][j].reshape(*shape_2d))\n",
    "        axes[i+1,j].set_title(\"Mse: {:.2f}\".format(metrics[i,1,j]))\n",
    "    \n",
    "cols = ['MAP {}'.format(col) for col in range(k)]\n",
    "rows = [\"Ground truth\"] + ['{}'.format(exp[\"name\"]) for exp in exp_list]\n",
    "\n",
    "for ax, col in zip(axes[0], cols):\n",
    "    ax.set_title(col, fontsize=fontsize)\n",
    "\n",
    "for ax, row in zip(axes[:,0], rows):\n",
    "    ax.set_ylabel(row, rotation=90, fontsize=fontsize)\n",
    "\n",
    "fig.tight_layout()"
   ]
  },
  {
   "cell_type": "code",
   "execution_count": null,
   "metadata": {},
   "outputs": [],
   "source": []
  },
  {
   "source": [
    "# Quick and dirty way to look at the Loss\n",
    "Not updated... We need to uniform the way we store the loss for all methods.\n"
   ],
   "cell_type": "markdown",
   "metadata": {}
  },
  {
   "cell_type": "code",
   "execution_count": null,
   "metadata": {},
   "outputs": [],
   "source": [
    "warnings.simplefilter(action='ignore', category=FutureWarning)\n",
    "\n",
    "force_simplex = True\n",
    "skip_G = False\n",
    "alpha = 1.0\n",
    "index = 2\n",
    "lambda_L = 10.0\n",
    "nx,ny = data_dict[\"weights_parameters\"][\"shape_2D\"]\n",
    "shape_2D = nx,ny\n",
    "k = default_params[\"n_components\"]\n",
    "Xflat, true_spectra, true_maps, G = load_data(samples[index])\n",
    "snmfem = run_snmfem_NMF(Xflat, true_spectra, true_maps, G,default_params,force_simplex=force_simplex,skip_G = skip_G)\n",
    "smooth_snmfem = run_snmfem_SmoothNMF(Xflat,true_spectra,true_maps,G,default_params,force_simplex=force_simplex,skip_G=skip_G,lambda_L=lambda_L,shape_2D = shape_2D)\n",
    "\n",
    "\n"
   ]
  },
  {
   "cell_type": "code",
   "execution_count": null,
   "metadata": {},
   "outputs": [],
   "source": [
    "%matplotlib inline\r\n",
    "plt.subplots(1,snmfem[-1].T.shape[0],figsize=(50, 12))\r\n",
    "plt.rcParams.update({'font.size': 22})\r\n",
    "for i,elt in enumerate(snmfem[-1].T) : \r\n",
    "    plt.subplot(1,snmfem[-1].T.shape[0],i+1)\r\n",
    "    list_title = [\"full loss\", \"base_loss\", \"assymetric reg\", \"rel_P\", \"rel_A\"]\r\n",
    "    plt.title(list_title[i])\r\n",
    "    plt.plot( elt,'r-',label='reconstructed',markersize=3.5)\r\n",
    "    plt.xlabel(\"number of iterations\")"
   ]
  },
  {
   "cell_type": "code",
   "execution_count": null,
   "metadata": {},
   "outputs": [],
   "source": [
    "%matplotlib inline\n",
    "plt.subplots(1,smooth_snmfem[-1].T.shape[0],figsize=(50, 12))\n",
    "plt.rcParams.update({'font.size': 22})\n",
    "for i,elt in enumerate(smooth_snmfem[-1].T) : \n",
    "    plt.subplot(1,smooth_snmfem[-1].T.shape[0],i+1)\n",
    "    list_title = [\"full loss\", \"base_loss\", \"assymetric reg\",\"laplacian reg\", \"rel_P\", \"rel_A\"]\n",
    "    plt.title(list_title[i])\n",
    "    plt.plot( elt,'r-',label='reconstructed',markersize=3.5)\n",
    "    plt.xlabel(\"number of iterations\")"
   ]
  }
 ]
}