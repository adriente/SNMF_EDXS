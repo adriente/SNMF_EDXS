{
 "metadata": {
  "language_info": {
   "codemirror_mode": {
    "name": "ipython",
    "version": 3
   },
   "file_extension": ".py",
   "mimetype": "text/x-python",
   "name": "python",
   "nbconvert_exporter": "python",
   "pygments_lexer": "ipython3",
   "version": "3.8.5-final"
  },
  "orig_nbformat": 2,
  "kernelspec": {
   "name": "python3",
   "display_name": "Python 3.8.5 64-bit ('SNMF_EDXS--pNpjmq1')",
   "metadata": {
    "interpreter": {
     "hash": "508ccdc6fb5be5f7fd5f6d84709a2756aa123300835f386535c0d36e037b0594"
    }
   }
  }
 },
 "nbformat": 4,
 "nbformat_minor": 2,
 "cells": [
  {
   "cell_type": "code",
   "execution_count": null,
   "metadata": {},
   "outputs": [],
   "source": [
    "%load_ext autoreload\n",
    "%autoreload 2\n",
    "%matplotlib inline\n"
   ]
  },
  {
   "cell_type": "code",
   "execution_count": null,
   "metadata": {},
   "outputs": [],
   "source": [
    "import numpy as np\n",
    "import matplotlib.pyplot as plt\n",
    "from snmfem.experiments import perform_simulations, load_samples, print_results, load_data, run_experiment"
   ]
  },
  {
   "cell_type": "code",
   "execution_count": null,
   "metadata": {},
   "outputs": [],
   "source": [
    "import warnings\n",
    "warnings.simplefilter(action='ignore', category=FutureWarning)"
   ]
  },
  {
   "source": [
    "# Running NMF"
   ],
   "cell_type": "markdown",
   "metadata": {}
  },
  {
   "source": [
    "## Inputs"
   ],
   "cell_type": "markdown",
   "metadata": {}
  },
  {
   "cell_type": "code",
   "execution_count": null,
   "metadata": {},
   "outputs": [],
   "source": [
    "dataset = \"dataset_EDXS_small.json\"\n",
    "samples, k = load_samples(dataset)\n",
    "n_samples = 5\n",
    "samples = samples[:n_samples]\n",
    "\n"
   ]
  },
  {
   "cell_type": "code",
   "execution_count": null,
   "metadata": {},
   "outputs": [],
   "source": [
    "# About initialization\n",
    "# 'random': non-negative random matrices, scaled with: sqrt(X.mean() / n_components)\n",
    "# 'nndsvd': Nonnegative Double Singular Value Decomposition (NNDSVD) initialization (better for sparseness)\n",
    "# 'nndsvda': NNDSVD with zeros filled with the average of X (better when sparsity is not desired)\n",
    "# 'nndsvdar' NNDSVD with zeros filled with small random values (generally faster, less accurate alternative to NNDSVDa for when sparsity is not desired)\n",
    "\n",
    "# for me random was the best initialization...\n",
    "default_params = {\n",
    "    \"n_components\" : k,\n",
    "    \"tol\" : 1e-3,\n",
    "    \"max_iter\" : 1000,\n",
    "    \"init\" : \"random\",\n",
    "    \"random_state\" : 1,\n",
    "    \"verbose\" : 0\n",
    "    }\n",
    "\n",
    "params_snmf = {\n",
    "    \"force_simplex\" : True,\n",
    "    \"skip_G\" : False,\n",
    "    \"mu\": 0\n",
    "}\n",
    "\n",
    "params_evalution = {\n",
    "    \"u\" : True,\n",
    "}\n",
    "\n",
    "# All parameters are contained here\n",
    "exp_list = [ \n",
    "    {\"name\": \"scikit L2\", \"method\": \"SKNMF\", \"params\": {**default_params, }},\n",
    "    {\"name\": \"scikit KL\", \"method\": \"SKNMF\", \"params\": {**default_params, \"beta_loss\" : \"kullback-leibler\", \"solver\":\"mu\"}},\n",
    "    {\"name\": \"snmfem no G\", \"method\": \"NMF\", \"params\": {**default_params, \"force_simplex\" : True, \"skip_G\" : True, \"mu\": 0}},\n",
    "    {\"name\": \"snmfem\", \"method\": \"NMF\", \"params\": {**default_params, **params_snmf}},\n",
    "    {\"name\": \"snmfem smooth 3\", \"method\": \"SmoothNMF\", \"params\": {**default_params, **params_snmf, \"lambda_L\" : 3.0}},\n",
    "    {\"name\": \"snmfem smooth 30\", \"method\": \"SmoothNMF\", \"params\": {**default_params, **params_snmf, \"lambda_L\" : 30.0}},\n",
    "    {\"name\": \"snmfem smooth 3000\", \"method\": \"SmoothNMF\", \"params\": {**default_params, **params_snmf, \"lambda_L\" : 300.0}},\n",
    "]"
   ]
  },
  {
   "cell_type": "code",
   "execution_count": null,
   "metadata": {},
   "outputs": [],
   "source": [
    "metrics = perform_simulations(samples, exp_list, params_evalution)"
   ]
  },
  {
   "cell_type": "code",
   "execution_count": null,
   "metadata": {},
   "outputs": [],
   "source": [
    "metrics.shape"
   ]
  },
  {
   "cell_type": "code",
   "execution_count": null,
   "metadata": {
    "tags": []
   },
   "outputs": [],
   "source": [
    "print(print_results(exp_list, metrics))"
   ]
  },
  {
   "source": [
    "# Run a single experiment and plotting results"
   ],
   "cell_type": "markdown",
   "metadata": {}
  },
  {
   "cell_type": "code",
   "execution_count": null,
   "metadata": {},
   "outputs": [],
   "source": [
    "sample_num = 0\n",
    "\n",
    "s = samples[sample_num]\n",
    "Xflat, true_spectra, true_maps, G, shape_2d = load_data(s)\n",
    "\n",
    "GPs = []\n",
    "metrics = []\n",
    "As = []\n",
    "orders = []\n",
    "losses = []\n",
    "\n",
    "for exp in exp_list : \n",
    "    m, (GP, A), loss  = run_experiment(Xflat, true_spectra, true_maps, G, exp, params_evalution,shape_2d)\n",
    "    metric = m[:-1]\n",
    "    order = m[-1]\n",
    "    GPs.append(GP)\n",
    "    As.append(A)\n",
    "    metrics.append(metric)\n",
    "    orders.append(order)\n",
    "    losses.append(loss)\n",
    "metrics = np.array(metrics)\n",
    "orders = np.array(orders)"
   ]
  },
  {
   "cell_type": "code",
   "execution_count": null,
   "metadata": {},
   "outputs": [],
   "source": [
    "# Ploting parameters\n",
    "fontsize = 15\n",
    "aspect_ratio = 3/4\n",
    "scale = 20\n",
    "\n"
   ]
  },
  {
   "cell_type": "code",
   "execution_count": null,
   "metadata": {},
   "outputs": [],
   "source": [
    "# # Test for the order\n",
    "# from snmfem.measures import spectral_angle\n",
    "# m2 = np.zeros([metrics.shape[0], metrics.shape[2]])\n",
    "# for i in range(metrics.shape[0]):\n",
    "#     for j in range(metrics.shape[2]):\n",
    "#         ind = np.arange(k)[orders[i,0,j]]\n",
    "#         m2[i,j] = spectral_angle(GPs[i][:,ind], true_spectra[j])\n",
    "# np.testing.assert_allclose(m2,metrics[:,0,:])"
   ]
  },
  {
   "cell_type": "code",
   "execution_count": null,
   "metadata": {},
   "outputs": [],
   "source": [
    "n_exp = len(exp_list)\n",
    "fig, axes = plt.subplots(n_exp,k,figsize = (scale,scale/k * n_exp * aspect_ratio))\n",
    "for i, exp in enumerate(exp_list): \n",
    "    for j in range(k):\n",
    "        ind = np.arange(k)[orders[i,0,j]]\n",
    "        axes[i,j].plot(true_spectra[j],'bo',label='truth',linewidth=4)\n",
    "        axes[i,j].plot(GPs[i][:,ind] ,'r-',label='reconstructed',markersize=3.5)\n",
    "        axes[i,j].set_title(\"{:.2f} deg\".format(metrics[i,0,j]))\n",
    "\n",
    "cols = ['Phase {}'.format(col) for col in range(k)]\n",
    "rows = ['{}'.format(exp[\"name\"]) for exp in exp_list]\n",
    "\n",
    "for ax, col in zip(axes[0], cols):\n",
    "    ax.set_title(col, fontsize=fontsize)\n",
    "\n",
    "for ax, row in zip(axes[:,0], rows):\n",
    "    ax.set_ylabel(row, rotation=90, fontsize=fontsize)\n",
    "\n",
    "fig.tight_layout()\n"
   ]
  },
  {
   "cell_type": "code",
   "execution_count": null,
   "metadata": {},
   "outputs": [],
   "source": [
    "n_exp = len(exp_list)\n",
    "fig, axes = plt.subplots(n_exp+1,k,figsize = (scale,scale/k * (n_exp+1) * aspect_ratio))\n",
    "vmin = 0\n",
    "vmax = np.max(true_maps)\n",
    "cmap = plt.cm.gist_heat_r\n",
    "for j in range(k):\n",
    "    axes[0,j].imshow(true_maps[j].reshape(*shape_2d), vmin=vmin, vmax=vmax, cmap=cmap)\n",
    "    for i, exp in enumerate(exp_list): \n",
    "        ind = np.arange(k)[orders[i,1,j]]\n",
    "        axes[i+1,j].imshow(As[i][ind].reshape(*shape_2d), vmin=vmin, vmax=vmax, cmap=cmap)\n",
    "        axes[i+1,j].set_title(\"Mse: {:.2f}\".format(metrics[i,1,j]))\n",
    "    \n",
    "cols = ['MAP {}'.format(col) for col in range(k)]\n",
    "rows = [\"Ground truth\"] + ['{}'.format(exp[\"name\"]) for exp in exp_list]\n",
    "\n",
    "for ax, col in zip(axes[0], cols):\n",
    "    ax.set_title(col, fontsize=fontsize)\n",
    "\n",
    "for ax, row in zip(axes[:,0], rows):\n",
    "    ax.set_ylabel(row, rotation=90, fontsize=fontsize)\n",
    "\n",
    "fig.tight_layout()"
   ]
  },
  {
   "source": [
    "# Quick and dirty way to look at the Loss"
   ],
   "cell_type": "markdown",
   "metadata": {}
  },
  {
   "cell_type": "code",
   "execution_count": null,
   "metadata": {},
   "outputs": [],
   "source": [
    "indexes = np.arange(2, len(exp_list))\n",
    "n_plot = len(indexes)\n",
    "\n",
    "fig, axes = plt.subplots(n_plot, 2, figsize=(10, 4*n_plot))\n",
    "\n",
    "for it, i in enumerate(indexes): \n",
    "\n",
    "    # plt.title(exp_list[i][\"name\"])\n",
    "\n",
    "    axes[it, 0].plot(np.array(losses[i][1][0]), markersize=3.5)\n",
    "    axes[it, 0].plot(losses[i][0],'r--',markersize=3.5)\n",
    "    axes[it, 0].set_yscale(\"log\")\n",
    "    axes[it, 0].legend(losses[i][1][1] + [\"Total\"])\n",
    "    axes[it, 0].set_xlabel(\"number of iterations\")\n",
    "\n",
    "    axes[it, 1].plot(losses[i][2], markersize=3.5)\n",
    "    axes[it, 1].legend([\"rel_A\", \"rel_P\"])\n",
    "    axes[it, 1].set_xlabel(\"number of iterations\")\n",
    "\n",
    "cols = [\"Losses\", \"Evolution of A and P\"]\n",
    "rows = ['{}'.format(exp_list[i][\"name\"]) for i in indexes]\n",
    "\n",
    "for ax, col in zip(axes[0], cols):\n",
    "    ax.set_title(col, fontsize=fontsize)\n",
    "\n",
    "for ax, row in zip(axes[:,0], rows):\n",
    "    ax.set_ylabel(row, rotation=90, fontsize=fontsize)\n",
    "\n",
    "fig.tight_layout()"
   ]
  },
  {
   "cell_type": "code",
   "execution_count": null,
   "metadata": {},
   "outputs": [],
   "source": []
  }
 ]
}