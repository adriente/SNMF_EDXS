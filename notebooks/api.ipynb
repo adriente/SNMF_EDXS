{
 "metadata": {
  "language_info": {
   "codemirror_mode": {
    "name": "ipython",
    "version": 3
   },
   "file_extension": ".py",
   "mimetype": "text/x-python",
   "name": "python",
   "nbconvert_exporter": "python",
   "pygments_lexer": "ipython3",
   "version": "3.8.5"
  },
  "orig_nbformat": 4,
  "kernelspec": {
   "name": "python3",
   "display_name": "Python 3.8.5 64-bit ('SNMF_EDXS--pNpjmq1': pipenv)"
  },
  "interpreter": {
   "hash": "ae2bec25d04a58403981d6892379486339cbb2cd6f315f3a399785dd0e4b6656"
  }
 },
 "nbformat": 4,
 "nbformat_minor": 2,
 "cells": [
  {
   "cell_type": "markdown",
   "source": [
    "# Imports"
   ],
   "metadata": {}
  },
  {
   "cell_type": "code",
   "execution_count": null,
   "source": [
    "%load_ext autoreload\n",
    "%autoreload 2\n",
    "%matplotlib inline\n",
    "\n",
    "# import hyperspy.api as hs\n",
    "from snmfem.estimators import NMF\n",
    "import snmfem.datasets as ds\n"
   ],
   "outputs": [],
   "metadata": {}
  },
  {
   "cell_type": "markdown",
   "source": [
    "# Generating artificial datasets and loading them\n",
    "\n",
    "If the datasets were already generated, they are not generated again"
   ],
   "metadata": {}
  },
  {
   "cell_type": "code",
   "execution_count": null,
   "source": [
    "ds.generate_built_in_datasets()\n",
    "spim = ds.load_particules(sample = 0)"
   ],
   "outputs": [],
   "metadata": {}
  },
  {
   "cell_type": "code",
   "execution_count": null,
   "source": [
    "spim.metadata"
   ],
   "outputs": [],
   "metadata": {}
  },
  {
   "cell_type": "code",
   "execution_count": null,
   "source": [
    "P = spim.set_fixed_P({\"p1\" : {\"N\" : 0.0, \"Yb\" : 0.0, \"Pt\" : 0.0, \"Al\" : 0.0, \"Ti\" : 0.0, \"La\" : 0.0 },\n",
    " \"p2\" : {\"V\" : 0.0, \"Rb\" : 0.0, \"W\" : 0.0, \"Al\" : 0.0, \"Ti\" : 0.0, \"La\" : 0.0}, \"p3\" : {\"N\" : 0.0, \"Yb\" : 0.0, \"Pt\" : 0.0, \"V\" : 0.0, \"Rb\" : 0.0, \"W\" : 0.0}})"
   ],
   "outputs": [],
   "metadata": {}
  },
  {
   "cell_type": "markdown",
   "source": [
    "# Problem solving\n",
    "\n",
    "Full hyperspy syntax\n",
    "\n",
    "## Loading analysis parameters"
   ],
   "metadata": {}
  },
  {
   "cell_type": "code",
   "execution_count": null,
   "source": [
    "G = spim.build_G(\"bremsstrahlung\", norm = True)\n",
    "shape_2d = spim.shape_2d\n",
    "phases = spim.phases\n",
    "weights = spim.weights\n",
    "\n",
    "est = NMF( n_components = 3,tol=0.000001, max_iter = 1000, G = G, shape_2d = shape_2d, true_D = phases, true_A = weights,fixed_P = None,hspy_comp = True)"
   ],
   "outputs": [],
   "metadata": {}
  },
  {
   "cell_type": "markdown",
   "source": [
    "## Calculating the decomposition\n",
    "\n",
    "/!\\ Depending on the parameters you choose and the size of the data it might take a while"
   ],
   "metadata": {}
  },
  {
   "cell_type": "code",
   "execution_count": null,
   "source": [
    "out = spim.decomposition(algorithm = est, return_info=True)"
   ],
   "outputs": [],
   "metadata": {}
  },
  {
   "cell_type": "markdown",
   "source": [
    "## Getting the losses and the results of the decomposition"
   ],
   "metadata": {}
  },
  {
   "cell_type": "code",
   "execution_count": null,
   "source": [
    "losses = est.get_losses()\n",
    "Pr = est.P_"
   ],
   "outputs": [],
   "metadata": {}
  },
  {
   "cell_type": "code",
   "execution_count": null,
   "source": [
    "out.G_.sum(axis = 0)\n",
    "out.P_.sum(axis = 0)\n",
    "out.A_.sum(axis = 1)"
   ],
   "outputs": [],
   "metadata": {}
  },
  {
   "cell_type": "code",
   "execution_count": null,
   "source": [
    "import matplotlib.pyplot as plt\n",
    "%matplotlib inline \n",
    "import numpy as np\n",
    "\n",
    "res = (out.G_@out.P_)[:,0]\n",
    "ph = phases[:,0]\n",
    "\n",
    "plt.plot(res/np.sum(res))\n",
    "plt.plot(ph/np.sum(ph))"
   ],
   "outputs": [],
   "metadata": {}
  },
  {
   "cell_type": "markdown",
   "source": [
    "## Ploting the results"
   ],
   "metadata": {}
  },
  {
   "cell_type": "code",
   "execution_count": null,
   "source": [
    "spim.plot_decomposition_factors(3)"
   ],
   "outputs": [],
   "metadata": {}
  },
  {
   "cell_type": "code",
   "execution_count": null,
   "source": [
    "spim.plot_decomposition_loadings(3)"
   ],
   "outputs": [],
   "metadata": {}
  },
  {
   "cell_type": "markdown",
   "source": [
    "# Problem Solving\n",
    "\n",
    "With the usual scikit use"
   ],
   "metadata": {}
  },
  {
   "cell_type": "code",
   "execution_count": null,
   "source": [
    "G = spim.build_G(\"bremsstrahlung\")\n",
    "shape_2d = spim.shape_2d\n",
    "phases, weights = spim.phases, spim.weights\n",
    "X = spim.X\n",
    "\n",
    "est = SmoothNMF(n_components = 3,tol=0.1, G = G, shape_2d = shape_2d, lambda_L= 2, true_D = phases, true_A = weights, hspy_comp = False)\n",
    "\n"
   ],
   "outputs": [],
   "metadata": {}
  },
  {
   "cell_type": "code",
   "execution_count": null,
   "source": [
    "D = est.fit_transform(X)"
   ],
   "outputs": [],
   "metadata": {}
  }
 ]
}