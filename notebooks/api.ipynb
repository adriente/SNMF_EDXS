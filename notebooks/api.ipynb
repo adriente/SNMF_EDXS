{
 "metadata": {
  "language_info": {
   "codemirror_mode": {
    "name": "ipython",
    "version": 3
   },
   "file_extension": ".py",
   "mimetype": "text/x-python",
   "name": "python",
   "nbconvert_exporter": "python",
   "pygments_lexer": "ipython3",
   "version": "3.8.5"
  },
  "orig_nbformat": 4,
  "kernelspec": {
   "name": "python3",
   "display_name": "Python 3.8.5 64-bit ('SNMF_EDXS--pNpjmq1': pipenv)"
  },
  "interpreter": {
   "hash": "ae2bec25d04a58403981d6892379486339cbb2cd6f315f3a399785dd0e4b6656"
  }
 },
 "nbformat": 4,
 "nbformat_minor": 2,
 "cells": [
  {
   "cell_type": "code",
   "execution_count": null,
   "source": [
    "# Imports\n",
    "%load_ext autoreload\n",
    "%autoreload 2\n",
    "%matplotlib inline\n",
    "\n",
    "import numpy as np\n",
    "import matplotlib.pyplot as plt\n",
    "import hyperspy.api as hs\n",
    "from snmfem.estimators import SmoothNMF\n",
    "from snmfem.datasets import built_in_datasets as bi"
   ],
   "outputs": [],
   "metadata": {}
  },
  {
   "cell_type": "markdown",
   "source": [
    "## Not done yet"
   ],
   "metadata": {}
  },
  {
   "cell_type": "code",
   "execution_count": null,
   "source": [
    "bi.generate_built_in_datasets()"
   ],
   "outputs": [],
   "metadata": {}
  },
  {
   "cell_type": "code",
   "execution_count": null,
   "source": [
    "particules = bi.load_particules(sample = 0)\n",
    "gb = bi.load_grain_boundary(sample=0)"
   ],
   "outputs": [],
   "metadata": {}
  },
  {
   "cell_type": "markdown",
   "source": [
    "# Dataset creation (optional)\n",
    "\n",
    "/!\\/!\\/!\\/!\\/!\\/!\\/!\\/!\\/!\\/!\\/!\\/!\\/!\\/!\\/!\\/!\\/!\\/!\\/!\\/!\\/!\\\n",
    "## **Les modifs principales sur la création des données sont dans generate_data.ipynb et je suppose que ca devrait rester comme ca.**\n",
    "## Mon idée etant que : Soit on veut les données par défaut et on load Dataset_A, etc... (pas encore fait du coup), Soit on veut créer des données spécifiques auquel cas on utilise ``generate_data.ipynb``\n",
    "/!\\/!\\/!\\/!\\/!\\/!\\/!\\/!\\/!\\/!\\/!\\/!\\/!\\/!\\/!\\/!\\/!\\/!\\/!\\/!\\/!\\"
   ],
   "metadata": {}
  },
  {
   "cell_type": "markdown",
   "source": [
    "# Data loading and problem definition"
   ],
   "metadata": {}
  },
  {
   "cell_type": "code",
   "execution_count": null,
   "source": [
    "\n",
    "spim = hs.load(\"/mnt/c/Users/teurtrie/Travail/SNMF_EDXS/generated_datasets/built_in_particules/sample_1.hspy\")\n",
    "# spim.set_signal_type(\"EDXSsnmfem\")"
   ],
   "outputs": [],
   "metadata": {}
  },
  {
   "cell_type": "code",
   "execution_count": null,
   "source": [
    "spim.metadata"
   ],
   "outputs": [],
   "metadata": {}
  },
  {
   "cell_type": "markdown",
   "source": [
    "# Problem solving\n",
    "\n",
    "Full hyperspy"
   ],
   "metadata": {}
  },
  {
   "cell_type": "code",
   "execution_count": null,
   "source": [
    "# problem_type: \"identity\", \"no_brstlg\", \"bremsstralung\"\n",
    "G,shape_2d = spim.extract_params(\"bremsstrahlung\")\n",
    "phases, weights = spim.extract_truth()"
   ],
   "outputs": [],
   "metadata": {}
  },
  {
   "cell_type": "code",
   "execution_count": null,
   "source": [
    "est = SmoothNMF( n_components = 3,tol=0.0001, max_iter = 100, G = G, shape_2d = shape_2d, lambda_L= 2, true_D = phases, true_A = weights)\n",
    "out = spim.decomposition(algorithm = est, return_info=True)"
   ],
   "outputs": [],
   "metadata": {}
  },
  {
   "cell_type": "code",
   "execution_count": null,
   "source": [
    "losses = est.get_losses()\n",
    "# This works but I think we are better off with : P = est.P_\n",
    "Ps = spim.get_P()\n",
    "Pe = est.P_"
   ],
   "outputs": [],
   "metadata": {}
  },
  {
   "cell_type": "code",
   "execution_count": null,
   "source": [
    "spim.plot_decomposition_factors(3)"
   ],
   "outputs": [],
   "metadata": {}
  },
  {
   "cell_type": "code",
   "execution_count": null,
   "source": [
    "spim.plot_decomposition_loadings(3)"
   ],
   "outputs": [],
   "metadata": {}
  },
  {
   "cell_type": "markdown",
   "source": [
    "# Problem Solving\n",
    "\n",
    "With the usual scikit use"
   ],
   "metadata": {}
  },
  {
   "cell_type": "code",
   "execution_count": null,
   "source": [
    "G,shape_2d = spim.extract_params(\"bremsstrahlung\")\n",
    "phases, weights = spim.extract_truth()\n",
    "X = spim.get_Xflat()\n",
    "est = SmoothNMF(n_components = 3,tol=0.1, G = G, shape_2d = shape_2d, lambda_L= 2, true_D = phases, true_A = weights, hspy_comp = False)\n",
    "D = est.fit_transform(X)\n"
   ],
   "outputs": [],
   "metadata": {}
  },
  {
   "cell_type": "code",
   "execution_count": null,
   "source": [
    "losses = est.get_losses()\n",
    "P = est.P_"
   ],
   "outputs": [],
   "metadata": {}
  },
  {
   "cell_type": "code",
   "execution_count": null,
   "source": [],
   "outputs": [],
   "metadata": {}
  }
 ]
}