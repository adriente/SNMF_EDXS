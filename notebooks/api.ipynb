{
 "cells": [
  {
   "cell_type": "markdown",
   "metadata": {},
   "source": [
    "# Imports"
   ]
  },
  {
   "cell_type": "code",
   "execution_count": 1,
   "metadata": {},
   "outputs": [
    {
     "name": "stderr",
     "output_type": "stream",
     "text": [
      "WARNING:hyperspy.api:The ipywidgets GUI elements are not available, probably because the hyperspy_gui_ipywidgets package is not installed.\n",
      "WARNING:hyperspy.api:The traitsui GUI elements are not available, probably because the hyperspy_gui_traitsui package is not installed.\n"
     ]
    }
   ],
   "source": [
    "%load_ext autoreload\n",
    "%autoreload 2\n",
    "%matplotlib inline\n",
    "\n",
    "import hyperspy.api as hs\n",
    "from esmpy.estimators import SmoothNMF\n",
    "import esmpy.datasets as ds\n",
    "\n",
    "import matplotlib.pyplot as plt\n",
    "import numpy as np\n",
    "\n",
    "from esmpy.models.EDXS_function import print_concentrations_from_W"
   ]
  },
  {
   "cell_type": "markdown",
   "metadata": {},
   "source": [
    "# Generating artificial datasets and loading them\n",
    "\n",
    "If the datasets were already generated, they are not generated again\n",
    "\n",
    "**This is optional**"
   ]
  },
  {
   "cell_type": "code",
   "execution_count": null,
   "metadata": {},
   "outputs": [],
   "source": [
    "ds.generate_built_in_datasets(seeds_range=5)\n",
    "spim = ds.load_particules(sample = 0)"
   ]
  },
  {
   "cell_type": "markdown",
   "metadata": {},
   "source": [
    "# Loading your data and settings\n",
    "\n",
    "There are three things to fill here : \n",
    "- An input filename in the ``hs.load()`` function\n",
    "- The acquisition parameters in the ``spim.set_analysis_parameters()`` function. Be careful the previous metadata are overwritten. (I still need to build a function that does not overwrite the already present settings)\n",
    "- if required you can set the concentrations of some elements in some phases with the function ``spim.set_fixed_W()``. The name of the phases can be changed."
   ]
  },
  {
   "cell_type": "code",
   "execution_count": 9,
   "metadata": {},
   "outputs": [
    {
     "data": {
      "text/plain": [
       "array([[ 0., -1., -1.],\n",
       "       [-1., -1.,  0.],\n",
       "       [-1.,  0., -1.],\n",
       "       [-1., -1., -1.],\n",
       "       [-1., -1., -1.]])"
      ]
     },
     "execution_count": 9,
     "metadata": {},
     "output_type": "execute_result"
    }
   ],
   "source": [
    "spim = hs.load(\"filename.hspy\")\n",
    "\n",
    "spim.axes_manager[-1].offset = 12000\n",
    "spim.set_signal_type(\"EDS_ESMPY\")\n",
    "spim.set_analysis_parameters(beam_energy = 200,\n",
    "azimuth_angle = 0.0,\n",
    "elevation_angle = 22.0,\n",
    "tilt_stage = 0.0,\n",
    "elements = [\"Si\",\"Mg\",\"Fe\"],\n",
    "thickness = 200e-7,\n",
    "density = 3.5,\n",
    "detector_type = \"SDD_efficiency.txt\",\n",
    "width_slope = 0.01,\n",
    "width_intercept = 0.065,\n",
    "xray_db = \"default_xrays.json\")\n",
    "G = spim.build_G(\"bremsstrahlung\", norm = True)\n",
    "fW = spim.set_fixed_W({\"p0\" : {\"Si\" : 0.0},\"p1\" : {\"Fe\" : 0.0}, \"p2\" : {\"Mg\" : 0.0}})"
   ]
  },
  {
   "cell_type": "markdown",
   "metadata": {},
   "source": [
    "# Problem solving\n",
    "\n",
    "Full hyperspy syntax\n",
    "\n",
    "## Loading analysis parameters"
   ]
  },
  {
   "cell_type": "code",
   "execution_count": null,
   "metadata": {},
   "outputs": [],
   "source": [
    "G = spim.build_G(\"bremsstrahlung\", norm = True)\n",
    "shape_2d = spim.shape_2d\n",
    "# phases = spim.phases\n",
    "# weights = spim.weights\n",
    "\n",
    "est = SmoothNMF( n_components = 3,tol=0.000001, max_iter = 1000, G = G, shape_2d = shape_2d,fixed_W = fW,hspy_comp = True) #  true_D = phases, true_A = weights"
   ]
  },
  {
   "cell_type": "markdown",
   "metadata": {},
   "source": [
    "## Calculating the decomposition\n",
    "\n",
    "/!\\ Depending on the parameters you choose and the size of the data it might take a while"
   ]
  },
  {
   "cell_type": "code",
   "execution_count": null,
   "metadata": {},
   "outputs": [],
   "source": [
    "out = spim.decomposition(algorithm = est, return_info=True)"
   ]
  },
  {
   "cell_type": "markdown",
   "metadata": {},
   "source": [
    "## Getting the losses and the results of the decomposition\n",
    "\n",
    "- First cell : Printing the resulting concentrations.\n",
    "- Second cell : Ploting the resulting spectra\n",
    "- Thrid cell : Ploting the resulting abundances"
   ]
  },
  {
   "cell_type": "code",
   "execution_count": null,
   "metadata": {},
   "outputs": [],
   "source": [
    "print_concentrations_from_W(est.W_, elements = spim.metadata.Sample.elements)"
   ]
  },
  {
   "cell_type": "code",
   "execution_count": null,
   "metadata": {},
   "outputs": [],
   "source": [
    "spim.plot_decomposition_loadings(3)"
   ]
  },
  {
   "cell_type": "code",
   "execution_count": null,
   "metadata": {},
   "outputs": [],
   "source": [
    "spim.plot_decomposition_factors(3)"
   ]
  },
  {
   "cell_type": "markdown",
   "metadata": {},
   "source": [
    "# Problem Solving\n",
    "\n",
    "With the usual scikit use"
   ]
  },
  {
   "cell_type": "code",
   "execution_count": null,
   "metadata": {},
   "outputs": [],
   "source": [
    "G = spim.build_G(\"bremsstrahlung\")\n",
    "shape_2d = spim.shape_2d\n",
    "phases, weights = spim.phases, spim.weights\n",
    "X = spim.X\n",
    "\n",
    "est = SmoothNMF(n_components = 3,tol=0.1, G = G, shape_2d = shape_2d, lambda_L= 2, true_D = phases, true_A = weights, hspy_comp = False)"
   ]
  },
  {
   "cell_type": "code",
   "execution_count": null,
   "metadata": {},
   "outputs": [],
   "source": [
    "D = est.fit_transform(X)"
   ]
  },
  {
   "cell_type": "code",
   "execution_count": null,
   "metadata": {},
   "outputs": [],
   "source": []
  }
 ],
 "metadata": {
  "interpreter": {
   "hash": "342b98c0ffcf4d5e9b3b22c1a98414178e5656fd2a3d3a7937deb5eeea7fa697"
  },
  "kernelspec": {
   "display_name": "Python 3",
   "language": "python",
   "name": "python3"
  },
  "language_info": {
   "codemirror_mode": {
    "name": "ipython",
    "version": 3
   },
   "file_extension": ".py",
   "mimetype": "text/x-python",
   "name": "python",
   "nbconvert_exporter": "python",
   "pygments_lexer": "ipython3",
   "version": "3.8.5"
  },
  "varInspector": {
   "cols": {
    "lenName": 16,
    "lenType": 16,
    "lenVar": 40
   },
   "kernels_config": {
    "python": {
     "delete_cmd_postfix": "",
     "delete_cmd_prefix": "del ",
     "library": "var_list.py",
     "varRefreshCmd": "print(var_dic_list())"
    },
    "r": {
     "delete_cmd_postfix": ") ",
     "delete_cmd_prefix": "rm(",
     "library": "var_list.r",
     "varRefreshCmd": "cat(var_dic_list()) "
    }
   },
   "types_to_exclude": [
    "module",
    "function",
    "builtin_function_or_method",
    "instance",
    "_Feature"
   ],
   "window_display": false
  }
 },
 "nbformat": 4,
 "nbformat_minor": 4
}
