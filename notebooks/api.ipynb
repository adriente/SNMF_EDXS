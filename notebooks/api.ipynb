{
 "metadata": {
  "language_info": {
   "codemirror_mode": {
    "name": "ipython",
    "version": 3
   },
   "file_extension": ".py",
   "mimetype": "text/x-python",
   "name": "python",
   "nbconvert_exporter": "python",
   "pygments_lexer": "ipython3",
   "version": "3.8.6"
  },
  "orig_nbformat": 4,
  "kernelspec": {
   "name": "python3",
   "display_name": "Python 3.8.6 64-bit ('SNMF_EDXS-FwWDtlwS': pipenv)"
  },
  "interpreter": {
   "hash": "1c54570ff4268047c81dd2c61765206f7b22026564b587a11579858717e9a312"
  }
 },
 "nbformat": 4,
 "nbformat_minor": 2,
 "cells": [
  {
   "cell_type": "code",
   "execution_count": null,
   "source": [
    "%load_ext autoreload\n",
    "%autoreload 2\n",
    "%matplotlib inline"
   ],
   "outputs": [],
   "metadata": {}
  },
  {
   "cell_type": "code",
   "execution_count": null,
   "source": [
    "# Imports\n",
    "import numpy as np\n",
    "import matplotlib.pyplot as plt\n",
    "import hyperspy.api as hs\n",
    "from hyperspy.signals import Signal1D\n",
    "from snmfem.estimators import NMF\n",
    "from snmfem.models.edxs import G_EDXS"
   ],
   "outputs": [],
   "metadata": {}
  },
  {
   "cell_type": "markdown",
   "source": [
    "# Dataset creation (optional)\n",
    "\n",
    "/!\\/!\\/!\\/!\\/!\\/!\\/!\\/!\\/!\\/!\\/!\\/!\\/!\\/!\\/!\\/!\\/!\\/!\\/!\\/!\\/!\\\n",
    "## **Les modifs principales sur la création des données sont dans generate_data.ipynb et je suppose que ca devrait rester comme ca.**\n",
    "## Mon idée etant que : Soit on veut les données par défaut et on load Dataset_A, etc... (pas encore fait du coup), Soit on veut créer des données spécifiques auquel cas on utilise generate_data\n",
    "/!\\/!\\/!\\/!\\/!\\/!\\/!\\/!\\/!\\/!\\/!\\/!\\/!\\/!\\/!\\/!\\/!\\/!\\/!\\/!\\/!\\"
   ],
   "metadata": {}
  },
  {
   "cell_type": "code",
   "execution_count": null,
   "source": [
    "\n",
    "spim = create_dataset()\n",
    "\n",
    "# save to hspy\n",
    "hs.save(\"filename.hspy\", spim)\n",
    "\n"
   ],
   "outputs": [],
   "metadata": {}
  },
  {
   "cell_type": "markdown",
   "source": [
    "# Data loading and problem definition"
   ],
   "metadata": {}
  },
  {
   "cell_type": "code",
   "execution_count": null,
   "source": [
    "\n",
    "spim = hs.load(\"filename.hspy\")\n"
   ],
   "outputs": [],
   "metadata": {}
  },
  {
   "cell_type": "code",
   "execution_count": null,
   "source": [
    "generate_synthetic_datasets() \n",
    "\n",
    "spim_A = load_dataset_A(sample=0) # Hard coded configuration in the code\n",
    "spim_B = load_dataset_B()\n",
    "spim_C = load_dataset_C()\n",
    "spim_real = load_dataset_real()\n"
   ],
   "outputs": [],
   "metadata": {}
  },
  {
   "cell_type": "markdown",
   "source": [
    "# Problem solving"
   ],
   "metadata": {}
  },
  {
   "cell_type": "code",
   "execution_count": null,
   "source": [
    "\n",
    "# interface semi-black box\n",
    "param_opt = dict(...)\n",
    "est = NMF(param_opt)\n",
    "# problem_type: \"nothing\", \"no_bremsstrahlung\", \"bremsstralung\", \"updated_bremsstrahlung\"\n",
    "G = spim.extract_G(problem_type)\n",
    "spim.decomposition(est, G)\n",
    "P = spim.get_P()\n",
    "spim.plot_P()\n",
    "spim.eval_loss()\n",
    "\n",
    "\n",
    "# interface flux de données\n",
    "param_opt = dict(...)\n",
    "est = NMF(param_opt)\n",
    "X, G, true_P, true_A = spim.extract(problem_type)\n",
    "\n",
    "sol_P, sol_A = est.fit_transform(X, G)\n",
    "# sol_P, sol_A = est.fit_transform(X, G, true_P, true_A)\n",
    "eval_loss(sol_P,true_P)\n",
    "\n",
    "\n",
    "\n"
   ],
   "outputs": [],
   "metadata": {}
  },
  {
   "cell_type": "code",
   "execution_count": null,
   "source": [
    "class EdxsSignal1D(Signal1D):\n",
    "    def extract_metadata(self, problem):\n",
    "        d = {}\n",
    "        d[\"shape_2d\"] = self.metadata[\"shape_2d\"]\n",
    "        # true_D = None\n",
    "        # true_A = None\n",
    "        d[\"model_params\"] = self.metadata[\"model_params\"]\n",
    "        # g_params = self.metadata[\"g_params\"]\n",
    "        if problem == \"update_bremsstrahlung\":\n",
    "            G = self.update_G\n",
    "        else:\n",
    "            G = None\n",
    "        return G, d\n",
    "\n",
    "    def extract(self):\n",
    "\n",
    "        metadata = convert_metadata(self)\n",
    "        return G, X, metadata\n",
    "\n",
    "    def extract_true(self):\n",
    "        return 0\n",
    "\n",
    "    def decomposition_edxs(self, algorithm, **kwargs):\n",
    "        G, X, metadata = self.extract()\n",
    "        GP, A = super(self).decomposition(algorithm, metadata)\n",
    "        # reassignment\n",
    "        self.get_P(recompute=True)\n",
    "\n",
    "    def get_P(self, recompute=False):\n",
    "        if (self.P is None) or recompute:\n",
    "            self.P = np.linalg.lstsq(self.G, self.phase, rcond=None)\n",
    "        return self.P\n",
    "\n",
    "    def update_G(P=None, G=None):\n",
    "        model_params = self.metadata[\"model_params\"]\n",
    "        g_params = self.metadata[\"g_params\"]\n",
    "        G = G_EDXS(model_params, g_params, P=P, G=G)\n",
    "        return G\n",
    "\n",
    "    def plot_P(self):\n",
    "        # beautiful plot\n",
    "\n",
    "    @property\n",
    "    def true_A(self):\n",
    "        return self.metadata[\"true_A\"]\n"
   ],
   "outputs": [],
   "metadata": {}
  },
  {
   "cell_type": "markdown",
   "source": [
    "# Evaluation"
   ],
   "metadata": {}
  }
 ]
}