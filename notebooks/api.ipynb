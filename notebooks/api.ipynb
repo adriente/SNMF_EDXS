{
 "cells": [
  {
   "cell_type": "markdown",
   "metadata": {},
   "source": [
    "# Imports"
   ]
  },
  {
   "cell_type": "code",
   "execution_count": null,
   "metadata": {},
   "outputs": [],
   "source": [
    "%load_ext autoreload\n",
    "%autoreload 2\n",
    "%matplotlib inline\n",
    "\n",
    "import hyperspy.api as hs\n",
    "from esmpy.estimators import SmoothNMF\n",
    "import esmpy.datasets as ds\n",
    "\n",
    "import matplotlib.pyplot as plt\n",
    "import numpy as np\n",
    "\n",
    "from esmpy.models.EDXS_function import print_concentrations_from_W"
   ]
  },
  {
   "attachments": {},
   "cell_type": "markdown",
   "metadata": {},
   "source": [
    "# Generating artificial datasets and loading them\n",
    "\n",
    "If the datasets were already generated, they are not generated again"
   ]
  },
  {
   "cell_type": "code",
   "execution_count": null,
   "metadata": {},
   "outputs": [],
   "source": [
    "ds.generate_built_in_datasets(seeds_range=5)\n",
    "spim = ds.load_particules(sample = 0)\n",
    "spim.change_dtype('float64')"
   ]
  },
  {
   "cell_type": "markdown",
   "metadata": {},
   "source": [
    "# Loading your data and settings\n",
    "\n",
    "There are three things to fill here : \n",
    "- An input filename in the ``hs.load()`` function\n",
    "- The acquisition parameters in the ``spim.set_analysis_parameters()`` function. Be careful the previous metadata are overwritten. (I still need to build a function that does not overwrite the already present settings)\n",
    "- if required you can set the concentrations of some elements in some phases with the function ``spim.set_fixed_W()``. The name of the phases can be changed."
   ]
  },
  {
   "cell_type": "code",
   "execution_count": null,
   "metadata": {},
   "outputs": [],
   "source": [
    "G = spim.build_G(\"bremsstrahlung\", norm = False, reference_elt={})"
   ]
  },
  {
   "cell_type": "markdown",
   "metadata": {},
   "source": [
    "# Problem solving\n",
    "\n",
    "Full hyperspy syntax\n",
    "\n",
    "## Loading analysis parameters"
   ]
  },
  {
   "cell_type": "code",
   "execution_count": null,
   "metadata": {},
   "outputs": [],
   "source": [
    "# phases = spim.phases\n",
    "# weights = spim.weights\n",
    "\n",
    "est = SmoothNMF( n_components = 3,tol=0.000001, max_iter = 1000, G = G, shape_2d = spim.data.shape[:-1],hspy_comp = True) #  true_D = phases, true_A = weights"
   ]
  },
  {
   "cell_type": "markdown",
   "metadata": {},
   "source": [
    "## Calculating the decomposition\n",
    "\n",
    "/!\\ Depending on the parameters you choose and the size of the data it might take a while"
   ]
  },
  {
   "cell_type": "code",
   "execution_count": null,
   "metadata": {},
   "outputs": [],
   "source": [
    "out = spim.decomposition(algorithm = est, return_info=True)"
   ]
  },
  {
   "cell_type": "markdown",
   "metadata": {},
   "source": [
    "## Getting the losses and the results of the decomposition\n",
    "\n",
    "- First cell : Printing the resulting concentrations.\n",
    "- Second cell : Ploting the resulting spectra\n",
    "- Thrid cell : Ploting the resulting abundances"
   ]
  },
  {
   "cell_type": "code",
   "execution_count": null,
   "metadata": {},
   "outputs": [],
   "source": [
    "print_concentrations_from_W(est.W_, elements = spim.metadata.Sample.elements)"
   ]
  },
  {
   "cell_type": "code",
   "execution_count": null,
   "metadata": {},
   "outputs": [],
   "source": [
    "spim.plot_decomposition_loadings(3)"
   ]
  },
  {
   "cell_type": "code",
   "execution_count": null,
   "metadata": {},
   "outputs": [],
   "source": [
    "spim.plot_decomposition_factors(3)"
   ]
  },
  {
   "cell_type": "markdown",
   "metadata": {},
   "source": [
    "# Problem Solving\n",
    "\n",
    "With the usual scikit use"
   ]
  },
  {
   "cell_type": "code",
   "execution_count": null,
   "metadata": {},
   "outputs": [],
   "source": [
    "G = spim.build_G(\"bremsstrahlung\")\n",
    "shape_2d = spim.shape_2d\n",
    "phases, weights = spim.phases, spim.weights\n",
    "X = spim.X\n",
    "\n",
    "est = SmoothNMF(n_components = 3,tol=0.1, G = G, shape_2d = shape_2d, lambda_L= 2, true_D = phases, true_A = weights, hspy_comp = False)"
   ]
  },
  {
   "cell_type": "code",
   "execution_count": null,
   "metadata": {},
   "outputs": [],
   "source": [
    "D = est.fit_transform(X)\n",
    "Hflat = est.H_\n",
    "H = Hflat.reshape([H.shape[0], *shape_2d])\n",
    "W = est.W_"
   ]
  },
  {
   "cell_type": "code",
   "execution_count": null,
   "metadata": {},
   "outputs": [],
   "source": []
  }
 ],
 "metadata": {
  "kernelspec": {
   "display_name": "Python 3.10.6 ('esmpy')",
   "language": "python",
   "name": "python3"
  },
  "language_info": {
   "codemirror_mode": {
    "name": "ipython",
    "version": 3
   },
   "file_extension": ".py",
   "mimetype": "text/x-python",
   "name": "python",
   "nbconvert_exporter": "python",
   "pygments_lexer": "ipython3",
   "version": "3.10.6 | packaged by conda-forge | (main, Aug 22 2022, 20:35:26) [GCC 10.4.0]"
  },
  "varInspector": {
   "cols": {
    "lenName": 16,
    "lenType": 16,
    "lenVar": 40
   },
   "kernels_config": {
    "python": {
     "delete_cmd_postfix": "",
     "delete_cmd_prefix": "del ",
     "library": "var_list.py",
     "varRefreshCmd": "print(var_dic_list())"
    },
    "r": {
     "delete_cmd_postfix": ") ",
     "delete_cmd_prefix": "rm(",
     "library": "var_list.r",
     "varRefreshCmd": "cat(var_dic_list()) "
    }
   },
   "types_to_exclude": [
    "module",
    "function",
    "builtin_function_or_method",
    "instance",
    "_Feature"
   ],
   "window_display": false
  },
  "vscode": {
   "interpreter": {
    "hash": "8d2c37261bd18724b44288178b5d93ac658e7a29aba4ea6c1b1b0710c1696ef2"
   }
  }
 },
 "nbformat": 4,
 "nbformat_minor": 4
}
