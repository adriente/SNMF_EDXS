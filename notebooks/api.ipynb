{
 "cells": [
  {
   "cell_type": "markdown",
   "metadata": {},
   "source": [
    "# Imports"
   ]
  },
  {
   "cell_type": "code",
   "execution_count": 207,
   "metadata": {},
   "outputs": [
    {
     "name": "stdout",
     "output_type": "stream",
     "text": [
      "The autoreload extension is already loaded. To reload it, use:\n",
      "  %reload_ext autoreload\n"
     ]
    }
   ],
   "source": [
    "%load_ext autoreload\n",
    "%autoreload 2\n",
    "%matplotlib inline\n",
    "\n",
    "import hyperspy.api as hs\n",
    "from esmpy.estimators import SmoothNMF\n",
    "import esmpy.datasets as ds\n",
    "\n",
    "import matplotlib.pyplot as plt\n",
    "import numpy as np\n",
    "\n",
    "from esmpy.models.EDXS_function import print_concentrations_from_W"
   ]
  },
  {
   "cell_type": "markdown",
   "metadata": {},
   "source": [
    "# Generating artificial datasets and loading them\n",
    "\n",
    "If the datasets were already generated, they are not generated again\n",
    "\n",
    "**This is optional**"
   ]
  },
  {
   "cell_type": "code",
   "execution_count": 208,
   "metadata": {},
   "outputs": [],
   "source": [
    "ds.generate_built_in_datasets(seeds_range=5)\n",
    "spim = ds.load_particules(sample = 0)"
   ]
  },
  {
   "cell_type": "markdown",
   "metadata": {},
   "source": [
    "# Loading your data and settings\n",
    "\n",
    "There are three things to fill here : \n",
    "- An input filename in the ``hs.load()`` function\n",
    "- The acquisition parameters in the ``spim.set_analysis_parameters()`` function. Be careful the previous metadata are overwritten. (I still need to build a function that does not overwrite the already present settings)\n",
    "- if required you can set the concentrations of some elements in some phases with the function ``spim.set_fixed_W()``. The name of the phases can be changed."
   ]
  },
  {
   "cell_type": "code",
   "execution_count": 231,
   "metadata": {},
   "outputs": [],
   "source": [
    "spim = hs.load(\"../generated_datasets/FpBrgCaPv_N293_paper_/sample_5.hspy\")\n",
    "\n",
    "# spim.axes_manager[-1].offset = 12000\n",
    "spim.set_signal_type(\"EDS_ESMPY\")\n",
    "spim.set_analysis_parameters(beam_energy = 200,\n",
    "azimuth_angle = 0.0,\n",
    "elevation_angle = 22.0,\n",
    "tilt_stage = 0.0,\n",
    "elements = [\"Si\",\"Mg\",\"Fe\"],\n",
    "thickness = 200e-7,\n",
    "density = 3.5,\n",
    "detector_type = \"SDD_efficiency.txt\",\n",
    "width_slope = 0.01,\n",
    "width_intercept = 0.065,\n",
    "xray_db = \"default_xrays.json\")\n",
    "G = spim.build_G(\"bremsstrahlung\", norm = True)\n",
    "fW = spim.set_fixed_W({\"p0\" : {\"Si\" : 0.0},\"p1\" : {\"Fe\" : 0.0}, \"p2\" : {\"Mg\" : 0.0}})"
   ]
  },
  {
   "cell_type": "markdown",
   "metadata": {},
   "source": [
    "# Problem solving\n",
    "\n",
    "Full hyperspy syntax\n",
    "\n",
    "## Loading analysis parameters"
   ]
  },
  {
   "cell_type": "code",
   "execution_count": 232,
   "metadata": {},
   "outputs": [
    {
     "name": "stdout",
     "output_type": "stream",
     "text": [
      "<bound method EDS_ESMPY.update_G of <EDS_ESMPY, title: , dimensions: (64, 64|500)>>\n"
     ]
    }
   ],
   "source": [
    "G = spim.build_G(\"bremsstrahlung\", norm = True)\n",
    "shape_2d = spim.shape_2d\n",
    "phases = spim.phases\n",
    "maps = spim.maps\n",
    "print(G)\n",
    "est = SmoothNMF( n_components = 3,tol=0.000001, max_iter = 1000, G = None, mu=0, lambda_L=0,  force_simplex=False) #  true_D = phases, true_A = weights"
   ]
  },
  {
   "cell_type": "markdown",
   "metadata": {},
   "source": [
    "## Calculating the decomposition\n",
    "\n",
    "/!\\ Depending on the parameters you choose and the size of the data it might take a while"
   ]
  },
  {
   "cell_type": "code",
   "execution_count": 233,
   "metadata": {},
   "outputs": [
    {
     "ename": "TypeError",
     "evalue": "To perform a decomposition the data must be of the float or complex type, but the current type is 'int64'. To fix this issue, you can change the type using the change_dtype method (e.g. s.change_dtype('float64')) and then repeat the decomposition.\nNo decomposition was performed.",
     "output_type": "error",
     "traceback": [
      "\u001b[0;31m---------------------------------------------------------------------------\u001b[0m",
      "\u001b[0;31mTypeError\u001b[0m                                 Traceback (most recent call last)",
      "\u001b[1;32m/Users/maxmartinezruts/Documents/GitHub/esmpy/notebooks/api.ipynb Cell 10'\u001b[0m in \u001b[0;36m<cell line: 1>\u001b[0;34m()\u001b[0m\n\u001b[0;32m----> <a href='vscode-notebook-cell:/Users/maxmartinezruts/Documents/GitHub/esmpy/notebooks/api.ipynb#ch0000009?line=0'>1</a>\u001b[0m out \u001b[39m=\u001b[39m spim\u001b[39m.\u001b[39;49mdecomposition(algorithm \u001b[39m=\u001b[39;49m est, return_info\u001b[39m=\u001b[39;49m\u001b[39mTrue\u001b[39;49;00m)\n",
      "File \u001b[0;32m~/.local/share/virtualenvs/esmpy-kBfF6zeU/lib/python3.8/site-packages/hyperspy/learn/mva.py:237\u001b[0m, in \u001b[0;36mMVA.decomposition\u001b[0;34m(self, normalize_poissonian_noise, algorithm, output_dimension, centre, auto_transpose, navigation_mask, signal_mask, var_array, var_func, reproject, return_info, print_info, svd_solver, copy, **kwargs)\u001b[0m\n\u001b[1;32m    <a href='file:///~/.local/share/virtualenvs/esmpy-kBfF6zeU/lib/python3.8/site-packages/hyperspy/learn/mva.py?line=234'>235</a>\u001b[0m \u001b[39m# Check data is suitable for decomposition\u001b[39;00m\n\u001b[1;32m    <a href='file:///~/.local/share/virtualenvs/esmpy-kBfF6zeU/lib/python3.8/site-packages/hyperspy/learn/mva.py?line=235'>236</a>\u001b[0m \u001b[39mif\u001b[39;00m \u001b[39mself\u001b[39m\u001b[39m.\u001b[39mdata\u001b[39m.\u001b[39mdtype\u001b[39m.\u001b[39mchar \u001b[39mnot\u001b[39;00m \u001b[39min\u001b[39;00m np\u001b[39m.\u001b[39mtypecodes[\u001b[39m\"\u001b[39m\u001b[39mAllFloat\u001b[39m\u001b[39m\"\u001b[39m]:\n\u001b[0;32m--> <a href='file:///~/.local/share/virtualenvs/esmpy-kBfF6zeU/lib/python3.8/site-packages/hyperspy/learn/mva.py?line=236'>237</a>\u001b[0m     \u001b[39mraise\u001b[39;00m \u001b[39mTypeError\u001b[39;00m(\n\u001b[1;32m    <a href='file:///~/.local/share/virtualenvs/esmpy-kBfF6zeU/lib/python3.8/site-packages/hyperspy/learn/mva.py?line=237'>238</a>\u001b[0m         \u001b[39m\"\u001b[39m\u001b[39mTo perform a decomposition the data must be of the \u001b[39m\u001b[39m\"\u001b[39m\n\u001b[1;32m    <a href='file:///~/.local/share/virtualenvs/esmpy-kBfF6zeU/lib/python3.8/site-packages/hyperspy/learn/mva.py?line=238'>239</a>\u001b[0m         \u001b[39mf\u001b[39m\u001b[39m\"\u001b[39m\u001b[39mfloat or complex type, but the current type is \u001b[39m\u001b[39m'\u001b[39m\u001b[39m{\u001b[39;00m\u001b[39mself\u001b[39m\u001b[39m.\u001b[39mdata\u001b[39m.\u001b[39mdtype\u001b[39m}\u001b[39;00m\u001b[39m'\u001b[39m\u001b[39m. \u001b[39m\u001b[39m\"\u001b[39m\n\u001b[1;32m    <a href='file:///~/.local/share/virtualenvs/esmpy-kBfF6zeU/lib/python3.8/site-packages/hyperspy/learn/mva.py?line=239'>240</a>\u001b[0m         \u001b[39m\"\u001b[39m\u001b[39mTo fix this issue, you can change the type using the \u001b[39m\u001b[39m\"\u001b[39m\n\u001b[1;32m    <a href='file:///~/.local/share/virtualenvs/esmpy-kBfF6zeU/lib/python3.8/site-packages/hyperspy/learn/mva.py?line=240'>241</a>\u001b[0m         \u001b[39m\"\u001b[39m\u001b[39mchange_dtype method (e.g. s.change_dtype(\u001b[39m\u001b[39m'\u001b[39m\u001b[39mfloat64\u001b[39m\u001b[39m'\u001b[39m\u001b[39m)) \u001b[39m\u001b[39m\"\u001b[39m\n\u001b[1;32m    <a href='file:///~/.local/share/virtualenvs/esmpy-kBfF6zeU/lib/python3.8/site-packages/hyperspy/learn/mva.py?line=241'>242</a>\u001b[0m         \u001b[39m\"\u001b[39m\u001b[39mand then repeat the decomposition.\u001b[39m\u001b[39m\\n\u001b[39;00m\u001b[39m\"\u001b[39m\n\u001b[1;32m    <a href='file:///~/.local/share/virtualenvs/esmpy-kBfF6zeU/lib/python3.8/site-packages/hyperspy/learn/mva.py?line=242'>243</a>\u001b[0m         \u001b[39m\"\u001b[39m\u001b[39mNo decomposition was performed.\u001b[39m\u001b[39m\"\u001b[39m\n\u001b[1;32m    <a href='file:///~/.local/share/virtualenvs/esmpy-kBfF6zeU/lib/python3.8/site-packages/hyperspy/learn/mva.py?line=243'>244</a>\u001b[0m     )\n\u001b[1;32m    <a href='file:///~/.local/share/virtualenvs/esmpy-kBfF6zeU/lib/python3.8/site-packages/hyperspy/learn/mva.py?line=245'>246</a>\u001b[0m \u001b[39mif\u001b[39;00m \u001b[39mself\u001b[39m\u001b[39m.\u001b[39maxes_manager\u001b[39m.\u001b[39mnavigation_size \u001b[39m<\u001b[39m \u001b[39m2\u001b[39m:\n\u001b[1;32m    <a href='file:///~/.local/share/virtualenvs/esmpy-kBfF6zeU/lib/python3.8/site-packages/hyperspy/learn/mva.py?line=246'>247</a>\u001b[0m     \u001b[39mraise\u001b[39;00m \u001b[39mAttributeError\u001b[39;00m(\n\u001b[1;32m    <a href='file:///~/.local/share/virtualenvs/esmpy-kBfF6zeU/lib/python3.8/site-packages/hyperspy/learn/mva.py?line=247'>248</a>\u001b[0m         \u001b[39m\"\u001b[39m\u001b[39mIt is not possible to decompose a dataset with navigation_size < 2\u001b[39m\u001b[39m\"\u001b[39m\n\u001b[1;32m    <a href='file:///~/.local/share/virtualenvs/esmpy-kBfF6zeU/lib/python3.8/site-packages/hyperspy/learn/mva.py?line=248'>249</a>\u001b[0m     )\n",
      "\u001b[0;31mTypeError\u001b[0m: To perform a decomposition the data must be of the float or complex type, but the current type is 'int64'. To fix this issue, you can change the type using the change_dtype method (e.g. s.change_dtype('float64')) and then repeat the decomposition.\nNo decomposition was performed."
     ]
    }
   ],
   "source": [
    "out = spim.decomposition(algorithm = est, return_info=True)"
   ]
  },
  {
   "cell_type": "markdown",
   "metadata": {},
   "source": [
    "## Getting the losses and the results of the decomposition\n",
    "\n",
    "- First cell : Printing the resulting concentrations.\n",
    "- Second cell : Ploting the resulting spectra\n",
    "- Thrid cell : Ploting the resulting abundances"
   ]
  },
  {
   "cell_type": "code",
   "execution_count": 234,
   "metadata": {},
   "outputs": [
    {
     "ename": "AttributeError",
     "evalue": "'SmoothNMF' object has no attribute 'W_'",
     "output_type": "error",
     "traceback": [
      "\u001b[0;31m---------------------------------------------------------------------------\u001b[0m",
      "\u001b[0;31mAttributeError\u001b[0m                            Traceback (most recent call last)",
      "\u001b[1;32m/Users/maxmartinezruts/Documents/GitHub/esmpy/notebooks/api.ipynb Cell 12'\u001b[0m in \u001b[0;36m<cell line: 1>\u001b[0;34m()\u001b[0m\n\u001b[0;32m----> <a href='vscode-notebook-cell:/Users/maxmartinezruts/Documents/GitHub/esmpy/notebooks/api.ipynb#ch0000011?line=0'>1</a>\u001b[0m print_concentrations_from_W(est\u001b[39m.\u001b[39;49mW_, elements \u001b[39m=\u001b[39m spim\u001b[39m.\u001b[39mmetadata\u001b[39m.\u001b[39mSample\u001b[39m.\u001b[39melements)\n",
      "\u001b[0;31mAttributeError\u001b[0m: 'SmoothNMF' object has no attribute 'W_'"
     ]
    }
   ],
   "source": [
    "print_concentrations_from_W(est.W_, elements = spim.metadata.Sample.elements)"
   ]
  },
  {
   "cell_type": "code",
   "execution_count": 235,
   "metadata": {},
   "outputs": [
    {
     "ename": "RuntimeError",
     "evalue": "No learning results found. A 'decomposition' needs to be performed first.",
     "output_type": "error",
     "traceback": [
      "\u001b[0;31m---------------------------------------------------------------------------\u001b[0m",
      "\u001b[0;31mRuntimeError\u001b[0m                              Traceback (most recent call last)",
      "\u001b[1;32m/Users/maxmartinezruts/Documents/GitHub/esmpy/notebooks/api.ipynb Cell 13'\u001b[0m in \u001b[0;36m<cell line: 1>\u001b[0;34m()\u001b[0m\n\u001b[0;32m----> <a href='vscode-notebook-cell:/Users/maxmartinezruts/Documents/GitHub/esmpy/notebooks/api.ipynb#ch0000012?line=0'>1</a>\u001b[0m spim\u001b[39m.\u001b[39;49mplot_decomposition_loadings(\u001b[39m3\u001b[39;49m)\n",
      "File \u001b[0;32m~/.local/share/virtualenvs/esmpy-kBfF6zeU/lib/python3.8/site-packages/hyperspy/signal.py:977\u001b[0m, in \u001b[0;36mMVATools.plot_decomposition_loadings\u001b[0;34m(self, comp_ids, calibrate, same_window, title, with_factors, cmap, no_nans, per_row, axes_decor, **kwargs)\u001b[0m\n\u001b[1;32m    <a href='file:///~/.local/share/virtualenvs/esmpy-kBfF6zeU/lib/python3.8/site-packages/hyperspy/signal.py?line=971'>972</a>\u001b[0m     \u001b[39mraise\u001b[39;00m \u001b[39mNotImplementedError\u001b[39;00m(\u001b[39m\"\u001b[39m\u001b[39mThis method cannot plot loadings of \u001b[39m\u001b[39m\"\u001b[39m\n\u001b[1;32m    <a href='file:///~/.local/share/virtualenvs/esmpy-kBfF6zeU/lib/python3.8/site-packages/hyperspy/signal.py?line=972'>973</a>\u001b[0m                               \u001b[39m\"\u001b[39m\u001b[39mdimension higher than 2.\u001b[39m\u001b[39m\"\u001b[39m\n\u001b[1;32m    <a href='file:///~/.local/share/virtualenvs/esmpy-kBfF6zeU/lib/python3.8/site-packages/hyperspy/signal.py?line=973'>974</a>\u001b[0m                               \u001b[39m\"\u001b[39m\u001b[39mYou can use \u001b[39m\u001b[39m\"\u001b[39m\n\u001b[1;32m    <a href='file:///~/.local/share/virtualenvs/esmpy-kBfF6zeU/lib/python3.8/site-packages/hyperspy/signal.py?line=974'>975</a>\u001b[0m                               \u001b[39m\"\u001b[39m\u001b[39m`plot_decomposition_results` instead.\u001b[39m\u001b[39m\"\u001b[39m)\n\u001b[1;32m    <a href='file:///~/.local/share/virtualenvs/esmpy-kBfF6zeU/lib/python3.8/site-packages/hyperspy/signal.py?line=975'>976</a>\u001b[0m \u001b[39mif\u001b[39;00m \u001b[39mself\u001b[39m\u001b[39m.\u001b[39mlearning_results\u001b[39m.\u001b[39mloadings \u001b[39mis\u001b[39;00m \u001b[39mNone\u001b[39;00m:\n\u001b[0;32m--> <a href='file:///~/.local/share/virtualenvs/esmpy-kBfF6zeU/lib/python3.8/site-packages/hyperspy/signal.py?line=976'>977</a>\u001b[0m     \u001b[39mraise\u001b[39;00m \u001b[39mRuntimeError\u001b[39;00m(\u001b[39m\"\u001b[39m\u001b[39mNo learning results found. A \u001b[39m\u001b[39m'\u001b[39m\u001b[39mdecomposition\u001b[39m\u001b[39m'\u001b[39m\u001b[39m \u001b[39m\u001b[39m\"\u001b[39m\n\u001b[1;32m    <a href='file:///~/.local/share/virtualenvs/esmpy-kBfF6zeU/lib/python3.8/site-packages/hyperspy/signal.py?line=977'>978</a>\u001b[0m                        \u001b[39m\"\u001b[39m\u001b[39mneeds to be performed first.\u001b[39m\u001b[39m\"\u001b[39m)\n\u001b[1;32m    <a href='file:///~/.local/share/virtualenvs/esmpy-kBfF6zeU/lib/python3.8/site-packages/hyperspy/signal.py?line=978'>979</a>\u001b[0m \u001b[39mif\u001b[39;00m same_window \u001b[39mis\u001b[39;00m \u001b[39mNone\u001b[39;00m:\n\u001b[1;32m    <a href='file:///~/.local/share/virtualenvs/esmpy-kBfF6zeU/lib/python3.8/site-packages/hyperspy/signal.py?line=979'>980</a>\u001b[0m     same_window \u001b[39m=\u001b[39m \u001b[39mTrue\u001b[39;00m\n",
      "\u001b[0;31mRuntimeError\u001b[0m: No learning results found. A 'decomposition' needs to be performed first."
     ]
    }
   ],
   "source": [
    "spim.plot_decomposition_loadings(3)"
   ]
  },
  {
   "cell_type": "code",
   "execution_count": 236,
   "metadata": {},
   "outputs": [
    {
     "ename": "RuntimeError",
     "evalue": "No learning results found. A 'decomposition' needs to be performed first.",
     "output_type": "error",
     "traceback": [
      "\u001b[0;31m---------------------------------------------------------------------------\u001b[0m",
      "\u001b[0;31mRuntimeError\u001b[0m                              Traceback (most recent call last)",
      "\u001b[1;32m/Users/maxmartinezruts/Documents/GitHub/esmpy/notebooks/api.ipynb Cell 14'\u001b[0m in \u001b[0;36m<cell line: 1>\u001b[0;34m()\u001b[0m\n\u001b[0;32m----> <a href='vscode-notebook-cell:/Users/maxmartinezruts/Documents/GitHub/esmpy/notebooks/api.ipynb#ch0000013?line=0'>1</a>\u001b[0m spim\u001b[39m.\u001b[39;49mplot_decomposition_factors(\u001b[39m3\u001b[39;49m)\n",
      "File \u001b[0;32m~/.local/share/virtualenvs/esmpy-kBfF6zeU/lib/python3.8/site-packages/hyperspy/signal.py:811\u001b[0m, in \u001b[0;36mMVATools.plot_decomposition_factors\u001b[0;34m(self, comp_ids, calibrate, same_window, title, cmap, per_row, **kwargs)\u001b[0m\n\u001b[1;32m    <a href='file:///~/.local/share/virtualenvs/esmpy-kBfF6zeU/lib/python3.8/site-packages/hyperspy/signal.py?line=805'>806</a>\u001b[0m     \u001b[39mraise\u001b[39;00m \u001b[39mNotImplementedError\u001b[39;00m(\u001b[39m\"\u001b[39m\u001b[39mThis method cannot plot factors of \u001b[39m\u001b[39m\"\u001b[39m\n\u001b[1;32m    <a href='file:///~/.local/share/virtualenvs/esmpy-kBfF6zeU/lib/python3.8/site-packages/hyperspy/signal.py?line=806'>807</a>\u001b[0m                               \u001b[39m\"\u001b[39m\u001b[39msignals of dimension higher than 2.\u001b[39m\u001b[39m\"\u001b[39m\n\u001b[1;32m    <a href='file:///~/.local/share/virtualenvs/esmpy-kBfF6zeU/lib/python3.8/site-packages/hyperspy/signal.py?line=807'>808</a>\u001b[0m                               \u001b[39m\"\u001b[39m\u001b[39mYou can use \u001b[39m\u001b[39m\"\u001b[39m\n\u001b[1;32m    <a href='file:///~/.local/share/virtualenvs/esmpy-kBfF6zeU/lib/python3.8/site-packages/hyperspy/signal.py?line=808'>809</a>\u001b[0m                               \u001b[39m\"\u001b[39m\u001b[39m`plot_decomposition_results` instead.\u001b[39m\u001b[39m\"\u001b[39m)\n\u001b[1;32m    <a href='file:///~/.local/share/virtualenvs/esmpy-kBfF6zeU/lib/python3.8/site-packages/hyperspy/signal.py?line=809'>810</a>\u001b[0m \u001b[39mif\u001b[39;00m \u001b[39mself\u001b[39m\u001b[39m.\u001b[39mlearning_results\u001b[39m.\u001b[39mfactors \u001b[39mis\u001b[39;00m \u001b[39mNone\u001b[39;00m:\n\u001b[0;32m--> <a href='file:///~/.local/share/virtualenvs/esmpy-kBfF6zeU/lib/python3.8/site-packages/hyperspy/signal.py?line=810'>811</a>\u001b[0m     \u001b[39mraise\u001b[39;00m \u001b[39mRuntimeError\u001b[39;00m(\u001b[39m\"\u001b[39m\u001b[39mNo learning results found. A \u001b[39m\u001b[39m'\u001b[39m\u001b[39mdecomposition\u001b[39m\u001b[39m'\u001b[39m\u001b[39m \u001b[39m\u001b[39m\"\u001b[39m\n\u001b[1;32m    <a href='file:///~/.local/share/virtualenvs/esmpy-kBfF6zeU/lib/python3.8/site-packages/hyperspy/signal.py?line=811'>812</a>\u001b[0m                        \u001b[39m\"\u001b[39m\u001b[39mneeds to be performed first.\u001b[39m\u001b[39m\"\u001b[39m)\n\u001b[1;32m    <a href='file:///~/.local/share/virtualenvs/esmpy-kBfF6zeU/lib/python3.8/site-packages/hyperspy/signal.py?line=812'>813</a>\u001b[0m \u001b[39mif\u001b[39;00m same_window \u001b[39mis\u001b[39;00m \u001b[39mNone\u001b[39;00m:\n\u001b[1;32m    <a href='file:///~/.local/share/virtualenvs/esmpy-kBfF6zeU/lib/python3.8/site-packages/hyperspy/signal.py?line=813'>814</a>\u001b[0m     same_window \u001b[39m=\u001b[39m \u001b[39mTrue\u001b[39;00m\n",
      "\u001b[0;31mRuntimeError\u001b[0m: No learning results found. A 'decomposition' needs to be performed first."
     ]
    }
   ],
   "source": [
    "spim.plot_decomposition_factors(3)"
   ]
  },
  {
   "cell_type": "markdown",
   "metadata": {},
   "source": [
    "# Problem Solving\n",
    "\n",
    "With the usual scikit use"
   ]
  },
  {
   "cell_type": "code",
   "execution_count": 249,
   "metadata": {},
   "outputs": [],
   "source": [
    "G = spim.build_G(\"bremsstrahlung\")\n",
    "shape_2d = spim.shape_2d\n",
    "# phases, weights = spim.phases, spim.weights\n",
    "X = spim.X\n",
    "est = SmoothNMF( n_components = 3,tol=0.000001, max_iter = 1000, G = None, lambda_L= 0, mu=0, force_simplex=False)"
   ]
  },
  {
   "cell_type": "code",
   "execution_count": 250,
   "metadata": {},
   "outputs": [
    {
     "name": "stdout",
     "output_type": "stream",
     "text": [
      "(500, 64, 64)\n"
     ]
    }
   ],
   "source": [
    "pixels_side = 64\n",
    "\n",
    "Ximg = X.reshape((-1, pixels_side,pixels_side))\n",
    "print(Ximg.shape)"
   ]
  },
  {
   "cell_type": "code",
   "execution_count": null,
   "metadata": {},
   "outputs": [],
   "source": []
  },
  {
   "cell_type": "code",
   "execution_count": 251,
   "metadata": {},
   "outputs": [
    {
     "name": "stdout",
     "output_type": "stream",
     "text": [
      "(500, 64)\n",
      "3\n",
      "It 10 / 1000: loss 0.008,  152.230 it/s\n",
      "It 20 / 1000: loss 0.008,  195.921 it/s\n",
      "It 30 / 1000: loss 0.008,  222.997 it/s\n",
      "It 40 / 1000: loss 0.008,  241.488 it/s\n"
     ]
    },
    {
     "name": "stderr",
     "output_type": "stream",
     "text": [
      "/Users/maxmartinezruts/.local/share/virtualenvs/esmpy-kBfF6zeU/lib/python3.8/site-packages/sklearn/decomposition/_nmf.py:289: FutureWarning: The 'init' value, when 'init=None' and n_components is less than n_samples and n_features, will be changed from 'nndsvd' to 'nndsvda' in 1.1 (renaming of 0.26).\n",
      "  warnings.warn(\n"
     ]
    },
    {
     "name": "stdout",
     "output_type": "stream",
     "text": [
      "It 50 / 1000: loss 0.008,  250.647 it/s\n",
      "It 60 / 1000: loss 0.008,  259.340 it/s\n",
      "It 70 / 1000: loss 0.008,  257.538 it/s\n",
      "It 80 / 1000: loss 0.008,  250.887 it/s\n",
      "It 90 / 1000: loss 0.008,  254.733 it/s\n",
      "It 100 / 1000: loss 0.008,  262.358 it/s\n",
      "It 110 / 1000: loss 0.008,  272.452 it/s\n",
      "It 120 / 1000: loss 0.008,  278.930 it/s\n",
      "It 130 / 1000: loss 0.008,  282.475 it/s\n",
      "It 140 / 1000: loss 0.008,  288.089 it/s\n",
      "It 150 / 1000: loss 0.008,  293.950 it/s\n",
      "It 160 / 1000: loss 0.008,  298.908 it/s\n",
      "It 170 / 1000: loss 0.008,  303.778 it/s\n",
      "It 180 / 1000: loss 0.008,  307.921 it/s\n",
      "It 190 / 1000: loss 0.008,  311.957 it/s\n",
      "It 200 / 1000: loss 0.008,  314.019 it/s\n",
      "It 210 / 1000: loss 0.008,  316.136 it/s\n",
      "It 220 / 1000: loss 0.008,  319.324 it/s\n",
      "It 230 / 1000: loss 0.008,  320.259 it/s\n",
      "It 240 / 1000: loss 0.008,  323.644 it/s\n",
      "It 250 / 1000: loss 0.008,  325.682 it/s\n",
      "It 260 / 1000: loss 0.008,  328.457 it/s\n",
      "It 270 / 1000: loss 0.008,  332.663 it/s\n",
      "It 280 / 1000: loss 0.008,  332.399 it/s\n",
      "It 290 / 1000: loss 0.008,  331.770 it/s\n",
      "It 300 / 1000: loss 0.008,  333.819 it/s\n",
      "It 310 / 1000: loss 0.008,  337.162 it/s\n",
      "It 320 / 1000: loss 0.008,  337.296 it/s\n",
      "It 330 / 1000: loss 0.008,  339.430 it/s\n",
      "It 340 / 1000: loss 0.008,  341.507 it/s\n",
      "It 350 / 1000: loss 0.008,  343.515 it/s\n",
      "It 360 / 1000: loss 0.008,  343.144 it/s\n",
      "It 370 / 1000: loss 0.008,  344.259 it/s\n",
      "It 380 / 1000: loss 0.008,  345.474 it/s\n",
      "It 390 / 1000: loss 0.008,  346.306 it/s\n",
      "It 400 / 1000: loss 0.008,  347.530 it/s\n",
      "It 410 / 1000: loss 0.008,  349.944 it/s\n",
      "It 420 / 1000: loss 0.008,  351.819 it/s\n",
      "It 430 / 1000: loss 0.008,  353.187 it/s\n",
      "It 440 / 1000: loss 0.008,  354.222 it/s\n",
      "It 450 / 1000: loss 0.008,  354.533 it/s\n",
      "It 460 / 1000: loss 0.008,  355.981 it/s\n",
      "It 470 / 1000: loss 0.008,  356.282 it/s\n",
      "It 480 / 1000: loss 0.008,  356.405 it/s\n",
      "It 490 / 1000: loss 0.008,  357.099 it/s\n",
      "It 500 / 1000: loss 0.008,  357.371 it/s\n",
      "It 510 / 1000: loss 0.008,  358.741 it/s\n",
      "It 520 / 1000: loss 0.008,  359.236 it/s\n",
      "It 530 / 1000: loss 0.008,  359.253 it/s\n",
      "It 540 / 1000: loss 0.008,  359.643 it/s\n",
      "exits because of relative change < tol: 1.1878063876423778e-06\n",
      "Stopped after 542 iterations in 0.0 minutes and 2.0 seconds.\n"
     ]
    },
    {
     "ename": "TypeError",
     "evalue": "downsample() missing 1 required positional argument: 'n'",
     "output_type": "error",
     "traceback": [
      "\u001b[0;31m---------------------------------------------------------------------------\u001b[0m",
      "\u001b[0;31mTypeError\u001b[0m                                 Traceback (most recent call last)",
      "\u001b[1;32m/Users/maxmartinezruts/Documents/GitHub/esmpy/notebooks/api.ipynb Cell 19'\u001b[0m in \u001b[0;36m<cell line: 2>\u001b[0;34m()\u001b[0m\n\u001b[1;32m      <a href='vscode-notebook-cell:/Users/maxmartinezruts/Documents/GitHub/esmpy/notebooks/api.ipynb#ch0000017?line=7'>8</a>\u001b[0m Hflat \u001b[39m=\u001b[39m est\u001b[39m.\u001b[39mH_\n\u001b[1;32m      <a href='vscode-notebook-cell:/Users/maxmartinezruts/Documents/GitHub/esmpy/notebooks/api.ipynb#ch0000017?line=8'>9</a>\u001b[0m W \u001b[39m=\u001b[39m est\u001b[39m.\u001b[39mW_\n\u001b[0;32m---> <a href='vscode-notebook-cell:/Users/maxmartinezruts/Documents/GitHub/esmpy/notebooks/api.ipynb#ch0000017?line=11'>12</a>\u001b[0m plot_results(spim\u001b[39m.\u001b[39mphases, W, downsample_flat(spim\u001b[39m.\u001b[39;49mmaps,n), Hflat, pixels_side\u001b[39m/\u001b[39m\u001b[39m/\u001b[39mn)\n",
      "\u001b[1;32m/Users/maxmartinezruts/Documents/GitHub/esmpy/notebooks/api.ipynb Cell 20'\u001b[0m in \u001b[0;36mdownsample_flat\u001b[0;34m(X, n)\u001b[0m\n\u001b[1;32m      <a href='vscode-notebook-cell:/Users/maxmartinezruts/Documents/GitHub/esmpy/notebooks/api.ipynb#ch0000021?line=4'>5</a>\u001b[0m \u001b[39mdef\u001b[39;00m \u001b[39mdownsample_flat\u001b[39m(X,n):\n\u001b[1;32m      <a href='vscode-notebook-cell:/Users/maxmartinezruts/Documents/GitHub/esmpy/notebooks/api.ipynb#ch0000021?line=5'>6</a>\u001b[0m     X \u001b[39m=\u001b[39m X\u001b[39m.\u001b[39mreshape((\u001b[39m-\u001b[39m\u001b[39m1\u001b[39m, pixels_side,pixels_side))\n\u001b[0;32m----> <a href='vscode-notebook-cell:/Users/maxmartinezruts/Documents/GitHub/esmpy/notebooks/api.ipynb#ch0000021?line=6'>7</a>\u001b[0m     X \u001b[39m=\u001b[39m downsample(X)\n\u001b[1;32m      <a href='vscode-notebook-cell:/Users/maxmartinezruts/Documents/GitHub/esmpy/notebooks/api.ipynb#ch0000021?line=7'>8</a>\u001b[0m     \u001b[39mreturn\u001b[39;00m X\u001b[39m.\u001b[39mreshape((\u001b[39m-\u001b[39m\u001b[39m1\u001b[39m, pixels_side\u001b[39m*\u001b[39mpixels_side\u001b[39m/\u001b[39m\u001b[39m/\u001b[39mn\u001b[39m/\u001b[39m\u001b[39m/\u001b[39mn))\n",
      "\u001b[0;31mTypeError\u001b[0m: downsample() missing 1 required positional argument: 'n'"
     ]
    }
   ],
   "source": [
    "downsampling_factors = [8,4,2,1]\n",
    "for i in range(len(downsampling_factors)):\n",
    "    n = downsampling_factors[i]\n",
    "    X_ = downsample(Ximg,n)\n",
    "    Xflat = X_.reshape((X_.shape[0], -1))\n",
    "    print(Xflat.shape)\n",
    "    D = est.fit_transform(Xflat)\n",
    "    Hflat = est.H_\n",
    "    W = est.W_\n",
    " \n",
    "\n",
    "    plot_results(spim.phases, W, downsample_flat(spim.maps,n), Hflat, pixels_side//n)"
   ]
  },
  {
   "cell_type": "code",
   "execution_count": 244,
   "metadata": {},
   "outputs": [],
   "source": [
    "def downsample(X,n):\n",
    "    b = X.shape[2]//n\n",
    "    return X.reshape(X.shape[0], -1, n, b, n).sum((-1, -3)) /(n*n)\n",
    "\n",
    "def downsample_flat(X,n):\n",
    "    X = X.reshape((-1, pixels_side,pixels_side))\n",
    "    X = downsample(X)\n",
    "    return X.reshape((-1, pixels_side*pixels_side//n//n))\n"
   ]
  },
  {
   "cell_type": "code",
   "execution_count": 245,
   "metadata": {},
   "outputs": [],
   "source": [
    "from esmpy.measures import find_min_angle, find_min_MSE, ordered_mse\n",
    "\n",
    "def plot_results(Ddot, D, Hdotflat, Hflat, n_pixel_side):\n",
    "    fontsize = 30\n",
    "    scale = 15\n",
    "    aspect_ratio = 1.4\n",
    "    marker_list = [\"-o\",\"-s\",\"->\",\"-<\",\"-^\",\"-v\",\"-d\"]\n",
    "    mark_space = 20\n",
    "    # cmap = plt.cm.hot_r    \n",
    "    cmap = plt.cm.gray_r\n",
    "    vmax = 1\n",
    "    vmin = 0\n",
    "    K = len(H)\n",
    "    L = len(D)\n",
    "    \n",
    "    angles, true_inds = find_min_angle(Ddot.T, D.T, unique=True, get_ind=True)\n",
    "    mse = ordered_mse(Hdotflat, Hflat, true_inds)\n",
    "\n",
    "\n",
    "    fig, axes = plt.subplots(K,3,figsize = (scale/K * 3 * aspect_ratio,scale))\n",
    "    x = np.linspace(0,1, num = L)\n",
    "    for i in range(K): \n",
    "        axes[2,i].plot(x,Ddot.T[i,:],'bo',label='truth',linewidth=4)\n",
    "        axes[2,i].plot(x,D[:,true_inds[i]],'r-',label='reconstructed',markersize=3.5)\n",
    "        axes[2,i].set_title(\"{:.2f} deg\".format(angles[i]),fontsize = fontsize-2)\n",
    "        axes[2,i].set_xlim(0,1)\n",
    "\n",
    "        axes[1,i].imshow((Hflat[true_inds[i],:]).reshape(n_pixel_side,n_pixel_side),vmin = vmin, vmax = vmax , cmap=cmap)\n",
    "        axes[1,i].set_title(\"{:.2f} MSE\".format(mse[true_inds[i]]),fontsize = fontsize-2)\n",
    "        # axes[i,1].set_ylim(0.0,1.0)\n",
    "        axes[1,i].tick_params(axis = \"both\",labelleft = False, labelbottom = False,left = False, bottom = False)\n",
    "\n",
    "        im = axes[0,i].imshow(Hdotflat[i].reshape(n_pixel_side,n_pixel_side),vmin = vmin, vmax = vmax, cmap=cmap)\n",
    "        axes[0,i].set_title(\"Phase {}\".format(i),fontsize = fontsize)\n",
    "        axes[0,i].tick_params(axis = \"both\",labelleft = False, labelbottom = False,left = False, bottom = False)\n",
    "        axes[2,0].legend()\n",
    "\n",
    "    rows = [\"True maps\",\"Reconstructed maps\",\"Spectra\"]\n",
    "\n",
    "    for ax, row in zip(axes[:,0], rows):\n",
    "        ax.set_ylabel(row, rotation=90, fontsize=fontsize)\n",
    "\n",
    "\n",
    "    fig.subplots_adjust(right=0.84)\n",
    "    # put colorbar at desire position\n",
    "    cbar_ax = fig.add_axes([0.85, 0.5, 0.01, 0.3])\n",
    "    fig.colorbar(im,cax=cbar_ax)\n",
    "\n",
    "    # fig.tight_layout()\n",
    "\n",
    "    plt.show()"
   ]
  },
  {
   "cell_type": "code",
   "execution_count": null,
   "metadata": {},
   "outputs": [],
   "source": []
  }
 ],
 "metadata": {
  "interpreter": {
   "hash": "342b98c0ffcf4d5e9b3b22c1a98414178e5656fd2a3d3a7937deb5eeea7fa697"
  },
  "kernelspec": {
   "display_name": "Python 3",
   "language": "python",
   "name": "python3"
  },
  "language_info": {
   "codemirror_mode": {
    "name": "ipython",
    "version": 3
   },
   "file_extension": ".py",
   "mimetype": "text/x-python",
   "name": "python",
   "nbconvert_exporter": "python",
   "pygments_lexer": "ipython3",
   "version": "3.8.9"
  },
  "varInspector": {
   "cols": {
    "lenName": 16,
    "lenType": 16,
    "lenVar": 40
   },
   "kernels_config": {
    "python": {
     "delete_cmd_postfix": "",
     "delete_cmd_prefix": "del ",
     "library": "var_list.py",
     "varRefreshCmd": "print(var_dic_list())"
    },
    "r": {
     "delete_cmd_postfix": ") ",
     "delete_cmd_prefix": "rm(",
     "library": "var_list.r",
     "varRefreshCmd": "cat(var_dic_list()) "
    }
   },
   "types_to_exclude": [
    "module",
    "function",
    "builtin_function_or_method",
    "instance",
    "_Feature"
   ],
   "window_display": false
  }
 },
 "nbformat": 4,
 "nbformat_minor": 4
}
