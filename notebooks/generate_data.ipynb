{
 "metadata": {
  "language_info": {
   "codemirror_mode": {
    "name": "ipython",
    "version": 3
   },
   "file_extension": ".py",
   "mimetype": "text/x-python",
   "name": "python",
   "nbconvert_exporter": "python",
   "pygments_lexer": "ipython3",
   "version": "3.8.5"
  },
  "orig_nbformat": 4,
  "kernelspec": {
   "name": "python3",
   "display_name": "Python 3.8.5 64-bit ('SNMF_EDXS--pNpjmq1': pipenv)"
  },
  "interpreter": {
   "hash": "ae2bec25d04a58403981d6892379486339cbb2cd6f315f3a399785dd0e4b6656"
  }
 },
 "nbformat": 4,
 "nbformat_minor": 2,
 "cells": [
  {
   "cell_type": "code",
   "execution_count": null,
   "metadata": {},
   "outputs": [],
   "source": [
    "%load_ext autoreload\n",
    "%autoreload 2\n",
    "%matplotlib inline\n",
    "from snmfem.datasets.generate_weights import generate_weights\n",
    "from snmfem.datasets.generate_EDXS_phases import generate_random_phases, DEFAULT_PARAMS, unique_elts\n",
    "from snmfem.models import EDXS\n",
    "import matplotlib.pyplot as plt\n",
    "import math as m\n",
    "import numpy as np\n",
    "import json\n",
    "from snmfem.datasets import generate_dataset_from_json\n",
    "from pathlib import Path\n",
    "from snmfem.conf import SCRIPT_CONFIG_PATH"
   ]
  },
  {
   "source": [
    "# Generate weights\n",
    "## Inputs + weights generation"
   ],
   "cell_type": "markdown",
   "metadata": {}
  },
  {
   "cell_type": "code",
   "execution_count": null,
   "metadata": {},
   "outputs": [],
   "source": [
    "n_phases = 4\n",
    "seed = 42\n",
    "weights_dict = {\n",
    "    \"weight_type\" : \"sphere\",\n",
    "    \"shape_2D\" : [80,80],\n",
    "}\n",
    "\n",
    "weights = generate_weights(**weights_dict,n_phases=n_phases,seed=seed)\n"
   ]
  },
  {
   "source": [
    "## Plot of the weights"
   ],
   "cell_type": "markdown",
   "metadata": {}
  },
  {
   "cell_type": "code",
   "execution_count": null,
   "metadata": {},
   "outputs": [],
   "source": [
    "size = weights_dict[\"shape_2D\"][0]\n",
    "fig,axs = plt.subplots(1,n_phases,figsize = (size,size*n_phases))\n",
    "for j in range(axs.shape[0]) :\n",
    "        im = axs[j].imshow(weights[:,:,j],vmin = 0, vmax = 1.0)\n",
    "        axs[j].tick_params(axis = \"both\",labelbottom = False,labelleft = False) \n",
    "        axs[j].set_title(\"Phase {}\".format(j),fontsize = 22)\n",
    "\n",
    "fig.subplots_adjust(right=0.84)\n",
    "# put colorbar at desire position\n",
    "cbar_ax = fig.add_axes([0.85, 0.49, 0.01, 0.025])\n",
    "fig.colorbar(im,cax=cbar_ax)\n",
    "cbar_ax.tick_params(labelsize=22)\n"
   ]
  },
  {
   "source": [
    "# Generate phases\n",
    "## Phases generation"
   ],
   "cell_type": "markdown",
   "metadata": {}
  },
  {
   "cell_type": "code",
   "execution_count": null,
   "metadata": {},
   "outputs": [],
   "source": [
    "phases, phases_dicts = generate_random_phases(n_phases,seed)"
   ]
  },
  {
   "source": [
    "## Plot of the phases"
   ],
   "cell_type": "markdown",
   "metadata": {}
  },
  {
   "cell_type": "code",
   "execution_count": null,
   "metadata": {},
   "outputs": [],
   "source": [
    "size = 10\n",
    "fig,axs = plt.subplots(1,n_phases,figsize = (size*n_phases,size))\n",
    "\n",
    "x = np.linspace(\n",
    "    DEFAULT_PARAMS[\"e_offset\"],\n",
    "    DEFAULT_PARAMS[\"e_offset\"]+DEFAULT_PARAMS[\"e_scale\"]*DEFAULT_PARAMS[\"e_size\"],\n",
    "    num=DEFAULT_PARAMS[\"e_size\"])\n",
    "\n",
    "for j in range(axs.shape[0]) :\n",
    "    axs[j].plot(x,phases[j])\n",
    "    axs[j].set_title(\"Phase {}\".format(j),fontsize = 22)\n"
   ]
  },
  {
   "source": [
    "# Generate Data\n",
    "## Input + json generation"
   ],
   "cell_type": "markdown",
   "metadata": {}
  },
  {
   "cell_type": "code",
   "execution_count": null,
   "metadata": {},
   "outputs": [],
   "source": [
    "np.random.seed(seed)\n",
    "data_dict = {\n",
    "    \"N\" : 100,\n",
    "    \"densities\" : list(3*np.random.rand(n_phases)),\n",
    "    \"data_folder\" : \"aspim039_random_phases\",\n",
    "    \"seeds_range\" : 10\n",
    "}\n",
    "\n",
    "json_filename = SCRIPT_CONFIG_PATH / Path(\"EDXS_data_rand_phases.json\")"
   ]
  },
  {
   "source": [
    "## Save the json and generate the data"
   ],
   "cell_type": "markdown",
   "metadata": {}
  },
  {
   "cell_type": "code",
   "execution_count": null,
   "metadata": {},
   "outputs": [],
   "source": [
    "g_params = {\n",
    "    \"brstlg\" : True,\n",
    "    \"elements_list\" : unique_elts(phases_dicts)\n",
    "}\n",
    "g_params.update(DEFAULT_PARAMS[\"Abs\"])\n",
    "\n",
    "json_dict = {}\n",
    "json_dict[\"model\"] = \"EDXS\"\n",
    "json_dict.update(data_dict)\n",
    "json_dict[\"weights_parameters\"] = weights_dict\n",
    "json_dict[\"model_parameters\"] = DEFAULT_PARAMS\n",
    "json_dict[\"g_parameters\"] = g_params\n",
    "json_dict[\"phases_parameters\"] = phases_dicts\n",
    "\n",
    "with open(json_filename,\"w\") as f : \n",
    "    json.dump(json_dict,f,indent=4)\n",
    "\n",
    "generate_dataset_from_json(json_filename)\n"
   ]
  },
  {
   "cell_type": "code",
   "execution_count": null,
   "metadata": {},
   "outputs": [],
   "source": []
  }
 ]
}