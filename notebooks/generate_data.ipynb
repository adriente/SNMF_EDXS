{
 "cells": [
  {
   "cell_type": "code",
   "execution_count": null,
   "metadata": {},
   "outputs": [],
   "source": [
    "%load_ext autoreload\n",
    "%autoreload 2\n",
    "%matplotlib inline\n",
    "from esmpy.datasets.generate_weights import generate_weights\n",
    "from esmpy.datasets.generate_EDXS_phases import generate_random_phases, unique_elts, generate_modular_phases\n",
    "from esmpy.datasets.base import generate_dataset\n",
    "from esmpy.utils import arg_helper\n",
    "import matplotlib.pyplot as plt\n",
    "import numpy as np\n",
    "from esmpy.conf import DEFAULT_SYNTHETIC_DATA_DICT\n",
    "\n"
   ]
  },
  {
   "cell_type": "markdown",
   "metadata": {},
   "source": [
    "# Generate weights\n",
    "## Inputs + weights generation"
   ]
  },
  {
   "cell_type": "code",
   "execution_count": null,
   "metadata": {},
   "outputs": [],
   "source": [
    "n_phases = 3\n",
    "seed = 91\n",
    "\n",
    "weights_dict = {\n",
    "    \"weight_type\" : \"sphere\",\n",
    "    \"shape_2d\" : [30,30],\n",
    "    \"radius\" : 1.2\n",
    "}\n",
    "\n",
    "weights = generate_weights(**weights_dict,n_phases=n_phases,seed=seed)\n"
   ]
  },
  {
   "cell_type": "markdown",
   "metadata": {},
   "source": [
    "## Plot of the weights"
   ]
  },
  {
   "cell_type": "code",
   "execution_count": null,
   "metadata": {},
   "outputs": [],
   "source": [
    "size = weights_dict[\"shape_2d\"][0]\n",
    "fig,axs = plt.subplots(1,n_phases,figsize = (size,size*n_phases))\n",
    "for j in range(axs.shape[0]) :\n",
    "        im = axs[j].imshow(weights[:,:,j],vmin = 0, vmax = 1.0)\n",
    "        axs[j].tick_params(axis = \"both\",labelbottom = False,labelleft = False) \n",
    "        axs[j].set_title(\"Phase {}\".format(j),fontsize = 22)\n",
    "\n",
    "fig.subplots_adjust(right=0.84)\n",
    "# put colorbar at desire position\n",
    "cbar_ax = fig.add_axes([0.85, 0.49, 0.01, 0.025])\n",
    "fig.colorbar(im,cax=cbar_ax)\n",
    "cbar_ax.tick_params(labelsize=22)\n"
   ]
  },
  {
   "cell_type": "markdown",
   "metadata": {},
   "source": [
    "# Generate random phases\n",
    "## Phases generation"
   ]
  },
  {
   "cell_type": "code",
   "execution_count": null,
   "metadata": {},
   "outputs": [],
   "source": [
    "phases, phases_dicts = generate_random_phases(n_phases,seed)"
   ]
  },
  {
   "cell_type": "markdown",
   "metadata": {},
   "source": [
    "## Plot of the phases"
   ]
  },
  {
   "cell_type": "code",
   "execution_count": null,
   "metadata": {},
   "outputs": [],
   "source": [
    "size = 10\n",
    "fig,axs = plt.subplots(1,n_phases,figsize = (size*n_phases,size))\n",
    "\n",
    "x = np.linspace(\n",
    "    DEFAULT_SYNTHETIC_DATA_DICT[\"model_parameters\"][\"e_offset\"],\n",
    "    DEFAULT_SYNTHETIC_DATA_DICT[\"model_parameters\"][\"e_offset\"]+DEFAULT_SYNTHETIC_DATA_DICT[\"model_parameters\"][\"e_scale\"]*DEFAULT_SYNTHETIC_DATA_DICT[\"model_parameters\"][\"e_size\"],\n",
    "    num=DEFAULT_SYNTHETIC_DATA_DICT[\"model_parameters\"][\"e_size\"])\n",
    "\n",
    "for j in range(axs.shape[0]) :\n",
    "    axs[j].plot(x,phases[j])\n",
    "    axs[j].set_title(\"Phase {}\".format(j),fontsize = 22)\n"
   ]
  },
  {
   "cell_type": "markdown",
   "metadata": {},
   "source": [
    "# Generate Data"
   ]
  },
  {
   "cell_type": "code",
   "execution_count": null,
   "metadata": {},
   "outputs": [],
   "source": [
    "np.random.seed(seed)\n",
    "data_dict = {\n",
    "    \"N\" : 100,\n",
    "    \"densities\" : list(3*np.random.rand(n_phases)),\n",
    "    \"data_folder\" : \"aspim41_3_random_phases\",\n",
    "    \"seed\" : seed\n",
    "}\n",
    "\n",
    "data_dict.update(weights_dict)\n",
    "data_dict[\"phases_parameters\"] = phases_dicts\n",
    "\n",
    "input_dict = arg_helper(data_dict,DEFAULT_SYNTHETIC_DATA_DICT)\n",
    "\n",
    "generate_dataset(**input_dict)"
   ]
  },
  {
   "cell_type": "markdown",
   "metadata": {},
   "source": [
    "# Generate small but realistic data"
   ]
  },
  {
   "cell_type": "code",
   "execution_count": null,
   "metadata": {},
   "outputs": [],
   "source": [
    "elts_dicts = [\n",
    "    {\n",
    "        \"Mg\" : 0.245, \"Fe\" : 0.035, \"Ca\" : 0.031, \"Si\" : 0.219, \"Al\" : 0.024, \"O\" : 0.446, \"Cu\" : 0.05, \"Hf\" : 0.01\n",
    "    },\n",
    "    {\n",
    "        \"Mg\" : 0.522, \"Fe\" : 0.104, \"O\" : 0.374, \"Cu\" : 0.05\n",
    "    },\n",
    "    {\n",
    "        \"Mg\" : 0.020, \"Fe\" : 0.018, \"Ca\" : 0.188, \"Si\" : 0.173, \"Al\" : 0.010, \"O\" : 0.591, \"Ti\" : 0.004, \"Cu\" : 0.05, \"Sm\" : 0.007, \"Lu\" : 0.006, \"Nd\" : 0.006\n",
    "    }]\n",
    "\n",
    "brstlg_pars = [\n",
    "    {\"b0\" : 0.0003458, \"b1\" : 0.0006268},\n",
    "    {\"b0\" : 0.0001629, \"b1\" : 0.0009812},\n",
    "    {\"b0\" : 0.0007853, \"b1\" : 0.0003658}\n",
    "]\n",
    "\n",
    "model_params = {\n",
    "        \"e_offset\" : 0.3,\n",
    "        \"e_size\" : 1000,\n",
    "        \"e_scale\" : 0.01,\n",
    "        \"width_slope\" : 0.01,\n",
    "        \"width_intercept\" : 0.065,\n",
    "        \"db_name\" : \"default_xrays.json\",\n",
    "        \"E0\" : 200,\n",
    "        \"params_dict\" : {\n",
    "            \"Abs\" : {\n",
    "                \"thickness\" : 100.0e-7,\n",
    "                \"toa\" : 35,\n",
    "                \"density\" : 4.5,\n",
    "                \"atomic_fraction\" : False\n",
    "            },\n",
    "            \"Det\" : \"SDD_efficiency.txt\"\n",
    "        }\n",
    "    }\n",
    "\n",
    "phases, full_dict = generate_modular_phases(elts_dicts=elts_dicts, brstlg_pars = brstlg_pars, scales = [1, 1, 1], model_params= model_params, seed = seed)\n",
    "\n",
    "np.random.seed(seed)\n",
    "data_dict = {\n",
    "    \"N\" : 30,\n",
    "    \"densities\" : [1.0,0.8,1.2],\n",
    "    \"data_folder\" : \"small_FpBrgCaPv_N30\",\n",
    "    \"seed\" : seed\n",
    "}\n",
    "\n",
    "data_dict.update(weights_dict)\n",
    "data_dict.update(full_dict)\n",
    "\n",
    "input_dict = arg_helper(data_dict,DEFAULT_SYNTHETIC_DATA_DICT)\n",
    "\n",
    "generate_dataset(**data_dict, seyeds_range=5)\n",
    "\n"
   ]
  },
  {
   "cell_type": "code",
   "execution_count": null,
   "metadata": {},
   "outputs": [],
   "source": []
  }
 ],
 "metadata": {
  "interpreter": {
   "hash": "1a1b43244e11bc51a1d0b046d5a6cc91cb73bf5187e443fb7c1433042d0ea61d"
  },
  "kernelspec": {
   "display_name": "Python 3.9.1 64-bit ('SNMF_EDXS-FwWDtlwS': pipenv)",
   "name": "python3"
  },
  "language_info": {
   "codemirror_mode": {
    "name": "ipython",
    "version": 3
   },
   "file_extension": ".py",
   "mimetype": "text/x-python",
   "name": "python",
   "nbconvert_exporter": "python",
   "pygments_lexer": "ipython3",
   "version": "3.9.1"
  }
 },
 "nbformat": 4,
 "nbformat_minor": 4
}
