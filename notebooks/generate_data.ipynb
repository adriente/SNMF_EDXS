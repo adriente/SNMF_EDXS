{
 "cells": [
  {
   "cell_type": "code",
   "execution_count": 1,
   "metadata": {},
   "outputs": [
    {
     "name": "stderr",
     "output_type": "stream",
     "text": [
      "WARNING:hyperspy_gui_traitsui:The module://matplotlib_inline.backend_inline matplotlib backend is not compatible with the traitsui GUI elements. For more information, read http://hyperspy.readthedocs.io/en/stable/user_guide/getting_started.html#possible-warnings-when-importing-hyperspy.\n",
      "WARNING:hyperspy_gui_traitsui:The traitsui GUI elements are not available.\n"
     ]
    }
   ],
   "source": [
    "%load_ext autoreload\n",
    "%autoreload 2\n",
    "%matplotlib inline\n",
    "from snmfem.datasets.generate_weights import generate_weights\n",
    "from snmfem.datasets.generate_EDXS_phases import generate_random_phases, unique_elts\n",
    "from snmfem.datasets.base import generate_dataset\n",
    "from snmfem.utils import arg_helper\n",
    "import matplotlib.pyplot as plt\n",
    "import numpy as np\n",
    "from snmfem.conf import DEFAULT_SYNTHETIC_DATA_DICT\n",
    "\n"
   ]
  },
  {
   "cell_type": "markdown",
   "metadata": {},
   "source": [
    "# Generate weights\n",
    "## Inputs + weights generation"
   ]
  },
  {
   "cell_type": "code",
   "execution_count": null,
   "metadata": {},
   "outputs": [],
   "source": [
    "n_phases = 3\n",
    "seed = 91\n",
    "\n",
    "weights_dict = {\n",
    "    \"weight_type\" : \"sphere\",\n",
    "    \"shape_2D\" : [80,80],\n",
    "}\n",
    "\n",
    "weights = generate_weights(**weights_dict,n_phases=n_phases,seed=seed)\n"
   ]
  },
  {
   "cell_type": "markdown",
   "metadata": {},
   "source": [
    "## Plot of the weights"
   ]
  },
  {
   "cell_type": "code",
   "execution_count": null,
   "metadata": {},
   "outputs": [],
   "source": [
    "size = weights_dict[\"shape_2D\"][0]\n",
    "fig,axs = plt.subplots(1,n_phases,figsize = (size,size*n_phases))\n",
    "for j in range(axs.shape[0]) :\n",
    "        im = axs[j].imshow(weights[:,:,j],vmin = 0, vmax = 1.0)\n",
    "        axs[j].tick_params(axis = \"both\",labelbottom = False,labelleft = False) \n",
    "        axs[j].set_title(\"Phase {}\".format(j),fontsize = 22)\n",
    "\n",
    "fig.subplots_adjust(right=0.84)\n",
    "# put colorbar at desire position\n",
    "cbar_ax = fig.add_axes([0.85, 0.49, 0.01, 0.025])\n",
    "fig.colorbar(im,cax=cbar_ax)\n",
    "cbar_ax.tick_params(labelsize=22)\n"
   ]
  },
  {
   "cell_type": "markdown",
   "metadata": {},
   "source": [
    "# Generate phases\n",
    "## Phases generation"
   ]
  },
  {
   "cell_type": "code",
   "execution_count": null,
   "metadata": {},
   "outputs": [],
   "source": [
    "phases, phases_dicts = generate_random_phases(n_phases,seed)"
   ]
  },
  {
   "cell_type": "markdown",
   "metadata": {},
   "source": [
    "## Plot of the phases"
   ]
  },
  {
   "cell_type": "code",
   "execution_count": null,
   "metadata": {},
   "outputs": [],
   "source": [
    "size = 10\n",
    "fig,axs = plt.subplots(1,n_phases,figsize = (size*n_phases,size))\n",
    "\n",
    "x = np.linspace(\n",
    "    DEFAULT_SYNTHETIC_DATA_DICT[\"model_parameters\"][\"e_offset\"],\n",
    "    DEFAULT_SYNTHETIC_DATA_DICT[\"model_parameters\"][\"e_offset\"]+DEFAULT_SYNTHETIC_DATA_DICT[\"model_parameters\"][\"e_scale\"]*DEFAULT_SYNTHETIC_DATA_DICT[\"model_parameters\"][\"e_size\"],\n",
    "    num=DEFAULT_SYNTHETIC_DATA_DICT[\"model_parameters\"][\"e_size\"])\n",
    "\n",
    "for j in range(axs.shape[0]) :\n",
    "    axs[j].plot(x,phases[j])\n",
    "    axs[j].set_title(\"Phase {}\".format(j),fontsize = 22)\n"
   ]
  },
  {
   "cell_type": "markdown",
   "metadata": {},
   "source": [
    "# Generate Data\n",
    "## Input + json generation"
   ]
  },
  {
   "cell_type": "code",
   "execution_count": null,
   "metadata": {},
   "outputs": [],
   "source": [
    "np.random.seed(seed)\n",
    "data_dict = {\n",
    "    \"N\" : 100,\n",
    "    \"densities\" : list(3*np.random.rand(n_phases)),\n",
    "    \"data_folder\" : \"aspim41_3_random_phases\",\n",
    "    \"seed\" : seed\n",
    "}\n",
    "\n",
    "data_dict.update(weights_dict)\n",
    "data_dict[\"phases_parameters\"] = phases_dicts\n",
    "\n",
    "input_dict = arg_helper(data_dict,DEFAULT_SYNTHETIC_DATA_DICT)\n"
   ]
  },
  {
   "cell_type": "code",
   "execution_count": null,
   "metadata": {},
   "outputs": [],
   "source": [
    "input_dict"
   ]
  },
  {
   "cell_type": "code",
   "execution_count": null,
   "metadata": {},
   "outputs": [],
   "source": [
    "generate_dataset(**input_dict)"
   ]
  },
  {
   "cell_type": "code",
   "execution_count": 2,
   "metadata": {},
   "outputs": [
    {
     "name": "stderr",
     "output_type": "stream",
     "text": [
      "  0%|          | 0/1 [00:00<?, ?it/s]WARNING:hyperspy.misc.utils:The package {package} does not set its version in {package}.__version__. Please report this issue to the snmfem developers.\n",
      "100%|██████████| 1/1 [00:13<00:00, 13.11s/it]\n"
     ]
    }
   ],
   "source": [
    "data_dict = {\n",
    "    \"model_parameters\" : {\n",
    "        \"e_offset\" : 1.27,\n",
    "        \"e_size\" : 3746,\n",
    "        \"e_scale\" : 0.005,\n",
    "        \"width_slope\" : 0.01,\n",
    "        \"width_intercept\" : 0.065,\n",
    "        \"db_name\" : \"default_xrays.json\",\n",
    "        \"E0\" : 200,\n",
    "        \"params_dict\" : {\n",
    "            \"Abs\" : {\n",
    "                \"thickness\" : 140.0e-7,\n",
    "                \"toa\" : 22,\n",
    "                \"density\" : 3.124,\n",
    "                \"atomic_fraction\" : False\n",
    "            },\n",
    "            \"Det\" : \"SDD_efficiency.txt\"\n",
    "        }\n",
    "    },\n",
    "    \"N\" : 15,\n",
    "    \"densities\" : [1,1],\n",
    "    \"data_folder\" : \"gb_sim_N15_w5_4Sr\",\n",
    "    \"seed\" : 0,\n",
    "    \"weight_type\" : \"gaussian_ripple\",\n",
    "    \"shape_2d\" : (100,400),\n",
    "    \"weights_params\" : {\n",
    "        \"width\" : 5\n",
    "    },\n",
    "    \"model\" : \"EDXS\",\n",
    "    \"phases_parameters\" : [{\"b0\" : 5.5367e-9,\n",
    "                            \"b1\" : 0.00192181,\n",
    "                            \"E0\" : 200,\n",
    "                            \"scale\" : 3e-6,\n",
    "                            \"elements_dict\" : {\"Ca\" : 0.54860348,\n",
    "                                      \"P\" : 0.38286879,\n",
    "                                      \"Sr\" : 0.03166235,\n",
    "                                      \"Cu\" : 0.03686538}},\n",
    "                            {\"b0\" : 5.5367e-9,\n",
    "                            \"b1\" : 0.00192181,\n",
    "                            \"E0\" : 200,\n",
    "                            \"scale\" : 3e-6,\n",
    "                            \"elements_dict\" : {\"Ca\" : 0.54860348,\n",
    "                                      \"P\" : 0.38286879,\n",
    "                                      \"Sr\" : 0.12166235,\n",
    "                                      \"Cu\" : 0.03686538}}]\n",
    "}\n",
    "\n",
    "generate_dataset(**data_dict, seeds_range=1)"
   ]
  },
  {
   "cell_type": "code",
   "execution_count": null,
   "metadata": {},
   "outputs": [],
   "source": []
  }
 ],
 "metadata": {
  "interpreter": {
   "hash": "ae2bec25d04a58403981d6892379486339cbb2cd6f315f3a399785dd0e4b6656"
  },
  "kernelspec": {
   "display_name": "Python 3",
   "language": "python",
   "name": "python3"
  },
  "language_info": {
   "codemirror_mode": {
    "name": "ipython",
    "version": 3
   },
   "file_extension": ".py",
   "mimetype": "text/x-python",
   "name": "python",
   "nbconvert_exporter": "python",
   "pygments_lexer": "ipython3",
   "version": "3.7.6"
  }
 },
 "nbformat": 4,
 "nbformat_minor": 4
}
