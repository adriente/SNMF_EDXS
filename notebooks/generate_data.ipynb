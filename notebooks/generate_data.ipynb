{
 "cells": [
  {
   "cell_type": "code",
   "execution_count": null,
   "source": [
    "%load_ext autoreload\n",
    "%autoreload 2\n",
    "%matplotlib inline\n",
    "from snmfem.datasets.generate_weights import generate_weights\n",
    "from snmfem.datasets.generate_EDXS_phases import generate_random_phases, unique_elts\n",
    "from snmfem.datasets.base import generate_dataset\n",
    "from snmfem.utils import arg_helper\n",
    "import matplotlib.pyplot as plt\n",
    "import numpy as np\n",
    "from snmfem.conf import DEFAULT_SYNTHETIC_DATA_DICT\n",
    "\n"
   ],
   "outputs": [],
   "metadata": {}
  },
  {
   "cell_type": "markdown",
   "source": [
    "# Generate weights\n",
    "## Inputs + weights generation"
   ],
   "metadata": {}
  },
  {
   "cell_type": "code",
   "execution_count": null,
   "source": [
    "n_phases = 3\n",
    "seed = 0\n",
    "\n",
    "weights_dict = {\n",
    "    \"weight_type\" : \"sphere\",\n",
    "    \"shape_2D\" : [80,80],\n",
    "}\n",
    "\n",
    "weights = generate_weights(**weights_dict,n_phases=n_phases,seed=seed)\n"
   ],
   "outputs": [],
   "metadata": {}
  },
  {
   "cell_type": "markdown",
   "source": [
    "## Plot of the weights"
   ],
   "metadata": {}
  },
  {
   "cell_type": "code",
   "execution_count": null,
   "source": [
    "size = weights_dict[\"shape_2D\"][0]\n",
    "fig,axs = plt.subplots(1,n_phases,figsize = (size,size*n_phases))\n",
    "for j in range(axs.shape[0]) :\n",
    "        im = axs[j].imshow(weights[:,:,j],vmin = 0, vmax = 1.0)\n",
    "        axs[j].tick_params(axis = \"both\",labelbottom = False,labelleft = False) \n",
    "        axs[j].set_title(\"Phase {}\".format(j),fontsize = 22)\n",
    "\n",
    "fig.subplots_adjust(right=0.84)\n",
    "# put colorbar at desire position\n",
    "cbar_ax = fig.add_axes([0.85, 0.49, 0.01, 0.025])\n",
    "fig.colorbar(im,cax=cbar_ax)\n",
    "cbar_ax.tick_params(labelsize=22)\n"
   ],
   "outputs": [],
   "metadata": {}
  },
  {
   "cell_type": "markdown",
   "source": [
    "# Generate phases\n",
    "## Phases generation"
   ],
   "metadata": {}
  },
  {
   "cell_type": "code",
   "execution_count": null,
   "source": [
    "phases, phases_dicts = generate_random_phases(n_phases,seed)"
   ],
   "outputs": [],
   "metadata": {}
  },
  {
   "cell_type": "markdown",
   "source": [
    "## Plot of the phases"
   ],
   "metadata": {}
  },
  {
   "cell_type": "code",
   "execution_count": null,
   "source": [
    "size = 10\n",
    "fig,axs = plt.subplots(1,n_phases,figsize = (size*n_phases,size))\n",
    "\n",
    "x = np.linspace(\n",
    "    DEFAULT_SYNTHETIC_DATA_DICT[\"model_parameters\"][\"e_offset\"],\n",
    "    DEFAULT_SYNTHETIC_DATA_DICT[\"model_parameters\"][\"e_offset\"]+DEFAULT_SYNTHETIC_DATA_DICT[\"model_parameters\"][\"e_scale\"]*DEFAULT_SYNTHETIC_DATA_DICT[\"model_parameters\"][\"e_size\"],\n",
    "    num=DEFAULT_SYNTHETIC_DATA_DICT[\"model_parameters\"][\"e_size\"])\n",
    "\n",
    "for j in range(axs.shape[0]) :\n",
    "    axs[j].plot(x,phases[j])\n",
    "    axs[j].set_title(\"Phase {}\".format(j),fontsize = 22)\n"
   ],
   "outputs": [],
   "metadata": {}
  },
  {
   "cell_type": "markdown",
   "source": [
    "# Generate Data\n",
    "## Input + json generation"
   ],
   "metadata": {}
  },
  {
   "cell_type": "code",
   "execution_count": null,
   "source": [
    "np.random.seed(seed)\n",
    "data_dict = {\n",
    "    \"N\" : 100,\n",
    "    \"densities\" : list(3*np.random.rand(n_phases)),\n",
    "    \"data_folder\" : \"aspim41_3_random_phases\"\n",
    "}\n",
    "\n",
    "data_dict.update(weights_dict)\n",
    "data_dict[\"phases_parameters\"] = phases_dicts\n",
    "\n",
    "input_dict = arg_helper(data_dict,DEFAULT_SYNTHETIC_DATA_DICT)\n"
   ],
   "outputs": [],
   "metadata": {}
  },
  {
   "cell_type": "code",
   "execution_count": null,
   "source": [
    "generate_dataset(**input_dict)"
   ],
   "outputs": [],
   "metadata": {}
  }
 ],
 "metadata": {
  "interpreter": {
   "hash": "ae2bec25d04a58403981d6892379486339cbb2cd6f315f3a399785dd0e4b6656"
  },
  "kernelspec": {
   "name": "python3",
   "display_name": "Python 3.8.5 64-bit ('SNMF_EDXS--pNpjmq1': pipenv)"
  },
  "language_info": {
   "codemirror_mode": {
    "name": "ipython",
    "version": 3
   },
   "file_extension": ".py",
   "mimetype": "text/x-python",
   "name": "python",
   "nbconvert_exporter": "python",
   "pygments_lexer": "ipython3",
   "version": "3.8.5"
  }
 },
 "nbformat": 4,
 "nbformat_minor": 4
}