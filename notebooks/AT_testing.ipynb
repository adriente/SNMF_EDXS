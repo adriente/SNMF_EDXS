{
 "metadata": {
  "language_info": {
   "codemirror_mode": {
    "name": "ipython",
    "version": 3
   },
   "file_extension": ".py",
   "mimetype": "text/x-python",
   "name": "python",
   "nbconvert_exporter": "python",
   "pygments_lexer": "ipython3",
   "version": "3.8.6-final"
  },
  "orig_nbformat": 2,
  "kernelspec": {
   "name": "python3",
   "display_name": "Python 3",
   "language": "python"
  }
 },
 "nbformat": 4,
 "nbformat_minor": 2,
 "cells": [
  {
   "cell_type": "code",
   "execution_count": null,
   "metadata": {},
   "outputs": [],
   "source": [
    "%load_ext autoreload\n",
    "%autoreload 2\n",
    "%matplotlib inline"
   ]
  },
  {
   "cell_type": "code",
   "execution_count": null,
   "metadata": {},
   "outputs": [],
   "source": [
    "import numpy as np\n",
    "import multiprocessing\n",
    "from snmfem.updates import dichotomy_simplex\n",
    "import tqdm"
   ]
  },
  {
   "cell_type": "code",
   "execution_count": null,
   "metadata": {},
   "outputs": [],
   "source": [
    "k = 5\n",
    "p = 6400\n",
    "span = np.logspace(-8,8,num=17)\n",
    "iter = 100\n",
    "TIMEOUT = 5"
   ]
  },
  {
   "cell_type": "code",
   "execution_count": null,
   "metadata": {},
   "outputs": [],
   "source": [
    "for i in tqdm.tqdm(range(iter)) : \n",
    "    scale_num = np.random.choice(span,size=(k,p))\n",
    "    num = scale_num * np.random.rand(k,p)\n",
    "    scale_denum = np.random.choice(span,size=(k,p))\n",
    "    denum = scale_denum * np.random.rand(k,p)\n",
    "    dichotomy_simplex(num, denum)\n",
    "    # process = multiprocessing.Process(target=dichotomy_simplex, name=\"fonction de ses morts\", args=(num,denum))\n",
    "    # process.start()\n",
    "    # process.join(TIMEOUT)\n",
    "    # if process.is_alive() :\n",
    "    #     print('function terminated')\n",
    "    #     N, D = num, denum\n",
    "    #     process.terminate()\n",
    "    #     process.join()\n",
    "    #     break"
   ]
  },
  {
   "cell_type": "code",
   "execution_count": null,
   "metadata": {},
   "outputs": [],
   "source": []
  }
 ]
}