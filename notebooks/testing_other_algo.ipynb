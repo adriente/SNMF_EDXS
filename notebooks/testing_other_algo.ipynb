{
 "cells": [
  {
   "cell_type": "code",
   "execution_count": 1,
   "source": [
    "%load_ext autoreload\n",
    "%autoreload 2\n",
    "%matplotlib inline"
   ],
   "outputs": [],
   "metadata": {}
  },
  {
   "cell_type": "code",
   "execution_count": 2,
   "source": [
    "import numpy as np\n",
    "import matplotlib.pyplot as plt\n",
    "# from snmfem.experiments import load_samples, print_results, load_data, run_experiment\n",
    "# from snmfem.measures import KL\n"
   ],
   "outputs": [],
   "metadata": {}
  },
  {
   "cell_type": "code",
   "execution_count": 5,
   "source": [
    "def create_toy_problem(l = 25, k = 3, p = 100, c = 10, n_poisson=200, force_simplex=True):\n",
    "\n",
    "    A = np.random.rand(k,p)\n",
    "    if force_simplex:\n",
    "        A = A/np.sum(A, axis=0, keepdims=True)\n",
    "    \n",
    "    G = np.random.rand(l,c)\n",
    "    P = np.random.rand(c,k)\n",
    "    GP = G @ P\n",
    "\n",
    "    X = GP @ A\n",
    "\n",
    "    Xdot = 1/n_poisson * np.random.poisson(n_poisson * X)\n",
    "\n",
    "    return G, P, A, X, Xdot"
   ],
   "outputs": [],
   "metadata": {}
  },
  {
   "cell_type": "code",
   "execution_count": 6,
   "source": [
    "shape_2d = [6, 10]\n",
    "k = 5\n",
    "n_poisson = 30\n",
    "G, P, true_maps, Xtrue, Xflat = create_toy_problem(p = shape_2d[0]*shape_2d[1], k=k, n_poisson=n_poisson)\n",
    "true_spectra = (G @ P).T\n",
    "\n"
   ],
   "outputs": [],
   "metadata": {}
  },
  {
   "cell_type": "code",
   "execution_count": 8,
   "source": [
    "maxit = 10\n",
    "tol = 1e-7"
   ],
   "outputs": [],
   "metadata": {}
  },
  {
   "cell_type": "code",
   "execution_count": null,
   "source": [
    "from pyunlocbox import functions\n",
    "from pyunlocbox.solvers import mlfbf, solve\n",
    "from snmfem.conf import log_shift\n",
    "# Let us solve the following problem\n",
    "# \n",
    "# \\argmin_P  - \\sum_ij  X_ij log(GPA)_ij + (GPA)_ij  s.t. P \\geq 0\n",
    "\n",
    "# \\argmin_A  - \\sum_ij  X_ij log(GPA)_ij + (GPA)_ij + f(A) s.t. A \\geq 0\n",
    "\n",
    "\n",
    "# class smooth(functions.func):\n",
    "#     def __init__(self, G, A):\n",
    "#         self.A = A\n",
    "#         self.G = G\n",
    "#         self.nabla = np.sum(self.G.T, axis=1, keepdims=True) @ np.sum(self.A.T, axis=0, keepdims=True)\n",
    "\n",
    "#     def _eval(self, P):\n",
    "#         return np.sum(self.G @ P @ self.A)\n",
    "#     def _grad(self, P):\n",
    "#         return self.nabla\n",
    "\n",
    "# f_smooth = smooth(G, A)\n",
    "# assert(f_smooth.grad(P).shape == P.shape)\n",
    "# np.testing.assert_allclose(f_smooth.grad(P),f_smooth.grad(2*P))\n",
    "\n",
    "\n",
    "class mxlogvpv(functions.func):\n",
    "    def __init__(self, X, lambda_=1, log_shift=log_shift, **kwargs):\n",
    "        super(mxlogvpv, self).__init__(**kwargs)\n",
    "        self.lambda_ = lambda_\n",
    "        self.X = X\n",
    "        self.log_shift = log_shift\n",
    "        self.offset = np.sum(self.X * np.log(self.X+log_shift)) - np.sum(self.X)\n",
    "\n",
    "    def _eval(self, P):\n",
    "        return self.offset * (self.offset - self.lambda_ * np.sum(self.X * np.log(P+log_shift)) + np.sum(P))\n",
    "    def _prox(self, P, T):\n",
    "        gamma = self.lambda_ * T\n",
    "        delta = (P - gamma)**2 + 4 * gamma * self.X\n",
    "        return (P-gamma + np.sqrt(delta))/2\n",
    "\n",
    "def solve_P(G, A, X, **kwargs):\n",
    "    L = lambda P : G @ P @ A\n",
    "    Lt = lambda X: G.T @ X @ A.T \n",
    "\n",
    "    f = functions.proj_positive()\n",
    "    g = mxlogvpv(X)\n",
    "    h = functions.dummy()\n",
    "    beta = 0\n",
    "    mu = beta + np.linalg.norm(G,2) * np.linalg.norm(A,2)\n",
    "    step = 1 / mu / 2\n",
    "\n",
    "    x0 = np.zeros(P.shape)\n",
    "    D = np.linalg.lstsq(A.T, X.T)[0].T\n",
    "    x0 = np.abs(np.linalg.lstsq(G, D)[0])\n",
    "    d0 = np.zeros(X.shape)\n",
    "\n",
    "    solver = mlfbf(step=step, L=L, Lt=Lt, d0=d0 )\n",
    "    ret = solve([f, g, h], x0, solver, **kwargs)\n",
    "\n",
    "    sol = ret[\"sol\"], np.array(ret[\"objective\"]).sum(axis=1)\n",
    "    return sol\n",
    "\n",
    "def solve_A(G, P, X, **kwargs):\n",
    "    GP = G @ P\n",
    "    L = lambda A : GP @ A\n",
    "    Lt = lambda X: GP.T @ X\n",
    "    \n",
    "    n = GP.shape[1]\n",
    "    opA = lambda A: np.sum(A, 0, keepdims=True)\n",
    "    opAt = lambda V: np.ones([n,1]) @ V\n",
    "    y = np.ones([1, X.shape[1]])\n",
    "\n",
    "    f = functions.proj_positive()\n",
    "    g = mxlogvpv(X)\n",
    "    h = function.norm_l2(A=OpA, At=OpAt, y=y)\n",
    "    beta = 0\n",
    "    mu = beta + np.linalg.norm(G,2) * np.linalg.norm(A,2)\n",
    "    step = 1 / mu / 2\n",
    "\n",
    "    x0 = np.zeros(P.shape)\n",
    "    D = np.linalg.lstsq(A.T, X.T)[0].T\n",
    "    x0 = np.abs(np.linalg.lstsq(G, D)[0])\n",
    "    d0 = np.zeros(X.shape)\n",
    "\n",
    "    solver = mlfbf(step=step, L=L, Lt=Lt, d0=d0 )\n",
    "    ret = solve([f, g, h], x0, solver, **kwargs)\n",
    "\n",
    "    sol = ret[\"sol\"], np.array(ret[\"objective\"]).sum(axis=1)\n",
    "    return sol"
   ],
   "outputs": [],
   "metadata": {}
  },
  {
   "cell_type": "code",
   "execution_count": null,
   "source": [
    "sol,  objective = solve_P(G, A, X, maxit=1000, rtol=1e-15)\n",
    "\n",
    "plt.plot(objective)\n",
    "plt.yscale(\"log\")\n",
    "\n",
    "np.linalg.norm(sol - P, \"fro\") / np.linalg.norm(P, \"fro\"), KLdiv(X, G @ sol, A)"
   ],
   "outputs": [],
   "metadata": {}
  },
  {
   "cell_type": "code",
   "execution_count": null,
   "source": [
    "# D = np.linalg.lstsq(A.T, Xdot.T)[0].T\n",
    "# x0 = np.abs(np.linalg.lstsq(G, D)[0])\n",
    "# D, np.linalg.lstsq(G, D)[0]"
   ],
   "outputs": [],
   "metadata": {}
  },
  {
   "cell_type": "code",
   "execution_count": null,
   "source": [
    "sol,  objective = solve_P(G, A, Xdot, maxit=100, rtol=1e-15)\n",
    "\n",
    "plt.plot(objective)\n",
    "# plt.yscale(\"log\")\n",
    "\n",
    "np.linalg.norm(sol - P, \"fro\") / np.linalg.norm(P, \"fro\"), KLdiv(X, G @ sol, A)"
   ],
   "outputs": [],
   "metadata": {}
  }
 ],
 "metadata": {
  "interpreter": {
   "hash": "1c54570ff4268047c81dd2c61765206f7b22026564b587a11579858717e9a312"
  },
  "kernelspec": {
   "name": "python3",
   "display_name": "Python 3.8.6 64-bit ('SNMF_EDXS-FwWDtlwS': pipenv)"
  },
  "language_info": {
   "codemirror_mode": {
    "name": "ipython",
    "version": 3
   },
   "file_extension": ".py",
   "mimetype": "text/x-python",
   "name": "python",
   "nbconvert_exporter": "python",
   "pygments_lexer": "ipython3",
   "version": "3.8.6"
  }
 },
 "nbformat": 4,
 "nbformat_minor": 4
}