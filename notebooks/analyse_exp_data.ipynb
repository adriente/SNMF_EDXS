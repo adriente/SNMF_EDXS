{
 "cells": [
  {
   "cell_type": "code",
   "execution_count": 1,
   "metadata": {},
   "outputs": [
    {
     "name": "stderr",
     "output_type": "stream",
     "text": [
      "WARNING:hyperspy_gui_traitsui:The agg matplotlib backend is not compatible with the traitsui GUI elements. For more information, read http://hyperspy.readthedocs.io/en/stable/user_guide/getting_started.html#possible-warnings-when-importing-hyperspy.\n",
      "WARNING:hyperspy_gui_traitsui:The traitsui GUI elements are not available.\n"
     ]
    }
   ],
   "source": [
    "import hyperspy.api as hs\n",
    "import snmfem.data_analysis as da\n",
    "import snmfem.experiments as exp"
   ]
  },
  {
   "cell_type": "code",
   "execution_count": 2,
   "metadata": {},
   "outputs": [],
   "source": [
    "spim = hs.load(\"71GPa_subsolidus.hspy\")\n",
    "da.set_analysis_parameters(\n",
    "    spim,\n",
    "    density= 4.5,\n",
    "    thickness= 200e-7\n",
    ")"
   ]
  },
  {
   "cell_type": "code",
   "execution_count": 3,
   "metadata": {},
   "outputs": [
    {
     "name": "stderr",
     "output_type": "stream",
     "text": [
      "WARNING:hyperspy._signals.eds:O_Ka is not in the data energy range.\n"
     ]
    }
   ],
   "source": [
    "haadf_ROI=hs.roi.RectangularROI(10*spim.axes_manager[0].scale,\n",
    "                            10*spim.axes_manager[1].scale,\n",
    "                            40*spim.axes_manager[0].scale,\n",
    "                            40*spim.axes_manager[1].scale)\n",
    "# arguments = left, top, right, bottom in pixels*scale\n",
    "spim.plot()\n",
    "spim_ROI=haadf_ROI.interactive(spim)\n",
    "# The HAADF and SPIM windows with their respective ROIs. The two ROIs are connected so that the selected area in the HAADF is the same as the one on the SPIM.\n",
    "\n",
    "spectrum=hs.interactive(spim_ROI.mean,\n",
    "            event=spim_ROI.axes_manager.events.any_axis_changed,\n",
    "            recompute_out_event=None)\n",
    "spectrum.plot(True)"
   ]
  },
  {
   "cell_type": "code",
   "execution_count": 4,
   "metadata": {},
   "outputs": [],
   "source": [
    "left,right,top,bottom = da.get_ROI_ranges(spim,haadf_ROI)\n",
    "ind_list = da.build_index_list(left,right,top,bottom,spim.axes_manager[0].size)"
   ]
  },
  {
   "cell_type": "code",
   "execution_count": 20,
   "metadata": {},
   "outputs": [],
   "source": [
    "with open(\"test.txt\",\"w\") as f : \n",
    "    for elt in ind_list : \n",
    "        f.write(str(elt))\n",
    "        f.write(\" \")"
   ]
  },
  {
   "cell_type": "code",
   "execution_count": null,
   "metadata": {},
   "outputs": [],
   "source": [
    "Xflat, shape_2d, mod_pars, g_pars = da.load_hs_data(spim)\n",
    "exp_params = ({\"name\": \"snmfem smooth 3\", \"method\": \"SmoothNMF\", \"k\" : 3},{\"lambda_L\" : 3.0,\"max_iter\" : 20})\n",
    "exp = da.build_analysis(exp_params[0],exp_params[1])\n",
    "G = da.build_model(mod_pars, g_pars, G_func = True)\n",
    "G, P, A, losses = da.run_analysis(Xflat, G, exp, shape_2d = shape_2d,mod_pars = mod_pars,g_pars = g_pars, ind_list = ind_list)\n"
   ]
  },
  {
   "cell_type": "code",
   "execution_count": null,
   "metadata": {},
   "outputs": [],
   "source": []
  },
  {
   "cell_type": "code",
   "execution_count": null,
   "metadata": {},
   "outputs": [],
   "source": []
  }
 ],
 "metadata": {
  "interpreter": {
   "hash": "ae2bec25d04a58403981d6892379486339cbb2cd6f315f3a399785dd0e4b6656"
  },
  "kernelspec": {
   "display_name": "Python 3",
   "language": "python",
   "name": "python3"
  },
  "language_info": {
   "codemirror_mode": {
    "name": "ipython",
    "version": 3
   },
   "file_extension": ".py",
   "mimetype": "text/x-python",
   "name": "python",
   "nbconvert_exporter": "python",
   "pygments_lexer": "ipython3",
   "version": "3.7.6"
  }
 },
 "nbformat": 4,
 "nbformat_minor": 4
}
