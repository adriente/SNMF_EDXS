{
 "cells": [
  {
   "cell_type": "code",
   "execution_count": null,
   "metadata": {},
   "outputs": [],
   "source": [
    "%matplotlib qt\n",
    "import hyperspy.api as hs\n",
    "from esmpy.conf import DATASETS_PATH\n",
    "from pathlib import Path"
   ]
  },
  {
   "cell_type": "markdown",
   "metadata": {},
   "source": [
    "# Load a spectrum image"
   ]
  },
  {
   "cell_type": "code",
   "execution_count": null,
   "metadata": {},
   "outputs": [],
   "source": [
    "input_filename = str(DATASETS_PATH / Path('built_in_particules\\\\sample_2.hspy'))\n",
    "spim = hs.load(input_filename)\n",
    "spim.crop(2,0.3,19.0)"
   ]
  },
  {
   "cell_type": "markdown",
   "metadata": {},
   "source": [
    "# Browse the signal\n",
    "\n",
    "⚠️ 3 windows will pop up.\n",
    "\n",
    "- One window correspond to a 2D representation of the spim (sum along the energy direction) a green rectangle will be displayed on top of it, it corresponds to the selected area.\n",
    "- One window correspond to the first pixel (top left) of the spectrum image (you can ignore it).\n",
    "- The last window correspond to the average of the selected spectra\n",
    "\n"
   ]
  },
  {
   "cell_type": "code",
   "execution_count": null,
   "metadata": {},
   "outputs": [],
   "source": [
    "scale_h, scale_v= spim.axes_manager[0].scale,spim.axes_manager[1].scale\n",
    "offset_h, offset_v = spim.axes_manager[0].offset, spim.axes_manager[1].offset\n",
    "\n",
    "haadf_ROI=hs.roi.RectangularROI((10*scale_h)+ offset_h,\n",
    "                            (10*scale_v)+offset_v,\n",
    "                            (40*scale_h)+offset_h,\n",
    "                            (40*scale_v)+offset_v)\n",
    "# arguments = left, top, right, bottom in pixels*scale\n",
    "spim.plot()\n",
    "spim_ROI=haadf_ROI.interactive(spim)\n",
    "# The HAADF and SPIM windows with their respective ROIs. The two ROIs are connected so that the selected area in the HAADF is the same as the one on the SPIM.\n",
    "\n",
    "spectrum=hs.interactive(spim_ROI.mean,\n",
    "           event=spim_ROI.axes_manager.events.any_axis_changed,\n",
    "           recompute_out_event=None)\n",
    "spectrum.plot(True)"
   ]
  },
  {
   "cell_type": "markdown",
   "metadata": {},
   "source": [
    "# Save the selected average spectrum"
   ]
  },
  {
   "cell_type": "code",
   "execution_count": null,
   "metadata": {},
   "outputs": [],
   "source": [
    "output_filename = str(DATASETS_PATH / Path('selected_spectrum.hspy'))\n",
    "spectrum.save(output_filename)"
   ]
  },
  {
   "cell_type": "code",
   "execution_count": null,
   "metadata": {},
   "outputs": [],
   "source": []
  }
 ],
 "metadata": {
  "interpreter": {
   "hash": "ae2bec25d04a58403981d6892379486339cbb2cd6f315f3a399785dd0e4b6656"
  },
  "kernelspec": {
   "display_name": "Python 3",
   "language": "python",
   "name": "python3"
  },
  "language_info": {
   "codemirror_mode": {
    "name": "ipython",
    "version": 3
   },
   "file_extension": ".py",
   "mimetype": "text/x-python",
   "name": "python",
   "nbconvert_exporter": "python",
   "pygments_lexer": "ipython3",
   "version": "3.7.6"
  }
 },
 "nbformat": 4,
 "nbformat_minor": 4
}
