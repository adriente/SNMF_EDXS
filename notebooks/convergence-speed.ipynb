{
 "cells": [
  {
   "cell_type": "code",
   "execution_count": null,
   "metadata": {},
   "outputs": [],
   "source": [
    "%load_ext autoreload\n",
    "%autoreload 2\n",
    "%matplotlib inline"
   ]
  },
  {
   "cell_type": "code",
   "execution_count": null,
   "metadata": {},
   "outputs": [],
   "source": [
    "import numpy as np\n",
    "import matplotlib.pyplot as plt\n",
    "from espm.conf import log_shift, dicotomy_tol, sigmaL\n",
    "from espm.utils import create_laplacian_matrix\n",
    "from espm.estimators import SmoothNMF\n",
    "from espm.models import ToyModel\n",
    "from copy import deepcopy\n",
    "from espm.weights import generate_weights as gw\n",
    "from espm.datasets.base import generate_spim_sample\n",
    "from espm.estimators.updates import initialize_algorithms\n",
    "\n"
   ]
  },
  {
   "cell_type": "code",
   "execution_count": null,
   "metadata": {},
   "outputs": [],
   "source": [
    "laplacian = True\n",
    "noise = True\n",
    "force_simplex = True\n",
    "\n",
    "# load data \n",
    "filename = f\"losses_{laplacian}_{noise}_{force_simplex}.npz\"\n",
    "data = np.load(filename, allow_pickle=True)\n",
    "losses = data[\"losses\"]\n",
    "l_infty = data[\"l_infty\"]\n",
    "params = data[\"params\"]\n",
    "captions = data[\"captions\"]\n",
    "true_D = data[\"true_D\"]\n",
    "true_H = data[\"true_H\"]\n",
    "X = data[\"X\"]\n",
    "Xdot = data[\"Xdot\"]\n",
    "W = data[\"W\"]\n",
    "H = data[\"H\"]\n",
    "gammas = data[\"gammas\"]"
   ]
  },
  {
   "cell_type": "code",
   "execution_count": null,
   "metadata": {},
   "outputs": [],
   "source": [
    "losses_mean = np.mean(losses-l_infty.reshape(-1, 1, 1), axis=0)\n"
   ]
  },
  {
   "cell_type": "code",
   "execution_count": null,
   "metadata": {},
   "outputs": [],
   "source": [
    "plt.figure(figsize=[10, 6])\n",
    "# plt.figure(figsize=[15, 10])\n",
    "\n",
    "for loss, caption in zip(losses_mean, captions):\n",
    "    iterations = np.arange(len(loss))+1\n",
    "    if len(iterations)>10:\n",
    "        plt.plot(iterations, loss, \".-\", label=caption)\n",
    "max_y = np.max(losses_mean)\n",
    "min_y = np.min(losses_mean)\n",
    "plt.ylim([min_y, max_y])\n",
    "plt.xlim([1, losses_mean.shape[1]])\n",
    "plt.yscale(\"log\")\n",
    "plt.xscale(\"log\")\n",
    "plt.xlabel(\"Iterations\")\n",
    "plt.legend()"
   ]
  },
  {
   "cell_type": "code",
   "execution_count": null,
   "metadata": {},
   "outputs": [],
   "source": [
    "# for gamma, caption in zip(gammas, captions):\n",
    "#     iterations = np.arange(len(gamma))+1\n",
    "\n",
    "#     plt.plot(iterations, gamma, \".\", label=caption)\n",
    "# plt.yscale(\"log\")\n",
    "# plt.legend()\n"
   ]
  },
  {
   "cell_type": "code",
   "execution_count": null,
   "metadata": {},
   "outputs": [],
   "source": [
    "Hmat = H.reshape(k, shape_2d[0], shape_2d[1])\n",
    "Hmat_true = true_H.reshape(k, shape_2d[0], shape_2d[1])\n",
    "scale = 4\n",
    "cmap = plt.cm.viridis\n",
    "plt.figure(figsize=(scale*k,2*scale))\n",
    "for i in range(k):\n",
    "    plt.subplot(2,k,i+1)\n",
    "    plt.imshow(Hmat[i], cmap=cmap, vmin=0, vmax=1)\n",
    "    plt.title(f\"Estimated H {i}\")\n",
    "    plt.axis('off')\n",
    "    plt.colorbar()\n",
    "    plt.subplot(2,k,i+1+k)\n",
    "    plt.imshow(Hmat_true[i], cmap=cmap, vmin=0, vmax=1)\n",
    "    plt.title(f\"True H {i}\")\n",
    "    plt.axis('off')\n",
    "    plt.colorbar()\n",
    "\n",
    "plt.tight_layout()\n"
   ]
  },
  {
   "cell_type": "code",
   "execution_count": null,
   "metadata": {},
   "outputs": [],
   "source": []
  },
  {
   "cell_type": "code",
   "execution_count": null,
   "metadata": {},
   "outputs": [],
   "source": []
  }
 ],
 "metadata": {
  "kernelspec": {
   "display_name": "espm",
   "language": "python",
   "name": "python3"
  },
  "language_info": {
   "codemirror_mode": {
    "name": "ipython",
    "version": 3
   },
   "file_extension": ".py",
   "mimetype": "text/x-python",
   "name": "python",
   "nbconvert_exporter": "python",
   "pygments_lexer": "ipython3",
   "version": "3.10.6"
  },
  "vscode": {
   "interpreter": {
    "hash": "a7ceffc662db6c9d514927743d8d35570797b920e33613212d4f424c0416cf91"
   }
  }
 },
 "nbformat": 4,
 "nbformat_minor": 4
}
