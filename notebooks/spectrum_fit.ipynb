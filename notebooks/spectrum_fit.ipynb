{
 "cells": [
  {
   "cell_type": "code",
   "execution_count": 2,
   "metadata": {},
   "outputs": [],
   "source": [
    "# %matplotlib inline\n",
    "%matplotlib qt\n",
    "import hyperspy.api as hs\n",
    "import numpy as np\n",
    "import matplotlib.pyplot as plt\n",
    "import matplotlib\n",
    "from esmpy.models import edxs\n",
    "from esmpy.models.EDXS_function import print_concentrations_from_W\n",
    "from esmpy.conf import DATASETS_PATH\n",
    "from pathlib import Path\n",
    "from esmpy.datasets import spim\n",
    "import esmpy.tables_utils as tu\n",
    "from esmpy.estimators import SmoothNMF"
   ]
  },
  {
   "cell_type": "code",
   "execution_count": 3,
   "metadata": {},
   "outputs": [
    {
     "name": "stderr",
     "output_type": "stream",
     "text": [
      "/home/adrien/anaconda3/envs/esmpy/lib/python3.10/site-packages/hyperspy/misc/utils.py:471: VisibleDeprecationWarning: Use of the `binned` attribute in metadata is going to be deprecated in v2.0. Set the `axis.is_binned` attribute instead. \n",
      "  warnings.warn(\n",
      "/home/adrien/anaconda3/envs/esmpy/lib/python3.10/site-packages/hyperspy/io.py:560: VisibleDeprecationWarning: Loading old file version. The binned attribute has been moved from metadata.Signal to axis.is_binned. Setting this attribute for all signal axes instead.\n",
      "  warnings.warn('Loading old file version. The binned attribute '\n"
     ]
    },
    {
     "name": "stdout",
     "output_type": "stream",
     "text": [
      "Dicotomy stopped for maximum number of iterations\n",
      "It 10 / 100000: loss 2.588,  0.806 it/s\n",
      "Dicotomy stopped for maximum number of iterations\n",
      "Dicotomy stopped for maximum number of iterations\n",
      "Dicotomy stopped for maximum number of iterations\n",
      "Dicotomy stopped for maximum number of iterations\n",
      "Dicotomy stopped for maximum number of iterations\n"
     ]
    },
    {
     "name": "stderr",
     "output_type": "stream",
     "text": [
      "/home/adrien/travail/esmpy/esmpy/updates.py:46: RuntimeWarning: divide by zero encountered in true_divide\n",
      "  return np.sum(num / (x + denum), axis=0) - 1\n"
     ]
    },
    {
     "name": "stdout",
     "output_type": "stream",
     "text": [
      "Dicotomy stopped for maximum number of iterations\n",
      "Stopped after 15 iterations in 0.0 minutes and 19.0 seconds.\n",
      "Decomposition info:\n",
      "  normalize_poissonian_noise=False\n",
      "  algorithm=SmoothNMF()\n",
      "  output_dimension=None\n",
      "  centre=None\n",
      "scikit-learn estimator:\n",
      "SmoothNMF()\n"
     ]
    }
   ],
   "source": [
    "spim = hs.load(\"eds_rebin.hspy\")\n",
    "\n",
    "spim.set_signal_type(\"EDS_ESMPY\")\n",
    "spim.set_additional_parameters(thickness = 80e-7,density = 2.1,detector_type = \"Det_eff.txt\",width_slope = 0.01,width_intercept = 0.065,xray_db = \"300keV_corentin_xrays.json\")\n",
    "\n",
    "\n",
    "# spim.set_analysis_parameters(beam_energy = 300,\n",
    "# azimuth_angle = 0.0,\n",
    "# elevation_angle = 35.0,\n",
    "# elements = ['Al', 'C', 'Ca', 'Cl', 'Cr', 'Cu', 'F', 'Fe', 'Ga', 'K', 'Mg', 'Mn', 'N', 'Na', 'Ni', 'O', 'P', 'Pt', 'S', 'Si', 'Ti', 'Zr'],\n",
    "# tilt_stage = -6.071,\n",
    "# thickness = 80e-7,\n",
    "# density = 2.1,\n",
    "# detector_type = \"Det_eff.txt\",\n",
    "# width_slope = 0.01,\n",
    "# width_intercept = 0.065,\n",
    "# xray_db = \"300keV_corentin_xrays.json\")\n",
    "\n",
    "cropped_spim = spim.inav[:,:]\n",
    "\n",
    "G = cropped_spim.build_G(\"bremsstrahlung\")\n",
    "est = SmoothNMF( n_components = 7,tol=0.000001, max_iter = 100000, G = G,hspy_comp = True)\n",
    "\n",
    "cropped_spim.decomposition(algorithm=est)"
   ]
  },
  {
   "cell_type": "code",
   "execution_count": 6,
   "metadata": {},
   "outputs": [
    {
     "data": {
      "application/vnd.jupyter.widget-view+json": {
       "model_id": "d479c9281f0a4d2a956355f53c6256f1",
       "version_major": 2,
       "version_minor": 0
      },
      "text/plain": [
       "VBox(children=(HBox(children=(Label(value='Decomposition component index', layout=Layout(width='15%')), IntSli…"
      ]
     },
     "metadata": {},
     "output_type": "display_data"
    }
   ],
   "source": [
    "cropped_spim.plot_decomposition_results()\n",
    "\n",
    "fW = est.W_\n",
    "print_concentrations_from_W(fW[:-2,:],elements = cropped_spim.metadata.Sample.elements)"
   ]
  },
  {
   "cell_type": "code",
   "execution_count": 18,
   "metadata": {},
   "outputs": [
    {
     "name": "stdout",
     "output_type": "stream",
     "text": [
      "It 10 / 1000: loss 0.044,  28.576 it/s\n",
      "It 20 / 1000: loss 0.044,  27.725 it/s\n",
      "It 30 / 1000: loss 0.044,  27.658 it/s\n",
      "It 40 / 1000: loss 0.044,  27.686 it/s\n",
      "It 50 / 1000: loss 0.044,  27.765 it/s\n",
      "It 60 / 1000: loss 0.044,  27.746 it/s\n",
      "It 70 / 1000: loss 0.044,  27.685 it/s\n",
      "It 80 / 1000: loss 0.044,  27.654 it/s\n",
      "It 90 / 1000: loss 0.044,  27.635 it/s\n",
      "exits because of relative change < tol: 1.5390655927805505e-06\n",
      "Stopped after 99 iterations in 0.0 minutes and 4.0 seconds.\n"
     ]
    }
   ],
   "source": [
    "input_filename = str(\"phyllo_spectre_moyen.hspy\")\n",
    "spectrum = hs.load(input_filename)\n",
    "\n",
    "spectrum.axes_manager[0].offset += +0.000\n",
    "\n",
    "spectrum.set_signal_type(\"EDS_ESMPY\")\n",
    "spectrum.set_analysis_parameters(beam_energy = 300,\n",
    "azimuth_angle = 0.0,\n",
    "elevation_angle = 18.0,\n",
    "elements = ['Al', 'C', 'Ca', 'Cl', 'Cr', 'Cu', 'F', 'Fe', 'Ga', 'K', 'Mg', 'Mn', 'N', 'Na', 'Ni', 'O', 'P', 'Pt', 'S', 'Si', 'Ti', 'Zr'],\n",
    "tilt_stage = 0.001,\n",
    "thickness = 80e-7,\n",
    "density = 2.1,\n",
    "\n",
    "detector_type = \"Det_eff.txt\",\n",
    "width_slope = 0.01,\n",
    "width_intercept = 0.065,\n",
    "xray_db = \"300keV_corentin_xrays.json\")\n",
    "# fW = spim.set_fixed_W({\"p0\" : {\"Si\" : 0.0},\"p1\" : {\"Fe\" : 0.0}, \"p2\" : {\"Mg\" : 0.0}})\n",
    "\n",
    "G = spectrum.build_G(\"bremsstrahlung\",norm = True)\n",
    "est = SmoothNMF( n_components = 1,tol=0.000001, max_iter = 1000, G = G)\n",
    "\n",
    "est.fit_transform(spectrum.data[:,np.newaxis])\n",
    "fW = est.W_\n",
    "fG = est.G_"
   ]
  },
  {
   "cell_type": "code",
   "execution_count": 21,
   "metadata": {},
   "outputs": [
    {
     "data": {
      "text/plain": [
       "<matplotlib.legend.Legend at 0x7fd11740fb20>"
      ]
     },
     "execution_count": 21,
     "metadata": {},
     "output_type": "execute_result"
    }
   ],
   "source": [
    "plt.plot(spectrum.data,label=\"exp\")\n",
    "plt.plot(fG@fW,label=\"fit\")\n",
    "plt.legend()"
   ]
  },
  {
   "cell_type": "code",
   "execution_count": 20,
   "metadata": {},
   "outputs": [
    {
     "name": "stdout",
     "output_type": "stream",
     "text": [
      "Concentrations report\n",
      "     p0\n",
      "Al : 0.0177 \n",
      "C  : 0.0434 \n",
      "Ca : 0.0000 \n",
      "Cl : 0.0007 \n",
      "Cr : 0.0000 \n",
      "Cu : 0.0189 \n",
      "F  : 0.0363 \n",
      "Fe : 0.0866 \n",
      "Ga : 0.0044 \n",
      "K  : 0.0005 \n",
      "Mg : 0.1844 \n",
      "Mn : 0.0035 \n",
      "N  : 0.0070 \n",
      "Na : 0.0087 \n",
      "Ni : 0.0019 \n",
      "O  : 0.3663 \n",
      "P  : 0.0000 \n",
      "Pt : 0.0013 \n",
      "S  : 0.0080 \n",
      "Si : 0.2096 \n",
      "Ti : 0.0000 \n",
      "Zr : 0.0008 \n"
     ]
    }
   ],
   "source": [
    "print_concentrations_from_W(fW[:-2,:],elements = spectrum.metadata.Sample.elements)"
   ]
  },
  {
   "cell_type": "code",
   "execution_count": 31,
   "metadata": {},
   "outputs": [],
   "source": [
    "k_names = [\"Ag_La\",\"Al_Ka\", \"Ar_Ka\",\"B_Ka\",\"Bi_Ma\",\"C_Ka\",\"Ca_Ka\",\"Ca_La\",\"Cl_Ka\",\"Cr_Ka\",\n",
    "        \"Cr_La\",\"Cu_Ka\",\"Cu_La\",\"F_Ka\",\"Fe_Ka\",\"Fe_La\",\"Fe_Lb3\",\"Fe_Ll\",\"Fe_Ln\",\"Ga_Ka\",\n",
    "        \"Ga_La\",\"Ho_La\",\"La_La\",\"K_Ka\",\"Mg_Ka\",\"Mn_Ka\",\"Mn_La\",\"Mg_La\",\"N_Ka\",\"Na_Ka\",\n",
    "        \"Ni_Ka\",\"Ni_La\",\"O_Ka\",\"P_Ka\",\"Pb_La\",\"Pt_La\",\"Pt_Ma\",\"S_Ka\",\"Si_Ka\",\"Sn_La\",\n",
    "        \"Ti_Ka\",\"Tl_Ma\",\"Zr_Ka\",\"Zr_La\",\"Zn_Ka\"]\n",
    "kfactors = [1,\n",
    " 1.05,\n",
    " 1.188,\n",
    " 5,\n",
    " 1,\n",
    " 1.42,\n",
    " 1.16,\n",
    " 8.8,\n",
    " 1.093,\n",
    " 1.314,\n",
    " 5.23,\n",
    " 1.773,\n",
    " 1.523,\n",
    " 1,\n",
    " 1.5,\n",
    " 2.55,\n",
    " 0,\n",
    " 0,\n",
    " 0,\n",
    " 1,\n",
    " 1,\n",
    " 1,\n",
    " 1,\n",
    " 1.119,\n",
    " 0.94,\n",
    " 1.5,\n",
    " 3.36,\n",
    " 3.36,\n",
    " 1.18,\n",
    " 0.98,\n",
    " 1.587,\n",
    " 1.582,\n",
    " 0.95,\n",
    " 1.096,\n",
    " 2.85,\n",
    " 1,\n",
    " 1,\n",
    " 1.18,\n",
    " 1,\n",
    " 1,\n",
    " 1.25,\n",
    " 1,\n",
    " 3.65,\n",
    " 1.49,\n",
    " 1.96]\n"
   ]
  },
  {
   "cell_type": "code",
   "execution_count": 42,
   "metadata": {},
   "outputs": [],
   "source": [
    "table, mdata = tu.load_table(\"300keV_xrays.json\")\n",
    "n_table, n_mdata = tu.import_k_factors(table,mdata, k_names, kfactors,  ref_name = \"Si_Ka\")\n",
    "tu.save_table(\"300keV_corentin_xrays.json\",n_table,n_mdata)"
   ]
  },
  {
   "cell_type": "code",
   "execution_count": null,
   "metadata": {},
   "outputs": [],
   "source": []
  }
 ],
 "metadata": {
  "kernelspec": {
   "display_name": "Python 3.10.6 ('esmpy')",
   "language": "python",
   "name": "python3"
  },
  "language_info": {
   "codemirror_mode": {
    "name": "ipython",
    "version": 3
   },
   "file_extension": ".py",
   "mimetype": "text/x-python",
   "name": "python",
   "nbconvert_exporter": "python",
   "pygments_lexer": "ipython3",
   "version": "3.10.6"
  },
  "vscode": {
   "interpreter": {
    "hash": "8d2c37261bd18724b44288178b5d93ac658e7a29aba4ea6c1b1b0710c1696ef2"
   }
  }
 },
 "nbformat": 4,
 "nbformat_minor": 4
}
