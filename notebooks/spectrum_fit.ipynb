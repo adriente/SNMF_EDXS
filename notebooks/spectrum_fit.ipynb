{
 "cells": [
  {
   "cell_type": "code",
   "execution_count": 2,
   "metadata": {},
   "outputs": [],
   "source": [
    "# %matplotlib inline\n",
    "%matplotlib qt\n",
    "import hyperspy.api as hs\n",
    "import numpy as np\n",
    "import matplotlib.pyplot as plt\n",
    "import matplotlib\n",
    "from esmpy.models import edxs\n",
    "from esmpy.models.EDXS_function import print_concentrations_from_W\n",
    "from esmpy.conf import DATASETS_PATH\n",
    "from pathlib import Path\n",
    "from esmpy.datasets import spim\n",
    "import esmpy.tables_utils as tu\n",
    "from esmpy.estimators import SmoothNMF"
   ]
  },
  {
   "cell_type": "code",
   "execution_count": 2,
   "metadata": {},
   "outputs": [],
   "source": [
    "s = hs.load(\"/home/adrien/travail/esmpy/generated_datasets/FpBrgCaPv_N293_paper/sample_0.hspy\")\n",
    "s.change_dtype(\"float64\")"
   ]
  },
  {
   "cell_type": "code",
   "execution_count": 3,
   "metadata": {},
   "outputs": [],
   "source": [
    "s.metadata.Sample.thickness = 0.0"
   ]
  },
  {
   "cell_type": "code",
   "execution_count": 4,
   "metadata": {},
   "outputs": [
    {
     "name": "stdout",
     "output_type": "stream",
     "text": [
      "It 10 / 100: loss 0.119,  0.811 it/s\n",
      "It 20 / 100: loss 0.119,  0.826 it/s\n",
      "It 30 / 100: loss 0.119,  0.815 it/s\n",
      "It 40 / 100: loss 0.119,  0.814 it/s\n",
      "It 50 / 100: loss 0.118,  0.816 it/s\n",
      "It 60 / 100: loss 0.118,  0.814 it/s\n",
      "It 70 / 100: loss 0.118,  0.813 it/s\n",
      "It 80 / 100: loss 0.118,  0.814 it/s\n",
      "It 90 / 100: loss 0.118,  0.817 it/s\n",
      "exits because of relative change < tol: 1.0275400417968269e-05\n",
      "Stopped after 92 iterations in 1.0 minutes and 53.0 seconds.\n",
      "Decomposition info:\n",
      "  normalize_poissonian_noise=False\n",
      "  algorithm=SmoothNMF()\n",
      "  output_dimension=None\n",
      "  centre=None\n",
      "scikit-learn estimator:\n",
      "SmoothNMF()\n"
     ]
    }
   ],
   "source": [
    "G = s.build_G(norm = True)\n",
    "est = SmoothNMF( n_components = 3,tol=0.00001, max_iter = 100, G = G,hspy_comp = True)\n",
    "\n",
    "s.decomposition(algorithm=est)"
   ]
  },
  {
   "cell_type": "code",
   "execution_count": 11,
   "metadata": {},
   "outputs": [
    {
     "data": {
      "text/plain": [
       "[<matplotlib.lines.Line2D at 0x7fdb16a05510>]"
      ]
     },
     "execution_count": 11,
     "metadata": {},
     "output_type": "execute_result"
    }
   ],
   "source": [
    "x = np.linspace(s.axes_manager[2].offset,s.axes_manager[2].offset + s.axes_manager[2].scale*s.axes_manager[2].size, num = s.axes_manager[2].size)\n",
    "plt.plot(x,G()[:,10])"
   ]
  },
  {
   "cell_type": "code",
   "execution_count": 17,
   "metadata": {},
   "outputs": [
    {
     "data": {
      "text/plain": [
       "['Hf', 'Cu', 'Ca', 'O', 'Ti', 'Nd', 'Sm', 'Mg', 'Si', 'Al', 'Fe', 'Lu']"
      ]
     },
     "execution_count": 17,
     "metadata": {},
     "output_type": "execute_result"
    }
   ],
   "source": [
    "s.metadata.Sample.elements"
   ]
  },
  {
   "cell_type": "code",
   "execution_count": 6,
   "metadata": {},
   "outputs": [],
   "source": [
    "W = est.W_\n",
    "H = est.H_\n",
    "fe1 = (W[10]@H).reshape((128,128))\n",
    "fe2 = (W[11]@H).reshape((128,128))\n",
    "\n"
   ]
  },
  {
   "cell_type": "code",
   "execution_count": 3,
   "metadata": {},
   "outputs": [],
   "source": [
    "from esmpy.models.absorption_edxs import absorption_correction, absorption_coefficient\n",
    "A = absorption_correction(0.7,thickness=0.1, density=3.0, toa=90,elements_dict = {\"26\" : 1.0})"
   ]
  },
  {
   "cell_type": "code",
   "execution_count": 8,
   "metadata": {},
   "outputs": [
    {
     "data": {
      "text/plain": [
       "<matplotlib.image.AxesImage at 0x7f9358ab45e0>"
      ]
     },
     "execution_count": 8,
     "metadata": {},
     "output_type": "execute_result"
    }
   ],
   "source": [
    "energy = 0.7\n",
    "toa = s.metadata.Acquisition_instrument.TEM.Detector.EDS.take_off_angle\n",
    "\n",
    "def abs_map(l_map, energy, toa, mass_thickness, elements_dict = {\"26\" :1.0}) : \n",
    "    mu = absorption_coefficient(energy,atomic_fraction=False,elements_dict= elements_dict)\n",
    "    rad_toa = np.deg2rad(toa)\n",
    "    chi = mu*mass_thickness/np.sin(rad_toa)\n",
    "    return l_map*((1 - np.exp(-chi))/chi)\n",
    "\n",
    "\n",
    "m = abs_map(fe1,energy,toa,np.random.rand(128,128))\n",
    "\n",
    "plt.imshow(m)"
   ]
  },
  {
   "cell_type": "code",
   "execution_count": 28,
   "metadata": {},
   "outputs": [],
   "source": [
    "# <examples/doc_parameters_basic.py>\n",
    "import numpy as np\n",
    "\n",
    "from lmfit import Minimizer, Parameters, report_fit\n",
    "from tqdm import tqdm\n",
    "\n",
    "# define objective function: returns the array to be minimized\n",
    "def absorption_fit(params,data,energy1, energy2, toa, elements_dict = {}):\n",
    "    \"\"\"Model a decaying sine wave and subtract data.\"\"\"\n",
    "    mt = params['mass_thickness']\n",
    "    mu1 = absorption_coefficient(energy1,atomic_fraction=False,elements_dict= elements_dict)\n",
    "    mu2 = absorption_coefficient(energy2,atomic_fraction=False,elements_dict= elements_dict)\n",
    "    rad_toa = np.deg2rad(toa)\n",
    "    chi1 = mu1*mt/np.sin(rad_toa)\n",
    "    chi2 = mu2*mt/np.sin(rad_toa)\n",
    "    model = (1 - np.exp(-chi2))/(1 - np.exp(-chi1))*(mu1/mu2)\n",
    "    return model - data\n",
    "\n",
    "\n",
    "# create a set of Parameters\n",
    "params = Parameters()\n",
    "params.add('mass_thickness', value=0.0085, min=1e-10)\n",
    "\n",
    "# do fit, here with the default leastsq algorithm\n",
    "mt_map = np.zeros_like(s.data[:,:,0])\n",
    "data = fe1/fe2\n",
    "for i in tqdm(range(mt_map.shape[0])) : \n",
    "    for j in range(mt_map.shape[1]) :\n",
    "        curr_data = data[i,j]\n",
    "        minner = Minimizer(absorption_fit, params, fcn_args=(curr_data,0.7,6.4,s.metadata.Acquisition_instrument.TEM.Detector.EDS.take_off_angle, {'26' : 1.0} ))\n",
    "        result = minner.minimize()\n",
    "        mt_map[i,j] = result.params['mass_thickness'].value\n",
    "        params['mass_thickness'].value = result.params['mass_thickness'].value"
   ]
  },
  {
   "cell_type": "code",
   "execution_count": 2,
   "metadata": {},
   "outputs": [],
   "source": [
    "def absorption_mass_thickness(x,mass_thickness, toa = 90, atomic_fraction = True, *, elements_dict = {\"Si\" : 1.0}) : \n",
    "    mu = absorption_coefficient(x,atomic_fraction,elements_dict = elements_dict)\n",
    "    rad_toa = np.deg2rad(toa)\n",
    "    if type(mu) == float : \n",
    "        chi = mu*mass_thickness/np.sin(rad_toa)\n",
    "    else : \n",
    "        chi = mu[:,np.newaxis]@((mass_thickness.reshape(-1)[:,np.newaxis]).T)/np.sin(rad_toa)\n",
    "    return (1-np.exp(-chi))/chi"
   ]
  },
  {
   "cell_type": "code",
   "execution_count": 66,
   "metadata": {},
   "outputs": [
    {
     "data": {
      "text/plain": [
       "{'Hf': 1.4146027014913096,\n",
       " 'Cu': 5.808172796043127,\n",
       " 'Ca': 4.286308983161415,\n",
       " 'O': 17.10360084418461,\n",
       " 'Ti': 0.0524235259576504,\n",
       " 'Nd': 0.0993262299689619,\n",
       " 'Sm': 0.11049384289768606,\n",
       " 'Mg': 14.81147665353569,\n",
       " 'Si': 11.079956621707547,\n",
       " 'Al': 1.136738683481501,\n",
       " 'Fe': 2.505167703634514,\n",
       " 'Lu': 0.19468596910149402}"
      ]
     },
     "execution_count": 66,
     "metadata": {},
     "output_type": "execute_result"
    }
   ],
   "source": [
    "ed"
   ]
  },
  {
   "cell_type": "code",
   "execution_count": 81,
   "metadata": {},
   "outputs": [
    {
     "data": {
      "text/plain": [
       "[<matplotlib.lines.Line2D at 0x7fed5d05c760>]"
      ]
     },
     "execution_count": 81,
     "metadata": {},
     "output_type": "execute_result"
    }
   ],
   "source": [
    "plt.plot(s.data.sum(axis=(0,1)))"
   ]
  },
  {
   "cell_type": "code",
   "execution_count": 41,
   "metadata": {},
   "outputs": [],
   "source": [
    "ed = {}\n",
    "i = 0\n",
    "for elt in s.metadata.Sample.elements : \n",
    "    if elt == \"Fe\" : \n",
    "        i += 1\n",
    "    ed[elt] = np.mean(est.W_[i])\n",
    "    i+=1"
   ]
  },
  {
   "cell_type": "code",
   "execution_count": 47,
   "metadata": {},
   "outputs": [],
   "source": [
    "absc = absorption_mass_thickness(x,mt_map,toa = s.metadata.Acquisition_instrument.TEM.Detector.EDS.take_off_angle, elements_dict = ed)"
   ]
  },
  {
   "cell_type": "code",
   "execution_count": 48,
   "metadata": {},
   "outputs": [],
   "source": [
    "abscr = absc.T.reshape((128,128,1980))"
   ]
  },
  {
   "cell_type": "code",
   "execution_count": 49,
   "metadata": {},
   "outputs": [],
   "source": [
    "sabscr = hs.signals.Signal1D(abscr)"
   ]
  },
  {
   "cell_type": "code",
   "execution_count": 34,
   "metadata": {},
   "outputs": [],
   "source": [
    "sabscr.plot()"
   ]
  },
  {
   "cell_type": "code",
   "execution_count": 50,
   "metadata": {},
   "outputs": [],
   "source": [
    "s.data = s.data/sabscr.data"
   ]
  },
  {
   "cell_type": "code",
   "execution_count": 52,
   "metadata": {},
   "outputs": [],
   "source": [
    "sabscr.plot()"
   ]
  },
  {
   "cell_type": "code",
   "execution_count": 56,
   "metadata": {},
   "outputs": [
    {
     "name": "stdout",
     "output_type": "stream",
     "text": [
      "It 10 / 100: loss 0.137,  0.829 it/s\n",
      "It 20 / 100: loss 0.136,  0.819 it/s\n",
      "It 30 / 100: loss 0.136,  0.820 it/s\n",
      "It 40 / 100: loss 0.136,  0.813 it/s\n",
      "It 50 / 100: loss 0.135,  0.815 it/s\n",
      "It 60 / 100: loss 0.135,  0.818 it/s\n",
      "It 70 / 100: loss 0.135,  0.818 it/s\n",
      "exits because of relative change < tol: 1.0231198032930053e-05\n",
      "Stopped after 73 iterations in 1.0 minutes and 29.0 seconds.\n",
      "Decomposition info:\n",
      "  normalize_poissonian_noise=False\n",
      "  algorithm=SmoothNMF()\n",
      "  output_dimension=None\n",
      "  centre=None\n",
      "scikit-learn estimator:\n",
      "SmoothNMF()\n"
     ]
    }
   ],
   "source": [
    "G = s.build_G(norm = True)\n",
    "est = SmoothNMF( n_components = 3,tol=0.00001, max_iter = 100, G = G,hspy_comp = True)\n",
    "\n",
    "s.decomposition(algorithm=est)"
   ]
  },
  {
   "cell_type": "code",
   "execution_count": 57,
   "metadata": {},
   "outputs": [
    {
     "data": {
      "application/vnd.jupyter.widget-view+json": {
       "model_id": "9480547b7ef64d8e88f4054a43584371",
       "version_major": 2,
       "version_minor": 0
      },
      "text/plain": [
       "VBox(children=(HBox(children=(Label(value='Decomposition component index', layout=Layout(width='15%')), IntSli…"
      ]
     },
     "metadata": {},
     "output_type": "display_data"
    }
   ],
   "source": [
    "s.plot_decomposition_results()"
   ]
  },
  {
   "cell_type": "code",
   "execution_count": 31,
   "metadata": {
    "tags": []
   },
   "outputs": [
    {
     "name": "stderr",
     "output_type": "stream",
     "text": [
      "/home/adrien/anaconda3/envs/esmpy/lib/python3.10/site-packages/hyperspy/misc/utils.py:471: VisibleDeprecationWarning: Use of the `binned` attribute in metadata is going to be deprecated in v2.0. Set the `axis.is_binned` attribute instead. \n",
      "  warnings.warn(\n",
      "/home/adrien/anaconda3/envs/esmpy/lib/python3.10/site-packages/hyperspy/io.py:560: VisibleDeprecationWarning: Loading old file version. The binned attribute has been moved from metadata.Signal to axis.is_binned. Setting this attribute for all signal axes instead.\n",
      "  warnings.warn('Loading old file version. The binned attribute '\n"
     ]
    },
    {
     "data": {
      "text/plain": [
       "<AxesSubplot:xlabel='X-ray energy (keV)', ylabel='Intensity'>"
      ]
     },
     "execution_count": 31,
     "metadata": {},
     "output_type": "execute_result"
    }
   ],
   "source": [
    "spim = hs.load(\"eds_rebin.hspy\")\n",
    "\n",
    "spim.set_signal_type(\"EDS_ESMPY\")\n",
    "spim.set_additional_parameters(thickness = 0.0,density = 2.1,detector_type = \"Det_eff.txt\",width_slope = 0.01,width_intercept = 0.065,xray_db = \"300keV_corentin_xrays.json\")\n",
    "spim.metadata.Sample.elements = ['Al','C','Cr','Cu','F','Fe','Mg','N','Na','Ni','O','S','Si']\n",
    "\n",
    "# spim.set_analysis_parameters(beam_energy = 300,\n",
    "# azimuth_angle = 0.0,\n",
    "# elevation_angle = 35.0,\n",
    "# elements = ['Al', 'C', 'Ca', 'Cl', 'Cr', 'Cu', 'F', 'Fe', 'Ga', 'K', 'Mg', 'Mn', 'N', 'Na', 'Ni', 'O', 'P', 'Pt', 'S', 'Si', 'Ti', 'Zr'],\n",
    "# tilt_stage = -6.071,\n",
    "# thickness = 80e-7,\n",
    "# density = 2.1,\n",
    "# detector_type = \"Det_eff.txt\",\n",
    "# width_slope = 0.01,\n",
    "# width_intercept = 0.065,\n",
    "# xray_db = \"300keV_corentin_xrays.json\")\n",
    "\n",
    "cropped_spim = spim.inav[1:195,:].isig[:7.8]"
   ]
  },
  {
   "cell_type": "code",
   "execution_count": 9,
   "metadata": {},
   "outputs": [
    {
     "name": "stdout",
     "output_type": "stream",
     "text": [
      "It 10 / 10000000: loss 0.018,  22.307 it/s\n",
      "It 20 / 10000000: loss 0.017,  23.018 it/s\n",
      "It 30 / 10000000: loss 0.017,  23.141 it/s\n",
      "It 40 / 10000000: loss 0.017,  23.591 it/s\n",
      "exits because of relative change < tol: 2.8233664899750605e-06\n",
      "Stopped after 46 iterations in 0.0 minutes and 2.0 seconds.\n",
      "0.13044578860631506\n"
     ]
    }
   ],
   "source": [
    "spectrum = hs.load(\"phyllo_spectre_moyen.hspy\")\n",
    "spectrum.set_signal_type(\"EDS_ESMPY\")\n",
    "spectrum.axes_manager[0].offset += +0.000\n",
    "spectrum.set_additional_parameters(thickness = 0.0,density = 2.1,detector_type = \"Det_eff.txt\",width_slope = 0.01,width_intercept = 0.065,xray_db = \"300keV_corentin_xrays.json\")\n",
    "spectrum.metadata.Sample.elements = ['K','Pt','Al','C','Cr','Cu','F','Fe','Ga','Mg','N','Na','Ni','O','S','Si']\n",
    "\n",
    "cropped_spim = spectrum.isig[:7.8]\n",
    "\n",
    "G_ref = cropped_spim.build_G(\"bremsstrahlung\", norm = True, reference_elt={'26' : 3.0,\"24\" : 3.0})\n",
    "\n",
    "est_ref = SmoothNMF(n_components = 1, tol = 0.000001, max_iter = 10000000, G = G_ref)\n",
    " \n",
    "est_ref.fit(cropped_spim.data[:,np.newaxis])\n",
    "\n",
    "fW = est_ref.W_\n",
    "fG = est_ref.G_\n",
    "\n",
    "x = np.linspace(cropped_spim.axes_manager[0].offset, cropped_spim.axes_manager[0].offset + cropped_spim.axes_manager[0].scale*cropped_spim.axes_manager[0].size, num = cropped_spim.axes_manager[0].size)\n",
    "\n",
    "# <examples/doc_parameters_basic.py>\n",
    "import numpy as np\n",
    "\n",
    "from lmfit import Minimizer, Parameters, report_fit\n",
    "from tqdm import tqdm\n",
    "from esmpy.models.absorption_edxs import absorption_correction, absorption_coefficient\n",
    "\n",
    "# define objective function: returns the array to be minimized\n",
    "def absorption_fit(params,data,energy1, energy2, toa, elements_dict = {}):\n",
    "    \"\"\"Model a decaying sine wave and subtract data.\"\"\"\n",
    "    mt = params['mass_thickness']\n",
    "    mu1 = absorption_coefficient(energy1,atomic_fraction=False,elements_dict= elements_dict)\n",
    "    mu2 = absorption_coefficient(energy2,atomic_fraction=False,elements_dict= elements_dict)\n",
    "    rad_toa = np.deg2rad(toa)\n",
    "    chi1 = mu1*mt/np.sin(rad_toa)\n",
    "    chi2 = mu2*mt/np.sin(rad_toa)\n",
    "    model = (1 - np.exp(-chi1))/(1 - np.exp(-chi2))*(mu2/mu1)\n",
    "    return model - data\n",
    "\n",
    "\n",
    "# create a set of Parameters\n",
    "params = Parameters()\n",
    "params.add('mass_thickness', value=0.0005, min=1e-10)\n",
    "\n",
    "\n",
    "cr_ratio = fW[2]/fW[3]\n",
    "fe_ratio = fW[6]/fW[7]\n",
    "# do fit, here with the default leastsq algorithm\n",
    "\n",
    "\n",
    "curr_data = fe_ratio\n",
    "minner = Minimizer(absorption_fit, params, fcn_args=(curr_data,0.7,6.4,cropped_spim.metadata.Acquisition_instrument.TEM.Detector.EDS.take_off_angle, {\"26\" : 1.0} ))\n",
    "result = minner.minimize()\n",
    "print(result.params['mass_thickness'].value)\n",
    "        # params['mass_thickness'].value = result.params['mass_thickness'].value\n",
    "\n",
    "plt.plot(x,cropped_spim.data,'ko',markersize = 3.5,label = \"Experimental\")\n",
    "plt.plot(x,fG@fW,'r',linewidth = 2, label = \"Simulated\")\n",
    "plt.legend()\n",
    "plt.xlabel(\"Energy (keV)\")\n",
    "plt.ylabel(\"Intensity (cts)\")\n",
    "plt.ylim(0,4)\n",
    "plt.tight_layout()"
   ]
  },
  {
   "cell_type": "code",
   "execution_count": 10,
   "metadata": {},
   "outputs": [
    {
     "name": "stdout",
     "output_type": "stream",
     "text": [
      "exit because of negative decrease -1.0758475957328706e-07: 0.060554917988197836, 0.06055502557295741\n",
      "Stopped after 9 iterations in 0.0 minutes and 0.0 seconds.\n"
     ]
    }
   ],
   "source": [
    "spectrum = hs.load(\"phyllo_spectre_moyen.hspy\")\n",
    "spectrum.set_signal_type(\"EDS_ESMPY\")\n",
    "spectrum.axes_manager[0].offset += +0.000\n",
    "spectrum.set_additional_parameters(thickness = 0.0004934,density = 1.0,detector_type = \"Det_eff.txt\",width_slope = 0.01,width_intercept = 0.065,xray_db = \"300keV_corentin_xrays.json\")\n",
    "spectrum.metadata.Sample.elements = ['Al','C','Cr','Cu','F','Fe','Ga','Mg','N','Na','Ni','O','S','Si']\n",
    "\n",
    "cropped_spim = spectrum.isig[:7.8]\n",
    "\n",
    "G_nref = cropped_spim.build_G(\"bremsstrahlung\", norm = True, reference_elt={})\n",
    "\n",
    "est_nref = SmoothNMF(n_components = 1, tol = 0.000001, max_iter = 10000000, G = G_nref)\n",
    " \n",
    "est_nref.fit(cropped_spim.data[:,np.newaxis])\n",
    "\n",
    "fWn = est_nref.W_\n",
    "fGn = est_nref.G_"
   ]
  },
  {
   "cell_type": "code",
   "execution_count": 29,
   "metadata": {},
   "outputs": [
    {
     "name": "stdout",
     "output_type": "stream",
     "text": [
      "Al : [0.08233703]\n",
      "C : [0.17744989]\n",
      "Cr : [0.01102022]\n",
      "F : [0.00979825]\n",
      "Fe : [0.37928018]\n",
      "Ga : [0.24456582]\n",
      "Mg : [0.02210331]\n",
      "N : [0.87711577]\n",
      "Na : [0.01990752]\n",
      "Ni : [0.04110368]\n",
      "O : [0.01276253]\n",
      "S : [1.73782993]\n",
      "Si : [0.0381382]\n"
     ]
    }
   ],
   "source": [
    "W = np.vstack((fW[:2], fW[3:6],fW[7:]))\n",
    "nW = W/W.sum(axis = 0,keepdims = True)\n",
    "siW = nW/nW[-3]\n",
    "\n",
    "\n",
    "i = 0\n",
    "for j in cropped_spim.metadata.Sample.elements : \n",
    "    if j == 'Cu' : \n",
    "        pass\n",
    "    else : \n",
    "        print(\"{} : {}\".format(j,siW[i]))\n",
    "        i +=1"
   ]
  },
  {
   "cell_type": "code",
   "execution_count": 33,
   "metadata": {},
   "outputs": [
    {
     "data": {
      "text/plain": [
       "array([[0.08233703],\n",
       "       [0.17744989],\n",
       "       [0.        ],\n",
       "       [0.01102022],\n",
       "       [0.00979825],\n",
       "       [0.37928018],\n",
       "       [0.08315487],\n",
       "       [0.24456582],\n",
       "       [0.02210331],\n",
       "       [0.87711577],\n",
       "       [0.01990752],\n",
       "       [0.04110368],\n",
       "       [0.01276253],\n",
       "       [1.73782993],\n",
       "       [0.0381382 ],\n",
       "       [1.        ],\n",
       "       [0.        ],\n",
       "       [0.13364745]])"
      ]
     },
     "execution_count": 33,
     "metadata": {},
     "output_type": "execute_result"
    }
   ],
   "source": [
    "fW/fW[-3]"
   ]
  },
  {
   "cell_type": "code",
   "execution_count": 11,
   "metadata": {},
   "outputs": [
    {
     "data": {
      "text/plain": [
       "array([[0.09557353],\n",
       "       [0.25249888],\n",
       "       [0.        ],\n",
       "       [0.0325192 ],\n",
       "       [0.35123119],\n",
       "       [0.27866166],\n",
       "       [0.0298309 ],\n",
       "       [0.88454371],\n",
       "       [0.06314531],\n",
       "       [0.0593343 ],\n",
       "       [0.01575562],\n",
       "       [1.7710745 ],\n",
       "       [0.04194237],\n",
       "       [1.        ],\n",
       "       [0.        ],\n",
       "       [0.05651161]])"
      ]
     },
     "execution_count": 11,
     "metadata": {},
     "output_type": "execute_result"
    }
   ],
   "source": [
    "fWn/fWn[-3]"
   ]
  },
  {
   "cell_type": "code",
   "execution_count": 35,
   "metadata": {},
   "outputs": [
    {
     "data": {
      "text/plain": [
       "[<matplotlib.lines.Line2D at 0x7f01ebd40970>]"
      ]
     },
     "execution_count": 35,
     "metadata": {},
     "output_type": "execute_result"
    }
   ],
   "source": []
  },
  {
   "cell_type": "code",
   "execution_count": 35,
   "metadata": {},
   "outputs": [
    {
     "ename": "AttributeError",
     "evalue": "It is not possible to decompose a dataset with navigation_size < 2",
     "output_type": "error",
     "traceback": [
      "\u001b[0;31m---------------------------------------------------------------------------\u001b[0m",
      "\u001b[0;31mAttributeError\u001b[0m                            Traceback (most recent call last)",
      "\u001b[1;32m/home/adrien/travail/esmpy/notebooks/spectrum_fit.ipynb Cellule 25\u001b[0m in \u001b[0;36m<cell line: 4>\u001b[0;34m()\u001b[0m\n\u001b[1;32m      <a href='vscode-notebook-cell:/home/adrien/travail/esmpy/notebooks/spectrum_fit.ipynb#X32sZmlsZQ%3D%3D?line=0'>1</a>\u001b[0m G_no_ref \u001b[39m=\u001b[39m cropped_spim\u001b[39m.\u001b[39mbuild_G(\u001b[39m\"\u001b[39m\u001b[39mbremsstrahlung\u001b[39m\u001b[39m\"\u001b[39m,norm \u001b[39m=\u001b[39m \u001b[39mTrue\u001b[39;00m, reference_elt \u001b[39m=\u001b[39m {})\n\u001b[1;32m      <a href='vscode-notebook-cell:/home/adrien/travail/esmpy/notebooks/spectrum_fit.ipynb#X32sZmlsZQ%3D%3D?line=1'>2</a>\u001b[0m est_no_ref \u001b[39m=\u001b[39m SmoothNMF( n_components \u001b[39m=\u001b[39m \u001b[39m7\u001b[39m,tol\u001b[39m=\u001b[39m\u001b[39m0.000001\u001b[39m, max_iter \u001b[39m=\u001b[39m \u001b[39m1000000\u001b[39m, G \u001b[39m=\u001b[39m G_no_ref,hspy_comp \u001b[39m=\u001b[39m \u001b[39mTrue\u001b[39;00m)\n\u001b[0;32m----> <a href='vscode-notebook-cell:/home/adrien/travail/esmpy/notebooks/spectrum_fit.ipynb#X32sZmlsZQ%3D%3D?line=3'>4</a>\u001b[0m cropped_spim\u001b[39m.\u001b[39;49mdecomposition(algorithm\u001b[39m=\u001b[39;49mest_no_ref)\n",
      "File \u001b[0;32m~/anaconda3/envs/esmpy/lib/python3.10/site-packages/hyperspy/learn/mva.py:272\u001b[0m, in \u001b[0;36mMVA.decomposition\u001b[0;34m(self, normalize_poissonian_noise, algorithm, output_dimension, centre, auto_transpose, navigation_mask, signal_mask, var_array, var_func, reproject, return_info, print_info, svd_solver, copy, **kwargs)\u001b[0m\n\u001b[1;32m    262\u001b[0m     \u001b[39mraise\u001b[39;00m \u001b[39mTypeError\u001b[39;00m(\n\u001b[1;32m    263\u001b[0m         \u001b[39m\"\u001b[39m\u001b[39mTo perform a decomposition the data must be of the \u001b[39m\u001b[39m\"\u001b[39m\n\u001b[1;32m    264\u001b[0m         \u001b[39mf\u001b[39m\u001b[39m\"\u001b[39m\u001b[39mfloat or complex type, but the current type is \u001b[39m\u001b[39m'\u001b[39m\u001b[39m{\u001b[39;00m\u001b[39mself\u001b[39m\u001b[39m.\u001b[39mdata\u001b[39m.\u001b[39mdtype\u001b[39m}\u001b[39;00m\u001b[39m'\u001b[39m\u001b[39m. \u001b[39m\u001b[39m\"\u001b[39m\n\u001b[0;32m   (...)\u001b[0m\n\u001b[1;32m    268\u001b[0m         \u001b[39m\"\u001b[39m\u001b[39mNo decomposition was performed.\u001b[39m\u001b[39m\"\u001b[39m\n\u001b[1;32m    269\u001b[0m     )\n\u001b[1;32m    271\u001b[0m \u001b[39mif\u001b[39;00m \u001b[39mself\u001b[39m\u001b[39m.\u001b[39maxes_manager\u001b[39m.\u001b[39mnavigation_size \u001b[39m<\u001b[39m \u001b[39m2\u001b[39m:\n\u001b[0;32m--> 272\u001b[0m     \u001b[39mraise\u001b[39;00m \u001b[39mAttributeError\u001b[39;00m(\n\u001b[1;32m    273\u001b[0m         \u001b[39m\"\u001b[39m\u001b[39mIt is not possible to decompose a dataset with navigation_size < 2\u001b[39m\u001b[39m\"\u001b[39m\n\u001b[1;32m    274\u001b[0m     )\n\u001b[1;32m    276\u001b[0m \u001b[39m# Check for deprecated algorithm arguments\u001b[39;00m\n\u001b[1;32m    277\u001b[0m algorithms_deprecated \u001b[39m=\u001b[39m {\n\u001b[1;32m    278\u001b[0m     \u001b[39m\"\u001b[39m\u001b[39mfast_svd\u001b[39m\u001b[39m\"\u001b[39m: \u001b[39m\"\u001b[39m\u001b[39mSVD\u001b[39m\u001b[39m\"\u001b[39m,\n\u001b[1;32m    279\u001b[0m     \u001b[39m\"\u001b[39m\u001b[39msvd\u001b[39m\u001b[39m\"\u001b[39m: \u001b[39m\"\u001b[39m\u001b[39mSVD\u001b[39m\u001b[39m\"\u001b[39m,\n\u001b[0;32m   (...)\u001b[0m\n\u001b[1;32m    283\u001b[0m     \u001b[39m\"\u001b[39m\u001b[39mRPCA_GoDec\u001b[39m\u001b[39m\"\u001b[39m: \u001b[39m\"\u001b[39m\u001b[39mRPCA\u001b[39m\u001b[39m\"\u001b[39m,\n\u001b[1;32m    284\u001b[0m }\n",
      "\u001b[0;31mAttributeError\u001b[0m: It is not possible to decompose a dataset with navigation_size < 2"
     ]
    }
   ],
   "source": [
    "G_no_ref = cropped_spim.build_G(\"bremsstrahlung\",norm = True, reference_elt = {})\n",
    "est_no_ref = SmoothNMF( n_components = 7,tol=0.000001, max_iter = 1000000, G = G_no_ref,hspy_comp = True)\n",
    "\n",
    "cropped_spim.decomposition(algorithm=est_no_ref)"
   ]
  },
  {
   "cell_type": "code",
   "execution_count": 153,
   "metadata": {},
   "outputs": [
    {
     "name": "stderr",
     "output_type": "stream",
     "text": [
      "ERROR:hyperspy.io_plugins._hierarchical:The writer could not write the following information in the file: decomposition_algorithm : SmoothNMF()\n",
      "Traceback (most recent call last):\n",
      "  File \"/home/adrien/anaconda3/envs/esmpy/lib/python3.10/site-packages/hyperspy/io_plugins/_hierarchical.py\", line 786, in dict2group\n",
      "    group.attrs[key] = value\n",
      "  File \"h5py/_objects.pyx\", line 54, in h5py._objects.with_phil.wrapper\n",
      "  File \"h5py/_objects.pyx\", line 55, in h5py._objects.with_phil.wrapper\n",
      "  File \"/home/adrien/anaconda3/envs/esmpy/lib/python3.10/site-packages/h5py/_hl/attrs.py\", line 103, in __setitem__\n",
      "    self.create(name, data=value)\n",
      "  File \"/home/adrien/anaconda3/envs/esmpy/lib/python3.10/site-packages/h5py/_hl/attrs.py\", line 180, in create\n",
      "    htype = h5t.py_create(original_dtype, logical=True)\n",
      "  File \"h5py/h5t.pyx\", line 1663, in h5py.h5t.py_create\n",
      "  File \"h5py/h5t.pyx\", line 1687, in h5py.h5t.py_create\n",
      "  File \"h5py/h5t.pyx\", line 1747, in h5py.h5t.py_create\n",
      "TypeError: Object dtype dtype('O') has no native HDF5 equivalent\n"
     ]
    }
   ],
   "source": [
    "cropped_spim.save(\"eds_rebin_results_no_thickness_noCu.hspy\")"
   ]
  },
  {
   "cell_type": "code",
   "execution_count": 5,
   "metadata": {},
   "outputs": [
    {
     "name": "stdout",
     "output_type": "stream",
     "text": [
      "It 10 / 1000000: loss 1.189,  1.064 it/s\n",
      "It 20 / 1000000: loss 1.080,  1.087 it/s\n",
      "It 30 / 1000000: loss 1.022,  1.096 it/s\n"
     ]
    },
    {
     "name": "stderr",
     "output_type": "stream",
     "text": [
      "/home/adrien/travail/esmpy/esmpy/updates.py:49: RuntimeWarning: divide by zero encountered in true_divide\n",
      "  return np.sum(num / (new_x), axis=0) - 1\n"
     ]
    },
    {
     "name": "stdout",
     "output_type": "stream",
     "text": [
      "It 40 / 1000000: loss 0.988,  1.101 it/s\n",
      "It 50 / 1000000: loss 0.970,  1.103 it/s\n",
      "It 60 / 1000000: loss 0.960,  1.105 it/s\n",
      "It 70 / 1000000: loss 0.953,  1.108 it/s\n",
      "It 80 / 1000000: loss 0.948,  1.109 it/s\n",
      "It 90 / 1000000: loss 0.945,  1.110 it/s\n",
      "It 100 / 1000000: loss 0.942,  1.110 it/s\n",
      "It 110 / 1000000: loss 0.939,  1.111 it/s\n",
      "It 120 / 1000000: loss 0.936,  1.111 it/s\n",
      "It 130 / 1000000: loss 0.933,  1.111 it/s\n",
      "It 140 / 1000000: loss 0.930,  1.111 it/s\n",
      "It 150 / 1000000: loss 0.927,  1.109 it/s\n",
      "It 160 / 1000000: loss 0.924,  1.108 it/s\n",
      "It 170 / 1000000: loss 0.922,  1.106 it/s\n",
      "It 180 / 1000000: loss 0.920,  1.104 it/s\n",
      "It 190 / 1000000: loss 0.918,  1.102 it/s\n",
      "It 200 / 1000000: loss 0.916,  1.099 it/s\n",
      "It 210 / 1000000: loss 0.914,  1.097 it/s\n",
      "It 220 / 1000000: loss 0.912,  1.096 it/s\n",
      "Dicotomy stopped for maximum number of iterations with an error of : 6.995809108611972e-05\n",
      "Dicotomy stopped for maximum number of iterations with an error of : 0.0009014811601451012\n",
      "It 230 / 1000000: loss 0.911,  1.096 it/s\n",
      "Dicotomy stopped for maximum number of iterations with an error of : 0.0011458975964552254\n",
      "It 240 / 1000000: loss 0.909,  1.096 it/s\n",
      "Dicotomy stopped for maximum number of iterations with an error of : 0.0005676310110050986\n",
      "It 250 / 1000000: loss 0.907,  1.095 it/s\n",
      "It 260 / 1000000: loss 0.906,  1.094 it/s\n",
      "Dicotomy stopped for maximum number of iterations with an error of : 0.0006278772150805079\n",
      "Dicotomy stopped for maximum number of iterations with an error of : 0.0018011452724577826\n",
      "Dicotomy stopped for maximum number of iterations with an error of : 0.0029960425728885465\n",
      "Dicotomy stopped for maximum number of iterations with an error of : 0.0042045048531302864\n",
      "Dicotomy stopped for maximum number of iterations with an error of : 0.005422401070333094\n",
      "It 270 / 1000000: loss 0.905,  1.093 it/s\n",
      "It 280 / 1000000: loss 0.904,  1.093 it/s\n",
      "It 290 / 1000000: loss 0.903,  1.093 it/s\n",
      "Dicotomy stopped for maximum number of iterations with an error of : 0.00032351042708322897\n",
      "Dicotomy stopped for maximum number of iterations with an error of : 0.0012808422244143802\n",
      "Dicotomy stopped for maximum number of iterations with an error of : 0.002256230113402813\n",
      "Dicotomy stopped for maximum number of iterations with an error of : 0.0032458746861506738\n",
      "Dicotomy stopped for maximum number of iterations with an error of : 0.004247141741001492\n",
      "Dicotomy stopped for maximum number of iterations with an error of : 0.0006842968055840171\n",
      "It 300 / 1000000: loss 0.902,  1.092 it/s\n",
      "Dicotomy stopped for maximum number of iterations with an error of : 0.0001804968067733448\n",
      "Dicotomy stopped for maximum number of iterations with an error of : 0.0011035210217741342\n",
      "Dicotomy stopped for maximum number of iterations with an error of : 0.002050248012746003\n",
      "Dicotomy stopped for maximum number of iterations with an error of : 0.003013476665294057\n",
      "It 310 / 1000000: loss 0.901,  1.091 it/s\n",
      "Dicotomy stopped for maximum number of iterations with an error of : 0.0039879578394007575\n",
      "Dicotomy stopped for maximum number of iterations with an error of : 0.004969754604187138\n",
      "Dicotomy stopped for maximum number of iterations with an error of : 0.005955869865408636\n",
      "It 320 / 1000000: loss 0.900,  1.091 it/s\n",
      "Dicotomy stopped for maximum number of iterations with an error of : 0.0006546461433829531\n",
      "Dicotomy stopped for maximum number of iterations with an error of : 0.00162248291456224\n",
      "Dicotomy stopped for maximum number of iterations with an error of : 0.0025942099807210184\n",
      "Dicotomy stopped for maximum number of iterations with an error of : 0.0035696376124709772\n",
      "Dicotomy stopped for maximum number of iterations with an error of : 0.0045505172924728\n",
      "Dicotomy stopped for maximum number of iterations with an error of : 0.005538738867576831\n",
      "Dicotomy stopped for maximum number of iterations with an error of : 7.977363346567401e-07\n",
      "It 330 / 1000000: loss 0.900,  1.091 it/s\n",
      "It 340 / 1000000: loss 0.899,  1.091 it/s\n",
      "Dicotomy stopped for maximum number of iterations with an error of : 0.00018555814279719307\n",
      "Dicotomy stopped for maximum number of iterations with an error of : 0.0007199207340994329\n",
      "Dicotomy stopped for maximum number of iterations with an error of : 0.0012883638480919446\n",
      "Dicotomy stopped for maximum number of iterations with an error of : 0.0018773680417041305\n",
      "It 350 / 1000000: loss 0.899,  1.092 it/s\n",
      "Dicotomy stopped for maximum number of iterations with an error of : 0.002477677030049197\n",
      "Dicotomy stopped for maximum number of iterations with an error of : 0.0030827856352231287\n",
      "Dicotomy stopped for maximum number of iterations with an error of : 0.003688032203702174\n",
      "Dicotomy stopped for maximum number of iterations with an error of : 0.0001506494031715544\n",
      "Dicotomy stopped for maximum number of iterations with an error of : 0.0008346954382509875\n",
      "Dicotomy stopped for maximum number of iterations with an error of : 0.001535861171103159\n",
      "Dicotomy stopped for maximum number of iterations with an error of : 0.002249917264322443\n",
      "It 360 / 1000000: loss 0.898,  1.092 it/s\n",
      "Dicotomy stopped for maximum number of iterations with an error of : 0.0029742173790886506\n",
      "Dicotomy stopped for maximum number of iterations with an error of : 0.0037068228007084425\n",
      "Dicotomy stopped for maximum number of iterations with an error of : 0.004446132565201655\n",
      "Dicotomy stopped for maximum number of iterations with an error of : 0.005190781815973322\n",
      "Dicotomy stopped for maximum number of iterations with an error of : 0.00593965700419985\n",
      "Dicotomy stopped for maximum number of iterations with an error of : 0.0066919415446456965\n",
      "Dicotomy stopped for maximum number of iterations with an error of : 0.007442700475386643\n",
      "Dicotomy stopped for maximum number of iterations with an error of : 0.007609717286788609\n",
      "Dicotomy stopped for maximum number of iterations with an error of : 0.008337232894552793\n",
      "It 370 / 1000000: loss 0.898,  1.092 it/s\n",
      "Dicotomy stopped for maximum number of iterations with an error of : 0.00018712404797027737\n",
      "Dicotomy stopped for maximum number of iterations with an error of : 0.0006313561030798498\n",
      "It 380 / 1000000: loss 0.897,  1.092 it/s\n",
      "Dicotomy stopped for maximum number of iterations with an error of : 9.883987816239337e-05\n",
      "It 390 / 1000000: loss 0.897,  1.093 it/s\n",
      "It 400 / 1000000: loss 0.896,  1.093 it/s\n",
      "It 410 / 1000000: loss 0.896,  1.093 it/s\n",
      "It 420 / 1000000: loss 0.896,  1.094 it/s\n",
      "Dicotomy stopped for maximum number of iterations with an error of : 4.7494172294548775e-05\n",
      "Dicotomy stopped for maximum number of iterations with an error of : 0.000583636910060803\n",
      "Dicotomy stopped for maximum number of iterations with an error of : 0.0011434780400356725\n",
      "Dicotomy stopped for maximum number of iterations with an error of : 0.001721144028489885\n",
      "It 430 / 1000000: loss 0.895,  1.093 it/s\n",
      "Dicotomy stopped for maximum number of iterations with an error of : 0.002312271268514632\n",
      "Dicotomy stopped for maximum number of iterations with an error of : 0.0029134777249788524\n",
      "Dicotomy stopped for maximum number of iterations with an error of : 0.0035221066649843147\n",
      "Dicotomy stopped for maximum number of iterations with an error of : 0.004136060022335353\n",
      "Dicotomy stopped for maximum number of iterations with an error of : 0.00475368921100805\n",
      "Dicotomy stopped for maximum number of iterations with an error of : 0.005373723584572332\n",
      "Dicotomy stopped for maximum number of iterations with an error of : 0.005995221030443476\n",
      "Dicotomy stopped for maximum number of iterations with an error of : 0.006617524008248887\n",
      "Dicotomy stopped for maximum number of iterations with an error of : 0.00724020031484196\n",
      "Dicotomy stopped for maximum number of iterations with an error of : 0.007862957091502087\n",
      "It 440 / 1000000: loss 0.895,  1.093 it/s\n",
      "Dicotomy stopped for maximum number of iterations with an error of : 0.008485548457243253\n",
      "Dicotomy stopped for maximum number of iterations with an error of : 0.00910772033778151\n",
      "Dicotomy stopped for maximum number of iterations with an error of : 0.00012452828369813318\n",
      "It 450 / 1000000: loss 0.894,  1.093 it/s\n",
      "It 460 / 1000000: loss 0.894,  1.094 it/s\n",
      "It 470 / 1000000: loss 0.894,  1.094 it/s\n",
      "It 480 / 1000000: loss 0.893,  1.094 it/s\n",
      "It 490 / 1000000: loss 0.893,  1.094 it/s\n",
      "It 500 / 1000000: loss 0.892,  1.095 it/s\n",
      "It 510 / 1000000: loss 0.892,  1.095 it/s\n",
      "Dicotomy stopped for maximum number of iterations with an error of : 0.0002707615935755303\n",
      "Dicotomy stopped for maximum number of iterations with an error of : 0.0006229179566314968\n",
      "Dicotomy stopped for maximum number of iterations with an error of : 0.0009915258171304675\n",
      "Dicotomy stopped for maximum number of iterations with an error of : 0.00137203028877253\n",
      "Dicotomy stopped for maximum number of iterations with an error of : 0.001761056242753023\n",
      "Dicotomy stopped for maximum number of iterations with an error of : 0.0021560842842947014\n",
      "It 520 / 1000000: loss 0.892,  1.094 it/s\n",
      "Dicotomy stopped for maximum number of iterations with an error of : 0.0025552302972235985\n",
      "Dicotomy stopped for maximum number of iterations with an error of : 0.002957070815321927\n",
      "Dicotomy stopped for maximum number of iterations with an error of : 0.0033606512367690966\n",
      "Dicotomy stopped for maximum number of iterations with an error of : 0.0037650574353835786\n",
      "Dicotomy stopped for maximum number of iterations with an error of : 0.0041695164090136405\n",
      "Dicotomy stopped for maximum number of iterations with an error of : 0.004573363267639463\n",
      "Dicotomy stopped for maximum number of iterations with an error of : 0.004976023506865435\n",
      "Dicotomy stopped for maximum number of iterations with an error of : 0.00537700177047884\n",
      "Dicotomy stopped for maximum number of iterations with an error of : 0.005775874438491702\n",
      "Dicotomy stopped for maximum number of iterations with an error of : 0.0061722903066732115\n",
      "It 530 / 1000000: loss 0.891,  1.093 it/s\n",
      "Dicotomy stopped for maximum number of iterations with an error of : 0.006565978873225964\n",
      "Dicotomy stopped for maximum number of iterations with an error of : 0.006956759449170402\n",
      "Dicotomy stopped for maximum number of iterations with an error of : 0.007344495219363534\n",
      "Dicotomy stopped for maximum number of iterations with an error of : 0.007734091782921504\n",
      "It 540 / 1000000: loss 0.891,  1.092 it/s\n",
      "It 550 / 1000000: loss 0.890,  1.092 it/s\n",
      "It 560 / 1000000: loss 0.890,  1.092 it/s\n",
      "It 570 / 1000000: loss 0.889,  1.092 it/s\n",
      "It 580 / 1000000: loss 0.889,  1.092 it/s\n",
      "It 590 / 1000000: loss 0.888,  1.093 it/s\n",
      "It 600 / 1000000: loss 0.888,  1.093 it/s\n",
      "It 610 / 1000000: loss 0.887,  1.093 it/s\n",
      "It 620 / 1000000: loss 0.887,  1.093 it/s\n",
      "It 630 / 1000000: loss 0.886,  1.093 it/s\n",
      "It 640 / 1000000: loss 0.886,  1.093 it/s\n",
      "It 650 / 1000000: loss 0.885,  1.093 it/s\n",
      "It 660 / 1000000: loss 0.884,  1.093 it/s\n",
      "It 670 / 1000000: loss 0.884,  1.093 it/s\n",
      "It 680 / 1000000: loss 0.883,  1.093 it/s\n",
      "It 690 / 1000000: loss 0.882,  1.093 it/s\n",
      "It 700 / 1000000: loss 0.882,  1.093 it/s\n",
      "It 710 / 1000000: loss 0.881,  1.093 it/s\n",
      "It 720 / 1000000: loss 0.881,  1.093 it/s\n",
      "It 730 / 1000000: loss 0.881,  1.093 it/s\n",
      "It 740 / 1000000: loss 0.880,  1.093 it/s\n",
      "It 750 / 1000000: loss 0.880,  1.093 it/s\n",
      "It 760 / 1000000: loss 0.879,  1.093 it/s\n",
      "It 770 / 1000000: loss 0.878,  1.093 it/s\n",
      "It 780 / 1000000: loss 0.878,  1.092 it/s\n",
      "It 790 / 1000000: loss 0.878,  1.092 it/s\n",
      "It 800 / 1000000: loss 0.878,  1.092 it/s\n",
      "It 810 / 1000000: loss 0.877,  1.092 it/s\n",
      "It 820 / 1000000: loss 0.877,  1.092 it/s\n",
      "It 830 / 1000000: loss 0.877,  1.092 it/s\n",
      "It 840 / 1000000: loss 0.877,  1.092 it/s\n",
      "It 850 / 1000000: loss 0.877,  1.093 it/s\n",
      "It 860 / 1000000: loss 0.876,  1.093 it/s\n",
      "It 870 / 1000000: loss 0.876,  1.093 it/s\n",
      "It 880 / 1000000: loss 0.876,  1.093 it/s\n",
      "It 890 / 1000000: loss 0.876,  1.093 it/s\n",
      "exits because of relative change < tol: 1.204285456979643e-05\n",
      "Stopped after 895 iterations in 13.0 minutes and 39.0 seconds.\n",
      "Decomposition info:\n",
      "  normalize_poissonian_noise=False\n",
      "  algorithm=SmoothNMF()\n",
      "  output_dimension=None\n",
      "  centre=None\n",
      "scikit-learn estimator:\n",
      "SmoothNMF()\n"
     ]
    }
   ],
   "source": [
    "G_ref = cropped_spim.build_G(\"bremsstrahlung\",norm = True, reference_elt = {\"26\":3.0})\n",
    "est_ref = SmoothNMF( n_components = 7,tol=0.000001, max_iter = 1000000, G = G_ref,hspy_comp = True)\n",
    "\n",
    "cropped_spim.decomposition(algorithm=est_ref)"
   ]
  },
  {
   "cell_type": "code",
   "execution_count": 7,
   "metadata": {},
   "outputs": [],
   "source": [
    "W = est_ref.W_\n",
    "H = est_ref.H_\n",
    "\n",
    "iron_ratio = ((W[5]@H).reshape((68,194)))/((W[6]@H).reshape((68,194)))\n",
    "\n",
    "# iron_ratio = (W[6]@H).reshape((68,195))/(W[7]@H).reshape((68,195)) "
   ]
  },
  {
   "cell_type": "code",
   "execution_count": 10,
   "metadata": {},
   "outputs": [
    {
     "data": {
      "text/plain": [
       "{'Al': 26.55877650574517,\n",
       " 'C': 170.98798818647705,\n",
       " 'Cr': 111.00852515399616,\n",
       " 'Cu': 14.120609432997057,\n",
       " 'F': 105.20790478235482,\n",
       " 'Fe': 3483.35174164706,\n",
       " 'Mg': 283.10872939836156,\n",
       " 'N': 4.456662348101455,\n",
       " 'Na': 33.596044364731306,\n",
       " 'Ni': 437.53200464042936,\n",
       " 'O': 934.9607960558623,\n",
       " 'S': 860.0730185409587,\n",
       " 'Si': 400.69007459615005}"
      ]
     },
     "execution_count": 10,
     "metadata": {},
     "output_type": "execute_result"
    }
   ],
   "source": [
    "ed = {}\n",
    "i = 0\n",
    "W = est_ref.W_\n",
    "for elt in cropped_spim.metadata.Sample.elements : \n",
    "    if elt == \"Fe\" : \n",
    "        i += 1\n",
    "    ed[elt] = np.mean(W[i])\n",
    "    i+=1\n",
    "\n",
    "ed"
   ]
  },
  {
   "cell_type": "code",
   "execution_count": 11,
   "metadata": {},
   "outputs": [
    {
     "name": "stderr",
     "output_type": "stream",
     "text": [
      "100%|██████████| 68/68 [02:17<00:00,  2.03s/it]\n"
     ]
    }
   ],
   "source": [
    "# <examples/doc_parameters_basic.py>\n",
    "import numpy as np\n",
    "\n",
    "from lmfit import Minimizer, Parameters, report_fit\n",
    "from tqdm import tqdm\n",
    "from esmpy.models.absorption_edxs import absorption_correction, absorption_coefficient\n",
    "\n",
    "# define objective function: returns the array to be minimized\n",
    "def absorption_fit(params,data,energy1, energy2, toa, elements_dict = {}):\n",
    "    \"\"\"Model a decaying sine wave and subtract data.\"\"\"\n",
    "    mt = params['mass_thickness']\n",
    "    mu1 = absorption_coefficient(energy1,atomic_fraction=False,elements_dict= elements_dict)\n",
    "    mu2 = absorption_coefficient(energy2,atomic_fraction=False,elements_dict= elements_dict)\n",
    "    rad_toa = np.deg2rad(toa)\n",
    "    chi1 = mu1*mt/np.sin(rad_toa)\n",
    "    chi2 = mu2*mt/np.sin(rad_toa)\n",
    "    model = (1 - np.exp(-chi1))/(1 - np.exp(-chi2))*(mu2/mu1)\n",
    "    return model - data\n",
    "\n",
    "\n",
    "# create a set of Parameters\n",
    "params = Parameters()\n",
    "params.add('mass_thickness', value=0.00085, min=1e-10)\n",
    "\n",
    "# do fit, here with the default leastsq algorithm\n",
    "mt_map = np.zeros_like(cropped_spim.data[:,:,0])\n",
    "for i in tqdm(range(mt_map.shape[0])) : \n",
    "    for j in range(mt_map.shape[1]) :\n",
    "        curr_data = iron_ratio[i,j]\n",
    "        minner = Minimizer(absorption_fit, params, fcn_args=(curr_data,0.7,6.4,cropped_spim.metadata.Acquisition_instrument.TEM.Detector.EDS.take_off_angle, {\"26\" : 1.0} ))\n",
    "        result = minner.minimize()\n",
    "        mt_map[i,j] = result.params['mass_thickness'].value\n",
    "        # params['mass_thickness'].value = result.params['mass_thickness'].value"
   ]
  },
  {
   "cell_type": "code",
   "execution_count": 12,
   "metadata": {},
   "outputs": [
    {
     "data": {
      "text/plain": [
       "<matplotlib.image.AxesImage at 0x7f3984f16ad0>"
      ]
     },
     "execution_count": 12,
     "metadata": {},
     "output_type": "execute_result"
    }
   ],
   "source": [
    "plt.imshow(mt_map)"
   ]
  },
  {
   "cell_type": "code",
   "execution_count": 13,
   "metadata": {},
   "outputs": [],
   "source": [
    "offset = cropped_spim.axes_manager[2].offset\n",
    "size = cropped_spim.axes_manager[2].size\n",
    "scale = cropped_spim.axes_manager[2].scale\n",
    "x = np.linspace(offset, scale*size + offset, num = size)\n",
    "absc = absorption_mass_thickness(x,mt_map,toa = cropped_spim.metadata.Acquisition_instrument.TEM.Detector.EDS.take_off_angle, elements_dict = {\"F\" : 0.47,\"Fe\" : 0.25, \"Si\" : 1.0, \"O\" : 2.6, \"Mg\" : 0.9, \"C\" : 0.6})\n",
    "abscr = absc.T.reshape((cropped_spim.axes_manager[1].size,cropped_spim.axes_manager[0].size,size))"
   ]
  },
  {
   "cell_type": "code",
   "execution_count": 24,
   "metadata": {},
   "outputs": [],
   "source": [
    "hs.signals.Signal1D(abscr).plot()"
   ]
  },
  {
   "cell_type": "code",
   "execution_count": 113,
   "metadata": {},
   "outputs": [
    {
     "data": {
      "text/plain": [
       "<matplotlib.legend.Legend at 0x7fd82cef93f0>"
      ]
     },
     "execution_count": 113,
     "metadata": {},
     "output_type": "execute_result"
    }
   ],
   "source": [
    "plt.plot(x,abs_corr.get_decomposition_model().mean().data, label = 'abs corr')\n",
    "plt.plot(x,cropped_spim.mean().data,'ko', markersize = 1.3,  label = \"exp\")\n",
    "plt.plot(x, no_abs.get_decomposition_model().mean().data, label = 'no thickness')\n",
    "plt.plot(x,abs.get_decomposition_model().mean().data,label = \"abs\")\n",
    "plt.legend()"
   ]
  },
  {
   "cell_type": "code",
   "execution_count": 14,
   "metadata": {},
   "outputs": [],
   "source": [
    "ns = cropped_spim.copy()\n",
    "ns.data = cropped_spim.data/abscr"
   ]
  },
  {
   "cell_type": "code",
   "execution_count": 196,
   "metadata": {},
   "outputs": [],
   "source": [
    "cropped_spim.plot()"
   ]
  },
  {
   "cell_type": "code",
   "execution_count": 15,
   "metadata": {},
   "outputs": [
    {
     "name": "stdout",
     "output_type": "stream",
     "text": [
      "It 10 / 1000000: loss 19.441,  1.057 it/s\n",
      "It 20 / 1000000: loss 17.872,  1.086 it/s\n",
      "It 30 / 1000000: loss 17.229,  1.097 it/s\n",
      "It 40 / 1000000: loss 16.956,  1.097 it/s\n",
      "It 50 / 1000000: loss 16.791,  1.100 it/s\n"
     ]
    },
    {
     "name": "stderr",
     "output_type": "stream",
     "text": [
      "/home/adrien/travail/esmpy/esmpy/updates.py:49: RuntimeWarning: divide by zero encountered in true_divide\n",
      "  return np.sum(num / (new_x), axis=0) - 1\n"
     ]
    },
    {
     "name": "stdout",
     "output_type": "stream",
     "text": [
      "It 60 / 1000000: loss 16.706,  1.101 it/s\n",
      "It 70 / 1000000: loss 16.658,  1.103 it/s\n",
      "It 80 / 1000000: loss 16.629,  1.103 it/s\n",
      "It 90 / 1000000: loss 16.609,  1.105 it/s\n",
      "It 100 / 1000000: loss 16.596,  1.105 it/s\n",
      "It 110 / 1000000: loss 16.586,  1.106 it/s\n",
      "It 120 / 1000000: loss 16.578,  1.106 it/s\n",
      "It 130 / 1000000: loss 16.572,  1.107 it/s\n",
      "It 140 / 1000000: loss 16.566,  1.106 it/s\n",
      "It 150 / 1000000: loss 16.561,  1.108 it/s\n",
      "It 160 / 1000000: loss 16.557,  1.109 it/s\n",
      "It 170 / 1000000: loss 16.554,  1.108 it/s\n",
      "It 180 / 1000000: loss 16.550,  1.103 it/s\n",
      "exits because of relative change < tol: 1.830164761111593e-05\n",
      "Stopped after 188 iterations in 2.0 minutes and 51.0 seconds.\n",
      "Decomposition info:\n",
      "  normalize_poissonian_noise=False\n",
      "  algorithm=SmoothNMF()\n",
      "  output_dimension=None\n",
      "  centre=None\n",
      "scikit-learn estimator:\n",
      "SmoothNMF()\n"
     ]
    }
   ],
   "source": [
    "G_aft = ns.build_G(\"bremsstrahlung\",norm = True, reference_elt={})\n",
    "est_aft = SmoothNMF( n_components = 7,tol=0.000001, max_iter = 1000000, G = G_aft,hspy_comp = True)\n",
    "\n",
    "ns.decomposition(algorithm=est_aft)"
   ]
  },
  {
   "cell_type": "code",
   "execution_count": 185,
   "metadata": {},
   "outputs": [
    {
     "name": "stderr",
     "output_type": "stream",
     "text": [
      "ERROR:hyperspy.io_plugins._hierarchical:The writer could not write the following information in the file: decomposition_algorithm : SmoothNMF()\n",
      "Traceback (most recent call last):\n",
      "  File \"/home/adrien/anaconda3/envs/esmpy/lib/python3.10/site-packages/hyperspy/io_plugins/_hierarchical.py\", line 786, in dict2group\n",
      "    group.attrs[key] = value\n",
      "  File \"h5py/_objects.pyx\", line 54, in h5py._objects.with_phil.wrapper\n",
      "  File \"h5py/_objects.pyx\", line 55, in h5py._objects.with_phil.wrapper\n",
      "  File \"/home/adrien/anaconda3/envs/esmpy/lib/python3.10/site-packages/h5py/_hl/attrs.py\", line 103, in __setitem__\n",
      "    self.create(name, data=value)\n",
      "  File \"/home/adrien/anaconda3/envs/esmpy/lib/python3.10/site-packages/h5py/_hl/attrs.py\", line 180, in create\n",
      "    htype = h5t.py_create(original_dtype, logical=True)\n",
      "  File \"h5py/h5t.pyx\", line 1663, in h5py.h5t.py_create\n",
      "  File \"h5py/h5t.pyx\", line 1687, in h5py.h5t.py_create\n",
      "  File \"h5py/h5t.pyx\", line 1747, in h5py.h5t.py_create\n",
      "TypeError: Object dtype dtype('O') has no native HDF5 equivalent\n"
     ]
    }
   ],
   "source": [
    "ns.save(\"eds_rebin_results_after_correction_noCu.hspy\")"
   ]
  },
  {
   "cell_type": "code",
   "execution_count": 53,
   "metadata": {},
   "outputs": [],
   "source": [
    "W = np.vstack((est_aft.W_[:3], est_aft.W_[4:]))\n",
    "nW = W/W.sum(axis = 0,keepdims = True)\n",
    "sW = np.sum(nW,axis = 1)\n",
    "siW = sW/sW[-3]\n",
    "\n",
    "W1 = np.vstack((est_no_ref.W_[:5], est_no_ref.W_[6:]))\n",
    "nW1 = W1/W1.sum(axis = 0,keepdims = True)\n",
    "sW1 = np.sum(nW1,axis = 1)\n",
    "siW1 = sW1/sW1[-5]\n",
    "\n",
    "i = 0\n",
    "for j in cropped_spim.metadata.Sample.elements : \n",
    "    if j == 'Cu' : \n",
    "        pass\n",
    "    else : \n",
    "        print(\"{} : {}\".format(j,siW[i]))\n",
    "        i +=1\n",
    "\n",
    "i = 0\n",
    "for j in cropped_spim.metadata.Sample.elements : \n",
    "    if j == 'Cu' : \n",
    "        pass\n",
    "    else : \n",
    "        print(\"{} : {}\".format(j,siW1[i]))\n",
    "        i +=1"
   ]
  },
  {
   "cell_type": "code",
   "execution_count": 20,
   "metadata": {},
   "outputs": [
    {
     "data": {
      "application/vnd.jupyter.widget-view+json": {
       "model_id": "b89682de16d64361ad2c78bda6f27ae0",
       "version_major": 2,
       "version_minor": 0
      },
      "text/plain": [
       "VBox(children=(HBox(children=(Label(value='Decomposition component index', layout=Layout(width='15%')), IntSli…"
      ]
     },
     "metadata": {},
     "output_type": "display_data"
    }
   ],
   "source": [
    "ns.plot_decomposition_results()"
   ]
  },
  {
   "cell_type": "code",
   "execution_count": 29,
   "metadata": {},
   "outputs": [
    {
     "data": {
      "application/vnd.jupyter.widget-view+json": {
       "model_id": "844b0946bfc2472a85ac4c36842d10ee",
       "version_major": 2,
       "version_minor": 0
      },
      "text/plain": [
       "VBox(children=(HBox(children=(Label(value='Decomposition component index', layout=Layout(width='15%')), IntSli…"
      ]
     },
     "metadata": {},
     "output_type": "display_data"
    }
   ],
   "source": [
    "cropped_spim.plot_decomposition_results()"
   ]
  },
  {
   "cell_type": "code",
   "execution_count": 21,
   "metadata": {},
   "outputs": [
    {
     "data": {
      "text/plain": [
       "[<matplotlib.lines.Line2D at 0x7f3982032740>]"
      ]
     },
     "execution_count": 21,
     "metadata": {},
     "output_type": "execute_result"
    }
   ],
   "source": [
    "factors = ns.get_decomposition_factors().data\n",
    "plt.plot(factors[4])"
   ]
  },
  {
   "cell_type": "code",
   "execution_count": 22,
   "metadata": {},
   "outputs": [
    {
     "name": "stdout",
     "output_type": "stream",
     "text": [
      "0\n",
      "0\n",
      "0\n",
      "0\n",
      "0\n",
      "0\n",
      "0\n"
     ]
    }
   ],
   "source": [
    "H = est_aft.H_.reshape((7,68,194))\n",
    "factors = est_ref.G_@est_ref.W_\n",
    "for i,j in enumerate(H) : \n",
    "    new_mt = (mt_map*j).clip(min = 1e-10)\n",
    "    abs_map = absorption_mass_thickness(x,new_mt,toa = cropped_spim.metadata.Acquisition_instrument.TEM.Detector.EDS.take_off_angle, elements_dict = ed)\n",
    "    print(np.isnan(factors[i]).sum())\n",
    "    factors[i] /= np.mean(abs_map)"
   ]
  },
  {
   "cell_type": "code",
   "execution_count": 23,
   "metadata": {},
   "outputs": [],
   "source": [
    "resu = (factors@est_ref.H_).sum(axis = 1 )/(194*68)"
   ]
  },
  {
   "cell_type": "code",
   "execution_count": 25,
   "metadata": {},
   "outputs": [],
   "source": [
    "no_abs = hs.load(\"eds_rebin_results_no_thickness_noCu.hspy\")"
   ]
  },
  {
   "cell_type": "code",
   "execution_count": 28,
   "metadata": {},
   "outputs": [
    {
     "data": {
      "text/plain": [
       "<matplotlib.legend.Legend at 0x7f396d349c60>"
      ]
     },
     "execution_count": 28,
     "metadata": {},
     "output_type": "execute_result"
    }
   ],
   "source": [
    "# plt.plot(x,abs.mean().data)\n",
    "plt.plot(x+0.005,resu, label = 'abs_corr')\n",
    "plt.plot(x,no_abs.get_decomposition_model().mean().data, label = \"no\")\n",
    "plt.plot(x,cropped_spim.mean().data, 'ko', markersize = 1.5, label = \"exp\")\n",
    "plt.legend()"
   ]
  },
  {
   "cell_type": "code",
   "execution_count": 132,
   "metadata": {},
   "outputs": [
    {
     "data": {
      "text/plain": [
       "0"
      ]
     },
     "execution_count": 132,
     "metadata": {},
     "output_type": "execute_result"
    }
   ],
   "source": [
    "np.isnan(factors).sum()"
   ]
  },
  {
   "cell_type": "code",
   "execution_count": 194,
   "metadata": {},
   "outputs": [],
   "source": [
    "sp =  hs.load(filenames=[\"sp_C.hspy\",\"sp_FeNiS.hspy\",\"sp_FeO.hspy\",\"sp_FeS.hspy\",\"sp_Si_1.hspy\",\"sp_Si_2.hspy\",\"sp_ZnS.hspy\"])\n",
    "maps = hs.load(\"Map_mixing_model_7comp.hspy\")"
   ]
  },
  {
   "cell_type": "code",
   "execution_count": 208,
   "metadata": {},
   "outputs": [],
   "source": [
    "maps.plot(title = \"truth\")\n",
    "ns.get_decomposition_loadings().plot()"
   ]
  },
  {
   "cell_type": "code",
   "execution_count": 212,
   "metadata": {},
   "outputs": [
    {
     "data": {
      "text/plain": [
       "[<matplotlib.lines.Line2D at 0x7fd81419c550>]"
      ]
     },
     "execution_count": 212,
     "metadata": {},
     "output_type": "execute_result"
    }
   ],
   "source": [
    "fig, ax = plt.subplots()\n",
    "ax.plot(sp[4]*10)\n",
    "ax.plot(factors[:,0])"
   ]
  },
  {
   "cell_type": "code",
   "execution_count": 64,
   "metadata": {},
   "outputs": [
    {
     "data": {
      "text/plain": [
       "[<matplotlib.lines.Line2D at 0x7fd82eaabf10>]"
      ]
     },
     "execution_count": 64,
     "metadata": {},
     "output_type": "execute_result"
    }
   ],
   "source": [
    "fig1,ax1 = plt.subplots()\n",
    "ax1.plot(x,sp[1])\n",
    "ax1.plot(x,factors[2])"
   ]
  },
  {
   "cell_type": "code",
   "execution_count": 60,
   "metadata": {},
   "outputs": [
    {
     "data": {
      "text/plain": [
       "<matplotlib.image.AxesImage at 0x7fd834726f80>"
      ]
     },
     "execution_count": 60,
     "metadata": {},
     "output_type": "execute_result"
    }
   ],
   "source": [
    "fig2, ax2 = plt.subplots()\n",
    "ax2.imshow(mt_map)"
   ]
  },
  {
   "cell_type": "code",
   "execution_count": 74,
   "metadata": {},
   "outputs": [],
   "source": [
    "abs_corr.get_decomposition_loadings().plot(title = \"Corrected\")\n",
    "abs.get_decomposition_loadings().plot(title = \"absorption\")\n",
    "no_abs.get_decomposition_loadings().plot(title = \"no thickness\")"
   ]
  },
  {
   "cell_type": "code",
   "execution_count": 213,
   "metadata": {},
   "outputs": [
    {
     "name": "stdout",
     "output_type": "stream",
     "text": [
      "element Al: [1.80653532e+01 1.32501425e+01 2.83217125e+01 9.91699934e+01\n",
      " 5.68894549e-02 2.73717907e+00 7.17347118e+01]\n",
      "element C: [9.04309064e-69 1.05949363e-55 1.93313691e+02 4.57029392e+00\n",
      " 2.09194249e+00 8.07647914e+02 4.86555404e+02]\n",
      "element Ca: [1.76161249e-31 3.84855744e-35 3.46870645e-43 7.07922023e-36\n",
      " 0.00000000e+00 0.00000000e+00 5.24078420e-38]\n",
      "element Cl: [21.36406601  4.51110665 32.76935764 13.13475589  0.38113707 15.22030853\n",
      " 20.223993  ]\n",
      "element Cr: [877.83612531   0.           0.           0.           0.\n",
      "   0.           0.        ]\n",
      "element Cu: [7.38172896e+01 2.44887186e+01 1.79932862e-13 3.47816548e+01\n",
      " 0.00000000e+00 1.46827742e+01 1.67152932e+01]\n",
      "element Fe: [1.74167705e+03 9.68662970e+02 4.55594428e+02 8.39185408e+01\n",
      " 1.15513118e+00 4.69555041e+01 6.87361588e+01]\n",
      "element Ga: [1.07546972e+04 4.45770281e+03 1.96922169e+02 1.38481752e+02\n",
      " 1.50548815e+01 5.66318856e+00 6.39971689e+01]\n",
      "element K: [4.20824318e-12 1.09951661e+01 4.41277670e-01 1.23487565e+02\n",
      " 5.60015396e-04 7.30577773e+01 0.00000000e+00]\n",
      "element Mg: [2.58380820e-13 8.45211916e-21 6.67658912e-15 1.22500481e+00\n",
      " 3.30990818e-05 1.84563998e-08 1.17104511e+00]\n",
      "element Mn: [1.97815400e-26 7.67683234e-01 1.27569176e+02 1.08020823e+03\n",
      " 1.65222602e+01 4.07116121e+01 7.64103225e+02]\n",
      "element N: [8.90262894e+01 1.98075774e+02 5.70807990e-04 1.88229904e+00\n",
      " 4.59795062e-02 2.87187242e-01 2.28953435e-01]\n",
      "element Na: [8.62258779e+01 7.34163505e-40 2.48064304e+01 1.21548665e+01\n",
      " 1.41468150e-04 2.33545389e+01 1.98654049e+01]\n",
      "element Ni: [0.00000000e+00 0.00000000e+00 7.40136078e+01 5.34432851e+01\n",
      " 6.84938669e-03 2.89100698e+01 2.87655269e+01]\n",
      "element O: [7.66147189e-06 6.24635609e+01 3.47894153e+03 1.96417183e-19\n",
      " 2.70188349e-13 2.33728619e-14 4.90894174e-16]\n",
      "element P: [3.21139640e+03 3.52802644e-32 4.83788221e+02 2.31815813e+03\n",
      " 3.11003707e-01 4.40061609e+02 1.76185462e+03]\n",
      "element Pt: [8.13004845e+00 9.77569506e+00 3.10993567e+01 9.58401464e-01\n",
      " 1.60740403e-08 4.37123744e-08 5.34790696e-01]\n",
      "element S: [2.32527503e+01 2.91859759e+01 3.12865577e+01 4.52686385e+00\n",
      " 2.51012724e-07 1.42782486e-07 1.52790184e-01]\n",
      "element Si: [1.96096083e+01 3.92034192e+03 1.51517752e+03 5.10051599e-04\n",
      " 1.85612374e-01 3.73815413e-03 5.30843672e-03]\n",
      "element Ti: [3.22688496e-13 3.62759713e+01 3.43967865e+02 1.28358448e+03\n",
      " 5.57287231e+01 1.71116673e+02 9.87638598e+02]\n",
      "element Zn: [3.65523486e-06 4.06141451e-30 2.30102958e-21 2.71615581e-01\n",
      " 1.12435954e-05 1.09302752e-05 3.82117957e-01]\n"
     ]
    }
   ],
   "source": [
    "for i,j in enumerate(cropped_spim.metadata.Sample.elements) :\n",
    "    print(\"element {}: {}\".format(j,est_ref.W_[i])) "
   ]
  },
  {
   "cell_type": "code",
   "execution_count": 69,
   "metadata": {},
   "outputs": [],
   "source": [
    "no_abs = hs.load('eds_rebin_results_no_thickness.hspy')\n",
    "abs = hs.load('eds_rebin_results_abs.hspy')\n",
    "abs_corr = hs.load('eds_rebin_results_after_correction.hspy')"
   ]
  },
  {
   "cell_type": "code",
   "execution_count": 10,
   "metadata": {
    "collapsed": true,
    "jupyter": {
     "outputs_hidden": true
    },
    "tags": []
   },
   "outputs": [
    {
     "data": {
      "application/vnd.jupyter.widget-view+json": {
       "model_id": "dd887d1ac1af477b8a7e1628eff5ca16",
       "version_major": 2,
       "version_minor": 0
      },
      "text/plain": [
       "VBox(children=(HBox(children=(Label(value='Decomposition component index', layout=Layout(width='15%')), IntSli…"
      ]
     },
     "metadata": {},
     "output_type": "display_data"
    },
    {
     "name": "stdout",
     "output_type": "stream",
     "text": [
      "Concentrations report\n",
      "     p0     p1     p2     p3     p4     p5     p6\n",
      "Al : 0.0000 0.0000 0.0000 0.0000 0.0073 0.0000 0.0039 \n",
      "C  : 0.0268 0.2638 0.0381 0.6771 0.1590 0.7950 0.3157 \n",
      "Ca : 0.0000 0.0000 0.0000 0.0000 0.0000 0.0000 0.0000 \n",
      "Cl : 0.0000 0.0000 0.0000 0.0000 0.0004 0.0000 0.0002 \n",
      "Cr : 0.1268 0.0000 0.0306 0.0000 0.0000 0.0000 0.0000 \n",
      "Cu : 0.0106 0.0233 0.0054 0.0023 0.0065 0.0005 0.0031 \n",
      "Fe : 0.4753 0.0000 0.2514 0.0059 0.0000 0.2014 0.0134 \n",
      "Ga : 0.0000 0.0010 0.0000 0.0000 0.0118 0.0000 0.0022 \n",
      "K  : 0.0000 0.0000 0.0000 0.0000 0.0000 0.0000 0.0000 \n",
      "Mg : 0.0000 0.0396 0.0000 0.0247 0.0967 0.0000 0.0708 \n",
      "Mn : 0.0531 0.0000 0.0000 0.0000 0.0000 0.0000 0.0000 \n",
      "N  : 0.0004 0.0030 0.0190 0.0088 0.0105 0.0003 0.0080 \n",
      "Na : 0.0000 0.0000 0.0000 0.0029 0.0070 0.0000 0.0042 \n",
      "Ni : 0.0018 0.2664 0.0000 0.0000 0.0000 0.0000 0.0000 \n",
      "O  : 0.0135 0.3580 0.6545 0.2434 0.6155 0.0000 0.5107 \n",
      "P  : 0.0000 0.0000 0.0000 0.0000 0.0000 0.0000 0.0000 \n",
      "Pt : 0.0000 0.0000 0.0000 0.0000 0.0000 0.0000 0.0000 \n",
      "S  : 0.2917 0.0001 0.0000 0.0000 0.0000 0.0000 0.0000 \n",
      "Si : 0.0000 0.0431 0.0010 0.0348 0.0852 0.0027 0.0678 \n",
      "Ti : 0.0000 0.0000 0.0000 0.0000 0.0000 0.0000 0.0000 \n",
      "Zn : 0.0000 0.0017 0.0000 0.0000 0.0000 0.0000 0.0000 \n"
     ]
    }
   ],
   "source": [
    "cropped_spim.plot_decomposition_results()\n",
    "\n",
    "fW = est_aft.W_\n",
    "print_concentrations_from_W(fW[:-2,:],elements = cropped_spim.metadata.Sample.elements)"
   ]
  },
  {
   "cell_type": "code",
   "execution_count": 20,
   "metadata": {},
   "outputs": [
    {
     "name": "stdout",
     "output_type": "stream",
     "text": [
      "Al : 0.0008433325704307077\n",
      "C : 0.15424252985825934\n",
      "Ca : 0.0\n",
      "Cl : 4.964363423385926e-05\n",
      "Cr : 0.05952107739002931\n",
      "Cu : 0.25377404087608735\n",
      "Fe : 0.0011676067052357627\n",
      "Ga : 1.576935599265972e-269\n",
      "K : 0.017277661911537304\n",
      "Mg : 0.02221964101993724\n",
      "Mn : 0.00683136763908825\n",
      "N : 0.0012389001476346801\n",
      "Na : 0.011470848470506985\n",
      "Ni : 0.27293091547575665\n",
      "O : 2.2771810881757245e-100\n",
      "P : 1.3262284694353116e-125\n",
      "Pt : 0.12211143193752587\n",
      "S : 0.01784347391413898\n",
      "Si : 7.183891900216825e-220\n",
      "Ti : 6.885146069035893e-05\n",
      "Zn : 0.0\n"
     ]
    }
   ],
   "source": [
    "cfW = np.vstack((fW[:5],fW[6:]))\n",
    "sfw = cfW.sum(axis = 1)\n",
    "ssfw = sfw/sfw.sum()\n",
    "nssfw = ssfw\n",
    "for i,j in enumerate(ns.metadata.Sample.elements) : \n",
    "    print('{} : {}'.format(j,nssfw[i]))\n"
   ]
  },
  {
   "cell_type": "code",
   "execution_count": 112,
   "metadata": {},
   "outputs": [
    {
     "data": {
      "text/plain": [
       "(68, 204, 1970)"
      ]
     },
     "execution_count": 112,
     "metadata": {},
     "output_type": "execute_result"
    }
   ],
   "source": [
    "abscr.shape"
   ]
  },
  {
   "cell_type": "code",
   "execution_count": 115,
   "metadata": {},
   "outputs": [
    {
     "data": {
      "text/plain": [
       "[<matplotlib.lines.Line2D at 0x7f10b67fbd90>]"
      ]
     },
     "execution_count": 115,
     "metadata": {},
     "output_type": "execute_result"
    }
   ],
   "source": [
    "plt.plot(np.mean(G()@est.W_@est.H_, axis = 1))\n",
    "plt.plot(ns.mean())"
   ]
  },
  {
   "cell_type": "code",
   "execution_count": 104,
   "metadata": {},
   "outputs": [
    {
     "data": {
      "text/plain": [
       "{'Al': 0.0029460944862789835,\n",
       " 'C': 0.17774275455069435,\n",
       " 'Ca': 1.5702379426887525e-28,\n",
       " 'Cl': 0.00019547956705078234,\n",
       " 'Cr': 0.004396816659654172,\n",
       " 'Cu': 0.05399148197227327,\n",
       " 'Fe': 0.09859615889795532,\n",
       " 'Ga': 0.016196776005005457,\n",
       " 'K': 6.92146320514266e-19,\n",
       " 'Mg': 0.05905013526995491,\n",
       " 'Mn': 0.0068309549103871955,\n",
       " 'N': 0.017843994069361376,\n",
       " 'Na': 0.008969911049002681,\n",
       " 'Ni': 0.027078075298806736,\n",
       " 'O': 0.4239864470379724,\n",
       " 'P': 0.0004205260523634589,\n",
       " 'Pt': 0.014748308545061532,\n",
       " 'S': 0.04249751115839008,\n",
       " 'Si': 0.044000818664340836,\n",
       " 'Ti': 2.843053756152386e-16,\n",
       " 'Zn': 0.000507755805446132}"
      ]
     },
     "execution_count": 104,
     "metadata": {},
     "output_type": "execute_result"
    }
   ],
   "source": [
    "ed = {}\n",
    "i = 0\n",
    "for elt in cropped_spim.metadata.Sample.elements : \n",
    "    if elt == \"Fe\" : \n",
    "        i += 1\n",
    "    ed[elt] = np.mean(est.W_[i])\n",
    "    \n",
    "    i+=1\n",
    "\n",
    "summ = 0\n",
    "for i in ed : \n",
    "    summ += ed[i]\n",
    "    \n",
    "for i in ed : \n",
    "    ed[i] = ed[i]/summ\n",
    "    \n",
    "ed"
   ]
  },
  {
   "cell_type": "code",
   "execution_count": 39,
   "metadata": {},
   "outputs": [
    {
     "name": "stdout",
     "output_type": "stream",
     "text": [
      "It 10 / 1000: loss 0.029,  21.254 it/s\n",
      "It 20 / 1000: loss 0.029,  21.138 it/s\n",
      "It 30 / 1000: loss 0.029,  21.148 it/s\n",
      "It 40 / 1000: loss 0.029,  21.006 it/s\n",
      "It 50 / 1000: loss 0.029,  20.999 it/s\n",
      "It 60 / 1000: loss 0.029,  20.994 it/s\n",
      "It 70 / 1000: loss 0.029,  20.939 it/s\n",
      "It 80 / 1000: loss 0.029,  20.928 it/s\n",
      "It 90 / 1000: loss 0.029,  20.960 it/s\n",
      "exits because of relative change < tol: 1.7303514369649291e-06\n",
      "Stopped after 92 iterations in 0.0 minutes and 4.0 seconds.\n"
     ]
    }
   ],
   "source": [
    "input_filename = str(\"phyllo_spectre_moyen.hspy\")\n",
    "spectrum = hs.load(input_filename)\n",
    "\n",
    "spectrum.axes_manager[0].offset += +0.000\n",
    "\n",
    "spectrum.set_signal_type(\"EDS_ESMPY\")\n",
    "spectrum.set_analysis_parameters(beam_energy = 300,\n",
    "azimuth_angle = 0.0,\n",
    "elevation_angle = 18.0,\n",
    "elements = ['Al', 'C', 'Ca', 'Cl', 'Cr', 'Cu', 'F', 'Fe', 'Ga', 'K', 'Mg', 'Mn', 'N', 'Na', 'Ni', 'O', 'P', 'Pt', 'S', 'Si', 'Ti', 'Zr'],\n",
    "tilt_stage = 0.001,\n",
    "thickness = 80e-7,\n",
    "density = 2.1,\n",
    "\n",
    "detector_type = \"Det_eff.txt\",\n",
    "width_slope = 0.01,\n",
    "width_intercept = 0.065,\n",
    "xray_db = \"300keV_corentin_xrays.json\")\n",
    "# fW = spim.set_fixed_W({\"p0\" : {\"Si\" : 0.0},\"p1\" : {\"Fe\" : 0.0}, \"p2\" : {\"Mg\" : 0.0}})\n",
    "\n",
    "G = spectrum.build_G(\"bremsstrahlung\",norm = True)\n",
    "est = SmoothNMF( n_components = 1,tol=0.000001, max_iter = 1000, G = G)\n",
    "\n",
    "est.fit_transform(spectrum.data[:,np.newaxis])\n",
    "fW = est.W_\n",
    "fG = est.G_"
   ]
  },
  {
   "cell_type": "code",
   "execution_count": 7,
   "metadata": {},
   "outputs": [
    {
     "data": {
      "text/plain": [
       "<matplotlib.legend.Legend at 0x7f34ed4d7d60>"
      ]
     },
     "execution_count": 7,
     "metadata": {},
     "output_type": "execute_result"
    }
   ],
   "source": [
    "x = np.linspace(spectrum.axes_manager[0].offset, spectrum.axes_manager[0].offset + spectrum.axes_manager[0].size*spectrum.axes_manager[0].scale,num = spectrum.axes_manager[0].size)\n",
    "plt.plot(x,spectrum.data,label=\"exp\")\n",
    "plt.plot(x,fG@fW,label=\"fit\")\n",
    "plt.legend()"
   ]
  },
  {
   "cell_type": "code",
   "execution_count": 20,
   "metadata": {},
   "outputs": [
    {
     "name": "stdout",
     "output_type": "stream",
     "text": [
      "Concentrations report\n",
      "     p0\n",
      "Al : 0.0177 \n",
      "C  : 0.0434 \n",
      "Ca : 0.0000 \n",
      "Cl : 0.0007 \n",
      "Cr : 0.0000 \n",
      "Cu : 0.0189 \n",
      "F  : 0.0363 \n",
      "Fe : 0.0866 \n",
      "Ga : 0.0044 \n",
      "K  : 0.0005 \n",
      "Mg : 0.1844 \n",
      "Mn : 0.0035 \n",
      "N  : 0.0070 \n",
      "Na : 0.0087 \n",
      "Ni : 0.0019 \n",
      "O  : 0.3663 \n",
      "P  : 0.0000 \n",
      "Pt : 0.0013 \n",
      "S  : 0.0080 \n",
      "Si : 0.2096 \n",
      "Ti : 0.0000 \n",
      "Zr : 0.0008 \n"
     ]
    }
   ],
   "source": [
    "print_concentrations_from_W(fW[:-2,:],elements = spectrum.metadata.Sample.elements)"
   ]
  },
  {
   "cell_type": "code",
   "execution_count": 158,
   "metadata": {},
   "outputs": [],
   "source": [
    "k_names = [\"Ag_La\",\"Al_Ka\", \"Ar_Ka\",\"B_Ka\",\"Bi_Ma\",\"C_Ka\",\"Ca_Ka\",\"Ca_La\",\"Cl_Ka\",\"Cr_Ka\",\n",
    "        \"Cr_La\",\"Cu_Ka\",\"Cu_La\",\"F_Ka\",\"Fe_Ka\",\"Fe_La\",\"Fe_Lb3\",\"Fe_Ll\",\"Fe_Ln\",\"Ga_Ka\",\n",
    "        \"Ga_La\",\"Ho_La\",\"La_La\",\"K_Ka\",\"Mg_Ka\",\"Mn_Ka\",\"Mn_La\",\"Mg_La\",\"N_Ka\",\"Na_Ka\",\n",
    "        \"Ni_Ka\",\"Ni_La\",\"O_Ka\",\"P_Ka\",\"Pb_La\",\"Pt_La\",\"Pt_Ma\",\"S_Ka\",\"Si_Ka\",\"Sn_La\",\n",
    "        \"Ti_Ka\",\"Tl_Ma\",\"Zr_Ka\",\"Zr_La\",\"Zn_Ka\"]\n",
    "kfactors = [1,\n",
    " 1.05,\n",
    " 1.188,\n",
    " 5,\n",
    " 1,\n",
    " 1.42,\n",
    " 1.16,\n",
    " 8.8,\n",
    " 1.093,\n",
    " 1.314,\n",
    " 5.23,\n",
    " 1.773,\n",
    " 1.523,\n",
    " 1,\n",
    " 1.5,\n",
    " 2.55,\n",
    " 0,\n",
    " 0,\n",
    " 0,\n",
    " 1,\n",
    " 1,\n",
    " 1,\n",
    " 1,\n",
    " 1.119,\n",
    " 0.94,\n",
    " 1.5,\n",
    " 3.36,\n",
    " 3.36,\n",
    " 1.18,\n",
    " 0.98,\n",
    " 1.587,\n",
    " 1.582,\n",
    " 0.95,\n",
    " 1.096,\n",
    " 2.85,\n",
    " 1,\n",
    " 1,\n",
    " 1.18,\n",
    " 1,\n",
    " 1,\n",
    " 1.25,\n",
    " 1,\n",
    " 3.65,\n",
    " 1.49,\n",
    " 1.96]\n"
   ]
  },
  {
   "cell_type": "code",
   "execution_count": 42,
   "metadata": {},
   "outputs": [],
   "source": [
    "table, mdata = tu.load_table(\"300keV_xrays.json\")\n",
    "n_table, n_mdata = tu.import_k_factors(table,mdata, k_names, kfactors,  ref_name = \"Si_Ka\")\n",
    "tu.save_table(\"300keV_corentin_xrays.json\",n_table,n_mdata)"
   ]
  },
  {
   "cell_type": "code",
   "execution_count": 160,
   "metadata": {},
   "outputs": [
    {
     "data": {
      "text/plain": [
       "{'Ag_La': 1,\n",
       " 'Al_Ka': 1.05,\n",
       " 'Ar_Ka': 1.188,\n",
       " 'B_Ka': 5,\n",
       " 'Bi_Ma': 1,\n",
       " 'C_Ka': 1.42,\n",
       " 'Ca_Ka': 1.16,\n",
       " 'Ca_La': 8.8,\n",
       " 'Cl_Ka': 1.093,\n",
       " 'Cr_Ka': 1.314,\n",
       " 'Cr_La': 5.23,\n",
       " 'Cu_Ka': 1.773,\n",
       " 'Cu_La': 1.523,\n",
       " 'F_Ka': 1,\n",
       " 'Fe_Ka': 1.5,\n",
       " 'Fe_La': 2.55,\n",
       " 'Fe_Lb3': 0,\n",
       " 'Fe_Ll': 0,\n",
       " 'Fe_Ln': 0,\n",
       " 'Ga_Ka': 1,\n",
       " 'Ga_La': 1,\n",
       " 'Ho_La': 1,\n",
       " 'La_La': 1,\n",
       " 'K_Ka': 1.119,\n",
       " 'Mg_Ka': 0.94,\n",
       " 'Mn_Ka': 1.5,\n",
       " 'Mn_La': 3.36,\n",
       " 'Mg_La': 3.36,\n",
       " 'N_Ka': 1.18,\n",
       " 'Na_Ka': 0.98,\n",
       " 'Ni_Ka': 1.587,\n",
       " 'Ni_La': 1.582,\n",
       " 'O_Ka': 0.95,\n",
       " 'P_Ka': 1.096,\n",
       " 'Pb_La': 2.85,\n",
       " 'Pt_La': 1,\n",
       " 'Pt_Ma': 1,\n",
       " 'S_Ka': 1.18,\n",
       " 'Si_Ka': 1,\n",
       " 'Sn_La': 1,\n",
       " 'Ti_Ka': 1.25,\n",
       " 'Tl_Ma': 1,\n",
       " 'Zr_Ka': 3.65,\n",
       " 'Zr_La': 1.49,\n",
       " 'Zn_Ka': 1.96}"
      ]
     },
     "execution_count": 160,
     "metadata": {},
     "output_type": "execute_result"
    }
   ],
   "source": [
    "didi = {}\n",
    "for i,j in enumerate(k_names) : \n",
    "    didi[j] = kfactors[i]\n",
    "\n",
    "didi"
   ]
  },
  {
   "cell_type": "code",
   "execution_count": 166,
   "metadata": {},
   "outputs": [
    {
     "data": {
      "text/plain": [
       "{'KL2': {'energy': 6.3909, 'cs': 5.394061758710123e-23},\n",
       " 'KL3': {'energy': 6.4039, 'cs': 5.394061758710123e-23},\n",
       " 'KM2': {'energy': 7.058, 'cs': 3.694394758457301e-24},\n",
       " 'KM3': {'energy': 7.058, 'cs': 7.277624178144575e-24},\n",
       " 'L1M2': {'energy': 0.7921, 'cs': 9.729740556306153e-25},\n",
       " 'L1M3': {'energy': 0.7921, 'cs': 0.0},\n",
       " 'L2M1': {'energy': 0.6282, 'cs': 0.0},\n",
       " 'L2M4': {'energy': 0.7175, 'cs': 1.9026533358501573e-23},\n",
       " 'L3M1': {'energy': 0.6152, 'cs': 0.0},\n",
       " 'L3M4': {'energy': 0.7045, 'cs': 9.169904989807208e-23},\n",
       " 'L3M5': {'energy': 0.7045, 'cs': 9.169904989807208e-23}}"
      ]
     },
     "execution_count": 166,
     "metadata": {},
     "output_type": "execute_result"
    }
   ],
   "source": [
    "a,b = tu.load_table(\"300keV_corentin_xrays.json\")\n",
    "a['26'][\"L3M4\"]['cs']/a['26'][\"KL3\"]['cs']\n",
    "a[\"26\"]"
   ]
  },
  {
   "cell_type": "code",
   "execution_count": 167,
   "metadata": {},
   "outputs": [],
   "source": [
    "cs_sum1 = 0\n",
    "cs_sum2 = 0\n",
    "for i in a[\"26\"] : \n",
    "    if i[0] == \"K\" : \n",
    "        cs_sum1 += a[\"26\"][i]['cs']\n",
    "    if i[0] == \"L\" : \n",
    "        cs_sum2 += a[\"26\"][i]['cs']"
   ]
  },
  {
   "cell_type": "code",
   "execution_count": 170,
   "metadata": {},
   "outputs": [
    {
     "data": {
      "text/plain": [
       "1.7113339363906108"
      ]
     },
     "execution_count": 170,
     "metadata": {},
     "output_type": "execute_result"
    }
   ],
   "source": [
    "cs_sum2/cs_sum1"
   ]
  },
  {
   "cell_type": "code",
   "execution_count": 169,
   "metadata": {},
   "outputs": [
    {
     "data": {
      "text/plain": [
       "1.1885325411080435e-22"
      ]
     },
     "execution_count": 169,
     "metadata": {},
     "output_type": "execute_result"
    }
   ],
   "source": [
    "cs_sum1"
   ]
  },
  {
   "cell_type": "code",
   "execution_count": null,
   "metadata": {},
   "outputs": [],
   "source": []
  }
 ],
 "metadata": {
  "kernelspec": {
   "display_name": "Python 3 (ipykernel)",
   "language": "python",
   "name": "python3"
  },
  "language_info": {
   "codemirror_mode": {
    "name": "ipython",
    "version": 3
   },
   "file_extension": ".py",
   "mimetype": "text/x-python",
   "name": "python",
   "nbconvert_exporter": "python",
   "pygments_lexer": "ipython3",
   "version": "3.10.6"
  },
  "vscode": {
   "interpreter": {
    "hash": "8d2c37261bd18724b44288178b5d93ac658e7a29aba4ea6c1b1b0710c1696ef2"
   }
  }
 },
 "nbformat": 4,
 "nbformat_minor": 4
}
