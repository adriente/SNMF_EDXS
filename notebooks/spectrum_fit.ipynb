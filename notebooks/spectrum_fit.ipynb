{
 "cells": [
  {
   "cell_type": "code",
   "execution_count": 1,
   "metadata": {},
   "outputs": [
    {
     "name": "stderr",
     "output_type": "stream",
     "text": [
      "C:\\ProgramData\\Anaconda3\\lib\\site-packages\\pyUSID\\viz\\__init__.py:18: FutureWarning: Please use sidpy.viz.plot_utils instead of pyUSID.viz.plot_utils. pyUSID.plot_utils will be removed in a future release of pyUSID\n",
      "  FutureWarning)\n"
     ]
    }
   ],
   "source": [
    "# %matplotlib inline\n",
    "%matplotlib qt\n",
    "import hyperspy.api as hs\n",
    "import numpy as np\n",
    "import lmfit as lm\n",
    "import matplotlib.pyplot as plt\n",
    "import matplotlib\n",
    "from snmfem.models import edxs\n",
    "import json\n",
    "import snmfem.spectrum_fitting as sf\n",
    "import snmfem.datasets.generate_weights as gw\n",
    "import snmfem.datasets.base as b\n",
    "# from snmfem.estimators import NMF"
   ]
  },
  {
   "cell_type": "markdown",
   "metadata": {},
   "source": [
    "# Guide to this notebook\n",
    "\n",
    "Every time the symbol ⚠️ appears, a user input is required in the cell below.\n",
    "\n",
    "If a cell made a few windows pop up, please kill the windows once you're done. Otherwise every new plot will be displayed in top of the other (which may slow your computer down). \n",
    "\n",
    "Overview of the different steps :\n",
    "- I. Load the data either a spectrum (go to step III.) or a spectrum image\n",
    "- II. Select an area of interest in your spectrum image.\n",
    "- III. Creates an energy scale (x) from your data for the fitting procedure.\n",
    "- IV. Selects the regions of the spectrum were there are no peaks for background fitting.\n",
    "- V. Creates the required objects (partial x and y) for the background fitting procedure.\n",
    "- VI. Fitting the background. If this is not satisfactory go back to IV."
   ]
  },
  {
   "cell_type": "markdown",
   "metadata": {},
   "source": [
    "# I. Load data\n",
    "\n",
    "Either a spectrum or a full spim"
   ]
  },
  {
   "cell_type": "markdown",
   "metadata": {},
   "source": [
    "## Load spectrum\n",
    "⚠️"
   ]
  },
  {
   "cell_type": "code",
   "execution_count": 2,
   "metadata": {},
   "outputs": [],
   "source": [
    "spectrum = hs.load(\"46_ES-LP_L6_brg_test2.spx\").isig[0.20 : 19.9]"
   ]
  },
  {
   "cell_type": "markdown",
   "metadata": {},
   "source": [
    "⚠️ It is easier to fit the background on average spectra than on sum spectra. In pix_number, put the number of spectra you integrated."
   ]
  },
  {
   "cell_type": "code",
   "execution_count": 3,
   "metadata": {},
   "outputs": [],
   "source": [
    "pix_number = 43400\n",
    "spectrum.data = spectrum.data /pix_number"
   ]
  },
  {
   "cell_type": "markdown",
   "metadata": {},
   "source": [
    "## Load spectrum image"
   ]
  },
  {
   "cell_type": "markdown",
   "metadata": {},
   "source": [
    "## .bcf file\n",
    "\n",
    "⚠️"
   ]
  },
  {
   "cell_type": "code",
   "execution_count": null,
   "metadata": {},
   "outputs": [],
   "source": [
    "spim = hs.load(\"2017-10-26_B5_IC1.bcf\")\n",
    "\n",
    "haadf = spim[1]\n",
    "spim = spim[2]\n",
    "spim.crop_signal1D(0.25,19.9)"
   ]
  },
  {
   "cell_type": "markdown",
   "metadata": {},
   "source": [
    "## .emd file\n",
    "\n",
    "⚠️ Be careful, depending on the number of elemental map or spectra you saved in your emd file you may need to inspect the output of ``hs.load``.\n",
    "Simply put ``hs.load(file)`` in a new cell locate the haadf and the spim."
   ]
  },
  {
   "cell_type": "code",
   "execution_count": 16,
   "metadata": {},
   "outputs": [
    {
     "name": "stderr",
     "output_type": "stream",
     "text": [
      "WARNING:hyperspy.io_plugins.emd:The file contains only one spectrum stream\n",
      "WARNING:hyperspy.io:`signal_type='image'` not understood. See `hs.print_known_signal_types()` for a list of known signal types, and the developer guide for details on how to add new signal_types.\n",
      "WARNING:hyperspy.io:`signal_type='image'` not understood. See `hs.print_known_signal_types()` for a list of known signal types, and the developer guide for details on how to add new signal_types.\n",
      "WARNING:hyperspy.io:`signal_type='image'` not understood. See `hs.print_known_signal_types()` for a list of known signal types, and the developer guide for details on how to add new signal_types.\n",
      "WARNING:hyperspy.io:`signal_type='image'` not understood. See `hs.print_known_signal_types()` for a list of known signal types, and the developer guide for details on how to add new signal_types.\n",
      "WARNING:hyperspy.io:`signal_type='image'` not understood. See `hs.print_known_signal_types()` for a list of known signal types, and the developer guide for details on how to add new signal_types.\n",
      "WARNING:hyperspy.io:`signal_type='image'` not understood. See `hs.print_known_signal_types()` for a list of known signal types, and the developer guide for details on how to add new signal_types.\n",
      "WARNING:hyperspy.io:`signal_type='image'` not understood. See `hs.print_known_signal_types()` for a list of known signal types, and the developer guide for details on how to add new signal_types.\n"
     ]
    }
   ],
   "source": [
    "s = hs.load(\"1613 SI HAADF 610 kx.emd\")"
   ]
  },
  {
   "cell_type": "code",
   "execution_count": 17,
   "metadata": {},
   "outputs": [],
   "source": [
    "spim = s[-1].isig[0.6:]"
   ]
  },
  {
   "cell_type": "code",
   "execution_count": 2,
   "metadata": {},
   "outputs": [],
   "source": [
    "spectrum = np.loadtxt(\"for-Adrien/spectrum/Spectrum.txt\",delimiter = \";\")\n",
    "spectrum = hs.signals.Signal1D(spectrum[:,1][spectrum[:,0]>300])"
   ]
  },
  {
   "cell_type": "code",
   "execution_count": 3,
   "metadata": {},
   "outputs": [],
   "source": [
    "spectrum.axes_manager[0].scale = 0.005\n",
    "spectrum.axes_manager[0].offset = 0.3"
   ]
  },
  {
   "cell_type": "code",
   "execution_count": 19,
   "metadata": {},
   "outputs": [],
   "source": [
    "spim = hs.load(\"1537_Robin_cropped.hspy\")"
   ]
  },
  {
   "cell_type": "markdown",
   "metadata": {},
   "source": [
    "# Bin the spectrum image"
   ]
  },
  {
   "cell_type": "code",
   "execution_count": null,
   "metadata": {},
   "outputs": [],
   "source": [
    "def bin_spim(data,n,m):\n",
    "    # return a matrix of shape (n,m)\n",
    "    bs = data.shape[0]//n,data.shape[1]//m  # blocksize averaged over\n",
    "    k = data.shape[2]\n",
    "    return np.reshape(np.array([np.sum(data[k1*bs[0]:(k1+1)*bs[0],k2*bs[1]:(k2+1)*bs[1]],axis=(0,1)) for k1 in range(n) for k2 in range(m)]),(n,m,k))\n",
    "\n",
    "n,m = 300,300\n",
    "spim.data = bin_spim(spim.data,n,m)\n",
    "\n",
    "spim.axes_manager[0].scale /= spim.axes_manager[0].size // n \n",
    "spim.axes_manager[1].scale /= spim.axes_manager[1].size // m \n",
    "spim.axes_manager[0].size = n\n",
    "spim.axes_manager[1].size = m"
   ]
  },
  {
   "cell_type": "code",
   "execution_count": null,
   "metadata": {},
   "outputs": [],
   "source": [
    "spim.save(\"B5IC1_binned.hspy\")"
   ]
  },
  {
   "cell_type": "markdown",
   "metadata": {},
   "source": [
    "# II. Select an area of interest\n",
    "\n",
    "⚠️ 3 windows will pop up. \n",
    "- One window correspond to a 2D representation of the spim (sum along the energy direction) a green rectangle will be displayed on top of it, it corresponds to the selected area. \n",
    "- One window correspond to the first pixel (top left) of the spectrum image (you can ignore it). \n",
    "- The last window correspond to the average of the selected spectra"
   ]
  },
  {
   "cell_type": "code",
   "execution_count": 20,
   "metadata": {},
   "outputs": [
    {
     "name": "stdout",
     "output_type": "stream",
     "text": [
      "using interactive roi\n",
      "removing widget\n"
     ]
    }
   ],
   "source": [
    "scale_h, scale_v= spim.axes_manager[0].scale,spim.axes_manager[1].scale\n",
    "offset_h, offset_v = spim.axes_manager[0].offset, spim.axes_manager[1].offset\n",
    "\n",
    "haadf_ROI=hs.roi.RectangularROI((10*scale_h)+ offset_h,\n",
    "                            (10*scale_v)+offset_v,\n",
    "                            (40*scale_h)+offset_h,\n",
    "                            (40*scale_v)+offset_v)\n",
    "# arguments = left, top, right, bottom in pixels*scale\n",
    "spim.plot()\n",
    "spim_ROI=haadf_ROI.interactive(spim)\n",
    "# The HAADF and SPIM windows with their respective ROIs. The two ROIs are connected so that the selected area in the HAADF is the same as the one on the SPIM.\n",
    "\n",
    "spectrum=hs.interactive(spim_ROI.mean,\n",
    "           event=spim_ROI.axes_manager.events.any_axis_changed,\n",
    "           recompute_out_event=None)\n",
    "spectrum.plot(True)"
   ]
  },
  {
   "cell_type": "code",
   "execution_count": null,
   "metadata": {},
   "outputs": [],
   "source": [
    "spim.set_elements(['Co', 'Cr', 'Fe', 'Mn', \"Mo\"])\n",
    "# spim.add_lines()\n",
    "spim.metadata"
   ]
  },
  {
   "cell_type": "markdown",
   "metadata": {},
   "source": [
    "# III. Calibrate x"
   ]
  },
  {
   "cell_type": "code",
   "execution_count": 4,
   "metadata": {},
   "outputs": [],
   "source": [
    "offset = spectrum.axes_manager[0].offset\n",
    "scale = spectrum.axes_manager[0].scale\n",
    "size = spectrum.axes_manager[0].size\n",
    "\n",
    "x = np.linspace(offset,size*scale+offset,num = size)"
   ]
  },
  {
   "cell_type": "markdown",
   "metadata": {},
   "source": [
    "# IV. Select areas for bckgd fitting\n",
    "\n",
    "⚠️ Input in the ``span_number`` the number of selection areas you wish to use. Once you execute the cell, a window will pop with a few green areas and a red spectrum. The green areas correspond to the regions were the background will be fitted. You can, drag, enlarge and reduce these green areas."
   ]
  },
  {
   "cell_type": "code",
   "execution_count": 5,
   "metadata": {},
   "outputs": [
    {
     "name": "stdout",
     "output_type": "stream",
     "text": [
      "using interactive roi\n",
      "using interactive roi\n",
      "using interactive roi\n",
      "using interactive roi\n",
      "using interactive roi\n",
      "using interactive roi\n",
      "removing widget\n",
      "removing widget\n",
      "removing widget\n",
      "removing widget\n",
      "removing widget\n",
      "removing widget\n"
     ]
    }
   ],
   "source": [
    "span_number = 6\n",
    "\n",
    "\n",
    "def selection_areas(number,spectrum,scale) :\n",
    "    spectrum.plot()\n",
    "    roi_list = []\n",
    "    for i in range(number) :\n",
    "        roi_list.append(hs.roi.SpanROI(i+200*scale,i+400*scale))\n",
    "        roi_list[-1].interactive(spectrum)\n",
    "    return roi_list\n",
    "\n",
    "spans = selection_areas(span_number,spectrum,scale)"
   ]
  },
  {
   "cell_type": "code",
   "execution_count": 6,
   "metadata": {},
   "outputs": [],
   "source": [
    "list_energies = [[roi.left,roi.right] for roi in spans]"
   ]
  },
  {
   "cell_type": "markdown",
   "metadata": {},
   "source": [
    "⚠️ Execute this cell only if you want to use a previous selection of areas for the background fitting."
   ]
  },
  {
   "cell_type": "code",
   "execution_count": null,
   "metadata": {},
   "outputs": [],
   "source": [
    "list_energies = [[0.8014116348999999, 0.8514658053999999], [1.3820400126999997, 1.4020616808999997], [1.9526575563999997, 1.9826900586999998], [2.4231667590999995, 2.5332859341999994], [3.3241418280999997, 3.5243585101], [4.2651602335, 4.965918620499999], [6.6477387493, 6.8479554313], [11.8333508131, 14.9867635546]]"
   ]
  },
  {
   "cell_type": "markdown",
   "metadata": {},
   "source": [
    "# VI. Fitting the continuum"
   ]
  },
  {
   "cell_type": "code",
   "execution_count": 7,
   "metadata": {},
   "outputs": [
    {
     "name": "stdout",
     "output_type": "stream",
     "text": [
      "[[Fit Statistics]]\n",
      "    # fitting method   = leastsq\n",
      "    # function evals   = 31\n",
      "    # data points      = 526\n",
      "    # variables        = 4\n",
      "    chi-square         = 2.4482e-05\n",
      "    reduced chi-square = 4.6901e-08\n",
      "    Akaike info crit   = -8872.38661\n",
      "    Bayesian info crit = -8855.32541\n",
      "##  Warning: uncertainties could not be estimated:\n",
      "    params_dict__Abs__atomic_fraction:  at boundary\n",
      "[[Variables]]\n",
      "    b0:                                -4.5783e-04 (init = 0.39724)\n",
      "    b1:                                 0.02817068 (init = 0.1962)\n",
      "    params_dict__Abs__thickness:        1.3148e-06 (init = 1e-05)\n",
      "    params_dict__Abs__toa:              35 (fixed)\n",
      "    params_dict__Abs__density:          5.124 (fixed)\n",
      "    params_dict__Abs__atomic_fraction:  0.00000000 (init = 0)\n",
      "    params_dict__elements_dict__Mg:     0.36 (fixed)\n",
      "    params_dict__elements_dict__Si:     0.4 (fixed)\n",
      "    params_dict__elements_dict__O:      0.1 (fixed)\n"
     ]
    }
   ],
   "source": [
    "part_x, part_y, sum_boola = sf.make_partial_xy(list_energies,spectrum,x)\n",
    "\n",
    "example = {\"b0\" : 3.9724e-01, \"b1\" : 1.9620e-01, \"params_dict\" : {\n",
    "    \"Det\" : \"SDD_efficiency.txt\", 'Abs' : {\n",
    "        \"thickness\" : 100e-7, \"toa\" : 35, \"density\" : 5.124, \"atomic_fraction\" : False},\n",
    "        \"elements_dict\" : {\n",
    "            \"Mg\" : 0.36,\n",
    "            \"Si\" : 0.4,\n",
    "            \"O\" : 0.1,\n",
    "        }\n",
    "    }\n",
    "}\n",
    "\n",
    "# {\"detection\" : {\n",
    "#     \"thickness\" : 450e-4,\n",
    "#     \"elements_dict\" : {\n",
    "#         \"Si\" : 1.0\n",
    "#     }\n",
    "# },\"layer\" : {\n",
    "#     \"thickness\" : 10e-7,\n",
    "#     \"elements_dict\" : {\n",
    "#         \"Si\" : 0.33,\n",
    "#         \"O\" : 0.66,\n",
    "#         \"Al\" : 1.0\n",
    "#     }\n",
    "# }}\n",
    "\n",
    "pars = sf.ndict_to_params(example)\n",
    "\n",
    "# pars[\"params_dict__Abs__thickness\"].vary = False\n",
    "# pars[\"params_dict__Abs__thickness\"].max = 5000e-7\n",
    "# pars[\"params_dict__Det__layer__thickness\"].vary = False\n",
    "pars[\"params_dict__Abs__toa\"].vary = False\n",
    "pars[\"params_dict__Abs__density\"].vary = False\n",
    "\n",
    "out = lm.minimize(sf.residual, pars, args=(part_x,), kws={'data': part_y})\n",
    "print(lm.fit_report(out))"
   ]
  },
  {
   "cell_type": "markdown",
   "metadata": {},
   "source": [
    "### Plotting the results\n",
    "\n",
    "The red curves corresponds to the background model, the black one to the data, and the grey area correspond to the selected green areas"
   ]
  },
  {
   "cell_type": "code",
   "execution_count": 8,
   "metadata": {},
   "outputs": [
    {
     "data": {
      "text/plain": [
       "<matplotlib.legend.Legend at 0x17f01f9d288>"
      ]
     },
     "execution_count": 8,
     "metadata": {},
     "output_type": "execute_result"
    }
   ],
   "source": [
    "y = spectrum.data\n",
    "bkgd = sf.residual(out.params,x)\n",
    "plt.plot(x,y,\"ko-\",markersize=1.5,label=\"exp\",markevery=10)\n",
    "plt.fill_between(x,0,y,where=sum_boola,label=\"fit windows\",color=\"0.8\")\n",
    "plt.xlabel(\"Energy (keV)\",fontsize=22)\n",
    "plt.xticks(fontsize=20)\n",
    "# plt.ylim(0,1)\n",
    "plt.yticks(fontsize=20)\n",
    "plt.ylabel(\"Intensity\",fontsize=22)\n",
    "plt.plot(x,bkgd,\"r-\",linewidth=1,label=\"fit\")\n",
    "plt.legend(fontsize=22)"
   ]
  },
  {
   "cell_type": "code",
   "execution_count": null,
   "metadata": {},
   "outputs": [],
   "source": [
    "from snmfem.models.absorption_edxs import *"
   ]
  },
  {
   "cell_type": "code",
   "execution_count": null,
   "metadata": {},
   "outputs": [],
   "source": [
    "A = absorption_correction(part_x, thickness =  100e-7, toa =  35, density =  5.2, atomic_fraction =  True,elements_dict = {\n",
    "                        \"Ca\" : 0.36,\n",
    "            \"P\" : 0.4,\n",
    "            \"Sr\" : 0.1,\n",
    "    })\n",
    "\n",
    "D = det_efficiency_from_curve(part_x,\"SDD_efficiency.txt\")\n",
    "\n",
    "brem = part_y /(A*D)"
   ]
  },
  {
   "cell_type": "code",
   "execution_count": null,
   "metadata": {},
   "outputs": [],
   "source": [
    "plt.plot(1/part_x,brem,\"ko\",label = \"corrected experimental data\")\n",
    "plt.plot(1/part_x,0.00155*1/part_x, label = \"f(x) = 0.0215*1/x\")\n",
    "plt.xlabel(\"1/E\",fontsize = 22)\n",
    "plt.legend(fontsize = 22)"
   ]
  },
  {
   "cell_type": "code",
   "execution_count": null,
   "metadata": {},
   "outputs": [],
   "source": [
    "import lmfit as lm\n",
    "\n",
    "gmod = lm.models.ExpressionModel(\"b0*(1 - x/200) + b1*(200 - x)**2/(200*200*x)\")\n",
    "result = gmod.fit(brem, x=part_x, b0=0.0000001, b1 = 0.0000001)\n",
    "\n",
    "\n",
    "print(result.fit_report())\n",
    "\n",
    "plt.plot(part_x, brem, 'bo')\n",
    "# plt.plot(part_x, result.init_fit, 'k--', label='initial fit')\n",
    "plt.plot(part_x, result.best_fit, 'r-', label='best fit')\n",
    "plt.legend(loc='best')\n",
    "plt.show()"
   ]
  },
  {
   "cell_type": "markdown",
   "metadata": {},
   "source": [
    "# VII. Select the interesting part of the spectrum\n",
    "\n",
    "⚠️ A window will pop up with a red spectrum and a green area. With the green areas, you can select the energy range you want to quantify. Usually the low energy region (below 1keV) is not very well fitted by the background model. Hence you probably want to avoid the quantification of low energy characteristic X rays. \n",
    "\n",
    "If you feel brave enough you can uncomment some parts of the background modelling part and achieve a better background fit at low energies. At your own risks."
   ]
  },
  {
   "cell_type": "code",
   "execution_count": null,
   "metadata": {},
   "outputs": [],
   "source": [
    "s_bkgd = hs.signals.Signal1D(bkgd)\n",
    "s_bkgd.axes_manager[0].offset = offset\n",
    "s_bkgd.axes_manager[0].scale = scale\n",
    "\n",
    "spectrum.plot()\n",
    "ax = spectrum._plot.signal_plot.ax\n",
    "ax.add_line(matplotlib.lines.Line2D(spectrum._plot.axis.axis,bkgd.data))\n",
    "roi = hs.roi.SpanROI(200*scale,400*scale)\n",
    "roi.interactive(spectrum)"
   ]
  },
  {
   "cell_type": "markdown",
   "metadata": {},
   "source": [
    "### Accepting the choice of quantification energy range"
   ]
  },
  {
   "cell_type": "code",
   "execution_count": null,
   "metadata": {},
   "outputs": [],
   "source": [
    "charac_xrays = (spectrum.isig[roi.left:roi.right].data - s_bkgd.isig[roi.left:roi.right].data).clip(min=0)\n",
    "new_offset = spectrum.isig[roi.left:roi.right].axes_manager[0].offset\n",
    "new_size = spectrum.isig[roi.left:roi.right].axes_manager[0].size"
   ]
  },
  {
   "cell_type": "markdown",
   "metadata": {},
   "source": [
    "# VIII. Fitting the characteristic Xrays"
   ]
  },
  {
   "cell_type": "markdown",
   "metadata": {},
   "source": [
    "### Initialisation of the characteristic Xray model\n",
    "⚠️ Put the list of elements (by atomic numbers) you want to quantify in ``elt_list``. \n",
    "\n",
    "``G_calib`` is a small offset you may want to add so that the peaks are at the right energy. \n",
    "\n",
    "Note that depending on the energy range you chose, not all the elements you put are fitted (e.g. Oxygen will not be taken into account if your energy range starts at 1 keV)"
   ]
  },
  {
   "cell_type": "code",
   "execution_count": null,
   "metadata": {},
   "outputs": [],
   "source": [
    "#elt_list = [29,30,31,40,78,81,12,13,14,20,26,92,71,72,60,62]\n",
    "elt_list = [\"Cu\", \"Ca\", \"P\", \"O\", \"Sr\"]\n",
    "G_calib = -0.005\n",
    "density = 3.124\n",
    "thickness = 140e-7\n",
    "toa = 22"
   ]
  },
  {
   "cell_type": "code",
   "execution_count": null,
   "metadata": {},
   "outputs": [],
   "source": [
    "db = \"default_xrays.json\"\n",
    "\n",
    "true_elt_list = []\n",
    "for elt in elt_list : \n",
    "    mod_t = edxs.EDXS(new_offset,new_size,scale,{},db_name = db,energy_range = [new_offset,new_size*scale+new_offset])\n",
    "    mod_t.generate_g_matr(elements = [elt],norm=False)\n",
    "    G_t = mod_t.G\n",
    "    if G_t.shape[1] == 3 : \n",
    "        true_elt_list.append(elt)\n",
    "    \n",
    "mod = edxs.EDXS(new_offset + G_calib,new_size,scale,{},db_name = db,energy_range = [new_offset,new_size*scale+new_offset])\n",
    "mod.generate_g_matr(elements = true_elt_list,norm=False, density = density, thickness = thickness, toa = 22)\n",
    "G = mod.G\n",
    "new_x = np.linspace(new_offset,new_size*scale+new_offset,num = new_size)\n",
    "print(\"List of elements with Xray lines in the energy range :\")\n",
    "print(true_elt_list)"
   ]
  },
  {
   "cell_type": "code",
   "execution_count": null,
   "metadata": {},
   "outputs": [],
   "source": []
  },
  {
   "cell_type": "code",
   "execution_count": null,
   "metadata": {},
   "outputs": [],
   "source": [
    "P = np.linalg.lstsq(G[:,:-2],charac_xrays,rcond = None)[0]"
   ]
  },
  {
   "cell_type": "code",
   "execution_count": null,
   "metadata": {},
   "outputs": [],
   "source": [
    "plt.plot(charac_xrays)\n",
    "plt.plot(G[:,:-2]@P)"
   ]
  },
  {
   "cell_type": "code",
   "execution_count": null,
   "metadata": {},
   "outputs": [],
   "source": [
    "print(P/P.sum())"
   ]
  },
  {
   "cell_type": "markdown",
   "metadata": {},
   "source": [
    "### Fitting the characteristic Xrays"
   ]
  },
  {
   "cell_type": "code",
   "execution_count": null,
   "metadata": {},
   "outputs": [],
   "source": [
    "estimator = NMF(n_components= 1,max_iter=2000,force_simplex = True,tol = 1e-8)\n",
    "estimator.fit_transform(G=G, A=np.array([1])[:,np.newaxis], X=charac_xrays[:,np.newaxis])\n",
    "P = estimator.P_"
   ]
  },
  {
   "cell_type": "markdown",
   "metadata": {},
   "source": [
    "⚠️ If you want to fix the values of P you obtained in a previous fit put them in ``fixed_elts`` and execute the two following cells. \n",
    "\n",
    "For a two steps quantification : Chose a first energy range. Perform a first fit, which initialise P with all the elements. Then go back to the energy range selection, ignore the cell above, chose the fixed elements and perform the fit with fixed elements below. "
   ]
  },
  {
   "cell_type": "code",
   "execution_count": null,
   "metadata": {},
   "outputs": [],
   "source": [
    "fixed_elts = [71,72]"
   ]
  },
  {
   "cell_type": "code",
   "execution_count": null,
   "metadata": {},
   "outputs": [],
   "source": [
    "inds = [true_elt_list.index(elt) for elt in fix_elts]\n",
    "trunc_elt_list = [v for i,v in enumerate(true_elt_list) if i not in frozenset(inds)] \n",
    "trunc_G = np.delete(G, inds, axis=1)\n",
    "fixed_P = P[inds]\n",
    "fixed_G = G[:,inds]\n",
    "estimator = NMF(n_components= 1,max_iter=2000,force_simplex = True,tol = 1e-8)\n",
    "estimator.fit_transform(G=trunc_G, A=np.array([1])[:,np.newaxis], X=charac_xrays[:,np.newaxis])\n",
    "trunc_P = estimator.P_\n",
    "P = np.concatenate((trunc_P,fixed_P))\n",
    "G = np.hstack((trunc_G,fixed_G))\n",
    "true_elt_list = trunc_elt_list + fixed_elts"
   ]
  },
  {
   "cell_type": "markdown",
   "metadata": {},
   "source": [
    "# IX. Plot the results\n",
    "\n",
    "⚠️ The popping window will display the bkgd substracted experimental spectrum, the fitted characteristic Xrays model in black and red. Every element composing the model will be displayed with an offset : ``components_offset``. You can change its value below. \n",
    "\n",
    "If you want to display the names of the lines of an element that was used for quantification execute the next cells below before kill the window."
   ]
  },
  {
   "cell_type": "code",
   "execution_count": null,
   "metadata": {},
   "outputs": [],
   "source": [
    "components_offset = -0.1"
   ]
  },
  {
   "cell_type": "code",
   "execution_count": null,
   "metadata": {},
   "outputs": [],
   "source": [
    "linestyles = [\":\",\"--\",\"-.\"]\n",
    "\n",
    "plt.plot(new_x,charac_xrays,\"ko-\",label=\"exp\",markevery = 10)\n",
    "plt.plot(new_x,G@P,\"r\",linewidth = 3,label=\"theo\")\n",
    "plt.xticks(fontsize = 16)\n",
    "plt.yticks(fontsize = 16)\n",
    "plt.xlabel(\"energy (keV)\",fontsize = 18)\n",
    "plt.ylabel(\"Intensity\", fontsize = 18)\n",
    "\n",
    "for i in range(G.shape[1]) :\n",
    "    ls_string = linestyles[i%len(linestyles)] + \"C{}\".format(i%9)\n",
    "    plt.plot(new_x,G[:,i]*P[i]+components_offset,ls_string,label=str(true_elt_list[i]),linewidth=3)\n",
    "\n",
    "\n",
    "plt.legend(fontsize=18)\n",
    "plt.tight_layout()"
   ]
  },
  {
   "cell_type": "markdown",
   "metadata": {},
   "source": [
    "⚠️ You can change the `select_elt` to display the lines of this element. (It is probably going to messy as a lot of lines have very close energy). Execute this cell if you want to identify some lines.  "
   ]
  },
  {
   "cell_type": "code",
   "execution_count": null,
   "metadata": {},
   "outputs": [],
   "source": [
    "select_elt = \"72\""
   ]
  },
  {
   "cell_type": "code",
   "execution_count": null,
   "metadata": {},
   "outputs": [],
   "source": [
    "with open(\"xray_lines.json\",\"r\") as f :\n",
    "    lines_dict = json.load(f)[\"table\"]    \n",
    "\n",
    "for line in lines_dict[select_elt].keys() :\n",
    "    if (lines_dict[select_elt][line][\"energy\"]> new_offset) and (lines_dict[select_elt][line][\"energy\"]<new_size*scale+new_offset) :\n",
    "        plt.text(lines_dict[select_elt][line][\"energy\"],0.0,line,fontsize=18)\n"
   ]
  },
  {
   "cell_type": "markdown",
   "metadata": {},
   "source": [
    "# X. Printing the concentrations"
   ]
  },
  {
   "cell_type": "markdown",
   "metadata": {},
   "source": [
    "Full summary of normalized concentrations."
   ]
  },
  {
   "cell_type": "code",
   "execution_count": null,
   "metadata": {},
   "outputs": [],
   "source": [
    "r = P/P.sum(axis=0)\n",
    "for i in range(P.shape[0]) :\n",
    "    print(\"Z : \",true_elt_list[i],\"  rel conc : \",r[i])"
   ]
  },
  {
   "cell_type": "markdown",
   "metadata": {},
   "source": [
    "⚠️ You can remove some elements of the results, normalizing on the remaining elements."
   ]
  },
  {
   "cell_type": "code",
   "execution_count": null,
   "metadata": {},
   "outputs": [],
   "source": [
    "ignored_elts = [29,30]"
   ]
  },
  {
   "cell_type": "code",
   "execution_count": null,
   "metadata": {},
   "outputs": [],
   "source": [
    "inds = [true_elt_list.index(elt) for elt in ignored_elts]\n",
    "remain_elt_list = [v for i,v in enumerate(true_elt_list) if i not in frozenset(inds)] \n",
    "remain_P = np.delete(P, inds, axis=0)\n",
    "r = remain_P / remain_P.sum(axis=0)\n",
    "for i in range(r.shape[0]) :\n",
    "    print(\"Z : \",remain_elt_list[i],\"  rel conc : \",r[i])"
   ]
  },
  {
   "cell_type": "code",
   "execution_count": null,
   "metadata": {},
   "outputs": [],
   "source": []
  }
 ],
 "metadata": {
  "interpreter": {
   "hash": "ae2bec25d04a58403981d6892379486339cbb2cd6f315f3a399785dd0e4b6656"
  },
  "kernelspec": {
   "display_name": "Python 3",
   "language": "python",
   "name": "python3"
  },
  "language_info": {
   "codemirror_mode": {
    "name": "ipython",
    "version": 3
   },
   "file_extension": ".py",
   "mimetype": "text/x-python",
   "name": "python",
   "nbconvert_exporter": "python",
   "pygments_lexer": "ipython3",
   "version": "3.7.6"
  }
 },
 "nbformat": 4,
 "nbformat_minor": 4
}
