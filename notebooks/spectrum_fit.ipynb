{
 "cells": [
  {
   "cell_type": "code",
   "execution_count": 1,
   "metadata": {},
   "outputs": [
    {
     "name": "stderr",
     "output_type": "stream",
     "text": [
      "C:\\ProgramData\\Anaconda3\\lib\\site-packages\\pyUSID\\viz\\__init__.py:18: FutureWarning: Please use sidpy.viz.plot_utils instead of pyUSID.viz.plot_utils. pyUSID.plot_utils will be removed in a future release of pyUSID\n",
      "  FutureWarning)\n"
     ]
    }
   ],
   "source": [
    "# %matplotlib inline\n",
    "%matplotlib qt\n",
    "import hyperspy.api as hs\n",
    "import numpy as np\n",
    "import lmfit as lm\n",
    "import matplotlib.pyplot as plt\n",
    "import matplotlib\n",
    "from snmfem.models import edxs\n",
    "import json\n",
    "import snmfem.spectrum_fitting as sf\n",
    "import snmfem.datasets.generate_weights as gw\n",
    "import snmfem.datasets.base as b\n",
    "# from snmfem.estimators import NMF"
   ]
  },
  {
   "cell_type": "code",
   "execution_count": 40,
   "metadata": {},
   "outputs": [
    {
     "name": "stderr",
     "output_type": "stream",
     "text": [
      "WARNING:hyperspy.io:`signal_type='EDXSsnmfem'` not understood. See `hs.print_known_signal_types()` for a list of known signal types, and the developer guide for details on how to add new signal_types.\n"
     ]
    }
   ],
   "source": [
    "s = hs.load(\"C:\\\\Users\\\\teurtrie\\\\Travail\\\\SNMF_EDXS\\\\generated_datasets\\\\gb_sim_N15_w5_4Sr\\\\sample_0.hspy\")"
   ]
  },
  {
   "cell_type": "code",
   "execution_count": 43,
   "metadata": {},
   "outputs": [
    {
     "data": {
      "text/html": [
       "<ul style=\"margin: 0px; list-style-position: outside;\">\n",
       "                    <details open>\n",
       "                    <summary style=\"display: list-item;\">\n",
       "                    <li style=\"display: inline;\">\n",
       "                    Acquisition_instrument\n",
       "                    </li></summary>\n",
       "                    <ul style=\"margin: 0px; list-style-position: outside;\">\n",
       "                    <details closed>\n",
       "                    <summary style=\"display: list-item;\">\n",
       "                    <li style=\"display: inline;\">\n",
       "                    TEM\n",
       "                    </li></summary>\n",
       "                    <ul style=\"margin: 0px; list-style-position: outside;\">\n",
       "                    <details closed>\n",
       "                    <summary style=\"display: list-item;\">\n",
       "                    <li style=\"display: inline;\">\n",
       "                    Detector\n",
       "                    </li></summary>\n",
       "                    <ul style=\"margin: 0px; list-style-position: outside;\">\n",
       "                    <details closed>\n",
       "                    <summary style=\"display: list-item;\">\n",
       "                    <li style=\"display: inline;\">\n",
       "                    EDS\n",
       "                    </li></summary>\n",
       "                    \n",
       "    <ul style=\"margin: 0px; list-style-position: outside;\">\n",
       "    <li style='margin-left:1em; padding-left: 0.5em'>azimuth_angle = 0.0</li></ul>\n",
       "    \n",
       "    <ul style=\"margin: 0px; list-style-position: outside;\">\n",
       "    <li style='margin-left:1em; padding-left: 0.5em'>elevation_angle = 22.0</li></ul>\n",
       "    \n",
       "    <ul style=\"margin: 0px; list-style-position: outside;\">\n",
       "    <li style='margin-left:1em; padding-left: 0.5em'>energy_resolution_MnKa = 130.0</li></ul>\n",
       "    </details></ul>\n",
       "    <ul style=\"margin: 0px; list-style-position: outside;\">\n",
       "    <li style='margin-left:1em; padding-left: 0.5em'>take_off_angle = 22</li></ul>\n",
       "    \n",
       "    <ul style=\"margin: 0px; list-style-position: outside;\">\n",
       "    <li style='margin-left:1em; padding-left: 0.5em'>type = SDD_efficiency.txt</li></ul>\n",
       "    \n",
       "    <ul style=\"margin: 0px; list-style-position: outside;\">\n",
       "    <li style='margin-left:1em; padding-left: 0.5em'>width_intercept = 0.065</li></ul>\n",
       "    \n",
       "    <ul style=\"margin: 0px; list-style-position: outside;\">\n",
       "    <li style='margin-left:1em; padding-left: 0.5em'>width_slope = 0.01</li></ul>\n",
       "    </details></ul><ul style=\"margin: 0px; list-style-position: outside;\">\n",
       "                    <details closed>\n",
       "                    <summary style=\"display: list-item;\">\n",
       "                    <li style=\"display: inline;\">\n",
       "                    Stage\n",
       "                    </li></summary>\n",
       "                    \n",
       "    <ul style=\"margin: 0px; list-style-position: outside;\">\n",
       "    <li style='margin-left:1em; padding-left: 0.5em'>tilt_alpha = 0.0</li></ul>\n",
       "    </details></ul>\n",
       "    <ul style=\"margin: 0px; list-style-position: outside;\">\n",
       "    <li style='margin-left:1em; padding-left: 0.5em'>beam_energy = 200</li></ul>\n",
       "    </details></ul></details></ul><ul style=\"margin: 0px; list-style-position: outside;\">\n",
       "                    <details open>\n",
       "                    <summary style=\"display: list-item;\">\n",
       "                    <li style=\"display: inline;\">\n",
       "                    General\n",
       "                    </li></summary>\n",
       "                    \n",
       "    <ul style=\"margin: 0px; list-style-position: outside;\">\n",
       "    <li style='margin-left:1em; padding-left: 0.5em'>title = </li></ul>\n",
       "    </details></ul><ul style=\"margin: 0px; list-style-position: outside;\">\n",
       "                    <details open>\n",
       "                    <summary style=\"display: list-item;\">\n",
       "                    <li style=\"display: inline;\">\n",
       "                    Sample\n",
       "                    </li></summary>\n",
       "                    \n",
       "    <ul style=\"margin: 0px; list-style-position: outside;\">\n",
       "    <li style='margin-left:1em; padding-left: 0.5em'>density = 3.124</li></ul>\n",
       "    \n",
       "    <ul style=\"margin: 0px; list-style-position: outside;\">\n",
       "    <li style='margin-left:1em; padding-left: 0.5em'>elements = ['Sr', 'Cu', 'Ca', 'P']</li></ul>\n",
       "    \n",
       "    <ul style=\"margin: 0px; list-style-position: outside;\">\n",
       "    <li style='margin-left:1em; padding-left: 0.5em'>thickness = 1.4e-05</li></ul>\n",
       "    </details></ul><ul style=\"margin: 0px; list-style-position: outside;\">\n",
       "                    <details open>\n",
       "                    <summary style=\"display: list-item;\">\n",
       "                    <li style=\"display: inline;\">\n",
       "                    Signal\n",
       "                    </li></summary>\n",
       "                    \n",
       "    <ul style=\"margin: 0px; list-style-position: outside;\">\n",
       "    <li style='margin-left:1em; padding-left: 0.5em'>binned = False</li></ul>\n",
       "    \n",
       "    <ul style=\"margin: 0px; list-style-position: outside;\">\n",
       "    <li style='margin-left:1em; padding-left: 0.5em'>signal_type = EDXSsnmfem</li></ul>\n",
       "    </details></ul><ul style=\"margin: 0px; list-style-position: outside;\">\n",
       "                    <details open>\n",
       "                    <summary style=\"display: list-item;\">\n",
       "                    <li style=\"display: inline;\">\n",
       "                    Truth\n",
       "                    </li></summary>\n",
       "                    <ul style=\"margin: 0px; list-style-position: outside;\">\n",
       "                    <details closed>\n",
       "                    <summary style=\"display: list-item;\">\n",
       "                    <li style=\"display: inline;\">\n",
       "                    Params\n",
       "                    </li></summary>\n",
       "                    \n",
       "    <ul style=\"margin: 0px; list-style-position: outside;\">\n",
       "    <li style='margin-left:1em; padding-left: 0.5em'>N = 15</li></ul>\n",
       "    \n",
       "    <ul style=\"margin: 0px; list-style-position: outside;\">\n",
       "    <li style='margin-left:1em; padding-left: 0.5em'>densities = [1, 1]</li></ul>\n",
       "    \n",
       "    <ul style=\"margin: 0px; list-style-position: outside;\">\n",
       "    <li style='margin-left:1em; padding-left: 0.5em'>model = EDXS</li></ul>\n",
       "    \n",
       "    <ul style=\"margin: 0px; list-style-position: outside;\">\n",
       "    <li style='margin-left:1em; padding-left: 0.5em'>seed = 0</li></ul>\n",
       "    \n",
       "    <ul style=\"margin: 0px; list-style-position: outside;\">\n",
       "    <li style='margin-left:1em; padding-left: 0.5em'>weight_type = gaussian_ripple</li></ul>\n",
       "    <ul style=\"margin: 0px; list-style-position: outside;\">\n",
       "                    <details closed>\n",
       "                    <summary style=\"display: list-item;\">\n",
       "                    <li style=\"display: inline;\">\n",
       "                    weights_params\n",
       "                    </li></summary>\n",
       "                    \n",
       "    <ul style=\"margin: 0px; list-style-position: outside;\">\n",
       "    <li style='margin-left:1em; padding-left: 0.5em'>width = 5</li></ul>\n",
       "    </details></ul></details></ul><ul style=\"margin: 0px; list-style-position: outside;\">\n",
       "                    <details closed>\n",
       "                    <summary style=\"display: list-item;\">\n",
       "                    <li style=\"display: inline;\">\n",
       "                    phases &lt;list&gt;\n",
       "                    </li></summary>\n",
       "                    <ul style=\"margin: 0px; list-style-position: outside;\">\n",
       "                    <details closed>\n",
       "                    <summary style=\"display: list-item;\">\n",
       "                    <li style=\"display: inline;\">\n",
       "                    [0]\n",
       "                    </li></summary>\n",
       "                    \n",
       "    <ul style=\"margin: 0px; list-style-position: outside;\">\n",
       "    <li style='margin-left:1em; padding-left: 0.5em'>E0 = 200</li></ul>\n",
       "    \n",
       "    <ul style=\"margin: 0px; list-style-position: outside;\">\n",
       "    <li style='margin-left:1em; padding-left: 0.5em'>b0 = 5.5367e-09</li></ul>\n",
       "    \n",
       "    <ul style=\"margin: 0px; list-style-position: outside;\">\n",
       "    <li style='margin-left:1em; padding-left: 0.5em'>b1 = 0.00192181</li></ul>\n",
       "    <ul style=\"margin: 0px; list-style-position: outside;\">\n",
       "                    <details closed>\n",
       "                    <summary style=\"display: list-item;\">\n",
       "                    <li style=\"display: inline;\">\n",
       "                    elements_dict\n",
       "                    </li></summary>\n",
       "                    \n",
       "    <ul style=\"margin: 0px; list-style-position: outside;\">\n",
       "    <li style='margin-left:1em; padding-left: 0.5em'>Ca = 0.54860348</li></ul>\n",
       "    \n",
       "    <ul style=\"margin: 0px; list-style-position: outside;\">\n",
       "    <li style='margin-left:1em; padding-left: 0.5em'>Cu = 0.03686538</li></ul>\n",
       "    \n",
       "    <ul style=\"margin: 0px; list-style-position: outside;\">\n",
       "    <li style='margin-left:1em; padding-left: 0.5em'>P = 0.38286879</li></ul>\n",
       "    \n",
       "    <ul style=\"margin: 0px; list-style-position: outside;\">\n",
       "    <li style='margin-left:1em; padding-left: 0.5em'>Sr = 0.03166235</li></ul>\n",
       "    </details></ul>\n",
       "    <ul style=\"margin: 0px; list-style-position: outside;\">\n",
       "    <li style='margin-left:1em; padding-left: 0.5em'>scale = 3e-06</li></ul>\n",
       "    </details></ul><ul style=\"margin: 0px; list-style-position: outside;\">\n",
       "                    <details closed>\n",
       "                    <summary style=\"display: list-item;\">\n",
       "                    <li style=\"display: inline;\">\n",
       "                    [1]\n",
       "                    </li></summary>\n",
       "                    \n",
       "    <ul style=\"margin: 0px; list-style-position: outside;\">\n",
       "    <li style='margin-left:1em; padding-left: 0.5em'>E0 = 200</li></ul>\n",
       "    \n",
       "    <ul style=\"margin: 0px; list-style-position: outside;\">\n",
       "    <li style='margin-left:1em; padding-left: 0.5em'>b0 = 5.5367e-09</li></ul>\n",
       "    \n",
       "    <ul style=\"margin: 0px; list-style-position: outside;\">\n",
       "    <li style='margin-left:1em; padding-left: 0.5em'>b1 = 0.00192181</li></ul>\n",
       "    <ul style=\"margin: 0px; list-style-position: outside;\">\n",
       "                    <details closed>\n",
       "                    <summary style=\"display: list-item;\">\n",
       "                    <li style=\"display: inline;\">\n",
       "                    elements_dict\n",
       "                    </li></summary>\n",
       "                    \n",
       "    <ul style=\"margin: 0px; list-style-position: outside;\">\n",
       "    <li style='margin-left:1em; padding-left: 0.5em'>Ca = 0.54860348</li></ul>\n",
       "    \n",
       "    <ul style=\"margin: 0px; list-style-position: outside;\">\n",
       "    <li style='margin-left:1em; padding-left: 0.5em'>Cu = 0.03686538</li></ul>\n",
       "    \n",
       "    <ul style=\"margin: 0px; list-style-position: outside;\">\n",
       "    <li style='margin-left:1em; padding-left: 0.5em'>P = 0.38286879</li></ul>\n",
       "    \n",
       "    <ul style=\"margin: 0px; list-style-position: outside;\">\n",
       "    <li style='margin-left:1em; padding-left: 0.5em'>Sr = 0.12166235</li></ul>\n",
       "    </details></ul>\n",
       "    <ul style=\"margin: 0px; list-style-position: outside;\">\n",
       "    <li style='margin-left:1em; padding-left: 0.5em'>scale = 3e-06</li></ul>\n",
       "    </details></ul></details></ul></details></ul>\n",
       "    <ul style=\"margin: 0px; list-style-position: outside;\">\n",
       "    <li style='margin-left:1em; padding-left: 0.5em'>xray_db = default_xrays.json</li></ul>\n",
       "    "
      ],
      "text/plain": [
       "├── Acquisition_instrument\n",
       "│   └── TEM\n",
       "│       ├── Detector\n",
       "│       │   ├── EDS\n",
       "│       │   │   ├── azimuth_angle = 0.0\n",
       "│       │   │   ├── elevation_angle = 22.0\n",
       "│       │   │   └── energy_resolution_MnKa = 130.0\n",
       "│       │   ├── take_off_angle = 22\n",
       "│       │   ├── type = SDD_efficiency.txt\n",
       "│       │   ├── width_intercept = 0.065\n",
       "│       │   └── width_slope = 0.01\n",
       "│       ├── Stage\n",
       "│       │   └── tilt_alpha = 0.0\n",
       "│       └── beam_energy = 200\n",
       "├── General\n",
       "│   └── title = \n",
       "├── Sample\n",
       "│   ├── density = 3.124\n",
       "│   ├── elements = ['Sr', 'Cu', 'Ca', 'P']\n",
       "│   └── thickness = 1.4e-05\n",
       "├── Signal\n",
       "│   ├── binned = False\n",
       "│   └── signal_type = EDXSsnmfem\n",
       "├── Truth\n",
       "│   ├── Params\n",
       "│   │   ├── N = 15\n",
       "│   │   ├── densities = [1, 1]\n",
       "│   │   ├── model = EDXS\n",
       "│   │   ├── seed = 0\n",
       "│   │   ├── weight_type = gaussian_ripple\n",
       "│   │   └── weights_params\n",
       "│   │       └── width = 5\n",
       "│   └── phases <list>\n",
       "│       ╠══ [0]\n",
       "│       ║   ╠══ E0 = 200\n",
       "│       ║   ╠══ b0 = 5.5367e-09\n",
       "│       ║   ╠══ b1 = 0.00192181\n",
       "│       ║   ╠══ elements_dict\n",
       "│       ║   ║   ╠══ Ca = 0.54860348\n",
       "│       ║   ║   ╠══ Cu = 0.03686538\n",
       "│       ║   ║   ╠══ P = 0.38286879\n",
       "│       ║   ║   ╚══ Sr = 0.03166235\n",
       "│       ║   ╚══ scale = 3e-06\n",
       "│       ╚══ [1]\n",
       "│           ╠══ E0 = 200\n",
       "│           ╠══ b0 = 5.5367e-09\n",
       "│           ╠══ b1 = 0.00192181\n",
       "│           ╠══ elements_dict\n",
       "│           ║   ╠══ Ca = 0.54860348\n",
       "│           ║   ╠══ Cu = 0.03686538\n",
       "│           ║   ╠══ P = 0.38286879\n",
       "│           ║   ╚══ Sr = 0.12166235\n",
       "│           ╚══ scale = 3e-06\n",
       "└── xray_db = default_xrays.json"
      ]
     },
     "execution_count": 43,
     "metadata": {},
     "output_type": "execute_result"
    }
   ],
   "source": [
    "s.metadata"
   ]
  },
  {
   "cell_type": "code",
   "execution_count": null,
   "metadata": {},
   "outputs": [],
   "source": [
    "np.testing.assert_allclose(Xdot.sum(axis=(0,1)), X.sum(axis = (0,1)))"
   ]
  },
  {
   "cell_type": "code",
   "execution_count": 39,
   "metadata": {},
   "outputs": [
    {
     "data": {
      "text/plain": [
       "(10,)"
      ]
     },
     "execution_count": 39,
     "metadata": {},
     "output_type": "execute_result"
    }
   ],
   "source": [
    "P.shape"
   ]
  },
  {
   "cell_type": "code",
   "execution_count": 35,
   "metadata": {},
   "outputs": [
    {
     "data": {
      "text/plain": [
       "[<matplotlib.lines.Line2D at 0x12529930f48>]"
      ]
     },
     "execution_count": 35,
     "metadata": {},
     "output_type": "execute_result"
    }
   ],
   "source": [
    "plt.plot(spim.sum(axis = (0,1)))\n",
    "plt.plot(Xdot.sum(axis=(0,1)))\n",
    "plt.plot(G@P)\n",
    "plt.plot(G@P - Xdot.sum(axis=(0,1)))"
   ]
  },
  {
   "cell_type": "code",
   "execution_count": 6,
   "metadata": {},
   "outputs": [
    {
     "name": "stderr",
     "output_type": "stream",
     "text": [
      "WARNING:hyperspy.io:`signal_type='EDXSsnmfem'` not understood. See `hs.print_known_signal_types()` for a list of known signal types, and the developer guide for details on how to add new signal_types.\n",
      "WARNING:hyperspy.io:`signal_type='EDXSsnmfem'` not understood. See `hs.print_known_signal_types()` for a list of known signal types, and the developer guide for details on how to add new signal_types.\n"
     ]
    }
   ],
   "source": [
    "s.plot()"
   ]
  },
  {
   "cell_type": "code",
   "execution_count": 69,
   "metadata": {},
   "outputs": [],
   "source": [
    "s.set_signal_type(\"EDS_TEM\")\n",
    "s.axes_manager[-1].units = \"keV\"\n",
    "s.add_lines([\"Sr_Ka\"])\n",
    "bw = s.estimate_background_windows(line_width=[2.0, 2.0])"
   ]
  },
  {
   "cell_type": "code",
   "execution_count": 70,
   "metadata": {},
   "outputs": [],
   "source": [
    "s.sum().plot(background_windows = bw)"
   ]
  },
  {
   "cell_type": "code",
   "execution_count": 75,
   "metadata": {},
   "outputs": [
    {
     "data": {
      "text/plain": [
       "[<BaseSignal, title: X-ray line intensity of : Sr_Ka at 14.16 keV, dimensions: (400, 100|)>]"
      ]
     },
     "execution_count": 75,
     "metadata": {},
     "output_type": "execute_result"
    }
   ],
   "source": [
    "s.get_lines_intensity(['Sr_Ka'], plot_result=True)"
   ]
  },
  {
   "cell_type": "code",
   "execution_count": 76,
   "metadata": {},
   "outputs": [
    {
     "data": {
      "text/plain": [
       "[<BaseSignal, title: X-ray line intensity of : Sr_Ka at 14.16 keV, dimensions: (400|)>]"
      ]
     },
     "execution_count": 76,
     "metadata": {},
     "output_type": "execute_result"
    }
   ],
   "source": [
    "s.sum(axis = 1 ).get_lines_intensity([\"Sr_Ka\"],plot_result = True)"
   ]
  },
  {
   "cell_type": "code",
   "execution_count": 18,
   "metadata": {},
   "outputs": [],
   "source": [
    "weights = gw.generate_weights(\"gaussian_ripple\", (100,400), width = 5)"
   ]
  },
  {
   "cell_type": "code",
   "execution_count": 19,
   "metadata": {},
   "outputs": [
    {
     "data": {
      "text/plain": [
       "<matplotlib.image.AxesImage at 0x1e44d6ef648>"
      ]
     },
     "execution_count": 19,
     "metadata": {},
     "output_type": "execute_result"
    }
   ],
   "source": [
    "plt.imshow(weights[:,:,0])"
   ]
  },
  {
   "cell_type": "code",
   "execution_count": 40,
   "metadata": {},
   "outputs": [],
   "source": [
    "data_dict = {\n",
    "    \"model_parameters\" : {\n",
    "        \"e_offset\" : 1.27,\n",
    "        \"e_size\" : 3746,\n",
    "        \"e_scale\" : 0.005,\n",
    "        \"width_slope\" : 0.01,\n",
    "        \"width_intercept\" : 0.065,\n",
    "        \"db_name\" : \"default_xrays.json\",\n",
    "        \"E0\" : 200,\n",
    "        \"params_dict\" : {\n",
    "            \"Abs\" : {\n",
    "                \"thickness\" : 140.0e-7,\n",
    "                \"toa\" : 22,\n",
    "                \"density\" : 3.124,\n",
    "                \"atomic_fraction\" : False\n",
    "            },\n",
    "            \"Det\" : \"SDD_efficiency.txt\"\n",
    "        }\n",
    "    },\n",
    "    \"N\" : 15,\n",
    "    \"densities\" : [1,1],\n",
    "    \"data_folder\" : \"gb_sim_N15_w5_4Sr\",\n",
    "    \"seed\" : 0,\n",
    "    \"weight_type\" : \"gaussian_ripple\",\n",
    "    \"shape_2d\" : (100,400),\n",
    "    \"weights_params\" : {\n",
    "        \"width\" : 5\n",
    "    },\n",
    "    \"model\" : \"EDXS\",\n",
    "    \"phases_parameters\" : [{\"b0\" : 5.5367e-9,\n",
    "                            \"b1\" : 0.00192181,\n",
    "                            \"E0\" : 200,\n",
    "                            \"scale\" : 3e-6,\n",
    "                            \"elements_dict\" : {\"Ca\" : 0.54860348,\n",
    "                                      \"P\" : 0.38286879,\n",
    "                                      \"Sr\" : 0.03166235,\n",
    "                                      \"Cu\" : 0.03686538}},\n",
    "                            {\"b0\" : 5.5367e-9,\n",
    "                            \"b1\" : 0.00192181,\n",
    "                            \"E0\" : 200,\n",
    "                            \"scale\" : 3e-6,\n",
    "                            \"elements_dict\" : {\"Ca\" : 0.54860348,\n",
    "                                      \"P\" : 0.38286879,\n",
    "                                      \"Sr\" : 0.12166235,\n",
    "                                      \"Cu\" : 0.03686538}}]\n",
    "}"
   ]
  },
  {
   "cell_type": "code",
   "execution_count": 41,
   "metadata": {},
   "outputs": [
    {
     "name": "stderr",
     "output_type": "stream",
     "text": [
      "  0%|                                                                                            | 0/1 [00:00<?, ?it/s]WARNING:hyperspy.io:`signal_type='EDXSsnmfem'` not understood. See `hs.print_known_signal_types()` for a list of known signal types, and the developer guide for details on how to add new signal_types.\n",
      "  0%|                                                                                            | 0/1 [00:05<?, ?it/s]\n"
     ]
    },
    {
     "ename": "AttributeError",
     "evalue": "'Signal1D' object has no attribute 'set_microscope_parameters'",
     "output_type": "error",
     "traceback": [
      "\u001b[1;31m---------------------------------------------------------------------------\u001b[0m",
      "\u001b[1;31mAttributeError\u001b[0m                            Traceback (most recent call last)",
      "\u001b[1;32m<ipython-input-41-018ff409789b>\u001b[0m in \u001b[0;36m<module>\u001b[1;34m\u001b[0m\n\u001b[1;32m----> 1\u001b[1;33m \u001b[0mb\u001b[0m\u001b[1;33m.\u001b[0m\u001b[0mgenerate_dataset\u001b[0m\u001b[1;33m(\u001b[0m\u001b[0mseeds_range\u001b[0m \u001b[1;33m=\u001b[0m \u001b[1;36m1\u001b[0m\u001b[1;33m,\u001b[0m \u001b[1;33m**\u001b[0m\u001b[0mdata_dict\u001b[0m\u001b[1;33m)\u001b[0m\u001b[1;33m\u001b[0m\u001b[1;33m\u001b[0m\u001b[0m\n\u001b[0m",
      "\u001b[1;32m~\\Travail\\SNMF_EDXS\\snmfem\\datasets\\base.py\u001b[0m in \u001b[0;36mgenerate_dataset\u001b[1;34m(base_path, seeds_range, **kwargs)\u001b[0m\n\u001b[0;32m    111\u001b[0m         \u001b[0mspim\u001b[0m \u001b[1;33m=\u001b[0m \u001b[0mgenerate_spim\u001b[0m\u001b[1;33m(\u001b[0m\u001b[0mphases\u001b[0m\u001b[1;33m,\u001b[0m \u001b[0mweights\u001b[0m\u001b[1;33m,\u001b[0m \u001b[0mkwargs\u001b[0m\u001b[1;33m[\u001b[0m\u001b[1;34m\"densities\"\u001b[0m\u001b[1;33m]\u001b[0m\u001b[1;33m,\u001b[0m \u001b[0mkwargs\u001b[0m\u001b[1;33m[\u001b[0m\u001b[1;34m\"N\"\u001b[0m\u001b[1;33m]\u001b[0m\u001b[1;33m,\u001b[0m \u001b[0mseed\u001b[0m\u001b[1;33m=\u001b[0m\u001b[0mseed\u001b[0m\u001b[1;33m)\u001b[0m\u001b[1;33m\u001b[0m\u001b[1;33m\u001b[0m\u001b[0m\n\u001b[0;32m    112\u001b[0m         \u001b[0mfilename\u001b[0m \u001b[1;33m=\u001b[0m \u001b[0mfolder\u001b[0m \u001b[1;33m/\u001b[0m \u001b[0mPath\u001b[0m\u001b[1;33m(\u001b[0m\u001b[1;34m\"sample_{}\"\u001b[0m\u001b[1;33m.\u001b[0m\u001b[0mformat\u001b[0m\u001b[1;33m(\u001b[0m\u001b[0mseed\u001b[0m \u001b[1;33m-\u001b[0m \u001b[0mfixed_seed\u001b[0m\u001b[1;33m)\u001b[0m\u001b[1;33m)\u001b[0m\u001b[1;33m\u001b[0m\u001b[1;33m\u001b[0m\u001b[0m\n\u001b[1;32m--> 113\u001b[1;33m         \u001b[0mmisc_parameters\u001b[0m\u001b[1;33m.\u001b[0m\u001b[0mupdate\u001b[0m\u001b[1;33m(\u001b[0m\u001b[1;33m{\u001b[0m\u001b[1;34m\"seed\"\u001b[0m \u001b[1;33m:\u001b[0m \u001b[0mseed\u001b[0m\u001b[1;33m}\u001b[0m\u001b[1;33m)\u001b[0m\u001b[1;33m\u001b[0m\u001b[1;33m\u001b[0m\u001b[0m\n\u001b[0m\u001b[0;32m    114\u001b[0m         \u001b[0msave_generated_spim\u001b[0m\u001b[1;33m(\u001b[0m\u001b[0mfilename\u001b[0m\u001b[1;33m,\u001b[0m \u001b[0mspim\u001b[0m\u001b[1;33m,\u001b[0m \u001b[0mmodel_parameters\u001b[0m\u001b[1;33m,\u001b[0m \u001b[0mphases_parameters\u001b[0m\u001b[1;33m,\u001b[0m \u001b[0mmisc_parameters\u001b[0m\u001b[1;33m)\u001b[0m\u001b[1;33m\u001b[0m\u001b[1;33m\u001b[0m\u001b[0m\n",
      "\u001b[1;32m~\\Travail\\SNMF_EDXS\\snmfem\\datasets\\base.py\u001b[0m in \u001b[0;36msave_generated_spim\u001b[1;34m(filename, spim, model_params, phases_params, misc_params)\u001b[0m\n\u001b[0;32m     60\u001b[0m     \u001b[0ms\u001b[0m\u001b[1;33m.\u001b[0m\u001b[0maxes_manager\u001b[0m\u001b[1;33m[\u001b[0m\u001b[1;33m-\u001b[0m\u001b[1;36m1\u001b[0m\u001b[1;33m]\u001b[0m\u001b[1;33m.\u001b[0m\u001b[0mscale\u001b[0m \u001b[1;33m=\u001b[0m \u001b[0mmodel_params\u001b[0m\u001b[1;33m[\u001b[0m\u001b[1;34m\"e_scale\"\u001b[0m\u001b[1;33m]\u001b[0m\u001b[1;33m\u001b[0m\u001b[1;33m\u001b[0m\u001b[0m\n\u001b[0;32m     61\u001b[0m \u001b[1;33m\u001b[0m\u001b[0m\n\u001b[1;32m---> 62\u001b[1;33m     \u001b[0ms\u001b[0m\u001b[1;33m.\u001b[0m\u001b[0mset_microscope_parameters\u001b[0m\u001b[1;33m(\u001b[0m\u001b[0mbeam_energy\u001b[0m \u001b[1;33m=\u001b[0m \u001b[0mmodel_params\u001b[0m\u001b[1;33m[\u001b[0m\u001b[1;34m\"E0\"\u001b[0m\u001b[1;33m]\u001b[0m\u001b[1;33m)\u001b[0m\u001b[1;33m\u001b[0m\u001b[1;33m\u001b[0m\u001b[0m\n\u001b[0m\u001b[0;32m     63\u001b[0m \u001b[1;33m\u001b[0m\u001b[0m\n\u001b[0;32m     64\u001b[0m     \u001b[0ms\u001b[0m\u001b[1;33m.\u001b[0m\u001b[0madd_elements\u001b[0m\u001b[1;33m(\u001b[0m\u001b[0melements\u001b[0m \u001b[1;33m=\u001b[0m \u001b[0munique_elts\u001b[0m\u001b[1;33m(\u001b[0m\u001b[0mphases_params\u001b[0m\u001b[1;33m)\u001b[0m\u001b[1;33m)\u001b[0m\u001b[1;33m\u001b[0m\u001b[1;33m\u001b[0m\u001b[0m\n",
      "\u001b[1;31mAttributeError\u001b[0m: 'Signal1D' object has no attribute 'set_microscope_parameters'"
     ]
    }
   ],
   "source": [
    "b.generate_dataset(seeds_range = 1, **data_dict)"
   ]
  },
  {
   "cell_type": "code",
   "execution_count": null,
   "metadata": {},
   "outputs": [],
   "source": [
    "a = np.loadtxt(\"C:\\\\Users\\\\teurtrie\\\\Travail\\\\SNMF_EDXS\\\\notebooks\\\\for-Adrien\\\\sim-1_0_0-s03_c106-5pctSr.txt\",delimiter = \" \")\n",
    "plt.plot(a[:,0],a[:,1])"
   ]
  },
  {
   "cell_type": "code",
   "execution_count": 46,
   "metadata": {},
   "outputs": [],
   "source": [
    "b = np.loadtxt(\"C:\\\\Users\\\\teurtrie\\\\Travail\\\\SNMF_EDXS\\\\notebooks\\\\for-Adrien\\\\spectrum\\\\Background.txt\",delimiter = \";\")\n",
    "m = np.loadtxt(\"C:\\\\Users\\\\teurtrie\\\\Travail\\\\SNMF_EDXS\\\\notebooks\\\\for-Adrien\\\\spectrum\\\\Modeled.txt\",delimiter = \";\")\n",
    "r = np.loadtxt(\"C:\\\\Users\\\\teurtrie\\\\Travail\\\\SNMF_EDXS\\\\notebooks\\\\for-Adrien\\\\spectrum\\\\Residual.txt\",delimiter = \";\")\n",
    "sp = np.loadtxt(\"C:\\\\Users\\\\teurtrie\\\\Travail\\\\SNMF_EDXS\\\\notebooks\\\\for-Adrien\\\\spectrum\\\\Spectrum.txt\",delimiter = \";\")\n",
    "# plt.plot(b[:,0],b[:,1],\"r.\")\n",
    "# plt.plot(m[:,0],m[:,1])\n",
    "# plt.plot(r[:,0],r[:,1])\n",
    "# plt.plot(s[:,0],s[:,1],\"b.\")"
   ]
  },
  {
   "cell_type": "code",
   "execution_count": null,
   "metadata": {},
   "outputs": [],
   "source": [
    "spectrum.plot()"
   ]
  },
  {
   "cell_type": "code",
   "execution_count": 47,
   "metadata": {},
   "outputs": [],
   "source": [
    "spectrum = hs.signals.Signal1D(sp[:,1])\n",
    "spectrum.crop(0,350)"
   ]
  },
  {
   "cell_type": "code",
   "execution_count": 48,
   "metadata": {},
   "outputs": [],
   "source": [
    "spectrum.axes_manager[0].scale = 0.005\n",
    "spectrum.axes_manager[0].offset = 1.27"
   ]
  },
  {
   "cell_type": "code",
   "execution_count": 20,
   "metadata": {},
   "outputs": [
    {
     "data": {
      "text/html": [
       "<style>\n",
       "table, th, td {\n",
       "\tborder: 1px solid black;\n",
       "\tborder-collapse: collapse;\n",
       "}\n",
       "th, td {\n",
       "\tpadding: 5px;\n",
       "}\n",
       "</style>\n",
       "<p><b>< Axes manager, axes: (|3746) ></b></p>\n",
       "<table style='width:100%'>\n",
       "\n",
       "<tr> \n",
       "<th>Signal axis name</th> \n",
       "<th>size</th> \n",
       "<th>offset</th> \n",
       "<th>scale</th> \n",
       "<th>units</th> </tr>\n",
       "<tr> \n",
       "<td><undefined></td> \n",
       "<td>3746</td> \n",
       "<td>1.27</td> \n",
       "<td>0.005</td> \n",
       "<td><undefined></td> </tr></table>\n"
      ],
      "text/plain": [
       "<Axes manager, axes: (|3746)>\n",
       "            Name |   size |  index |  offset |   scale |  units \n",
       "================ | ====== | ====== | ======= | ======= | ====== \n",
       "---------------- | ------ | ------ | ------- | ------- | ------ \n",
       "     <undefined> |   3746 |        |     1.3 |   0.005 | <undefined> "
      ]
     },
     "execution_count": 20,
     "metadata": {},
     "output_type": "execute_result"
    }
   ],
   "source": [
    "spectrum.axes_manager"
   ]
  },
  {
   "cell_type": "markdown",
   "metadata": {},
   "source": [
    "# Guide to this notebook\n",
    "\n",
    "Every time the symbol ⚠️ appears, a user input is required in the cell below.\n",
    "\n",
    "If a cell made a few windows pop up, please kill the windows once you're done. Otherwise every new plot will be displayed in top of the other (which may slow your computer down). \n",
    "\n",
    "Overview of the different steps :\n",
    "- I. Load the data either a spectrum (go to step III.) or a spectrum image\n",
    "- II. Select an area of interest in your spectrum image.\n",
    "- III. Creates an energy scale (x) from your data for the fitting procedure.\n",
    "- IV. Selects the regions of the spectrum were there are no peaks for background fitting.\n",
    "- V. Creates the required objects (partial x and y) for the background fitting procedure.\n",
    "- VI. Fitting the background. If this is not satisfactory go back to IV."
   ]
  },
  {
   "cell_type": "markdown",
   "metadata": {},
   "source": [
    "# I. Load data\n",
    "\n",
    "Either a spectrum or a full spim"
   ]
  },
  {
   "cell_type": "markdown",
   "metadata": {},
   "source": [
    "## Load spectrum\n",
    "⚠️"
   ]
  },
  {
   "cell_type": "code",
   "execution_count": null,
   "metadata": {},
   "outputs": [],
   "source": [
    "spectrum = hs.load(\"46_ES-LP_L6_brg_test2.spx\").isig[0.20 : 19.9]"
   ]
  },
  {
   "cell_type": "markdown",
   "metadata": {},
   "source": [
    "⚠️ It is easier to fit the background on average spectra than on sum spectra. In pix_number, put the number of spectra you integrated."
   ]
  },
  {
   "cell_type": "code",
   "execution_count": null,
   "metadata": {},
   "outputs": [],
   "source": [
    "pix_number = 43400\n",
    "spectrum.data = spectrum.data /pix_number"
   ]
  },
  {
   "cell_type": "markdown",
   "metadata": {},
   "source": [
    "## Load spectrum image"
   ]
  },
  {
   "cell_type": "markdown",
   "metadata": {},
   "source": [
    "## .bcf file\n",
    "\n",
    "⚠️"
   ]
  },
  {
   "cell_type": "code",
   "execution_count": null,
   "metadata": {},
   "outputs": [],
   "source": [
    "spim = hs.load(\"map.bcf\")\n",
    "\n",
    "haadf = spim[1]\n",
    "spim = spim[2]\n",
    "spim.crop_signal1D(1.85,19.9)"
   ]
  },
  {
   "cell_type": "markdown",
   "metadata": {},
   "source": [
    "## .emd file\n",
    "\n",
    "⚠️ Be careful, depending on the number of elemental map or spectra you saved in your emd file you may need to inspect the output of ``hs.load``.\n",
    "Simply put ``hs.load(file)`` in a new cell locate the haadf and the spim."
   ]
  },
  {
   "cell_type": "code",
   "execution_count": null,
   "metadata": {},
   "outputs": [],
   "source": [
    "s = hs.load(\"1613 SI HAADF 610 kx.emd\")"
   ]
  },
  {
   "cell_type": "code",
   "execution_count": null,
   "metadata": {},
   "outputs": [],
   "source": [
    "spim = s[-1].isig[0.6:]"
   ]
  },
  {
   "cell_type": "markdown",
   "metadata": {},
   "source": [
    "# Bin the spectrum image"
   ]
  },
  {
   "cell_type": "code",
   "execution_count": null,
   "metadata": {},
   "outputs": [],
   "source": [
    "def bin_spim(data,n,m):\n",
    "    # return a matrix of shape (n,m)\n",
    "    bs = data.shape[0]//n,data.shape[1]//m  # blocksize averaged over\n",
    "    k = data.shape[2]\n",
    "    return np.reshape(np.array([np.sum(data[k1*bs[0]:(k1+1)*bs[0],k2*bs[1]:(k2+1)*bs[1]],axis=(0,1)) for k1 in range(n) for k2 in range(m)]),(n,m,k))\n",
    "\n",
    "n,m = 300,300\n",
    "spim.data = bin_spim(spim.data,n,m)\n",
    "\n",
    "spim.axes_manager[0].scale /= spim.axes_manager[0].size // n \n",
    "spim.axes_manager[1].scale /= spim.axes_manager[1].size // m \n",
    "spim.axes_manager[0].size = n\n",
    "spim.axes_manager[1].size = m"
   ]
  },
  {
   "cell_type": "code",
   "execution_count": null,
   "metadata": {},
   "outputs": [],
   "source": [
    "spim.save(\"B5IC1_binned.hspy\")"
   ]
  },
  {
   "cell_type": "markdown",
   "metadata": {},
   "source": [
    "# II. Select an area of interest\n",
    "\n",
    "⚠️ 3 windows will pop up. \n",
    "- One window correspond to a 2D representation of the spim (sum along the energy direction) a green rectangle will be displayed on top of it, it corresponds to the selected area. \n",
    "- One window correspond to the first pixel (top left) of the spectrum image (you can ignore it). \n",
    "- The last window correspond to the average of the selected spectra"
   ]
  },
  {
   "cell_type": "code",
   "execution_count": null,
   "metadata": {},
   "outputs": [],
   "source": [
    "scale_h, scale_v= spim.axes_manager[0].scale,spim.axes_manager[1].scale\n",
    "offset_h, offset_v = spim.axes_manager[0].offset, spim.axes_manager[1].offset\n",
    "\n",
    "haadf_ROI=hs.roi.RectangularROI((10*scale_h)+ offset_h,\n",
    "                            (10*scale_v)+offset_v,\n",
    "                            (40*scale_h)+offset_h,\n",
    "                            (40*scale_v)+offset_v)\n",
    "# arguments = left, top, right, bottom in pixels*scale\n",
    "spim.plot()\n",
    "spim_ROI=haadf_ROI.interactive(spim)\n",
    "# The HAADF and SPIM windows with their respective ROIs. The two ROIs are connected so that the selected area in the HAADF is the same as the one on the SPIM.\n",
    "\n",
    "spectrum=hs.interactive(spim_ROI.mean,\n",
    "           event=spim_ROI.axes_manager.events.any_axis_changed,\n",
    "           recompute_out_event=None)\n",
    "spectrum.plot(True)"
   ]
  },
  {
   "cell_type": "code",
   "execution_count": null,
   "metadata": {},
   "outputs": [],
   "source": [
    "spim.set_elements(['Co', 'Cr', 'Fe', 'Mn', \"Mo\"])\n",
    "# spim.add_lines()\n",
    "spim.metadata"
   ]
  },
  {
   "cell_type": "code",
   "execution_count": null,
   "metadata": {},
   "outputs": [],
   "source": [
    "import snmfem.data_analysis as da\n",
    "\n",
    "da.set_analysis_parameters(spim, detector_type = \"SDD_efficiency.txt\", thickness = 100e-7, density = 6.2,elevation_angle = 22, tilt_stage=0.0)\n",
    "\n",
    "# left,right,top,bottom = da.get_ROI_ranges(spim,haadf_ROI)\n",
    "# ind_list = da.build_index_list(left,right,top,bottom,spim.axes_manager[0].size)\n",
    "\n",
    "# with open(\"B5IC1_steel_area.txt\",\"w\") as f : \n",
    "#     for elt in ind_list : \n",
    "#         f.write(str(elt))\n",
    "#         f.write(\" \")"
   ]
  },
  {
   "cell_type": "markdown",
   "metadata": {},
   "source": [
    "# III. Calibrate x"
   ]
  },
  {
   "cell_type": "code",
   "execution_count": null,
   "metadata": {},
   "outputs": [],
   "source": [
    "offset = spectrum.axes_manager[0].offset\n",
    "scale = spectrum.axes_manager[0].scale\n",
    "size = spectrum.axes_manager[0].size\n",
    "\n",
    "x = np.linspace(offset,size*scale+offset,num = size)"
   ]
  },
  {
   "cell_type": "markdown",
   "metadata": {},
   "source": [
    "# IV. Select areas for bckgd fitting\n",
    "\n",
    "⚠️ Input in the ``span_number`` the number of selection areas you wish to use. Once you execute the cell, a window will pop with a few green areas and a red spectrum. The green areas correspond to the regions were the background will be fitted. You can, drag, enlarge and reduce these green areas."
   ]
  },
  {
   "cell_type": "code",
   "execution_count": null,
   "metadata": {},
   "outputs": [],
   "source": [
    "span_number = 5\n",
    "\n",
    "\n",
    "def selection_areas(number,spectrum,scale) :\n",
    "    spectrum.plot()\n",
    "    roi_list = []\n",
    "    for i in range(number) :\n",
    "        roi_list.append(hs.roi.SpanROI(i+200*scale,i+400*scale))\n",
    "        roi_list[-1].interactive(spectrum)\n",
    "    return roi_list\n",
    "\n",
    "spans = selection_areas(span_number,spectrum,scale)"
   ]
  },
  {
   "cell_type": "code",
   "execution_count": null,
   "metadata": {},
   "outputs": [],
   "source": [
    "list_energies = [[roi.left,roi.right] for roi in spans]"
   ]
  },
  {
   "cell_type": "markdown",
   "metadata": {},
   "source": [
    "⚠️ Execute this cell only if you want to use a previous selection of areas for the background fitting."
   ]
  },
  {
   "cell_type": "code",
   "execution_count": null,
   "metadata": {},
   "outputs": [],
   "source": [
    "list_energies = [[0.8014116348999999, 0.8514658053999999], [1.3820400126999997, 1.4020616808999997], [1.9526575563999997, 1.9826900586999998], [2.4231667590999995, 2.5332859341999994], [3.3241418280999997, 3.5243585101], [4.2651602335, 4.965918620499999], [6.6477387493, 6.8479554313], [11.8333508131, 14.9867635546]]"
   ]
  },
  {
   "cell_type": "markdown",
   "metadata": {},
   "source": [
    "# VI. Fitting the continuum"
   ]
  },
  {
   "cell_type": "code",
   "execution_count": null,
   "metadata": {},
   "outputs": [],
   "source": [
    "part_x, part_y, sum_boola = sf.make_partial_xy(list_energies,spectrum,x)\n",
    "\n",
    "example = {\"b0\" : 3.9724e-04, \"b1\" : -1.9620e-06, \"params_dict\" : {\n",
    "    \"Det\" : \"SDD_efficiency.txt\", 'Abs' : {\n",
    "        \"thickness\" : 140e-7, \"toa\" : 22, \"density\" : 3.124, \"atomic_fraction\" : False},\n",
    "        \"elements_dict\" : {\n",
    "            \"Ca\" : 0.36,\n",
    "            \"P\" : 0.2,\n",
    "            \"Sr\" : 0.04,\n",
    "            \"O\" : 0.404\n",
    "        }\n",
    "    }\n",
    "}\n",
    "\n",
    "# {\"detection\" : {\n",
    "#     \"thickness\" : 450e-4,\n",
    "#     \"elements_dict\" : {\n",
    "#         \"Si\" : 1.0\n",
    "#     }\n",
    "# },\"layer\" : {\n",
    "#     \"thickness\" : 10e-7,\n",
    "#     \"elements_dict\" : {\n",
    "#         \"Si\" : 0.33,\n",
    "#         \"O\" : 0.66,\n",
    "#         \"Al\" : 1.0\n",
    "#     }\n",
    "# }}\n",
    "\n",
    "pars = sf.ndict_to_params(example)\n",
    "\n",
    "pars[\"params_dict__Abs__thickness\"].vary = False\n",
    "# pars[\"params_dict__Abs__thickness\"].max = 5000e-7\n",
    "# pars[\"params_dict__Det__layer__thickness\"].vary = False\n",
    "pars[\"params_dict__Abs__toa\"].vary = False\n",
    "pars[\"params_dict__Abs__density\"].vary = False\n",
    "\n",
    "out = lm.minimize(sf.residual, pars, args=(part_x,), kws={'data': part_y})\n",
    "print(lm.fit_report(out))"
   ]
  },
  {
   "cell_type": "code",
   "execution_count": null,
   "metadata": {},
   "outputs": [],
   "source": [
    "from snmfem.models.edxs import EDXS\n",
    "\n",
    "mod = EDXS(e_offset = spectrum.axes_manager[0].offset,\n",
    "           e_size = spectrum.axes_manager[0].size,\n",
    "           e_scale = spectrum.axes_manager[0].scale,\n",
    "           params_dict = {\"Abs\" : {\"thickness\" : 140e-7,\n",
    "                                  \"toa\" : 22,\n",
    "                                  \"density\" : 3.124,\n",
    "                                  \"atomic_fraction\" : False},\n",
    "                         \"Det\" : \"SDD_efficiency.txt\"},\n",
    "           db_name = \"default_xrays.json\")\n",
    "\n",
    "\n",
    "sp_sim = mod.generate_spectrum(b0 = 5.5367e-9, b1 = 0.00192181, E0 = 200, scale = 3e-6,\n",
    "                      abs_elts_dict = {\"Ca\" : 0.54,\n",
    "                                       \"P\" : 0.38,\n",
    "                                       \"Sr\" : 0.04,\n",
    "                                       \"O\" : 0.404},\n",
    "                     elements_dict = {\"Ca\" : 0.54860348,\n",
    "                                      \"P\" : 0.38286879,\n",
    "                                      \"Sr\" : 0.03166235,\n",
    "                                      \"Cu\" : 0.03686538})"
   ]
  },
  {
   "cell_type": "code",
   "execution_count": null,
   "metadata": {},
   "outputs": [],
   "source": [
    "plt.plot(spectrum.data/spectrum.data.sum(),\"k.\")\n",
    "plt.plot(sp_sim/sp_sim.sum())"
   ]
  },
  {
   "cell_type": "markdown",
   "metadata": {},
   "source": [
    "### Plotting the results\n",
    "\n",
    "The red curves corresponds to the background model, the black one to the data, and the grey area correspond to the selected green areas"
   ]
  },
  {
   "cell_type": "code",
   "execution_count": null,
   "metadata": {},
   "outputs": [],
   "source": [
    "y = spectrum.data\n",
    "bkgd = sf.residual(out.params,x)\n",
    "plt.plot(x,y,\"ko-\",markersize=1.5,label=\"exp\",markevery=10)\n",
    "plt.fill_between(x,0,y,where=sum_boola,label=\"fit windows\",color=\"0.8\")\n",
    "plt.xlabel(\"Energy (keV)\",fontsize=22)\n",
    "plt.xticks(fontsize=20)\n",
    "# plt.ylim(0,1)\n",
    "plt.yticks(fontsize=20)\n",
    "plt.ylabel(\"Intensity\",fontsize=22)\n",
    "plt.plot(x,bkgd,\"r-\",linewidth=1,label=\"fit\")\n",
    "plt.legend(fontsize=22)"
   ]
  },
  {
   "cell_type": "code",
   "execution_count": null,
   "metadata": {},
   "outputs": [],
   "source": [
    "from snmfem.models.absorption_edxs import *"
   ]
  },
  {
   "cell_type": "code",
   "execution_count": null,
   "metadata": {},
   "outputs": [],
   "source": [
    "A = absorption_correction(part_x, thickness =  100e-7, toa =  22, density =  6.2, atomic_fraction =  True,elements_dict = {\n",
    "             \"Ce\" : 0.3,\n",
    "            \"Cr\" : 0.2,\n",
    "            \"Fe\" : 0.2,\n",
    "            \"Mn\" : 0.3,\n",
    "            \"Mo\" : 0.01\n",
    "    })\n",
    "\n",
    "D = det_efficiency_from_curve(part_x,\"SDD_efficiency.txt\")\n",
    "\n",
    "brem = part_y /(A*D)"
   ]
  },
  {
   "cell_type": "code",
   "execution_count": null,
   "metadata": {},
   "outputs": [],
   "source": [
    "plt.plot(1/part_x,brem,\"ko\",label = \"corrected experimental data\")\n",
    "plt.plot(1/part_x,0.00155*1/part_x, label = \"f(x) = 0.0215*1/x\")\n",
    "plt.xlabel(\"1/E\",fontsize = 22)\n",
    "plt.legend(fontsize = 22)"
   ]
  },
  {
   "cell_type": "code",
   "execution_count": null,
   "metadata": {},
   "outputs": [],
   "source": [
    "import lmfit as lm\n",
    "\n",
    "gmod = lm.models.ExpressionModel(\"b0*(200 -x)/x + b1*((200 - x)**2)/x + b2*((200 -x)**3)/x\")\n",
    "result = gmod.fit(brem, x=part_x, b0=0.0000001, b1 = 0.0000001, b2 = 0.0000001)\n",
    "\n",
    "\n",
    "print(result.fit_report())\n",
    "\n",
    "plt.plot(part_x, brem, 'bo')\n",
    "# plt.plot(part_x, result.init_fit, 'k--', label='initial fit')\n",
    "plt.plot(part_x, result.best_fit, 'r-', label='best fit')\n",
    "plt.legend(loc='best')\n",
    "plt.show()"
   ]
  },
  {
   "cell_type": "markdown",
   "metadata": {},
   "source": [
    "# VII. Select the interesting part of the spectrum\n",
    "\n",
    "⚠️ A window will pop up with a red spectrum and a green area. With the green areas, you can select the energy range you want to quantify. Usually the low energy region (below 1keV) is not very well fitted by the background model. Hence you probably want to avoid the quantification of low energy characteristic X rays. \n",
    "\n",
    "If you feel brave enough you can uncomment some parts of the background modelling part and achieve a better background fit at low energies. At your own risks."
   ]
  },
  {
   "cell_type": "code",
   "execution_count": null,
   "metadata": {},
   "outputs": [],
   "source": [
    "s_bkgd = hs.signals.Signal1D(bkgd)\n",
    "s_bkgd.axes_manager[0].offset = offset\n",
    "s_bkgd.axes_manager[0].scale = scale\n",
    "\n",
    "spectrum.plot()\n",
    "ax = spectrum._plot.signal_plot.ax\n",
    "ax.add_line(matplotlib.lines.Line2D(spectrum._plot.axis.axis,bkgd.data))\n",
    "roi = hs.roi.SpanROI(200*scale,400*scale)\n",
    "roi.interactive(spectrum)"
   ]
  },
  {
   "cell_type": "markdown",
   "metadata": {},
   "source": [
    "### Accepting the choice of quantification energy range"
   ]
  },
  {
   "cell_type": "code",
   "execution_count": null,
   "metadata": {},
   "outputs": [],
   "source": [
    "charac_xrays = (spectrum.isig[roi.left:roi.right].data - s_bkgd.isig[roi.left:roi.right].data).clip(min=0)\n",
    "new_offset = spectrum.isig[roi.left:roi.right].axes_manager[0].offset\n",
    "new_size = spectrum.isig[roi.left:roi.right].axes_manager[0].size"
   ]
  },
  {
   "cell_type": "markdown",
   "metadata": {},
   "source": [
    "# VIII. Fitting the characteristic Xrays"
   ]
  },
  {
   "cell_type": "markdown",
   "metadata": {},
   "source": [
    "### Initialisation of the characteristic Xray model\n",
    "⚠️ Put the list of elements (by atomic numbers) you want to quantify in ``elt_list``. \n",
    "\n",
    "``G_calib`` is a small offset you may want to add so that the peaks are at the right energy. \n",
    "\n",
    "Note that depending on the energy range you chose, not all the elements you put are fitted (e.g. Oxygen will not be taken into account if your energy range starts at 1 keV)"
   ]
  },
  {
   "cell_type": "code",
   "execution_count": null,
   "metadata": {},
   "outputs": [],
   "source": [
    "#elt_list = [29,30,31,40,78,81,12,13,14,20,26,92,71,72,60,62]\n",
    "elt_list = [\"Cu\", \"Ca\", \"P\", \"O\", \"Sr\"]\n",
    "G_calib = -0.005\n",
    "density = 3.124\n",
    "thickness = 140e-7\n",
    "toa = 22"
   ]
  },
  {
   "cell_type": "code",
   "execution_count": null,
   "metadata": {},
   "outputs": [],
   "source": [
    "db = \"default_xrays.json\"\n",
    "\n",
    "true_elt_list = []\n",
    "for elt in elt_list : \n",
    "    mod_t = edxs.EDXS(new_offset,new_size,scale,{},db_name = db,energy_range = [new_offset,new_size*scale+new_offset])\n",
    "    mod_t.generate_g_matr(elements = [elt],norm=False)\n",
    "    G_t = mod_t.G\n",
    "    if G_t.shape[1] == 3 : \n",
    "        true_elt_list.append(elt)\n",
    "    \n",
    "mod = edxs.EDXS(new_offset + G_calib,new_size,scale,{},db_name = db,energy_range = [new_offset,new_size*scale+new_offset])\n",
    "mod.generate_g_matr(elements = true_elt_list,norm=False, density = density, thickness = thickness, toa = 22)\n",
    "G = mod.G\n",
    "new_x = np.linspace(new_offset,new_size*scale+new_offset,num = new_size)\n",
    "print(\"List of elements with Xray lines in the energy range :\")\n",
    "print(true_elt_list)"
   ]
  },
  {
   "cell_type": "code",
   "execution_count": null,
   "metadata": {},
   "outputs": [],
   "source": []
  },
  {
   "cell_type": "code",
   "execution_count": null,
   "metadata": {},
   "outputs": [],
   "source": [
    "P = np.linalg.lstsq(G[:,:-2],charac_xrays,rcond = None)[0]"
   ]
  },
  {
   "cell_type": "code",
   "execution_count": null,
   "metadata": {},
   "outputs": [],
   "source": [
    "plt.plot(charac_xrays)\n",
    "plt.plot(G[:,:-2]@P)"
   ]
  },
  {
   "cell_type": "code",
   "execution_count": null,
   "metadata": {},
   "outputs": [],
   "source": [
    "print(P/P.sum())"
   ]
  },
  {
   "cell_type": "markdown",
   "metadata": {},
   "source": [
    "### Fitting the characteristic Xrays"
   ]
  },
  {
   "cell_type": "code",
   "execution_count": null,
   "metadata": {},
   "outputs": [],
   "source": [
    "estimator = NMF(n_components= 1,max_iter=2000,force_simplex = True,tol = 1e-8)\n",
    "estimator.fit_transform(G=G, A=np.array([1])[:,np.newaxis], X=charac_xrays[:,np.newaxis])\n",
    "P = estimator.P_"
   ]
  },
  {
   "cell_type": "markdown",
   "metadata": {},
   "source": [
    "⚠️ If you want to fix the values of P you obtained in a previous fit put them in ``fixed_elts`` and execute the two following cells. \n",
    "\n",
    "For a two steps quantification : Chose a first energy range. Perform a first fit, which initialise P with all the elements. Then go back to the energy range selection, ignore the cell above, chose the fixed elements and perform the fit with fixed elements below. "
   ]
  },
  {
   "cell_type": "code",
   "execution_count": null,
   "metadata": {},
   "outputs": [],
   "source": [
    "fixed_elts = [71,72]"
   ]
  },
  {
   "cell_type": "code",
   "execution_count": null,
   "metadata": {},
   "outputs": [],
   "source": [
    "inds = [true_elt_list.index(elt) for elt in fix_elts]\n",
    "trunc_elt_list = [v for i,v in enumerate(true_elt_list) if i not in frozenset(inds)] \n",
    "trunc_G = np.delete(G, inds, axis=1)\n",
    "fixed_P = P[inds]\n",
    "fixed_G = G[:,inds]\n",
    "estimator = NMF(n_components= 1,max_iter=2000,force_simplex = True,tol = 1e-8)\n",
    "estimator.fit_transform(G=trunc_G, A=np.array([1])[:,np.newaxis], X=charac_xrays[:,np.newaxis])\n",
    "trunc_P = estimator.P_\n",
    "P = np.concatenate((trunc_P,fixed_P))\n",
    "G = np.hstack((trunc_G,fixed_G))\n",
    "true_elt_list = trunc_elt_list + fixed_elts"
   ]
  },
  {
   "cell_type": "markdown",
   "metadata": {},
   "source": [
    "# IX. Plot the results\n",
    "\n",
    "⚠️ The popping window will display the bkgd substracted experimental spectrum, the fitted characteristic Xrays model in black and red. Every element composing the model will be displayed with an offset : ``components_offset``. You can change its value below. \n",
    "\n",
    "If you want to display the names of the lines of an element that was used for quantification execute the next cells below before kill the window."
   ]
  },
  {
   "cell_type": "code",
   "execution_count": null,
   "metadata": {},
   "outputs": [],
   "source": [
    "components_offset = -0.1"
   ]
  },
  {
   "cell_type": "code",
   "execution_count": null,
   "metadata": {},
   "outputs": [],
   "source": [
    "linestyles = [\":\",\"--\",\"-.\"]\n",
    "\n",
    "plt.plot(new_x,charac_xrays,\"ko-\",label=\"exp\",markevery = 10)\n",
    "plt.plot(new_x,G@P,\"r\",linewidth = 3,label=\"theo\")\n",
    "plt.xticks(fontsize = 16)\n",
    "plt.yticks(fontsize = 16)\n",
    "plt.xlabel(\"energy (keV)\",fontsize = 18)\n",
    "plt.ylabel(\"Intensity\", fontsize = 18)\n",
    "\n",
    "for i in range(G.shape[1]) :\n",
    "    ls_string = linestyles[i%len(linestyles)] + \"C{}\".format(i%9)\n",
    "    plt.plot(new_x,G[:,i]*P[i]+components_offset,ls_string,label=str(true_elt_list[i]),linewidth=3)\n",
    "\n",
    "\n",
    "plt.legend(fontsize=18)\n",
    "plt.tight_layout()"
   ]
  },
  {
   "cell_type": "markdown",
   "metadata": {},
   "source": [
    "⚠️ You can change the `select_elt` to display the lines of this element. (It is probably going to messy as a lot of lines have very close energy). Execute this cell if you want to identify some lines.  "
   ]
  },
  {
   "cell_type": "code",
   "execution_count": null,
   "metadata": {},
   "outputs": [],
   "source": [
    "select_elt = \"72\""
   ]
  },
  {
   "cell_type": "code",
   "execution_count": null,
   "metadata": {},
   "outputs": [],
   "source": [
    "with open(\"xray_lines.json\",\"r\") as f :\n",
    "    lines_dict = json.load(f)[\"table\"]    \n",
    "\n",
    "for line in lines_dict[select_elt].keys() :\n",
    "    if (lines_dict[select_elt][line][\"energy\"]> new_offset) and (lines_dict[select_elt][line][\"energy\"]<new_size*scale+new_offset) :\n",
    "        plt.text(lines_dict[select_elt][line][\"energy\"],0.0,line,fontsize=18)\n"
   ]
  },
  {
   "cell_type": "markdown",
   "metadata": {},
   "source": [
    "# X. Printing the concentrations"
   ]
  },
  {
   "cell_type": "markdown",
   "metadata": {},
   "source": [
    "Full summary of normalized concentrations."
   ]
  },
  {
   "cell_type": "code",
   "execution_count": null,
   "metadata": {},
   "outputs": [],
   "source": [
    "r = P/P.sum(axis=0)\n",
    "for i in range(P.shape[0]) :\n",
    "    print(\"Z : \",true_elt_list[i],\"  rel conc : \",r[i])"
   ]
  },
  {
   "cell_type": "markdown",
   "metadata": {},
   "source": [
    "⚠️ You can remove some elements of the results, normalizing on the remaining elements."
   ]
  },
  {
   "cell_type": "code",
   "execution_count": null,
   "metadata": {},
   "outputs": [],
   "source": [
    "ignored_elts = [29,30]"
   ]
  },
  {
   "cell_type": "code",
   "execution_count": null,
   "metadata": {},
   "outputs": [],
   "source": [
    "inds = [true_elt_list.index(elt) for elt in ignored_elts]\n",
    "remain_elt_list = [v for i,v in enumerate(true_elt_list) if i not in frozenset(inds)] \n",
    "remain_P = np.delete(P, inds, axis=0)\n",
    "r = remain_P / remain_P.sum(axis=0)\n",
    "for i in range(r.shape[0]) :\n",
    "    print(\"Z : \",remain_elt_list[i],\"  rel conc : \",r[i])"
   ]
  },
  {
   "cell_type": "code",
   "execution_count": null,
   "metadata": {},
   "outputs": [],
   "source": []
  }
 ],
 "metadata": {
  "interpreter": {
   "hash": "ae2bec25d04a58403981d6892379486339cbb2cd6f315f3a399785dd0e4b6656"
  },
  "kernelspec": {
   "display_name": "Python 3",
   "language": "python",
   "name": "python3"
  },
  "language_info": {
   "codemirror_mode": {
    "name": "ipython",
    "version": 3
   },
   "file_extension": ".py",
   "mimetype": "text/x-python",
   "name": "python",
   "nbconvert_exporter": "python",
   "pygments_lexer": "ipython3",
   "version": "3.7.6"
  }
 },
 "nbformat": 4,
 "nbformat_minor": 4
}
