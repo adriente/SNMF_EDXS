{
 "cells": [
  {
   "cell_type": "code",
   "execution_count": 1,
   "source": [
    "%matplotlib inline\n",
    "# %matplotlib qt\n",
    "import hyperspy.api as hs\n",
    "import numpy as np\n",
    "import lmfit as lm\n",
    "import matplotlib.pyplot as plt\n",
    "import matplotlib\n",
    "from snmfem.models import edxs\n",
    "import snmfem.spectrum_fitting as sf\n",
    "from snmfem.conf import DATASETS_PATH\n",
    "from pathlib import Path\n",
    "from snmfem.estimators import NMF\n",
    "from snmfem.datasets import spim"
   ],
   "outputs": [
    {
     "output_type": "stream",
     "name": "stderr",
     "text": [
      "WARNING:hyperspy_gui_traitsui:The module://matplotlib_inline.backend_inline matplotlib backend is not compatible with the traitsui GUI elements. For more information, read http://hyperspy.readthedocs.io/en/stable/user_guide/getting_started.html#possible-warnings-when-importing-hyperspy.\n",
      "WARNING:hyperspy_gui_traitsui:The traitsui GUI elements are not available.\n"
     ]
    }
   ],
   "metadata": {}
  },
  {
   "cell_type": "markdown",
   "source": [
    "# Guide to this notebook\n",
    "\n",
    "Every time the symbol ⚠️ appears, a user input is required in the cell below.\n",
    "\n",
    "If a cell made a few windows pop up, please kill the windows once you're done. Otherwise every new plot will be displayed in top of the other (which may slow your computer down). \n",
    "\n",
    "Overview of the different steps :\n",
    "- I. Load the data either a spectrum (go to step III.) or a spectrum image\n",
    "- II. Select an area of interest in your spectrum image.\n",
    "- III. Creates an energy scale (x) from your data for the fitting procedure.\n",
    "- IV. Selects the regions of the spectrum were there are no peaks for background fitting.\n",
    "- V. Creates the required objects (partial x and y) for the background fitting procedure.\n",
    "- VI. Fitting the background. If this is not satisfactory go back to IV."
   ],
   "metadata": {}
  },
  {
   "cell_type": "markdown",
   "source": [
    "## I. Load spectrum & energy scale\n",
    "\n",
    "The spectrum is expected to be an average spectrum, its energy range is expected to start above 0.0\n",
    "\n",
    "⚠️"
   ],
   "metadata": {}
  },
  {
   "cell_type": "code",
   "execution_count": 2,
   "source": [
    "input_filename = str(DATASETS_PATH / Path(\"selected_spectrum.hspy\"))\n",
    "spectrum = hs.load(input_filename)\n",
    "\n",
    "offset = spectrum.axes_manager[0].offset\n",
    "scale = spectrum.axes_manager[0].scale\n",
    "size = spectrum.axes_manager[0].size\n",
    "\n",
    "x = np.linspace(offset,size*scale+offset,num = size)"
   ],
   "outputs": [],
   "metadata": {}
  },
  {
   "cell_type": "markdown",
   "source": [
    "# II. Select areas for bckgd fitting\n",
    "\n",
    "⚠️ Input in the ``span_number`` the number of selection areas you wish to use. Once you execute the cell, a window will pop with a few green areas and a red spectrum. The green areas correspond to the regions were the background will be fitted. You can, drag, enlarge and reduce these green areas."
   ],
   "metadata": {}
  },
  {
   "cell_type": "code",
   "execution_count": 3,
   "source": [
    "span_number = 4\n",
    "\n",
    "\n",
    "def selection_areas(number,spectrum,scale) :\n",
    "    spectrum.plot()\n",
    "    roi_list = []\n",
    "    for i in range(number) :\n",
    "        roi_list.append(hs.roi.SpanROI(i+200*scale,i+400*scale))\n",
    "        roi_list[-1].interactive(spectrum)\n",
    "    return roi_list\n",
    "\n",
    "spans = selection_areas(span_number,spectrum,scale)"
   ],
   "outputs": [
    {
     "output_type": "display_data",
     "data": {
      "image/png": "[encoded data removed]",
      "text/plain": [
       "<Figure size 432x288 with 1 Axes>"
      ]
     },
     "metadata": {
      "needs_background": "light"
     }
    }
   ],
   "metadata": {}
  },
  {
   "cell_type": "markdown",
   "source": [
    "Once you are satisfied with the selected areas, save their positions using the cell below"
   ],
   "metadata": {}
  },
  {
   "cell_type": "code",
   "execution_count": 4,
   "source": [
    "list_energies = [[roi.left,roi.right] for roi in spans]"
   ],
   "outputs": [],
   "metadata": {}
  },
  {
   "cell_type": "markdown",
   "source": [
    "# III. Fitting the continuum\n",
    "\n",
    "⚠️ Input the sample parameters below and execute the cell to fit"
   ],
   "metadata": {}
  },
  {
   "cell_type": "code",
   "execution_count": 5,
   "source": [
    "thickness = 100e-7\n",
    "density = 5.5\n",
    "take_off_angle = 35\n",
    "elements_dict = {\"Si\" : 0.25, \"Mg\" : 0.20, \"Fe\" : 0.05, \"O\" : 0.5}\n",
    "detector = \"SDD_efficiency.txt\"\n",
    "\n",
    "#################################################################################################\n",
    "# For a custom detector, uncomment below and replace \"SDD_efficiency.txt\" with the dictionnary. #\n",
    "#################################################################################################\n",
    "\n",
    "# {\"detection\" : {\n",
    "#     \"thickness\" : 450e-4,\n",
    "#     \"elements_dict\" : {\n",
    "#         \"Si\" : 1.0\n",
    "#     }\n",
    "# },\"layer\" : {\n",
    "#     \"thickness\" : 10e-7,\n",
    "#     \"elements_dict\" : {\n",
    "#         \"Si\" : 0.33,\n",
    "#         \"O\" : 0.66,\n",
    "#         \"Al\" : 1.0\n",
    "#     }\n",
    "# }}\n",
    "\n",
    "part_x, part_y, sum_boola = sf.make_partial_xy(list_energies,spectrum,x)\n",
    "\n",
    "example = {\n",
    "    \"b0\" : 1.0,\n",
    "    \"b1\" : 1.0,\n",
    "    \"params_dict\" : {\n",
    "    \"Det\" : detector,\n",
    "    'Abs' : {\n",
    "        \"thickness\" : thickness,\n",
    "        \"toa\" : take_off_angle,\n",
    "        \"density\" : density,\n",
    "        \"atomic_fraction\" : True},\n",
    "        \"elements_dict\" : elements_dict\n",
    "    }\n",
    "}\n",
    "\n",
    "pars = sf.ndict_to_params(example)\n",
    "\n",
    "#################################################################################################\n",
    "# You can uncomment the lines below if you want to add constraints to the absorption parameters #\n",
    "#################################################################################################\n",
    "\n",
    "# pars[\"params_dict__Abs__thickness\"].vary = False\n",
    "# pars[\"params_dict__Abs__thickness\"].max = 5000e-7\n",
    "# pars[\"params_dict__Det__layer__thickness\"].vary = False\n",
    "pars[\"params_dict__Abs__toa\"].vary = False\n",
    "pars[\"params_dict__Abs__density\"].vary = False\n",
    "\n",
    "out = lm.minimize(sf.residual, pars, args=(part_x,), kws={'data': part_y})\n",
    "print(lm.fit_report(out))"
   ],
   "outputs": [
    {
     "output_type": "stream",
     "name": "stdout",
     "text": [
      "[[Fit Statistics]]\n",
      "    # fitting method   = leastsq\n",
      "    # function evals   = 50\n",
      "    # data points      = 800\n",
      "    # variables        = 4\n",
      "    chi-square         = 0.08058265\n",
      "    reduced chi-square = 1.0123e-04\n",
      "    Akaike info crit   = -7354.46693\n",
      "    Bayesian info crit = -7335.72848\n",
      "##  Warning: uncertainties could not be estimated:\n",
      "    params_dict__Abs__thickness:        at boundary\n",
      "    params_dict__Abs__atomic_fraction:  at initial value\n",
      "[[Variables]]\n",
      "    b0:                                 2.09481867 (init = 1)\n",
      "    b1:                                 0.08939063 (init = 1)\n",
      "    params_dict__Abs__thickness:        1.1226e-09 (init = 1e-05)\n",
      "    params_dict__Abs__toa:              35 (fixed)\n",
      "    params_dict__Abs__density:          5.5 (fixed)\n",
      "    params_dict__Abs__atomic_fraction:  1.00000000 (init = 1)\n",
      "    params_dict__elements_dict__Si:     0.25 (fixed)\n",
      "    params_dict__elements_dict__Mg:     0.2 (fixed)\n",
      "    params_dict__elements_dict__Fe:     0.05 (fixed)\n",
      "    params_dict__elements_dict__O:      0.5 (fixed)\n"
     ]
    }
   ],
   "metadata": {}
  },
  {
   "cell_type": "markdown",
   "source": [
    "### Plotting the results\n",
    "\n",
    "The red curves corresponds to the background model, the black one to the data, and the grey area correspond to the selected green areas"
   ],
   "metadata": {}
  },
  {
   "cell_type": "code",
   "execution_count": 6,
   "source": [
    "y = spectrum.data\n",
    "bkgd = sf.residual(out.params,x)\n",
    "plt.plot(x,y,\"ko-\",markersize=1.5,label=\"exp\",markevery=10)\n",
    "plt.fill_between(x,0,y,where=sum_boola,label=\"fit windows\",color=\"0.8\")\n",
    "plt.xlabel(\"Energy (keV)\",fontsize=22)\n",
    "plt.xticks(fontsize=20)\n",
    "# plt.ylim(0,1)\n",
    "plt.yticks(fontsize=20)\n",
    "plt.ylabel(\"Intensity\",fontsize=22)\n",
    "plt.plot(x,bkgd,\"r-\",linewidth=1,label=\"fit\")\n",
    "plt.legend(fontsize=22)"
   ],
   "outputs": [
    {
     "output_type": "execute_result",
     "data": {
      "text/plain": [
       "<matplotlib.legend.Legend at 0x7f04426acf10>"
      ]
     },
     "metadata": {},
     "execution_count": 6
    },
    {
     "output_type": "display_data",
     "data": {
      "image/png": "[encoded data removed]",
      "text/plain": [
       "<Figure size 432x288 with 1 Axes>"
      ]
     },
     "metadata": {
      "needs_background": "light"
     }
    }
   ],
   "metadata": {}
  },
  {
   "cell_type": "markdown",
   "source": [
    "# VI. Select the interesting part of the spectrum\n",
    "\n",
    "⚠️ A window will pop up with a red spectrum and a green area. With the green areas, you can select the energy range you want to quantify. Usually the low energy region (below 1keV) is not very well fitted by the background model. Hence you probably want to avoid the quantification of low energy characteristic X rays. "
   ],
   "metadata": {}
  },
  {
   "cell_type": "code",
   "execution_count": 7,
   "source": [
    "s_bkgd = hs.signals.Signal1D(bkgd)\n",
    "s_bkgd.axes_manager[0].offset = offset\n",
    "s_bkgd.axes_manager[0].scale = scale\n",
    "\n",
    "spectrum.plot()\n",
    "ax = spectrum._plot.signal_plot.ax\n",
    "ax.add_line(matplotlib.lines.Line2D(spectrum._plot.axis.axis,bkgd.data))\n",
    "roi = hs.roi.SpanROI(200*scale,400*scale)\n",
    "roi.interactive(spectrum)"
   ],
   "outputs": [
    {
     "output_type": "execute_result",
     "data": {
      "text/plain": [
       "<EDXSsnmfem, title: , dimensions: (|200)>"
      ]
     },
     "metadata": {},
     "execution_count": 7
    },
    {
     "output_type": "display_data",
     "data": {
      "image/png": "[encoded data removed]",
      "text/plain": [
       "<Figure size 432x288 with 1 Axes>"
      ]
     },
     "metadata": {
      "needs_background": "light"
     }
    }
   ],
   "metadata": {}
  },
  {
   "cell_type": "markdown",
   "source": [
    "### Accepting the choice of quantification energy range"
   ],
   "metadata": {}
  },
  {
   "cell_type": "code",
   "execution_count": 8,
   "source": [
    "charac_xrays = (spectrum.isig[roi.left:roi.right].data - s_bkgd.isig[roi.left:roi.right].data).clip(min=0)\n",
    "new_offset = spectrum.isig[roi.left:roi.right].axes_manager[0].offset\n",
    "new_size = spectrum.isig[roi.left:roi.right].axes_manager[0].size"
   ],
   "outputs": [],
   "metadata": {}
  },
  {
   "cell_type": "markdown",
   "source": [
    "# VIII. Fitting the characteristic Xrays"
   ],
   "metadata": {}
  },
  {
   "cell_type": "markdown",
   "source": [
    "### Initialisation of the characteristic Xray model\n",
    "⚠️ Put the list of elements (by atomic numbers) you want to quantify in ``elt_list``. \n",
    "\n",
    "``G_calib`` is a small offset you may want to add so that the peaks are at the right energy. \n",
    "\n",
    "Note that depending on the energy range you chose, not all the elements you put are fitted (e.g. Oxygen will not be taken into account if your energy range starts at 1 keV)"
   ],
   "metadata": {}
  },
  {
   "cell_type": "code",
   "execution_count": 9,
   "source": [
    "elt_list = [\"Si\", \"Mg\", \"Fe\", \"O\"]\n",
    "G_calib = -0.005\n",
    "db = \"default_xrays.json\"\n",
    "\n",
    "params_dict = {\n",
    "    \"Abs\" : {\n",
    "        \"thickness\" : thickness,\n",
    "        \"density\" : density,\n",
    "        \"toa\" : take_off_angle\n",
    "    },\n",
    "    \"Det\" : detector\n",
    "}\n",
    "\n",
    "true_elt_list = []\n",
    "for elt in elt_list : \n",
    "    mod_t = edxs.EDXS(new_offset,new_size,scale,{},db_name = db)\n",
    "    mod_t.generate_g_matr(elements = [elt],norm=False, g_type = \"no_brstlg\")\n",
    "    G_t = mod_t.G\n",
    "    if G_t.shape[1] == 1 : \n",
    "        true_elt_list.append(elt)\n",
    "    \n",
    "mod = edxs.EDXS(new_offset + G_calib,new_size,scale,params_dict,db_name = db)\n",
    "mod.generate_g_matr(elements = true_elt_list,norm=False, g_type = \"no_brstlg\")\n",
    "G = mod.G\n",
    "new_x = np.linspace(new_offset,new_size*scale+new_offset,num = new_size)\n",
    "print(\"List of elements with Xray lines in the energy range :\")\n",
    "print(true_elt_list)"
   ],
   "outputs": [
    {
     "output_type": "stream",
     "name": "stdout",
     "text": [
      "No peak is present in the energy range for element : 14\n",
      "No peak is present in the energy range for element : 12\n",
      "No peak is present in the energy range for element : 26\n",
      "No peak is present in the energy range for element : 8\n",
      "List of elements with Xray lines in the energy range :\n",
      "[]\n"
     ]
    }
   ],
   "metadata": {}
  },
  {
   "cell_type": "markdown",
   "source": [
    "### Fitting the characteristic Xrays"
   ],
   "metadata": {}
  },
  {
   "cell_type": "code",
   "execution_count": 10,
   "source": [
    "estimator = NMF(G=G,n_components= 1,max_iter=2000,force_simplex = True,tol = 1e-8,hspy_comp = False)\n",
    "estimator.fit_transform(charac_xrays[:,np.newaxis], A=np.array([1])[:,np.newaxis])\n",
    "P = estimator.P_"
   ],
   "outputs": [
    {
     "output_type": "stream",
     "name": "stdout",
     "text": [
      "exits because of relative change rel_A -5.820766033477894e-11 or rel_P 5.729174835825121e-11 < tol \n",
      "Stopped after 1 iterations in 0.0 minutes and 0.0 seconds.\n"
     ]
    }
   ],
   "metadata": {}
  },
  {
   "cell_type": "markdown",
   "source": [
    "# IX. Plot the results\n",
    "\n",
    "⚠️ The popping window will display the bkgd substracted experimental spectrum, the fitted characteristic Xrays model in black and red. Every element composing the model will be displayed with an offset : ``components_offset``. You can change its value below. \n",
    "\n",
    "If you want to display the names of the lines of an element that was used for quantification execute the next cells below before kill the window."
   ],
   "metadata": {}
  },
  {
   "cell_type": "code",
   "execution_count": 11,
   "source": [
    "components_offset = -0.1"
   ],
   "outputs": [],
   "metadata": {}
  },
  {
   "cell_type": "code",
   "execution_count": 12,
   "source": [
    "linestyles = [\":\",\"--\",\"-.\"]\n",
    "\n",
    "plt.plot(new_x,charac_xrays,\"ko-\",label=\"exp\",markevery = 10)\n",
    "plt.plot(new_x,G@P,\"r\",linewidth = 3,label=\"theo\")\n",
    "plt.xticks(fontsize = 16)\n",
    "plt.yticks(fontsize = 16)\n",
    "plt.xlabel(\"energy (keV)\",fontsize = 18)\n",
    "plt.ylabel(\"Intensity\", fontsize = 18)\n",
    "\n",
    "for i in range(G.shape[1]) :\n",
    "    ls_string = linestyles[i%len(linestyles)] + \"C{}\".format(i%9)\n",
    "    plt.plot(new_x,G[:,i]*P[i]+components_offset,ls_string,label=str(true_elt_list[i]),linewidth=3)\n",
    "\n",
    "\n",
    "plt.legend(fontsize=18)\n",
    "plt.tight_layout()"
   ],
   "outputs": [
    {
     "output_type": "error",
     "ename": "IndexError",
     "evalue": "list index out of range",
     "traceback": [
      "\u001b[0;31m---------------------------------------------------------------------------\u001b[0m",
      "\u001b[0;31mIndexError\u001b[0m                                Traceback (most recent call last)",
      "\u001b[0;32m/tmp/ipykernel_957/3667995317.py\u001b[0m in \u001b[0;36m<module>\u001b[0;34m\u001b[0m\n\u001b[1;32m     10\u001b[0m \u001b[0;32mfor\u001b[0m \u001b[0mi\u001b[0m \u001b[0;32min\u001b[0m \u001b[0mrange\u001b[0m\u001b[0;34m(\u001b[0m\u001b[0mG\u001b[0m\u001b[0;34m.\u001b[0m\u001b[0mshape\u001b[0m\u001b[0;34m[\u001b[0m\u001b[0;36m1\u001b[0m\u001b[0;34m]\u001b[0m\u001b[0;34m)\u001b[0m \u001b[0;34m:\u001b[0m\u001b[0;34m\u001b[0m\u001b[0;34m\u001b[0m\u001b[0m\n\u001b[1;32m     11\u001b[0m     \u001b[0mls_string\u001b[0m \u001b[0;34m=\u001b[0m \u001b[0mlinestyles\u001b[0m\u001b[0;34m[\u001b[0m\u001b[0mi\u001b[0m\u001b[0;34m%\u001b[0m\u001b[0mlen\u001b[0m\u001b[0;34m(\u001b[0m\u001b[0mlinestyles\u001b[0m\u001b[0;34m)\u001b[0m\u001b[0;34m]\u001b[0m \u001b[0;34m+\u001b[0m \u001b[0;34m\"C{}\"\u001b[0m\u001b[0;34m.\u001b[0m\u001b[0mformat\u001b[0m\u001b[0;34m(\u001b[0m\u001b[0mi\u001b[0m\u001b[0;34m%\u001b[0m\u001b[0;36m9\u001b[0m\u001b[0;34m)\u001b[0m\u001b[0;34m\u001b[0m\u001b[0;34m\u001b[0m\u001b[0m\n\u001b[0;32m---> 12\u001b[0;31m     \u001b[0mplt\u001b[0m\u001b[0;34m.\u001b[0m\u001b[0mplot\u001b[0m\u001b[0;34m(\u001b[0m\u001b[0mnew_x\u001b[0m\u001b[0;34m,\u001b[0m\u001b[0mG\u001b[0m\u001b[0;34m[\u001b[0m\u001b[0;34m:\u001b[0m\u001b[0;34m,\u001b[0m\u001b[0mi\u001b[0m\u001b[0;34m]\u001b[0m\u001b[0;34m*\u001b[0m\u001b[0mP\u001b[0m\u001b[0;34m[\u001b[0m\u001b[0mi\u001b[0m\u001b[0;34m]\u001b[0m\u001b[0;34m+\u001b[0m\u001b[0mcomponents_offset\u001b[0m\u001b[0;34m,\u001b[0m\u001b[0mls_string\u001b[0m\u001b[0;34m,\u001b[0m\u001b[0mlabel\u001b[0m\u001b[0;34m=\u001b[0m\u001b[0mstr\u001b[0m\u001b[0;34m(\u001b[0m\u001b[0mtrue_elt_list\u001b[0m\u001b[0;34m[\u001b[0m\u001b[0mi\u001b[0m\u001b[0;34m]\u001b[0m\u001b[0;34m)\u001b[0m\u001b[0;34m,\u001b[0m\u001b[0mlinewidth\u001b[0m\u001b[0;34m=\u001b[0m\u001b[0;36m3\u001b[0m\u001b[0;34m)\u001b[0m\u001b[0;34m\u001b[0m\u001b[0;34m\u001b[0m\u001b[0m\n\u001b[0m\u001b[1;32m     13\u001b[0m \u001b[0;34m\u001b[0m\u001b[0m\n\u001b[1;32m     14\u001b[0m \u001b[0;34m\u001b[0m\u001b[0m\n",
      "\u001b[0;31mIndexError\u001b[0m: list index out of range"
     ]
    },
    {
     "output_type": "display_data",
     "data": {
      "image/png": "[encoded data removed]",
      "text/plain": [
       "<Figure size 432x288 with 1 Axes>"
      ]
     },
     "metadata": {
      "needs_background": "light"
     }
    }
   ],
   "metadata": {}
  },
  {
   "cell_type": "markdown",
   "source": [
    "# X. Printing the concentrations"
   ],
   "metadata": {}
  },
  {
   "cell_type": "markdown",
   "source": [
    "Full summary of normalized concentrations."
   ],
   "metadata": {}
  },
  {
   "cell_type": "code",
   "execution_count": 13,
   "source": [
    "r = P/P.sum(axis=0)\n",
    "for i in range(P.shape[0]) :\n",
    "    print(\"Z : \",true_elt_list[i],\"  rel conc : \",r[i])"
   ],
   "outputs": [
    {
     "output_type": "error",
     "ename": "IndexError",
     "evalue": "list index out of range",
     "traceback": [
      "\u001b[0;31m---------------------------------------------------------------------------\u001b[0m",
      "\u001b[0;31mIndexError\u001b[0m                                Traceback (most recent call last)",
      "\u001b[0;32m/tmp/ipykernel_957/3055960137.py\u001b[0m in \u001b[0;36m<module>\u001b[0;34m\u001b[0m\n\u001b[1;32m      1\u001b[0m \u001b[0mr\u001b[0m \u001b[0;34m=\u001b[0m \u001b[0mP\u001b[0m\u001b[0;34m/\u001b[0m\u001b[0mP\u001b[0m\u001b[0;34m.\u001b[0m\u001b[0msum\u001b[0m\u001b[0;34m(\u001b[0m\u001b[0maxis\u001b[0m\u001b[0;34m=\u001b[0m\u001b[0;36m0\u001b[0m\u001b[0;34m)\u001b[0m\u001b[0;34m\u001b[0m\u001b[0;34m\u001b[0m\u001b[0m\n\u001b[1;32m      2\u001b[0m \u001b[0;32mfor\u001b[0m \u001b[0mi\u001b[0m \u001b[0;32min\u001b[0m \u001b[0mrange\u001b[0m\u001b[0;34m(\u001b[0m\u001b[0mP\u001b[0m\u001b[0;34m.\u001b[0m\u001b[0mshape\u001b[0m\u001b[0;34m[\u001b[0m\u001b[0;36m0\u001b[0m\u001b[0;34m]\u001b[0m\u001b[0;34m)\u001b[0m \u001b[0;34m:\u001b[0m\u001b[0;34m\u001b[0m\u001b[0;34m\u001b[0m\u001b[0m\n\u001b[0;32m----> 3\u001b[0;31m     \u001b[0mprint\u001b[0m\u001b[0;34m(\u001b[0m\u001b[0;34m\"Z : \"\u001b[0m\u001b[0;34m,\u001b[0m\u001b[0mtrue_elt_list\u001b[0m\u001b[0;34m[\u001b[0m\u001b[0mi\u001b[0m\u001b[0;34m]\u001b[0m\u001b[0;34m,\u001b[0m\u001b[0;34m\"  rel conc : \"\u001b[0m\u001b[0;34m,\u001b[0m\u001b[0mr\u001b[0m\u001b[0;34m[\u001b[0m\u001b[0mi\u001b[0m\u001b[0;34m]\u001b[0m\u001b[0;34m)\u001b[0m\u001b[0;34m\u001b[0m\u001b[0;34m\u001b[0m\u001b[0m\n\u001b[0m",
      "\u001b[0;31mIndexError\u001b[0m: list index out of range"
     ]
    }
   ],
   "metadata": {}
  },
  {
   "cell_type": "markdown",
   "source": [
    "⚠️ You can remove some elements of the results, normalizing on the remaining elements."
   ],
   "metadata": {}
  },
  {
   "cell_type": "code",
   "execution_count": 14,
   "source": [
    "ignored_elts = [\"Mg\"]\n",
    "\n",
    "inds = [true_elt_list.index(elt) for elt in ignored_elts]\n",
    "remain_elt_list = [v for i,v in enumerate(true_elt_list) if i not in frozenset(inds)] \n",
    "remain_P = np.delete(P, inds, axis=0)\n",
    "r = remain_P / remain_P.sum(axis=0)\n",
    "for i in range(r.shape[0]) :\n",
    "    print(\"Z : \",remain_elt_list[i],\"  rel conc : \",r[i])"
   ],
   "outputs": [
    {
     "output_type": "error",
     "ename": "ValueError",
     "evalue": "'Mg' is not in list",
     "traceback": [
      "\u001b[0;31m---------------------------------------------------------------------------\u001b[0m",
      "\u001b[0;31mValueError\u001b[0m                                Traceback (most recent call last)",
      "\u001b[0;32m/tmp/ipykernel_957/4003560777.py\u001b[0m in \u001b[0;36m<module>\u001b[0;34m\u001b[0m\n\u001b[1;32m      1\u001b[0m \u001b[0mignored_elts\u001b[0m \u001b[0;34m=\u001b[0m \u001b[0;34m[\u001b[0m\u001b[0;34m\"Mg\"\u001b[0m\u001b[0;34m]\u001b[0m\u001b[0;34m\u001b[0m\u001b[0;34m\u001b[0m\u001b[0m\n\u001b[1;32m      2\u001b[0m \u001b[0;34m\u001b[0m\u001b[0m\n\u001b[0;32m----> 3\u001b[0;31m \u001b[0minds\u001b[0m \u001b[0;34m=\u001b[0m \u001b[0;34m[\u001b[0m\u001b[0mtrue_elt_list\u001b[0m\u001b[0;34m.\u001b[0m\u001b[0mindex\u001b[0m\u001b[0;34m(\u001b[0m\u001b[0melt\u001b[0m\u001b[0;34m)\u001b[0m \u001b[0;32mfor\u001b[0m \u001b[0melt\u001b[0m \u001b[0;32min\u001b[0m \u001b[0mignored_elts\u001b[0m\u001b[0;34m]\u001b[0m\u001b[0;34m\u001b[0m\u001b[0;34m\u001b[0m\u001b[0m\n\u001b[0m\u001b[1;32m      4\u001b[0m \u001b[0mremain_elt_list\u001b[0m \u001b[0;34m=\u001b[0m \u001b[0;34m[\u001b[0m\u001b[0mv\u001b[0m \u001b[0;32mfor\u001b[0m \u001b[0mi\u001b[0m\u001b[0;34m,\u001b[0m\u001b[0mv\u001b[0m \u001b[0;32min\u001b[0m \u001b[0menumerate\u001b[0m\u001b[0;34m(\u001b[0m\u001b[0mtrue_elt_list\u001b[0m\u001b[0;34m)\u001b[0m \u001b[0;32mif\u001b[0m \u001b[0mi\u001b[0m \u001b[0;32mnot\u001b[0m \u001b[0;32min\u001b[0m \u001b[0mfrozenset\u001b[0m\u001b[0;34m(\u001b[0m\u001b[0minds\u001b[0m\u001b[0;34m)\u001b[0m\u001b[0;34m]\u001b[0m\u001b[0;34m\u001b[0m\u001b[0;34m\u001b[0m\u001b[0m\n\u001b[1;32m      5\u001b[0m \u001b[0mremain_P\u001b[0m \u001b[0;34m=\u001b[0m \u001b[0mnp\u001b[0m\u001b[0;34m.\u001b[0m\u001b[0mdelete\u001b[0m\u001b[0;34m(\u001b[0m\u001b[0mP\u001b[0m\u001b[0;34m,\u001b[0m \u001b[0minds\u001b[0m\u001b[0;34m,\u001b[0m \u001b[0maxis\u001b[0m\u001b[0;34m=\u001b[0m\u001b[0;36m0\u001b[0m\u001b[0;34m)\u001b[0m\u001b[0;34m\u001b[0m\u001b[0;34m\u001b[0m\u001b[0m\n",
      "\u001b[0;32m/tmp/ipykernel_957/4003560777.py\u001b[0m in \u001b[0;36m<listcomp>\u001b[0;34m(.0)\u001b[0m\n\u001b[1;32m      1\u001b[0m \u001b[0mignored_elts\u001b[0m \u001b[0;34m=\u001b[0m \u001b[0;34m[\u001b[0m\u001b[0;34m\"Mg\"\u001b[0m\u001b[0;34m]\u001b[0m\u001b[0;34m\u001b[0m\u001b[0;34m\u001b[0m\u001b[0m\n\u001b[1;32m      2\u001b[0m \u001b[0;34m\u001b[0m\u001b[0m\n\u001b[0;32m----> 3\u001b[0;31m \u001b[0minds\u001b[0m \u001b[0;34m=\u001b[0m \u001b[0;34m[\u001b[0m\u001b[0mtrue_elt_list\u001b[0m\u001b[0;34m.\u001b[0m\u001b[0mindex\u001b[0m\u001b[0;34m(\u001b[0m\u001b[0melt\u001b[0m\u001b[0;34m)\u001b[0m \u001b[0;32mfor\u001b[0m \u001b[0melt\u001b[0m \u001b[0;32min\u001b[0m \u001b[0mignored_elts\u001b[0m\u001b[0;34m]\u001b[0m\u001b[0;34m\u001b[0m\u001b[0;34m\u001b[0m\u001b[0m\n\u001b[0m\u001b[1;32m      4\u001b[0m \u001b[0mremain_elt_list\u001b[0m \u001b[0;34m=\u001b[0m \u001b[0;34m[\u001b[0m\u001b[0mv\u001b[0m \u001b[0;32mfor\u001b[0m \u001b[0mi\u001b[0m\u001b[0;34m,\u001b[0m\u001b[0mv\u001b[0m \u001b[0;32min\u001b[0m \u001b[0menumerate\u001b[0m\u001b[0;34m(\u001b[0m\u001b[0mtrue_elt_list\u001b[0m\u001b[0;34m)\u001b[0m \u001b[0;32mif\u001b[0m \u001b[0mi\u001b[0m \u001b[0;32mnot\u001b[0m \u001b[0;32min\u001b[0m \u001b[0mfrozenset\u001b[0m\u001b[0;34m(\u001b[0m\u001b[0minds\u001b[0m\u001b[0;34m)\u001b[0m\u001b[0;34m]\u001b[0m\u001b[0;34m\u001b[0m\u001b[0;34m\u001b[0m\u001b[0m\n\u001b[1;32m      5\u001b[0m \u001b[0mremain_P\u001b[0m \u001b[0;34m=\u001b[0m \u001b[0mnp\u001b[0m\u001b[0;34m.\u001b[0m\u001b[0mdelete\u001b[0m\u001b[0;34m(\u001b[0m\u001b[0mP\u001b[0m\u001b[0;34m,\u001b[0m \u001b[0minds\u001b[0m\u001b[0;34m,\u001b[0m \u001b[0maxis\u001b[0m\u001b[0;34m=\u001b[0m\u001b[0;36m0\u001b[0m\u001b[0;34m)\u001b[0m\u001b[0;34m\u001b[0m\u001b[0;34m\u001b[0m\u001b[0m\n",
      "\u001b[0;31mValueError\u001b[0m: 'Mg' is not in list"
     ]
    }
   ],
   "metadata": {}
  },
  {
   "cell_type": "markdown",
   "source": [
    "# VI. Select the interesting part of the spectrum\n",
    "\n",
    "⚠️ A window will pop up with a red spectrum and a green area. With the green areas, you can select the energy range you want to quantify. Usually the low energy region (below 1keV) is not very well fitted by the background model. Hence you probably want to avoid the quantification of low energy characteristic X rays. "
   ],
   "metadata": {}
  },
  {
   "cell_type": "code",
   "execution_count": 15,
   "source": [
    "s_bkgd = hs.signals.Signal1D(bkgd)\n",
    "s_bkgd.axes_manager[0].offset = offset\n",
    "s_bkgd.axes_manager[0].scale = scale\n",
    "\n",
    "spectrum.plot()\n",
    "ax = spectrum._plot.signal_plot.ax\n",
    "ax.add_line(matplotlib.lines.Line2D(spectrum._plot.axis.axis,bkgd.data))\n",
    "roi = hs.roi.SpanROI(200*scale,400*scale)\n",
    "roi.interactive(spectrum)"
   ],
   "outputs": [
    {
     "output_type": "execute_result",
     "data": {
      "text/plain": [
       "<EDXSsnmfem, title: , dimensions: (|200)>"
      ]
     },
     "metadata": {},
     "execution_count": 15
    },
    {
     "output_type": "display_data",
     "data": {
      "image/png": "[encoded data removed]",
      "text/plain": [
       "<Figure size 432x288 with 1 Axes>"
      ]
     },
     "metadata": {
      "needs_background": "light"
     }
    }
   ],
   "metadata": {}
  },
  {
   "cell_type": "code",
   "execution_count": 16,
   "source": [
    "charac_xrays = (spectrum.isig[roi.left:roi.right].data - s_bkgd.isig[roi.left:roi.right].data).clip(min=0)\n",
    "new_offset = spectrum.isig[roi.left:roi.right].axes_manager[0].offset\n",
    "new_size = spectrum.isig[roi.left:roi.right].axes_manager[0].size"
   ],
   "outputs": [],
   "metadata": {}
  },
  {
   "cell_type": "markdown",
   "source": [
    "⚠️ If you want to fix the values of P you obtained in a previous fit put them in ``fixed_elts`` and execute the two following cells. \n",
    "\n",
    "For a two steps quantification : Chose a first energy range. Perform a first fit, which initialise P with all the elements. Then go back to the energy range selection, ignore the cell above, chose the fixed elements and perform the fit with fixed elements below. "
   ],
   "metadata": {}
  },
  {
   "cell_type": "code",
   "execution_count": 21,
   "source": [
    "print(\"Previous Values for P\")\n",
    "for i,elt in enumerate(true_elt_list) : \n",
    "    print(elt, \" : \", P[i])"
   ],
   "outputs": [
    {
     "output_type": "stream",
     "name": "stdout",
     "text": [
      "Previous Values for P\n"
     ]
    }
   ],
   "metadata": {}
  },
  {
   "cell_type": "code",
   "execution_count": 19,
   "source": [
    "fixed_elts = {\"p1\" : {\"Cl\" : 4.26588157e+18}}\n",
    "\n",
    "dummy_spim = spim.EDXSsnmfem(np.array([1]))\n",
    "dummy_spim.add_elements(elements = true_elt_list)\n",
    "dummy_spim.problem_type = \"no_brstlg\"\n",
    "\n",
    "fixed_P = dummy_spim.set_fixed_P(fixed_elts)"
   ],
   "outputs": [],
   "metadata": {}
  },
  {
   "cell_type": "code",
   "execution_count": 20,
   "source": [
    "estimator = NMF(G=G,n_components= 1,max_iter=2000,force_simplex = True,tol = 1e-8,hspy_comp = False,fixed_P = fixed_P)\n",
    "estimator.fit_transform(charac_xrays[:,np.newaxis], A=np.array([1])[:,np.newaxis])\n",
    "new_P = estimator.P_"
   ],
   "outputs": [
    {
     "output_type": "stream",
     "name": "stdout",
     "text": [
      "exits because of relative change rel_A -5.820766033477894e-11 or rel_P 5.729174835825121e-11 < tol \n",
      "Stopped after 1 iterations in 0.0 minutes and 0.0 seconds.\n"
     ]
    }
   ],
   "metadata": {}
  },
  {
   "cell_type": "code",
   "execution_count": null,
   "source": [
    "r = new_P/new_P.sum(axis=0)\n",
    "for i in range(new_P.shape[0]) :\n",
    "    print(\"Z : \",true_elt_list[i],\"  rel conc : \",r[i])"
   ],
   "outputs": [],
   "metadata": {}
  },
  {
   "cell_type": "code",
   "execution_count": null,
   "source": [
    "ignored_elts = [\"Mg\"]\n",
    "\n",
    "inds = [true_elt_list.index(elt) for elt in ignored_elts]\n",
    "remain_elt_list = [v for i,v in enumerate(true_elt_list) if i not in frozenset(inds)] \n",
    "remain_P = np.delete(new_P, inds, axis=0)\n",
    "r = remain_P / remain_P.sum(axis=0)\n",
    "for i in range(r.shape[0]) :\n",
    "    print(\"Z : \",remain_elt_list[i],\"  rel conc : \",r[i])"
   ],
   "outputs": [],
   "metadata": {}
  }
 ],
 "metadata": {
  "interpreter": {
   "hash": "ae2bec25d04a58403981d6892379486339cbb2cd6f315f3a399785dd0e4b6656"
  },
  "kernelspec": {
   "name": "python3",
   "display_name": "Python 3.8.5 64-bit ('SNMF_EDXS--pNpjmq1': pipenv)"
  },
  "language_info": {
   "codemirror_mode": {
    "name": "ipython",
    "version": 3
   },
   "file_extension": ".py",
   "mimetype": "text/x-python",
   "name": "python",
   "nbconvert_exporter": "python",
   "pygments_lexer": "ipython3",
   "version": "3.8.5"
  }
 },
 "nbformat": 4,
 "nbformat_minor": 4
}