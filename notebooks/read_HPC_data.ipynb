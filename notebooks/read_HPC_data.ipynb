{
 "cells": [
  {
   "cell_type": "code",
   "execution_count": 3,
   "metadata": {},
   "outputs": [
    {
     "name": "stdout",
     "output_type": "stream",
     "text": [
      "The autoreload extension is already loaded. To reload it, use:\n",
      "  %reload_ext autoreload\n"
     ]
    }
   ],
   "source": [
    "%load_ext autoreload\n",
    "%autoreload 2\n",
    "%matplotlib qt"
   ]
  },
  {
   "cell_type": "code",
   "execution_count": 4,
   "metadata": {},
   "outputs": [],
   "source": [
    "from snmfem.conf import RESULTS_PATH, DATASETS_PATH\n",
    "from snmfem.experiments import load_data\n",
    "from snmfem.measures import find_min_angle, find_min_MSE\n",
    "from pathlib import Path\n",
    "import matplotlib.pyplot as plt\n",
    "import re\n",
    "import numpy as np\n"
   ]
  },
  {
   "cell_type": "markdown",
   "metadata": {},
   "source": [
    "# Load data and ground truth"
   ]
  },
  {
   "cell_type": "code",
   "execution_count": 5,
   "metadata": {},
   "outputs": [],
   "source": [
    "file = \"smoothnmf_low_tol.npz\"\n",
    "dataset_path = DATASETS_PATH / Path(\"aspim037_N100_2ptcls_brstlg/sample_4.npz\")\n",
    "path = RESULTS_PATH / Path(file)\n",
    "data = np.load(path)\n",
    "X,true_spectra,true_maps,G,shape_2d = load_data(dataset_path)\n",
    "k = true_spectra.shape[0]\n",
    "GP = data[\"GP\"]\n",
    "A = data[\"A\"]\n",
    "metrics = data[\"metrics\"]\n",
    "# losses = data[\"losses\"]\n",
    "angles, true_ind_spec = find_min_angle(true_spectra,GP.T,get_ind=True)\n",
    "mse, true_ind_map = find_min_MSE(true_maps,A,get_ind=True)"
   ]
  },
  {
   "cell_type": "markdown",
   "metadata": {},
   "source": [
    "## Plot params"
   ]
  },
  {
   "cell_type": "code",
   "execution_count": 6,
   "metadata": {},
   "outputs": [],
   "source": [
    "fontsize = 30\n",
    "scale = 15\n",
    "aspect_ratio = 1.4\n",
    "marker_list = [\"-o\",\"-s\",\"->\",\"-<\",\"-^\",\"-v\",\"-d\"]\n",
    "mark_space = 20\n"
   ]
  },
  {
   "cell_type": "markdown",
   "metadata": {},
   "source": [
    "# Plot spectra and maps"
   ]
  },
  {
   "cell_type": "code",
   "execution_count": 7,
   "metadata": {},
   "outputs": [],
   "source": [
    "fig, axes = plt.subplots(k,3,figsize = (scale/k * 3 * aspect_ratio,scale))\n",
    "for i, spectre in enumerate(true_spectra): \n",
    "    axes[2,i].plot(true_spectra[i],'bo',label='truth',linewidth=4)\n",
    "    axes[2,i].plot(GP.T[true_ind_spec[i]] ,'r-',label='reconstructed',markersize=3.5)\n",
    "    axes[2,i].set_title(\"{:.2f} deg\".format(angles[i]),fontsize = fontsize-2)\n",
    "    axes[2,i].set_xlim(0,1000)\n",
    "\n",
    "    axes[1,i].imshow(A[true_ind_spec[i]].reshape(shape_2d),vmin = 0.0, vmax = 1.0 )\n",
    "    axes[1,i].set_title(\"{:.2f} MSE\".format(mse[i]),fontsize = fontsize-2)\n",
    "    # axes[i,1].set_ylim(0.0,1.0)\n",
    "    axes[1,i].tick_params(axis = \"both\",labelleft = False, labelbottom = False,left = False, bottom = False)\n",
    "\n",
    "    im = axes[0,i].imshow(true_maps[i].reshape(shape_2d),vmin = 0.0, vmax = 1.0)\n",
    "    axes[0,i].set_title(\"Phase {}\".format(i),fontsize = fontsize)\n",
    "    axes[0,i].tick_params(axis = \"both\",labelleft = False, labelbottom = False,left = False, bottom = False)\n",
    "    axes[2,0].legend()\n",
    "\n",
    "rows = [\"True maps\",\"Reconstructed maps\",\"Spectra\"]\n",
    "\n",
    "for ax, row in zip(axes[:,0], rows):\n",
    "    ax.set_ylabel(row, rotation=90, fontsize=fontsize)\n",
    "\n",
    "\n",
    "fig.subplots_adjust(right=0.84)\n",
    "# put colorbar at desire position\n",
    "cbar_ax = fig.add_axes([0.85, 0.5, 0.01, 0.3])\n",
    "fig.colorbar(im,cax=cbar_ax)\n",
    "\n",
    "# fig.tight_layout()\n",
    "\n",
    "plt.show()"
   ]
  },
  {
   "cell_type": "code",
   "execution_count": 54,
   "metadata": {},
   "outputs": [
    {
     "data": {
      "text/plain": [
       "<matplotlib.colorbar.Colorbar at 0x15a3964dfc8>"
      ]
     },
     "execution_count": 54,
     "metadata": {},
     "output_type": "execute_result"
    }
   ],
   "source": [
    "fig, axes = plt.subplots(k,2,figsize = (scale/k * 2 * aspect_ratio,scale))\n",
    "for i, spectre in enumerate(true_spectra):\n",
    "    axes[i,0].plot(true_spectra[i],'b-',label='truth',linewidth=3)\n",
    "    axes[i,0].set_xlim(0,1000)\n",
    "    \n",
    "    im = axes[i,1].imshow(true_maps[i].reshape(shape_2d),vmin = 0.0, vmax = 1.0)\n",
    "    axes[i,1].tick_params(axis = \"both\",labelleft = False, labelbottom = False,left = False, bottom = False)\n",
    "    \n",
    "axes[0,0].set_title(\"True spectra\",fontsize = fontsize)\n",
    "axes[0,1].set_title(\"True maps\",fontsize = fontsize)\n",
    "    \n",
    "fig.subplots_adjust(right=0.84)\n",
    "# put colorbar at desire position\n",
    "cbar_ax = fig.add_axes([0.85, 0.35, 0.01, 0.3])\n",
    "fig.colorbar(im,cax=cbar_ax)"
   ]
  },
  {
   "cell_type": "code",
   "execution_count": null,
   "metadata": {},
   "outputs": [],
   "source": [
    "np.savetxt(\"true_spectra.txt\",true_spectra)\n",
    "np.savetxt(\"GP.txt\",GP.T)"
   ]
  },
  {
   "cell_type": "code",
   "execution_count": null,
   "metadata": {},
   "outputs": [],
   "source": [
    "fig, axes = plt.subplots(2,k,figsize = (scale/k * 3 * aspect_ratio,scale))\n",
    "fig.subplots_adjust(wspace=0.01,hspace=0.01)\n",
    "\n",
    "\n",
    "\n",
    "for i, spectre in enumerate(true_spectra): \n",
    "    # axes[1,i].plot(true_spectra[i],'bo',label='truth',linewidth=4)\n",
    "    # axes[1,i].plot(GP.T[true_ind_spec[i]] ,'r-',label='reconstructed',markersize=3.5)\n",
    "    # axes[1,i].set_title(\"{:.2f} deg\".format(angles[i]),fontsize = fontsize-2)\n",
    "    # axes[1,i].set_xlim(0,1000)\n",
    "\n",
    "    axes[1,i].imshow(A[true_ind_spec[i]].reshape(shape_2d),vmin = 0.0, vmax = 1.0 )\n",
    "    axes[1,i].set_title(\"{:.2f} MSE\".format(mse[i]),fontsize = fontsize-2)\n",
    "    axes[1,i].tick_params(axis=u'both', which=u'both',length=0)\n",
    "    axes[1,i].set_xticklabels([])\n",
    "    axes[1,i].set_yticklabels([])\n",
    "    # axes[i,1].set_ylim(0.0,1.0)\n",
    "\n",
    "    im = axes[0,i].imshow(true_maps[i].reshape(shape_2d),vmin = 0.0, vmax = 1.0)\n",
    "    axes[0,i].set_title(\"Phase {}\".format(i),fontsize = fontsize)\n",
    "    axes[0,i].tick_params(axis=u'both', which=u'both',length=0)\n",
    "    axes[0,i].set_xticklabels([])\n",
    "    axes[0,i].set_yticklabels([])\n",
    "\n",
    "    # axes[2,0].legend()\n",
    "\n",
    "rows = [\"Truth\",\"Reconstructed\",\"Spectra\"]\n",
    "\n",
    "for ax, row in zip(axes[:,0], rows):\n",
    "    ax.set_ylabel(row, rotation=90, fontsize=fontsize)\n",
    "\n",
    "\n",
    "fig.subplots_adjust(right=0.84)\n",
    "# put colorbar at desire position\n",
    "cbar_ax = fig.add_axes([0.85, 0.4, 0.02, 0.3])\n",
    "fig.colorbar(im,cax=cbar_ax)\n",
    "cbar_ax.tick_params(labelsize=fontsize)\n",
    "\n",
    "# fig.tight_layout()\n",
    "\n",
    "plt.show()"
   ]
  },
  {
   "cell_type": "markdown",
   "metadata": {},
   "source": [
    "# Plot losses"
   ]
  },
  {
   "cell_type": "code",
   "execution_count": null,
   "metadata": {},
   "outputs": [],
   "source": [
    "fig, axes = plt.subplots(1, 4, figsize=(4*scale,scale))\n",
    "\n",
    "names = list(losses.dtype.names)\n",
    "for j,name in enumerate(names) :\n",
    "    if re.match(r\".*(loss)\",name) : \n",
    "        axes[0].plot(losses[name],marker_list[j%len(marker_list)],markersize=3.5,label = name,markevery = mark_space,linewidth = 2)\n",
    "        axes[0].set_yscale(\"log\")\n",
    "        axes[0].set_xscale(\"log\")\n",
    "        axes[0].tick_params(axis='both', which='major', labelsize=fontsize-5)\n",
    "        axes[0].set_xscale(\"log\")\n",
    "        axes[0].legend(fontsize = fontsize -2)\n",
    "        axes[0].set_xlabel(\"number of iterations\",fontsize = fontsize -5)\n",
    "    elif re.match(r\"^(rel)\",name) : \n",
    "        axes[1].plot(losses[name],marker_list[j%len(marker_list)],markersize=3.5,label = name,markevery = mark_space,linewidth = 2)\n",
    "        axes[1].legend(fontsize = fontsize -2)\n",
    "        axes[1].set_yscale(\"log\")\n",
    "        axes[1].set_xscale(\"log\")\n",
    "        axes[1].tick_params(axis='both', which='major', labelsize=fontsize-5)\n",
    "        axes[1].set_xlabel(\"number of iterations\",fontsize = fontsize -5)\n",
    "    elif re.match(r\"^(ang)\",name) :\n",
    "        axes[2].plot(losses[name],marker_list[j%len(marker_list)],markersize=3.5,label = name,markevery = mark_space,linewidth = 2)\n",
    "        axes[2].legend(fontsize = fontsize -2)\n",
    "        axes[2].set_xscale(\"log\")\n",
    "        axes[2].tick_params(axis='both', which='major', labelsize=fontsize-5)\n",
    "        axes[2].set_xlabel(\"number of iterations\",fontsize = fontsize -5)\n",
    "    elif re.match(r\"^(mse)\",name) :\n",
    "        axes[3].plot(losses[name],marker_list[j%len(marker_list)],markersize=3.5,label = name,markevery = mark_space,linewidth = 2)\n",
    "        axes[3].legend(fontsize = fontsize -2)\n",
    "        axes[3].set_xscale(\"log\")\n",
    "        axes[3].tick_params(axis='both', which='major', labelsize=fontsize-5)\n",
    "        axes[3].set_xlabel(\"number of iterations\",fontsize = fontsize -5)"
   ]
  },
  {
   "cell_type": "code",
   "execution_count": null,
   "metadata": {},
   "outputs": [],
   "source": []
  }
 ],
 "metadata": {
  "interpreter": {
   "hash": "508ccdc6fb5be5f7fd5f6d84709a2756aa123300835f386535c0d36e037b0594"
  },
  "kernelspec": {
   "display_name": "Python 3",
   "language": "python",
   "name": "python3"
  },
  "language_info": {
   "codemirror_mode": {
    "name": "ipython",
    "version": 3
   },
   "file_extension": ".py",
   "mimetype": "text/x-python",
   "name": "python",
   "nbconvert_exporter": "python",
   "pygments_lexer": "ipython3",
   "version": "3.7.6"
  }
 },
 "nbformat": 4,
 "nbformat_minor": 4
}
