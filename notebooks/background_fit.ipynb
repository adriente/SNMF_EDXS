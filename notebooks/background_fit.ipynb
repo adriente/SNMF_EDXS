{
 "cells": [
  {
   "cell_type": "code",
   "execution_count": 1,
   "metadata": {},
   "outputs": [],
   "source": [
    "# %matplotlib inline\n",
    "%matplotlib qt\n",
    "import hyperspy.api as hs\n",
    "import numpy as np\n",
    "import lmfit as lm\n",
    "import matplotlib.pyplot as plt\n",
    "import espm.spectrum_fitting as sf\n",
    "from pathlib import Path\n",
    "from espm.estimators import SmoothNMF"
   ]
  },
  {
   "attachments": {},
   "cell_type": "markdown",
   "metadata": {},
   "source": [
    "# Guide to this notebook\n",
    "\n",
    "Every time the symbol ⚠️ appears, a user input is required in the cell below.\n",
    "\n",
    "If a cell made a few windows pop up, please kill the windows once you're done. Otherwise every new plot will be displayed in top of the other (which may slow your computer down). \n",
    "\n",
    "Overview of the different steps :\n",
    "- I. Load the data either a spectrum (go to step III.) or a spectrum image\n",
    "- II. Select an area of interest in your spectrum image.\n",
    "- III. Creates an energy scale (x) from your data for the fitting procedure.\n",
    "- IV. Selects the regions of the spectrum were there are no peaks for background fitting.\n",
    "- V. Creates the required objects (partial x and y) for the background fitting procedure.\n",
    "- VI. Fitting the background. If this is not satisfactory go back to IV."
   ]
  },
  {
   "attachments": {},
   "cell_type": "markdown",
   "metadata": {},
   "source": [
    "## I. Load spectrum & energy scale\n",
    "\n",
    "This cell will start a gui, that will let you select the dataset you want to analyse. In this notebook, only single spectra are treated, the data are thus automatically summed and cropped.\n",
    "\n",
    "⚠️"
   ]
  },
  {
   "cell_type": "code",
   "execution_count": 2,
   "metadata": {},
   "outputs": [
    {
     "name": "stderr",
     "output_type": "stream",
     "text": [
      "/home/adrien/anaconda3/envs/espm_dev/lib/python3.11/site-packages/hyperspy/misc/utils.py:471: VisibleDeprecationWarning: Use of the `binned` attribute in metadata is going to be deprecated in v2.0. Set the `axis.is_binned` attribute instead. \n",
      "  warnings.warn(\n",
      "/home/adrien/anaconda3/envs/espm_dev/lib/python3.11/site-packages/hyperspy/io.py:572: VisibleDeprecationWarning: Loading old file version. The binned attribute has been moved from metadata.Signal to axis.is_binned. Setting this attribute for all signal axes instead.\n",
      "  warnings.warn('Loading old file version. The binned attribute '\n"
     ]
    }
   ],
   "source": [
    "spectrum = hs.load().mean().isig[0.2:]\n",
    "\n",
    "# spectrum.set_signal_type('EDS_espm')\n",
    "\n",
    "offset = spectrum.axes_manager[0].offset\n",
    "scale = spectrum.axes_manager[0].scale\n",
    "size = spectrum.axes_manager[0].size\n",
    "\n",
    "x = np.linspace(offset,size*scale+offset,num = size)"
   ]
  },
  {
   "cell_type": "markdown",
   "metadata": {},
   "source": [
    "## Setting the relevant metadata\n",
    "\n",
    "This cell is important later during the fitting of the characteristic peaks. Check the documentation at : https://espm.readthedocs.io/en/latest/ for details about thos parameters\n",
    "\n",
    "⚠️"
   ]
  },
  {
   "cell_type": "code",
   "execution_count": 3,
   "metadata": {},
   "outputs": [],
   "source": [
    "spectrum.set_analysis_parameters(beam_energy = 200,\n",
    "                                 azimuth_angle = 0.0,\n",
    "                                 elevation_angle = 22.0,\n",
    "                                 tilt_stage = 0.0,\n",
    "                                 elements = ['Sr', 'Ti', 'O'],\n",
    "                                 thickness = 200e-7,\n",
    "                                 density = 3.5,\n",
    "                                 detector_type = \"SDD_efficiency.txt\",\n",
    "                                 width_slope = 0.01,\n",
    "                                 width_intercept = 0.065,\n",
    "                                 xray_db = \"200keV_xrays.json\")"
   ]
  },
  {
   "cell_type": "code",
   "execution_count": 3,
   "metadata": {},
   "outputs": [
    {
     "data": {
      "text/html": [
       "<ul style=\"margin: 0px; list-style-position: outside;\">\n",
       "                    <details open>\n",
       "                    <summary style=\"display: list-item;\">\n",
       "                    <li style=\"display: inline;\">\n",
       "                    Acquisition_instrument\n",
       "                    </li></summary>\n",
       "                    <ul style=\"margin: 0px; list-style-position: outside;\">\n",
       "                    <details closed>\n",
       "                    <summary style=\"display: list-item;\">\n",
       "                    <li style=\"display: inline;\">\n",
       "                    TEM\n",
       "                    </li></summary>\n",
       "                    <ul style=\"margin: 0px; list-style-position: outside;\">\n",
       "                    <details closed>\n",
       "                    <summary style=\"display: list-item;\">\n",
       "                    <li style=\"display: inline;\">\n",
       "                    Detector\n",
       "                    </li></summary>\n",
       "                    <ul style=\"margin: 0px; list-style-position: outside;\">\n",
       "                    <details closed>\n",
       "                    <summary style=\"display: list-item;\">\n",
       "                    <li style=\"display: inline;\">\n",
       "                    EDS\n",
       "                    </li></summary>\n",
       "                    \n",
       "    <ul style=\"margin: 0px; list-style-position: outside;\">\n",
       "    <li style='margin-left:1em; padding-left: 0.5em'>azimuth_angle = 0.0</li></ul>\n",
       "    \n",
       "    <ul style=\"margin: 0px; list-style-position: outside;\">\n",
       "    <li style='margin-left:1em; padding-left: 0.5em'>elevation_angle = 35.0</li></ul>\n",
       "    \n",
       "    <ul style=\"margin: 0px; list-style-position: outside;\">\n",
       "    <li style='margin-left:1em; padding-left: 0.5em'>energy_resolution_MnKa = 130.0</li></ul>\n",
       "    \n",
       "    <ul style=\"margin: 0px; list-style-position: outside;\">\n",
       "    <li style='margin-left:1em; padding-left: 0.5em'>take_off_angle = 35.0</li></ul>\n",
       "    \n",
       "    <ul style=\"margin: 0px; list-style-position: outside;\">\n",
       "    <li style='margin-left:1em; padding-left: 0.5em'>type = SDD_efficiency.txt</li></ul>\n",
       "    \n",
       "    <ul style=\"margin: 0px; list-style-position: outside;\">\n",
       "    <li style='margin-left:1em; padding-left: 0.5em'>width_intercept = 0.065</li></ul>\n",
       "    \n",
       "    <ul style=\"margin: 0px; list-style-position: outside;\">\n",
       "    <li style='margin-left:1em; padding-left: 0.5em'>width_slope = 0.01</li></ul>\n",
       "    </details></ul></details></ul><ul style=\"margin: 0px; list-style-position: outside;\">\n",
       "                    <details closed>\n",
       "                    <summary style=\"display: list-item;\">\n",
       "                    <li style=\"display: inline;\">\n",
       "                    Stage\n",
       "                    </li></summary>\n",
       "                    \n",
       "    <ul style=\"margin: 0px; list-style-position: outside;\">\n",
       "    <li style='margin-left:1em; padding-left: 0.5em'>tilt_alpha = 0.0</li></ul>\n",
       "    </details></ul>\n",
       "    <ul style=\"margin: 0px; list-style-position: outside;\">\n",
       "    <li style='margin-left:1em; padding-left: 0.5em'>acquisition_mode = STEM</li></ul>\n",
       "    \n",
       "    <ul style=\"margin: 0px; list-style-position: outside;\">\n",
       "    <li style='margin-left:1em; padding-left: 0.5em'>beam_energy = 200.0</li></ul>\n",
       "    \n",
       "    <ul style=\"margin: 0px; list-style-position: outside;\">\n",
       "    <li style='margin-left:1em; padding-left: 0.5em'>microscope = Microscope TecnaiOsiris 200 kV D658 AnalyticalTwin</li></ul>\n",
       "    </details></ul></details></ul><ul style=\"margin: 0px; list-style-position: outside;\">\n",
       "                    <details open>\n",
       "                    <summary style=\"display: list-item;\">\n",
       "                    <li style=\"display: inline;\">\n",
       "                    General\n",
       "                    </li></summary>\n",
       "                    <ul style=\"margin: 0px; list-style-position: outside;\">\n",
       "                    <details closed>\n",
       "                    <summary style=\"display: list-item;\">\n",
       "                    <li style=\"display: inline;\">\n",
       "                    FileIO\n",
       "                    </li></summary>\n",
       "                    <ul style=\"margin: 0px; list-style-position: outside;\">\n",
       "                    <details closed>\n",
       "                    <summary style=\"display: list-item;\">\n",
       "                    <li style=\"display: inline;\">\n",
       "                    0\n",
       "                    </li></summary>\n",
       "                    \n",
       "    <ul style=\"margin: 0px; list-style-position: outside;\">\n",
       "    <li style='margin-left:1em; padding-left: 0.5em'>hyperspy_version = 1.7.6</li></ul>\n",
       "    \n",
       "    <ul style=\"margin: 0px; list-style-position: outside;\">\n",
       "    <li style='margin-left:1em; padding-left: 0.5em'>io_plugin = hyperspy.io_plugins.hspy</li></ul>\n",
       "    \n",
       "    <ul style=\"margin: 0px; list-style-position: outside;\">\n",
       "    <li style='margin-left:1em; padding-left: 0.5em'>operation = load</li></ul>\n",
       "    \n",
       "    <ul style=\"margin: 0px; list-style-position: outside;\">\n",
       "    <li style='margin-left:1em; padding-left: 0.5em'>timestamp = 2024-04-04T13:26:39.852818+02:00</li></ul>\n",
       "    </details></ul></details></ul>\n",
       "    <ul style=\"margin: 0px; list-style-position: outside;\">\n",
       "    <li style='margin-left:1em; padding-left: 0.5em'>date = 14.10.2014</li></ul>\n",
       "    \n",
       "    <ul style=\"margin: 0px; list-style-position: outside;\">\n",
       "    <li style='margin-left:1em; padding-left: 0.5em'>title = Core shell</li></ul>\n",
       "    </details></ul><ul style=\"margin: 0px; list-style-position: outside;\">\n",
       "                    <details open>\n",
       "                    <summary style=\"display: list-item;\">\n",
       "                    <li style=\"display: inline;\">\n",
       "                    Sample\n",
       "                    </li></summary>\n",
       "                    \n",
       "    <ul style=\"margin: 0px; list-style-position: outside;\">\n",
       "    <li style='margin-left:1em; padding-left: 0.5em'>density = 3.5</li></ul>\n",
       "    \n",
       "    <ul style=\"margin: 0px; list-style-position: outside;\">\n",
       "    <li style='margin-left:1em; padding-left: 0.5em'>elements = ['Fe', 'Pt', 'O', 'Si', 'C', 'Cu']</li></ul>\n",
       "    \n",
       "    <ul style=\"margin: 0px; list-style-position: outside;\">\n",
       "    <li style='margin-left:1em; padding-left: 0.5em'>thickness = 2e-05</li></ul>\n",
       "    \n",
       "    <ul style=\"margin: 0px; list-style-position: outside;\">\n",
       "    <li style='margin-left:1em; padding-left: 0.5em'>xray_lines = array(['Fe_Ka', 'Pt_La'], dtype='&lt;U5')</li></ul>\n",
       "    </details></ul><ul style=\"margin: 0px; list-style-position: outside;\">\n",
       "                    <details open>\n",
       "                    <summary style=\"display: list-item;\">\n",
       "                    <li style=\"display: inline;\">\n",
       "                    Signal\n",
       "                    </li></summary>\n",
       "                    \n",
       "    <ul style=\"margin: 0px; list-style-position: outside;\">\n",
       "    <li style='margin-left:1em; padding-left: 0.5em'>signal_origin = </li></ul>\n",
       "    \n",
       "    <ul style=\"margin: 0px; list-style-position: outside;\">\n",
       "    <li style='margin-left:1em; padding-left: 0.5em'>signal_type = EDS_espm</li></ul>\n",
       "    </details></ul>\n",
       "    <ul style=\"margin: 0px; list-style-position: outside;\">\n",
       "    <li style='margin-left:1em; padding-left: 0.5em'>xray_db = 200keV_xrays.json</li></ul>\n",
       "    "
      ],
      "text/plain": [
       "├── Acquisition_instrument\n",
       "│   └── TEM\n",
       "│       ├── Detector\n",
       "│       │   └── EDS\n",
       "│       │       ├── azimuth_angle = 0.0\n",
       "│       │       ├── elevation_angle = 35.0\n",
       "│       │       ├── energy_resolution_MnKa = 130.0\n",
       "│       │       ├── take_off_angle = 35.0\n",
       "│       │       ├── type = SDD_efficiency.txt\n",
       "│       │       ├── width_intercept = 0.065\n",
       "│       │       └── width_slope = 0.01\n",
       "│       ├── Stage\n",
       "│       │   └── tilt_alpha = 0.0\n",
       "│       ├── acquisition_mode = STEM\n",
       "│       ├── beam_energy = 200.0\n",
       "│       └── microscope = Microscope TecnaiOsiris 200 kV D658 AnalyticalTwin\n",
       "├── General\n",
       "│   ├── FileIO\n",
       "│   │   └── 0\n",
       "│   │       ├── hyperspy_version = 1.7.6\n",
       "│   │       ├── io_plugin = hyperspy.io_plugins.hspy\n",
       "│   │       ├── operation = load\n",
       "│   │       └── timestamp = 2024-04-04T13:26:39.852818+02:00\n",
       "│   ├── date = 14.10.2014\n",
       "│   └── title = Core shell\n",
       "├── Sample\n",
       "│   ├── density = 3.5\n",
       "│   ├── elements = ['Fe', 'Pt', 'O', 'Si', 'C', 'Cu']\n",
       "│   ├── thickness = 2e-05\n",
       "│   └── xray_lines = array(['Fe_Ka', 'Pt_La'], dtype='<U5')\n",
       "├── Signal\n",
       "│   ├── signal_origin = \n",
       "│   └── signal_type = EDS_espm\n",
       "└── xray_db = 200keV_xrays.json"
      ]
     },
     "execution_count": 3,
     "metadata": {},
     "output_type": "execute_result"
    }
   ],
   "source": [
    "spectrum.metadata"
   ]
  },
  {
   "attachments": {},
   "cell_type": "markdown",
   "metadata": {},
   "source": [
    "# II. Select areas for bckgd fitting\n",
    "\n",
    "⚠️ Input in the ``span_number`` the number of selection areas you wish to use. Once you execute the cell, a window will pop with a few green areas and a red spectrum. The green areas correspond to the regions were the background will be fitted. You can, drag, enlarge and reduce these green areas.\n",
    "\n",
    "Note : Click on one of the green area before the click and drag operation so that only one of the area is selected and so avoid to drag them all together."
   ]
  },
  {
   "cell_type": "code",
   "execution_count": 21,
   "metadata": {},
   "outputs": [],
   "source": [
    "span_number = 4\n",
    "\n",
    "def selection_areas(number,spectrum,scale) :\n",
    "    spectrum.plot()\n",
    "    size = spectrum.axes_manager[0].size //(2*number)\n",
    "    roi_list = []\n",
    "    for i in range(number) :\n",
    "        roi_list.append(hs.roi.SpanROI(offset+ size*scale + 2*i*size*scale, 2*size*scale + offset+ 2*i*size*scale))\n",
    "        roi_list[-1].interactive(spectrum)\n",
    "    return roi_list\n",
    "\n",
    "spans = selection_areas(span_number,spectrum,scale)"
   ]
  },
  {
   "attachments": {},
   "cell_type": "markdown",
   "metadata": {},
   "source": [
    "Once you are satisfied with the selected areas, save their positions using the cell below"
   ]
  },
  {
   "cell_type": "code",
   "execution_count": 22,
   "metadata": {},
   "outputs": [],
   "source": [
    "list_energies = [[roi.left,roi.right] for roi in spans]"
   ]
  },
  {
   "attachments": {},
   "cell_type": "markdown",
   "metadata": {},
   "source": [
    "# III. Fitting the continuum\n",
    "\n",
    "⚠️ Input the sample parameters below and execute the cell to fit"
   ]
  },
  {
   "cell_type": "code",
   "execution_count": 6,
   "metadata": {},
   "outputs": [
    {
     "name": "stdout",
     "output_type": "stream",
     "text": [
      "[[Fit Statistics]]\n",
      "    # fitting method   = leastsq\n",
      "    # function evals   = 16\n",
      "    # data points      = 289\n",
      "    # variables        = 2\n",
      "    chi-square         = 0.00301149\n",
      "    reduced chi-square = 1.0493e-05\n",
      "    Akaike info crit   = -3311.33528\n",
      "    Bayesian info crit = -3304.00243\n",
      "[[Variables]]\n",
      "    E0:                           200 (fixed)\n",
      "    b0:                           1.17839908 +/- 0.08045653 (6.83%) (init = 1)\n",
      "    b1:                           0.14987934 +/- 0.00148165 (0.99%) (init = 1)\n",
      "    params_dict__Abs__thickness:  2e-05 (fixed)\n",
      "    params_dict__Abs__toa:        35 (fixed)\n",
      "    params_dict__Abs__density:    3.5 (fixed)\n",
      "    elements_dict__Fe:            0.0194 (fixed)\n",
      "    elements_dict__C:             0.8904 (fixed)\n",
      "    elements_dict__Pt:            0.0051 (fixed)\n",
      "    elements_dict__O:             0.03797 (fixed)\n",
      "    elements_dict__Si:            0.0085 (fixed)\n",
      "    elements_dict__Cu:            0.03846 (fixed)\n",
      "[[Correlations]] (unreported correlations are < 0.100)\n",
      "    C(b0, b1) = -0.7922\n"
     ]
    }
   ],
   "source": [
    "thickness = 2e-5\n",
    "density = 3.5\n",
    "take_off_angle = 35\n",
    "elements_dict = {\"Fe\" : 0.0194, \"C\" : 0.8904, \"Pt\" : 0.0051, 'O' : 0.03797, 'Si' : 0.00850 , \"Cu\" : 0.03846}\n",
    "detector = \"SDD_efficiency.txt\"\n",
    "\n",
    "#################################################################################################\n",
    "# For a custom detector, uncomment below and replace \"SDD_efficiency.txt\" with the dictionnary. #\n",
    "#################################################################################################\n",
    "\n",
    "# {\"detection\" : {\n",
    "#     \"thickness\" : 450e-4,\n",
    "#     \"elements_dict\" : {\n",
    "#         \"Si\" : 1.0\n",
    "#     }\n",
    "# },\"layer\" : {\n",
    "#     \"thickness\" : 10e-7,\n",
    "#     \"elements_dict\" : {\n",
    "#         \"Si\" : 0.33,\n",
    "#         \"O\" : 0.66,\n",
    "#         \"Al\" : 1.0\n",
    "#     }\n",
    "# }}\n",
    "\n",
    "part_x, part_y, sum_boola = sf.make_partial_xy(list_energies,spectrum,x)\n",
    "\n",
    "example = {\n",
    "    \"E0\" : 200,\n",
    "    \"b0\" : 1.0,\n",
    "    \"b1\" : 1.0,\n",
    "    \"params_dict\" : {\n",
    "    \"Det\" : detector,\n",
    "    'Abs' : {\n",
    "        \"thickness\" : thickness,\n",
    "        \"toa\" : take_off_angle,\n",
    "        \"density\" : density}\n",
    "    },\n",
    "    \"elements_dict\" : elements_dict\n",
    "}\n",
    "\n",
    "pars = sf.ndict_to_params(example)\n",
    "\n",
    "#################################################################################################\n",
    "# You can uncomment the lines below if you want to add constraints to the absorption parameters #\n",
    "#################################################################################################\n",
    "\n",
    "pars[\"params_dict__Abs__thickness\"].vary = False\n",
    "# pars[\"params_dict__Abs__thickness\"].max = 5000e-7\n",
    "# pars[\"params_dict__Det__layer__thickness\"].vary = False\n",
    "pars[\"params_dict__Abs__toa\"].vary = False\n",
    "pars[\"params_dict__Abs__density\"].vary = False\n",
    "pars[\"E0\"].vary = False\n",
    "\n",
    "out = lm.minimize(sf.residual, pars, args=(part_x,), kws={'data': part_y})\n",
    "print(lm.fit_report(out))"
   ]
  },
  {
   "attachments": {},
   "cell_type": "markdown",
   "metadata": {},
   "source": [
    "### Plotting the results\n",
    "\n",
    "The red curves corresponds to the background model, the black one to the data, and the grey area correspond to the selected green areas"
   ]
  },
  {
   "cell_type": "code",
   "execution_count": 7,
   "metadata": {},
   "outputs": [
    {
     "data": {
      "text/plain": [
       "<matplotlib.legend.Legend at 0x76c3d5623f90>"
      ]
     },
     "execution_count": 7,
     "metadata": {},
     "output_type": "execute_result"
    }
   ],
   "source": [
    "y = spectrum.data\n",
    "bkgd = sf.residual(out.params,x)\n",
    "plt.plot(x,y,\"ko-\",markersize=1.5,label=\"exp\",markevery=10)\n",
    "plt.fill_between(x,0,y,where=sum_boola,label=\"fit windows\",color=\"0.8\")\n",
    "plt.xlabel(\"Energy (keV)\",fontsize=22)\n",
    "plt.xticks(fontsize=20)\n",
    "# plt.ylim(0,1)\n",
    "plt.yticks(fontsize=20)\n",
    "plt.ylabel(\"Intensity\",fontsize=22)\n",
    "plt.plot(x,bkgd,\"r-\",linewidth=1,label=\"fit\")\n",
    "plt.legend(fontsize=22)"
   ]
  },
  {
   "attachments": {},
   "cell_type": "markdown",
   "metadata": {},
   "source": [
    "# VI. Quantify the chemical concentrations\n",
    "\n",
    "## Fitting parameters setup\n",
    "\n",
    "First remove the fitted background from the complete spectrum and remove the negative values."
   ]
  },
  {
   "cell_type": "code",
   "execution_count": null,
   "metadata": {},
   "outputs": [],
   "source": [
    "spectrum.data = (spectrum.data - bkgd).clip(min = 0.0)"
   ]
  },
  {
   "cell_type": "markdown",
   "metadata": {},
   "source": [
    "In this cell we build the characteristic X-ray model to quantify the spectrum.\n",
    "\n",
    "Using the `reference_elt` keyword argument you can decouple characteristic X-ray lines of single elements to get a better fit. It can be necessary when the absorption is incorrectly calculated or when the cross-sections are not well calculated (e.g. for heavy elements).\n",
    "\n",
    "The `reference_elt` argument is a dictionary with `{ 'atomic number of the chosen element (int) : energy cutoff (float), .... }`, this way, the intensity of the lines above and below the cutoff are decoupled.\n",
    "\n",
    "⚠️"
   ]
  },
  {
   "cell_type": "code",
   "execution_count": null,
   "metadata": {},
   "outputs": [],
   "source": [
    "spectrum.build_G(problem_type='no_brstlg',reference_elt={'22' : 3.0})"
   ]
  },
  {
   "cell_type": "markdown",
   "metadata": {},
   "source": [
    "In this cell we set up the parameters of the fitting algorithm.\n",
    "\n",
    "For most fitting, you don't need to change those parameters."
   ]
  },
  {
   "cell_type": "code",
   "execution_count": null,
   "metadata": {},
   "outputs": [],
   "source": [
    "est = SmoothNMF(G=spectrum.model,n_components= 1,max_iter=2000,tol = 1e-8,hspy_comp = False)"
   ]
  },
  {
   "cell_type": "markdown",
   "metadata": {},
   "source": [
    "## Fitting the spectrum"
   ]
  },
  {
   "cell_type": "code",
   "execution_count": null,
   "metadata": {},
   "outputs": [],
   "source": [
    "est.fit_transform(X = spectrum.data[:,np.newaxis] ,H=np.array([1.0])[:,np.newaxis])"
   ]
  },
  {
   "cell_type": "markdown",
   "metadata": {},
   "source": [
    "## Printing the concentrations\n",
    "\n",
    "In relative atomic concentrations"
   ]
  },
  {
   "cell_type": "code",
   "execution_count": null,
   "metadata": {},
   "outputs": [],
   "source": [
    "spectrum.print_concentration_report()"
   ]
  },
  {
   "cell_type": "markdown",
   "metadata": {},
   "source": [
    "Only printing selected elements. For example Cu is almost always present but not relevant to the quantification. It can be nice to remove it by selecting only the relevant elements."
   ]
  },
  {
   "cell_type": "code",
   "execution_count": null,
   "metadata": {},
   "outputs": [],
   "source": [
    "spectrum.print_concentration_report(selected_elts=['Sr'])"
   ]
  },
  {
   "attachments": {},
   "cell_type": "markdown",
   "metadata": {},
   "source": [
    "# IX. Plot the results\n",
    "\n",
    "⚠️ The popping window will display the bkgd substracted experimental spectrum, the fitted characteristic Xrays model in black and red. Every element composing the model will be displayed with an offset : ``components_offset``. You can change its value below. \n",
    "\n",
    "If you want to display the names of the lines of an element that was used for quantification execute the next cells below before kill the window."
   ]
  },
  {
   "cell_type": "code",
   "execution_count": null,
   "metadata": {},
   "outputs": [],
   "source": [
    "components_offset = -0.1"
   ]
  },
  {
   "cell_type": "code",
   "execution_count": null,
   "metadata": {},
   "outputs": [],
   "source": [
    "linestyles = [\":\",\"--\",\"-.\"]\n",
    "\n",
    "plt.plot(x,spectrum.data,\"ko-\",label=\"exp\",markevery = 10)\n",
    "plt.plot(x,spectrum.G@est.W_,\"r\",linewidth = 3,label=\"theo\")\n",
    "plt.xticks(fontsize = 16)\n",
    "plt.yticks(fontsize = 16)\n",
    "plt.xlabel(\"energy (keV)\",fontsize = 18)\n",
    "plt.ylabel(\"Intensity\", fontsize = 18)\n",
    "\n",
    "for i in range(spectrum.G.shape[1]) :\n",
    "    ls_string = linestyles[i%len(linestyles)] + \"C{}\".format(i%9)\n",
    "    plt.plot(x,spectrum.G[:,i]*est.W_[i]+components_offset,ls_string,label=str(spectrum.metadata.EDS_model.elements[i]),linewidth=3)\n",
    "\n",
    "\n",
    "plt.legend(fontsize=18)\n",
    "plt.tight_layout()"
   ]
  }
 ],
 "metadata": {
  "kernelspec": {
   "display_name": "Python 3.10.6 ('espm')",
   "language": "python",
   "name": "python3"
  },
  "language_info": {
   "codemirror_mode": {
    "name": "ipython",
    "version": 3
   },
   "file_extension": ".py",
   "mimetype": "text/x-python",
   "name": "python",
   "nbconvert_exporter": "python",
   "pygments_lexer": "ipython3",
   "version": "3.11.8"
  },
  "vscode": {
   "interpreter": {
    "hash": "8d2c37261bd18724b44288178b5d93ac658e7a29aba4ea6c1b1b0710c1696ef2"
   }
  }
 },
 "nbformat": 4,
 "nbformat_minor": 4
}
