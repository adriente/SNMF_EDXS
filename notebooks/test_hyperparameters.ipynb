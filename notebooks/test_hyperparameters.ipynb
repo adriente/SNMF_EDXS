{
 "cells": [
  {
   "cell_type": "code",
   "execution_count": null,
   "metadata": {},
   "outputs": [],
   "source": [
    "%load_ext autoreload\n",
    "%autoreload 2\n",
    "%matplotlib inline\n",
    "from esmpy.datasets.generate_weights import generate_weights\n",
    "from esmpy.datasets.generate_EDXS_phases import generate_random_phases, unique_elts, generate_modular_phases\n",
    "from esmpy.datasets import generate_dataset\n",
    "from esmpy.utils import arg_helper\n",
    "import matplotlib.pyplot as plt\n",
    "import numpy as np\n",
    "from esmpy.conf import DEFAULT_SYNTHETIC_DATA_DICT\n",
    "\n"
   ]
  },
  {
   "cell_type": "markdown",
   "metadata": {},
   "source": [
    "# Generate small but realistic data"
   ]
  },
  {
   "cell_type": "code",
   "execution_count": null,
   "metadata": {},
   "outputs": [],
   "source": [
    "seed = 0\n",
    "n_phases = 3\n",
    "N = 200\n",
    "\n",
    "weights_dict = {\n",
    "    \"weight_type\" : \"sphere\",\n",
    "    \"shape_2d\" : [30,30],\n",
    "    \"weights_params\": {\"radius\" : 1.2}\n",
    "}\n",
    "\n",
    "elts_dicts = [\n",
    "    {\n",
    "        \"Mg\" : 0.245, \"Fe\" : 0.035, \"Ca\" : 0.031, \"Si\" : 0.219, \"Al\" : 0.024, \"O\" : 0.446, \"Cu\" : 0.05, \"Hf\" : 0.01\n",
    "    },\n",
    "    {\n",
    "        \"Mg\" : 0.522, \"Fe\" : 0.104, \"O\" : 0.374, \"Cu\" : 0.05\n",
    "    },\n",
    "    {\n",
    "        \"Mg\" : 0.020, \"Fe\" : 0.018, \"Ca\" : 0.188, \"Si\" : 0.173, \"Al\" : 0.010, \"O\" : 0.591, \"Ti\" : 0.004, \"Cu\" : 0.05, \"Sm\" : 0.007, \"Lu\" : 0.006, \"Nd\" : 0.006\n",
    "    }]\n",
    "\n",
    "brstlg_pars = [\n",
    "    {\"b0\" : 0.0003458, \"b1\" : 0.0006268},\n",
    "    {\"b0\" : 0.0001629, \"b1\" : 0.0009812},\n",
    "    {\"b0\" : 0.0007853, \"b1\" : 0.0003658}\n",
    "]\n",
    "\n",
    "model_params = {\n",
    "        \"e_offset\" : 0.3,\n",
    "        \"e_size\" : 1000,\n",
    "        \"e_scale\" : 0.01,\n",
    "        \"width_slope\" : 0.01,\n",
    "        \"width_intercept\" : 0.065,\n",
    "        \"db_name\" : \"default_xrays.json\",\n",
    "        \"E0\" : 200,\n",
    "        \"params_dict\" : {\n",
    "            \"Abs\" : {\n",
    "                \"thickness\" : 100.0e-7,\n",
    "                \"toa\" : 35,\n",
    "                \"density\" : 4.5,\n",
    "                \"atomic_fraction\" : False\n",
    "            },\n",
    "            \"Det\" : \"SDD_efficiency.txt\"\n",
    "        }\n",
    "    }\n",
    "\n",
    "phases, full_dict = generate_modular_phases(elts_dicts=elts_dicts, brstlg_pars = brstlg_pars, scales = [1, 1, 1], model_params= model_params, seed = seed)\n",
    "\n",
    "np.random.seed(seed)\n",
    "name = \"small_FpBrgCaPv_N30\"\n",
    "data_dict = {\n",
    "    \"N\" : N,\n",
    "    \"densities\" : [1.0,0.8,1.2],\n",
    "    \"data_folder\" : name,\n",
    "    \"seed\" : seed\n",
    "}\n",
    "\n",
    "data_dict.update(weights_dict)\n",
    "data_dict.update(full_dict)\n",
    "\n",
    "input_dict = arg_helper(data_dict,DEFAULT_SYNTHETIC_DATA_DICT)\n",
    "\n",
    "generate_dataset(**data_dict, seeds_range=5)"
   ]
  },
  {
   "cell_type": "code",
   "execution_count": null,
   "metadata": {},
   "outputs": [],
   "source": [
    "from esmpy.conf import DATASETS_PATH\n",
    "from pathlib import Path\n",
    "import hyperspy.api as hs\n",
    "name = \"small_FpBrgCaPv_N30\"\n",
    "\n",
    "number = 0\n",
    "p = DATASETS_PATH / Path(name) / \"sample_{}.hspy\".format(number)\n",
    "spim = hs.load(str(p))\n"
   ]
  },
  {
   "cell_type": "code",
   "execution_count": null,
   "metadata": {},
   "outputs": [],
   "source": [
    "from esmpy.estimators import SmoothNMF\n",
    "# wmu = np.ones(3)\n",
    "# wmu[0] = 1\n",
    "est = SmoothNMF(n_components=3, lambda_L=10, mu=5, epsilon_reg=0.1,  hspy_comp=True, init=\"nndsvdar\", G=spim.build_G(), tol=1e-6, force_simplex=True, accelerate=False)\n",
    "# est = SmoothNMF(n_components=3, lambda_L=0, mu=0, epsilon_reg=0.1, force_simplex=True, hspy_comp=True, init=\"nndsvdar\", G=spim.build_G(), tol=1e-6)\n",
    "spim.decomposition(algorithm=est)"
   ]
  },
  {
   "cell_type": "code",
   "execution_count": null,
   "metadata": {},
   "outputs": [],
   "source": [
    "np.sum(np.abs(np.sum(H0, 0) -1))"
   ]
  },
  {
   "cell_type": "code",
   "execution_count": null,
   "metadata": {},
   "outputs": [],
   "source": [
    "H0 = spim.get_decomposition_loadings().data\n",
    "W0 = spim.get_decomposition_factors().data\n",
    "H0 = H0.reshape(3,-1)"
   ]
  },
  {
   "cell_type": "code",
   "execution_count": null,
   "metadata": {},
   "outputs": [],
   "source": [
    "# spim.plot_decomposition_loadings(3)"
   ]
  },
  {
   "cell_type": "code",
   "execution_count": null,
   "metadata": {},
   "outputs": [],
   "source": [
    "plt.figure(figsize=(15, 8))\n",
    "for i in range(3):\n",
    "    plt.subplot(2,3,i+1)\n",
    "    plt.imshow(spim.maps_2d[:,:,i], vmin=0, vmax=1, cmap=plt.cm.hot_r)\n",
    "    plt.colorbar()\n",
    "    plt.subplot(2,3,i+4)\n",
    "    plt.imshow(spim.get_decomposition_loadings().data[i], vmin=0, vmax=1, cmap=plt.cm.hot_r)\n",
    "    plt.colorbar()\n"
   ]
  },
  {
   "cell_type": "code",
   "execution_count": null,
   "metadata": {},
   "outputs": [],
   "source": [
    "X = spim.X\n",
    "Xdot = spim.Xdot\n",
    "Hdot = spim.maps\n",
    "densities = spim.metadata.Truth.Params.densities\n",
    "\n",
    "Wdot = spim.phases @np.diag(densities)\n",
    "G = spim.build_G()()"
   ]
  },
  {
   "cell_type": "code",
   "execution_count": null,
   "metadata": {},
   "outputs": [],
   "source": [
    "np.sum(X), np.sum(Xdot) /N"
   ]
  },
  {
   "cell_type": "code",
   "execution_count": null,
   "metadata": {},
   "outputs": [],
   "source": [
    "Hdot.T @ Wdot.T  - Xdot.T /N"
   ]
  },
  {
   "cell_type": "code",
   "execution_count": null,
   "metadata": {},
   "outputs": [],
   "source": [
    "W = np.linalg.lstsq(Hdot.T, X.T*30, rcond=None)[0].T"
   ]
  },
  {
   "cell_type": "code",
   "execution_count": null,
   "metadata": {},
   "outputs": [],
   "source": [
    "from esmpy.updates import multiplicative_step_w\n",
    "\n",
    "W = np.ones([G.shape[1],3])\n",
    "for i in range(100):\n",
    "    W = multiplicative_step_w(X, G, W, H0)\n",
    "\n",
    "W = G @ W"
   ]
  },
  {
   "cell_type": "code",
   "execution_count": null,
   "metadata": {},
   "outputs": [],
   "source": [
    "plt.figure(figsize=(15, 4))\n",
    "for i in range(3):\n",
    "    plt.subplot(1,3,i+1)\n",
    "    plt.plot(np.abs(W[:,i]))\n",
    "    plt.plot(Wdot[:,i], \"--\")\n",
    "\n"
   ]
  },
  {
   "cell_type": "code",
   "execution_count": null,
   "metadata": {},
   "outputs": [],
   "source": [
    "def special_angle(vec_gd, vec_algo):\n",
    "    m = np.mean(vec_gd)\n",
    "    norm = 1/(m+vec_gd)\n",
    "    return angle(vec_gd*norm, vec_algo*norm)\n"
   ]
  },
  {
   "cell_type": "code",
   "execution_count": null,
   "metadata": {},
   "outputs": [],
   "source": [
    "plt.figure(figsize=(15, 4))\n",
    "for i in range(3):\n",
    "    plt.subplot(1,3,i+1)\n",
    "    plt.plot(np.abs(W0.T[:,i])*5)\n",
    "    plt.plot(Wdot[:,i], \"--\")"
   ]
  },
  {
   "cell_type": "code",
   "execution_count": null,
   "metadata": {},
   "outputs": [],
   "source": []
  },
  {
   "cell_type": "code",
   "execution_count": null,
   "metadata": {},
   "outputs": [],
   "source": [
    "def build_problematic_dataset(shape_2d, k, l, n_poisson=200):\n",
    "    assert(l>k)\n",
    "    W = np.random.rand(l,k)\n",
    "    W[np.random.rand(l,k)>0.3] = 0\n",
    "    for i in range(k):\n",
    "        W[i,i] = 1\n",
    "    H = np.random.rand(k, *shape_2d)/k\n",
    "    for i in range(H.size//2):\n",
    "        i, j = np.random.randint(shape_2d[0]), np.random.randint(shape_2d[1])\n",
    "        k2 = np.random.randint(k-1)\n",
    "        H[k2+1,i,j] = 0\n",
    "    H[0,:,:] = 1 - np.sum(H[1:,:,:], axis=0, keepdims=True)\n",
    "    \n",
    "    H = H.reshape(k, -1)\n",
    "    Xdot = W @ H\n",
    "\n",
    "    X = 1/n_poisson * np.random.poisson(n_poisson * Xdot)\n",
    "\n",
    "    return Xdot, X, W, H\n",
    "\n",
    "shape_2d = [5,5]\n",
    "l = 10\n",
    "k = 3\n",
    "n_poisson = 200\n",
    "\n",
    "Xdot, X, W, H = build_problematic_dataset(shape_2d, k, l, n_poisson)"
   ]
  },
  {
   "cell_type": "code",
   "execution_count": null,
   "metadata": {},
   "outputs": [],
   "source": [
    "from esmpy.estimators import SmoothNMF\n",
    "mu = 10\n",
    "epsilon = 0.1\n",
    "est = SmoothNMF(n_components=k, lambda_L=0, mu=mu, epsilon_reg=epsilon, init=\"nndsvdar\",  tol=1e-6, force_simplex=True, accelerate=False, debug=True)\n",
    "W0 = est.fit_transform(X)\n",
    "H0 = est.H_"
   ]
  },
  {
   "cell_type": "code",
   "execution_count": null,
   "metadata": {},
   "outputs": [],
   "source": [
    "W0.shape, H0.shape\n"
   ]
  },
  {
   "cell_type": "code",
   "execution_count": null,
   "metadata": {},
   "outputs": [],
   "source": [
    "from esmpy.measures import KL_loss_surrogate, KLdiv_loss, log_reg, log_surrogate\n",
    "l = 10\n",
    "k = 3\n",
    "p = 25\n",
    "mu = 10\n",
    "epsilon = 0.1\n",
    "\n",
    "W0  = np.random.rand(l, k)\n",
    "H0 = np.random.rand(k, p)\n",
    "H0T = np.random.rand(k, p)\n",
    "X = np.random.rand(l, p)\n",
    "\n",
    "eps =0\n",
    "np.testing.assert_allclose(\n",
    "    KL_loss_surrogate(X, W0, H0, H0, eps=eps), \n",
    "    KLdiv_loss(X, W0, H0, eps=eps))\n",
    "np.testing.assert_allclose(\n",
    "    log_surrogate(H0, H0, mu=mu, epsilon=epsilon),\n",
    "    log_reg(H0, mu=mu, epsilon=epsilon))\n",
    "\n",
    "KL_loss_surrogate(X, W0, H0, H0T, eps=eps), KL_loss_surrogate(X, W0, H0, H0, eps=eps)"
   ]
  },
  {
   "cell_type": "code",
   "execution_count": null,
   "metadata": {},
   "outputs": [],
   "source": []
  }
 ],
 "metadata": {
  "interpreter": {
   "hash": "1a1b43244e11bc51a1d0b046d5a6cc91cb73bf5187e443fb7c1433042d0ea61d"
  },
  "kernelspec": {
   "display_name": "Python 3.9.1 64-bit ('SNMF_EDXS-FwWDtlwS': pipenv)",
   "name": "python3"
  },
  "language_info": {
   "codemirror_mode": {
    "name": "ipython",
    "version": 3
   },
   "file_extension": ".py",
   "mimetype": "text/x-python",
   "name": "python",
   "nbconvert_exporter": "python",
   "pygments_lexer": "ipython3",
   "version": "3.9.1"
  }
 },
 "nbformat": 4,
 "nbformat_minor": 4
}
