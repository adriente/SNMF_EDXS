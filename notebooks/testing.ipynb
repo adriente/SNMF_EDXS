{
 "cells": [
  {
   "cell_type": "code",
   "execution_count": 1,
   "source": [
    "%load_ext autoreload\n",
    "%autoreload 2\n",
    "%matplotlib inline"
   ],
   "outputs": [],
   "metadata": {}
  },
  {
   "cell_type": "code",
   "execution_count": 2,
   "source": [
    "import numpy as np\n",
    "import matplotlib.pyplot as plt\n",
    "# from snmfem.experiments import load_samples, print_results, load_data, run_experiment\n",
    "# from snmfem.measures import KL\n"
   ],
   "outputs": [],
   "metadata": {}
  },
  {
   "cell_type": "code",
   "execution_count": 6,
   "source": [
    "def create_toy_problem(l = 25, k = 3, p = 100, c = 10, n_poisson=200, force_simplex=True):\n",
    "\n",
    "    A = np.random.rand(k,p)\n",
    "    if force_simplex:\n",
    "        A = A/np.sum(A, axis=0, keepdims=True)\n",
    "    \n",
    "    G = np.random.rand(l,c)\n",
    "    P = np.random.rand(c,k)\n",
    "    GP = G @ P\n",
    "\n",
    "    X = GP @ A\n",
    "\n",
    "    Xdot = 1/n_poisson * np.random.poisson(n_poisson * X)\n",
    "\n",
    "    return G, P, A, X, Xdot"
   ],
   "outputs": [],
   "metadata": {}
  },
  {
   "cell_type": "code",
   "execution_count": null,
   "source": [
    "dataset = \"dataset_toy.json\"\n",
    "n_sample = 0\n",
    "samples, k, g, model = load_samples(dataset)\n",
    "sample = samples[n_sample]\n",
    "\n",
    "Xflat, true_spectra, true_maps, G, shape_2d = load_data(sample)\n",
    "Xtrue = true_spectra.T @ true_maps"
   ],
   "outputs": [],
   "metadata": {}
  },
  {
   "cell_type": "code",
   "execution_count": null,
   "source": [],
   "outputs": [],
   "metadata": {}
  },
  {
   "cell_type": "code",
   "execution_count": null,
   "source": [
    "shape_2d = [6, 10]\n",
    "k = 5\n",
    "n_poisson = 30\n",
    "G, P, true_maps, Xtrue, Xflat = create_toy_problem(p = shape_2d[0]*shape_2d[1], k=k, n_poisson=n_poisson)\n",
    "true_spectra = (G @ P).T\n",
    "\n"
   ],
   "outputs": [],
   "metadata": {}
  },
  {
   "cell_type": "code",
   "execution_count": null,
   "source": [],
   "outputs": [],
   "metadata": {}
  },
  {
   "cell_type": "code",
   "execution_count": null,
   "source": [
    "# G = None"
   ],
   "outputs": [],
   "metadata": {}
  },
  {
   "cell_type": "code",
   "execution_count": null,
   "source": [
    "maxit = 10\n",
    "tol = 1e-7"
   ],
   "outputs": [],
   "metadata": {}
  },
  {
   "cell_type": "code",
   "execution_count": null,
   "source": [
    "# for me random was the best initialization...\n",
    "default_params = {\n",
    "    \"n_components\" : k,\n",
    "    \"tol\" : tol,\n",
    "    \"max_iter\" : maxit,\n",
    "    \"init\" : \"random\",\n",
    "    \"random_state\" : 1,\n",
    "    \"verbose\" : 1\n",
    "    }\n",
    "\n",
    "params_snmf = {\n",
    "    \"force_simplex\" : True,\n",
    "    \"skip_G\" : False,\n",
    "    \"mu\": 0\n",
    "}\n",
    "\n",
    "params_evalution = {\n",
    "    \"u\" : True,\n",
    "}\n",
    "\n",
    "# All parameters are contained here\n",
    "exp = {\"name\": \"snmfem smooth 30\", \"method\": \"SmoothNMF\", \"params\": {**default_params, **params_snmf, \"lambda_L\" : 0}}\n",
    "\n",
    "m, (GP, A), loss  = run_experiment(Xflat, true_spectra, true_maps, G, exp, params_evalution,shape_2d)\n"
   ],
   "outputs": [],
   "metadata": {
    "tags": []
   }
  },
  {
   "cell_type": "code",
   "execution_count": null,
   "source": [
    "print(KL(Xflat, Xtrue, average=True))\n",
    "print(KL(Xflat, GP @ A, average=True))\n",
    "print(KL(Xtrue, GP @ A, average=True))"
   ],
   "outputs": [],
   "metadata": {}
  },
  {
   "cell_type": "code",
   "execution_count": null,
   "source": [
    "# for me random was the best initialization...\n",
    "default_params = {\n",
    "    \"n_components\" : k,\n",
    "    \"tol\" : tol,\n",
    "    \"max_iter\" : maxit,\n",
    "    \"init\" : \"random\",\n",
    "    \"random_state\" : 1,\n",
    "    \"verbose\" : 1\n",
    "    }\n",
    "\n",
    "params_snmf = {\n",
    "    \"force_simplex\" : False,\n",
    "    \"skip_G\" : False,\n",
    "    \"mu\": 0\n",
    "}\n",
    "\n",
    "params_evalution = {\n",
    "    \"u\" : True,\n",
    "}\n",
    "\n",
    "# All parameters are contained here\n",
    "exp = {\"name\": \"snmfem smooth 30\", \"method\": \"SmoothNMF\", \"params\": {**default_params, **params_snmf, \"lambda_L\" : 0}}\n",
    "\n",
    "m2, (GP2, A2), loss2  = run_experiment(Xflat, true_spectra, true_maps, G, exp, params_evalution,shape_2d)\n",
    "\n"
   ],
   "outputs": [],
   "metadata": {
    "tags": []
   }
  },
  {
   "cell_type": "code",
   "execution_count": null,
   "source": [
    "fig, axes = plt.subplots(2, 2, figsize=(10, 6))\n",
    "\n",
    "for i,  l in enumerate([loss, loss2]):\n",
    "    names = list(l.dtype.names)\n",
    "    values = np.array([list(e) for e in l])\n",
    "\n",
    "    # axes[0].plot(values[:,1:-2], markersize=3.5)\n",
    "    axes[i,0].plot(values[:,1],'b',markersize=3.5)\n",
    "    axes[i,0].plot(values[:,0],'r--',markersize=3.5)\n",
    "    # axes[i,0].plot(values[:,-1],'g-',markersize=3.5)\n",
    "    axes[i,0].set_yscale(\"log\")\n",
    "    axes[i,0].set_xlabel(\"number of iterations\")\n",
    "    # axes[0].legend(names[1:-2] + [names[0]])\n",
    "    axes[i,0].legend([names[1]] + [names[0]])\n",
    "    # axes[i,0].legend([names[1]] + [names[0]] +[names[-1]])\n",
    "    axes[i,0].set_title(\"Losses\")\n",
    "\n",
    "    axes[i,1].plot(values[:,4:6], markersize=3.5)\n",
    "    axes[i,1].legend(names[4:6])\n",
    "    axes[i,1].set_xlabel(\"number of iterations\")\n",
    "    axes[i,1].set_title(\"Evolution of A and P\")\n",
    "    axes[i,1].set_yscale(\"log\")\n",
    "\n",
    "fig.tight_layout()"
   ],
   "outputs": [],
   "metadata": {}
  },
  {
   "cell_type": "code",
   "execution_count": null,
   "source": [
    "# Ploting parameters\n",
    "fontsize = 15\n",
    "aspect_ratio = 3/4\n",
    "scale = 20\n",
    "cmap = plt.cm.gist_heat_r\n",
    "vmin = 0\n",
    "vmax = np.max(true_maps)"
   ],
   "outputs": [],
   "metadata": {}
  },
  {
   "cell_type": "code",
   "execution_count": null,
   "source": [
    "metric = np.array(m[:-1])\n",
    "order = np.array(m[-1])\n",
    "\n",
    "fig, axes = plt.subplots(k,3,figsize = (scale, scale/3*k * aspect_ratio))\n",
    "\n",
    "\n",
    "for j in range(k):\n",
    "    ind = np.arange(k)[order[0,j]]\n",
    "    axes[j, 0].plot(true_spectra[j],'bo',label='truth',linewidth=4)\n",
    "    axes[j, 0].plot(GP[:,ind] ,'r-',label='reconstructed',markersize=3.5)\n",
    "    axes[j, 0].set_title(\"{:.2f} deg\".format(metric[0,j]))\n",
    "\n",
    "for j in range(k):\n",
    "    ind = np.arange(k)[order[1,j]]\n",
    "    axes[j, 1].imshow(A[ind].reshape(*shape_2d), vmin=vmin, vmax=vmax, cmap=cmap)\n",
    "    axes[j, 1].set_title(\"Mse: {:.2f}\".format(metric[1,j]))\n",
    "    axes[j, 2].imshow(true_maps[j].reshape(*shape_2d), vmin=vmin, vmax=vmax, cmap=cmap)   \n",
    "    \n",
    "rows = ['Phase {}'.format(col) for col in range(k)]\n",
    "cols = [\"Phase\", \"Map\", \"Real map\"]\n",
    "\n",
    "for ax, col in zip(axes[0], cols):\n",
    "    ax.set_title(col, fontsize=fontsize)\n",
    "\n",
    "for ax, row in zip(axes[:,0], rows):\n",
    "    ax.set_ylabel(row, rotation=90, fontsize=fontsize)\n",
    "\n",
    "fig.tight_layout()\n",
    "\n",
    "plt.show()\n"
   ],
   "outputs": [],
   "metadata": {}
  },
  {
   "cell_type": "code",
   "execution_count": null,
   "source": [
    "metric = np.array(m2[:-1])\n",
    "order = np.array(m2[-1])\n",
    "\n",
    "fig, axes = plt.subplots(k,3,figsize = (scale, scale/3*k * aspect_ratio))\n",
    "\n",
    "\n",
    "for j in range(k):\n",
    "    ind = np.arange(k)[order[0,j]]\n",
    "    axes[j, 0].plot(true_spectra[j],'bo',label='truth',linewidth=4)\n",
    "    axes[j, 0].plot(GP2[:,ind] ,'r-',label='reconstructed',markersize=3.5)\n",
    "    axes[j, 0].set_title(\"{:.2f} deg\".format(metric[0,j]))\n",
    "\n",
    "for j in range(k):\n",
    "    ind = np.arange(k)[order[1,j]]\n",
    "    axes[j, 1].imshow(A2[ind].reshape(*shape_2d), vmin=vmin, vmax=vmax, cmap=cmap)\n",
    "    axes[j, 1].set_title(\"Mse: {:.2f}\".format(metric[1,j]))\n",
    "    axes[j, 2].imshow(true_maps[j].reshape(*shape_2d), vmin=vmin, vmax=vmax, cmap=cmap)   \n",
    "    \n",
    "rows = ['Phase {}'.format(col) for col in range(k)]\n",
    "cols = [\"Phase\", \"Map\", \"Real map\"]\n",
    "\n",
    "# for ax, col in zip(axes[0], cols):\n",
    "#     ax.set_title(col, fontsize=fontsize)\n",
    "\n",
    "for ax, row in zip(axes[:,0], rows):\n",
    "    ax.set_ylabel(row, rotation=90, fontsize=fontsize)\n",
    "\n",
    "fig.tight_layout()\n",
    "\n",
    "plt.show()\n"
   ],
   "outputs": [],
   "metadata": {}
  },
  {
   "cell_type": "code",
   "execution_count": null,
   "source": [
    "names"
   ],
   "outputs": [],
   "metadata": {}
  },
  {
   "cell_type": "markdown",
   "source": [
    "# Other stuff"
   ],
   "metadata": {}
  },
  {
   "cell_type": "code",
   "execution_count": null,
   "source": [
    "from pyunlocbox import functions\n",
    "from pyunlocbox.solvers import mlfbf, solve\n",
    "from snmfem.conf import log_shift\n",
    "# Let us solve the following problem\n",
    "# \n",
    "# \\argmin_P  - \\sum_ij  X_ij log(GPA)_ij + (GPA)_ij  s.t. P \\geq 0\n",
    "\n",
    "# \\argmin_A  - \\sum_ij  X_ij log(GPA)_ij + (GPA)_ij + f(A) s.t. A \\geq 0\n",
    "\n",
    "\n",
    "# class smooth(functions.func):\n",
    "#     def __init__(self, G, A):\n",
    "#         self.A = A\n",
    "#         self.G = G\n",
    "#         self.nabla = np.sum(self.G.T, axis=1, keepdims=True) @ np.sum(self.A.T, axis=0, keepdims=True)\n",
    "\n",
    "#     def _eval(self, P):\n",
    "#         return np.sum(self.G @ P @ self.A)\n",
    "#     def _grad(self, P):\n",
    "#         return self.nabla\n",
    "\n",
    "# f_smooth = smooth(G, A)\n",
    "# assert(f_smooth.grad(P).shape == P.shape)\n",
    "# np.testing.assert_allclose(f_smooth.grad(P),f_smooth.grad(2*P))\n",
    "\n",
    "\n",
    "class mxlogvpv(functions.func):\n",
    "    def __init__(self, X, lambda_=1, log_shift=log_shift, **kwargs):\n",
    "        super(mxlogvpv, self).__init__(**kwargs)\n",
    "        self.lambda_ = lambda_\n",
    "        self.X = X\n",
    "        self.log_shift = log_shift\n",
    "        self.offset = np.sum(self.X * np.log(self.X+log_shift)) - np.sum(self.X)\n",
    "\n",
    "    def _eval(self, P):\n",
    "        return self.offset * (self.offset - self.lambda_ * np.sum(self.X * np.log(P+log_shift)) + np.sum(P))\n",
    "    def _prox(self, P, T):\n",
    "        gamma = self.lambda_ * T\n",
    "        delta = (P - gamma)**2 + 4 * gamma * self.X\n",
    "        return (P-gamma + np.sqrt(delta))/2\n",
    "\n",
    "def solve_P(G, A, X, **kwargs):\n",
    "    L = lambda P : G @ P @ A\n",
    "    Lt = lambda X: G.T @ X @ A.T \n",
    "\n",
    "    f = functions.proj_positive()\n",
    "    g = mxlogvpv(X)\n",
    "    h = functions.dummy()\n",
    "    beta = 0\n",
    "    mu = beta + np.linalg.norm(G,2) * np.linalg.norm(A,2)\n",
    "    step = 1 / mu / 2\n",
    "\n",
    "    x0 = np.zeros(P.shape)\n",
    "    D = np.linalg.lstsq(A.T, X.T)[0].T\n",
    "    x0 = np.abs(np.linalg.lstsq(G, D)[0])\n",
    "    d0 = np.zeros(X.shape)\n",
    "\n",
    "    solver = mlfbf(step=step, L=L, Lt=Lt, d0=d0 )\n",
    "    ret = solve([f, g, h], x0, solver, **kwargs)\n",
    "\n",
    "    sol = ret[\"sol\"], np.array(ret[\"objective\"]).sum(axis=1)\n",
    "    return sol\n",
    "\n",
    "def solve_A(G, P, X, **kwargs):\n",
    "    GP = G @ P\n",
    "    L = lambda A : GP @ A\n",
    "    Lt = lambda X: GP.T @ X\n",
    "    \n",
    "    n = GP.shape[1]\n",
    "    opA = lambda A: np.sum(A, 0, keepdims=True)\n",
    "    opAt = lambda V: np.ones([n,1]) @ V\n",
    "    y = np.ones([1, X.shape[1]])\n",
    "\n",
    "    f = functions.proj_positive()\n",
    "    g = mxlogvpv(X)\n",
    "    h = function.norm_l2(A=OpA, At=OpAt, y=y)\n",
    "    beta = 0\n",
    "    mu = beta + np.linalg.norm(G,2) * np.linalg.norm(A,2)\n",
    "    step = 1 / mu / 2\n",
    "\n",
    "    x0 = np.zeros(P.shape)\n",
    "    D = np.linalg.lstsq(A.T, X.T)[0].T\n",
    "    x0 = np.abs(np.linalg.lstsq(G, D)[0])\n",
    "    d0 = np.zeros(X.shape)\n",
    "\n",
    "    solver = mlfbf(step=step, L=L, Lt=Lt, d0=d0 )\n",
    "    ret = solve([f, g, h], x0, solver, **kwargs)\n",
    "\n",
    "    sol = ret[\"sol\"], np.array(ret[\"objective\"]).sum(axis=1)\n",
    "    return sol"
   ],
   "outputs": [],
   "metadata": {}
  },
  {
   "cell_type": "code",
   "execution_count": null,
   "source": [
    "sol,  objective = solve_P(G, A, X, maxit=1000, rtol=1e-15)\n",
    "\n",
    "plt.plot(objective)\n",
    "plt.yscale(\"log\")\n",
    "\n",
    "np.linalg.norm(sol - P, \"fro\") / np.linalg.norm(P, \"fro\"), KLdiv(X, G @ sol, A)"
   ],
   "outputs": [],
   "metadata": {}
  },
  {
   "cell_type": "code",
   "execution_count": null,
   "source": [
    "# D = np.linalg.lstsq(A.T, Xdot.T)[0].T\n",
    "# x0 = np.abs(np.linalg.lstsq(G, D)[0])\n",
    "# D, np.linalg.lstsq(G, D)[0]"
   ],
   "outputs": [],
   "metadata": {}
  },
  {
   "cell_type": "code",
   "execution_count": null,
   "source": [
    "sol,  objective = solve_P(G, A, Xdot, maxit=100, rtol=1e-15)\n",
    "\n",
    "plt.plot(objective)\n",
    "# plt.yscale(\"log\")\n",
    "\n",
    "np.linalg.norm(sol - P, \"fro\") / np.linalg.norm(P, \"fro\"), KLdiv(X, G @ sol, A)"
   ],
   "outputs": [],
   "metadata": {}
  },
  {
   "cell_type": "code",
   "execution_count": null,
   "source": [
    "sol"
   ],
   "outputs": [],
   "metadata": {}
  },
  {
   "cell_type": "code",
   "execution_count": null,
   "source": [],
   "outputs": [],
   "metadata": {}
  },
  {
   "cell_type": "code",
   "execution_count": null,
   "source": [
    "from pyunlocbox import functions\n"
   ],
   "outputs": [],
   "metadata": {}
  },
  {
   "cell_type": "code",
   "execution_count": null,
   "source": [
    "est = NMF(G=G, n_components=k, debug=True, max_iter=200,  force_simplex=True)"
   ],
   "outputs": [],
   "metadata": {}
  },
  {
   "cell_type": "code",
   "execution_count": null,
   "source": [
    "Ps, As = est.fit_transform(X, eval_print=20)"
   ],
   "outputs": [],
   "metadata": {
    "tags": []
   }
  },
  {
   "cell_type": "code",
   "execution_count": null,
   "source": [
    "# est = NMF(G=G, n_components=k, debug=True, max_iter=2000, force_simplex=False)\n",
    "# Pss, Ass = est.fit_transform(Xdot, eval_print=200)\n",
    "# Ainit = Ass/np.sum(Ass, axis=0, keepdims=True)\n",
    "        # - 'random': non-negative random matrices, scaled with:\n",
    "        #     sqrt(X.mean() / n_components)\n",
    "        # - 'nndsvd': Nonnegative Double Singular Value Decomposition (NNDSVD)\n",
    "        #     initialization (better for sparseness)\n",
    "        # - 'nndsvda': NNDSVD with zeros filled with the average of X\n",
    "        #     (better when sparsity is not desired)\n",
    "        # - 'nndsvdar': NNDSVD with zeros filled with small random values\n",
    "        #     (generally faster, less accurate alternative to NNDSVDa\n",
    "        #     for when sparsity is not desired)\n",
    "est = NMF(G=G, n_components=k, debug=True, mu=0, max_iter=2000,tol=0, force_simplex=False, init=\"nndsvd\")\n",
    "Pss, Ass = est.fit_transform(Xdot, eval_print=200)\n",
    "# np.sum(Ass, axis=0)"
   ],
   "outputs": [],
   "metadata": {}
  },
  {
   "cell_type": "code",
   "execution_count": null,
   "source": [
    "# est = NMF(G=G, n_components=k, debug=True, max_iter=10, force_simplex=True)\n",
    "# Pss, Ass = est.fit_transform(Xdot, A=A, eval_print=1)"
   ],
   "outputs": [],
   "metadata": {}
  },
  {
   "cell_type": "code",
   "execution_count": null,
   "source": [
    "vmin = 0\n",
    "vmax = 1\n",
    "\n",
    "plt.subplot(2,1,1)\n",
    "plt.imshow(A, vmin=vmin, vmax=vmax)\n",
    "plt.colorbar()\n",
    "plt.subplot(2,1,2)\n",
    "plt.imshow(Ass, vmin=vmin, vmax=vmax)\n",
    "plt.colorbar()\n",
    "plt.show()"
   ],
   "outputs": [],
   "metadata": {}
  },
  {
   "cell_type": "code",
   "execution_count": null,
   "source": [
    "np.min(Ass)"
   ],
   "outputs": [],
   "metadata": {}
  },
  {
   "cell_type": "code",
   "execution_count": null,
   "source": [],
   "outputs": [],
   "metadata": {}
  },
  {
   "cell_type": "code",
   "execution_count": null,
   "source": [
    "k = 15\n",
    "num = np.random.rand(k,23)/20\n",
    "denum = np.random.rand(k,23)\n",
    "\n",
    "def f(nu):\n",
    "    sol = 0\n",
    "    for n,d in zip(num, denum):\n",
    "        sol = sol + n/(d+nu)\n",
    "    return sol - 1"
   ],
   "outputs": [],
   "metadata": {}
  },
  {
   "cell_type": "code",
   "execution_count": null,
   "source": [
    "r = np.sum(num/denum, axis=0)\n",
    "# t = np.sum(num)\n",
    "# if r<1:\n",
    "#     bmax = 0\n",
    "# else:\n",
    "ind_min = np.argmax(num/denum, axis=0)\n",
    "ind_min2 = np.argmin(denum, axis=0)\n",
    "ind = np.arange(len(ind_min))\n",
    "\n",
    "bmin1 = num[ind_min, ind]-denum[ind_min, ind]\n",
    "bmin2 = num[ind_min2, ind]-denum[ind_min2, ind]\n",
    "bmin = np.maximum(bmin1, bmin2)\n",
    "bmax = r\n",
    "\n",
    "# nu = np.arange(bmin, bmax, 1e-3)\n",
    "# plt.plot(nu, f(nu))\n",
    "# plt.show()"
   ],
   "outputs": [],
   "metadata": {}
  },
  {
   "cell_type": "code",
   "execution_count": null,
   "source": [
    "bmin, bmax"
   ],
   "outputs": [],
   "metadata": {}
  },
  {
   "cell_type": "code",
   "execution_count": null,
   "source": [
    "bmin"
   ],
   "outputs": [],
   "metadata": {}
  },
  {
   "cell_type": "code",
   "execution_count": null,
   "source": [
    "ind_max = np.argmin(num/denum)\n",
    "num[ind_max]/denum[ind_max]"
   ],
   "outputs": [],
   "metadata": {}
  },
  {
   "cell_type": "code",
   "execution_count": null,
   "source": [
    "\"\"\"\n",
    "Implements three algorithms for projecting a vector onto the simplex: sort, pivot and bisection.\n",
    "For details and references, see the following paper:\n",
    "Large-scale Multiclass Support Vector Machine Training via Euclidean Projection onto the Simplex\n",
    "Mathieu Blondel, Akinori Fujino, and Naonori Ueda.\n",
    "ICPR 2014.\n",
    "http://www.mblondel.org/publications/mblondel-icpr2014.pdf\n",
    "\"\"\"\n",
    "\n",
    "# To check for exact projection\n",
    "# https://github.com/RoyiAvital/StackExchangeCodes/blob/master/Mathematics/Q2327504/ProjectSimplexExact.m\n",
    "\n",
    "import numpy as np\n",
    "\n",
    "\n",
    "def projection_simplex_sort(v, z=1):\n",
    "    n_features = v.shape[0]\n",
    "    u = np.sort(v)[::-1]\n",
    "    cssv = np.cumsum(u) - z\n",
    "    ind = np.arange(n_features) + 1\n",
    "    cond = u - cssv / ind > 0\n",
    "    rho = ind[cond][-1]\n",
    "    theta = cssv[cond][-1] / float(rho)\n",
    "    w = np.maximum(v - theta, 0)\n",
    "    return w\n",
    "\n",
    "\n",
    "def projection_simplex_pivot(v, z=1, random_state=None):\n",
    "    rs = np.random.RandomState(random_state)\n",
    "    n_features = len(v)\n",
    "    U = np.arange(n_features)\n",
    "    s = 0\n",
    "    rho = 0\n",
    "    while len(U) > 0:\n",
    "        G = []\n",
    "        L = []\n",
    "        k = U[rs.randint(0, len(U))]\n",
    "        ds = v[k]\n",
    "        for j in U:\n",
    "            if v[j] >= v[k]:\n",
    "                if j != k:\n",
    "                    ds += v[j]\n",
    "                    G.append(j)\n",
    "            elif v[j] < v[k]:\n",
    "                L.append(j)\n",
    "        drho = len(G) + 1\n",
    "        if s + ds - (rho + drho) * v[k] < z:\n",
    "            s += ds\n",
    "            rho += drho\n",
    "            U = L\n",
    "        else:\n",
    "            U = G\n",
    "    theta = (s - z) / float(rho)\n",
    "    return np.maximum(v - theta, 0)\n",
    "\n",
    "\n",
    "def projection_simplex_bisection(v, z=1, tau=0.0001, max_iter=1000):\n",
    "    lower = 0\n",
    "    upper = np.max(v)\n",
    "    current = np.inf\n",
    "\n",
    "    for it in range(max_iter):\n",
    "        if np.abs(current) / z < tau and current < 0:\n",
    "            break\n",
    "\n",
    "        theta = (upper + lower) / 2.0\n",
    "        w = np.maximum(v - theta, 0)\n",
    "        current = np.sum(w) - z\n",
    "        if current <= 0:\n",
    "            upper = theta\n",
    "        else:\n",
    "            lower = theta\n",
    "    return w\n",
    "\n",
    "n = 10\n",
    "rs = np.random.RandomState(0)\n",
    "v = rs.rand(n)\n",
    "z = 1\n",
    "print(z)\n",
    "\n",
    "w1 = projection_simplex_sort(v, z)\n",
    "print(np.sum(w1))\n",
    "\n",
    "w2 = projection_simplex_pivot(v, z)\n",
    "print(np.sum(w2))\n",
    "\n",
    "w3 = projection_simplex_bisection(v, z)\n",
    "print(np.sum(w3))"
   ],
   "outputs": [],
   "metadata": {}
  },
  {
   "cell_type": "code",
   "execution_count": null,
   "source": [
    "Aop = lambda x : np.sum(x)\n",
    "pinvA = np.linalg.pinv(np.ones([1,n]))\n",
    "pinvAop = lambda x: 1/n * x\n",
    "\n",
    "def mysolution(x):\n",
    "    return x - pinvAop(Aop(x) - 1)\n",
    "mysolution(v)"
   ],
   "outputs": [],
   "metadata": {}
  },
  {
   "cell_type": "code",
   "execution_count": null,
   "source": [
    "# some plots"
   ],
   "outputs": [],
   "metadata": {}
  },
  {
   "cell_type": "code",
   "execution_count": null,
   "source": [],
   "outputs": [],
   "metadata": {}
  },
  {
   "cell_type": "code",
   "execution_count": null,
   "source": [],
   "outputs": [],
   "metadata": {}
  },
  {
   "cell_type": "markdown",
   "source": [
    "# Divergence de Bregman"
   ],
   "metadata": {}
  },
  {
   "cell_type": "code",
   "execution_count": null,
   "source": [
    "def f(x):\n",
    "    return 0.5*(x - 2)**2\n",
    "\n",
    "def nablaf(x):\n",
    "    return (x - 2)\n",
    "\n",
    "def f(x):\n",
    "    return np.abs(x - 2)\n",
    "\n",
    "def nablaf(x):\n",
    "    return np.sign(x - 2)\n",
    "\n",
    "def bregman_div(f, nablaf, xt, x):\n",
    "    fxt = f(xt)\n",
    "    fx = f(x)\n",
    "    nablafxt = nablaf(xt)\n",
    "    return fx - fxt - nablafxt * (x - xt)"
   ],
   "outputs": [],
   "metadata": {}
  },
  {
   "cell_type": "code",
   "execution_count": null,
   "source": [
    "x = np.arange(-10,10, 0.1)\n",
    "xt = -2\n",
    "fx = f(x)\n",
    "vmin = np.min(fx)\n",
    "vmax = np.max(fx)\n",
    "plt.plot(x, fx, label=\"f(x)\")\n",
    "plt.plot(x, bregman_div(f, nablaf, xt, x), label=\"Bregman divergence of f(x) at xt={}\".format(xt))\n",
    "plt.plot([xt, xt], [vmin, vmax], label=\"xt\")\n",
    "plt.ylim([vmin, vmax])\n",
    "plt.legend(loc=1)"
   ],
   "outputs": [],
   "metadata": {}
  },
  {
   "cell_type": "code",
   "execution_count": null,
   "source": [
    "from snmfem.updates import update_q, multiplicative_step_pq, multiplicative_step_p, multiplicative_step_a\n",
    "from snmfem.conf import log_shift, dicotomy_tol\n",
    "from snmfem.measures import KL, trace_xtLx\n",
    "from snmfem.laplacian import create_laplacian_matrix, sigmaL"
   ],
   "outputs": [],
   "metadata": {}
  },
  {
   "cell_type": "code",
   "execution_count": null,
   "source": [
    "dataset = \"dataset_toy.json\"\n",
    "n_sample = 0\n",
    "samples, k, g, model = load_samples(dataset)\n",
    "sample = samples[n_sample]\n",
    "\n",
    "X, GPt, A, G, shape_2d = load_data(sample)\n",
    "Xtrue = true_spectra.T @ true_maps\n",
    "P, _, _, _ = np.linalg.lstsq(G, GPt.T, rcond=None)\n",
    "G.shape, P.shape, A.shape\n",
    "\n"
   ],
   "outputs": [],
   "metadata": {}
  },
  {
   "cell_type": "code",
   "execution_count": null,
   "source": [
    "# shape_2d = [10, 6]\n",
    "# k = 5\n",
    "# n_poisson = 30\n",
    "# G, P, A, Xtrue, X = create_toy_problem(p = shape_2d[0]*shape_2d[1], k=k, n_poisson=n_poisson)\n",
    "# GP = G @ P)"
   ],
   "outputs": [],
   "metadata": {}
  },
  {
   "cell_type": "code",
   "execution_count": null,
   "source": [
    "plt.figure(figsize=(15, 3))\n",
    "for i in range(k):\n",
    "    plt.subplot(1,5,i+1)\n",
    "    plt.imshow(A[i].reshape(shape_2d), vmin=0.1, vmax=0.5, cmap=plt.cm.gist_heat_r)"
   ],
   "outputs": [],
   "metadata": {}
  },
  {
   "cell_type": "code",
   "execution_count": null,
   "source": [
    "P2 = multiplicative_step_pq(Xtrue, G, P, A, eps=0, safe=True)\n",
    "np.testing.assert_allclose(P, P2)\n",
    "\n",
    "P3 = multiplicative_step_pq(X, G, P, A, safe=True)\n",
    "P4 = multiplicative_step_p(X, G, P, A, safe=True)\n",
    "np.testing.assert_allclose(P3, P4)\n",
    "\n"
   ],
   "outputs": [],
   "metadata": {}
  },
  {
   "cell_type": "code",
   "execution_count": null,
   "source": [
    "\n",
    "def multiplicative_step_aq(X, G, P, A, force_simplex=True, eps=log_shift, safe=True, dicotomy_tol=dicotomy_tol, lambda_L=0, L=None, sigmaL=sigmaL):\n",
    "    \"\"\"\n",
    "    Multiplicative step in A.\n",
    "    \"\"\"\n",
    "    if not(lambda_L==0):\n",
    "        if L is None:\n",
    "            raise ValueError(\"Please provide the laplacian\")\n",
    "\n",
    "    if safe:\n",
    "        # Allow for very small negative values!\n",
    "        assert(np.sum(A<-log_shift/2)==0)\n",
    "        assert(np.sum(P<-log_shift/2)==0)\n",
    "        assert(np.sum(G<-log_shift/2)==0)\n",
    "\n",
    "    GP = G @ P # Also called D\n",
    "    GPA = GP @ A\n",
    "\n",
    "    c = A * (GP.T @ (X / (GPA+eps)))\n",
    "\n",
    "    b = np.sum(GP, axis=0, keepdims=True).T \n",
    "    if not(lambda_L==0):\n",
    "        b = b + lambda_L * A @ L - lambda_L * sigmaL  * A \n",
    "        a = lambda_L * sigmaL\n",
    "        if force_simplex:\n",
    "            nu = dichotomy_simplex_q(a, b, c)\n",
    "            b = b + nu\n",
    "        return (-b + np.sqrt(b**2 + 4* a *c)) / (2*a)\n",
    "    else: \n",
    "        if force_simplex:\n",
    "            nu = dichotomy_simplex(num, denum,dicotomy_tol)\n",
    "            b = b + nu\n",
    "        return c / b\n"
   ],
   "outputs": [],
   "metadata": {}
  },
  {
   "cell_type": "code",
   "execution_count": null,
   "source": [
    "def smooth_l2_surrogate(At, A=None, sigmaL=sigmaL, lambda_L=1):\n",
    "    tmp = (At @ L)\n",
    "    t1 = np.sum(At * tmp)\n",
    "    if not(A is None):\n",
    "        t2 = np.sum(A * tmp)\n",
    "        t3 = np.sum((At-A)**2)\n",
    "    else:\n",
    "        t2 = t1\n",
    "        t3 = 0\n",
    "    return lambda_L / 2 * (2*t2 -t1 + sigmaL * t3)\n",
    "\n",
    "def diff_surrogate(At, A, sigmaL=sigmaL, lambda_L=1):\n",
    "    b_inf = trace_xtLx(L, A.T) * lambda_L / 2\n",
    "    b_supp = smooth_l2_surrogate(At, A=A, sigmaL=sigmaL, lambda_L=lambda_L)\n",
    "    return b_supp - b_inf\n",
    "    \n",
    "L = create_laplacian_matrix(4, 3)\n",
    "for i in range(10):\n",
    "    A1 = np.random.randn(3, 12)\n",
    "    v1 = smooth_l2_surrogate(A1)\n",
    "    v2 = smooth_l2_surrogate(A1, A1)\n",
    "    v3 = trace_xtLx(L, A1.T) / 2\n",
    "    np.testing.assert_almost_equal(v1, v2)\n",
    "    np.testing.assert_almost_equal(v1, v3)\n",
    "\n",
    "    for j in range(10):\n",
    "        A2 = np.random.randn(3, 12)\n",
    "        v4 = smooth_l2_surrogate(A1, A2)\n",
    "        v5 = trace_xtLx(L, A2.T) / 2\n",
    "        assert v4 >= v5\n",
    "        d = diff_surrogate(A1, A2, sigmaL=sigmaL)\n",
    "        np.testing.assert_almost_equal(v4 - v5 , d)\n",
    "\n",
    "    \n",
    "    "
   ],
   "outputs": [],
   "metadata": {}
  },
  {
   "cell_type": "code",
   "execution_count": null,
   "source": [
    "\n",
    "\n",
    "G, P, A, Xtrue, X = create_toy_problem(p = shape_2d[0]*shape_2d[1], k=k, n_poisson=n_poisson)\n",
    "\n",
    "P1 = np.random.rand(*P.shape)\n",
    "A1 = np.random.rand(*A.shape)\n",
    "P2 = P1.copy()\n",
    "A2 = A1.copy()\n",
    "\n",
    "P3 = P1.copy()\n",
    "A3 = A1.copy()\n",
    "P0 = P1.copy()\n",
    "A0 = A1.copy()\n",
    "\n",
    "L = create_laplacian_matrix(*shape_2d)\n",
    "\n",
    "lambda_L = 10\n",
    "\n",
    "def loss(P, A):\n",
    "    DA = G @ P @ A\n",
    "    v1 = KL(X, DA) \n",
    "    v2 = trace_xtLx(L, A.T)\n",
    "    return v1 + lambda_L/2 * v2\n",
    "\n",
    "maxit = 100\n",
    "force_simplex = False\n",
    "loss0 = [loss(P0, A0)]\n",
    "\n",
    "loss1 = [loss(P1, A1)]\n",
    "loss2 = [loss(P2, A2)]\n",
    "diff_loss2 = []\n",
    "loss3 = [loss(P3, A3)]\n",
    "diff_loss3 = []\n",
    "\n",
    "# gamma2 = sigmaL\n",
    "gamma2 = 0.2\n",
    "gamma3 = sigmaL\n",
    "# gamma3 = 0.005\n",
    "gamma3_vec = [gamma3]\n",
    "d3 = []\n",
    "\n",
    "for i in range(maxit):\n",
    "    A0 = multiplicative_step_a(X, G, P0, A0, force_simplex=force_simplex, lambda_L=lambda_L, L=L)\n",
    "    P0 = multiplicative_step_p(X, G, P0, A0)\n",
    "    loss0.append(loss(P0, A0))\n",
    "    \n",
    "    A1 = multiplicative_step_aq(X, G, P1, A1, force_simplex=force_simplex, lambda_L=lambda_L, L=L)\n",
    "    P1 = multiplicative_step_p(X, G, P1, A1)\n",
    "    loss1.append(loss(P1, A1))\n",
    "\n",
    "    \n",
    "    A2 = multiplicative_step_aq(X, G, P2, A2, force_simplex=force_simplex, lambda_L=lambda_L, L=L, sigmaL=gamma2)\n",
    "    diff_loss2.append(loss2[-1]-loss(P2, A2))\n",
    "\n",
    "    P2 = multiplicative_step_p(X, G, P2, A2)\n",
    "    loss2.append(loss(P2, A2))\n",
    "    A3_old = A3.copy()\n",
    "    A3 = multiplicative_step_aq(X, G, P3, A3, force_simplex=force_simplex, lambda_L=lambda_L, L=L, sigmaL=gamma3)\n",
    "    d3.append(diff_surrogate(A3_old, A3, sigmaL=gamma3))\n",
    "    diff_loss3.append(d3)\n",
    "    if d3[-1]>0:\n",
    "        gamma3 = gamma3 / 1.2\n",
    "    else:\n",
    "        gamma3 = gamma3 * 1.5\n",
    "    gamma3_vec.append(gamma3)\n",
    "        \n",
    "    P3 = multiplicative_step_p(X, G, P3, A3)\n",
    "    loss3.append(loss(P3, A3))\n",
    "    "
   ],
   "outputs": [],
   "metadata": {}
  },
  {
   "cell_type": "code",
   "execution_count": null,
   "source": [
    "gamma3"
   ],
   "outputs": [],
   "metadata": {}
  },
  {
   "cell_type": "code",
   "execution_count": null,
   "source": [
    "for i in range(10*maxit):\n",
    "    A2 = multiplicative_step_aq(X, G, P2, A2, force_simplex=force_simplex, lambda_L=lambda_L, L=L, sigmaL=gamma2)\n",
    "    P2 = multiplicative_step_p(X, G, P2, A2)\n",
    "\n",
    "l_infty = loss(P2, A2)"
   ],
   "outputs": [],
   "metadata": {}
  },
  {
   "cell_type": "code",
   "execution_count": null,
   "source": [
    "iterations = np.arange(maxit+1)+1\n",
    "plt.plot(iterations, np.array(loss0)-l_infty, \"kx-\", label=\"KL surrogate\")\n",
    "plt.plot(iterations, np.array(loss1)-l_infty, \"bx-\", label=\"L2 surrogate - theoretical step\")\n",
    "plt.plot(iterations, np.array(loss2)-l_infty, \"rx-\", label=\"L2 surrogate - optimal fixed step\")\n",
    "plt.plot(iterations, np.array(loss3)-l_infty, \"gx-\", label=\"L2 surrogate - linesearch\")\n",
    "plt.yscale(\"log\")\n",
    "plt.xscale(\"log\")\n",
    "plt.legend()\n"
   ],
   "outputs": [],
   "metadata": {}
  },
  {
   "cell_type": "code",
   "execution_count": null,
   "source": [
    "plt.plot(gamma3_vec, \".-\")\n",
    "plt.yscale(\"log\")\n",
    "plt.title(\"Evolution of the step size\")\n"
   ],
   "outputs": [],
   "metadata": {}
  },
  {
   "cell_type": "code",
   "execution_count": null,
   "source": [
    "gamma3"
   ],
   "outputs": [],
   "metadata": {}
  },
  {
   "cell_type": "code",
   "execution_count": null,
   "source": [
    "def f(x, a, b, c):\n",
    "    v = x + b\n",
    "    return v - np.sqrt( v**2 + 4*a*c) +2*a \n",
    "p = 1\n",
    "x = np.arange(-2,2, 0.1)\n",
    "a = np.random.rand(p)\n",
    "a = 0.5\n",
    "b = np.random.rand(p)\n",
    "c = np.random.rand(p)\n",
    "plt.plot(x, f(x,a,b,c))\n",
    "plt.plot(x, np.zeros_like(x))"
   ],
   "outputs": [],
   "metadata": {}
  },
  {
   "cell_type": "code",
   "execution_count": null,
   "metadata": {},
   "outputs": [],
   "source": []
  },
  {
   "cell_type": "code",
   "execution_count": 3,
   "metadata": {},
   "outputs": [],
   "source": [
    "l = 10\n",
    "k = 100\n",
    "p = 200\n",
    "c = 3\n",
    "n_poisson=200\n",
    "E0 = 150"
   ]
  },
  {
   "cell_type": "code",
   "execution_count": 4,
   "metadata": {},
   "outputs": [],
   "source": [
    "A = np.random.rand(c,p)\n",
    "A = A/np.sum(A, axis=0, keepdims=True)\n",
    "G1 = np.random.rand(k, l-2)\n",
    "E = np.arange(1,k+1,1)*E0/k\n",
    "t1 = (E0-E) / E \n",
    "t2 = (E0-E)**2 /E /E0\n",
    "G2 = np.array([t1,t2]).T\n",
    "G = np.concatenate([G1,G2], axis=1)\n",
    "P = np.random.rand(l,c)\n",
    "GP = G @ P"
   ]
  },
  {
   "cell_type": "code",
   "execution_count": 5,
   "metadata": {},
   "outputs": [
    {
     "output_type": "display_data",
     "data": {
      "text/plain": "<Figure size 432x288 with 1 Axes>",
      "image/svg+xml": "<?xml version=\"1.0\" encoding=\"utf-8\" standalone=\"no\"?>\n<!DOCTYPE svg PUBLIC \"-//W3C//DTD SVG 1.1//EN\"\n  \"http://www.w3.org/Graphics/SVG/1.1/DTD/svg11.dtd\">\n<svg height=\"248.518125pt\" version=\"1.1\" viewBox=\"0 0 379.7 248.518125\" width=\"379.7pt\" xmlns=\"http://www.w3.org/2000/svg\" xmlns:xlink=\"http://www.w3.org/1999/xlink\">\n <metadata>\n  <rdf:RDF xmlns:cc=\"http://creativecommons.org/ns#\" xmlns:dc=\"http://purl.org/dc/elements/1.1/\" xmlns:rdf=\"http://www.w3.org/1999/02/22-rdf-syntax-ns#\">\n   <cc:Work>\n    <dc:type rdf:resource=\"http://purl.org/dc/dcmitype/StillImage\"/>\n    <dc:date>2021-09-06T10:34:10.393964</dc:date>\n    <dc:format>image/svg+xml</dc:format>\n    <dc:creator>\n     <cc:Agent>\n      <dc:title>Matplotlib v3.4.2, https://matplotlib.org/</dc:title>\n     </cc:Agent>\n    </dc:creator>\n   </cc:Work>\n  </rdf:RDF>\n </metadata>\n <defs>\n  <style type=\"text/css\">*{stroke-linecap:butt;stroke-linejoin:round;}</style>\n </defs>\n <g id=\"figure_1\">\n  <g id=\"patch_1\">\n   <path d=\"M 0 248.518125 \nL 379.7 248.518125 \nL 379.7 0 \nL 0 0 \nz\n\" style=\"fill:none;\"/>\n  </g>\n  <g id=\"axes_1\">\n   <g id=\"patch_2\">\n    <path d=\"M 37.7 224.64 \nL 372.5 224.64 \nL 372.5 7.2 \nL 37.7 7.2 \nz\n\" style=\"fill:#ffffff;\"/>\n   </g>\n   <g id=\"matplotlib.axis_1\">\n    <g id=\"xtick_1\">\n     <g id=\"line2d_1\">\n      <defs>\n       <path d=\"M 0 0 \nL 0 3.5 \n\" id=\"mc436e252fa\" style=\"stroke:#000000;stroke-width:0.8;\"/>\n      </defs>\n      <g>\n       <use style=\"stroke:#000000;stroke-width:0.8;\" x=\"52.918182\" xlink:href=\"#mc436e252fa\" y=\"224.64\"/>\n      </g>\n     </g>\n     <g id=\"text_1\">\n      <!-- 0 -->\n      <g transform=\"translate(49.736932 239.238437)scale(0.1 -0.1)\">\n       <defs>\n        <path d=\"M 2034 4250 \nQ 1547 4250 1301 3770 \nQ 1056 3291 1056 2328 \nQ 1056 1369 1301 889 \nQ 1547 409 2034 409 \nQ 2525 409 2770 889 \nQ 3016 1369 3016 2328 \nQ 3016 3291 2770 3770 \nQ 2525 4250 2034 4250 \nz\nM 2034 4750 \nQ 2819 4750 3233 4129 \nQ 3647 3509 3647 2328 \nQ 3647 1150 3233 529 \nQ 2819 -91 2034 -91 \nQ 1250 -91 836 529 \nQ 422 1150 422 2328 \nQ 422 3509 836 4129 \nQ 1250 4750 2034 4750 \nz\n\" id=\"DejaVuSans-30\" transform=\"scale(0.015625)\"/>\n       </defs>\n       <use xlink:href=\"#DejaVuSans-30\"/>\n      </g>\n     </g>\n    </g>\n    <g id=\"xtick_2\">\n     <g id=\"line2d_2\">\n      <g>\n       <use style=\"stroke:#000000;stroke-width:0.8;\" x=\"114.405785\" xlink:href=\"#mc436e252fa\" y=\"224.64\"/>\n      </g>\n     </g>\n     <g id=\"text_2\">\n      <!-- 20 -->\n      <g transform=\"translate(108.043285 239.238437)scale(0.1 -0.1)\">\n       <defs>\n        <path d=\"M 1228 531 \nL 3431 531 \nL 3431 0 \nL 469 0 \nL 469 531 \nQ 828 903 1448 1529 \nQ 2069 2156 2228 2338 \nQ 2531 2678 2651 2914 \nQ 2772 3150 2772 3378 \nQ 2772 3750 2511 3984 \nQ 2250 4219 1831 4219 \nQ 1534 4219 1204 4116 \nQ 875 4013 500 3803 \nL 500 4441 \nQ 881 4594 1212 4672 \nQ 1544 4750 1819 4750 \nQ 2544 4750 2975 4387 \nQ 3406 4025 3406 3419 \nQ 3406 3131 3298 2873 \nQ 3191 2616 2906 2266 \nQ 2828 2175 2409 1742 \nQ 1991 1309 1228 531 \nz\n\" id=\"DejaVuSans-32\" transform=\"scale(0.015625)\"/>\n       </defs>\n       <use xlink:href=\"#DejaVuSans-32\"/>\n       <use x=\"63.623047\" xlink:href=\"#DejaVuSans-30\"/>\n      </g>\n     </g>\n    </g>\n    <g id=\"xtick_3\">\n     <g id=\"line2d_3\">\n      <g>\n       <use style=\"stroke:#000000;stroke-width:0.8;\" x=\"175.893388\" xlink:href=\"#mc436e252fa\" y=\"224.64\"/>\n      </g>\n     </g>\n     <g id=\"text_3\">\n      <!-- 40 -->\n      <g transform=\"translate(169.530888 239.238437)scale(0.1 -0.1)\">\n       <defs>\n        <path d=\"M 2419 4116 \nL 825 1625 \nL 2419 1625 \nL 2419 4116 \nz\nM 2253 4666 \nL 3047 4666 \nL 3047 1625 \nL 3713 1625 \nL 3713 1100 \nL 3047 1100 \nL 3047 0 \nL 2419 0 \nL 2419 1100 \nL 313 1100 \nL 313 1709 \nL 2253 4666 \nz\n\" id=\"DejaVuSans-34\" transform=\"scale(0.015625)\"/>\n       </defs>\n       <use xlink:href=\"#DejaVuSans-34\"/>\n       <use x=\"63.623047\" xlink:href=\"#DejaVuSans-30\"/>\n      </g>\n     </g>\n    </g>\n    <g id=\"xtick_4\">\n     <g id=\"line2d_4\">\n      <g>\n       <use style=\"stroke:#000000;stroke-width:0.8;\" x=\"237.380992\" xlink:href=\"#mc436e252fa\" y=\"224.64\"/>\n      </g>\n     </g>\n     <g id=\"text_4\">\n      <!-- 60 -->\n      <g transform=\"translate(231.018492 239.238437)scale(0.1 -0.1)\">\n       <defs>\n        <path d=\"M 2113 2584 \nQ 1688 2584 1439 2293 \nQ 1191 2003 1191 1497 \nQ 1191 994 1439 701 \nQ 1688 409 2113 409 \nQ 2538 409 2786 701 \nQ 3034 994 3034 1497 \nQ 3034 2003 2786 2293 \nQ 2538 2584 2113 2584 \nz\nM 3366 4563 \nL 3366 3988 \nQ 3128 4100 2886 4159 \nQ 2644 4219 2406 4219 \nQ 1781 4219 1451 3797 \nQ 1122 3375 1075 2522 \nQ 1259 2794 1537 2939 \nQ 1816 3084 2150 3084 \nQ 2853 3084 3261 2657 \nQ 3669 2231 3669 1497 \nQ 3669 778 3244 343 \nQ 2819 -91 2113 -91 \nQ 1303 -91 875 529 \nQ 447 1150 447 2328 \nQ 447 3434 972 4092 \nQ 1497 4750 2381 4750 \nQ 2619 4750 2861 4703 \nQ 3103 4656 3366 4563 \nz\n\" id=\"DejaVuSans-36\" transform=\"scale(0.015625)\"/>\n       </defs>\n       <use xlink:href=\"#DejaVuSans-36\"/>\n       <use x=\"63.623047\" xlink:href=\"#DejaVuSans-30\"/>\n      </g>\n     </g>\n    </g>\n    <g id=\"xtick_5\">\n     <g id=\"line2d_5\">\n      <g>\n       <use style=\"stroke:#000000;stroke-width:0.8;\" x=\"298.868595\" xlink:href=\"#mc436e252fa\" y=\"224.64\"/>\n      </g>\n     </g>\n     <g id=\"text_5\">\n      <!-- 80 -->\n      <g transform=\"translate(292.506095 239.238437)scale(0.1 -0.1)\">\n       <defs>\n        <path d=\"M 2034 2216 \nQ 1584 2216 1326 1975 \nQ 1069 1734 1069 1313 \nQ 1069 891 1326 650 \nQ 1584 409 2034 409 \nQ 2484 409 2743 651 \nQ 3003 894 3003 1313 \nQ 3003 1734 2745 1975 \nQ 2488 2216 2034 2216 \nz\nM 1403 2484 \nQ 997 2584 770 2862 \nQ 544 3141 544 3541 \nQ 544 4100 942 4425 \nQ 1341 4750 2034 4750 \nQ 2731 4750 3128 4425 \nQ 3525 4100 3525 3541 \nQ 3525 3141 3298 2862 \nQ 3072 2584 2669 2484 \nQ 3125 2378 3379 2068 \nQ 3634 1759 3634 1313 \nQ 3634 634 3220 271 \nQ 2806 -91 2034 -91 \nQ 1263 -91 848 271 \nQ 434 634 434 1313 \nQ 434 1759 690 2068 \nQ 947 2378 1403 2484 \nz\nM 1172 3481 \nQ 1172 3119 1398 2916 \nQ 1625 2713 2034 2713 \nQ 2441 2713 2670 2916 \nQ 2900 3119 2900 3481 \nQ 2900 3844 2670 4047 \nQ 2441 4250 2034 4250 \nQ 1625 4250 1398 4047 \nQ 1172 3844 1172 3481 \nz\n\" id=\"DejaVuSans-38\" transform=\"scale(0.015625)\"/>\n       </defs>\n       <use xlink:href=\"#DejaVuSans-38\"/>\n       <use x=\"63.623047\" xlink:href=\"#DejaVuSans-30\"/>\n      </g>\n     </g>\n    </g>\n    <g id=\"xtick_6\">\n     <g id=\"line2d_6\">\n      <g>\n       <use style=\"stroke:#000000;stroke-width:0.8;\" x=\"360.356198\" xlink:href=\"#mc436e252fa\" y=\"224.64\"/>\n      </g>\n     </g>\n     <g id=\"text_6\">\n      <!-- 100 -->\n      <g transform=\"translate(350.812448 239.238437)scale(0.1 -0.1)\">\n       <defs>\n        <path d=\"M 794 531 \nL 1825 531 \nL 1825 4091 \nL 703 3866 \nL 703 4441 \nL 1819 4666 \nL 2450 4666 \nL 2450 531 \nL 3481 531 \nL 3481 0 \nL 794 0 \nL 794 531 \nz\n\" id=\"DejaVuSans-31\" transform=\"scale(0.015625)\"/>\n       </defs>\n       <use xlink:href=\"#DejaVuSans-31\"/>\n       <use x=\"63.623047\" xlink:href=\"#DejaVuSans-30\"/>\n       <use x=\"127.246094\" xlink:href=\"#DejaVuSans-30\"/>\n      </g>\n     </g>\n    </g>\n   </g>\n   <g id=\"matplotlib.axis_2\">\n    <g id=\"ytick_1\">\n     <g id=\"line2d_7\">\n      <defs>\n       <path d=\"M 0 0 \nL -3.5 0 \n\" id=\"m2ef9f87140\" style=\"stroke:#000000;stroke-width:0.8;\"/>\n      </defs>\n      <g>\n       <use style=\"stroke:#000000;stroke-width:0.8;\" x=\"37.7\" xlink:href=\"#m2ef9f87140\" y=\"214.900374\"/>\n      </g>\n     </g>\n     <g id=\"text_7\">\n      <!-- $\\mathdefault{10^{-4}}$ -->\n      <g transform=\"translate(7.2 218.699592)scale(0.1 -0.1)\">\n       <defs>\n        <path d=\"M 678 2272 \nL 4684 2272 \nL 4684 1741 \nL 678 1741 \nL 678 2272 \nz\n\" id=\"DejaVuSans-2212\" transform=\"scale(0.015625)\"/>\n       </defs>\n       <use transform=\"translate(0 0.684375)\" xlink:href=\"#DejaVuSans-31\"/>\n       <use transform=\"translate(63.623047 0.684375)\" xlink:href=\"#DejaVuSans-30\"/>\n       <use transform=\"translate(128.203125 38.965625)scale(0.7)\" xlink:href=\"#DejaVuSans-2212\"/>\n       <use transform=\"translate(186.855469 38.965625)scale(0.7)\" xlink:href=\"#DejaVuSans-34\"/>\n      </g>\n     </g>\n    </g>\n    <g id=\"ytick_2\">\n     <g id=\"line2d_8\">\n      <g>\n       <use style=\"stroke:#000000;stroke-width:0.8;\" x=\"37.7\" xlink:href=\"#m2ef9f87140\" y=\"181.906916\"/>\n      </g>\n     </g>\n     <g id=\"text_8\">\n      <!-- $\\mathdefault{10^{-3}}$ -->\n      <g transform=\"translate(7.2 185.706135)scale(0.1 -0.1)\">\n       <defs>\n        <path d=\"M 2597 2516 \nQ 3050 2419 3304 2112 \nQ 3559 1806 3559 1356 \nQ 3559 666 3084 287 \nQ 2609 -91 1734 -91 \nQ 1441 -91 1130 -33 \nQ 819 25 488 141 \nL 488 750 \nQ 750 597 1062 519 \nQ 1375 441 1716 441 \nQ 2309 441 2620 675 \nQ 2931 909 2931 1356 \nQ 2931 1769 2642 2001 \nQ 2353 2234 1838 2234 \nL 1294 2234 \nL 1294 2753 \nL 1863 2753 \nQ 2328 2753 2575 2939 \nQ 2822 3125 2822 3475 \nQ 2822 3834 2567 4026 \nQ 2313 4219 1838 4219 \nQ 1578 4219 1281 4162 \nQ 984 4106 628 3988 \nL 628 4550 \nQ 988 4650 1302 4700 \nQ 1616 4750 1894 4750 \nQ 2613 4750 3031 4423 \nQ 3450 4097 3450 3541 \nQ 3450 3153 3228 2886 \nQ 3006 2619 2597 2516 \nz\n\" id=\"DejaVuSans-33\" transform=\"scale(0.015625)\"/>\n       </defs>\n       <use transform=\"translate(0 0.765625)\" xlink:href=\"#DejaVuSans-31\"/>\n       <use transform=\"translate(63.623047 0.765625)\" xlink:href=\"#DejaVuSans-30\"/>\n       <use transform=\"translate(128.203125 39.046875)scale(0.7)\" xlink:href=\"#DejaVuSans-2212\"/>\n       <use transform=\"translate(186.855469 39.046875)scale(0.7)\" xlink:href=\"#DejaVuSans-33\"/>\n      </g>\n     </g>\n    </g>\n    <g id=\"ytick_3\">\n     <g id=\"line2d_9\">\n      <g>\n       <use style=\"stroke:#000000;stroke-width:0.8;\" x=\"37.7\" xlink:href=\"#m2ef9f87140\" y=\"148.913458\"/>\n      </g>\n     </g>\n     <g id=\"text_9\">\n      <!-- $\\mathdefault{10^{-2}}$ -->\n      <g transform=\"translate(7.2 152.712677)scale(0.1 -0.1)\">\n       <use transform=\"translate(0 0.765625)\" xlink:href=\"#DejaVuSans-31\"/>\n       <use transform=\"translate(63.623047 0.765625)\" xlink:href=\"#DejaVuSans-30\"/>\n       <use transform=\"translate(128.203125 39.046875)scale(0.7)\" xlink:href=\"#DejaVuSans-2212\"/>\n       <use transform=\"translate(186.855469 39.046875)scale(0.7)\" xlink:href=\"#DejaVuSans-32\"/>\n      </g>\n     </g>\n    </g>\n    <g id=\"ytick_4\">\n     <g id=\"line2d_10\">\n      <g>\n       <use style=\"stroke:#000000;stroke-width:0.8;\" x=\"37.7\" xlink:href=\"#m2ef9f87140\" y=\"115.92\"/>\n      </g>\n     </g>\n     <g id=\"text_10\">\n      <!-- $\\mathdefault{10^{-1}}$ -->\n      <g transform=\"translate(7.2 119.719219)scale(0.1 -0.1)\">\n       <use transform=\"translate(0 0.684375)\" xlink:href=\"#DejaVuSans-31\"/>\n       <use transform=\"translate(63.623047 0.684375)\" xlink:href=\"#DejaVuSans-30\"/>\n       <use transform=\"translate(128.203125 38.965625)scale(0.7)\" xlink:href=\"#DejaVuSans-2212\"/>\n       <use transform=\"translate(186.855469 38.965625)scale(0.7)\" xlink:href=\"#DejaVuSans-31\"/>\n      </g>\n     </g>\n    </g>\n    <g id=\"ytick_5\">\n     <g id=\"line2d_11\">\n      <g>\n       <use style=\"stroke:#000000;stroke-width:0.8;\" x=\"37.7\" xlink:href=\"#m2ef9f87140\" y=\"82.926542\"/>\n      </g>\n     </g>\n     <g id=\"text_11\">\n      <!-- $\\mathdefault{10^{0}}$ -->\n      <g transform=\"translate(13.1 86.725761)scale(0.1 -0.1)\">\n       <use transform=\"translate(0 0.765625)\" xlink:href=\"#DejaVuSans-31\"/>\n       <use transform=\"translate(63.623047 0.765625)\" xlink:href=\"#DejaVuSans-30\"/>\n       <use transform=\"translate(128.203125 39.046875)scale(0.7)\" xlink:href=\"#DejaVuSans-30\"/>\n      </g>\n     </g>\n    </g>\n    <g id=\"ytick_6\">\n     <g id=\"line2d_12\">\n      <g>\n       <use style=\"stroke:#000000;stroke-width:0.8;\" x=\"37.7\" xlink:href=\"#m2ef9f87140\" y=\"49.933084\"/>\n      </g>\n     </g>\n     <g id=\"text_12\">\n      <!-- $\\mathdefault{10^{1}}$ -->\n      <g transform=\"translate(13.1 53.732303)scale(0.1 -0.1)\">\n       <use transform=\"translate(0 0.684375)\" xlink:href=\"#DejaVuSans-31\"/>\n       <use transform=\"translate(63.623047 0.684375)\" xlink:href=\"#DejaVuSans-30\"/>\n       <use transform=\"translate(128.203125 38.965625)scale(0.7)\" xlink:href=\"#DejaVuSans-31\"/>\n      </g>\n     </g>\n    </g>\n    <g id=\"ytick_7\">\n     <g id=\"line2d_13\">\n      <g>\n       <use style=\"stroke:#000000;stroke-width:0.8;\" x=\"37.7\" xlink:href=\"#m2ef9f87140\" y=\"16.939626\"/>\n      </g>\n     </g>\n     <g id=\"text_13\">\n      <!-- $\\mathdefault{10^{2}}$ -->\n      <g transform=\"translate(13.1 20.738845)scale(0.1 -0.1)\">\n       <use transform=\"translate(0 0.765625)\" xlink:href=\"#DejaVuSans-31\"/>\n       <use transform=\"translate(63.623047 0.765625)\" xlink:href=\"#DejaVuSans-30\"/>\n       <use transform=\"translate(128.203125 39.046875)scale(0.7)\" xlink:href=\"#DejaVuSans-32\"/>\n      </g>\n     </g>\n    </g>\n    <g id=\"ytick_8\">\n     <g id=\"line2d_14\">\n      <defs>\n       <path d=\"M 0 0 \nL -2 0 \n\" id=\"m54b7c57143\" style=\"stroke:#000000;stroke-width:0.6;\"/>\n      </defs>\n      <g>\n       <use style=\"stroke:#000000;stroke-width:0.6;\" x=\"37.7\" xlink:href=\"#m54b7c57143\" y=\"222.219931\"/>\n      </g>\n     </g>\n    </g>\n    <g id=\"ytick_9\">\n     <g id=\"line2d_15\">\n      <g>\n       <use style=\"stroke:#000000;stroke-width:0.6;\" x=\"37.7\" xlink:href=\"#m54b7c57143\" y=\"220.011125\"/>\n      </g>\n     </g>\n    </g>\n    <g id=\"ytick_10\">\n     <g id=\"line2d_16\">\n      <g>\n       <use style=\"stroke:#000000;stroke-width:0.6;\" x=\"37.7\" xlink:href=\"#m54b7c57143\" y=\"218.09777\"/>\n      </g>\n     </g>\n    </g>\n    <g id=\"ytick_11\">\n     <g id=\"line2d_17\">\n      <g>\n       <use style=\"stroke:#000000;stroke-width:0.6;\" x=\"37.7\" xlink:href=\"#m54b7c57143\" y=\"216.410071\"/>\n      </g>\n     </g>\n    </g>\n    <g id=\"ytick_12\">\n     <g id=\"line2d_18\">\n      <g>\n       <use style=\"stroke:#000000;stroke-width:0.6;\" x=\"37.7\" xlink:href=\"#m54b7c57143\" y=\"204.968353\"/>\n      </g>\n     </g>\n    </g>\n    <g id=\"ytick_13\">\n     <g id=\"line2d_19\">\n      <g>\n       <use style=\"stroke:#000000;stroke-width:0.6;\" x=\"37.7\" xlink:href=\"#m54b7c57143\" y=\"199.158494\"/>\n      </g>\n     </g>\n    </g>\n    <g id=\"ytick_14\">\n     <g id=\"line2d_20\">\n      <g>\n       <use style=\"stroke:#000000;stroke-width:0.6;\" x=\"37.7\" xlink:href=\"#m54b7c57143\" y=\"195.036333\"/>\n      </g>\n     </g>\n    </g>\n    <g id=\"ytick_15\">\n     <g id=\"line2d_21\">\n      <g>\n       <use style=\"stroke:#000000;stroke-width:0.6;\" x=\"37.7\" xlink:href=\"#m54b7c57143\" y=\"191.838936\"/>\n      </g>\n     </g>\n    </g>\n    <g id=\"ytick_16\">\n     <g id=\"line2d_22\">\n      <g>\n       <use style=\"stroke:#000000;stroke-width:0.6;\" x=\"37.7\" xlink:href=\"#m54b7c57143\" y=\"189.226473\"/>\n      </g>\n     </g>\n    </g>\n    <g id=\"ytick_17\">\n     <g id=\"line2d_23\">\n      <g>\n       <use style=\"stroke:#000000;stroke-width:0.6;\" x=\"37.7\" xlink:href=\"#m54b7c57143\" y=\"187.017667\"/>\n      </g>\n     </g>\n    </g>\n    <g id=\"ytick_18\">\n     <g id=\"line2d_24\">\n      <g>\n       <use style=\"stroke:#000000;stroke-width:0.6;\" x=\"37.7\" xlink:href=\"#m54b7c57143\" y=\"185.104312\"/>\n      </g>\n     </g>\n    </g>\n    <g id=\"ytick_19\">\n     <g id=\"line2d_25\">\n      <g>\n       <use style=\"stroke:#000000;stroke-width:0.6;\" x=\"37.7\" xlink:href=\"#m54b7c57143\" y=\"183.416614\"/>\n      </g>\n     </g>\n    </g>\n    <g id=\"ytick_20\">\n     <g id=\"line2d_26\">\n      <g>\n       <use style=\"stroke:#000000;stroke-width:0.6;\" x=\"37.7\" xlink:href=\"#m54b7c57143\" y=\"171.974895\"/>\n      </g>\n     </g>\n    </g>\n    <g id=\"ytick_21\">\n     <g id=\"line2d_27\">\n      <g>\n       <use style=\"stroke:#000000;stroke-width:0.6;\" x=\"37.7\" xlink:href=\"#m54b7c57143\" y=\"166.165036\"/>\n      </g>\n     </g>\n    </g>\n    <g id=\"ytick_22\">\n     <g id=\"line2d_28\">\n      <g>\n       <use style=\"stroke:#000000;stroke-width:0.6;\" x=\"37.7\" xlink:href=\"#m54b7c57143\" y=\"162.042875\"/>\n      </g>\n     </g>\n    </g>\n    <g id=\"ytick_23\">\n     <g id=\"line2d_29\">\n      <g>\n       <use style=\"stroke:#000000;stroke-width:0.6;\" x=\"37.7\" xlink:href=\"#m54b7c57143\" y=\"158.845478\"/>\n      </g>\n     </g>\n    </g>\n    <g id=\"ytick_24\">\n     <g id=\"line2d_30\">\n      <g>\n       <use style=\"stroke:#000000;stroke-width:0.6;\" x=\"37.7\" xlink:href=\"#m54b7c57143\" y=\"156.233015\"/>\n      </g>\n     </g>\n    </g>\n    <g id=\"ytick_25\">\n     <g id=\"line2d_31\">\n      <g>\n       <use style=\"stroke:#000000;stroke-width:0.6;\" x=\"37.7\" xlink:href=\"#m54b7c57143\" y=\"154.024209\"/>\n      </g>\n     </g>\n    </g>\n    <g id=\"ytick_26\">\n     <g id=\"line2d_32\">\n      <g>\n       <use style=\"stroke:#000000;stroke-width:0.6;\" x=\"37.7\" xlink:href=\"#m54b7c57143\" y=\"152.110854\"/>\n      </g>\n     </g>\n    </g>\n    <g id=\"ytick_27\">\n     <g id=\"line2d_33\">\n      <g>\n       <use style=\"stroke:#000000;stroke-width:0.6;\" x=\"37.7\" xlink:href=\"#m54b7c57143\" y=\"150.423156\"/>\n      </g>\n     </g>\n    </g>\n    <g id=\"ytick_28\">\n     <g id=\"line2d_34\">\n      <g>\n       <use style=\"stroke:#000000;stroke-width:0.6;\" x=\"37.7\" xlink:href=\"#m54b7c57143\" y=\"138.981437\"/>\n      </g>\n     </g>\n    </g>\n    <g id=\"ytick_29\">\n     <g id=\"line2d_35\">\n      <g>\n       <use style=\"stroke:#000000;stroke-width:0.6;\" x=\"37.7\" xlink:href=\"#m54b7c57143\" y=\"133.171578\"/>\n      </g>\n     </g>\n    </g>\n    <g id=\"ytick_30\">\n     <g id=\"line2d_36\">\n      <g>\n       <use style=\"stroke:#000000;stroke-width:0.6;\" x=\"37.7\" xlink:href=\"#m54b7c57143\" y=\"129.049417\"/>\n      </g>\n     </g>\n    </g>\n    <g id=\"ytick_31\">\n     <g id=\"line2d_37\">\n      <g>\n       <use style=\"stroke:#000000;stroke-width:0.6;\" x=\"37.7\" xlink:href=\"#m54b7c57143\" y=\"125.85202\"/>\n      </g>\n     </g>\n    </g>\n    <g id=\"ytick_32\">\n     <g id=\"line2d_38\">\n      <g>\n       <use style=\"stroke:#000000;stroke-width:0.6;\" x=\"37.7\" xlink:href=\"#m54b7c57143\" y=\"123.239557\"/>\n      </g>\n     </g>\n    </g>\n    <g id=\"ytick_33\">\n     <g id=\"line2d_39\">\n      <g>\n       <use style=\"stroke:#000000;stroke-width:0.6;\" x=\"37.7\" xlink:href=\"#m54b7c57143\" y=\"121.030751\"/>\n      </g>\n     </g>\n    </g>\n    <g id=\"ytick_34\">\n     <g id=\"line2d_40\">\n      <g>\n       <use style=\"stroke:#000000;stroke-width:0.6;\" x=\"37.7\" xlink:href=\"#m54b7c57143\" y=\"119.117396\"/>\n      </g>\n     </g>\n    </g>\n    <g id=\"ytick_35\">\n     <g id=\"line2d_41\">\n      <g>\n       <use style=\"stroke:#000000;stroke-width:0.6;\" x=\"37.7\" xlink:href=\"#m54b7c57143\" y=\"117.429698\"/>\n      </g>\n     </g>\n    </g>\n    <g id=\"ytick_36\">\n     <g id=\"line2d_42\">\n      <g>\n       <use style=\"stroke:#000000;stroke-width:0.6;\" x=\"37.7\" xlink:href=\"#m54b7c57143\" y=\"105.98798\"/>\n      </g>\n     </g>\n    </g>\n    <g id=\"ytick_37\">\n     <g id=\"line2d_43\">\n      <g>\n       <use style=\"stroke:#000000;stroke-width:0.6;\" x=\"37.7\" xlink:href=\"#m54b7c57143\" y=\"100.17812\"/>\n      </g>\n     </g>\n    </g>\n    <g id=\"ytick_38\">\n     <g id=\"line2d_44\">\n      <g>\n       <use style=\"stroke:#000000;stroke-width:0.6;\" x=\"37.7\" xlink:href=\"#m54b7c57143\" y=\"96.055959\"/>\n      </g>\n     </g>\n    </g>\n    <g id=\"ytick_39\">\n     <g id=\"line2d_45\">\n      <g>\n       <use style=\"stroke:#000000;stroke-width:0.6;\" x=\"37.7\" xlink:href=\"#m54b7c57143\" y=\"92.858563\"/>\n      </g>\n     </g>\n    </g>\n    <g id=\"ytick_40\">\n     <g id=\"line2d_46\">\n      <g>\n       <use style=\"stroke:#000000;stroke-width:0.6;\" x=\"37.7\" xlink:href=\"#m54b7c57143\" y=\"90.246099\"/>\n      </g>\n     </g>\n    </g>\n    <g id=\"ytick_41\">\n     <g id=\"line2d_47\">\n      <g>\n       <use style=\"stroke:#000000;stroke-width:0.6;\" x=\"37.7\" xlink:href=\"#m54b7c57143\" y=\"88.037293\"/>\n      </g>\n     </g>\n    </g>\n    <g id=\"ytick_42\">\n     <g id=\"line2d_48\">\n      <g>\n       <use style=\"stroke:#000000;stroke-width:0.6;\" x=\"37.7\" xlink:href=\"#m54b7c57143\" y=\"86.123939\"/>\n      </g>\n     </g>\n    </g>\n    <g id=\"ytick_43\">\n     <g id=\"line2d_49\">\n      <g>\n       <use style=\"stroke:#000000;stroke-width:0.6;\" x=\"37.7\" xlink:href=\"#m54b7c57143\" y=\"84.43624\"/>\n      </g>\n     </g>\n    </g>\n    <g id=\"ytick_44\">\n     <g id=\"line2d_50\">\n      <g>\n       <use style=\"stroke:#000000;stroke-width:0.6;\" x=\"37.7\" xlink:href=\"#m54b7c57143\" y=\"72.994522\"/>\n      </g>\n     </g>\n    </g>\n    <g id=\"ytick_45\">\n     <g id=\"line2d_51\">\n      <g>\n       <use style=\"stroke:#000000;stroke-width:0.6;\" x=\"37.7\" xlink:href=\"#m54b7c57143\" y=\"67.184662\"/>\n      </g>\n     </g>\n    </g>\n    <g id=\"ytick_46\">\n     <g id=\"line2d_52\">\n      <g>\n       <use style=\"stroke:#000000;stroke-width:0.6;\" x=\"37.7\" xlink:href=\"#m54b7c57143\" y=\"63.062501\"/>\n      </g>\n     </g>\n    </g>\n    <g id=\"ytick_47\">\n     <g id=\"line2d_53\">\n      <g>\n       <use style=\"stroke:#000000;stroke-width:0.6;\" x=\"37.7\" xlink:href=\"#m54b7c57143\" y=\"59.865105\"/>\n      </g>\n     </g>\n    </g>\n    <g id=\"ytick_48\">\n     <g id=\"line2d_54\">\n      <g>\n       <use style=\"stroke:#000000;stroke-width:0.6;\" x=\"37.7\" xlink:href=\"#m54b7c57143\" y=\"57.252642\"/>\n      </g>\n     </g>\n    </g>\n    <g id=\"ytick_49\">\n     <g id=\"line2d_55\">\n      <g>\n       <use style=\"stroke:#000000;stroke-width:0.6;\" x=\"37.7\" xlink:href=\"#m54b7c57143\" y=\"55.043836\"/>\n      </g>\n     </g>\n    </g>\n    <g id=\"ytick_50\">\n     <g id=\"line2d_56\">\n      <g>\n       <use style=\"stroke:#000000;stroke-width:0.6;\" x=\"37.7\" xlink:href=\"#m54b7c57143\" y=\"53.130481\"/>\n      </g>\n     </g>\n    </g>\n    <g id=\"ytick_51\">\n     <g id=\"line2d_57\">\n      <g>\n       <use style=\"stroke:#000000;stroke-width:0.6;\" x=\"37.7\" xlink:href=\"#m54b7c57143\" y=\"51.442782\"/>\n      </g>\n     </g>\n    </g>\n    <g id=\"ytick_52\">\n     <g id=\"line2d_58\">\n      <g>\n       <use style=\"stroke:#000000;stroke-width:0.6;\" x=\"37.7\" xlink:href=\"#m54b7c57143\" y=\"40.001064\"/>\n      </g>\n     </g>\n    </g>\n    <g id=\"ytick_53\">\n     <g id=\"line2d_59\">\n      <g>\n       <use style=\"stroke:#000000;stroke-width:0.6;\" x=\"37.7\" xlink:href=\"#m54b7c57143\" y=\"34.191204\"/>\n      </g>\n     </g>\n    </g>\n    <g id=\"ytick_54\">\n     <g id=\"line2d_60\">\n      <g>\n       <use style=\"stroke:#000000;stroke-width:0.6;\" x=\"37.7\" xlink:href=\"#m54b7c57143\" y=\"30.069043\"/>\n      </g>\n     </g>\n    </g>\n    <g id=\"ytick_55\">\n     <g id=\"line2d_61\">\n      <g>\n       <use style=\"stroke:#000000;stroke-width:0.6;\" x=\"37.7\" xlink:href=\"#m54b7c57143\" y=\"26.871647\"/>\n      </g>\n     </g>\n    </g>\n    <g id=\"ytick_56\">\n     <g id=\"line2d_62\">\n      <g>\n       <use style=\"stroke:#000000;stroke-width:0.6;\" x=\"37.7\" xlink:href=\"#m54b7c57143\" y=\"24.259184\"/>\n      </g>\n     </g>\n    </g>\n    <g id=\"ytick_57\">\n     <g id=\"line2d_63\">\n      <g>\n       <use style=\"stroke:#000000;stroke-width:0.6;\" x=\"37.7\" xlink:href=\"#m54b7c57143\" y=\"22.050378\"/>\n      </g>\n     </g>\n    </g>\n    <g id=\"ytick_58\">\n     <g id=\"line2d_64\">\n      <g>\n       <use style=\"stroke:#000000;stroke-width:0.6;\" x=\"37.7\" xlink:href=\"#m54b7c57143\" y=\"20.137023\"/>\n      </g>\n     </g>\n    </g>\n    <g id=\"ytick_59\">\n     <g id=\"line2d_65\">\n      <g>\n       <use style=\"stroke:#000000;stroke-width:0.6;\" x=\"37.7\" xlink:href=\"#m54b7c57143\" y=\"18.449324\"/>\n      </g>\n     </g>\n    </g>\n   </g>\n   <g id=\"line2d_66\">\n    <path clip-path=\"url(#p0d57ff2883)\" d=\"M 52.918182 17.083636 \nL 55.992562 27.161129 \nL 59.066942 33.117953 \nL 62.141322 37.388601 \nL 65.215702 40.736039 \nL 68.290083 43.500132 \nL 71.364463 45.862189 \nL 74.438843 47.930453 \nL 77.513223 49.774752 \nL 80.587603 51.442782 \nL 83.661983 52.968571 \nL 86.736364 54.377256 \nL 89.810744 55.687938 \nL 92.885124 56.915476 \nL 95.959504 58.071657 \nL 99.033884 59.165996 \nL 102.108264 60.206285 \nL 105.182645 61.198986 \nL 108.257025 62.149525 \nL 111.331405 63.062501 \nL 114.405785 63.941849 \nL 117.480165 64.790965 \nL 120.554545 65.6128 \nL 123.628926 66.40994 \nL 126.703306 67.184662 \nL 129.777686 67.938988 \nL 132.852066 68.674718 \nL 135.926446 69.393468 \nL 139.000826 70.096695 \nL 142.075207 70.785716 \nL 145.149587 71.461731 \nL 148.223967 72.125839 \nL 151.298347 72.779046 \nL 154.372727 73.422281 \nL 157.447107 74.056406 \nL 160.521488 74.68222 \nL 163.595868 75.300473 \nL 166.670248 75.911866 \nL 169.744628 76.51706 \nL 172.819008 77.116683 \nL 175.893388 77.711327 \nL 178.967769 78.301562 \nL 182.042149 78.887932 \nL 185.116529 79.470961 \nL 188.190909 80.051156 \nL 191.265289 80.629012 \nL 194.339669 81.205009 \nL 197.41405 81.77962 \nL 200.48843 82.353311 \nL 203.56281 82.926542 \nL 206.63719 83.499774 \nL 209.71157 84.073464 \nL 212.78595 84.648075 \nL 215.860331 85.224072 \nL 218.934711 85.801928 \nL 222.009091 86.382123 \nL 225.083471 86.965153 \nL 228.157851 87.551522 \nL 231.232231 88.141757 \nL 234.306612 88.736402 \nL 237.380992 89.336024 \nL 240.455372 89.941218 \nL 243.529752 90.552611 \nL 246.604132 91.170864 \nL 249.678512 91.796679 \nL 252.752893 92.430803 \nL 255.827273 93.074038 \nL 258.901653 93.727245 \nL 261.976033 94.391353 \nL 265.050413 95.067369 \nL 268.124793 95.75639 \nL 271.199174 96.459616 \nL 274.273554 97.178366 \nL 277.347934 97.914097 \nL 280.422314 98.668422 \nL 283.496694 99.443145 \nL 286.571074 100.240284 \nL 289.645455 101.06212 \nL 292.719835 101.911235 \nL 295.794215 102.790583 \nL 298.868595 103.703559 \nL 301.942975 104.654098 \nL 305.017355 105.6468 \nL 308.091736 106.687088 \nL 311.166116 107.781427 \nL 314.240496 108.937608 \nL 317.314876 110.165146 \nL 320.389256 111.475828 \nL 323.463636 112.884514 \nL 326.538017 114.410302 \nL 329.612397 116.078332 \nL 332.686777 117.922632 \nL 335.761157 119.990895 \nL 338.835537 122.352952 \nL 341.909917 125.117045 \nL 344.984298 128.464484 \nL 348.058678 132.735132 \nL 351.133058 138.691955 \nL 354.207438 148.769448 \nL 354.216845 249.518125 \n\" style=\"fill:none;stroke:#1f77b4;stroke-linecap:square;stroke-width:1.5;\"/>\n   </g>\n   <g id=\"line2d_67\">\n    <path clip-path=\"url(#p0d57ff2883)\" d=\"M 52.918182 17.227646 \nL 55.992562 27.450611 \nL 59.066942 33.554399 \nL 62.141322 37.973534 \nL 65.215702 41.471014 \nL 68.290083 44.386737 \nL 71.364463 46.902046 \nL 74.438843 49.125217 \nL 77.513223 51.126119 \nL 80.587603 52.95248 \nL 83.661983 54.638369 \nL 86.736364 56.208965 \nL 89.810744 57.683407 \nL 92.885124 59.076599 \nL 95.959504 60.400371 \nL 99.033884 61.664285 \nL 102.108264 62.876178 \nL 105.182645 64.042565 \nL 108.257025 65.168921 \nL 111.331405 66.259898 \nL 114.405785 67.319485 \nL 117.480165 68.351137 \nL 120.554545 69.357863 \nL 123.628926 70.342311 \nL 126.703306 71.306823 \nL 129.777686 72.253485 \nL 132.852066 73.184169 \nL 135.926446 74.100562 \nL 139.000826 75.004196 \nL 142.075207 75.896467 \nL 145.149587 76.778657 \nL 148.223967 77.651949 \nL 151.298347 78.517439 \nL 154.372727 79.376151 \nL 157.447107 80.229041 \nL 160.521488 81.077013 \nL 163.595868 81.920922 \nL 166.670248 82.761582 \nL 169.744628 83.599772 \nL 172.819008 84.43624 \nL 175.893388 85.271712 \nL 178.967769 86.106891 \nL 182.042149 86.942464 \nL 185.116529 87.779108 \nL 188.190909 88.617489 \nL 191.265289 89.458267 \nL 194.339669 90.302102 \nL 197.41405 91.149652 \nL 200.48843 92.001582 \nL 203.56281 92.858563 \nL 206.63719 93.721276 \nL 209.71157 94.590418 \nL 212.78595 95.466701 \nL 215.860331 96.350857 \nL 218.934711 97.243646 \nL 222.009091 98.145853 \nL 225.083471 99.058296 \nL 228.157851 99.981831 \nL 231.232231 100.917357 \nL 234.306612 101.865819 \nL 237.380992 102.828216 \nL 240.455372 103.80561 \nL 243.529752 104.799129 \nL 246.604132 105.809979 \nL 249.678512 106.83945 \nL 252.752893 107.888934 \nL 255.827273 108.959929 \nL 258.901653 110.054059 \nL 261.976033 111.173089 \nL 265.050413 112.318947 \nL 268.124793 113.493739 \nL 271.199174 114.699784 \nL 274.273554 115.939642 \nL 277.347934 117.216149 \nL 280.422314 118.532463 \nL 283.496694 119.892119 \nL 286.571074 121.29909 \nL 289.645455 122.757869 \nL 292.719835 124.273564 \nL 295.794215 125.85202 \nL 298.868595 127.499972 \nL 301.942975 129.225234 \nL 305.017355 131.036951 \nL 308.091736 132.945922 \nL 311.166116 134.965025 \nL 314.240496 137.109797 \nL 317.314876 139.399219 \nL 320.389256 141.856823 \nL 323.463636 144.512284 \nL 326.538017 147.40376 \nL 329.612397 150.581487 \nL 332.686777 154.113486 \nL 335.761157 158.095104 \nL 338.835537 162.665968 \nL 341.909917 168.042524 \nL 344.984298 174.587358 \nL 348.058678 182.980167 \nL 351.133058 194.746851 \nL 354.207438 214.756364 \nL 354.21069 249.518125 \n\" style=\"fill:none;stroke:#ff7f0e;stroke-linecap:square;stroke-width:1.5;\"/>\n   </g>\n   <g id=\"patch_3\">\n    <path d=\"M 37.7 224.64 \nL 37.7 7.2 \n\" style=\"fill:none;stroke:#000000;stroke-linecap:square;stroke-linejoin:miter;stroke-width:0.8;\"/>\n   </g>\n   <g id=\"patch_4\">\n    <path d=\"M 372.5 224.64 \nL 372.5 7.2 \n\" style=\"fill:none;stroke:#000000;stroke-linecap:square;stroke-linejoin:miter;stroke-width:0.8;\"/>\n   </g>\n   <g id=\"patch_5\">\n    <path d=\"M 37.7 224.64 \nL 372.5 224.64 \n\" style=\"fill:none;stroke:#000000;stroke-linecap:square;stroke-linejoin:miter;stroke-width:0.8;\"/>\n   </g>\n   <g id=\"patch_6\">\n    <path d=\"M 37.7 7.2 \nL 372.5 7.2 \n\" style=\"fill:none;stroke:#000000;stroke-linecap:square;stroke-linejoin:miter;stroke-width:0.8;\"/>\n   </g>\n   <g id=\"legend_1\">\n    <g id=\"patch_7\">\n     <path d=\"M 238.842188 44.55625 \nL 365.5 44.55625 \nQ 367.5 44.55625 367.5 42.55625 \nL 367.5 14.2 \nQ 367.5 12.2 365.5 12.2 \nL 238.842188 12.2 \nQ 236.842188 12.2 236.842188 14.2 \nL 236.842188 42.55625 \nQ 236.842188 44.55625 238.842188 44.55625 \nz\n\" style=\"fill:#ffffff;opacity:0.8;stroke:#cccccc;stroke-linejoin:miter;\"/>\n    </g>\n    <g id=\"line2d_68\">\n     <path d=\"M 240.842188 20.298437 \nL 260.842188 20.298437 \n\" style=\"fill:none;stroke:#1f77b4;stroke-linecap:square;stroke-width:1.5;\"/>\n    </g>\n    <g id=\"line2d_69\"/>\n    <g id=\"text_14\">\n     <!-- (E0-E) / E  -->\n     <g transform=\"translate(268.842188 23.798437)scale(0.1 -0.1)\">\n      <defs>\n       <path d=\"M 1984 4856 \nQ 1566 4138 1362 3434 \nQ 1159 2731 1159 2009 \nQ 1159 1288 1364 580 \nQ 1569 -128 1984 -844 \nL 1484 -844 \nQ 1016 -109 783 600 \nQ 550 1309 550 2009 \nQ 550 2706 781 3412 \nQ 1013 4119 1484 4856 \nL 1984 4856 \nz\n\" id=\"DejaVuSans-28\" transform=\"scale(0.015625)\"/>\n       <path d=\"M 628 4666 \nL 3578 4666 \nL 3578 4134 \nL 1259 4134 \nL 1259 2753 \nL 3481 2753 \nL 3481 2222 \nL 1259 2222 \nL 1259 531 \nL 3634 531 \nL 3634 0 \nL 628 0 \nL 628 4666 \nz\n\" id=\"DejaVuSans-45\" transform=\"scale(0.015625)\"/>\n       <path d=\"M 313 2009 \nL 1997 2009 \nL 1997 1497 \nL 313 1497 \nL 313 2009 \nz\n\" id=\"DejaVuSans-2d\" transform=\"scale(0.015625)\"/>\n       <path d=\"M 513 4856 \nL 1013 4856 \nQ 1481 4119 1714 3412 \nQ 1947 2706 1947 2009 \nQ 1947 1309 1714 600 \nQ 1481 -109 1013 -844 \nL 513 -844 \nQ 928 -128 1133 580 \nQ 1338 1288 1338 2009 \nQ 1338 2731 1133 3434 \nQ 928 4138 513 4856 \nz\n\" id=\"DejaVuSans-29\" transform=\"scale(0.015625)\"/>\n       <path id=\"DejaVuSans-20\" transform=\"scale(0.015625)\"/>\n       <path d=\"M 1625 4666 \nL 2156 4666 \nL 531 -594 \nL 0 -594 \nL 1625 4666 \nz\n\" id=\"DejaVuSans-2f\" transform=\"scale(0.015625)\"/>\n      </defs>\n      <use xlink:href=\"#DejaVuSans-28\"/>\n      <use x=\"39.013672\" xlink:href=\"#DejaVuSans-45\"/>\n      <use x=\"102.197266\" xlink:href=\"#DejaVuSans-30\"/>\n      <use x=\"165.820312\" xlink:href=\"#DejaVuSans-2d\"/>\n      <use x=\"201.904297\" xlink:href=\"#DejaVuSans-45\"/>\n      <use x=\"265.087891\" xlink:href=\"#DejaVuSans-29\"/>\n      <use x=\"304.101562\" xlink:href=\"#DejaVuSans-20\"/>\n      <use x=\"335.888672\" xlink:href=\"#DejaVuSans-2f\"/>\n      <use x=\"369.580078\" xlink:href=\"#DejaVuSans-20\"/>\n      <use x=\"401.367188\" xlink:href=\"#DejaVuSans-45\"/>\n      <use x=\"464.550781\" xlink:href=\"#DejaVuSans-20\"/>\n     </g>\n    </g>\n    <g id=\"line2d_70\">\n     <path d=\"M 240.842188 34.976562 \nL 260.842188 34.976562 \n\" style=\"fill:none;stroke:#ff7f0e;stroke-linecap:square;stroke-width:1.5;\"/>\n    </g>\n    <g id=\"line2d_71\"/>\n    <g id=\"text_15\">\n     <!-- (E0-E)**2 /(E0 *E )  -->\n     <g transform=\"translate(268.842188 38.476562)scale(0.1 -0.1)\">\n      <defs>\n       <path d=\"M 3009 3897 \nL 1888 3291 \nL 3009 2681 \nL 2828 2375 \nL 1778 3009 \nL 1778 1831 \nL 1422 1831 \nL 1422 3009 \nL 372 2375 \nL 191 2681 \nL 1313 3291 \nL 191 3897 \nL 372 4206 \nL 1422 3572 \nL 1422 4750 \nL 1778 4750 \nL 1778 3572 \nL 2828 4206 \nL 3009 3897 \nz\n\" id=\"DejaVuSans-2a\" transform=\"scale(0.015625)\"/>\n      </defs>\n      <use xlink:href=\"#DejaVuSans-28\"/>\n      <use x=\"39.013672\" xlink:href=\"#DejaVuSans-45\"/>\n      <use x=\"102.197266\" xlink:href=\"#DejaVuSans-30\"/>\n      <use x=\"165.820312\" xlink:href=\"#DejaVuSans-2d\"/>\n      <use x=\"201.904297\" xlink:href=\"#DejaVuSans-45\"/>\n      <use x=\"265.087891\" xlink:href=\"#DejaVuSans-29\"/>\n      <use x=\"304.101562\" xlink:href=\"#DejaVuSans-2a\"/>\n      <use x=\"354.101562\" xlink:href=\"#DejaVuSans-2a\"/>\n      <use x=\"404.101562\" xlink:href=\"#DejaVuSans-32\"/>\n      <use x=\"467.724609\" xlink:href=\"#DejaVuSans-20\"/>\n      <use x=\"499.511719\" xlink:href=\"#DejaVuSans-2f\"/>\n      <use x=\"533.203125\" xlink:href=\"#DejaVuSans-28\"/>\n      <use x=\"572.216797\" xlink:href=\"#DejaVuSans-45\"/>\n      <use x=\"635.400391\" xlink:href=\"#DejaVuSans-30\"/>\n      <use x=\"699.023438\" xlink:href=\"#DejaVuSans-20\"/>\n      <use x=\"730.810547\" xlink:href=\"#DejaVuSans-2a\"/>\n      <use x=\"780.810547\" xlink:href=\"#DejaVuSans-45\"/>\n      <use x=\"843.994141\" xlink:href=\"#DejaVuSans-20\"/>\n      <use x=\"875.78125\" xlink:href=\"#DejaVuSans-29\"/>\n      <use x=\"914.794922\" xlink:href=\"#DejaVuSans-20\"/>\n     </g>\n    </g>\n   </g>\n  </g>\n </g>\n <defs>\n  <clipPath id=\"p0d57ff2883\">\n   <rect height=\"217.44\" width=\"334.8\" x=\"37.7\" y=\"7.2\"/>\n  </clipPath>\n </defs>\n</svg>\n",
      "image/png": "[encoded data removed]"
     },
     "metadata": {
      "needs_background": "light"
     }
    }
   ],
   "source": [
    "plt.plot(G2)\n",
    "# plt.legend([\"(E0-E) / E \", \"(E0-E)**2 /E \"])\n",
    "plt.legend([\"(E0-E) / E \", \"(E0-E)**2 /(E0 *E ) \"])\n",
    "plt.yscale(\"log\")"
   ]
  },
  {
   "cell_type": "code",
   "execution_count": 6,
   "metadata": {},
   "outputs": [],
   "source": [
    "def create_toy_problem_G_constraint(l = 10, k = 100, p = 200, c = 3, n_poisson=200, E0 = 30, force_simplex=True):\n",
    "\n",
    "    A = np.random.rand(c,p)\n",
    "    if force_simplex:\n",
    "        A = A/np.sum(A, axis=0, keepdims=True)\n",
    "    assert(l>=2)\n",
    "    G1 = np.random.rand(k, l-2)\n",
    "    E = np.arange(1,k+1,1)*E0/k\n",
    "    t1 = (E0-E) / E \n",
    "    t2 = (E0-E)**2 /E /E0\n",
    "    G2 = np.array([t1,t2]).T\n",
    "    G = np.concatenate([G1,G2], axis=1)\n",
    "    P = np.random.rand(l,c)\n",
    "    P[-1,-1] = - P[-2,-1] / 2\n",
    "    GP = G @ P\n",
    "    X = GP @ A\n",
    "\n",
    "    Xdot = 1/n_poisson * np.random.poisson(n_poisson * X)\n",
    "\n",
    "    return G, P, A, X, Xdot"
   ]
  },
  {
   "cell_type": "code",
   "execution_count": 7,
   "source": [
    "G, P, A, X, Xdot = create_toy_problem_G_constraint(l = 2, k = 100, p = 200, c = 1, n_poisson=200, E0 = 30, force_simplex=True)"
   ],
   "outputs": [],
   "metadata": {}
  },
  {
   "cell_type": "code",
   "execution_count": 8,
   "metadata": {},
   "outputs": [],
   "source": [
    "assert(((G @ P)>=0).all() == True)"
   ]
  },
  {
   "cell_type": "code",
   "execution_count": 9,
   "metadata": {},
   "outputs": [],
   "source": [
    "P0 = np.array([[1,-1.03]]).T\n",
    "assert(((G @ P0)>=0).all() == False)\n",
    "\n",
    "P0 = np.array([[1,-1]]).T\n",
    "assert(((G @ P0)>=0).all() == True)\n",
    "\n",
    "P0 = np.array([[-0.03,1]]).T\n",
    "assert(((G @ P0)>=0).all() == False)"
   ]
  },
  {
   "cell_type": "code",
   "execution_count": 10,
   "metadata": {},
   "outputs": [
    {
     "output_type": "execute_result",
     "data": {
      "text/plain": [
       "(2, 1)"
      ]
     },
     "metadata": {},
     "execution_count": 10
    }
   ],
   "source": [
    "P0.shape"
   ]
  },
  {
   "cell_type": "code",
   "execution_count": 22,
   "source": [
    "from snmfem.conf import log_shift\n",
    "from snmfem.measures import KLdiv_loss, KLdiv\n",
    "def multiplicative_step_p(X, G, P, A, positivity_bremstrahlung=False, eps=log_shift, safe=True, l2=False):\n",
    "    \"\"\"\n",
    "    Multiplicative step in P.\n",
    "    \"\"\"\n",
    "\n",
    "    if safe:\n",
    "        # Allow for very small negative values!\n",
    "        assert(np.sum(A<-log_shift/2)==0)\n",
    "        if positivity_bremstrahlung:\n",
    "            assert(np.sum(P[:-1]<0)==0)\n",
    "            assert((np.sum(P[-2:,:], axis=0)>=0).all())\n",
    "        else:\n",
    "            assert(np.sum(P<-log_shift/2)==0)\n",
    "        assert(np.sum(G<0)==0)\n",
    "\n",
    "    if l2:\n",
    "        if positivity_bremstrahlung:\n",
    "            raise NotImplementedError(\"I am not sure we need this case.\")\n",
    "        GG = G.T @ G\n",
    "        AA = A @ A.T\n",
    "        GGPAA = GG @ P @ AA\n",
    "\n",
    "        GXA = G.T @ (X @ A.T)\n",
    "\n",
    "        return P / GGPAA * GXA\n",
    "    else:\n",
    "        GP = G @ P\n",
    "        GPA = GP @ A\n",
    "        # Split to debug timing...\n",
    "        # term1 = G.T @ (X / (GPA + eps)) @ A.T\n",
    "        op1 = X / (GPA + eps)\n",
    "        \n",
    "        mult1 = G.T @ op1\n",
    "        term1 = (mult1 @ A.T)\n",
    "        term2 = np.sum(G, axis=0,  keepdims=True).T @ np.sum(A, axis=1,  keepdims=True).T\n",
    "        sol = P / term2 * term1\n",
    "        if positivity_bremstrahlung:\n",
    "            mask = np.sum(sol[-2:], axis=0)<0\n",
    "            if np.sum(mask):\n",
    "                n1 = P[-2,mask] * term1[-2,mask]\n",
    "                n2 = P[-1,mask] * term1[-1,mask]\n",
    "                d1 = term2[-2,mask]\n",
    "                d2 = term2[-1,mask]\n",
    "                lambda_ = np.expand_dims((n1*d2 + n2*d1) / (n1 + n2), axis=0)\n",
    "                # print(\"Projections {}\".format([n1, n2, d1, d2, lambda_]))\n",
    "                # print(\"Projections {}\".format(lambda_))\n",
    "                \n",
    "                sol[-2:,mask] = P[-2:,mask] / (term2[-2:,mask] - lambda_ * (1+log_shift) ) * term1[-2:,mask]\n",
    "\n",
    "        return sol"
   ],
   "outputs": [],
   "metadata": {}
  },
  {
   "cell_type": "code",
   "execution_count": 23,
   "metadata": {},
   "outputs": [
    {
     "output_type": "execute_result",
     "data": {
      "text/plain": [
       "(array([[ 1. ],\n",
       "        [-0.8]]),\n",
       " array([[ 1.1870089 ],\n",
       "        [-0.98004095]]))"
      ]
     },
     "metadata": {},
     "execution_count": 23
    }
   ],
   "source": [
    "import pytest\n",
    "\n",
    "G, P, A, X, Xdot = create_toy_problem_G_constraint(l = 2, k = 100, p = 200, c = 1, n_poisson=200, E0 = 30, force_simplex=True)\n",
    "P0 = np.array([[1,-1]]).T\n",
    "with pytest.raises(AssertionError):\n",
    "    multiplicative_step_p(X, G, P0, A, positivity_bremstrahlung=False, eps=log_shift, safe=True, l2=False)\n",
    "P0 = np.array([[-1,2]]).T\n",
    "with pytest.raises(AssertionError):\n",
    "    multiplicative_step_p(X, G, P0, A, positivity_bremstrahlung=False, eps=log_shift, safe=True, l2=False)\n",
    "\n",
    "P0 = np.array([[1,-0.8]]).T\n",
    "P0, multiplicative_step_p(X, G, P0, A, positivity_bremstrahlung=True, eps=log_shift, safe=True, l2=False)"
   ]
  },
  {
   "cell_type": "code",
   "execution_count": 24,
   "metadata": {
    "tags": []
   },
   "outputs": [
    {
     "output_type": "execute_result",
     "data": {
      "text/plain": [
       "(array([[ 1.22980749],\n",
       "        [-1.22980749]]),\n",
       " array([[ 0.70274713],\n",
       "        [-0.35137357]]))"
      ]
     },
     "metadata": {},
     "execution_count": 24
    },
    {
     "output_type": "display_data",
     "data": {
      "text/plain": "<Figure size 432x288 with 1 Axes>",
      "image/svg+xml": "<?xml version=\"1.0\" encoding=\"utf-8\" standalone=\"no\"?>\n<!DOCTYPE svg PUBLIC \"-//W3C//DTD SVG 1.1//EN\"\n  \"http://www.w3.org/Graphics/SVG/1.1/DTD/svg11.dtd\">\n<svg height=\"248.518125pt\" version=\"1.1\" viewBox=\"0 0 379.7 248.518125\" width=\"379.7pt\" xmlns=\"http://www.w3.org/2000/svg\" xmlns:xlink=\"http://www.w3.org/1999/xlink\">\n <metadata>\n  <rdf:RDF xmlns:cc=\"http://creativecommons.org/ns#\" xmlns:dc=\"http://purl.org/dc/elements/1.1/\" xmlns:rdf=\"http://www.w3.org/1999/02/22-rdf-syntax-ns#\">\n   <cc:Work>\n    <dc:type rdf:resource=\"http://purl.org/dc/dcmitype/StillImage\"/>\n    <dc:date>2021-09-06T10:38:46.722314</dc:date>\n    <dc:format>image/svg+xml</dc:format>\n    <dc:creator>\n     <cc:Agent>\n      <dc:title>Matplotlib v3.4.2, https://matplotlib.org/</dc:title>\n     </cc:Agent>\n    </dc:creator>\n   </cc:Work>\n  </rdf:RDF>\n </metadata>\n <defs>\n  <style type=\"text/css\">*{stroke-linecap:butt;stroke-linejoin:round;}</style>\n </defs>\n <g id=\"figure_1\">\n  <g id=\"patch_1\">\n   <path d=\"M 0 248.518125 \nL 379.7 248.518125 \nL 379.7 0 \nL 0 0 \nz\n\" style=\"fill:none;\"/>\n  </g>\n  <g id=\"axes_1\">\n   <g id=\"patch_2\">\n    <path d=\"M 37.7 224.64 \nL 372.5 224.64 \nL 372.5 7.2 \nL 37.7 7.2 \nz\n\" style=\"fill:#ffffff;\"/>\n   </g>\n   <g id=\"matplotlib.axis_1\">\n    <g id=\"xtick_1\">\n     <g id=\"line2d_1\">\n      <defs>\n       <path d=\"M 0 0 \nL 0 3.5 \n\" id=\"mb04329ad10\" style=\"stroke:#000000;stroke-width:0.8;\"/>\n      </defs>\n      <g>\n       <use style=\"stroke:#000000;stroke-width:0.8;\" x=\"52.918182\" xlink:href=\"#mb04329ad10\" y=\"224.64\"/>\n      </g>\n     </g>\n     <g id=\"text_1\">\n      <!-- 0 -->\n      <g transform=\"translate(49.736932 239.238438)scale(0.1 -0.1)\">\n       <defs>\n        <path d=\"M 2034 4250 \nQ 1547 4250 1301 3770 \nQ 1056 3291 1056 2328 \nQ 1056 1369 1301 889 \nQ 1547 409 2034 409 \nQ 2525 409 2770 889 \nQ 3016 1369 3016 2328 \nQ 3016 3291 2770 3770 \nQ 2525 4250 2034 4250 \nz\nM 2034 4750 \nQ 2819 4750 3233 4129 \nQ 3647 3509 3647 2328 \nQ 3647 1150 3233 529 \nQ 2819 -91 2034 -91 \nQ 1250 -91 836 529 \nQ 422 1150 422 2328 \nQ 422 3509 836 4129 \nQ 1250 4750 2034 4750 \nz\n\" id=\"DejaVuSans-30\" transform=\"scale(0.015625)\"/>\n       </defs>\n       <use xlink:href=\"#DejaVuSans-30\"/>\n      </g>\n     </g>\n    </g>\n    <g id=\"xtick_2\">\n     <g id=\"line2d_2\">\n      <g>\n       <use style=\"stroke:#000000;stroke-width:0.8;\" x=\"113.851843\" xlink:href=\"#mb04329ad10\" y=\"224.64\"/>\n      </g>\n     </g>\n     <g id=\"text_2\">\n      <!-- 200 -->\n      <g transform=\"translate(104.308093 239.238438)scale(0.1 -0.1)\">\n       <defs>\n        <path d=\"M 1228 531 \nL 3431 531 \nL 3431 0 \nL 469 0 \nL 469 531 \nQ 828 903 1448 1529 \nQ 2069 2156 2228 2338 \nQ 2531 2678 2651 2914 \nQ 2772 3150 2772 3378 \nQ 2772 3750 2511 3984 \nQ 2250 4219 1831 4219 \nQ 1534 4219 1204 4116 \nQ 875 4013 500 3803 \nL 500 4441 \nQ 881 4594 1212 4672 \nQ 1544 4750 1819 4750 \nQ 2544 4750 2975 4387 \nQ 3406 4025 3406 3419 \nQ 3406 3131 3298 2873 \nQ 3191 2616 2906 2266 \nQ 2828 2175 2409 1742 \nQ 1991 1309 1228 531 \nz\n\" id=\"DejaVuSans-32\" transform=\"scale(0.015625)\"/>\n       </defs>\n       <use xlink:href=\"#DejaVuSans-32\"/>\n       <use x=\"63.623047\" xlink:href=\"#DejaVuSans-30\"/>\n       <use x=\"127.246094\" xlink:href=\"#DejaVuSans-30\"/>\n      </g>\n     </g>\n    </g>\n    <g id=\"xtick_3\">\n     <g id=\"line2d_3\">\n      <g>\n       <use style=\"stroke:#000000;stroke-width:0.8;\" x=\"174.785504\" xlink:href=\"#mb04329ad10\" y=\"224.64\"/>\n      </g>\n     </g>\n     <g id=\"text_3\">\n      <!-- 400 -->\n      <g transform=\"translate(165.241754 239.238438)scale(0.1 -0.1)\">\n       <defs>\n        <path d=\"M 2419 4116 \nL 825 1625 \nL 2419 1625 \nL 2419 4116 \nz\nM 2253 4666 \nL 3047 4666 \nL 3047 1625 \nL 3713 1625 \nL 3713 1100 \nL 3047 1100 \nL 3047 0 \nL 2419 0 \nL 2419 1100 \nL 313 1100 \nL 313 1709 \nL 2253 4666 \nz\n\" id=\"DejaVuSans-34\" transform=\"scale(0.015625)\"/>\n       </defs>\n       <use xlink:href=\"#DejaVuSans-34\"/>\n       <use x=\"63.623047\" xlink:href=\"#DejaVuSans-30\"/>\n       <use x=\"127.246094\" xlink:href=\"#DejaVuSans-30\"/>\n      </g>\n     </g>\n    </g>\n    <g id=\"xtick_4\">\n     <g id=\"line2d_4\">\n      <g>\n       <use style=\"stroke:#000000;stroke-width:0.8;\" x=\"235.719165\" xlink:href=\"#mb04329ad10\" y=\"224.64\"/>\n      </g>\n     </g>\n     <g id=\"text_4\">\n      <!-- 600 -->\n      <g transform=\"translate(226.175415 239.238438)scale(0.1 -0.1)\">\n       <defs>\n        <path d=\"M 2113 2584 \nQ 1688 2584 1439 2293 \nQ 1191 2003 1191 1497 \nQ 1191 994 1439 701 \nQ 1688 409 2113 409 \nQ 2538 409 2786 701 \nQ 3034 994 3034 1497 \nQ 3034 2003 2786 2293 \nQ 2538 2584 2113 2584 \nz\nM 3366 4563 \nL 3366 3988 \nQ 3128 4100 2886 4159 \nQ 2644 4219 2406 4219 \nQ 1781 4219 1451 3797 \nQ 1122 3375 1075 2522 \nQ 1259 2794 1537 2939 \nQ 1816 3084 2150 3084 \nQ 2853 3084 3261 2657 \nQ 3669 2231 3669 1497 \nQ 3669 778 3244 343 \nQ 2819 -91 2113 -91 \nQ 1303 -91 875 529 \nQ 447 1150 447 2328 \nQ 447 3434 972 4092 \nQ 1497 4750 2381 4750 \nQ 2619 4750 2861 4703 \nQ 3103 4656 3366 4563 \nz\n\" id=\"DejaVuSans-36\" transform=\"scale(0.015625)\"/>\n       </defs>\n       <use xlink:href=\"#DejaVuSans-36\"/>\n       <use x=\"63.623047\" xlink:href=\"#DejaVuSans-30\"/>\n       <use x=\"127.246094\" xlink:href=\"#DejaVuSans-30\"/>\n      </g>\n     </g>\n    </g>\n    <g id=\"xtick_5\">\n     <g id=\"line2d_5\">\n      <g>\n       <use style=\"stroke:#000000;stroke-width:0.8;\" x=\"296.652826\" xlink:href=\"#mb04329ad10\" y=\"224.64\"/>\n      </g>\n     </g>\n     <g id=\"text_5\">\n      <!-- 800 -->\n      <g transform=\"translate(287.109076 239.238438)scale(0.1 -0.1)\">\n       <defs>\n        <path d=\"M 2034 2216 \nQ 1584 2216 1326 1975 \nQ 1069 1734 1069 1313 \nQ 1069 891 1326 650 \nQ 1584 409 2034 409 \nQ 2484 409 2743 651 \nQ 3003 894 3003 1313 \nQ 3003 1734 2745 1975 \nQ 2488 2216 2034 2216 \nz\nM 1403 2484 \nQ 997 2584 770 2862 \nQ 544 3141 544 3541 \nQ 544 4100 942 4425 \nQ 1341 4750 2034 4750 \nQ 2731 4750 3128 4425 \nQ 3525 4100 3525 3541 \nQ 3525 3141 3298 2862 \nQ 3072 2584 2669 2484 \nQ 3125 2378 3379 2068 \nQ 3634 1759 3634 1313 \nQ 3634 634 3220 271 \nQ 2806 -91 2034 -91 \nQ 1263 -91 848 271 \nQ 434 634 434 1313 \nQ 434 1759 690 2068 \nQ 947 2378 1403 2484 \nz\nM 1172 3481 \nQ 1172 3119 1398 2916 \nQ 1625 2713 2034 2713 \nQ 2441 2713 2670 2916 \nQ 2900 3119 2900 3481 \nQ 2900 3844 2670 4047 \nQ 2441 4250 2034 4250 \nQ 1625 4250 1398 4047 \nQ 1172 3844 1172 3481 \nz\n\" id=\"DejaVuSans-38\" transform=\"scale(0.015625)\"/>\n       </defs>\n       <use xlink:href=\"#DejaVuSans-38\"/>\n       <use x=\"63.623047\" xlink:href=\"#DejaVuSans-30\"/>\n       <use x=\"127.246094\" xlink:href=\"#DejaVuSans-30\"/>\n      </g>\n     </g>\n    </g>\n    <g id=\"xtick_6\">\n     <g id=\"line2d_6\">\n      <g>\n       <use style=\"stroke:#000000;stroke-width:0.8;\" x=\"357.586486\" xlink:href=\"#mb04329ad10\" y=\"224.64\"/>\n      </g>\n     </g>\n     <g id=\"text_6\">\n      <!-- 1000 -->\n      <g transform=\"translate(344.861486 239.238438)scale(0.1 -0.1)\">\n       <defs>\n        <path d=\"M 794 531 \nL 1825 531 \nL 1825 4091 \nL 703 3866 \nL 703 4441 \nL 1819 4666 \nL 2450 4666 \nL 2450 531 \nL 3481 531 \nL 3481 0 \nL 794 0 \nL 794 531 \nz\n\" id=\"DejaVuSans-31\" transform=\"scale(0.015625)\"/>\n       </defs>\n       <use xlink:href=\"#DejaVuSans-31\"/>\n       <use x=\"63.623047\" xlink:href=\"#DejaVuSans-30\"/>\n       <use x=\"127.246094\" xlink:href=\"#DejaVuSans-30\"/>\n       <use x=\"190.869141\" xlink:href=\"#DejaVuSans-30\"/>\n      </g>\n     </g>\n    </g>\n   </g>\n   <g id=\"matplotlib.axis_2\">\n    <g id=\"ytick_1\">\n     <g id=\"line2d_7\">\n      <defs>\n       <path d=\"M 0 0 \nL -3.5 0 \n\" id=\"m5b6b1b6587\" style=\"stroke:#000000;stroke-width:0.8;\"/>\n      </defs>\n      <g>\n       <use style=\"stroke:#000000;stroke-width:0.8;\" x=\"37.7\" xlink:href=\"#m5b6b1b6587\" y=\"98.282503\"/>\n      </g>\n     </g>\n     <g id=\"text_7\">\n      <!-- $\\mathdefault{10^{-2}}$ -->\n      <g transform=\"translate(7.2 102.081722)scale(0.1 -0.1)\">\n       <defs>\n        <path d=\"M 678 2272 \nL 4684 2272 \nL 4684 1741 \nL 678 1741 \nL 678 2272 \nz\n\" id=\"DejaVuSans-2212\" transform=\"scale(0.015625)\"/>\n       </defs>\n       <use transform=\"translate(0 0.765625)\" xlink:href=\"#DejaVuSans-31\"/>\n       <use transform=\"translate(63.623047 0.765625)\" xlink:href=\"#DejaVuSans-30\"/>\n       <use transform=\"translate(128.203125 39.046875)scale(0.7)\" xlink:href=\"#DejaVuSans-2212\"/>\n       <use transform=\"translate(186.855469 39.046875)scale(0.7)\" xlink:href=\"#DejaVuSans-32\"/>\n      </g>\n     </g>\n    </g>\n    <g id=\"ytick_2\">\n     <g id=\"line2d_8\">\n      <defs>\n       <path d=\"M 0 0 \nL -2 0 \n\" id=\"m9cbee2d219\" style=\"stroke:#000000;stroke-width:0.6;\"/>\n      </defs>\n      <g>\n       <use style=\"stroke:#000000;stroke-width:0.6;\" x=\"37.7\" xlink:href=\"#m9cbee2d219\" y=\"198.226707\"/>\n      </g>\n     </g>\n    </g>\n    <g id=\"ytick_3\">\n     <g id=\"line2d_9\">\n      <g>\n       <use style=\"stroke:#000000;stroke-width:0.6;\" x=\"37.7\" xlink:href=\"#m9cbee2d219\" y=\"174.345639\"/>\n      </g>\n     </g>\n    </g>\n    <g id=\"ytick_4\">\n     <g id=\"line2d_10\">\n      <g>\n       <use style=\"stroke:#000000;stroke-width:0.6;\" x=\"37.7\" xlink:href=\"#m9cbee2d219\" y=\"155.822044\"/>\n      </g>\n     </g>\n    </g>\n    <g id=\"ytick_5\">\n     <g id=\"line2d_11\">\n      <g>\n       <use style=\"stroke:#000000;stroke-width:0.6;\" x=\"37.7\" xlink:href=\"#m9cbee2d219\" y=\"140.687165\"/>\n      </g>\n     </g>\n    </g>\n    <g id=\"ytick_6\">\n     <g id=\"line2d_12\">\n      <g>\n       <use style=\"stroke:#000000;stroke-width:0.6;\" x=\"37.7\" xlink:href=\"#m9cbee2d219\" y=\"127.890807\"/>\n      </g>\n     </g>\n    </g>\n    <g id=\"ytick_7\">\n     <g id=\"line2d_13\">\n      <g>\n       <use style=\"stroke:#000000;stroke-width:0.6;\" x=\"37.7\" xlink:href=\"#m9cbee2d219\" y=\"116.806098\"/>\n      </g>\n     </g>\n    </g>\n    <g id=\"ytick_8\">\n     <g id=\"line2d_14\">\n      <g>\n       <use style=\"stroke:#000000;stroke-width:0.6;\" x=\"37.7\" xlink:href=\"#m9cbee2d219\" y=\"107.028691\"/>\n      </g>\n     </g>\n    </g>\n    <g id=\"ytick_9\">\n     <g id=\"line2d_15\">\n      <g>\n       <use style=\"stroke:#000000;stroke-width:0.6;\" x=\"37.7\" xlink:href=\"#m9cbee2d219\" y=\"40.742962\"/>\n      </g>\n     </g>\n    </g>\n   </g>\n   <g id=\"line2d_16\">\n    <path clip-path=\"url(#pcca155199b)\" d=\"M 52.918182 214.756364 \nL 54.441523 171.279965 \nL 55.660197 131.039706 \nL 56.87887 83.022708 \nL 57.792875 38.541481 \nL 58.097543 21.198362 \nL 58.402211 17.083636 \nL 357.281818 17.083636 \nL 357.281818 17.083636 \n\" style=\"fill:none;stroke:#1f77b4;stroke-linecap:square;stroke-width:1.5;\"/>\n   </g>\n   <g id=\"patch_3\">\n    <path d=\"M 37.7 224.64 \nL 37.7 7.2 \n\" style=\"fill:none;stroke:#000000;stroke-linecap:square;stroke-linejoin:miter;stroke-width:0.8;\"/>\n   </g>\n   <g id=\"patch_4\">\n    <path d=\"M 372.5 224.64 \nL 372.5 7.2 \n\" style=\"fill:none;stroke:#000000;stroke-linecap:square;stroke-linejoin:miter;stroke-width:0.8;\"/>\n   </g>\n   <g id=\"patch_5\">\n    <path d=\"M 37.7 224.64 \nL 372.5 224.64 \n\" style=\"fill:none;stroke:#000000;stroke-linecap:square;stroke-linejoin:miter;stroke-width:0.8;\"/>\n   </g>\n   <g id=\"patch_6\">\n    <path d=\"M 37.7 7.2 \nL 372.5 7.2 \n\" style=\"fill:none;stroke:#000000;stroke-linecap:square;stroke-linejoin:miter;stroke-width:0.8;\"/>\n   </g>\n  </g>\n </g>\n <defs>\n  <clipPath id=\"pcca155199b\">\n   <rect height=\"217.44\" width=\"334.8\" x=\"37.7\" y=\"7.2\"/>\n  </clipPath>\n </defs>\n</svg>\n",
      "image/png": "[encoded data removed]"
     },
     "metadata": {
      "needs_background": "light"
     }
    }
   ],
   "source": [
    "# G, P, A, X, Xdot = create_toy_problem_G_constraint(l = 2, k = 100, p = 200, c = 1, n_poisson=200, E0 = 30, force_simplex=True)\n",
    "G, P, A, X, Xdot = create_toy_problem_G_constraint(l = 2, k = 3, p = 1, c = 1, n_poisson=200, E0 = 30, force_simplex=True)\n",
    "# P0 = np.array([[1,-0.5], [1,-0.5], [1,-0.5]]).T\n",
    "P0 = np.array([[1,-0.7]]).T\n",
    "# P0 = P\n",
    "loss = []\n",
    "for i in range(1000):\n",
    "    P0 = multiplicative_step_p(X, G, P0, A, positivity_bremstrahlung=True, eps=log_shift, safe=True, l2=False)\n",
    "    loss.append(KLdiv(X, G@P0, A, eps=log_shift))\n",
    "plt.plot(loss)\n",
    "plt.yscale(\"log\")\n",
    "P0, P"
   ]
  },
  {
   "cell_type": "code",
   "execution_count": 25,
   "metadata": {},
   "outputs": [
    {
     "output_type": "execute_result",
     "data": {
      "text/plain": [
       "(array([[0.93699618],\n",
       "        [0.29281131],\n",
       "        [0.        ]]),\n",
       " array([[0.93699618],\n",
       "        [0.29281131],\n",
       "        [0.        ]]))"
      ]
     },
     "metadata": {},
     "execution_count": 25
    }
   ],
   "source": [
    "X, G @ P"
   ]
  },
  {
   "cell_type": "code",
   "execution_count": 248,
   "metadata": {},
   "outputs": [
    {
     "output_type": "execute_result",
     "data": {
      "text/plain": [
       "0.0"
      ]
     },
     "metadata": {},
     "execution_count": 248
    }
   ],
   "source": [
    "KLdiv(X, G@P, A, eps=log_shift)"
   ]
  },
  {
   "cell_type": "code",
   "execution_count": null,
   "metadata": {},
   "outputs": [],
   "source": []
  }
 ],
 "metadata": {
  "interpreter": {
   "hash": "1c54570ff4268047c81dd2c61765206f7b22026564b587a11579858717e9a312"
  },
  "kernelspec": {
   "name": "python3",
   "display_name": "Python 3.8.6 64-bit ('SNMF_EDXS-FwWDtlwS': pipenv)"
  },
  "language_info": {
   "codemirror_mode": {
    "name": "ipython",
    "version": 3
   },
   "file_extension": ".py",
   "mimetype": "text/x-python",
   "name": "python",
   "nbconvert_exporter": "python",
   "pygments_lexer": "ipython3",
   "version": "3.8.6"
  }
 },
 "nbformat": 4,
 "nbformat_minor": 4
}