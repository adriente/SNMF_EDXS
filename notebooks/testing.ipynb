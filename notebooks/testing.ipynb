{
 "metadata": {
  "language_info": {
   "codemirror_mode": {
    "name": "ipython",
    "version": 3
   },
   "file_extension": ".py",
   "mimetype": "text/x-python",
   "name": "python",
   "nbconvert_exporter": "python",
   "pygments_lexer": "ipython3",
   "version": "3.8.6-final"
  },
  "orig_nbformat": 2,
  "kernelspec": {
   "name": "python3",
   "display_name": "Python 3",
   "language": "python"
  }
 },
 "nbformat": 4,
 "nbformat_minor": 2,
 "cells": [
  {
   "cell_type": "code",
   "execution_count": null,
   "metadata": {},
   "outputs": [],
   "source": [
    "%load_ext autoreload\n",
    "%autoreload 2\n",
    "%matplotlib inline"
   ]
  },
  {
   "cell_type": "code",
   "execution_count": null,
   "metadata": {},
   "outputs": [],
   "source": [
    "import numpy as np\n",
    "import matplotlib.pyplot as plt\n",
    "from snmfem.estimator.nmf import NMF\n",
    "from snmfem.measures import KLdiv\n",
    "from snmfem.toy import create_toy_problem"
   ]
  },
  {
   "cell_type": "code",
   "execution_count": null,
   "metadata": {},
   "outputs": [],
   "source": [
    "l = 25\n",
    "k = 3\n",
    "p = 100\n",
    "c = 10\n",
    "n_poisson=2000\n",
    "G, P, A, X, Xdot = create_toy_problem(l, k, p, c, n_poisson)\n",
    "G.shape\n",
    "# G = np.eye(c)\n",
    "# A = np.eye(k)\n",
    "# X = G @ P @ A"
   ]
  },
  {
   "cell_type": "code",
   "execution_count": null,
   "metadata": {},
   "outputs": [],
   "source": [
    "from pyunlocbox import functions\n",
    "from pyunlocbox.solvers import mlfbf, solve\n",
    "from snmfem.conf import log_shift\n",
    "# Let us solve the following problem\n",
    "# \n",
    "# \\argmin_P  - \\sum_ij  X_ij log(GPA)_ij + (GPA)_ij  s.t. P \\geq 0\n",
    "\n",
    "# \\argmin_A  - \\sum_ij  X_ij log(GPA)_ij + (GPA)_ij + f(A) s.t. A \\geq 0\n",
    "\n",
    "\n",
    "# class smooth(functions.func):\n",
    "#     def __init__(self, G, A):\n",
    "#         self.A = A\n",
    "#         self.G = G\n",
    "#         self.nabla = np.sum(self.G.T, axis=1, keepdims=True) @ np.sum(self.A.T, axis=0, keepdims=True)\n",
    "\n",
    "#     def _eval(self, P):\n",
    "#         return np.sum(self.G @ P @ self.A)\n",
    "#     def _grad(self, P):\n",
    "#         return self.nabla\n",
    "\n",
    "# f_smooth = smooth(G, A)\n",
    "# assert(f_smooth.grad(P).shape == P.shape)\n",
    "# np.testing.assert_allclose(f_smooth.grad(P),f_smooth.grad(2*P))\n",
    "\n",
    "\n",
    "class mxlogvpv(functions.func):\n",
    "    def __init__(self, X, lambda_=1, log_shift=log_shift, **kwargs):\n",
    "        super(mxlogvpv, self).__init__(**kwargs)\n",
    "        self.lambda_ = lambda_\n",
    "        self.X = X\n",
    "        self.log_shift = log_shift\n",
    "        self.offset = np.sum(self.X * np.log(self.X+log_shift)) - np.sum(self.X)\n",
    "\n",
    "    def _eval(self, P):\n",
    "        return self.offset * (self.offset - self.lambda_ * np.sum(self.X * np.log(P+log_shift)) + np.sum(P))\n",
    "    def _prox(self, P, T):\n",
    "        gamma = self.lambda_ * T\n",
    "        delta = (P - gamma)**2 + 4 * gamma * self.X\n",
    "        return (P-gamma + np.sqrt(delta))/2\n",
    "\n",
    "def solve_P(G, A, X, **kwargs):\n",
    "    L = lambda P : G @ P @ A\n",
    "    Lt = lambda X: G.T @ X @ A.T \n",
    "\n",
    "    f = functions.proj_positive()\n",
    "    g = mxlogvpv(X)\n",
    "    h = functions.dummy()\n",
    "    beta = 0\n",
    "    mu = beta + np.linalg.norm(G,2) * np.linalg.norm(A,2)\n",
    "    step = 1 / mu / 2\n",
    "\n",
    "    x0 = np.zeros(P.shape)\n",
    "    D = np.linalg.lstsq(A.T, X.T)[0].T\n",
    "    x0 = np.abs(np.linalg.lstsq(G, D)[0])\n",
    "    d0 = np.zeros(X.shape)\n",
    "\n",
    "    solver = mlfbf(step=step, L=L, Lt=Lt, d0=d0 )\n",
    "    ret = solve([f, g, h], x0, solver, **kwargs)\n",
    "\n",
    "    sol = ret[\"sol\"], np.array(ret[\"objective\"]).sum(axis=1)\n",
    "    return sol"
   ]
  },
  {
   "cell_type": "code",
   "execution_count": null,
   "metadata": {},
   "outputs": [],
   "source": [
    "sol,  objective = solve_P(G, A, X, maxit=1000, rtol=1e-15)\n",
    "\n",
    "plt.plot(objective)\n",
    "plt.yscale(\"log\")\n",
    "\n",
    "np.linalg.norm(sol - P, \"fro\") / np.linalg.norm(P, \"fro\"), KLdiv(X, G @ sol, A)"
   ]
  },
  {
   "cell_type": "code",
   "execution_count": null,
   "metadata": {},
   "outputs": [],
   "source": [
    "sol,  objective = solve_P(G, A, Xdot, maxit=2, rtol=1e-15)\n",
    "\n",
    "plt.plot(objective)\n",
    "# plt.yscale(\"log\")\n",
    "\n",
    "np.linalg.norm(sol - P, \"fro\") / np.linalg.norm(P, \"fro\"), KLdiv(X, G @ sol, A)"
   ]
  },
  {
   "cell_type": "code",
   "execution_count": null,
   "metadata": {},
   "outputs": [],
   "source": [
    "sol"
   ]
  },
  {
   "cell_type": "code",
   "execution_count": null,
   "metadata": {},
   "outputs": [],
   "source": []
  },
  {
   "cell_type": "code",
   "execution_count": null,
   "metadata": {},
   "outputs": [],
   "source": [
    "from pyunlocbox import functions\n"
   ]
  },
  {
   "cell_type": "code",
   "execution_count": null,
   "metadata": {},
   "outputs": [],
   "source": [
    "est = NMF(G=G, n_components=k, debug=True, max_iter=200,  force_simplex=True)"
   ]
  },
  {
   "cell_type": "code",
   "execution_count": null,
   "metadata": {
    "tags": []
   },
   "outputs": [],
   "source": [
    "Ps, As = est.fit_transform(X, eval_print=20)"
   ]
  },
  {
   "cell_type": "code",
   "execution_count": null,
   "metadata": {},
   "outputs": [],
   "source": [
    "# est = NMF(G=G, n_components=k, debug=True, max_iter=2000, force_simplex=False)\n",
    "# Pss, Ass = est.fit_transform(Xdot, eval_print=200)\n",
    "# Ainit = Ass/np.sum(Ass, axis=0, keepdims=True)\n",
    "        # - 'random': non-negative random matrices, scaled with:\n",
    "        #     sqrt(X.mean() / n_components)\n",
    "        # - 'nndsvd': Nonnegative Double Singular Value Decomposition (NNDSVD)\n",
    "        #     initialization (better for sparseness)\n",
    "        # - 'nndsvda': NNDSVD with zeros filled with the average of X\n",
    "        #     (better when sparsity is not desired)\n",
    "        # - 'nndsvdar': NNDSVD with zeros filled with small random values\n",
    "        #     (generally faster, less accurate alternative to NNDSVDa\n",
    "        #     for when sparsity is not desired)\n",
    "est = NMF(G=G, n_components=k, debug=True, mu=0, max_iter=2000,tol=0, force_simplex=False, init=\"nndsvd\")\n",
    "Pss, Ass = est.fit_transform(Xdot, eval_print=200)\n",
    "# np.sum(Ass, axis=0)"
   ]
  },
  {
   "cell_type": "code",
   "execution_count": null,
   "metadata": {},
   "outputs": [],
   "source": [
    "# est = NMF(G=G, n_components=k, debug=True, max_iter=10, force_simplex=True)\n",
    "# Pss, Ass = est.fit_transform(Xdot, A=A, eval_print=1)"
   ]
  },
  {
   "cell_type": "code",
   "execution_count": null,
   "metadata": {},
   "outputs": [],
   "source": [
    "vmin = 0\n",
    "vmax = 1\n",
    "\n",
    "plt.subplot(2,1,1)\n",
    "plt.imshow(A, vmin=vmin, vmax=vmax)\n",
    "plt.colorbar()\n",
    "plt.subplot(2,1,2)\n",
    "plt.imshow(Ass, vmin=vmin, vmax=vmax)\n",
    "plt.colorbar()\n",
    "plt.show()"
   ]
  },
  {
   "cell_type": "code",
   "execution_count": null,
   "metadata": {},
   "outputs": [],
   "source": [
    "np.min(Ass)"
   ]
  },
  {
   "cell_type": "code",
   "execution_count": null,
   "metadata": {},
   "outputs": [],
   "source": []
  },
  {
   "cell_type": "code",
   "execution_count": null,
   "metadata": {},
   "outputs": [],
   "source": [
    "k = 15\n",
    "num = np.random.rand(k,23)/20\n",
    "denum = np.random.rand(k,23)\n",
    "\n",
    "def f(nu):\n",
    "    sol = 0\n",
    "    for n,d in zip(num, denum):\n",
    "        sol = sol + n/(d+nu)\n",
    "    return sol - 1"
   ]
  },
  {
   "cell_type": "code",
   "execution_count": null,
   "metadata": {},
   "outputs": [],
   "source": [
    "r = np.sum(num/denum, axis=0)\n",
    "# t = np.sum(num)\n",
    "# if r<1:\n",
    "#     bmax = 0\n",
    "# else:\n",
    "ind_min = np.argmax(num/denum, axis=0)\n",
    "ind_min2 = np.argmin(denum, axis=0)\n",
    "ind = np.arange(len(ind_min))\n",
    "\n",
    "bmin1 = num[ind_min, ind]-denum[ind_min, ind]\n",
    "bmin2 = num[ind_min2, ind]-denum[ind_min2, ind]\n",
    "bmin = np.maximum(bmin1, bmin2)\n",
    "bmax = r\n",
    "\n",
    "# nu = np.arange(bmin, bmax, 1e-3)\n",
    "# plt.plot(nu, f(nu))\n",
    "# plt.show()"
   ]
  },
  {
   "cell_type": "code",
   "execution_count": null,
   "metadata": {},
   "outputs": [],
   "source": [
    "bmin, bmax"
   ]
  },
  {
   "cell_type": "code",
   "execution_count": null,
   "metadata": {},
   "outputs": [],
   "source": [
    "bmin"
   ]
  },
  {
   "cell_type": "code",
   "execution_count": null,
   "metadata": {},
   "outputs": [],
   "source": [
    "ind_max = np.argmin(num/denum)\n",
    "num[ind_max]/denum[ind_max]"
   ]
  },
  {
   "cell_type": "code",
   "execution_count": null,
   "metadata": {},
   "outputs": [],
   "source": []
  }
 ]
}