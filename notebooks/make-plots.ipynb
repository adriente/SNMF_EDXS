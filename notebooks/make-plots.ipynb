{
 "cells": [
  {
   "cell_type": "code",
   "execution_count": null,
   "metadata": {},
   "outputs": [],
   "source": [
    "%load_ext autoreload\n",
    "%autoreload 2\n",
    "%matplotlib inline"
   ]
  },
  {
   "cell_type": "code",
   "execution_count": 7,
   "metadata": {},
   "outputs": [
    {
     "data": {
      "text/plain": [
       "<matplotlib.image.AxesImage at 0x7fe1a5cb9790>"
      ]
     },
     "execution_count": 7,
     "metadata": {},
     "output_type": "execute_result"
    },
    {
     "data": {
      "image/png": "[encoded data removed]",
      "text/plain": [
       "<Figure size 640x480 with 1 Axes>"
      ]
     },
     "metadata": {},
     "output_type": "display_data"
    }
   ],
   "source": [
    "import numpy as np\n",
    "import matplotlib.pyplot as plt\n",
    "from scipy.interpolate import interp2d\n",
    "from skimage.filters import median\n",
    "\n",
    "smooth_x = 10\n",
    "smooth_y = 12\n",
    "px, py = 28, 36\n",
    "scale_x = px/smooth_x\n",
    "scale_y = py/smooth_y\n",
    "\n",
    "\n",
    "np.random.seed(1)\n",
    "rnd = np.random.rand(smooth_x,smooth_y)\n",
    "lapl = median(median(rnd))\n",
    "f = interp2d(np.arange(smooth_x), np.arange(smooth_y), lapl.T, kind='cubic')\n",
    "res = f(np.linspace(0,smooth_x,num = px),np.linspace(0,smooth_y,num = px))\n",
    "\n",
    "\n",
    "plt.imshow(res)"
   ]
  },
  {
   "cell_type": "code",
   "execution_count": null,
   "metadata": {},
   "outputs": [],
   "source": [
    "lim = 5\n",
    "n = 100\n",
    "epsilon = lim / n\n",
    "\n",
    "x = np.arange(epsilon, lim+epsilon, epsilon)\n",
    "y = np.arange(epsilon, lim+epsilon, epsilon)\n",
    "X, Y = np.meshgrid(x, y)\n",
    "\n",
    "def f(x, y):\n",
    "    return - 2*np.log(x*y) + x*y\n",
    "\n",
    "\n",
    "plt.figure(figsize=(6,4))\n",
    "plt.imshow((f(X,Y)),extent=[epsilon, lim, epsilon, lim], cmap=plt.cm.hot, origin=\"lower\")\n",
    "plt.colorbar()\n",
    "plt.plot(x, 2/x, label=\"$arg\\min_y f(x,y)=2/x$\")\n",
    "plt.ylim([epsilon, lim])\n",
    "plt.legend()\n",
    "plt.title(\"$ f(x,y) = 2 \\log (x\\cdot y) + x\\cdot y$\");\n",
    "\n"
   ]
  },
  {
   "cell_type": "code",
   "execution_count": null,
   "metadata": {},
   "outputs": [],
   "source": [
    "# Check function for dichotomy\n",
    "lim = 10\n",
    "n = 1000\n",
    "x = np.arange(-lim, lim, 2*lim/n)\n",
    "\n",
    "def f(x):\n",
    "    return -x + np.sqrt(x**2 + 1 )\n",
    "\n",
    "\n",
    "plt.plot(x, f(x))"
   ]
  },
  {
   "cell_type": "code",
   "execution_count": null,
   "metadata": {},
   "outputs": [],
   "source": []
  }
 ],
 "metadata": {
  "kernelspec": {
   "display_name": "Python 3",
   "language": "python",
   "name": "python3"
  },
  "language_info": {
   "codemirror_mode": {
    "name": "ipython",
    "version": 3
   },
   "file_extension": ".py",
   "mimetype": "text/x-python",
   "name": "python",
   "nbconvert_exporter": "python",
   "pygments_lexer": "ipython3",
   "version": "3.8.10"
  },
  "vscode": {
   "interpreter": {
    "hash": "e7370f93d1d0cde622a1f8e1c04877d8463912d04d973331ad4851f04de6915a"
   }
  }
 },
 "nbformat": 4,
 "nbformat_minor": 2
}
