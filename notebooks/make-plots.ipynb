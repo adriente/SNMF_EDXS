{
 "cells": [
  {
   "cell_type": "code",
   "execution_count": 1,
   "metadata": {},
   "outputs": [],
   "source": [
    "%load_ext autoreload\n",
    "%autoreload 2\n",
    "%matplotlib inline"
   ]
  },
  {
   "cell_type": "code",
   "execution_count": 29,
   "metadata": {},
   "outputs": [
    {
     "ename": "ValueError",
     "evalue": "shape mismatch: objects cannot be broadcast to a single shape.  Mismatch is between arg 0 with shape (18,) and arg 1 with shape (32,).",
     "output_type": "error",
     "traceback": [
      "\u001b[0;31m---------------------------------------------------------------------------\u001b[0m",
      "\u001b[0;31mValueError\u001b[0m                                Traceback (most recent call last)",
      "Cell \u001b[0;32mIn[29], line 18\u001b[0m\n\u001b[1;32m     15\u001b[0m lapl \u001b[39m=\u001b[39m median(median(rnd))\n\u001b[1;32m     16\u001b[0m \u001b[39m# f = interp2d(np.arange(smooth_x), np.arange(smooth_y), lapl.T, kind='cubic')\u001b[39;00m\n\u001b[1;32m     17\u001b[0m \u001b[39m# f = RegularGridInterpolator(points = (np.arange(smooth_x), np.arange(smooth_y)), values = lapl, method='cubic', bounds_error=False, fill_value=None)\u001b[39;00m\n\u001b[0;32m---> 18\u001b[0m interpn(points \u001b[39m=\u001b[39;49m (np\u001b[39m.\u001b[39;49marange(smooth_x), np\u001b[39m.\u001b[39;49marange(smooth_y)), values \u001b[39m=\u001b[39;49m lapl, xi \u001b[39m=\u001b[39;49m (np\u001b[39m.\u001b[39;49mlinspace(\u001b[39m0\u001b[39;49m,smooth_x,num \u001b[39m=\u001b[39;49m px), np\u001b[39m.\u001b[39;49mlinspace(\u001b[39m0\u001b[39;49m,smooth_y,num \u001b[39m=\u001b[39;49m py)) , method\u001b[39m=\u001b[39;49m\u001b[39m'\u001b[39;49m\u001b[39mlinear\u001b[39;49m\u001b[39m'\u001b[39;49m)\n\u001b[1;32m     19\u001b[0m \u001b[39m#X, Y = np.meshgrid(np.linspace(0,smooth_x,num = px), np.linspace(0,smooth_y,num = py), indexing='ij')\u001b[39;00m\n\u001b[1;32m     20\u001b[0m \u001b[39m# res = f((X,Y))\u001b[39;00m\n\u001b[1;32m     23\u001b[0m plt\u001b[39m.\u001b[39mimshow(res)\n",
      "File \u001b[0;32m~/.local/lib/python3.8/site-packages/scipy/interpolate/_rgi.py:575\u001b[0m, in \u001b[0;36minterpn\u001b[0;34m(points, values, xi, method, bounds_error, fill_value)\u001b[0m\n\u001b[1;32m    572\u001b[0m grid \u001b[39m=\u001b[39m \u001b[39mtuple\u001b[39m([np\u001b[39m.\u001b[39masarray(p) \u001b[39mfor\u001b[39;00m p \u001b[39min\u001b[39;00m points])\n\u001b[1;32m    574\u001b[0m \u001b[39m# sanity check requested xi\u001b[39;00m\n\u001b[0;32m--> 575\u001b[0m xi \u001b[39m=\u001b[39m _ndim_coords_from_arrays(xi, ndim\u001b[39m=\u001b[39;49m\u001b[39mlen\u001b[39;49m(grid))\n\u001b[1;32m    576\u001b[0m \u001b[39mif\u001b[39;00m xi\u001b[39m.\u001b[39mshape[\u001b[39m-\u001b[39m\u001b[39m1\u001b[39m] \u001b[39m!=\u001b[39m \u001b[39mlen\u001b[39m(grid):\n\u001b[1;32m    577\u001b[0m     \u001b[39mraise\u001b[39;00m \u001b[39mValueError\u001b[39;00m(\u001b[39m\"\u001b[39m\u001b[39mThe requested sample points xi have dimension \u001b[39m\u001b[39m\"\u001b[39m\n\u001b[1;32m    578\u001b[0m                      \u001b[39m\"\u001b[39m\u001b[39m%d\u001b[39;00m\u001b[39m, but this RegularGridInterpolator has \u001b[39m\u001b[39m\"\u001b[39m\n\u001b[1;32m    579\u001b[0m                      \u001b[39m\"\u001b[39m\u001b[39mdimension \u001b[39m\u001b[39m%d\u001b[39;00m\u001b[39m\"\u001b[39m \u001b[39m%\u001b[39m (xi\u001b[39m.\u001b[39mshape[\u001b[39m1\u001b[39m], \u001b[39mlen\u001b[39m(grid)))\n",
      "File \u001b[0;32minterpnd.pyx:157\u001b[0m, in \u001b[0;36mscipy.interpolate.interpnd._ndim_coords_from_arrays\u001b[0;34m()\u001b[0m\n",
      "File \u001b[0;32minterpnd.pyx:168\u001b[0m, in \u001b[0;36mscipy.interpolate.interpnd._ndim_coords_from_arrays\u001b[0;34m()\u001b[0m\n",
      "File \u001b[0;32m<__array_function__ internals>:180\u001b[0m, in \u001b[0;36mbroadcast_arrays\u001b[0;34m(*args, **kwargs)\u001b[0m\n",
      "File \u001b[0;32m~/.local/lib/python3.8/site-packages/numpy/lib/stride_tricks.py:540\u001b[0m, in \u001b[0;36mbroadcast_arrays\u001b[0;34m(subok, *args)\u001b[0m\n\u001b[1;32m    533\u001b[0m \u001b[39m# nditer is not used here to avoid the limit of 32 arrays.\u001b[39;00m\n\u001b[1;32m    534\u001b[0m \u001b[39m# Otherwise, something like the following one-liner would suffice:\u001b[39;00m\n\u001b[1;32m    535\u001b[0m \u001b[39m# return np.nditer(args, flags=['multi_index', 'zerosize_ok'],\u001b[39;00m\n\u001b[1;32m    536\u001b[0m \u001b[39m#                  order='C').itviews\u001b[39;00m\n\u001b[1;32m    538\u001b[0m args \u001b[39m=\u001b[39m [np\u001b[39m.\u001b[39marray(_m, copy\u001b[39m=\u001b[39m\u001b[39mFalse\u001b[39;00m, subok\u001b[39m=\u001b[39msubok) \u001b[39mfor\u001b[39;00m _m \u001b[39min\u001b[39;00m args]\n\u001b[0;32m--> 540\u001b[0m shape \u001b[39m=\u001b[39m _broadcast_shape(\u001b[39m*\u001b[39;49margs)\n\u001b[1;32m    542\u001b[0m \u001b[39mif\u001b[39;00m \u001b[39mall\u001b[39m(array\u001b[39m.\u001b[39mshape \u001b[39m==\u001b[39m shape \u001b[39mfor\u001b[39;00m array \u001b[39min\u001b[39;00m args):\n\u001b[1;32m    543\u001b[0m     \u001b[39m# Common case where nothing needs to be broadcasted.\u001b[39;00m\n\u001b[1;32m    544\u001b[0m     \u001b[39mreturn\u001b[39;00m args\n",
      "File \u001b[0;32m~/.local/lib/python3.8/site-packages/numpy/lib/stride_tricks.py:422\u001b[0m, in \u001b[0;36m_broadcast_shape\u001b[0;34m(*args)\u001b[0m\n\u001b[1;32m    417\u001b[0m \u001b[39m\u001b[39m\u001b[39m\"\"\"Returns the shape of the arrays that would result from broadcasting the\u001b[39;00m\n\u001b[1;32m    418\u001b[0m \u001b[39msupplied arrays against each other.\u001b[39;00m\n\u001b[1;32m    419\u001b[0m \u001b[39m\"\"\"\u001b[39;00m\n\u001b[1;32m    420\u001b[0m \u001b[39m# use the old-iterator because np.nditer does not handle size 0 arrays\u001b[39;00m\n\u001b[1;32m    421\u001b[0m \u001b[39m# consistently\u001b[39;00m\n\u001b[0;32m--> 422\u001b[0m b \u001b[39m=\u001b[39m np\u001b[39m.\u001b[39;49mbroadcast(\u001b[39m*\u001b[39;49margs[:\u001b[39m32\u001b[39;49m])\n\u001b[1;32m    423\u001b[0m \u001b[39m# unfortunately, it cannot handle 32 or more arguments directly\u001b[39;00m\n\u001b[1;32m    424\u001b[0m \u001b[39mfor\u001b[39;00m pos \u001b[39min\u001b[39;00m \u001b[39mrange\u001b[39m(\u001b[39m32\u001b[39m, \u001b[39mlen\u001b[39m(args), \u001b[39m31\u001b[39m):\n\u001b[1;32m    425\u001b[0m     \u001b[39m# ironically, np.broadcast does not properly handle np.broadcast\u001b[39;00m\n\u001b[1;32m    426\u001b[0m     \u001b[39m# objects (it treats them as scalars)\u001b[39;00m\n\u001b[1;32m    427\u001b[0m     \u001b[39m# use broadcasting to avoid allocating the full array\u001b[39;00m\n",
      "\u001b[0;31mValueError\u001b[0m: shape mismatch: objects cannot be broadcast to a single shape.  Mismatch is between arg 0 with shape (18,) and arg 1 with shape (32,)."
     ]
    }
   ],
   "source": [
    "import numpy as np\n",
    "import matplotlib.pyplot as plt\n",
    "from scipy.interpolate import interp2d, RegularGridInterpolator, interpn\n",
    "from skimage.filters import median\n",
    "\n",
    "smooth_x = 18\n",
    "smooth_y = 32\n",
    "px, py = 18, 32\n",
    "scale_x = px/smooth_x\n",
    "scale_y = py/smooth_y\n",
    "\n",
    "\n",
    "np.random.seed(1)\n",
    "rnd = np.random.rand(smooth_x,smooth_y)\n",
    "lapl = median(median(rnd))\n",
    "# f = interp2d(np.arange(smooth_x), np.arange(smooth_y), lapl.T, kind='cubic')\n",
    "# f = RegularGridInterpolator(points = (np.arange(smooth_x), np.arange(smooth_y)), values = lapl, method='cubic', bounds_error=False, fill_value=None)\n",
    "interpn(points = (np.arange(smooth_x), np.arange(smooth_y)), values = lapl, xi = (np.linspace(0,smooth_x,num = px), np.linspace(0,smooth_y,num = py)) , method='linear')\n",
    "#X, Y = np.meshgrid(np.linspace(0,smooth_x,num = px), np.linspace(0,smooth_y,num = py), indexing='ij')\n",
    "# res = f((X,Y))\n",
    "\n",
    "\n",
    "plt.imshow(res)"
   ]
  },
  {
   "cell_type": "code",
   "execution_count": null,
   "metadata": {},
   "outputs": [],
   "source": [
    "lim = 5\n",
    "n = 100\n",
    "epsilon = lim / n\n",
    "\n",
    "x = np.arange(epsilon, lim+epsilon, epsilon)\n",
    "y = np.arange(epsilon, lim+epsilon, epsilon)\n",
    "X, Y = np.meshgrid(x, y)\n",
    "\n",
    "def f(x, y):\n",
    "    return - 2*np.log(x*y) + x*y\n",
    "\n",
    "\n",
    "plt.figure(figsize=(6,4))\n",
    "plt.imshow((f(X,Y)),extent=[epsilon, lim, epsilon, lim], cmap=plt.cm.hot, origin=\"lower\")\n",
    "plt.colorbar()\n",
    "plt.plot(x, 2/x, label=\"$arg\\min_y f(x,y)=2/x$\")\n",
    "plt.ylim([epsilon, lim])\n",
    "plt.legend()\n",
    "plt.title(\"$ f(x,y) = 2 \\log (x\\cdot y) + x\\cdot y$\");\n",
    "\n"
   ]
  },
  {
   "cell_type": "code",
   "execution_count": null,
   "metadata": {},
   "outputs": [],
   "source": [
    "# Check function for dichotomy\n",
    "lim = 10\n",
    "n = 1000\n",
    "x = np.arange(-lim, lim, 2*lim/n)\n",
    "\n",
    "def f(x):\n",
    "    return -x + np.sqrt(x**2 + 1 )\n",
    "\n",
    "\n",
    "plt.plot(x, f(x))"
   ]
  },
  {
   "cell_type": "code",
   "execution_count": null,
   "metadata": {},
   "outputs": [],
   "source": []
  }
 ],
 "metadata": {
  "kernelspec": {
   "display_name": "Python 3",
   "language": "python",
   "name": "python3"
  },
  "language_info": {
   "codemirror_mode": {
    "name": "ipython",
    "version": 3
   },
   "file_extension": ".py",
   "mimetype": "text/x-python",
   "name": "python",
   "nbconvert_exporter": "python",
   "pygments_lexer": "ipython3",
   "version": "3.8.10"
  },
  "vscode": {
   "interpreter": {
    "hash": "e7370f93d1d0cde622a1f8e1c04877d8463912d04d973331ad4851f04de6915a"
   }
  }
 },
 "nbformat": 4,
 "nbformat_minor": 2
}
