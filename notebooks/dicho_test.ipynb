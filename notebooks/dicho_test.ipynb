{
 "metadata": {
  "language_info": {
   "codemirror_mode": {
    "name": "ipython",
    "version": 3
   },
   "file_extension": ".py",
   "mimetype": "text/x-python",
   "name": "python",
   "nbconvert_exporter": "python",
   "pygments_lexer": "ipython3",
   "version": "3.8.5"
  },
  "orig_nbformat": 2,
  "kernelspec": {
   "name": "python385jvsc74a57bd0508ccdc6fb5be5f7fd5f6d84709a2756aa123300835f386535c0d36e037b0594",
   "display_name": "Python 3.8.5 64-bit ('SNMF_EDXS--pNpjmq1': pipenv)"
  }
 },
 "nbformat": 4,
 "nbformat_minor": 2,
 "cells": [
  {
   "cell_type": "code",
   "execution_count": null,
   "metadata": {},
   "outputs": [],
   "source": [
    "import snmfem.experiments as e\n",
    "import snmfem.data_analysis as da\n",
    "from snmfem.conf import SCRIPT_CONFIG_PATH,DATASETS_PATH\n",
    "from pathlib import Path\n",
    "\n",
    "json_path = SCRIPT_CONFIG_PATH / Path(\"brg_fp_gradients.json\")\n",
    "\n",
    "def run_single_exp(pos_dict,est_dict,eval_dict) :\n",
    "    file = da.load_filename(pos_dict[\"json\"])\n",
    "    Xflat, shape_2d, offset, scale, size = da.load_hs_data(file)\n",
    "    G = da.build_model(pos_dict[\"json\"], offset, scale, size)\n",
    "    experiment = da.build_analysis(pos_dict, est_dict)\n",
    "    G,P,A,losses = da.run_analysis(Xflat, G, experiment,shape_2d)\n",
    "    da.save_results(eval_dict[\"file\"], G, P, A, losses)\n",
    "\n",
    "list_inputs = [str(json_path), 'SmoothNMF', '6', '--tol', '1e-8', '-mi', '1000', '-l', '0.1']\n",
    "\n",
    "\n"
   ]
  },
  {
   "cell_type": "code",
   "execution_count": null,
   "metadata": {},
   "outputs": [],
   "source": [
    "pos, est, eval = e.experiment_parser(list_inputs)\n",
    "run_single_exp(pos,est,eval)"
   ]
  },
  {
   "cell_type": "code",
   "execution_count": null,
   "metadata": {},
   "outputs": [],
   "source": []
  }
 ]
}