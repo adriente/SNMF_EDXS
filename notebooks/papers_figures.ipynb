{
 "cells": [
  {
   "cell_type": "code",
   "execution_count": null,
   "metadata": {},
   "outputs": [],
   "source": [
    "from espm.weights import generate_weights as gw\n",
    "from espm.models import generate_EDXS_phases as edx\n",
    "from espm.datasets import base as gen\n",
    "from espm.conf import DATASETS_PATH\n",
    "from espm.estimators.smooth_nmf import SmoothNMF\n",
    "from espm.measures import find_min_config\n",
    "from sklearn.decomposition import NMF\n",
    "import matplotlib.pyplot as plt\n",
    "import numpy as np\n",
    "import hyperspy.api as hs"
   ]
  },
  {
   "attachments": {},
   "cell_type": "markdown",
   "metadata": {},
   "source": [
    "# Generate the distribution of phases\n",
    "\n",
    "The generated phases are two spherical particles embedded in a matrix material. The seed was chosen so that both particles are fully inside the field of view and there is some small overlap between the particles."
   ]
  },
  {
   "cell_type": "code",
   "execution_count": null,
   "metadata": {},
   "outputs": [],
   "source": [
    "spheres = gw.generate_weights(\"sphere\", [128,128],3,6549, radius =25.0)"
   ]
  },
  {
   "attachments": {},
   "cell_type": "markdown",
   "metadata": {},
   "source": [
    "## Plot the distribution of the phases"
   ]
  },
  {
   "cell_type": "code",
   "execution_count": null,
   "metadata": {},
   "outputs": [],
   "source": [
    "fig, ax = plt.subplots(1,3,figsize=(15,5))\n",
    "cax = fig.add_axes([0.15, 0.1, 0.2, 0.03])\n",
    "for i,weight in enumerate(spheres.T):\n",
    "    im = ax[i].imshow(weight[:,:], cmap = 'hot', vmin = 0.0, vmax = 1.0)\n",
    "    ax[i].set_title(\"Map of phase {}\".format(i+1))\n",
    "    ax[i].tick_params(axis='both', which='both', bottom=False, top=False, labelbottom=False, right=False, left=False, labelleft=False)\n",
    "fig.colorbar(im, cax=cax, orientation='horizontal')"
   ]
  },
  {
   "attachments": {},
   "cell_type": "markdown",
   "metadata": {},
   "source": [
    "# Generate the spectra of the phases\n",
    "\n",
    "The matrix corresponds to a pseudo-bridgmanite while the two other phases correspond to pseudo-Ca-perovsite and pseudo-ferropericlase."
   ]
  },
  {
   "cell_type": "code",
   "execution_count": null,
   "metadata": {},
   "outputs": [],
   "source": [
    "elts_dicts = [\n",
    "    {\n",
    "        \"Mg\" : 0.245, \"Fe\" : 0.035, \"Ca\" : 0.031, \"Si\" : 0.219, \"Al\" : 0.024, \"O\" : 0.436, \"Cu\" : 0.05, \"Hf\" : 0.01\n",
    "    },\n",
    "    {\n",
    "        \"Mg\" : 0.522, \"Fe\" : 0.104, \"O\" : 0.374, \"Cu\" : 0.05\n",
    "    },\n",
    "    {\n",
    "        \"Mg\" : 0.020, \"Fe\" : 0.018, \"Ca\" : 0.188, \"Si\" : 0.173, \"Al\" : 0.010, \"O\" : 0.572, \"Ti\" : 0.004, \"Cu\" : 0.05, \"Sm\" : 0.007, \"Lu\" : 0.006, \"Nd\" : 0.006 \n",
    "    }]\n",
    "\n",
    "brstlg_pars = [\n",
    "    {\"b0\" : 0.0003458, \"b1\" : 0.0006268},\n",
    "    {\"b0\" : 0.0001629, \"b1\" : 0.0009812},\n",
    "    {\"b0\" : 0.0007853, \"b1\" : 0.0003658}\n",
    "]\n",
    "\n",
    "model_params = {\n",
    "        \"e_offset\" : 0.3,\n",
    "        \"e_size\" : 1980,\n",
    "        \"e_scale\" : 0.01,\n",
    "        \"width_slope\" : 0.01,\n",
    "        \"width_intercept\" : 0.065,\n",
    "        \"db_name\" : \"200keV_xrays.json\",\n",
    "        \"E0\" : 200,\n",
    "        \"params_dict\" : {\n",
    "            \"Abs\" : {\n",
    "                \"thickness\" : 100.0e-7,\n",
    "                \"toa\" : 35,\n",
    "                \"density\" : 4.5,\n",
    "                \"atomic_fraction\" : False\n",
    "            },\n",
    "            \"Det\" : \"SDD_efficiency.txt\"\n",
    "        }\n",
    "    }\n",
    "\n",
    "phases = edx.generate_modular_phases (elts_dicts = elts_dicts, brstlg_pars = brstlg_pars, scales = [1,1,1], model_params = model_params, seed = 0)"
   ]
  },
  {
   "attachments": {},
   "cell_type": "markdown",
   "metadata": {},
   "source": [
    "## Plot the spectra of the phases"
   ]
  },
  {
   "cell_type": "code",
   "execution_count": null,
   "metadata": {},
   "outputs": [],
   "source": [
    "x = np.linspace(model_params[\"e_offset\"], model_params[\"e_offset\"] + model_params[\"e_size\"]*model_params[\"e_scale\"], model_params[\"e_size\"])\n",
    "fig, ax = plt.subplots(1,3,figsize=(15,5))\n",
    "for i in range(3):  \n",
    "    ax[i].plot(x,phases[i],'k')\n",
    "    ax[i].set_title(\"Phase {}\".format(i+1))\n",
    "    ax[i].set_ylabel(\"Intensity (a.u.)\")\n",
    "    ax[i].set_xlim([0,10])\n",
    "    ax[i].set_xlabel(\"Energy (keV)\")"
   ]
  },
  {
   "attachments": {},
   "cell_type": "markdown",
   "metadata": {},
   "source": [
    "# Generate the data\n",
    "\n",
    "The datacubes are generated as tensorial product of the phases by the maps.\n",
    "\n",
    "## Generate the low noise data\n",
    "\n",
    "A N = 293 is chosen to create a dataset with a strong signal to noise ratio. N = 293 means that in average (modulated by the densities, see misc_params) the number of counts per spectrum in the datacube is 293."
   ]
  },
  {
   "cell_type": "code",
   "execution_count": null,
   "metadata": {},
   "outputs": [],
   "source": [
    "misc_params = {\n",
    "    \"data_folder\" : \"spheres_paper_N293\",\n",
    "    \"shape_2d\" : (128,128),\n",
    "    \"N\" : 293,\n",
    "    \"densities\" : [1.0,0.8,1.2],\n",
    "    \"model\" : \"EDXS\",\n",
    "    \"seed\" : 42\n",
    "}\n",
    "    \n",
    "gen.generate_dataset(phases, spheres, model_params, misc_params, sample_number=5, base_seed = 42,\n",
    "                      elements = [\"O\",\"Ca\",\"Si\",\"Fe\",\"Mg\",\"Al\",\"Cu\",\"Hf\",\"Ti\",\"Sm\",\"Lu\",\"Nd\"])"
   ]
  },
  {
   "attachments": {},
   "cell_type": "markdown",
   "metadata": {},
   "source": [
    "## Generate the high noise data\n",
    "\n",
    "Here N = 18."
   ]
  },
  {
   "cell_type": "code",
   "execution_count": null,
   "metadata": {},
   "outputs": [],
   "source": [
    "misc_params = {\n",
    "    \"data_folder\" : \"spheres_paper_N18\",\n",
    "    \"shape_2d\" : (128,128),\n",
    "    \"N\" : 18,\n",
    "    \"densities\" : [1.0,0.8,1.2],\n",
    "    \"model\" : \"EDXS\",\n",
    "    \"seed\" : 42\n",
    "}\n",
    "    \n",
    "gen.generate_dataset(phases, spheres, model_params, misc_params, sample_number=5, base_seed = 42,\n",
    "                      elements = [\"O\",\"Ca\",\"Si\",\"Fe\",\"Mg\",\"Al\",\"Cu\",\"Hf\",\"Ti\",\"Sm\",\"Lu\",\"Nd\"])"
   ]
  },
  {
   "attachments": {},
   "cell_type": "markdown",
   "metadata": {},
   "source": [
    "# Analysis of the synthetic datacubes\n",
    "\n",
    "## Analysis of the low noise data\n",
    "\n",
    "### Load the generated data\n",
    "We immediately copy the data so that we can perform the decomposition twice. Once with the espm implementation of NMF and once with the scikit-learn implementation of NMF"
   ]
  },
  {
   "cell_type": "code",
   "execution_count": null,
   "metadata": {},
   "outputs": [],
   "source": [
    "espm_decomp_spim = hs.load(str(DATASETS_PATH) + \"/spheres_paper_N293/sample_0.hspy\")\n",
    "espm_decomp_spim.change_dtype(\"float64\")\n",
    "\n",
    "scikit_decomp_spim = espm_decomp_spim.deepcopy()"
   ]
  },
  {
   "attachments": {},
   "cell_type": "markdown",
   "metadata": {},
   "source": [
    "### Generate the G matrix\n",
    "\n",
    "The ```build_G``` function instensiate the G attribute. This attribute contains the G matrix used to perform the physics-based decomposition."
   ]
  },
  {
   "cell_type": "code",
   "execution_count": null,
   "metadata": {},
   "outputs": [],
   "source": [
    "espm_decomp_spim.build_G()"
   ]
  },
  {
   "attachments": {},
   "cell_type": "markdown",
   "metadata": {},
   "source": [
    "### Create the estimators objects to run the algorithms\n",
    "\n",
    "#### espm implementation\n",
    "\n",
    "Using the ```SmoothNMF``` object you can input all the parameters to perform your decomposition with the same framework as the scikit-learn one. For an explanation about the parameters see the documentation."
   ]
  },
  {
   "cell_type": "code",
   "execution_count": null,
   "metadata": {},
   "outputs": [],
   "source": [
    "espm_nmf = SmoothNMF(n_components=3,\n",
    "                    G = espm_decomp_spim.G,\n",
    "                    max_iter=10000,\n",
    "                    tol=1e-8,\n",
    "                    init = 'nndsvdar',\n",
    "                    random_state = 42,\n",
    "                    mu = 0.008,\n",
    "                    epsilon_reg = 0.01,\n",
    "                    lambda_L = 0.1,\n",
    "                    shape_2d = (128,128),\n",
    "                    normalize = True, hspy_comp = True)"
   ]
  },
  {
   "attachments": {},
   "cell_type": "markdown",
   "metadata": {},
   "source": [
    "Running the espm decomposition. /!\\ This will take a while. /!\\"
   ]
  },
  {
   "cell_type": "code",
   "execution_count": null,
   "metadata": {},
   "outputs": [],
   "source": [
    "espm_decomp_spim.decomposition(algorithm = espm_nmf)"
   ]
  },
  {
   "attachments": {},
   "cell_type": "markdown",
   "metadata": {},
   "source": [
    "### scikit-learn implementation"
   ]
  },
  {
   "cell_type": "code",
   "execution_count": null,
   "metadata": {},
   "outputs": [],
   "source": [
    "sk_nmf = NMF(n_components=3,init='nndsvdar',max_iter=10000,tol=1e-8, random_state = 42, beta_loss='kullback-leibler', solver='mu')"
   ]
  },
  {
   "attachments": {},
   "cell_type": "markdown",
   "metadata": {},
   "source": [
    "Running the scikit-learn decomposition. /!\\ This will take a while. /!\\"
   ]
  },
  {
   "cell_type": "code",
   "execution_count": null,
   "metadata": {},
   "outputs": [],
   "source": [
    "scikit_decomp_spim.decomposition(algorithm = sk_nmf)"
   ]
  },
  {
   "attachments": {},
   "cell_type": "markdown",
   "metadata": {},
   "source": [
    "### Getting the results of the decompositions\n",
    "\n",
    "We store the output of the decompositions as well as the ground truth into series of maps and spectra. We then find which map (or spectrum) correspond to which ground ground truth using `find_min_config`."
   ]
  },
  {
   "cell_type": "code",
   "execution_count": null,
   "metadata": {},
   "outputs": [],
   "source": [
    "espm_decomp_maps = espm_decomp_spim.get_decomposition_loadings().data.reshape((3,128*128))\n",
    "espm_decomp_spectra = espm_decomp_spim.get_decomposition_factors().data\n",
    "\n",
    "sk_decomp_maps = scikit_decomp_spim.get_decomposition_loadings().data.reshape((3,128*128))\n",
    "sk_decomp_spectra = scikit_decomp_spim.get_decomposition_factors().data\n",
    "\n",
    "true_maps = espm_decomp_spim.maps\n",
    "true_spectra = espm_decomp_spim.phases.T\n",
    "\n",
    "espm_config = find_min_config(true_maps, true_spectra, espm_decomp_maps, espm_decomp_spectra)[2]\n",
    "sk_config = find_min_config(true_maps, true_spectra, sk_decomp_maps, sk_decomp_spectra)[2]"
   ]
  },
  {
   "attachments": {},
   "cell_type": "markdown",
   "metadata": {},
   "source": [
    "### Plotting the results"
   ]
  },
  {
   "cell_type": "code",
   "execution_count": null,
   "metadata": {},
   "outputs": [],
   "source": [
    "fig, axs = plt.subplots(3,4,figsize=(15,9), width_ratios=[1,1,1,3])\n",
    "cax = fig.add_axes([0.23, 0.08, 0.2, 0.01])\n",
    "for i in range(3) :  \n",
    "        im = axs[i,0].imshow(true_maps[i].reshape((128,128)),cmap='hot',vmin = 0, vmax = 1.0, aspect = 'auto')\n",
    "        axs[i,0].tick_params(axis='both', which='both', bottom=False, top=False, labelbottom=False, right=False, left=False, labelleft=False)\n",
    "        axs[i,1].tick_params(axis='both', which='both', bottom=False, top=False, labelbottom=False, right=False, left=False, labelleft=False)\n",
    "        axs[i,2].tick_params(axis='both', which='both', bottom=False, top=False, labelbottom=False, right=False, left=False, labelleft=False)\n",
    "        axs[0,0].set_title(\"Ground truth\")\n",
    "        axs[i,0].set_ylabel(\"Phase {}\".format(i+1))\n",
    "        axs[i,2].imshow(espm_decomp_maps[espm_config[i]].reshape((128,128)),cmap='hot',vmin = 0, vmax = 1.0, aspect = 'auto')\n",
    "        axs[0,1].set_title(\"Scikit decomposition\")\n",
    "        axs[i,1].imshow(sk_decomp_maps[sk_config[i]].reshape((128,128)),cmap='hot',vmin = 0, vmax = 1.0, aspect = 'auto')\n",
    "        axs[0,2].set_title(\"espm decomposition\")\n",
    "        axs[i,3].plot(x,true_spectra[i] + 10,'k', label = 'Ground truth')\n",
    "        axs[i,3].plot(x,sk_decomp_spectra[sk_config[i]] + 10,'r--', label = 'Scikit decomposition')\n",
    "        axs[i,3].plot(x,true_spectra[i],'k')\n",
    "        axs[i,3].plot(x,espm_decomp_spectra[espm_config[i]],'b--', label = 'espm decomposition')\n",
    "        axs[i,3].set_xlim([0,10])\n",
    "        axs[i,3].tick_params(axis = 'y', which = 'both', left = False, labelleft = False)\n",
    "        axs[i,3].set_ylabel(\"Intensity (a.u.)\")\n",
    "        axs[0,3].legend()\n",
    "        axs[2,3].set_xlabel(\"Energy (keV)\")\n",
    "fig.colorbar(im, cax=cax, orientation='horizontal')"
   ]
  },
  {
   "attachments": {},
   "cell_type": "markdown",
   "metadata": {},
   "source": [
    "## Analysis of the high noise data\n",
    "\n",
    "In this part we follow the same steps but with adapted decomposition parameters. With that high level of noise, the results of the decompositions obviously worsen but they show that the physics modelling helps the analysis.\n",
    "\n",
    "Note that depending on the initial random state, the results vary a lot.\n",
    "\n",
    "### Load the generated data"
   ]
  },
  {
   "cell_type": "code",
   "execution_count": null,
   "metadata": {},
   "outputs": [],
   "source": [
    "espm_decomp_spim_hn = hs.load(str(DATASETS_PATH) + \"/spheres_paper_N18/sample_0.hspy\")\n",
    "espm_decomp_spim_hn.change_dtype(\"float64\")\n",
    "\n",
    "scikit_decomp_spim_hn = espm_decomp_spim_hn.deepcopy()"
   ]
  },
  {
   "attachments": {},
   "cell_type": "markdown",
   "metadata": {},
   "source": [
    "### Generate the G matrix"
   ]
  },
  {
   "cell_type": "code",
   "execution_count": null,
   "metadata": {},
   "outputs": [],
   "source": [
    "espm_decomp_spim_hn.build_G()"
   ]
  },
  {
   "attachments": {},
   "cell_type": "markdown",
   "metadata": {},
   "source": [
    "### Create the estimators objects to run the algorithms\n",
    "\n",
    "#### espm implementation"
   ]
  },
  {
   "cell_type": "code",
   "execution_count": null,
   "metadata": {},
   "outputs": [],
   "source": [
    "espm_nmf_hn = SmoothNMF(n_components=3,\n",
    "                    G = espm_decomp_spim_hn.G,\n",
    "                    max_iter=10000,\n",
    "                    tol=1e-8,\n",
    "                    init = 'random',\n",
    "                    random_state = 40,\n",
    "                    mu = 0.00,\n",
    "                    epsilon_reg = 1.0,\n",
    "                    lambda_L = 0.0,\n",
    "                    shape_2d = (128,128),\n",
    "                    normalize = True, hspy_comp = True)"
   ]
  },
  {
   "attachments": {},
   "cell_type": "markdown",
   "metadata": {},
   "source": [
    "Running the espm decomposition. /!\\ This will take a while. /!\\"
   ]
  },
  {
   "cell_type": "code",
   "execution_count": null,
   "metadata": {},
   "outputs": [],
   "source": [
    "espm_decomp_spim_hn.decomposition(algorithm = espm_nmf_hn)"
   ]
  },
  {
   "attachments": {},
   "cell_type": "markdown",
   "metadata": {},
   "source": [
    "### scikit-learn implementation"
   ]
  },
  {
   "cell_type": "code",
   "execution_count": null,
   "metadata": {},
   "outputs": [],
   "source": [
    "sk_nmf_hn = NMF(n_components=3,init='random',max_iter=10000,tol=1e-8, random_state = 40, beta_loss='kullback-leibler', solver='mu')"
   ]
  },
  {
   "attachments": {},
   "cell_type": "markdown",
   "metadata": {},
   "source": [
    "Running the scikit-learn decomposition. /!\\ This will take a while. /!\\"
   ]
  },
  {
   "cell_type": "code",
   "execution_count": null,
   "metadata": {},
   "outputs": [],
   "source": [
    "scikit_decomp_spim_hn.decomposition(algorithm = sk_nmf_hn)"
   ]
  },
  {
   "attachments": {},
   "cell_type": "markdown",
   "metadata": {},
   "source": [
    "### Getting the results of the decompositions"
   ]
  },
  {
   "cell_type": "code",
   "execution_count": null,
   "metadata": {},
   "outputs": [],
   "source": [
    "espm_decomp_maps_hn = espm_decomp_spim_hn.get_decomposition_loadings().data.reshape((3,128*128))\n",
    "espm_decomp_spectra_hn = espm_decomp_spim_hn.get_decomposition_factors().data\n",
    "\n",
    "sk_decomp_maps_hn = scikit_decomp_spim_hn.get_decomposition_loadings().data.reshape((3,128*128))\n",
    "sk_decomp_spectra_hn = scikit_decomp_spim_hn.get_decomposition_factors().data\n",
    "\n",
    "true_maps_hn = espm_decomp_spim_hn.maps\n",
    "true_spectra_hn = espm_decomp_spim_hn.phases.T\n",
    "\n",
    "espm_config_hn = find_min_config(true_maps_hn, true_spectra_hn, espm_decomp_maps_hn, espm_decomp_spectra_hn, angles = False)[2]\n",
    "sk_config_hn = find_min_config(true_maps_hn, true_spectra_hn, sk_decomp_maps_hn, sk_decomp_spectra_hn, angles = False)[2]"
   ]
  },
  {
   "attachments": {},
   "cell_type": "markdown",
   "metadata": {},
   "source": [
    "### Plotting the results"
   ]
  },
  {
   "cell_type": "code",
   "execution_count": null,
   "metadata": {},
   "outputs": [],
   "source": [
    "fig, axs = plt.subplots(3,4,figsize=(15,9), width_ratios=[1,1,1,3])\n",
    "cax = fig.add_axes([0.23, 0.08, 0.2, 0.01])\n",
    "for i in range(3) :  \n",
    "        im = axs[i,0].imshow(true_maps_hn[i].reshape((128,128)),cmap='hot',vmin = 0, vmax = 1.0, aspect = 'auto')\n",
    "        axs[i,0].tick_params(axis='both', which='both', bottom=False, top=False, labelbottom=False, right=False, left=False, labelleft=False)\n",
    "        axs[i,1].tick_params(axis='both', which='both', bottom=False, top=False, labelbottom=False, right=False, left=False, labelleft=False)\n",
    "        axs[i,2].tick_params(axis='both', which='both', bottom=False, top=False, labelbottom=False, right=False, left=False, labelleft=False)\n",
    "        axs[0,0].set_title(\"Ground truth\")\n",
    "        axs[i,0].set_ylabel(\"Phase {}\".format(i+1))\n",
    "        axs[i,2].imshow(espm_decomp_maps_hn[espm_config_hn[i]].reshape((128,128)),cmap='hot',vmin = 0, vmax = 1.0, aspect = 'auto')\n",
    "        axs[0,1].set_title(\"Scikit decomposition\")\n",
    "        axs[i,1].imshow(sk_decomp_maps_hn[sk_config_hn[i]].reshape((128,128)),cmap='hot',vmin = 0, vmax = 1.0, aspect = 'auto')\n",
    "        axs[0,2].set_title(\"espm decomposition\")\n",
    "        axs[i,3].plot(x,true_spectra_hn[i] + 2,'k', label = 'Ground truth')\n",
    "        axs[i,3].plot(x,sk_decomp_spectra_hn[sk_config_hn[i]] + 2,'r--', label = 'Scikit decomposition')\n",
    "        axs[i,3].plot(x,true_spectra_hn[i],'k')\n",
    "        axs[i,3].plot(x,espm_decomp_spectra_hn[espm_config_hn[i]],'b--', label = 'espm decomposition')\n",
    "        axs[i,3].set_xlim([0,10])\n",
    "        axs[i,3].tick_params(axis = 'y', which = 'both', left = False, labelleft = False)\n",
    "        axs[i,3].set_ylabel(\"Intensity (a.u.)\")\n",
    "        axs[0,3].legend()\n",
    "        axs[2,3].set_xlabel(\"Energy (keV)\")\n",
    "fig.colorbar(im, cax=cax, orientation='horizontal')"
   ]
  }
 ],
 "metadata": {
  "kernelspec": {
   "display_name": "espm2",
   "language": "python",
   "name": "python3"
  },
  "language_info": {
   "codemirror_mode": {
    "name": "ipython",
    "version": 3
   },
   "file_extension": ".py",
   "mimetype": "text/x-python",
   "name": "python",
   "nbconvert_exporter": "python",
   "pygments_lexer": "ipython3",
   "version": "3.10.11"
  }
 },
 "nbformat": 4,
 "nbformat_minor": 2
}
