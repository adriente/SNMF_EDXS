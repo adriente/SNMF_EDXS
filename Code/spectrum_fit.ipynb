{
 "metadata": {
  "language_info": {
   "codemirror_mode": {
    "name": "ipython",
    "version": 3
   },
   "file_extension": ".py",
   "mimetype": "text/x-python",
   "name": "python",
   "nbconvert_exporter": "python",
   "pygments_lexer": "ipython3",
   "version": "3.7.6-final"
  },
  "orig_nbformat": 2,
  "kernelspec": {
   "name": "python3",
   "display_name": "Python 3",
   "language": "python"
  }
 },
 "nbformat": 4,
 "nbformat_minor": 2,
 "cells": [
  {
   "cell_type": "code",
   "execution_count": null,
   "metadata": {},
   "outputs": [],
   "source": [
    "%matplotlib qt\n",
    "import lmfit as lm\n",
    "import numpy as np \n",
    "import utils as u\n",
    "import hyperspy.api as hs\n",
    "import matplotlib.pyplot as plt "
   ]
  },
  {
   "source": [
    "# Data loading"
   ],
   "cell_type": "markdown",
   "metadata": {}
  },
  {
   "cell_type": "code",
   "execution_count": null,
   "metadata": {},
   "outputs": [],
   "source": [
    "filename = \"Data\\\\average_spectrum_1537.hspy\"\n",
    "spectrum = hs.load(filename)\n",
    "\n",
    "y=spectrum.data\n",
    "x=np.linspace(spectrum.axes_manager[0].offset,\n",
    "spectrum.axes_manager[0].offset+spectrum.axes_manager[0].size*spectrum.axes_manager[0].scale,num=spectrum.axes_manager[0].size)"
   ]
  },
  {
   "cell_type": "code",
   "execution_count": null,
   "metadata": {},
   "outputs": [],
   "source": [
    "filename=\"Data/aspim037_N100_2ptcls_brstlg\"\n",
    "\n",
    "S=hs.load(filename+\".hspy\")\n",
    "X=S.data\n",
    "\n",
    "# This part of the spectrum image contains only pure spectra from phase 0\n",
    "# This kind of area is often available in experimental datasets\n",
    "X_part=S.inav[60:,:].data\n",
    "spectrum=hs.signals.Signal1D(np.average(X_part,axis=(0,1)))\n",
    "spectrum.axes_manager[0].offset = 0.208\n",
    "spectrum.axes_manager[0].scale = 0.01\n",
    "\n",
    "y=spectrum.data\n",
    "x=np.linspace(spectrum.axes_manager[0].offset,\n",
    "spectrum.axes_manager[0].offset+spectrum.axes_manager[0].size*spectrum.axes_manager[0].scale,num=spectrum.axes_manager[0].size)"
   ]
  },
  {
   "source": [
    "# Fitting regions\n",
    "\n",
    "## Choosing the fitting regions"
   ],
   "cell_type": "markdown",
   "metadata": {}
  },
  {
   "cell_type": "code",
   "execution_count": null,
   "metadata": {},
   "outputs": [],
   "source": [
    "spectrum.plot()\n",
    "roi1, roi2, roi3, roi4, roi5 =hs.roi.SpanROI(1,2), hs.roi.SpanROI(3,4), hs.roi.SpanROI(5,6), hs.roi.SpanROI(7,8), hs.roi.SpanROI(9,10)\n",
    "span1, span2, span3, span4, span5 = roi1.interactive(spectrum), roi2.interactive(spectrum), roi3.interactive(spectrum), roi4.interactive(spectrum), roi5.interactive(spectrum)"
   ]
  },
  {
   "source": [
    "## Saving the fitting regions"
   ],
   "cell_type": "markdown",
   "metadata": {}
  },
  {
   "cell_type": "code",
   "execution_count": null,
   "metadata": {},
   "outputs": [],
   "source": [
    "list_energies=[[roi1.left,roi1.right],[roi2.left,roi2.right],[roi3.left,roi3.right],[roi4.left,roi4.right],[roi5.left,roi5.right]]"
   ]
  },
  {
   "cell_type": "code",
   "execution_count": null,
   "metadata": {},
   "outputs": [],
   "source": [
    "list_energies =[[0.6476500000000001, 0.75265], [3.1526500000000004, 3.8676500000000003], [5.6526499999999995, 6.127649999999999], [11.46765, 12.18265], [13.12265, 15.332650000000001]]"
   ]
  },
  {
   "source": [
    "# Fitting the Data\n",
    "\n",
    "## Segmenting the data"
   ],
   "cell_type": "markdown",
   "metadata": {}
  },
  {
   "cell_type": "code",
   "execution_count": null,
   "metadata": {},
   "outputs": [],
   "source": [
    "part_x=np.linspace(list_energies[0][0],list_energies[0][1],num=round((list_energies[0][1]-list_energies[0][0])/spectrum.axes_manager[0].scale))\n",
    "part_y=spectrum.isig[list_energies[0][0]:list_energies[0][1]].data\n",
    "for elt in list_energies[1:] :\n",
    "    part_x=np.append(part_x,np.linspace(elt[0],elt[1],num=round((elt[1]-elt[0])/spectrum.axes_manager[0].scale)))\n",
    "    part_y=np.append(part_y,spectrum.isig[elt[0]:elt[1]].data)\n",
    "\n",
    "list_boola=[]\n",
    "for i in range(len(list_energies)) :\n",
    "    list_boola.append(np.empty_like(x))\n",
    "\n",
    "for i in range(len(list_energies)) :\n",
    "    for j in range(x.shape[0]) :\n",
    "        if np.logical_and(x[j]<list_energies[i][1],x[j]>list_energies[i][0]) :\n",
    "            list_boola[i][j]=True\n",
    "        else :\n",
    "            list_boola[i][j] = False\n",
    "\n",
    "sum_boola=np.zeros_like(x,dtype=bool)\n",
    "for elt in list_boola :\n",
    "    sum_boola+=elt.astype(bool)"
   ]
  },
  {
   "source": [
    "## Fitting model"
   ],
   "cell_type": "markdown",
   "metadata": {}
  },
  {
   "cell_type": "code",
   "execution_count": null,
   "metadata": {},
   "outputs": [],
   "source": [
    "from scipy.special import erfc\n",
    "\n",
    "def simple_abs_coeff (x) :\n",
    "    return 1/np.power(x,3)\n",
    "\n",
    "def brstlg (x,b0,b1,b2) :\n",
    "    return b0/x + b1 + b2*x\n",
    "\n",
    "def detector(x,c1,c2) :\n",
    "    return np.exp(-c2/np.power(x,3))*(1-np.exp(-c1/np.power(x,3)))\n",
    "\n",
    "def self_abs(x,c0) :\n",
    "    return (1-np.exp(-c0/np.power(x,3)))/(c0/np.power(x,3))\n",
    "\n",
    "def shelf (x,height,length) :\n",
    "    return height*erfc(x-length)"
   ]
  },
  {
   "source": [
    "## Setting initial parameters values"
   ],
   "cell_type": "markdown",
   "metadata": {}
  },
  {
   "cell_type": "code",
   "execution_count": null,
   "metadata": {},
   "outputs": [],
   "source": [
    "Amod = lm.Model(self_abs)\n",
    "Bmod = lm.Model(brstlg)\n",
    "Dmod = lm.Model(detector)\n",
    "Smod = lm.Model(shelf)\n",
    "\n",
    "full_mod = Amod * Bmod * Dmod #+ Smod\n",
    "pars = full_mod.make_params()\n",
    "pars[\"c0\"].set(value=0.001,min=0)\n",
    "pars[\"c1\"].set(value=1000.0,min=0)\n",
    "pars[\"c2\"].set(value = 0.1, min=0)\n",
    "pars[\"b0\"].set(value = 1.0,vary = False)\n",
    "pars[\"b1\"].set(value = -0.1)\n",
    "pars[\"b2\"].set(value = 0.001,min=0)\n",
    "# pars[\"height\"].set(value=0.000671381\t,min=0)\n",
    "# pars[\"length\"].set(value = 0.69193039,min = 0 )"
   ]
  },
  {
   "source": [
    "## Fitting Procedure"
   ],
   "cell_type": "markdown",
   "metadata": {}
  },
  {
   "cell_type": "code",
   "execution_count": null,
   "metadata": {},
   "outputs": [],
   "source": [
    "results = full_mod.fit(part_y,x=part_x,params=pars)"
   ]
  },
  {
   "source": [
    "## Plotting the results with the data"
   ],
   "cell_type": "markdown",
   "metadata": {}
  },
  {
   "cell_type": "code",
   "execution_count": null,
   "metadata": {},
   "outputs": [],
   "source": [
    "plt.plot(x,y,\"ko\",markersize=3,label=\"exp\")\n",
    "plt.fill_between(x,0,y,where=sum_boola,label=\"fit windows\",color=\"0.8\")\n",
    "plt.xlim(-0.5,20)\n",
    "plt.ylim(0,0.2)\n",
    "plt.xlabel(\"Energy (keV)\",fontsize=22)\n",
    "plt.xticks(fontsize=20)\n",
    "plt.yticks(fontsize=20)\n",
    "plt.ylabel(\"Intensity\",fontsize=22)\n",
    "plt.plot(x,results.model.eval(results.params,x=x),\"r-\",linewidth=3,label=\"fit\")\n",
    "plt.legend(fontsize=22)"
   ]
  },
  {
   "source": [
    "## Plotting the components of the model"
   ],
   "cell_type": "markdown",
   "metadata": {}
  },
  {
   "cell_type": "code",
   "execution_count": null,
   "metadata": {},
   "outputs": [],
   "source": [
    "plt.plot(x,Amod.eval(results.params,x=x),\"-.\",label=\"self abs\")\n",
    "plt.plot(x,Bmod.eval(results.params,x=x),label=\"bremsstrahlung\")\n",
    "plt.plot(x,Dmod.eval(results.params,x=x),\"--\",label=\"detector\")\n",
    "#plt.plot(x,Smod.eval(results.params,x=x),\".\",label=\"shelf\")\n",
    "#plt.plot(x,y,\"ko\",label=\"data\")\n",
    "plt.xlabel(\"Energy (keV)\",fontsize=22)\n",
    "plt.xticks(fontsize=20)\n",
    "plt.yticks(fontsize=20)\n",
    "plt.ylabel(\"Intensity\",fontsize=22)\n",
    "plt.legend(fontsize=22)\n",
    "plt.ylim(0,1.1)\n",
    "plt.xlim(0.01,20)"
   ]
  },
  {
   "cell_type": "code",
   "execution_count": null,
   "metadata": {},
   "outputs": [],
   "source": [
    "results.params"
   ]
  },
  {
   "cell_type": "code",
   "execution_count": null,
   "metadata": {},
   "outputs": [],
   "source": []
  }
 ]
}