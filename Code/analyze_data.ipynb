{
 "metadata": {
  "language_info": {
   "codemirror_mode": {
    "name": "ipython",
    "version": 3
   },
   "file_extension": ".py",
   "mimetype": "text/x-python",
   "name": "python",
   "nbconvert_exporter": "python",
   "pygments_lexer": "ipython3",
   "version": "3.7.6-final"
  },
  "orig_nbformat": 2,
  "kernelspec": {
   "name": "python3",
   "display_name": "Python 3"
  }
 },
 "nbformat": 4,
 "nbformat_minor": 2,
 "cells": [
  {
   "source": [
    "# Imports"
   ],
   "cell_type": "markdown",
   "metadata": {}
  },
  {
   "cell_type": "code",
   "execution_count": 1,
   "metadata": {},
   "outputs": [],
   "source": [
    "%matplotlib qt\n",
    "import matplotlib.pyplot as plt\n",
    "import numpy as np\n",
    "from snmf import SNMF\n",
    "import utils_V2 as u2\n",
    "# hyperspy is the commonly used library to handle spectrum images in the electron microscopy community\n",
    "import hyperspy.api as hs"
   ]
  },
  {
   "source": [
    "# Load the data"
   ],
   "cell_type": "markdown",
   "metadata": {}
  },
  {
   "cell_type": "code",
   "execution_count": 2,
   "metadata": {},
   "outputs": [],
   "source": [
    "filename=\"Data/aspim036_N150_2ptcls_brstlg\"\n",
    "\n",
    "S=hs.load(filename+\".hspy\")\n",
    "X=S.data\n",
    "\n",
    "# This part of the spectrum image contains only pure spectra from phase 0\n",
    "# This kind of area is often available in experimental datasets\n",
    "X_part=S.inav[60:,:].data"
   ]
  },
  {
   "source": [
    "# Performance assessment functions\n",
    "\n",
    "These functions are used to compare the endmembers determined by SNMF and the ground truth"
   ],
   "cell_type": "markdown",
   "metadata": {}
  },
  {
   "cell_type": "code",
   "execution_count": 3,
   "metadata": {},
   "outputs": [],
   "source": [
    "# This function will find the best matching endmember for each true spectrum. This is useful since the A and P matrice are initialized at random. \n",
    "\n",
    "# This function works but can probably greatly improved\n",
    "def find_min_angle (list_true_vectors,list_algo_vectors) :\n",
    "    # This function calculates all the possible angles between endmembers and true spectra\n",
    "    # For each true spectrum a best matching endmember is found\n",
    "    # The function returns the angles of the corresponding pairs\n",
    "    copy_algo_vectors=list_algo_vectors.copy()\n",
    "    size=list_algo_vectors[0].shape\n",
    "    ordered_angles=[]\n",
    "    for i in range(len(list_true_vectors)) :\n",
    "        list_angles=[]\n",
    "        for j in range(len(list_algo_vectors)) :\n",
    "            list_angles.append(u2.MetricsUtils.spectral_angle(list_true_vectors[i],list_algo_vectors[j]))\n",
    "        ind_min=np.argmin(np.array(list_angles))\n",
    "        list_algo_vectors[ind_min]=1e28*np.ones(size)\n",
    "        ordered_angles.append(u2.MetricsUtils.spectral_angle(list_true_vectors[i],copy_algo_vectors[ind_min]))\n",
    "    return ordered_angles\n",
    "\n",
    "# This function works but can probably greatly improved\n",
    "def find_min_MSE (list_true_maps,list_algo_maps) :\n",
    "    # This function calculates all the possible MSE between abundances and true maps\n",
    "    # For each true map a best matching abundance is found\n",
    "    # The function returns the MSE of the corresponding pairs\n",
    "    copy_algo_maps=list_algo_maps.copy()\n",
    "    size=list_algo_maps[0].shape\n",
    "    ordered_maps=[]\n",
    "    for i in range(len(list_true_maps)) :\n",
    "        list_maps=[]\n",
    "        for j in range(len(list_algo_maps)) :\n",
    "            list_maps.append(u2.MetricsUtils.MSE_map(list_true_maps[i],list_algo_maps[j]))\n",
    "        ind_min=np.argmin(np.array(list_maps))\n",
    "        list_algo_maps[ind_min]=1e28*np.ones(size)\n",
    "        ordered_maps.append(u2.MetricsUtils.MSE_map(list_true_maps[i],copy_algo_maps[ind_min]))\n",
    "    return ordered_maps\n",
    "\n",
    "# This function gives the residuals between the model determined by snmf and the data that were fitted\n",
    "def residuals (data,model) :\n",
    "    X_sum=data.sum(axis=0).sum(axis=0)\n",
    "    model_sum=model.get_phase_map(0).sum()*model.get_phase_spectrum(0)+model.get_phase_map(1).sum()*model.get_phase_spectrum(1)+model.get_phase_map(2).sum()*model.get_phase_spectrum(2)\n",
    "    return X_sum-model_sum"
   ]
  },
  {
   "source": [
    "# Parameters "
   ],
   "cell_type": "markdown",
   "metadata": {}
  },
  {
   "cell_type": "code",
   "execution_count": 4,
   "metadata": {},
   "outputs": [],
   "source": [
    "# True bremsstrahlung parameters\n",
    "c0  =  3.943136127751902\n",
    "c1  =  3.9446849862408535 \n",
    "c2  =  0.027663073842682524\n",
    "b0  =  0.1414560446115408\n",
    "b1  =  -0.1057210517202927\n",
    "b2  =  0.026461615841445782\n",
    "\n",
    "# SNMF parameters\n",
    "brstlg_pars = [b1,b2,c0,c1,c2]\n",
    "tol = 1e-4\n",
    "max_iter = 50000\n",
    "b_tol = 0.1\n",
    "mu_sparse = 0.0\n",
    "eps_sparse = 1.0\n",
    "phases = 3\n",
    "\n",
    "# Loading of ground truth\n",
    "true_spectra=[]\n",
    "true_maps=[]\n",
    "true_spectra.append(np.genfromtxt(filename+\"spectrum_p0\"))\n",
    "true_spectra.append(np.genfromtxt(filename+\"spectrum_p1\"))\n",
    "true_spectra.append(np.genfromtxt(filename+\"spectrum_p2\"))\n",
    "true_maps.append(np.load(filename+\"map_p0.npy\"))\n",
    "true_maps.append(np.load(filename+\"map_p1.npy\"))\n",
    "true_maps.append(np.load(filename+\"map_p2.npy\"))\n",
    "\n",
    "# If required the b_matr optimization can be bypassed using a brstlg input\n",
    "x_scale = u2.Gaussians().x\n",
    "brstlg = u2.Distributions.simplified_brstlg_2(x_scale,b0,b1,b2,c0,c1,c2)\n",
    "\n",
    "# If mu_sparse !=0 a good initialization of the first phase is required, it can be done using the spectrum below\n",
    "init_matrix=np.average(X_part,axis=(0,1))"
   ]
  },
  {
   "source": [
    "# SNMF"
   ],
   "cell_type": "markdown",
   "metadata": {}
  },
  {
   "cell_type": "code",
   "execution_count": 5,
   "metadata": {},
   "outputs": [],
   "source": [
    "# Creation of an SNMF object with the parameters above\n",
    "mdl = SNMF(max_iter = max_iter, tol = tol, b_tol = b_tol, mu_sparse=mu_sparse, eps_sparse = eps_sparse, num_phases=phases, bremsstrahlung=None, brstlg_pars = brstlg_pars, init_spectrum = None)"
   ]
  },
  {
   "cell_type": "code",
   "execution_count": null,
   "metadata": {},
   "outputs": [],
   "source": [
    "mdl.fit(X)"
   ]
  },
  {
   "source": [
    "# Results"
   ],
   "cell_type": "markdown",
   "metadata": {}
  },
  {
   "cell_type": "code",
   "execution_count": null,
   "metadata": {},
   "outputs": [],
   "source": [
    "# Returns the angles between the ground truth and the endmembers found using SNMF\n",
    "angles=find_min_angle(true_spectra,[mdl.get_phase_spectrum(0),mdl.get_phase_spectrum(1),mdl.get_phase_spectrum(2)])\n",
    "\n",
    "maps=find_min_MSE(true_maps,[mdl.get_phase_map(0),mdl.get_phase_map(1),mdl.get_phase_map(2)])\n",
    "\n",
    "print(\"Angle phase 0 :\",angles[0])\n",
    "print(\"Angle phase 1 :\",angles[1])\n",
    "print(\"Angle phase 2 :\",angles[2])\n",
    "print(\"MSE phase 0 :\",maps[0])\n",
    "print(\"MSE phase 1 :\",maps[1])\n",
    "print(\"MSE phase 2 :\",maps[2])"
   ]
  },
  {
   "source": [
    "### Visualisation of the results"
   ],
   "cell_type": "markdown",
   "metadata": {}
  },
  {
   "cell_type": "code",
   "execution_count": null,
   "metadata": {},
   "outputs": [],
   "source": [
    "# switch correspond to the index of the SNMF endmember\n",
    "# true correspond to the index of the true spectrum\n",
    "# The 2 should be changed independantly until a match is found\n",
    "switch = 2\n",
    "true= 2\n",
    "\n",
    "plt.rcParams.update({'font.size': 22})\n",
    "fig1 = plt.figure(figsize=(20, 12))\n",
    "plt.subplot(121)\n",
    "plt.plot(x_scale,true_spectra[true]/np.max(true_spectra[true]),'bo',label='truth',linewidth=4)\n",
    "plt.plot(x_scale, mdl.get_phase_spectrum(switch)/np.max(mdl.get_phase_spectrum(switch)),'r-',label='reconstructed',markersize=3.5)\n",
    "plt.legend(loc='best')\n",
    "plt.xlim(0, 10)\n",
    "plt.ylabel(\"Intensity\")\n",
    "\n",
    "plt.subplot(122)\n",
    "plt.imshow(mdl.get_phase_map(switch), cmap=\"viridis\")\n",
    "plt.grid(b=30)\n",
    "plt.title(f\"Activations of first spectrum\")\n",
    "plt.colorbar()\n",
    "plt.clim(0, 1)\n",
    "\n",
    "fig1.tight_layout()"
   ]
  },
  {
   "source": [
    "# Cross validation"
   ],
   "cell_type": "markdown",
   "metadata": {}
  },
  {
   "cell_type": "code",
   "execution_count": null,
   "metadata": {},
   "outputs": [],
   "source": []
  },
  {
   "cell_type": "code",
   "execution_count": null,
   "metadata": {},
   "outputs": [],
   "source": [
    "init_p_matr = np.random.rand(dl.g_matr.shape[1],dl.p_)\n",
    "init_p_matr[:,0] = (np.linalg.inv(dl.g_matr.T@dl.g_matr)@dl.g_matr.T@(true_spectra[0]-1.9*Distributions.simplified_brstlg(Gaussians().x,b0,b1,b2,c0))).clip(min=1e-5)\n",
    "init_p_matr[:,1] = (np.linalg.inv(dl.g_matr.T@dl.g_matr)@dl.g_matr.T@(true_spectra[1]-2.0 *Distributions.simplified_brstlg(Gaussians().x,b0,b1,b2,c0))).clip(min=1e-5)\n",
    "init_p_matr[:,2] = (np.linalg.inv(dl.g_matr.T@dl.g_matr)@dl.g_matr.T@(true_spectra[2]-1.7*Distributions.simplified_brstlg(Gaussians().x,b0,b1,b2,c0))).clip(min=1e-5)\n",
    "\n",
    "init_a_matr = np.random.rand(dl.p_, X.shape[0]*X.shape[1])\n",
    "init_a_matr[0,:]= true_maps[0].reshape(6400)\n",
    "init_a_matr[1,:]= true_maps[1].reshape(6400)\n",
    "init_a_matr[2,:]= true_maps[2].reshape(6400)"
   ]
  }
 ]
}