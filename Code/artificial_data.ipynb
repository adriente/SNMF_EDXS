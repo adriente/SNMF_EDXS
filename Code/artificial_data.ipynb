{
 "metadata": {
  "language_info": {
   "codemirror_mode": {
    "name": "ipython",
    "version": 3
   },
   "file_extension": ".py",
   "mimetype": "text/x-python",
   "name": "python",
   "nbconvert_exporter": "python",
   "pygments_lexer": "ipython3",
   "version": "3.7.6-final"
  },
  "orig_nbformat": 2,
  "kernelspec": {
   "name": "python3",
   "display_name": "Python 3",
   "language": "python"
  }
 },
 "nbformat": 4,
 "nbformat_minor": 2,
 "cells": [
  {
   "source": [
    "# Imports"
   ],
   "cell_type": "markdown",
   "metadata": {}
  },
  {
   "cell_type": "code",
   "execution_count": null,
   "metadata": {},
   "outputs": [],
   "source": [
    "%matplotlib qt\n",
    "import generate_data as gd\n",
    "import EDXS_model as em\n",
    "import numpy as np\n",
    "import hyperspy.api as hs\n",
    "import matplotlib.pyplot as plt"
   ]
  },
  {
   "source": [
    "# Parameters"
   ],
   "cell_type": "markdown",
   "metadata": {}
  },
  {
   "cell_type": "code",
   "execution_count": null,
   "metadata": {},
   "outputs": [],
   "source": [
    "# To save the dataset\n",
    "filename = \"aspim037_N100_2ptcls_brstlg\"\n",
    "db_path = \"Data\\\\simple_xrays.json\"\n",
    "abs_db_path = None\n",
    "abs_elt_dict = None\n",
    "\n",
    "# Continuum X-rays parameters\n",
    "# They were determine by fitting experimental data from 0.6 to 18 keV. Since low energies were incorporated, the model is only effective and not quantitative. \n",
    "brstlg_pars = {\"c0\" : 0.094,\"c1\" : 1417, \"c2\" : 1e-6, \"b0\" : 0.006, \"b1\" : -3.6e-4, \"b2\" : 4.1e-5}\n",
    "scale = 200\n",
    "\n",
    "# Average number of counts in one spectrum of the artificial data\n",
    "N = 100 \n",
    "\n",
    "# Creation of the pure spectra of the different phases.\n",
    "phase1 = em.EDXS_Model(db_path,abs_db_path,brstlg_pars)\n",
    "# Gaussians corresponding to elements\n",
    "phase1.generate_spectrum({\"8\":1.0,\"14\":0.61,\"13\":0.07,\"12\":0.51,\"20\":0.02,\"20\":0.04,\"62\":0.02,\"26\":0.028,\"60\":0.002,\"71\":0.003,\"72\":0.003,\"29\":0.01},scale)\n",
    "\n",
    "phase2 = em.EDXS_Model(db_path,abs_db_path,brstlg_pars)\n",
    "phase2.generate_spectrum({\"8\":0.54,\"12\":1.0,\"26\":0.15,\"29\":0.038,\"92\":0.0052,\"60\":0.004,\"31\":0.03,\"71\":0.003},scale)\n",
    "\n",
    "phase3 = em.EDXS_Model(db_path,abs_db_path,brstlg_pars)\n",
    "phase3.generate_spectrum({\"8\":1.0,\"14\":0.12,\"13\":0.18,\"20\":0.47,\"62\":0.04,\"26\":0.004,\"60\":0.008,\"72\":0.004,\"29\":0.01},scale)\n",
    "\n",
    "# Objects needed for the creation of data\n",
    "# list of spectra\n",
    "phases = [phase1.spectrum,phase2.spectrum,phase3.spectrum] \n",
    "# list of densities which will give different total number of events per spectra\n",
    "densities=[1.0,1.33,1.25]"
   ]
  },
  {
   "source": [
    "# Artificial data creation\n",
    "\n",
    "Note : Each function of ArtificialSpim updates the current object and adds on top. It is usually better to re-create a new object to change the artificial data settings.\n",
    "Spim corresponds to spectrum image."
   ],
   "cell_type": "markdown",
   "metadata": {}
  },
  {
   "cell_type": "code",
   "execution_count": null,
   "metadata": {},
   "outputs": [],
   "source": [
    "# Creation of an ArtificialSpim instance\n",
    "spim=gd.AritificialSpim(phases,densities,(80,80))"
   ]
  },
  {
   "cell_type": "code",
   "execution_count": null,
   "metadata": {},
   "outputs": [],
   "source": [
    "# We add two particles belonging to two different phases to the data\n",
    "spim.sphere((25,30),3.5,3.5,0.0,0.5,1)\n",
    "spim.sphere((55,30),3.5,3.5,0.0,0.5,2)"
   ]
  },
  {
   "cell_type": "code",
   "execution_count": null,
   "metadata": {},
   "outputs": [],
   "source": [
    "# Generates a noiseless version of the dataset\n",
    "spim.generate_spim_deterministic()"
   ]
  },
  {
   "cell_type": "code",
   "execution_count": null,
   "metadata": {},
   "outputs": [],
   "source": [
    "# Generate noisy spectra based on a Poisson distribution with average N\n",
    "spim.generate_spim_stochastic(N)"
   ]
  },
  {
   "cell_type": "code",
   "execution_count": null,
   "metadata": {},
   "outputs": [],
   "source": [
    "# To save the data and the ground truth under similar names\n",
    "spim.save(filename)"
   ]
  },
  {
   "source": [
    "# Data visualisation"
   ],
   "cell_type": "markdown",
   "metadata": {}
  },
  {
   "cell_type": "code",
   "execution_count": null,
   "metadata": {},
   "outputs": [],
   "source": [
    "# To visualise the pure spectrum of the first phase\n",
    "x = phase1.x\n",
    "plt.plot(x,phases[0],\"g-\",linewidth=2)\n",
    "plt.xlabel(\"Energy [keV]\")\n",
    "plt.ylabel(\"Intensity\")\n",
    "plt.rcParams.update({'font.size': 22})\n",
    "plt.tight_layout()"
   ]
  },
  {
   "source": [
    "## Interactive visualization of the created datacube\n",
    "\n",
    "3 windows will pop : \n",
    "\n",
    "1) Map of the sum of counts per pixel - A green square will be plotted as well at the top left\n",
    "\n",
    "2) Spectrum of the top left corner pixel (hyperspy built-in)\n",
    "\n",
    "3) Sum of spectra of the green area in 1)\n",
    "\n",
    "It possible to move and reshape the green area in 1) to explore the data"
   ],
   "cell_type": "markdown",
   "metadata": {}
  },
  {
   "cell_type": "code",
   "execution_count": null,
   "metadata": {},
   "outputs": [],
   "source": [
    "signal=hs.signals.Signal1D(spim.stochastic_spim)\n",
    "roi=hs.roi.RectangularROI(12,12,24,24)\n",
    "signal.plot()\n",
    "spim_ROI=roi.interactive(signal)\n",
    "    \n",
    "sum_ROI=hs.interactive(spim_ROI.sum,\n",
    "               event=spim_ROI.axes_manager.events.any_axis_changed,\n",
    "               recompute_out_event=None)\n",
    "sum_ROI.plot()"
   ]
  },
  {
   "cell_type": "code",
   "execution_count": null,
   "metadata": {},
   "outputs": [],
   "source": []
  }
 ]
}