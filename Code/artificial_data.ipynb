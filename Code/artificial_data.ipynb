{
 "metadata": {
  "language_info": {
   "codemirror_mode": {
    "name": "ipython",
    "version": 3
   },
   "file_extension": ".py",
   "mimetype": "text/x-python",
   "name": "python",
   "nbconvert_exporter": "python",
   "pygments_lexer": "ipython3",
   "version": "3.7.6-final"
  },
  "orig_nbformat": 2,
  "kernelspec": {
   "name": "python3",
   "display_name": "Python 3"
  }
 },
 "nbformat": 4,
 "nbformat_minor": 2,
 "cells": [
  {
   "source": [
    "# Imports"
   ],
   "cell_type": "markdown",
   "metadata": {}
  },
  {
   "cell_type": "code",
   "execution_count": 1,
   "metadata": {},
   "outputs": [],
   "source": [
    "%matplotlib qt\n",
    "import generate_data as gd\n",
    "import utils_V2 as u2\n",
    "import numpy as np\n",
    "import hyperspy.api as hs\n",
    "import matplotlib.pyplot as plt"
   ]
  },
  {
   "source": [
    "# Parameters"
   ],
   "cell_type": "markdown",
   "metadata": {}
  },
  {
   "cell_type": "code",
   "execution_count": 2,
   "metadata": {},
   "outputs": [],
   "source": [
    "# To save the dataset\n",
    "filename = \"aspim036_N150_2ptcls_brstlg\"\n",
    "\n",
    "# Continuum X-rays parameters\n",
    "# They were determine by fitting experimental data from 0.6 to 18 keV. Since low energies were incorporated, the model is only effective and not quantitative. \n",
    "c0  =  3.943136127751902\n",
    "c1  =  3.9446849862408535 \n",
    "c2  =  0.027663073842682524\n",
    "b0  =  0.1414560446115408\n",
    "b1  =  -0.1057210517202927\n",
    "b2  =  0.026461615841445782\n",
    "\n",
    "scale = 1.0\n",
    "method = \"simplified2\"\n",
    "\n",
    "# Average number of counts in one spectrum of the artificial data\n",
    "N = 150 \n",
    "\n",
    "# Creation of the pure spectra of the different phases.\n",
    "phase1 = u2.Gaussians()\n",
    "# Gaussians corresponding to elements\n",
    "phase1.create_spectrum({\"O-K\":1.0,\"Si-K\":0.61,\"Al-K\":0.07,\"Mg-K\":0.51,\"Ca-K\":0.02,\"Ca-L\":0.04,\"Sm-M\":0.02,\"Sm-L\":0.0025,\"Fe-K\":0.028,\"Nd-L\":0.002,\"Nd-M\":0.002,\"Lu-L\":0.003,\"Lu-M\":0.003,\"Hf-L\":0.003,\"Hf-M\":0.003,\"Cu-K\":0.01,\"Cu-L\":0.01})\n",
    "# Continuum X-rays\n",
    "phase1.add_bremsstrahlung(method,scale,b0,b1,b2,c0,c1,c2)\n",
    "\n",
    "phase2 = u2.Gaussians()\n",
    "phase2.create_spectrum({\"O-K\":0.54,\"Mg-K\":1.0,\"Fe-K\":0.15,\"Fe-L\":0.06,\"Cu-K\":0.025,\"Cu-L\":0.038,\"U-M\":0.0052,\"Nd-L\":0.004,\"Nd-M\":0.002,\"Ga-K\":0.003,\"Lu-L\":0.003,\"Lu-M\":0.003})\n",
    "phase2.add_bremsstrahlung(method,scale,b0,b1,b2,c0,c1,c2)\n",
    "\n",
    "phase3 = u2.Gaussians()\n",
    "phase3.create_spectrum({\"O-K\":1.0,\"Si-K\":0.12,\"Al-K\":0.18,\"Ca-K\":0.47,\"Ca-L\":0.47,\"Sm-M\":0.04,\"Sm-L\":0.04,\"Fe-K\":0.004,\"Nd-L\":0.008,\"Nd-M\":0.008,\"Hf-L\":0.004,\"Hf-M\":0.004,\"Cu-K\":0.01,\"Cu-L\":0.01})\n",
    "phase3.add_bremsstrahlung(method,scale,b0,b1,b2,c0,c1,c2)\n",
    "\n",
    "# Objects needed for the creation of data\n",
    "# list of spectra\n",
    "phases = [phase1.y,phase2.y,phase3.y] \n",
    "# list of densities which will give different total number of events per spectra\n",
    "densities=[1.0,1.33,1.25]"
   ]
  },
  {
   "source": [
    "# Artificial data creation\n",
    "\n",
    "Note : Each function of ArtificialSpim updates the current object and adds on top. It is usually better to re-create a new object to change the artificial data settings.\n",
    "Spim corresponds to spectrum image."
   ],
   "cell_type": "markdown",
   "metadata": {}
  },
  {
   "cell_type": "code",
   "execution_count": 11,
   "metadata": {},
   "outputs": [],
   "source": [
    "# Creation of an ArtificialSpim instance\n",
    "spim=gd.AritificialSpim(phases,densities,(80,80))"
   ]
  },
  {
   "cell_type": "code",
   "execution_count": 12,
   "metadata": {},
   "outputs": [
    {
     "output_type": "execute_result",
     "data": {
      "text/plain": [
       "array([[0., 0., 0., ..., 0., 0., 0.],\n",
       "       [0., 0., 0., ..., 0., 0., 0.],\n",
       "       [0., 0., 0., ..., 0., 0., 0.],\n",
       "       ...,\n",
       "       [0., 0., 0., ..., 0., 0., 0.],\n",
       "       [0., 0., 0., ..., 0., 0., 0.],\n",
       "       [0., 0., 0., ..., 0., 0., 0.]])"
      ]
     },
     "metadata": {},
     "execution_count": 12
    }
   ],
   "source": [
    "# We add two particles belonging to two different phases to the data\n",
    "spim.sphere((25,30),3.5,3.5,0.0,0.5,1)\n",
    "spim.sphere((55,30),3.5,3.5,0.0,0.5,2)"
   ]
  },
  {
   "cell_type": "code",
   "execution_count": 16,
   "metadata": {},
   "outputs": [
    {
     "output_type": "execute_result",
     "data": {
      "text/plain": [
       "array([[24.60468773, 24.60468773, 24.60468773, ..., 24.60468773,\n",
       "        24.60468773, 24.60468773],\n",
       "       [24.60468773, 24.60468773, 24.60468773, ..., 24.60468773,\n",
       "        24.60468773, 24.60468773],\n",
       "       [24.60468773, 24.60468773, 24.60468773, ..., 24.60468773,\n",
       "        24.60468773, 24.60468773],\n",
       "       ...,\n",
       "       [24.60468773, 24.60468773, 24.60468773, ..., 24.60468773,\n",
       "        24.60468773, 24.60468773],\n",
       "       [24.60468773, 24.60468773, 24.60468773, ..., 24.60468773,\n",
       "        24.60468773, 24.60468773],\n",
       "       [24.60468773, 24.60468773, 24.60468773, ..., 24.60468773,\n",
       "        24.60468773, 24.60468773]])"
      ]
     },
     "metadata": {},
     "execution_count": 16
    }
   ],
   "source": [
    "# Generates a noiseless version of the dataset\n",
    "spim.generate_spim_deterministic()"
   ]
  },
  {
   "cell_type": "code",
   "execution_count": 14,
   "metadata": {},
   "outputs": [],
   "source": [
    "# Generate noisy spectra based on a Poisson distribution with average N\n",
    "spim.generate_spim_stochastic(N)"
   ]
  },
  {
   "cell_type": "code",
   "execution_count": 7,
   "metadata": {},
   "outputs": [],
   "source": [
    "# To save the data and the ground truth under similar names\n",
    "spim.save(filename)"
   ]
  },
  {
   "source": [
    "# Data visualisation"
   ],
   "cell_type": "markdown",
   "metadata": {}
  },
  {
   "cell_type": "code",
   "execution_count": 8,
   "metadata": {},
   "outputs": [],
   "source": [
    "# To visualise the pure spectrum of the first phase\n",
    "x = u2.Gaussians().x\n",
    "plt.plot(x,phases[0],\"g-\",label=\"Matrix\",linewidth=2)\n",
    "plt.plot(x,u2.Distributions.simplified_brstlg_2(x,b0,b1,b2,c0,c1,c2),\"r--\",label=\"Continuum\",linewidth=2)\n",
    "plt.xlabel(\"Energy [keV]\")\n",
    "plt.ylabel(\"Intensity\")\n",
    "plt.rcParams.update({'font.size': 22})\n",
    "plt.legend()\n",
    "plt.tight_layout()"
   ]
  },
  {
   "source": [
    "## Interactive visualization of the created datacube\n",
    "\n",
    "3 windows will pop : \n",
    "\n",
    "1) Map of the sum of counts per pixel - A green square will be plotted as well at the top left\n",
    "\n",
    "2) Spectrum of the top left corner pixel (hyperspy built-in)\n",
    "\n",
    "3) Sum of spectra of the green area in 1)\n",
    "\n",
    "It possible to move and reshape the green area in 1) to explore the data"
   ],
   "cell_type": "markdown",
   "metadata": {}
  },
  {
   "cell_type": "code",
   "execution_count": 15,
   "metadata": {},
   "outputs": [
    {
     "output_type": "stream",
     "name": "stdout",
     "text": [
      "using interactive roi\n",
      "removing widget\n"
     ]
    }
   ],
   "source": [
    "signal=hs.signals.Signal1D(spim.stochastic_spim)\n",
    "roi=hs.roi.RectangularROI(12,12,24,24)\n",
    "signal.plot()\n",
    "spim_ROI=roi.interactive(signal)\n",
    "    \n",
    "sum_ROI=hs.interactive(spim_ROI.sum,\n",
    "               event=spim_ROI.axes_manager.events.any_axis_changed,\n",
    "               recompute_out_event=None)\n",
    "sum_ROI.plot()"
   ]
  }
 ]
}